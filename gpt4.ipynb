{
  "nbformat": 4,
  "nbformat_minor": 0,
  "metadata": {
    "colab": {
      "provenance": [],
      "authorship_tag": "ABX9TyPwVxYc8tEBaJL1+zzNqO6D",
      "include_colab_link": true
    },
    "kernelspec": {
      "name": "python3",
      "display_name": "Python 3"
    },
    "language_info": {
      "name": "python"
    }
  },
  "cells": [
    {
      "cell_type": "markdown",
      "metadata": {
        "id": "view-in-github",
        "colab_type": "text"
      },
      "source": [
        "<a href=\"https://colab.research.google.com/github/InowaR/colab/blob/main/gpt4.ipynb\" target=\"_parent\"><img src=\"https://colab.research.google.com/assets/colab-badge.svg\" alt=\"Open In Colab\"/></a>"
      ]
    },
    {
      "cell_type": "code",
      "source": [
        "!pip install g4f"
      ],
      "metadata": {
        "id": "nTTBiwtD10kT",
        "outputId": "50b338fc-e17c-4f7d-8466-4d214e422af6",
        "colab": {
          "base_uri": "https://localhost:8080/"
        }
      },
      "execution_count": 1,
      "outputs": [
        {
          "output_type": "stream",
          "name": "stdout",
          "text": [
            "Collecting g4f\n",
            "  Downloading g4f-0.3.1.9-py3-none-any.whl (604 kB)\n",
            "\u001b[2K     \u001b[90m━━━━━━━━━━━━━━━━━━━━━━━━━━━━━━━━━━━━━━━━\u001b[0m \u001b[32m604.3/604.3 kB\u001b[0m \u001b[31m9.6 MB/s\u001b[0m eta \u001b[36m0:00:00\u001b[0m\n",
            "\u001b[?25hRequirement already satisfied: requests in /usr/local/lib/python3.10/dist-packages (from g4f) (2.31.0)\n",
            "Requirement already satisfied: aiohttp in /usr/local/lib/python3.10/dist-packages (from g4f) (3.9.5)\n",
            "Collecting brotli (from g4f)\n",
            "  Downloading Brotli-1.1.0-cp310-cp310-manylinux_2_5_x86_64.manylinux1_x86_64.manylinux_2_12_x86_64.manylinux2010_x86_64.whl (3.0 MB)\n",
            "\u001b[2K     \u001b[90m━━━━━━━━━━━━━━━━━━━━━━━━━━━━━━━━━━━━━━━━\u001b[0m \u001b[32m3.0/3.0 MB\u001b[0m \u001b[31m24.4 MB/s\u001b[0m eta \u001b[36m0:00:00\u001b[0m\n",
            "\u001b[?25hCollecting pycryptodome (from g4f)\n",
            "  Downloading pycryptodome-3.20.0-cp35-abi3-manylinux_2_17_x86_64.manylinux2014_x86_64.whl (2.1 MB)\n",
            "\u001b[2K     \u001b[90m━━━━━━━━━━━━━━━━━━━━━━━━━━━━━━━━━━━━━━━━\u001b[0m \u001b[32m2.1/2.1 MB\u001b[0m \u001b[31m48.2 MB/s\u001b[0m eta \u001b[36m0:00:00\u001b[0m\n",
            "\u001b[?25hRequirement already satisfied: aiosignal>=1.1.2 in /usr/local/lib/python3.10/dist-packages (from aiohttp->g4f) (1.3.1)\n",
            "Requirement already satisfied: attrs>=17.3.0 in /usr/local/lib/python3.10/dist-packages (from aiohttp->g4f) (23.2.0)\n",
            "Requirement already satisfied: frozenlist>=1.1.1 in /usr/local/lib/python3.10/dist-packages (from aiohttp->g4f) (1.4.1)\n",
            "Requirement already satisfied: multidict<7.0,>=4.5 in /usr/local/lib/python3.10/dist-packages (from aiohttp->g4f) (6.0.5)\n",
            "Requirement already satisfied: yarl<2.0,>=1.0 in /usr/local/lib/python3.10/dist-packages (from aiohttp->g4f) (1.9.4)\n",
            "Requirement already satisfied: async-timeout<5.0,>=4.0 in /usr/local/lib/python3.10/dist-packages (from aiohttp->g4f) (4.0.3)\n",
            "Requirement already satisfied: charset-normalizer<4,>=2 in /usr/local/lib/python3.10/dist-packages (from requests->g4f) (3.3.2)\n",
            "Requirement already satisfied: idna<4,>=2.5 in /usr/local/lib/python3.10/dist-packages (from requests->g4f) (3.7)\n",
            "Requirement already satisfied: urllib3<3,>=1.21.1 in /usr/local/lib/python3.10/dist-packages (from requests->g4f) (2.0.7)\n",
            "Requirement already satisfied: certifi>=2017.4.17 in /usr/local/lib/python3.10/dist-packages (from requests->g4f) (2024.2.2)\n",
            "Installing collected packages: brotli, pycryptodome, g4f\n",
            "Successfully installed brotli-1.1.0 g4f-0.3.1.9 pycryptodome-3.20.0\n"
          ]
        }
      ]
    },
    {
      "cell_type": "code",
      "source": [
        "import g4f\n",
        "\n",
        "prompt =  \"\"\"Hello, can you play a simple game?\n",
        "Если я скажу 1, ответь 2.\n",
        "Если я скажу 2, ответь 1.\n",
        "Если я скажу 3, ответь 5.\n",
        "Если я скажу 6, ответь 15.\n",
        "Не используй комментарии, просто напиши число.\n",
        "6\n",
        "\"\"\"\n",
        "\n",
        "print(dir(g4f.models))\n",
        "\n",
        "response = g4f.ChatCompletion.create(\n",
        "    model=g4f.models.gpt_35_turbo_16k_0613,\n",
        "    messages=[{\"role\": \"user\", \"content\": prompt}],\n",
        ")\n",
        "\n",
        "print(int(response))"
      ],
      "metadata": {
        "colab": {
          "base_uri": "https://localhost:8080/"
        },
        "id": "1j-JTR0WvY8x",
        "outputId": "23bb6606-67f7-40a7-d1fb-b5582e06d3ac"
      },
      "execution_count": 23,
      "outputs": [
        {
          "output_type": "stream",
          "name": "stdout",
          "text": [
            "['Aichatos', 'Bing', 'Blackbox', 'ChatgptAi', 'ChatgptNext', 'Cnote', 'DeepInfra', 'DuckDuckGo', 'Ecosia', 'Feedough', 'FreeGpt', 'Gemini', 'GeminiPro', 'GigaChat', 'HuggingChat', 'HuggingFace', 'IterListProvider', 'Koala', 'Liaobots', 'MetaAI', 'Model', 'ModelUtils', 'OpenaiChat', 'PerplexityLabs', 'Pi', 'ProviderType', 'Reka', 'Replicate', 'Vercel', 'You', '__annotations__', '__builtins__', '__cached__', '__doc__', '__file__', '__loader__', '__name__', '__package__', '__spec__', '_all_models', 'annotations', 'blackbox', 'claude_3_haiku', 'claude_3_opus', 'claude_3_sonnet', 'claude_v2', 'codellama_34b_instruct', 'codellama_70b_instruct', 'command_r_plus', 'dataclass', 'dbrx_instruct', 'default', 'gemini', 'gemini_pro', 'gigachat', 'gpt_35_long', 'gpt_35_turbo', 'gpt_35_turbo_0613', 'gpt_35_turbo_16k', 'gpt_35_turbo_16k_0613', 'gpt_4', 'gpt_4_0613', 'gpt_4_32k', 'gpt_4_32k_0613', 'gpt_4_turbo', 'gpt_4o', 'llama3_70b_instruct', 'llama3_8b_instruct', 'meta', 'mistral_7b', 'mistral_7b_v02', 'mixtral_8x7b', 'pi', 'reka_core']\n",
            "15\n"
          ]
        }
      ]
    }
  ]
}