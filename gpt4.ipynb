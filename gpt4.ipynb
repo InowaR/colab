{
  "nbformat": 4,
  "nbformat_minor": 0,
  "metadata": {
    "colab": {
      "provenance": [],
      "authorship_tag": "ABX9TyP8TlyGyxwLRJ2huz55OtoE",
      "include_colab_link": true
    },
    "kernelspec": {
      "name": "python3",
      "display_name": "Python 3"
    },
    "language_info": {
      "name": "python"
    }
  },
  "cells": [
    {
      "cell_type": "markdown",
      "metadata": {
        "id": "view-in-github",
        "colab_type": "text"
      },
      "source": [
        "<a href=\"https://colab.research.google.com/github/InowaR/colab/blob/main/gpt4.ipynb\" target=\"_parent\"><img src=\"https://colab.research.google.com/assets/colab-badge.svg\" alt=\"Open In Colab\"/></a>"
      ]
    },
    {
      "cell_type": "code",
      "source": [
        "!pip install g4f"
      ],
      "metadata": {
        "id": "nTTBiwtD10kT"
      },
      "execution_count": null,
      "outputs": []
    },
    {
      "cell_type": "code",
      "source": [
        "import g4f\n",
        "\n",
        "prompt =  \"\"\"Hello, can you play a simple game?\n",
        "Если я скажу 1, ответь 2.\n",
        "Если я скажу 2, ответь 1.\n",
        "Если я скажу 3, ответь 2.\n",
        "Не используй комментарии, просто напиши число.\n",
        "1\n",
        "\"\"\"\n",
        "\n",
        "response = g4f.ChatCompletion.create(\n",
        "    model=g4f.models.gpt_4,\n",
        "    messages=[{\"role\": \"user\", \"content\": prompt}],\n",
        ")\n",
        "\n",
        "print(int(response))"
      ],
      "metadata": {
        "colab": {
          "base_uri": "https://localhost:8080/"
        },
        "id": "1j-JTR0WvY8x",
        "outputId": "19d9e921-32ad-4c87-c896-6265bbbc93b2"
      },
      "execution_count": 94,
      "outputs": [
        {
          "output_type": "stream",
          "name": "stdout",
          "text": [
            "Using RetryProvider provider and gpt-4 model\n",
            "Using Bing provider\n",
            "Bing: RuntimeError: Empty response: Failed to create conversation\n",
            "Using Liaobots provider\n",
            "2\n"
          ]
        }
      ]
    }
  ]
}