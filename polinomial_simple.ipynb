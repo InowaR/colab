{
  "nbformat": 4,
  "nbformat_minor": 0,
  "metadata": {
    "colab": {
      "provenance": [],
      "authorship_tag": "ABX9TyMRNhi0I6CKrIKevSJmbdCB",
      "include_colab_link": true
    },
    "kernelspec": {
      "name": "python3",
      "display_name": "Python 3"
    },
    "language_info": {
      "name": "python"
    }
  },
  "cells": [
    {
      "cell_type": "markdown",
      "metadata": {
        "id": "view-in-github",
        "colab_type": "text"
      },
      "source": [
        "<a href=\"https://colab.research.google.com/github/InowaR/colab/blob/main/polinomial_simple.ipynb\" target=\"_parent\"><img src=\"https://colab.research.google.com/assets/colab-badge.svg\" alt=\"Open In Colab\"/></a>"
      ]
    },
    {
      "cell_type": "code",
      "execution_count": 3,
      "metadata": {
        "colab": {
          "base_uri": "https://localhost:8080/"
        },
        "id": "Sip5wTD-NsFS",
        "outputId": "b9377808-0989-445d-ffca-7850c5cb267c"
      },
      "outputs": [
        {
          "output_type": "stream",
          "name": "stdout",
          "text": [
            "X_train:\n",
            "[[0.5 0.2 0.1 0. ]\n",
            " [0.6 0.3 0.2 0.1]\n",
            " [0.4 0.1 0.1 0. ]\n",
            " [0.7 0.4 0.6 0.3]\n",
            " [0.8 0.5 0.5 0.4]\n",
            " [0.6 0.3 0.4 0.2]\n",
            " [0.3 0.8 0.7 0.9]\n",
            " [0.4 0.9 0.8 0.8]\n",
            " [0.2 0.7 0.6 0.7]\n",
            " [0.5 0.6 0.5 0.6]]\n",
            "\n",
            "y_train:\n",
            "[0. 0. 0. 1. 1. 1. 1. 0. 1. 0.]\n",
            "\n",
            "Начальные веса:\n",
            "[-0.06498353 -0.01739916  0.06963526  0.0687026   0.05796387]\n",
            "\n",
            "\n",
            "Эпоха 0, Ошибка: 3.3627219200134277\n",
            "Эпоха 500, Ошибка: 1.5125329494476318\n",
            "Эпоха 1000, Ошибка: 1.3902866840362549\n",
            "Эпоха 1500, Ошибка: 1.3650482892990112\n",
            "Эпоха 2000, Ошибка: 1.3587884902954102\n",
            "Эпоха 2500, Ошибка: 1.3569473028182983\n",
            "Эпоха 3000, Ошибка: 1.3563144207000732\n",
            "Эпоха 3500, Ошибка: 1.3560714721679688\n",
            "Эпоха 4000, Ошибка: 1.3559730052947998\n",
            "Эпоха 4500, Ошибка: 1.3559322357177734\n",
            "Эпоха 5000, Ошибка: 1.35591459274292\n",
            "Эпоха 5500, Ошибка: 1.3559068441390991\n",
            "Эпоха 6000, Ошибка: 1.3559050559997559\n",
            "Эпоха 6500, Ошибка: 1.3559050559997559\n",
            "Эпоха 7000, Ошибка: 1.3559050559997559\n",
            "Эпоха 7500, Ошибка: 1.3559050559997559\n",
            "Эпоха 8000, Ошибка: 1.3559050559997559\n",
            "Эпоха 8500, Ошибка: 1.3559050559997559\n",
            "Эпоха 9000, Ошибка: 1.3559050559997559\n",
            "Эпоха 9500, Ошибка: 1.3559050559997559\n",
            "\n",
            "Обученные веса:\n",
            "[ 0.44128907  0.40436864 -5.522152    2.9876735   2.8026304 ]\n",
            "\n",
            "Результаты:\n",
            "[5. 2. 1. 0.] -> -0.1622 (Истинное: 0.0)\n",
            "[6. 3. 2. 1.] -> -0.0949 (Истинное: 0.0)\n",
            "[4. 1. 1. 0.] -> 0.3496 (Истинное: 0.0)\n",
            "[7. 4. 6. 3.] -> 1.1489 (Истинное: 1.0)\n",
            "[8. 5. 5. 4.] -> 0.6186 (Истинное: 1.0)\n",
            "[6. 3. 4. 2.] -> 0.7829 (Истинное: 1.0)\n",
            "[3. 8. 7. 9.] -> 0.7586 (Истинное: 1.0)\n",
            "[4. 9. 8. 8.] -> 0.2653 (Истинное: 0.0)\n",
            "[2. 7. 6. 7.] -> 0.4111 (Истинное: 1.0)\n",
            "[5. 6. 5. 6.] -> 0.5056 (Истинное: 0.0)\n"
          ]
        }
      ],
      "source": [
        "import numpy as np\n",
        "\n",
        "# Данные (X нормирован, Y — один выход 0 или 1)\n",
        "X_train = np.array([\n",
        "    [5, 2, 1, 0], [6, 3, 2, 1], [4, 1, 1, 0],\n",
        "    [7, 4, 6, 3], [8, 5, 5, 4], [6, 3, 4, 2],\n",
        "    [3, 8, 7, 9], [4, 9, 8, 8], [2, 7, 6, 7],\n",
        "    [5, 6, 5, 6]\n",
        "], dtype=np.float32) / 10.0  # Нормализация\n",
        "\n",
        "y_train = np.array([0, 0, 0, 1, 1, 1, 1, 0, 1, 0], dtype=np.float32)\n",
        "\n",
        "print(\"X_train:\")\n",
        "print(X_train)\n",
        "print(\"\\ny_train:\")\n",
        "print(y_train)\n",
        "\n",
        "# Инициализация весов (5 членов: 1, x1, x2, x3, x4)\n",
        "weights = np.random.uniform(-0.1, 0.1, size=5).astype(np.float32)\n",
        "\n",
        "print(\"\\nНачальные веса:\")\n",
        "print(weights)\n",
        "print(\"\\n\")\n",
        "\n",
        "learning_rate = 0.1\n",
        "epochs = 10000\n",
        "\n",
        "for epoch in range(epochs):\n",
        "    total_error = 0\n",
        "    for i in range(len(X_train)):\n",
        "        x = X_train[i]\n",
        "        target = y_train[i]\n",
        "\n",
        "        # Вычисление линейного полинома: prediction = w0 + w1*x1 + w2*x2 + w3*x3 + w4*x4\n",
        "        terms = np.array([1, x[0], x[1], x[2], x[3]], dtype=np.float32)\n",
        "        prediction = np.dot(terms, weights)\n",
        "        error = prediction - target\n",
        "        total_error += error ** 2\n",
        "\n",
        "        # Градиенты для каждого веса (производные по w0, w1, w2, w3, w4)\n",
        "        gradients = terms  # т.к. ∂(prediction)/∂w = term\n",
        "\n",
        "        # Обновление весов\n",
        "        weights -= learning_rate * error * gradients\n",
        "\n",
        "    if epoch % 500 == 0:\n",
        "        print(f\"Эпоха {epoch}, Ошибка: {total_error}\")\n",
        "\n",
        "print(\"\\nОбученные веса:\")\n",
        "print(weights)\n",
        "\n",
        "# Проверка\n",
        "print(\"\\nРезультаты:\")\n",
        "for i in range(len(X_train)):\n",
        "    x = X_train[i]\n",
        "    terms = np.array([1, x[0], x[1], x[2], x[3]], dtype=np.float32)\n",
        "    pred = np.dot(terms, weights)\n",
        "    print(f\"{x * 10} -> {pred:.4f} (Истинное: {y_train[i]})\")"
      ]
    }
  ]
}