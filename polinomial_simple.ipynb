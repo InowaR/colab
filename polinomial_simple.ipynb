{
  "nbformat": 4,
  "nbformat_minor": 0,
  "metadata": {
    "colab": {
      "provenance": [],
      "authorship_tag": "ABX9TyM1sMhglR6IpbgK5qNi3ToW",
      "include_colab_link": true
    },
    "kernelspec": {
      "name": "python3",
      "display_name": "Python 3"
    },
    "language_info": {
      "name": "python"
    }
  },
  "cells": [
    {
      "cell_type": "markdown",
      "metadata": {
        "id": "view-in-github",
        "colab_type": "text"
      },
      "source": [
        "<a href=\"https://colab.research.google.com/github/InowaR/colab/blob/main/polinomial_simple.ipynb\" target=\"_parent\"><img src=\"https://colab.research.google.com/assets/colab-badge.svg\" alt=\"Open In Colab\"/></a>"
      ]
    },
    {
      "cell_type": "code",
      "execution_count": 1,
      "metadata": {
        "colab": {
          "base_uri": "https://localhost:8080/"
        },
        "id": "Sip5wTD-NsFS",
        "outputId": "2cb39af4-52dc-4c24-9549-e7263e641c77"
      },
      "outputs": [
        {
          "output_type": "stream",
          "name": "stdout",
          "text": [
            "X_train:\n",
            "[[0.5 0.2 0.1 0. ]\n",
            " [0.6 0.3 0.2 0.1]\n",
            " [0.4 0.1 0.1 0. ]\n",
            " [0.7 0.4 0.6 0.3]\n",
            " [0.8 0.5 0.5 0.4]\n",
            " [0.6 0.3 0.4 0.2]\n",
            " [0.3 0.8 0.7 0.9]\n",
            " [0.4 0.9 0.8 0.8]\n",
            " [0.2 0.7 0.6 0.7]\n",
            " [0.5 0.6 0.5 0.6]]\n",
            "\n",
            "y_train:\n",
            "[0. 0. 0. 1. 1. 1. 1. 0. 1. 0.]\n",
            "\n",
            "Начальные веса:\n",
            "[ 0.08959855 -0.04593083  0.05601776  0.05222572  0.04004857]\n",
            "\n",
            "\n",
            "Эпоха 0, Ошибка: 3.1090426445007324\n",
            "Эпоха 500, Ошибка: 1.5120575428009033\n",
            "Эпоха 1000, Ошибка: 1.390214204788208\n",
            "Эпоха 1500, Ошибка: 1.36503005027771\n",
            "Эпоха 2000, Ошибка: 1.3587838411331177\n",
            "Эпоха 2500, Ошибка: 1.356945514678955\n",
            "Эпоха 3000, Ошибка: 1.3563134670257568\n",
            "Эпоха 3500, Ошибка: 1.3560714721679688\n",
            "Эпоха 4000, Ошибка: 1.3559726476669312\n",
            "Эпоха 4500, Ошибка: 1.3559316396713257\n",
            "Эпоха 5000, Ошибка: 1.355914831161499\n",
            "Эпоха 5500, Ошибка: 1.3559068441390991\n",
            "Эпоха 6000, Ошибка: 1.3559050559997559\n",
            "Эпоха 6500, Ошибка: 1.3559050559997559\n",
            "Эпоха 7000, Ошибка: 1.3559050559997559\n",
            "Эпоха 7500, Ошибка: 1.3559050559997559\n",
            "Эпоха 8000, Ошибка: 1.3559050559997559\n",
            "Эпоха 8500, Ошибка: 1.3559050559997559\n",
            "Эпоха 9000, Ошибка: 1.3559050559997559\n",
            "Эпоха 9500, Ошибка: 1.3559050559997559\n",
            "\n",
            "Обученные веса:\n",
            "[ 0.44128907  0.40436864 -5.522152    2.9876735   2.8026304 ]\n",
            "\n",
            "Результаты:\n",
            "[5. 2. 1. 0.] -> -0.1622 (Истинное: 0.0)\n",
            "[6. 3. 2. 1.] -> -0.0949 (Истинное: 0.0)\n",
            "[4. 1. 1. 0.] -> 0.3496 (Истинное: 0.0)\n",
            "[7. 4. 6. 3.] -> 1.1489 (Истинное: 1.0)\n",
            "[8. 5. 5. 4.] -> 0.6186 (Истинное: 1.0)\n",
            "[6. 3. 4. 2.] -> 0.7829 (Истинное: 1.0)\n",
            "[3. 8. 7. 9.] -> 0.7586 (Истинное: 1.0)\n",
            "[4. 9. 8. 8.] -> 0.2653 (Истинное: 0.0)\n",
            "[2. 7. 6. 7.] -> 0.4111 (Истинное: 1.0)\n",
            "[5. 6. 5. 6.] -> 0.5056 (Истинное: 0.0)\n"
          ]
        }
      ],
      "source": [
        "import numpy as np\n",
        "\n",
        "# Данные (X нормирован, Y — один выход 0 или 1)\n",
        "X_train = np.array([\n",
        "    [5, 2, 1, 0], [6, 3, 2, 1], [4, 1, 1, 0],\n",
        "    [7, 4, 6, 3], [8, 5, 5, 4], [6, 3, 4, 2],\n",
        "    [3, 8, 7, 9], [4, 9, 8, 8], [2, 7, 6, 7],\n",
        "    [5, 6, 5, 6]\n",
        "], dtype=np.float32) / 10.0  # Нормализация\n",
        "\n",
        "# Простые бинарные метки (0 или 1)\n",
        "y_train = np.array([0, 0, 0, 1, 1, 1, 1, 0, 1, 0], dtype=np.float32)\n",
        "\n",
        "print(\"X_train:\")\n",
        "print(X_train)\n",
        "print(\"\\ny_train:\")\n",
        "print(y_train)\n",
        "\n",
        "# Инициализация весового вектора (5 членов линейного полинома: 1, x1, x2, x3, x4)\n",
        "weights = np.random.uniform(-0.1, 0.1, size=5).astype(np.float32)\n",
        "\n",
        "print(\"\\nНачальные веса:\")\n",
        "print(weights)\n",
        "print(\"\\n\")\n",
        "\n",
        "learning_rate = 0.1\n",
        "epochs = 10000\n",
        "\n",
        "def compute_linear(x):\n",
        "    x1, x2, x3, x4 = x\n",
        "    terms = np.array([1, x1, x2, x3, x4], dtype=np.float32)\n",
        "    return np.dot(terms, weights)\n",
        "\n",
        "for epoch in range(epochs):\n",
        "    total_error = 0\n",
        "    for i in range(len(X_train)):\n",
        "        x = X_train[i]\n",
        "        target = y_train[i]\n",
        "\n",
        "        # Прямой проход: получаем выход\n",
        "        prediction = compute_linear(x)\n",
        "        error = prediction - target\n",
        "        total_error += error**2\n",
        "\n",
        "        # Градиенты для каждого члена полинома\n",
        "        gradients_terms = np.array([1, x[0], x[1], x[2], x[3]], dtype=np.float32)\n",
        "\n",
        "        # Обновление весов\n",
        "        weights -= learning_rate * error * gradients_terms\n",
        "\n",
        "    if epoch % 500 == 0:\n",
        "        print(f\"Эпоха {epoch}, Ошибка: {total_error}\")\n",
        "\n",
        "print(\"\\nОбученные веса:\")\n",
        "print(weights)\n",
        "\n",
        "# Проверка\n",
        "print(\"\\nРезультаты:\")\n",
        "for i in range(len(X_train)):\n",
        "    x = X_train[i]\n",
        "    pred = compute_linear(x)\n",
        "    print(f\"{x*10} -> {pred:.4f} (Истинное: {y_train[i]})\")"
      ]
    }
  ]
}