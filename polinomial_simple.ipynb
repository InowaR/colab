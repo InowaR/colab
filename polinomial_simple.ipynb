{
  "nbformat": 4,
  "nbformat_minor": 0,
  "metadata": {
    "colab": {
      "provenance": [],
      "authorship_tag": "ABX9TyMTKC2pSfagm3HR34+DpO9E",
      "include_colab_link": true
    },
    "kernelspec": {
      "name": "python3",
      "display_name": "Python 3"
    },
    "language_info": {
      "name": "python"
    }
  },
  "cells": [
    {
      "cell_type": "markdown",
      "metadata": {
        "id": "view-in-github",
        "colab_type": "text"
      },
      "source": [
        "<a href=\"https://colab.research.google.com/github/InowaR/colab/blob/main/polinomial_simple.ipynb\" target=\"_parent\"><img src=\"https://colab.research.google.com/assets/colab-badge.svg\" alt=\"Open In Colab\"/></a>"
      ]
    },
    {
      "cell_type": "code",
      "execution_count": 16,
      "metadata": {
        "colab": {
          "base_uri": "https://localhost:8080/"
        },
        "id": "Sip5wTD-NsFS",
        "outputId": "2382a901-0e40-4f59-d10e-65e856bb19f0"
      },
      "outputs": [
        {
          "output_type": "stream",
          "name": "stdout",
          "text": [
            "X_train:\n",
            "[[0.5 0.2 0.1 0. ]\n",
            " [0.6 0.3 0.2 0.1]\n",
            " [0.4 0.1 0.1 0. ]\n",
            " [0.7 0.4 0.6 0.3]\n",
            " [0.8 0.5 0.5 0.4]\n",
            " [0.6 0.3 0.4 0.2]\n",
            " [0.3 0.8 0.7 0.9]\n",
            " [0.4 0.9 0.8 0.8]\n",
            " [0.2 0.7 0.6 0.7]]\n",
            "\n",
            "y_train:\n",
            "[0. 0. 0. 1. 1. 1. 1. 0. 1.]\n",
            "\n",
            "Начальные веса:\n",
            "[-0.01309192 -0.08581145 -0.05158012  0.0292474  -0.07811698]\n",
            "\n",
            "\n",
            "Эпоха 0, Ошибка: 3.4911158084869385\n",
            "Эпоха 500, Ошибка: 0.9781957864761353\n",
            "Эпоха 1000, Ошибка: 0.7724632024765015\n",
            "Эпоха 1500, Ошибка: 0.7183164358139038\n",
            "Эпоха 2000, Ошибка: 0.7021081447601318\n",
            "Эпоха 2500, Ошибка: 0.6966086626052856\n",
            "Эпоха 3000, Ошибка: 0.6944998502731323\n",
            "Эпоха 3500, Ошибка: 0.6936099529266357\n",
            "Эпоха 4000, Ошибка: 0.6932099461555481\n",
            "Эпоха 4500, Ошибка: 0.6930245757102966\n",
            "Эпоха 5000, Ошибка: 0.6929359436035156\n",
            "Эпоха 5500, Ошибка: 0.6928939819335938\n",
            "Эпоха 6000, Ошибка: 0.6928738355636597\n",
            "Эпоха 6500, Ошибка: 0.6928644180297852\n",
            "Эпоха 7000, Ошибка: 0.6928602457046509\n",
            "Эпоха 7500, Ошибка: 0.6928602457046509\n",
            "Эпоха 8000, Ошибка: 0.6928602457046509\n",
            "Эпоха 8500, Ошибка: 0.6928602457046509\n",
            "Эпоха 9000, Ошибка: 0.6928602457046509\n",
            "Эпоха 9500, Ошибка: 0.6928602457046509\n",
            "\n",
            "Обученные веса:\n",
            "[ 0.38000336  1.1639816  -6.2240186   1.5708383   4.8351154 ]\n",
            "\n",
            "Результаты:\n",
            "[5. 2. 1. 0.] -> -0.1257 (Истинное: 0.0)\n",
            "[6. 3. 2. 1.] -> 0.0089 (Истинное: 0.0)\n",
            "[4. 1. 1. 0.] -> 0.3803 (Истинное: 0.0)\n",
            "[7. 4. 6. 3.] -> 1.0982 (Истинное: 1.0)\n",
            "[8. 5. 5. 4.] -> 0.9186 (Истинное: 1.0)\n",
            "[6. 3. 4. 2.] -> 0.8065 (Истинное: 1.0)\n",
            "[3. 8. 7. 9.] -> 1.2012 (Истинное: 1.0)\n",
            "[4. 9. 8. 8.] -> 0.3687 (Истинное: 0.0)\n",
            "[2. 7. 6. 7.] -> 0.5831 (Истинное: 1.0)\n"
          ]
        }
      ],
      "source": [
        "import numpy as np\n",
        "\n",
        "# Данные (X нормирован, Y — один выход 0 или 1)\n",
        "X_train = np.array([\n",
        "    [5, 2, 1, 0], [6, 3, 2, 1], [4, 1, 1, 0],\n",
        "    [7, 4, 6, 3], [8, 5, 5, 4], [6, 3, 4, 2],\n",
        "    [3, 8, 7, 9], [4, 9, 8, 8], [2, 7, 6, 7],\n",
        "], dtype=np.float32) / 10.0  # Нормализация\n",
        "\n",
        "y_train = np.array([0, 0, 0, 1, 1, 1, 1, 0, 1], dtype=np.float32)\n",
        "\n",
        "print(\"X_train:\")\n",
        "print(X_train)\n",
        "print(\"\\ny_train:\")\n",
        "print(y_train)\n",
        "\n",
        "# Инициализация весов (5 членов: 1, x1, x2, x3, x4)\n",
        "weights = np.random.uniform(-0.1, 0.1, size=5).astype(np.float32)\n",
        "\n",
        "print(\"\\nНачальные веса:\")\n",
        "print(weights)\n",
        "print(\"\\n\")\n",
        "\n",
        "learning_rate = 0.1\n",
        "epochs = 10000\n",
        "\n",
        "for epoch in range(epochs):\n",
        "    total_error = 0\n",
        "    for i in range(len(X_train)):\n",
        "        x = X_train[i]\n",
        "        target = y_train[i]\n",
        "\n",
        "        # Вычисление линейного полинома: prediction = w0 + w1*x1 + w2*x2 + w3*x3 + w4*x4\n",
        "        terms = np.array([1, x[0], x[1], x[2], x[3]], dtype=np.float32)\n",
        "        prediction = np.dot(terms, weights)\n",
        "        error = prediction - target\n",
        "        total_error += error ** 2\n",
        "\n",
        "        # Обновление весов\n",
        "        weights -= learning_rate * error * terms\n",
        "\n",
        "    if epoch % 500 == 0:\n",
        "        print(f\"Эпоха {epoch}, Ошибка: {total_error}\")\n",
        "\n",
        "print(\"\\nОбученные веса:\")\n",
        "print(weights)\n",
        "\n",
        "# Проверка\n",
        "print(\"\\nРезультаты:\")\n",
        "for i in range(len(X_train)):\n",
        "    x = X_train[i]\n",
        "    terms = np.array([1, x[0], x[1], x[2], x[3]], dtype=np.float32)\n",
        "    pred = np.dot(terms, weights)\n",
        "    print(f\"{x * 10} -> {pred:.4f} (Истинное: {y_train[i]})\")"
      ]
    },
    {
      "cell_type": "code",
      "source": [
        "import numpy as np\n",
        "\n",
        "\n",
        "X = np.array([\n",
        "    [5, 2, 1, 0], [6, 3, 2, 1], [4, 1, 1, 0],\n",
        "    [7, 4, 6, 3], [8, 5, 5, 4], [6, 3, 4, 2],\n",
        "    [3, 8, 7, 9], [4, 9, 8, 8], [2, 7, 6, 7],\n",
        "], dtype=np.float32) / 10.0\n",
        "\n",
        "\n",
        "y = np.array([0, 0, 0, 1, 1, 1, 1, 0, 1], dtype=np.float32)\n",
        "\n",
        "\n",
        "weights = np.random.uniform(-0.1, 0.1, size=15).astype(np.float32)\n",
        "\n",
        "\n",
        "def get_terms(x):\n",
        "    x1, x2, x3, x4 = x\n",
        "    return np.array([\n",
        "        1,\n",
        "        x1, x2, x3, x4,\n",
        "        x1*x1, x2*x2, x3*x3, x4*x4,\n",
        "        x1*x2, x1*x3, x1*x4,\n",
        "        x2*x3, x2*x4, x3*x4\n",
        "    ], dtype=np.float32)\n",
        "\n",
        "\n",
        "for _ in range(10000):\n",
        "    for i in range(len(X)):\n",
        "        terms = get_terms(X[i])\n",
        "        prediction = np.dot(terms, weights)\n",
        "        error = prediction - y[i]\n",
        "        weights -= 0.1 * error * terms\n",
        "\n",
        "\n",
        "print(\"Результаты:\")\n",
        "for i in range(len(X)):\n",
        "    terms = get_terms(X[i])\n",
        "    prediction = np.dot(terms, weights)\n",
        "    print(f\"{X[i] * 10} -> {prediction:.4f} (Истинное: {y[i]})\")"
      ],
      "metadata": {
        "colab": {
          "base_uri": "https://localhost:8080/"
        },
        "id": "De5-nBbzdMre",
        "outputId": "334e013c-f12c-41cb-b010-fb2271b57944"
      },
      "execution_count": 22,
      "outputs": [
        {
          "output_type": "stream",
          "name": "stdout",
          "text": [
            "Результаты:\n",
            "[5. 2. 1. 0.] -> -0.1678 (Истинное: 0.0)\n",
            "[6. 3. 2. 1.] -> 0.1499 (Истинное: 0.0)\n",
            "[4. 1. 1. 0.] -> 0.0865 (Истинное: 0.0)\n",
            "[7. 4. 6. 3.] -> 1.0844 (Истинное: 1.0)\n",
            "[8. 5. 5. 4.] -> 1.0087 (Истинное: 1.0)\n",
            "[6. 3. 4. 2.] -> 0.9013 (Истинное: 1.0)\n",
            "[3. 8. 7. 9.] -> 1.0118 (Истинное: 1.0)\n",
            "[4. 9. 8. 8.] -> -0.0003 (Истинное: 0.0)\n",
            "[2. 7. 6. 7.] -> 0.9969 (Истинное: 1.0)\n"
          ]
        }
      ]
    }
  ]
}