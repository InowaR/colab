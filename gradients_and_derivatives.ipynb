{
  "nbformat": 4,
  "nbformat_minor": 0,
  "metadata": {
    "colab": {
      "provenance": [],
      "authorship_tag": "ABX9TyNuVhXIhCcDDWv00mi8lrAL",
      "include_colab_link": true
    },
    "kernelspec": {
      "name": "python3",
      "display_name": "Python 3"
    },
    "language_info": {
      "name": "python"
    }
  },
  "cells": [
    {
      "cell_type": "markdown",
      "metadata": {
        "id": "view-in-github",
        "colab_type": "text"
      },
      "source": [
        "<a href=\"https://colab.research.google.com/github/InowaR/colab/blob/main/gradients_and_derivatives.ipynb\" target=\"_parent\"><img src=\"https://colab.research.google.com/assets/colab-badge.svg\" alt=\"Open In Colab\"/></a>"
      ]
    },
    {
      "cell_type": "code",
      "execution_count": 1,
      "metadata": {
        "colab": {
          "base_uri": "https://localhost:8080/"
        },
        "id": "4OL_6S_a0AKU",
        "outputId": "a8ff3ec5-0b96-4c51-ac66-02d2ac94ccc0"
      },
      "outputs": [
        {
          "output_type": "stream",
          "name": "stdout",
          "text": [
            "Входные данные X: [ 1 -2  2]\n",
            "Веса coeffs (w0, w1, w2, w3): [ 1  1 -2 -1]\n",
            "Значение полинома P(x, w): -14\n",
            "Градиент по весам ∇P: [1, np.int64(1), np.int64(4), np.int64(8)]\n",
            "Производные по x_i: [np.int64(1), np.int64(8), np.int64(-12)]\n"
          ]
        }
      ],
      "source": [
        "import numpy as np\n",
        "\n",
        "def generate_polynomial(x, coeffs):\n",
        "    \"\"\"\n",
        "    Вычисляет значение полинома:\n",
        "    P(x, w) = w0 + w1*x1 + w2*x2^2 + w3*x3^3 + ... + wn*xn^n\n",
        "    \"\"\"\n",
        "    result = coeffs[0]  # w0\n",
        "    for i in range(1, len(coeffs)):\n",
        "        result += coeffs[i] * (x[i-1] ** i)  # wi * xi^i\n",
        "    return result\n",
        "\n",
        "def compute_gradient(x):\n",
        "    \"\"\"\n",
        "    Вычисляет градиент полинома по весам (коэффициентам w_i):\n",
        "    ∇P = [1, x1, x2^2, x3^3, ..., xn^n]\n",
        "    \"\"\"\n",
        "    return [1] + [x[i] ** (i+1) for i in range(len(x))]\n",
        "\n",
        "def compute_derivatives(x, coeffs):\n",
        "    \"\"\"\n",
        "    Вычисляет производные полинома по входным переменным x_i:\n",
        "    dP/dxi = wi * i * xi^(i-1)\n",
        "    \"\"\"\n",
        "    derivatives = []\n",
        "    for i in range(1, len(coeffs)):\n",
        "        derivatives.append(coeffs[i] * i * (x[i-1] ** (i-1)))\n",
        "    return derivatives\n",
        "\n",
        "# Генерируем случайные входные данные и веса\n",
        "np.random.seed(42)  # Для воспроизводимости\n",
        "n = 3  # Количество переменных (x1, x2, x3)\n",
        "X = np.random.randint(-5, 5, size=n)  # Случайные целые x1, x2, x3\n",
        "coeffs = np.random.randint(-3, 3, size=n+1)  # Случайные целые w0, w1, w2, w3\n",
        "\n",
        "# Вычисляем значение полинома, градиент и производные\n",
        "P = generate_polynomial(X, coeffs)\n",
        "gradient = compute_gradient(X)\n",
        "derivatives = compute_derivatives(X, coeffs)\n",
        "\n",
        "# Выводим результаты\n",
        "print(\"Входные данные X:\", X)\n",
        "print(\"Веса coeffs (w0, w1, w2, w3):\", coeffs)\n",
        "print(\"Значение полинома P(x, w):\", P)\n",
        "print(\"Градиент по весам ∇P:\", gradient)\n",
        "print(\"Производные по x_i:\", derivatives)"
      ]
    }
  ]
}