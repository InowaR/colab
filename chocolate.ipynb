{
  "nbformat": 4,
  "nbformat_minor": 0,
  "metadata": {
    "colab": {
      "provenance": [],
      "authorship_tag": "ABX9TyMNRLwSz7P3GS051je9/o8q",
      "include_colab_link": true
    },
    "kernelspec": {
      "name": "python3",
      "display_name": "Python 3"
    },
    "language_info": {
      "name": "python"
    }
  },
  "cells": [
    {
      "cell_type": "markdown",
      "metadata": {
        "id": "view-in-github",
        "colab_type": "text"
      },
      "source": [
        "<a href=\"https://colab.research.google.com/github/InowaR/colab/blob/main/chocolate.ipynb\" target=\"_parent\"><img src=\"https://colab.research.google.com/assets/colab-badge.svg\" alt=\"Open In Colab\"/></a>"
      ]
    },
    {
      "cell_type": "code",
      "execution_count": 146,
      "metadata": {
        "colab": {
          "base_uri": "https://localhost:8080/"
        },
        "id": "EsjMu3QlKjMS",
        "outputId": "6ff4b74a-e098-443b-f210-ffd3f248f853"
      },
      "outputs": [
        {
          "output_type": "stream",
          "name": "stdout",
          "text": [
            "В вашей шоколадке нет столько долек :(\n"
          ]
        }
      ],
      "source": [
        "length = 5\n",
        "width = 4\n",
        "break_off = 21\n",
        "if break_off > length * width:\n",
        "    print('В вашей шоколадке нет столько долек :(')\n",
        "elif (break_off >= length or break_off >= width) and (break_off % length == 0 or break_off % width == 0):\n",
        "    print(f'Можно отломать на 2 прямоугольника 1 разломом')\n",
        "else:\n",
        "    print(f'Нельзя отломать на 2 прямоугольника 1 разломом')"
      ]
    }
  ]
}