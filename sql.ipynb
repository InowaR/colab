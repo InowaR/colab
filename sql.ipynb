{
  "nbformat": 4,
  "nbformat_minor": 0,
  "metadata": {
    "colab": {
      "provenance": [],
      "authorship_tag": "ABX9TyM+3+Ef4Z/h2Gi3AkHn/7xs",
      "include_colab_link": true
    },
    "kernelspec": {
      "name": "python3",
      "display_name": "Python 3"
    },
    "language_info": {
      "name": "python"
    }
  },
  "cells": [
    {
      "cell_type": "markdown",
      "metadata": {
        "id": "view-in-github",
        "colab_type": "text"
      },
      "source": [
        "<a href=\"https://colab.research.google.com/github/InowaR/colab/blob/main/sql.ipynb\" target=\"_parent\"><img src=\"https://colab.research.google.com/assets/colab-badge.svg\" alt=\"Open In Colab\"/></a>"
      ]
    },
    {
      "cell_type": "code",
      "execution_count": 51,
      "metadata": {
        "colab": {
          "base_uri": "https://localhost:8080/"
        },
        "id": "uM-kXQPLw2gK",
        "outputId": "eddcdef6-53b9-402b-a700-c1c6cb73510d"
      },
      "outputs": [
        {
          "output_type": "stream",
          "name": "stdout",
          "text": [
            "users_old\n",
            "+------+-------------+------------+---------------------------------+\n",
            "|   id |  firstname  |  lastname  |              email              |\n",
            "+======+=============+============+=================================+\n",
            "|    2 |  Frederik   |   Upton    | terrence.cartwright@example.org |\n",
            "+------+-------------+------------+---------------------------------+\n",
            "|    3 |   Unique    |  Windler   |      rupert55@example.org       |\n",
            "+------+-------------+------------+---------------------------------+\n",
            "|    4 |   Norene    |    West    |      rebekah29@example.net      |\n",
            "+------+-------------+------------+---------------------------------+\n",
            "|    5 |  Frederick  |  Effertz   |     von.bridget@example.net     |\n",
            "+------+-------------+------------+---------------------------------+\n",
            "|    6 |  Victoria   |  Medhurst  |       sstehr@example.net        |\n",
            "+------+-------------+------------+---------------------------------+\n",
            "|    7 |   Austyn    |   Braun    |    itzel.beahan@example.com     |\n",
            "+------+-------------+------------+---------------------------------+\n",
            "|    8 |    Jaida    |  Kilback   |  johnathan.wisozk@example.com   |\n",
            "+------+-------------+------------+---------------------------------+\n",
            "|    9 |   Mireya    |    Orn     |     missouri87@example.org      |\n",
            "+------+-------------+------------+---------------------------------+\n",
            "|   10 |   Jordyn    |   Jerde    |        edach@example.com        |\n",
            "+------+-------------+------------+---------------------------------+\n",
            "\n",
            "\n",
            "users\n",
            "+------+-------------+------------+--------------------+\n",
            "|   id |  firstname  |  lastname  |       email        |\n",
            "+======+=============+============+====================+\n",
            "|    1 |   Reuben    |   Nienow   | arlo50@example.org |\n",
            "+------+-------------+------------+--------------------+\n",
            "\n",
            "\n"
          ]
        }
      ],
      "source": [
        "import sqlite3\n",
        "from tabulate import tabulate\n",
        "import datetime\n",
        "\n",
        "db = 'users.db'\n",
        "\n",
        "def show_tables():\n",
        "  tables = ['users_old', 'users']\n",
        "  def show(tablename):\n",
        "    try:\n",
        "      with sqlite3.connect(db) as connection:\n",
        "        cursor = connection.cursor()\n",
        "        cursor.execute(f'SELECT * FROM {tablename}')\n",
        "        results = cursor.fetchall()\n",
        "        headers = []\n",
        "        for i in range(len(cursor.description)):\n",
        "          headers.append(cursor.description[i][0])\n",
        "        print(tablename)\n",
        "        print(tabulate(results, headers=headers, tablefmt='grid', stralign='center'))\n",
        "        print(\"\\n\")\n",
        "    except:\n",
        "      print(\"Empty\")\n",
        "\n",
        "  for table in tables:\n",
        "    show(table)\n",
        "\n",
        "show_tables()"
      ]
    },
    {
      "cell_type": "code",
      "source": [
        "def create_db1():\n",
        "    with sqlite3.connect('users.db') as connection:\n",
        "        cursor = connection.cursor()\n",
        "        cursor.execute(\n",
        "            \"\"\"\n",
        "                CREATE TABLE IF NOT EXISTS users_old (\n",
        "                    id INT,\n",
        "                    firstname TEXT,\n",
        "                    lastname TEXT,\n",
        "                    email TEXT\n",
        "                );\n",
        "            \"\"\"\n",
        "        )\n",
        "        connection.commit()\n",
        "\n",
        "create_db1()"
      ],
      "metadata": {
        "id": "PJMCpl5kxOjP"
      },
      "execution_count": 44,
      "outputs": []
    },
    {
      "cell_type": "code",
      "source": [
        "def insert_data():\n",
        "    with sqlite3.connect('users.db') as connection:\n",
        "        cursor = connection.cursor()\n",
        "        query = \"\"\"\n",
        "                    INSERT INTO users_old (id, firstname, lastname, email) VALUES\n",
        "                    (1, 'Reuben', 'Nienow', 'arlo50@example.org'),\n",
        "                    (2, 'Frederik', 'Upton', 'terrence.cartwright@example.org'),\n",
        "                    (3, 'Unique', 'Windler', 'rupert55@example.org'),\n",
        "                    (4, 'Norene', 'West', 'rebekah29@example.net'),\n",
        "                    (5, 'Frederick', 'Effertz', 'von.bridget@example.net'),\n",
        "                    (6, 'Victoria', 'Medhurst', 'sstehr@example.net'),\n",
        "                    (7, 'Austyn', 'Braun', 'itzel.beahan@example.com'),\n",
        "                    (8, 'Jaida', 'Kilback', 'johnathan.wisozk@example.com'),\n",
        "                    (9, 'Mireya', 'Orn', 'missouri87@example.org'),\n",
        "                    (10, 'Jordyn', 'Jerde', 'edach@example.com');\n",
        "                \"\"\"\n",
        "        cursor.execute(query)\n",
        "        connection.commit()\n",
        "\n",
        "insert_data()"
      ],
      "metadata": {
        "id": "kaAmJ2Wpx_1H"
      },
      "execution_count": 45,
      "outputs": []
    },
    {
      "cell_type": "code",
      "source": [
        "def create_db2():\n",
        "    with sqlite3.connect('users.db') as connection:\n",
        "        cursor = connection.cursor()\n",
        "        cursor.execute(\n",
        "            \"\"\"\n",
        "                CREATE TABLE IF NOT EXISTS users (\n",
        "                    id INT,\n",
        "                    firstname TEXT,\n",
        "                    lastname TEXT,\n",
        "                    email TEXT\n",
        "                );\n",
        "            \"\"\"\n",
        "        )\n",
        "        connection.commit()\n",
        "\n",
        "create_db2()"
      ],
      "metadata": {
        "id": "-BFBrNTh1jXp"
      },
      "execution_count": 46,
      "outputs": []
    },
    {
      "cell_type": "code",
      "source": [
        "def move_user():\n",
        "    with sqlite3.connect('users.db') as connection:\n",
        "        cursor = connection.cursor()\n",
        "        query = \"\"\"\n",
        "                    INSERT INTO users(id, firstname, lastname, email)\n",
        "                    SELECT id, firstname, lastname, email\n",
        "                    FROM users_old\n",
        "                    WHERE id = 1;\n",
        "                \"\"\"\n",
        "        cursor.execute(query)\n",
        "        query = \"\"\"\n",
        "                    DELETE FROM users_old\n",
        "                    WHERE id = 1;\n",
        "                \"\"\"\n",
        "        cursor.execute(query)\n",
        "        connection.commit()\n",
        "\n",
        "move_user()"
      ],
      "metadata": {
        "id": "v2NUDPAR1u1r"
      },
      "execution_count": 48,
      "outputs": []
    }
  ]
}