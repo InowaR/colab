{
  "nbformat": 4,
  "nbformat_minor": 0,
  "metadata": {
    "colab": {
      "provenance": [],
      "authorship_tag": "ABX9TyMtek/9b649lRwUzwmut59u",
      "include_colab_link": true
    },
    "kernelspec": {
      "name": "python3",
      "display_name": "Python 3"
    },
    "language_info": {
      "name": "python"
    }
  },
  "cells": [
    {
      "cell_type": "markdown",
      "metadata": {
        "id": "view-in-github",
        "colab_type": "text"
      },
      "source": [
        "<a href=\"https://colab.research.google.com/github/InowaR/colab/blob/main/decorator.ipynb\" target=\"_parent\"><img src=\"https://colab.research.google.com/assets/colab-badge.svg\" alt=\"Open In Colab\"/></a>"
      ]
    },
    {
      "cell_type": "code",
      "execution_count": 4,
      "metadata": {
        "colab": {
          "base_uri": "https://localhost:8080/",
          "height": 35
        },
        "id": "MrIc7woGVesI",
        "outputId": "2f70f379-6c67-420b-e584-f13f7371494f"
      },
      "outputs": [
        {
          "output_type": "execute_result",
          "data": {
            "text/plain": [
              "'<strong><em>Hello!</em></strong>'"
            ],
            "application/vnd.google.colaboratory.intrinsic+json": {
              "type": "string"
            }
          },
          "metadata": {},
          "execution_count": 4
        }
      ],
      "source": [
        "def strong(func):\n",
        "    def wrapper():\n",
        "        return '<strong>' + func() + '</strong>'\n",
        "    return wrapper\n",
        "\n",
        "def emphasis(func):\n",
        "    def wrapper():\n",
        "        return '<em>' + func() + '</em>'\n",
        "    return wrapper\n",
        "\n",
        "@strong\n",
        "@emphasis\n",
        "def greet():\n",
        "    return 'Hello!'\n",
        "\n",
        "greet()"
      ]
    }
  ]
}