{
  "nbformat": 4,
  "nbformat_minor": 0,
  "metadata": {
    "colab": {
      "provenance": [],
      "gpuType": "T4",
      "authorship_tag": "ABX9TyMnOpKygUzLIDaCDJTYQtHc",
      "include_colab_link": true
    },
    "kernelspec": {
      "name": "python3",
      "display_name": "Python 3"
    },
    "language_info": {
      "name": "python"
    },
    "accelerator": "GPU"
  },
  "cells": [
    {
      "cell_type": "markdown",
      "metadata": {
        "id": "view-in-github",
        "colab_type": "text"
      },
      "source": [
        "<a href=\"https://colab.research.google.com/github/InowaR/colab/blob/main/OpenVLA.ipynb\" target=\"_parent\"><img src=\"https://colab.research.google.com/assets/colab-badge.svg\" alt=\"Open In Colab\"/></a>"
      ]
    },
    {
      "cell_type": "code",
      "source": [
        "# T4 GPU"
      ],
      "metadata": {
        "id": "tDNp6nV3giz9"
      },
      "execution_count": null,
      "outputs": []
    },
    {
      "cell_type": "code",
      "source": [
        "!pip install -r https://raw.githubusercontent.com/openvla/openvla/main/requirements-min.txt"
      ],
      "metadata": {
        "id": "kEa7DE1AgtT2"
      },
      "execution_count": null,
      "outputs": []
    },
    {
      "cell_type": "code",
      "execution_count": null,
      "metadata": {
        "id": "FEVK9xfZXNaT"
      },
      "outputs": [],
      "source": [
        "from transformers import AutoModelForVision2Seq, AutoProcessor\n",
        "from PIL import Image\n",
        "\n",
        "import torch\n",
        "\n",
        "# Load Processor & VLA\n",
        "processor = AutoProcessor.from_pretrained(\"openvla/openvla-7b\", trust_remote_code=True)\n",
        "vla = AutoModelForVision2Seq.from_pretrained(\n",
        "    \"openvla/openvla-7b\",\n",
        "    torch_dtype=torch.bfloat16,\n",
        "    low_cpu_mem_usage=True,\n",
        "    trust_remote_code=True\n",
        ").to(\"cuda:0\")"
      ]
    },
    {
      "cell_type": "code",
      "source": [
        "image = Image.open(\"image.jpg\")\n",
        "image"
      ],
      "metadata": {
        "id": "GwjHKma0jQ3_"
      },
      "execution_count": null,
      "outputs": []
    },
    {
      "cell_type": "code",
      "source": [
        "prompt = \"In: What action should the robot take to {<INSTRUCTION>}?\\nOut:\"\n",
        "\n",
        "# Predict Action (7-DoF; un-normalize for BridgeData V2)\n",
        "inputs = processor(prompt, image).to(\"cuda:0\", dtype=torch.bfloat16)\n",
        "action = vla.predict_action(**inputs, unnorm_key=\"bridge_orig\", do_sample=False)\n",
        "\n",
        "print(action) # команды"
      ],
      "metadata": {
        "id": "pSVCtRwbhxWh"
      },
      "execution_count": null,
      "outputs": []
    },
    {
      "cell_type": "code",
      "source": [
        "!pip install pybullet"
      ],
      "metadata": {
        "id": "arHTwlhokSE6"
      },
      "execution_count": null,
      "outputs": []
    },
    {
      "cell_type": "code",
      "source": [
        "import pybullet as p\n",
        "\n",
        "# Подключение к роботу (пример для Franka Panda)\n",
        "robot_id = p.loadURDF(\"franka_panda/panda.urdf\")\n",
        "\n",
        "# Получение управления суставами из предсказанного действия\n",
        "target_joint_positions = convert_action_to_joints(action)  # Нужна ваша реализация\n",
        "\n",
        "# Установка целевых положений\n",
        "for i, pos in enumerate(target_joint_positions):\n",
        "    p.setJointMotorControl2(robot_id, i, p.POSITION_CONTROL, pos)"
      ],
      "metadata": {
        "id": "wDw2IbZ-kQHg"
      },
      "execution_count": null,
      "outputs": []
    }
  ]
}