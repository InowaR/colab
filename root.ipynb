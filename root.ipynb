{
  "nbformat": 4,
  "nbformat_minor": 0,
  "metadata": {
    "colab": {
      "provenance": [],
      "authorship_tag": "ABX9TyPvdmR8WawU7/6oAebzU2EU",
      "include_colab_link": true
    },
    "kernelspec": {
      "name": "python3",
      "display_name": "Python 3"
    },
    "language_info": {
      "name": "python"
    }
  },
  "cells": [
    {
      "cell_type": "markdown",
      "metadata": {
        "id": "view-in-github",
        "colab_type": "text"
      },
      "source": [
        "<a href=\"https://colab.research.google.com/github/InowaR/colab/blob/main/root.ipynb\" target=\"_parent\"><img src=\"https://colab.research.google.com/assets/colab-badge.svg\" alt=\"Open In Colab\"/></a>"
      ]
    },
    {
      "cell_type": "code",
      "source": [
        "def power(base, exponent):\n",
        "    \"\"\"\n",
        "    Вычисляет base в степени exponent (для целых неотрицательных степеней)\n",
        "    \"\"\"\n",
        "    result = 1\n",
        "    for _ in range(exponent):\n",
        "        result *= base\n",
        "    return result\n",
        "\n",
        "# Пример использования\n",
        "print(power(2, 3))  # 8\n",
        "print(power(5, 2))  # 25"
      ],
      "metadata": {
        "colab": {
          "base_uri": "https://localhost:8080/"
        },
        "id": "yEqvQ4SHE50r",
        "outputId": "488a8010-1efc-4306-d210-5530c6caa4d9"
      },
      "execution_count": 2,
      "outputs": [
        {
          "output_type": "stream",
          "name": "stdout",
          "text": [
            "8\n",
            "25\n"
          ]
        }
      ]
    },
    {
      "cell_type": "code",
      "source": [
        "def square_root(number, epsilon=1e-10):\n",
        "    \"\"\"\n",
        "    Вычисляет квадратный корень числа с заданной точностью\n",
        "    используя метод Ньютона (метод касательных)\n",
        "    \"\"\"\n",
        "    if number < 0:\n",
        "        raise ValueError(\"Нельзя извлечь корень из отрицательного числа\")\n",
        "\n",
        "    if number == 0:\n",
        "        return 0\n",
        "\n",
        "    # Начальное предположение\n",
        "    guess = number / 2\n",
        "\n",
        "    while True:\n",
        "        better_guess = (guess + number / guess) / 2\n",
        "        if abs(better_guess - guess) < epsilon:\n",
        "            return better_guess\n",
        "        guess = better_guess\n",
        "\n",
        "# Пример использования\n",
        "print(square_root(9))      # 3.0\n",
        "print(square_root(2))      # 1.414213562373095\n",
        "print(square_root(25))     # 5.0"
      ],
      "metadata": {
        "colab": {
          "base_uri": "https://localhost:8080/"
        },
        "id": "6xOLk7tdFIEP",
        "outputId": "c5580c5d-aa38-47fb-f739-665976050778"
      },
      "execution_count": 4,
      "outputs": [
        {
          "output_type": "stream",
          "name": "stdout",
          "text": [
            "3.0\n",
            "1.414213562373095\n",
            "5.0\n"
          ]
        }
      ]
    },
    {
      "cell_type": "code",
      "execution_count": 5,
      "metadata": {
        "colab": {
          "base_uri": "https://localhost:8080/"
        },
        "id": "9u9ff5XkEyu_",
        "outputId": "6789a989-3507-493c-e1a0-082a5ee9803a"
      },
      "outputs": [
        {
          "output_type": "stream",
          "name": "stdout",
          "text": [
            "3.0\n",
            "2.0\n",
            "5.0\n"
          ]
        }
      ],
      "source": [
        "def nth_root(number, n, epsilon=1e-10):\n",
        "    \"\"\"\n",
        "    Вычисляет корень n-ной степени из числа с заданной точностью\n",
        "    используя метод Ньютона\n",
        "    \"\"\"\n",
        "    if number < 0 and n % 2 == 0:\n",
        "        raise ValueError(\"Нельзя извлечь четный корень из отрицательного числа\")\n",
        "\n",
        "    if n == 0:\n",
        "        raise ValueError(\"Нулевая степень корня не определена\")\n",
        "\n",
        "    if number == 0:\n",
        "        return 0\n",
        "\n",
        "    # Начальное предположение\n",
        "    guess = number / 2\n",
        "\n",
        "    while True:\n",
        "        better_guess = ((n - 1) * guess + number / power(guess, n-1)) / n\n",
        "        if abs(better_guess - guess) < epsilon:\n",
        "            return better_guess\n",
        "        guess = better_guess\n",
        "\n",
        "# Пример использования\n",
        "print(nth_root(27, 3))    # 3.0 (кубический корень из 27)\n",
        "print(nth_root(16, 4))    # 2.0 (корень 4-й степени из 16)\n",
        "print(nth_root(3125, 5))  # 5.0 (корень 5-й степени из 3125)"
      ]
    }
  ]
}