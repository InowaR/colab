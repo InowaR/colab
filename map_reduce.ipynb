{
  "nbformat": 4,
  "nbformat_minor": 0,
  "metadata": {
    "colab": {
      "provenance": [],
      "authorship_tag": "ABX9TyOkjBpTsThdTY1WkJuiyU8K",
      "include_colab_link": true
    },
    "kernelspec": {
      "name": "python3",
      "display_name": "Python 3"
    },
    "language_info": {
      "name": "python"
    }
  },
  "cells": [
    {
      "cell_type": "markdown",
      "metadata": {
        "id": "view-in-github",
        "colab_type": "text"
      },
      "source": [
        "<a href=\"https://colab.research.google.com/github/InowaR/colab/blob/main/map_reduce.ipynb\" target=\"_parent\"><img src=\"https://colab.research.google.com/assets/colab-badge.svg\" alt=\"Open In Colab\"/></a>"
      ]
    },
    {
      "cell_type": "code",
      "source": [
        "data = \"\"\"Имя,Фамилия,Возраст\n",
        "Иван,Петров,25\n",
        "Мария,Сидорова,30\n",
        "Андрей,Иванов,35\n",
        "Иван,Петров,25\n",
        "Мария,Сидорова,30\n",
        "Андрей,Иванов,35\n",
        "\"\"\"\n",
        "\n",
        "with open('data.csv', 'w') as f:\n",
        "  f.write(data)"
      ],
      "metadata": {
        "id": "OIBAzKBDSQql"
      },
      "execution_count": 69,
      "outputs": []
    },
    {
      "cell_type": "code",
      "source": [
        "from functools import reduce\n",
        "import csv\n",
        "\n",
        "def mapper(row):\n",
        "    return (row[0], int(row[2]))\n",
        "\n",
        "def reducer(acc, item):\n",
        "    name, age = item\n",
        "    if name in acc:\n",
        "        acc[name] += age\n",
        "    else:\n",
        "        acc[name] = age\n",
        "    return acc\n",
        "\n",
        "with open('data.csv', 'r') as csvfile:\n",
        "    reader = csv.reader(csvfile, delimiter=',')\n",
        "    next(reader, None)\n",
        "    name_age_sums = reduce(reducer, map(mapper, reader), {})\n",
        "\n",
        "with open('result.csv', 'w', newline='') as csvfile:\n",
        "    writer = csv.writer(csvfile, delimiter=',')\n",
        "    writer.writerow(['Имя', 'Сумма возрастов'])\n",
        "    for name, age_sum in name_age_sums.items():\n",
        "        writer.writerow([name, age_sum])\n"
      ],
      "metadata": {
        "id": "n742jTlJQ1Wb"
      },
      "execution_count": 70,
      "outputs": []
    },
    {
      "cell_type": "code",
      "source": [
        "def print_csv(number_of_rows=10):\n",
        "    with open('result.csv', 'r') as csvfile:\n",
        "        reader = csv.reader(csvfile, delimiter=',')\n",
        "        counter = 0\n",
        "        for row in reader:\n",
        "            if counter < number_of_rows:\n",
        "                print(row)\n",
        "                counter += 1\n",
        "\n",
        "print_csv()"
      ],
      "metadata": {
        "colab": {
          "base_uri": "https://localhost:8080/"
        },
        "id": "jAE0sJjQS0J9",
        "outputId": "fd5d6656-8a71-42c6-ecbb-a05882b2eb6b"
      },
      "execution_count": 71,
      "outputs": [
        {
          "output_type": "stream",
          "name": "stdout",
          "text": [
            "['Имя', 'Сумма возрастов']\n",
            "['Иван', '50']\n",
            "['Мария', '60']\n",
            "['Андрей', '70']\n"
          ]
        }
      ]
    }
  ]
}