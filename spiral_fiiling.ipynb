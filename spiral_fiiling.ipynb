{
  "nbformat": 4,
  "nbformat_minor": 0,
  "metadata": {
    "colab": {
      "provenance": [],
      "authorship_tag": "ABX9TyOUGPcqmCoTEMTxB+yiJxdE",
      "include_colab_link": true
    },
    "kernelspec": {
      "name": "python3",
      "display_name": "Python 3"
    },
    "language_info": {
      "name": "python"
    }
  },
  "cells": [
    {
      "cell_type": "markdown",
      "metadata": {
        "id": "view-in-github",
        "colab_type": "text"
      },
      "source": [
        "<a href=\"https://colab.research.google.com/github/InowaR/colab/blob/main/spiral_fiiling.ipynb\" target=\"_parent\"><img src=\"https://colab.research.google.com/assets/colab-badge.svg\" alt=\"Open In Colab\"/></a>"
      ]
    },
    {
      "cell_type": "code",
      "execution_count": 1,
      "metadata": {
        "colab": {
          "base_uri": "https://localhost:8080/"
        },
        "id": "nbBYRPprf28I",
        "outputId": "0ed68545-50b5-4e07-b62b-37f85c64d0c2"
      },
      "outputs": [
        {
          "output_type": "stream",
          "name": "stdout",
          "text": [
            "[[ 1.  2.  3.  4.  5.  6.]\n",
            " [20. 21. 22. 23. 24.  7.]\n",
            " [19. 32. 33. 34. 25.  8.]\n",
            " [18. 31. 36. 35. 26.  9.]\n",
            " [17. 30. 29. 28. 27. 10.]\n",
            " [16. 15. 14. 13. 12. 11.]]\n"
          ]
        }
      ],
      "source": [
        "\n",
        "import numpy as np\n",
        "arr = np.zeros((6,6)) \n",
        "def spiralFill(arr, n): \n",
        "    cnt = 1\n",
        "    for i in range(n): \n",
        "        for j in range(i, n-i): \n",
        "            arr[i][j] = cnt \n",
        "            cnt += 1\n",
        "        for j in range(i+1, n-i): \n",
        "            arr[j][n-i-1] = cnt \n",
        "            cnt += 1\n",
        "        for j in range(n-i-2, i-1, -1): \n",
        "            arr[n-i-1][j] = cnt \n",
        "            cnt += 1\n",
        "        for j in range(n-i-2, i, -1): \n",
        "            arr[j][i] = cnt \n",
        "            cnt += 1\n",
        "\n",
        "spiralFill(arr, 6) \n",
        "print(arr)"
      ]
    }
  ]
}