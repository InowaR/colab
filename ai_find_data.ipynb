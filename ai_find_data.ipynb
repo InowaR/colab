{
  "nbformat": 4,
  "nbformat_minor": 0,
  "metadata": {
    "colab": {
      "provenance": [],
      "authorship_tag": "ABX9TyMJheppkotbZjWFXfvuU2fw",
      "include_colab_link": true
    },
    "kernelspec": {
      "name": "python3",
      "display_name": "Python 3"
    },
    "language_info": {
      "name": "python"
    }
  },
  "cells": [
    {
      "cell_type": "markdown",
      "metadata": {
        "id": "view-in-github",
        "colab_type": "text"
      },
      "source": [
        "<a href=\"https://colab.research.google.com/github/InowaR/colab/blob/main/ai_find_data.ipynb\" target=\"_parent\"><img src=\"https://colab.research.google.com/assets/colab-badge.svg\" alt=\"Open In Colab\"/></a>"
      ]
    },
    {
      "cell_type": "code",
      "execution_count": 1,
      "metadata": {
        "id": "19GvzKAk1x_7"
      },
      "outputs": [],
      "source": [
        "import sys\n",
        "\n",
        "if \"google.colab\" in sys.modules:\n",
        "    from google.colab import auth\n",
        "\n",
        "    auth.authenticate_user()"
      ]
    },
    {
      "cell_type": "code",
      "source": [
        "from google.colab import userdata\n",
        "\n",
        "PROJECT_ID = userdata.get('PROJECT_ID')\n",
        "LOCATION = userdata.get('LOCATION')"
      ],
      "metadata": {
        "id": "dNrha2nf3DEJ"
      },
      "execution_count": 2,
      "outputs": []
    },
    {
      "cell_type": "code",
      "source": [
        "import vertexai\n",
        "from vertexai.generative_models import GenerativeModel\n",
        "\n",
        "\n",
        "vertexai.init(project=PROJECT_ID, location=LOCATION)\n",
        "model = GenerativeModel(\"gemini-1.5-flash\")"
      ],
      "metadata": {
        "id": "2JXofPWR3GQS"
      },
      "execution_count": 3,
      "outputs": []
    },
    {
      "cell_type": "code",
      "source": [
        "\n",
        "groups = [\n",
        "  \"Компьютер\",\n",
        "  \"Велосипед\",\n",
        "  \"Мобильный телефон\",\n",
        "  \"Книга\",\n",
        "  \"Дом\"\n",
        "]\n",
        "\n",
        "\n",
        "details = [\n",
        "  \"Процессор\",\n",
        "  \"Материнская плата\",\n",
        "  \"Оперативная память\",\n",
        "  \"Жесткий диск/SSD\",\n",
        "  \"Видеокарта\",\n",
        "  \"Монитор\",\n",
        "  \"Клавиатура\",\n",
        "  \"Мышь\",\n",
        "  \"Рама\",\n",
        "  \"Руль\",\n",
        "  \"Седло\",\n",
        "  \"Колеса\",\n",
        "  \"Педали\",\n",
        "  \"Переключатели передач\",\n",
        "  \"Тормоза\",\n",
        "  \"Цепь\",\n",
        "  \"Корпус\",\n",
        "  \"Экран\",\n",
        "  \"Процессор\",\n",
        "  \"Оперативная память\",\n",
        "  \"Камеры\",\n",
        "  \"Аккумулятор\",\n",
        "  \"SIM-карта\",\n",
        "  \"Динамики\",\n",
        "  \"Микрофон\",\n",
        "  \"Обложка\",\n",
        "  \"Страницы\",\n",
        "  \"Переплет\",\n",
        "  \"Текст\",\n",
        "  \"Иллюстрации\",\n",
        "  \"Автор\",\n",
        "  \"Название\",\n",
        "  \"Издательство\",\n",
        "  \"Фундамент\",\n",
        "  \"Стены\",\n",
        "  \"Крыша\",\n",
        "  \"Окна\",\n",
        "  \"Двери\",\n",
        "  \"Пол\",\n",
        "  \"Потолок\",\n",
        "  \"Электрика\",\n",
        "  \"Сантехника\"\n",
        "]\n",
        "\n",
        "\n",
        "print(groups)\n",
        "print(details)"
      ],
      "metadata": {
        "colab": {
          "base_uri": "https://localhost:8080/"
        },
        "id": "1bblLBNf3JLW",
        "outputId": "89169599-7c0a-4de6-abb6-f4e7a7fa8870"
      },
      "execution_count": 14,
      "outputs": [
        {
          "output_type": "stream",
          "name": "stdout",
          "text": [
            "['Компьютер', 'Велосипед', 'Мобильный телефон', 'Книга', 'Дом']\n",
            "['Процессор', 'Материнская плата', 'Оперативная память', 'Жесткий диск/SSD', 'Видеокарта', 'Монитор', 'Клавиатура', 'Мышь', 'Рама', 'Руль', 'Седло', 'Колеса', 'Педали', 'Переключатели передач', 'Тормоза', 'Цепь', 'Корпус', 'Экран', 'Процессор', 'Оперативная память', 'Камеры', 'Аккумулятор', 'SIM-карта', 'Динамики', 'Микрофон', 'Обложка', 'Страницы', 'Переплет', 'Текст', 'Иллюстрации', 'Автор', 'Название', 'Издательство', 'Фундамент', 'Стены', 'Крыша', 'Окна', 'Двери', 'Пол', 'Потолок', 'Электрика', 'Сантехника']\n"
          ]
        }
      ]
    },
    {
      "cell_type": "code",
      "source": [
        "def send_data(prompt):\n",
        "    response = chat.send_message(prompt)\n",
        "    return response.text\n",
        "\n",
        "\n",
        "chat = model.start_chat(history=[])"
      ],
      "metadata": {
        "id": "4OG67XO07ws-"
      },
      "execution_count": 15,
      "outputs": []
    },
    {
      "cell_type": "code",
      "source": [
        "send_data(f'Дан список с разными деталями: {details}. Найди в данном списке индексы деталей, относящихся к каждой группе из списка групп {groups}. Ответ напиши в виде словаря с ключом в виде группы и значением в виде списка деталей, относящихся к группе. Напиши только результат в виде словаря без комментариев. ')"
      ],
      "metadata": {
        "id": "3cA4fXdL-uD1",
        "outputId": "6c42ea1a-2e43-4dc8-880c-557b292df700",
        "colab": {
          "base_uri": "https://localhost:8080/",
          "height": 157
        }
      },
      "execution_count": 16,
      "outputs": [
        {
          "output_type": "execute_result",
          "data": {
            "text/plain": [
              "\"{'Компьютер': [0, 1, 2, 3, 4, 5, 6, 7, 17, 18, 19], 'Велосипед': [8, 9, 10, 11, 12, 13, 14, 15], 'Мобильный телефон': [16, 18, 19, 20, 21, 22, 23], 'Книга': [24, 25, 26, 27, 28, 29, 30], 'Дом': [31, 32, 33, 34, 35, 36, 37, 38, 39]} \\n\""
            ],
            "application/vnd.google.colaboratory.intrinsic+json": {
              "type": "string"
            }
          },
          "metadata": {},
          "execution_count": 16
        }
      ]
    },
    {
      "cell_type": "code",
      "source": [
        "import random\n",
        "random.shuffle(details)\n",
        "print(details)\n",
        "send_data(f'Дан список с разными деталями: {details}. Найди в данном списке индексы деталей, относящихся к каждой группе из списка групп {groups}. Ответ напиши в виде словаря с ключом в виде группы и значением в виде списка деталей, относящихся к группе. Напиши только результат в виде словаря без комментариев. ')"
      ],
      "metadata": {
        "colab": {
          "base_uri": "https://localhost:8080/",
          "height": 194
        },
        "id": "hhZ4uQt9Xio4",
        "outputId": "a9be3e0c-e716-4019-bd40-55a43012b787"
      },
      "execution_count": 17,
      "outputs": [
        {
          "output_type": "stream",
          "name": "stdout",
          "text": [
            "['Страницы', 'Фундамент', 'Переключатели передач', 'Седло', 'Материнская плата', 'SIM-карта', 'Камеры', 'Мышь', 'Педали', 'Микрофон', 'Оперативная память', 'Динамики', 'Тормоза', 'Сантехника', 'Клавиатура', 'Видеокарта', 'Издательство', 'Иллюстрации', 'Рама', 'Автор', 'Оперативная память', 'Крыша', 'Текст', 'Аккумулятор', 'Экран', 'Процессор', 'Обложка', 'Название', 'Руль', 'Жесткий диск/SSD', 'Колеса', 'Окна', 'Цепь', 'Двери', 'Стены', 'Пол', 'Корпус', 'Потолок', 'Электрика', 'Монитор', 'Переплет', 'Процессор']\n"
          ]
        },
        {
          "output_type": "execute_result",
          "data": {
            "text/plain": [
              "\"{'Компьютер': [4, 10, 11, 13, 14, 15, 25, 26, 30, 31, 38, 39, 42], 'Велосипед': [3, 8, 9, 18, 31], 'Мобильный телефон': [5, 6, 7, 11, 24, 25, 30], 'Книга': [0, 16, 17, 23, 27, 28, 29, 41], 'Дом': [1, 13, 21, 22, 32, 33, 34, 35, 36, 37, 39]} \\n\""
            ],
            "application/vnd.google.colaboratory.intrinsic+json": {
              "type": "string"
            }
          },
          "metadata": {},
          "execution_count": 17
        }
      ]
    },
    {
      "cell_type": "code",
      "source": [
        "chat.history.clear()"
      ],
      "metadata": {
        "id": "pPPYRbnlErKc"
      },
      "execution_count": 12,
      "outputs": []
    }
  ]
}