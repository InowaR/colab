{
  "nbformat": 4,
  "nbformat_minor": 0,
  "metadata": {
    "colab": {
      "provenance": [],
      "authorship_tag": "ABX9TyOSHrKwBkT/UoRzkWufzZe6",
      "include_colab_link": true
    },
    "kernelspec": {
      "name": "python3",
      "display_name": "Python 3"
    },
    "language_info": {
      "name": "python"
    }
  },
  "cells": [
    {
      "cell_type": "markdown",
      "metadata": {
        "id": "view-in-github",
        "colab_type": "text"
      },
      "source": [
        "<a href=\"https://colab.research.google.com/github/InowaR/colab/blob/main/ai_find_data.ipynb\" target=\"_parent\"><img src=\"https://colab.research.google.com/assets/colab-badge.svg\" alt=\"Open In Colab\"/></a>"
      ]
    },
    {
      "cell_type": "code",
      "execution_count": null,
      "metadata": {
        "id": "19GvzKAk1x_7"
      },
      "outputs": [],
      "source": [
        "import sys\n",
        "\n",
        "if \"google.colab\" in sys.modules:\n",
        "    from google.colab import auth\n",
        "\n",
        "    auth.authenticate_user()"
      ]
    },
    {
      "cell_type": "code",
      "source": [
        "from google.colab import userdata\n",
        "\n",
        "PROJECT_ID = userdata.get('PROJECT_ID')\n",
        "LOCATION = userdata.get('LOCATION')"
      ],
      "metadata": {
        "id": "dNrha2nf3DEJ"
      },
      "execution_count": null,
      "outputs": []
    },
    {
      "cell_type": "code",
      "source": [
        "import vertexai\n",
        "from vertexai.generative_models import GenerativeModel\n",
        "\n",
        "\n",
        "vertexai.init(project=PROJECT_ID, location=LOCATION)\n",
        "model = GenerativeModel(\"gemini-1.5-flash\")"
      ],
      "metadata": {
        "id": "2JXofPWR3GQS"
      },
      "execution_count": null,
      "outputs": []
    },
    {
      "cell_type": "code",
      "source": [
        "\n",
        "groups = [\n",
        "  \"Компьютер\",\n",
        "  \"Велосипед\",\n",
        "  \"Книга\",\n",
        "  \"Дом\"\n",
        "]\n",
        "\n",
        "\n",
        "details = [\n",
        "  \"Процессор\",\n",
        "  \"Материнская плата\",\n",
        "  \"Оперативная память\",\n",
        "  \"Жесткий диск/SSD\",\n",
        "  \"Видеокарта\",\n",
        "  \"Монитор\",\n",
        "  \"Клавиатура\",\n",
        "  \"Компьютерная мышь\",\n",
        "  \"Рама\",\n",
        "  \"Руль\",\n",
        "  \"Седло\",\n",
        "  \"Колеса\",\n",
        "  \"Педали\",\n",
        "  \"Переключатели передач\",\n",
        "  \"Тормоза\",\n",
        "  \"Цепь\",\n",
        "  \"Обложка\",\n",
        "  \"Страницы\",\n",
        "  \"Переплет\",\n",
        "  \"Текст\",\n",
        "  \"Иллюстрации\",\n",
        "  \"Автор\",\n",
        "  \"Название\",\n",
        "  \"Издательство\",\n",
        "  \"Фундамент\",\n",
        "  \"Стены\",\n",
        "  \"Крыша\",\n",
        "  \"Окна\",\n",
        "  \"Двери\",\n",
        "  \"Пол\",\n",
        "  \"Потолок\",\n",
        "  \"Электрика\",\n",
        "  \"Сантехника\"\n",
        "]\n",
        "\n",
        "\n",
        "print(groups)\n",
        "print(list(enumerate(details)))"
      ],
      "metadata": {
        "colab": {
          "base_uri": "https://localhost:8080/"
        },
        "id": "1bblLBNf3JLW",
        "outputId": "f80f2080-03d5-43e2-e147-2117d82868f2"
      },
      "execution_count": 15,
      "outputs": [
        {
          "output_type": "stream",
          "name": "stdout",
          "text": [
            "['Компьютер', 'Велосипед', 'Книга', 'Дом']\n",
            "[(0, 'Процессор'), (1, 'Материнская плата'), (2, 'Оперативная память'), (3, 'Жесткий диск/SSD'), (4, 'Видеокарта'), (5, 'Монитор'), (6, 'Клавиатура'), (7, 'Компьютерная мышь'), (8, 'Рама'), (9, 'Руль'), (10, 'Седло'), (11, 'Колеса'), (12, 'Педали'), (13, 'Переключатели передач'), (14, 'Тормоза'), (15, 'Цепь'), (16, 'Обложка'), (17, 'Страницы'), (18, 'Переплет'), (19, 'Текст'), (20, 'Иллюстрации'), (21, 'Автор'), (22, 'Название'), (23, 'Издательство'), (24, 'Фундамент'), (25, 'Стены'), (26, 'Крыша'), (27, 'Окна'), (28, 'Двери'), (29, 'Пол'), (30, 'Потолок'), (31, 'Электрика'), (32, 'Сантехника')]\n"
          ]
        }
      ]
    },
    {
      "cell_type": "code",
      "source": [
        "def send_data(prompt):\n",
        "    response = chat.send_message(prompt)\n",
        "    return response.text\n",
        "\n",
        "\n",
        "chat = model.start_chat(history=[])"
      ],
      "metadata": {
        "id": "4OG67XO07ws-"
      },
      "execution_count": 20,
      "outputs": []
    },
    {
      "cell_type": "code",
      "source": [
        "send_data(f'Дан пронумерованный список с уникальными деталями: {list(enumerate(details))}. Найди в данном списке индексы уникальных деталей, относящихся к каждой группе из списка групп {groups}. Ответ напиши в виде словаря с ключом в виде группы и значением в виде списка деталей, относящихся к группе. Напиши только результат в виде словаря без комментариев. ')"
      ],
      "metadata": {
        "id": "3cA4fXdL-uD1",
        "outputId": "64ecc55f-94ae-49cb-f0e0-5ca850371e36",
        "colab": {
          "base_uri": "https://localhost:8080/",
          "height": 122
        }
      },
      "execution_count": 21,
      "outputs": [
        {
          "output_type": "execute_result",
          "data": {
            "text/plain": [
              "\"{'Компьютер': [0, 1, 2, 3, 4, 5, 6, 7], 'Велосипед': [8, 9, 10, 11, 12, 13, 14, 15], 'Книга': [16, 17, 18, 19, 20, 21, 22, 23], 'Дом': [24, 25, 26, 27, 28, 29, 30, 31, 32]} \\n\""
            ],
            "application/vnd.google.colaboratory.intrinsic+json": {
              "type": "string"
            }
          },
          "metadata": {},
          "execution_count": 21
        }
      ]
    },
    {
      "cell_type": "code",
      "source": [
        "import random\n",
        "random.shuffle(details)\n",
        "print(details)\n",
        "send_data(f'Дан пронумерованный список с уникальными деталями: {list(enumerate(details))}. Найди в данном списке индексы уникальных деталей, относящихся к каждой группе из списка групп {groups}. Ответ напиши в виде словаря с ключом в виде группы и значением в виде списка деталей, относящихся к группе. Напиши только результат в виде словаря без комментариев. ')"
      ],
      "metadata": {
        "colab": {
          "base_uri": "https://localhost:8080/",
          "height": 160
        },
        "id": "hhZ4uQt9Xio4",
        "outputId": "5dfdd993-18e3-406b-be99-e5f80b497829"
      },
      "execution_count": 22,
      "outputs": [
        {
          "output_type": "stream",
          "name": "stdout",
          "text": [
            "['Процессор', 'Крыша', 'Страницы', 'Переплет', 'Педали', 'Жесткий диск/SSD', 'Иллюстрации', 'Обложка', 'Текст', 'Цепь', 'Руль', 'Переключатели передач', 'Рама', 'Клавиатура', 'Окна', 'Материнская плата', 'Видеокарта', 'Тормоза', 'Двери', 'Сантехника', 'Стены', 'Название', 'Автор', 'Монитор', 'Электрика', 'Пол', 'Компьютерная мышь', 'Потолок', 'Оперативная память', 'Издательство', 'Колеса', 'Седло', 'Фундамент']\n"
          ]
        },
        {
          "output_type": "execute_result",
          "data": {
            "text/plain": [
              "\"{'Компьютер': [0, 5, 13, 15, 16, 23, 26, 28], 'Велосипед': [4, 9, 10, 11, 12, 17, 30, 31], 'Книга': [2, 3, 6, 7, 8, 21, 22, 29], 'Дом': [1, 14, 18, 19, 20, 24, 25, 27, 32]}\\n\""
            ],
            "application/vnd.google.colaboratory.intrinsic+json": {
              "type": "string"
            }
          },
          "metadata": {},
          "execution_count": 22
        }
      ]
    },
    {
      "cell_type": "code",
      "source": [
        "chat.history.clear()"
      ],
      "metadata": {
        "id": "pPPYRbnlErKc"
      },
      "execution_count": null,
      "outputs": []
    }
  ]
}