{
  "nbformat": 4,
  "nbformat_minor": 0,
  "metadata": {
    "colab": {
      "provenance": [],
      "authorship_tag": "ABX9TyMvnGzx+GzR1qEo/o7DHidZ",
      "include_colab_link": true
    },
    "kernelspec": {
      "name": "python3",
      "display_name": "Python 3"
    },
    "language_info": {
      "name": "python"
    }
  },
  "cells": [
    {
      "cell_type": "markdown",
      "metadata": {
        "id": "view-in-github",
        "colab_type": "text"
      },
      "source": [
        "<a href=\"https://colab.research.google.com/github/InowaR/colab/blob/main/ai_find_data.ipynb\" target=\"_parent\"><img src=\"https://colab.research.google.com/assets/colab-badge.svg\" alt=\"Open In Colab\"/></a>"
      ]
    },
    {
      "cell_type": "code",
      "execution_count": null,
      "metadata": {
        "id": "19GvzKAk1x_7"
      },
      "outputs": [],
      "source": [
        "import sys\n",
        "\n",
        "if \"google.colab\" in sys.modules:\n",
        "    from google.colab import auth\n",
        "\n",
        "    auth.authenticate_user()"
      ]
    },
    {
      "cell_type": "code",
      "source": [
        "from google.colab import userdata\n",
        "\n",
        "PROJECT_ID = userdata.get('PROJECT_ID')\n",
        "LOCATION = userdata.get('LOCATION')"
      ],
      "metadata": {
        "id": "dNrha2nf3DEJ"
      },
      "execution_count": null,
      "outputs": []
    },
    {
      "cell_type": "code",
      "source": [
        "import vertexai\n",
        "from vertexai.generative_models import GenerativeModel\n",
        "\n",
        "\n",
        "vertexai.init(project=PROJECT_ID, location=LOCATION)\n",
        "model = GenerativeModel(\"gemini-1.5-flash\")"
      ],
      "metadata": {
        "id": "2JXofPWR3GQS"
      },
      "execution_count": null,
      "outputs": []
    },
    {
      "cell_type": "code",
      "source": [
        "\n",
        "groups = [\n",
        "  \"Компьютер\",\n",
        "  \"Велосипед\",\n",
        "  \"Книга\",\n",
        "  \"Дом\"\n",
        "]\n",
        "\n",
        "\n",
        "details = [\n",
        "  \"Процессор\",\n",
        "  \"Материнская плата\",\n",
        "  \"Оперативная память\",\n",
        "  \"Жесткий диск/SSD\",\n",
        "  \"Видеокарта\",\n",
        "  \"Монитор\",\n",
        "  \"Клавиатура\",\n",
        "  \"Рама\",\n",
        "  \"Руль\",\n",
        "  \"Седло\",\n",
        "  \"Колеса\",\n",
        "  \"Педали\",\n",
        "  \"Тормоза\",\n",
        "  \"Цепь\",\n",
        "  \"Обложка\",\n",
        "  \"Страницы\",\n",
        "  \"Переплет\",\n",
        "  \"Иллюстрации\",\n",
        "  \"Автор\",\n",
        "  \"Название\",\n",
        "  \"Издательство\",\n",
        "  \"Фундамент\",\n",
        "  \"Стены\",\n",
        "  \"Крыша\",\n",
        "  \"Окна\",\n",
        "  \"Двери\",\n",
        "  \"Пол\",\n",
        "  \"Потолок\",\n",
        "  \"Сантехника\"\n",
        "]\n",
        "\n",
        "\n",
        "print(groups)\n",
        "print(list(enumerate(details)))"
      ],
      "metadata": {
        "colab": {
          "base_uri": "https://localhost:8080/"
        },
        "id": "1bblLBNf3JLW",
        "outputId": "2483fe91-cf93-4cab-ad0c-a89c162fe059"
      },
      "execution_count": 28,
      "outputs": [
        {
          "output_type": "stream",
          "name": "stdout",
          "text": [
            "['Компьютер', 'Велосипед', 'Книга', 'Дом']\n",
            "[(0, 'Процессор'), (1, 'Материнская плата'), (2, 'Оперативная память'), (3, 'Жесткий диск/SSD'), (4, 'Видеокарта'), (5, 'Монитор'), (6, 'Клавиатура'), (7, 'Рама'), (8, 'Руль'), (9, 'Седло'), (10, 'Колеса'), (11, 'Педали'), (12, 'Тормоза'), (13, 'Цепь'), (14, 'Обложка'), (15, 'Страницы'), (16, 'Переплет'), (17, 'Иллюстрации'), (18, 'Автор'), (19, 'Название'), (20, 'Издательство'), (21, 'Фундамент'), (22, 'Стены'), (23, 'Крыша'), (24, 'Окна'), (25, 'Двери'), (26, 'Пол'), (27, 'Потолок'), (28, 'Сантехника')]\n"
          ]
        }
      ]
    },
    {
      "cell_type": "code",
      "source": [
        "def send_data(prompt):\n",
        "    response = chat.send_message(prompt)\n",
        "    return response.text\n",
        "\n",
        "\n",
        "chat = model.start_chat(history=[])"
      ],
      "metadata": {
        "id": "4OG67XO07ws-"
      },
      "execution_count": 29,
      "outputs": []
    },
    {
      "cell_type": "code",
      "source": [
        "send_data(f'Дан пронумерованный список с уникальными деталями: {list(enumerate(details))}. Найди в данном списке индексы уникальных деталей, относящихся к каждой группе из списка групп {groups}. Ответ напиши в виде словаря с ключом в виде группы и значением в виде списка деталей, относящихся к группе. Напиши только результат в виде словаря без комментариев. ')"
      ],
      "metadata": {
        "id": "3cA4fXdL-uD1",
        "outputId": "c1fda9e1-8635-463c-e12d-49ccbc5dd0bf",
        "colab": {
          "base_uri": "https://localhost:8080/",
          "height": 122
        }
      },
      "execution_count": 30,
      "outputs": [
        {
          "output_type": "execute_result",
          "data": {
            "text/plain": [
              "\"{'Компьютер': [0, 1, 2, 3, 4, 5, 6], 'Велосипед': [7, 8, 9, 10, 11, 12, 13], 'Книга': [14, 15, 16, 17, 18, 19, 20], 'Дом': [21, 22, 23, 24, 25, 26, 27, 28]} \\n\""
            ],
            "application/vnd.google.colaboratory.intrinsic+json": {
              "type": "string"
            }
          },
          "metadata": {},
          "execution_count": 30
        }
      ]
    },
    {
      "cell_type": "code",
      "source": [
        "import random\n",
        "random.shuffle(details)\n",
        "print(details)\n",
        "send_data(f'Дан пронумерованный список с уникальными деталями: {list(enumerate(details))}. Найди в данном списке индексы уникальных деталей, относящихся к каждой группе из списка групп {groups}. Ответ напиши в виде словаря с ключом в виде группы и значением в виде списка деталей, относящихся к группе. Напиши только результат в виде словаря без комментариев. ')"
      ],
      "metadata": {
        "colab": {
          "base_uri": "https://localhost:8080/",
          "height": 160
        },
        "id": "hhZ4uQt9Xio4",
        "outputId": "9d7c940c-c914-4a8c-b5bd-5dc2ffbe298f"
      },
      "execution_count": 32,
      "outputs": [
        {
          "output_type": "stream",
          "name": "stdout",
          "text": [
            "['Стены', 'Клавиатура', 'Издательство', 'Оперативная память', 'Страницы', 'Педали', 'Седло', 'Крыша', 'Рама', 'Колеса', 'Монитор', 'Иллюстрации', 'Тормоза', 'Потолок', 'Переплет', 'Автор', 'Процессор', 'Название', 'Окна', 'Обложка', 'Руль', 'Цепь', 'Видеокарта', 'Фундамент', 'Материнская плата', 'Двери', 'Сантехника', 'Жесткий диск/SSD', 'Пол']\n"
          ]
        },
        {
          "output_type": "execute_result",
          "data": {
            "text/plain": [
              "\"{'Компьютер': [1, 3, 10, 16, 22, 24, 27], 'Велосипед': [5, 6, 8, 9, 12, 20, 21], 'Книга': [2, 4, 11, 14, 15, 17, 19], 'Дом': [0, 7, 13, 18, 23, 25, 26, 28]} \\n\""
            ],
            "application/vnd.google.colaboratory.intrinsic+json": {
              "type": "string"
            }
          },
          "metadata": {},
          "execution_count": 32
        }
      ]
    },
    {
      "cell_type": "code",
      "source": [
        "chat.history.clear()"
      ],
      "metadata": {
        "id": "pPPYRbnlErKc"
      },
      "execution_count": 31,
      "outputs": []
    }
  ]
}