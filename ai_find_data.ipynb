{
  "nbformat": 4,
  "nbformat_minor": 0,
  "metadata": {
    "colab": {
      "provenance": [],
      "authorship_tag": "ABX9TyNoO0wWSwUG5RHSQFwqdJ8p",
      "include_colab_link": true
    },
    "kernelspec": {
      "name": "python3",
      "display_name": "Python 3"
    },
    "language_info": {
      "name": "python"
    }
  },
  "cells": [
    {
      "cell_type": "markdown",
      "metadata": {
        "id": "view-in-github",
        "colab_type": "text"
      },
      "source": [
        "<a href=\"https://colab.research.google.com/github/InowaR/colab/blob/main/ai_find_data.ipynb\" target=\"_parent\"><img src=\"https://colab.research.google.com/assets/colab-badge.svg\" alt=\"Open In Colab\"/></a>"
      ]
    },
    {
      "cell_type": "code",
      "execution_count": 1,
      "metadata": {
        "id": "19GvzKAk1x_7"
      },
      "outputs": [],
      "source": [
        "import sys\n",
        "\n",
        "if \"google.colab\" in sys.modules:\n",
        "    from google.colab import auth\n",
        "\n",
        "    auth.authenticate_user()"
      ]
    },
    {
      "cell_type": "code",
      "source": [
        "from google.colab import userdata\n",
        "\n",
        "PROJECT_ID = userdata.get('PROJECT_ID')\n",
        "LOCATION = userdata.get('LOCATION')"
      ],
      "metadata": {
        "id": "dNrha2nf3DEJ"
      },
      "execution_count": 2,
      "outputs": []
    },
    {
      "cell_type": "code",
      "source": [
        "import vertexai\n",
        "from vertexai.generative_models import GenerativeModel\n",
        "\n",
        "\n",
        "vertexai.init(project=PROJECT_ID, location=LOCATION)\n",
        "model = GenerativeModel(\"gemini-1.5-flash\")"
      ],
      "metadata": {
        "id": "2JXofPWR3GQS"
      },
      "execution_count": 3,
      "outputs": []
    },
    {
      "cell_type": "code",
      "source": [
        "\n",
        "groups = [\n",
        "  \"Компьютер\",\n",
        "  \"Велосипед\",\n",
        "  \"Книга\",\n",
        "  \"Дом\"\n",
        "]\n",
        "\n",
        "\n",
        "details = [\n",
        "  \"Процессор\",\n",
        "  \"Материнская плата\",\n",
        "  \"Оперативная память\",\n",
        "  \"Жесткий диск/SSD\",\n",
        "  \"Видеокарта\",\n",
        "  \"Монитор\",\n",
        "  \"Клавиатура\",\n",
        "  \"Компьютерная мышь\",\n",
        "  \"Рама\",\n",
        "  \"Руль\",\n",
        "  \"Седло\",\n",
        "  \"Колеса\",\n",
        "  \"Педали\",\n",
        "  \"Переключатели передач\",\n",
        "  \"Тормоза\",\n",
        "  \"Цепь\",\n",
        "  \"Обложка\",\n",
        "  \"Страницы\",\n",
        "  \"Переплет\",\n",
        "  \"Текст\",\n",
        "  \"Иллюстрации\",\n",
        "  \"Автор\",\n",
        "  \"Название\",\n",
        "  \"Издательство\",\n",
        "  \"Фундамент\",\n",
        "  \"Стены\",\n",
        "  \"Крыша\",\n",
        "  \"Окна\",\n",
        "  \"Двери\",\n",
        "  \"Пол\",\n",
        "  \"Потолок\",\n",
        "  \"Электрика\",\n",
        "  \"Сантехника\"\n",
        "]\n",
        "\n",
        "\n",
        "print(groups)\n",
        "print(details)"
      ],
      "metadata": {
        "colab": {
          "base_uri": "https://localhost:8080/"
        },
        "id": "1bblLBNf3JLW",
        "outputId": "fb9213a6-3c33-43e0-fabb-d266747e2760"
      },
      "execution_count": 10,
      "outputs": [
        {
          "output_type": "stream",
          "name": "stdout",
          "text": [
            "['Компьютер', 'Велосипед', 'Книга', 'Дом']\n",
            "['Процессор', 'Материнская плата', 'Оперативная память', 'Жесткий диск/SSD', 'Видеокарта', 'Монитор', 'Клавиатура', 'Компьютерная мышь', 'Рама', 'Руль', 'Седло', 'Колеса', 'Педали', 'Переключатели передач', 'Тормоза', 'Цепь', 'Обложка', 'Страницы', 'Переплет', 'Текст', 'Иллюстрации', 'Автор', 'Название', 'Издательство', 'Фундамент', 'Стены', 'Крыша', 'Окна', 'Двери', 'Пол', 'Потолок', 'Электрика', 'Сантехника']\n"
          ]
        }
      ]
    },
    {
      "cell_type": "code",
      "source": [
        "def send_data(prompt):\n",
        "    response = chat.send_message(prompt)\n",
        "    return response.text\n",
        "\n",
        "\n",
        "chat = model.start_chat(history=[])"
      ],
      "metadata": {
        "id": "4OG67XO07ws-"
      },
      "execution_count": 11,
      "outputs": []
    },
    {
      "cell_type": "code",
      "source": [
        "send_data(f'Дан список с уникальными деталями: {details}. Найди в данном списке индексы уникальных деталей, относящихся к каждой группе из списка групп {groups}. Ответ напиши в виде словаря с ключом в виде группы и значением в виде списка деталей, относящихся к группе. Напиши только результат в виде словаря без комментариев. ')"
      ],
      "metadata": {
        "id": "3cA4fXdL-uD1",
        "outputId": "d755e14e-b60e-4473-c256-6a1a5b131ddf",
        "colab": {
          "base_uri": "https://localhost:8080/",
          "height": 122
        }
      },
      "execution_count": 12,
      "outputs": [
        {
          "output_type": "execute_result",
          "data": {
            "text/plain": [
              "\"```python\\n{'Компьютер': [0, 1, 2, 3, 4, 5, 6, 7], 'Велосипед': [8, 9, 10, 11, 12, 13, 14, 15], 'Книга': [16, 17, 18, 19, 20, 21, 22, 23], 'Дом': [24, 25, 26, 27, 28, 29, 30, 31, 32]}\\n```\""
            ],
            "application/vnd.google.colaboratory.intrinsic+json": {
              "type": "string"
            }
          },
          "metadata": {},
          "execution_count": 12
        }
      ]
    },
    {
      "cell_type": "code",
      "source": [
        "import random\n",
        "random.shuffle(details)\n",
        "print(details)\n",
        "send_data(f'Дан список с уникальными деталями: {details}. Найди в данном списке индексы уникальных деталей, относящихся к каждой группе из списка групп {groups}. Ответ напиши в виде словаря с ключом в виде группы и значением в виде списка деталей, относящихся к группе. Напиши только результат в виде словаря без комментариев. ')"
      ],
      "metadata": {
        "colab": {
          "base_uri": "https://localhost:8080/",
          "height": 160
        },
        "id": "hhZ4uQt9Xio4",
        "outputId": "2b044f15-d743-49ec-cdde-ed7562f93845"
      },
      "execution_count": 13,
      "outputs": [
        {
          "output_type": "stream",
          "name": "stdout",
          "text": [
            "['Оперативная память', 'Двери', 'Процессор', 'Руль', 'Цепь', 'Текст', 'Стены', 'Окна', 'Переплет', 'Компьютерная мышь', 'Жесткий диск/SSD', 'Страницы', 'Педали', 'Название', 'Издательство', 'Тормоза', 'Сантехника', 'Иллюстрации', 'Потолок', 'Обложка', 'Крыша', 'Клавиатура', 'Видеокарта', 'Переключатели передач', 'Автор', 'Электрика', 'Фундамент', 'Материнская плата', 'Пол', 'Колеса', 'Седло', 'Монитор', 'Рама']\n"
          ]
        },
        {
          "output_type": "execute_result",
          "data": {
            "text/plain": [
              "\"```python\\n{'Компьютер': [0, 2, 9, 10, 22, 23, 31, 32], 'Велосипед': [3, 4, 12, 15, 30, 33, 34], 'Книга': [5, 8, 11, 13, 14, 17, 19, 20], 'Дом': [1, 6, 7, 16, 18, 21, 26, 27, 28, 29]}\\n```\""
            ],
            "application/vnd.google.colaboratory.intrinsic+json": {
              "type": "string"
            }
          },
          "metadata": {},
          "execution_count": 13
        }
      ]
    },
    {
      "cell_type": "code",
      "source": [
        "chat.history.clear()"
      ],
      "metadata": {
        "id": "pPPYRbnlErKc"
      },
      "execution_count": null,
      "outputs": []
    }
  ]
}