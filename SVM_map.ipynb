{
  "nbformat": 4,
  "nbformat_minor": 0,
  "metadata": {
    "colab": {
      "provenance": [],
      "authorship_tag": "ABX9TyNTPZac7y+2Y1mDU3mmz5Lc",
      "include_colab_link": true
    },
    "kernelspec": {
      "name": "python3",
      "display_name": "Python 3"
    },
    "language_info": {
      "name": "python"
    }
  },
  "cells": [
    {
      "cell_type": "markdown",
      "metadata": {
        "id": "view-in-github",
        "colab_type": "text"
      },
      "source": [
        "<a href=\"https://colab.research.google.com/github/InowaR/colab/blob/main/SVM_map.ipynb\" target=\"_parent\"><img src=\"https://colab.research.google.com/assets/colab-badge.svg\" alt=\"Open In Colab\"/></a>"
      ]
    },
    {
      "cell_type": "code",
      "source": [
        "import random\n",
        "import numpy as np\n",
        "from sklearn import svm\n",
        "from sklearn.model_selection import train_test_split\n",
        "\n",
        "\n",
        "max_path_length = 15\n",
        "center = (7, 7)\n",
        "number_of_maps = 2500\n",
        "\n",
        "\n",
        "def generate_map():\n",
        "    game_map = [[0 for _ in range(max_path_length)] for _ in range(max_path_length)]\n",
        "    game_map[center[0]][center[1]] = 2\n",
        "    while True:\n",
        "        x, y = random.randint(0, max_path_length-1), random.randint(0, max_path_length-1)\n",
        "        if (x, y) != center:\n",
        "            game_map[x][y] = 1\n",
        "            break\n",
        "\n",
        "    return game_map, (x, y)\n",
        "\n",
        "def find_path(start, goal):\n",
        "    path = []\n",
        "    x, y = start\n",
        "    gx, gy = goal\n",
        "\n",
        "    while (x, y) != (gx, gy):\n",
        "        if x < gx:\n",
        "            path.append([0, 0])  # Движение вниз\n",
        "            x += 1\n",
        "        elif x > gx:\n",
        "            path.append([1, 1])  # Движение вверх\n",
        "            x -= 1\n",
        "\n",
        "        if y < gy:\n",
        "            path.append([0, 1])  # Движение вправо\n",
        "            y += 1\n",
        "        elif y > gy:\n",
        "            path.append([1 ,0])  # Движение влево\n",
        "            y -= 1\n",
        "\n",
        "    return path\n",
        "\n",
        "maps = []\n",
        "paths = []\n",
        "\n",
        "\n",
        "for _ in range(number_of_maps):\n",
        "    game_map, goal = generate_map()\n",
        "    maps.append(game_map)\n",
        "    path = find_path(center, goal)\n",
        "    paths.append(path)\n",
        "\n",
        "\n",
        "for i in range(len(paths)):\n",
        "    while len(paths[i]) < max_path_length:\n",
        "        paths[i].append([0, 0])\n",
        "\n",
        "\n",
        "X = []\n",
        "new_paths = []\n",
        "\n",
        "\n",
        "for i in range(number_of_maps):\n",
        "    map_features = np.array(maps[i]).flatten()\n",
        "    X.append(map_features)\n",
        "    path_features = np.array(paths[i]).flatten()\n",
        "    new_paths.append(path_features)\n",
        "\n",
        "y = []\n",
        "for i in new_paths:\n",
        "    string_number = ''.join(map(str, i))\n",
        "    decimal_number = int(string_number, 2)\n",
        "    y.append(decimal_number)\n",
        "\n",
        "print(\"Первая карта:\")\n",
        "for row in maps[0]:\n",
        "    print(row)\n",
        "print(\"Путь к цели:\", paths[0])\n",
        "\n",
        "\n",
        "X = np.array(X)\n",
        "y = np.array(y)\n",
        "\n",
        "print(X.shape)\n",
        "print(y.shape)"
      ],
      "metadata": {
        "colab": {
          "base_uri": "https://localhost:8080/"
        },
        "id": "1gFiWWAmuz2d",
        "outputId": "e22ba6da-89fe-4154-e7b3-ce536cbdf467"
      },
      "execution_count": 184,
      "outputs": [
        {
          "output_type": "stream",
          "name": "stdout",
          "text": [
            "Первая карта:\n",
            "[0, 0, 0, 0, 0, 0, 0, 0, 0, 0, 0, 0, 0, 0, 0]\n",
            "[0, 1, 0, 0, 0, 0, 0, 0, 0, 0, 0, 0, 0, 0, 0]\n",
            "[0, 0, 0, 0, 0, 0, 0, 0, 0, 0, 0, 0, 0, 0, 0]\n",
            "[0, 0, 0, 0, 0, 0, 0, 0, 0, 0, 0, 0, 0, 0, 0]\n",
            "[0, 0, 0, 0, 0, 0, 0, 0, 0, 0, 0, 0, 0, 0, 0]\n",
            "[0, 0, 0, 0, 0, 0, 0, 0, 0, 0, 0, 0, 0, 0, 0]\n",
            "[0, 0, 0, 0, 0, 0, 0, 0, 0, 0, 0, 0, 0, 0, 0]\n",
            "[0, 0, 0, 0, 0, 0, 0, 2, 0, 0, 0, 0, 0, 0, 0]\n",
            "[0, 0, 0, 0, 0, 0, 0, 0, 0, 0, 0, 0, 0, 0, 0]\n",
            "[0, 0, 0, 0, 0, 0, 0, 0, 0, 0, 0, 0, 0, 0, 0]\n",
            "[0, 0, 0, 0, 0, 0, 0, 0, 0, 0, 0, 0, 0, 0, 0]\n",
            "[0, 0, 0, 0, 0, 0, 0, 0, 0, 0, 0, 0, 0, 0, 0]\n",
            "[0, 0, 0, 0, 0, 0, 0, 0, 0, 0, 0, 0, 0, 0, 0]\n",
            "[0, 0, 0, 0, 0, 0, 0, 0, 0, 0, 0, 0, 0, 0, 0]\n",
            "[0, 0, 0, 0, 0, 0, 0, 0, 0, 0, 0, 0, 0, 0, 0]\n",
            "Путь к цели: [[1, 1], [1, 0], [1, 1], [1, 0], [1, 1], [1, 0], [1, 1], [1, 0], [1, 1], [1, 0], [1, 1], [1, 0], [0, 0], [0, 0], [0, 0]]\n",
            "(2500, 225)\n",
            "(2500,)\n"
          ]
        }
      ]
    },
    {
      "cell_type": "code",
      "source": [
        "X_train, X_test, y_train, y_test = train_test_split(X, y, test_size=0.2, random_state=42)\n",
        "\n",
        "\n",
        "model = svm.SVC(kernel='rbf', gamma='scale')\n",
        "model.fit(X_train, y_train)\n",
        "\n",
        "print(\"Первая карта:\")\n",
        "print(X_test[0].reshape(15, 15))\n",
        "\n",
        "y_pred = model.predict(X_test[0].reshape(1, -1))\n",
        "\n",
        "print(\"Путь к цели:\")\n",
        "n = str(format(y_pred[0], '0{}b'.format(30)))\n",
        "for i in range(0, len(n), 2):\n",
        "    pair = n[i:i+2]\n",
        "    if pair == '00':\n",
        "        print(\"Назад\")\n",
        "    elif pair == '11':\n",
        "        print(\"Вперед\")\n",
        "    elif pair == '10':\n",
        "        print(\"Налево\")\n",
        "    elif pair == '01':\n",
        "        print(\"Направо\")"
      ],
      "metadata": {
        "colab": {
          "base_uri": "https://localhost:8080/"
        },
        "id": "_5zKzfm3lv5P",
        "outputId": "8387aeb9-58c9-45a7-ca2d-025b23d8625e"
      },
      "execution_count": 185,
      "outputs": [
        {
          "output_type": "stream",
          "name": "stdout",
          "text": [
            "Первая карта:\n",
            "[[0 0 0 0 0 0 0 0 0 0 0 0 0 0 0]\n",
            " [0 0 0 0 0 0 0 0 0 0 0 0 0 0 0]\n",
            " [0 0 0 0 0 0 0 0 0 0 0 0 0 0 0]\n",
            " [0 0 0 0 0 0 0 0 0 0 0 0 0 0 0]\n",
            " [0 0 0 0 0 0 0 0 0 0 0 0 0 0 0]\n",
            " [0 0 0 0 0 0 0 0 0 0 0 0 0 0 0]\n",
            " [0 0 0 0 0 0 0 0 0 0 0 0 0 0 0]\n",
            " [0 0 0 1 0 0 0 2 0 0 0 0 0 0 0]\n",
            " [0 0 0 0 0 0 0 0 0 0 0 0 0 0 0]\n",
            " [0 0 0 0 0 0 0 0 0 0 0 0 0 0 0]\n",
            " [0 0 0 0 0 0 0 0 0 0 0 0 0 0 0]\n",
            " [0 0 0 0 0 0 0 0 0 0 0 0 0 0 0]\n",
            " [0 0 0 0 0 0 0 0 0 0 0 0 0 0 0]\n",
            " [0 0 0 0 0 0 0 0 0 0 0 0 0 0 0]\n",
            " [0 0 0 0 0 0 0 0 0 0 0 0 0 0 0]]\n",
            "Путь к цели:\n",
            "Налево\n",
            "Налево\n",
            "Налево\n",
            "Налево\n",
            "Назад\n",
            "Назад\n",
            "Назад\n",
            "Назад\n",
            "Назад\n",
            "Назад\n",
            "Назад\n",
            "Назад\n",
            "Назад\n",
            "Назад\n",
            "Назад\n"
          ]
        }
      ]
    }
  ]
}