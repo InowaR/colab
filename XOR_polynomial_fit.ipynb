{
  "nbformat": 4,
  "nbformat_minor": 0,
  "metadata": {
    "colab": {
      "provenance": [],
      "authorship_tag": "ABX9TyNtq6u99jWiTOPudv7djaj0",
      "include_colab_link": true
    },
    "kernelspec": {
      "name": "python3",
      "display_name": "Python 3"
    },
    "language_info": {
      "name": "python"
    }
  },
  "cells": [
    {
      "cell_type": "markdown",
      "metadata": {
        "id": "view-in-github",
        "colab_type": "text"
      },
      "source": [
        "<a href=\"https://colab.research.google.com/github/InowaR/colab/blob/main/XOR_polynomial_fit.ipynb\" target=\"_parent\"><img src=\"https://colab.research.google.com/assets/colab-badge.svg\" alt=\"Open In Colab\"/></a>"
      ]
    },
    {
      "cell_type": "code",
      "source": [
        "import numpy as np\n",
        "\n",
        "# Данные XOR\n",
        "X_xor = np.array([[0, 0], [0, 1], [1, 0], [1, 1]])\n",
        "y_xor = np.array([0, 1, 1, 0])\n",
        "\n",
        "# Создание матрицы полиномиальных признаков X\n",
        "# Формируем признаки: [1, x1, x2, x1*x2, x1^2, x2^2] для каждого примера\n",
        "X_poly = np.array([\n",
        "    [1, 0, 0, 0*0, 0**2, 0**2],  # для [0, 0]\n",
        "    [1, 0, 1, 0*1, 0**2, 1**2],  # для [0, 1]\n",
        "    [1, 1, 0, 1*0, 1**2, 0**2],  # для [1, 0]\n",
        "    [1, 1, 1, 1*1, 1**2, 1**2]   # для [1, 1]\n",
        "])\n",
        "\n",
        "w = np.zeros(6)\n",
        "lr = 0.01\n",
        "epsilon = 1e-5\n",
        "\n",
        "for epoch in range(10000):\n",
        "    current_loss = np.mean((X_poly @ w - y_xor) ** 2)\n",
        "\n",
        "    grad = np.zeros(6)\n",
        "\n",
        "    for i in range(6):\n",
        "        w_plus = w.copy()\n",
        "        w_minus = w.copy()\n",
        "        w_plus[i] += epsilon\n",
        "        w_minus[i] -= epsilon\n",
        "\n",
        "        loss_plus = np.mean((X_poly @ w_plus - y_xor) ** 2)\n",
        "        loss_minus = np.mean((X_poly @ w_minus - y_xor) ** 2)\n",
        "\n",
        "        grad[i] = (loss_plus - loss_minus) / (2 * epsilon)\n",
        "\n",
        "    w -= lr * grad\n",
        "\n",
        "    if epoch % 1000 == 0:\n",
        "        print(f\"Epoch {epoch}, Loss: {current_loss:.6f}\")\n",
        "\n",
        "    if current_loss < 1e-6:\n",
        "        print(f\"Сошлось на эпохе {epoch}\")\n",
        "        break\n",
        "\n",
        "print(\"\\nОбученные коэффициенты:\")\n",
        "labels = ['константа', 'x1', 'x2', 'x1*x2', 'x1^2', 'x2^2']\n",
        "for i in range(6):\n",
        "    print(f\"w{i} ({labels[i]}): {w[i]:.6f}\")\n",
        "\n",
        "print(\"\\nПредсказания:\")\n",
        "for i in range(4):\n",
        "    pred = X_poly[i] @ w\n",
        "    print(f\"{X_xor[i]} -> {pred:.6f} (должно: {y_xor[i]})\")"
      ],
      "metadata": {
        "colab": {
          "base_uri": "https://localhost:8080/"
        },
        "id": "aTFQfdzF_7kC",
        "outputId": "e9e29e53-43db-4b96-a3af-554a5e1aa3b8"
      },
      "execution_count": 122,
      "outputs": [
        {
          "output_type": "stream",
          "name": "stdout",
          "text": [
            "Epoch 0, Loss: 0.500000\n",
            "Epoch 1000, Loss: 0.033724\n",
            "Epoch 2000, Loss: 0.005506\n",
            "Epoch 3000, Loss: 0.000899\n",
            "Epoch 4000, Loss: 0.000147\n",
            "Epoch 5000, Loss: 0.000024\n",
            "Epoch 6000, Loss: 0.000004\n",
            "Сошлось на эпохе 6753\n",
            "\n",
            "Обученные коэффициенты:\n",
            "w0 (константа): 0.001359\n",
            "w1 (x1): 0.498866\n",
            "w2 (x2): 0.498866\n",
            "w3 (x1*x2): -1.996123\n",
            "w4 (x1^2): 0.498866\n",
            "w5 (x2^2): 0.498866\n",
            "\n",
            "Предсказания:\n",
            "[0 0] -> 0.001359 (должно: 0)\n",
            "[0 1] -> 0.999092 (должно: 1)\n",
            "[1 0] -> 0.999092 (должно: 1)\n",
            "[1 1] -> 0.000702 (должно: 0)\n"
          ]
        }
      ]
    }
  ]
}