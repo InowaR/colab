{
  "nbformat": 4,
  "nbformat_minor": 0,
  "metadata": {
    "colab": {
      "name": "not_save.ipynb",
      "provenance": [],
      "authorship_tag": "ABX9TyOIockAVrxFlHIV/Rv8ULGf",
      "include_colab_link": true
    },
    "kernelspec": {
      "name": "python3",
      "display_name": "Python 3"
    },
    "language_info": {
      "name": "python"
    }
  },
  "cells": [
    {
      "cell_type": "markdown",
      "metadata": {
        "id": "view-in-github",
        "colab_type": "text"
      },
      "source": [
        "<a href=\"https://colab.research.google.com/github/InowaR/colab/blob/main/not_save.ipynb\" target=\"_parent\"><img src=\"https://colab.research.google.com/assets/colab-badge.svg\" alt=\"Open In Colab\"/></a>"
      ]
    },
    {
      "cell_type": "code",
      "execution_count": 1,
      "metadata": {
        "colab": {
          "base_uri": "https://localhost:8080/"
        },
        "id": "I34JkRRgogq5",
        "outputId": "42c90668-a85d-48f3-e1ef-0dd733d4a7b2"
      },
      "outputs": [
        {
          "output_type": "stream",
          "name": "stdout",
          "text": [
            "Downloading data from https://storage.googleapis.com/tensorflow/tf-keras-datasets/mnist.npz\n",
            "11493376/11490434 [==============================] - 0s 0us/step\n",
            "11501568/11490434 [==============================] - 0s 0us/step\n",
            "463.9551\n",
            "200.35457\n",
            "138.37218\n",
            "105.52378\n",
            "79.90838\n",
            "63.096867\n",
            "49.647438\n",
            "39.703804\n",
            "31.13667\n",
            "26.474941\n",
            "97.64\n"
          ]
        }
      ],
      "source": [
        "import tensorflow as tf\n",
        "from tensorflow.keras.datasets import mnist\n",
        "from tensorflow.keras.utils import to_categorical\n",
        "import numpy as np\n",
        "\n",
        "class DenseNN(tf.Module):\n",
        "    def __init__(self, outputs, activate=\"relu\"):\n",
        "        super().__init__()\n",
        "        self.outputs = outputs\n",
        "        self.activate = activate\n",
        "        self.fl_init = False\n",
        "\n",
        "    def __call__(self, x):\n",
        "        if not self.fl_init:\n",
        "            self.w = tf.random.truncated_normal((x.shape[-1], self.outputs), stddev=0.1, name=\"w\")\n",
        "            self.b = tf.zeros([self.outputs], dtype=tf.float32, name=\"b\")\n",
        "\n",
        "            self.w = tf.Variable(self.w)\n",
        "            self.b = tf.Variable(self.b)\n",
        "\n",
        "            self.fl_init = True\n",
        "\n",
        "        y = x @ self.w + self.b\n",
        "\n",
        "        if self.activate == \"relu\":\n",
        "            return tf.nn.relu(y)\n",
        "        elif self.activate == \"softmax\":\n",
        "            return tf.nn.softmax(y)\n",
        "\n",
        "        return y\n",
        "\n",
        "\n",
        "(x_train, y_train), (x_test, y_test) = mnist.load_data()\n",
        "\n",
        "x_train = x_train / 255\n",
        "x_test = x_test / 255\n",
        "\n",
        "x_train = tf.reshape(tf.cast(x_train, tf.float32), [-1, 28*28])\n",
        "x_test = tf.reshape(tf.cast(x_test, tf.float32), [-1, 28*28])\n",
        "\n",
        "y_train = to_categorical(y_train, 10)\n",
        "\n",
        "\n",
        "layer_1 = DenseNN(128)\n",
        "layer_2 = DenseNN(10, activate=\"softmax\")\n",
        "\n",
        "\n",
        "def model_predict(x):\n",
        "    y = layer_1(x)\n",
        "    y = layer_2(y)\n",
        "    return y            # layer_2(layer_1(x))\n",
        "\n",
        "\n",
        "cross_entropy = lambda y_true, y_pred: tf.reduce_mean(tf.losses.categorical_crossentropy(y_true, y_pred))\n",
        "opt = tf.optimizers.Adam(learning_rate=0.001)\n",
        "\n",
        "BATCH_SIZE = 32\n",
        "EPOCHS = 10\n",
        "TOTAL = x_train.shape[0]\n",
        "\n",
        "train_dataset = tf.data.Dataset.from_tensor_slices((x_train, y_train))\n",
        "train_dataset = train_dataset.shuffle(buffer_size=1024).batch(BATCH_SIZE)\n",
        "\n",
        "for n in range(EPOCHS):\n",
        "    loss = 0\n",
        "\n",
        "    for x_batch, y_batch in train_dataset:\n",
        "        with tf.GradientTape() as tape:\n",
        "            f_loss = cross_entropy(y_batch, model_predict(x_batch))\n",
        "\n",
        "        loss += f_loss\n",
        "        grads = tape.gradient(f_loss, [layer_1.trainable_variables, layer_2.trainable_variables])\n",
        "        opt.apply_gradients(zip(grads[0], layer_1.trainable_variables))\n",
        "        opt.apply_gradients(zip(grads[1], layer_2.trainable_variables))\n",
        "\n",
        "    print(loss.numpy())\n",
        "\n",
        "y = model_predict(x_test)\n",
        "y2 = tf.argmax(y, axis=1).numpy()\n",
        "acc = len(y_test[y_test == y2])/y_test.shape[0] * 100\n",
        "print(acc)\n",
        "\n",
        "\n",
        "# acc = tf.metrics.Accuracy()\n",
        "# acc.update_state(y_test, y2)\n",
        "# print( acc.result().numpy() * 100 )"
      ]
    }
  ]
}