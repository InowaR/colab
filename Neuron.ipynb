{
  "nbformat": 4,
  "nbformat_minor": 0,
  "metadata": {
    "colab": {
      "name": "Neuron.ipynb",
      "provenance": [],
      "authorship_tag": "ABX9TyPvjWn3XVKP+ctZBES/g0Ov",
      "include_colab_link": true
    },
    "kernelspec": {
      "name": "python3",
      "display_name": "Python 3"
    },
    "language_info": {
      "name": "python"
    }
  },
  "cells": [
    {
      "cell_type": "markdown",
      "metadata": {
        "id": "view-in-github",
        "colab_type": "text"
      },
      "source": [
        "<a href=\"https://colab.research.google.com/github/InowaR/colab/blob/main/Neuron.ipynb\" target=\"_parent\"><img src=\"https://colab.research.google.com/assets/colab-badge.svg\" alt=\"Open In Colab\"/></a>"
      ]
    },
    {
      "cell_type": "code",
      "execution_count": 13,
      "metadata": {
        "colab": {
          "base_uri": "https://localhost:8080/"
        },
        "id": "LZus60EvHaVJ",
        "outputId": "10180309-aec8-4235-c131-3a3b5355114e"
      },
      "outputs": [
        {
          "output_type": "stream",
          "name": "stdout",
          "text": [
            "<__main__.Neuron object at 0x7fd8609c0dd0>\n"
          ]
        }
      ],
      "source": [
        "import numpy as np\n",
        "# ---------------------------\n",
        "weights = np.array([0, 1])\n",
        "bias = 4\n",
        "# ---------------------------\n",
        "\n",
        "# def sigmoid(x):\n",
        "#   return 1/(1 + np.exp(-x))\n",
        "class Neuron():\n",
        "  def __init__(self, weights, bias):\n",
        "    self.weights = weights\n",
        "    self.bias = bias\n",
        "  def feedforward(self, inputs):\n",
        "    total = np.dot(self.weights, inputs) + self.bias # <----------------np.dot\n",
        "    return total \n",
        "n = Neuron(weights, bias)\n",
        "print(n)\n"
      ]
    }
  ]
}