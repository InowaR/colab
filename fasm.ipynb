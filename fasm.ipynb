{
  "nbformat": 4,
  "nbformat_minor": 0,
  "metadata": {
    "colab": {
      "provenance": [],
      "authorship_tag": "ABX9TyOAcOB1TNOHoPiFEGMge6ky",
      "include_colab_link": true
    },
    "kernelspec": {
      "name": "python3",
      "display_name": "Python 3"
    },
    "language_info": {
      "name": "python"
    }
  },
  "cells": [
    {
      "cell_type": "markdown",
      "metadata": {
        "id": "view-in-github",
        "colab_type": "text"
      },
      "source": [
        "<a href=\"https://colab.research.google.com/github/InowaR/colab/blob/main/fasm.ipynb\" target=\"_parent\"><img src=\"https://colab.research.google.com/assets/colab-badge.svg\" alt=\"Open In Colab\"/></a>"
      ]
    },
    {
      "cell_type": "code",
      "source": [
        "!pip install keystone-engine\n",
        "!pip install capstone"
      ],
      "metadata": {
        "colab": {
          "base_uri": "https://localhost:8080/"
        },
        "id": "18Xt82MdLGnK",
        "outputId": "1875075e-50d4-4f13-91ae-1b0db8377f19"
      },
      "execution_count": 1,
      "outputs": [
        {
          "output_type": "stream",
          "name": "stdout",
          "text": [
            "Collecting keystone-engine\n",
            "  Downloading keystone_engine-0.9.2-py2.py3-none-manylinux1_x86_64.whl.metadata (1.8 kB)\n",
            "Downloading keystone_engine-0.9.2-py2.py3-none-manylinux1_x86_64.whl (1.8 MB)\n",
            "\u001b[2K   \u001b[90m━━━━━━━━━━━━━━━━━━━━━━━━━━━━━━━━━━━━━━━━\u001b[0m \u001b[32m1.8/1.8 MB\u001b[0m \u001b[31m12.8 MB/s\u001b[0m eta \u001b[36m0:00:00\u001b[0m\n",
            "\u001b[?25hInstalling collected packages: keystone-engine\n",
            "Successfully installed keystone-engine-0.9.2\n",
            "Collecting capstone\n",
            "  Downloading capstone-5.0.5-py3-none-manylinux_2_17_x86_64.manylinux2014_x86_64.whl.metadata (3.3 kB)\n",
            "Downloading capstone-5.0.5-py3-none-manylinux_2_17_x86_64.manylinux2014_x86_64.whl (1.5 MB)\n",
            "\u001b[2K   \u001b[90m━━━━━━━━━━━━━━━━━━━━━━━━━━━━━━━━━━━━━━━━\u001b[0m \u001b[32m1.5/1.5 MB\u001b[0m \u001b[31m10.7 MB/s\u001b[0m eta \u001b[36m0:00:00\u001b[0m\n",
            "\u001b[?25hInstalling collected packages: capstone\n",
            "Successfully installed capstone-5.0.5\n"
          ]
        }
      ]
    },
    {
      "cell_type": "code",
      "source": [
        "from keystone import Ks, KS_ARCH_X86, KS_MODE_32\n",
        "\n",
        "# Инициализация ассемблера\n",
        "ks = Ks(KS_ARCH_X86, KS_MODE_32)\n",
        "\n",
        "CODE = \"\"\"\n",
        "    mov eax, 3;\n",
        "\"\"\"\n",
        "encoding, count = ks.asm(CODE)\n",
        "machine_code = bytes(encoding)\n",
        "\n",
        "print(f\"Машинный код: {machine_code}\")"
      ],
      "metadata": {
        "colab": {
          "base_uri": "https://localhost:8080/"
        },
        "id": "ER4W64sg-cPB",
        "outputId": "d23a161a-bdeb-49d8-aabc-f410a288acfe"
      },
      "execution_count": 2,
      "outputs": [
        {
          "output_type": "stream",
          "name": "stdout",
          "text": [
            "Машинный код: b'\\xb8\\x03\\x00\\x00\\x00'\n"
          ]
        }
      ]
    },
    {
      "cell_type": "code",
      "source": [
        "from capstone import Cs, CS_ARCH_X86, CS_MODE_32\n",
        "\n",
        "# Инициализация дизассемблера\n",
        "md = Cs(CS_ARCH_X86, CS_MODE_32)\n",
        "\n",
        "# Дизассемблирование машинного кода\n",
        "for instruction in md.disasm(machine_code, 0x1000):\n",
        "    print(f\"0x{instruction.address:x}: {instruction.mnemonic} {instruction.op_str}\")"
      ],
      "metadata": {
        "colab": {
          "base_uri": "https://localhost:8080/"
        },
        "id": "jrvbMAGzAs8d",
        "outputId": "199fd9af-72d5-4b94-a888-8ec9d32dc438"
      },
      "execution_count": 3,
      "outputs": [
        {
          "output_type": "stream",
          "name": "stdout",
          "text": [
            "0x1000: mov eax, 3\n"
          ]
        }
      ]
    },
    {
      "cell_type": "code",
      "source": [
        "!wget https://flatassembler.net/fasm-1.73.32.tgz\n",
        "!tar -xvzf fasm-1.73.32.tgz"
      ],
      "metadata": {
        "colab": {
          "base_uri": "https://localhost:8080/"
        },
        "id": "kgF0lrLTMlzD",
        "outputId": "1e9f83d8-318c-4d84-95cd-777811d2a2e1"
      },
      "execution_count": 4,
      "outputs": [
        {
          "output_type": "stream",
          "name": "stdout",
          "text": [
            "--2025-03-14 21:00:41--  https://flatassembler.net/fasm-1.73.32.tgz\n",
            "Resolving flatassembler.net (flatassembler.net)... 208.99.203.253\n",
            "Connecting to flatassembler.net (flatassembler.net)|208.99.203.253|:443... connected.\n",
            "HTTP request sent, awaiting response... 200 She'll be apples\n",
            "Length: 350082 (342K) [application/octet-stream]\n",
            "Saving to: ‘fasm-1.73.32.tgz’\n",
            "\n",
            "fasm-1.73.32.tgz    100%[===================>] 341.88K  --.-KB/s    in 0.1s    \n",
            "\n",
            "2025-03-14 21:00:41 (2.36 MB/s) - ‘fasm-1.73.32.tgz’ saved [350082/350082]\n",
            "\n",
            "fasm/\n",
            "fasm/examples/\n",
            "fasm/examples/elfexe/\n",
            "fasm/examples/elfexe/dynamic/\n",
            "fasm/examples/elfexe/dynamic/elf.inc\n",
            "fasm/examples/elfexe/dynamic/hello.asm\n",
            "fasm/examples/elfexe/dynamic/hello64.asm\n",
            "fasm/examples/elfexe/dynamic/import32.inc\n",
            "fasm/examples/elfexe/dynamic/import64.inc\n",
            "fasm/examples/elfexe/dynamic/proc32.inc\n",
            "fasm/examples/elfexe/hello.asm\n",
            "fasm/examples/elfexe/hello64.asm\n",
            "fasm/examples/elfobj/\n",
            "fasm/examples/elfobj/msgdemo.asm\n",
            "fasm/examples/elfobj/writemsg.asm\n",
            "fasm/examples/libcdemo/\n",
            "fasm/examples/libcdemo/ccall.inc\n",
            "fasm/examples/libcdemo/libcdemo.asm\n",
            "fasm/fasm\n",
            "fasm/fasm.txt\n",
            "fasm/fasm.x64\n",
            "fasm/license.txt\n",
            "fasm/source/\n",
            "fasm/source/DOS/\n",
            "fasm/source/DOS/dpmi.inc\n",
            "fasm/source/DOS/fasm.asm\n",
            "fasm/source/DOS/modes.inc\n",
            "fasm/source/DOS/system.inc\n",
            "fasm/source/Linux/\n",
            "fasm/source/Linux/fasm.asm\n",
            "fasm/source/Linux/system.inc\n",
            "fasm/source/Linux/x64/\n",
            "fasm/source/Linux/x64/fasm.asm\n",
            "fasm/source/Linux/x64/modes.inc\n",
            "fasm/source/Linux/x64/system.inc\n",
            "fasm/source/Win32/\n",
            "fasm/source/Win32/fasm.asm\n",
            "fasm/source/Win32/system.inc\n",
            "fasm/source/assemble.inc\n",
            "fasm/source/avx.inc\n",
            "fasm/source/errors.inc\n",
            "fasm/source/exprcalc.inc\n",
            "fasm/source/exprpars.inc\n",
            "fasm/source/formats.inc\n",
            "fasm/source/libc/\n",
            "fasm/source/libc/fasm.asm\n",
            "fasm/source/libc/system.inc\n",
            "fasm/source/messages.inc\n",
            "fasm/source/parser.inc\n",
            "fasm/source/preproce.inc\n",
            "fasm/source/symbdump.inc\n",
            "fasm/source/tables.inc\n",
            "fasm/source/variable.inc\n",
            "fasm/source/version.inc\n",
            "fasm/source/x86_64.inc\n",
            "fasm/tools/\n",
            "fasm/tools/dos/\n",
            "fasm/tools/dos/listing.asm\n",
            "fasm/tools/dos/loader.inc\n",
            "fasm/tools/dos/prepsrc.asm\n",
            "fasm/tools/dos/symbols.asm\n",
            "fasm/tools/dos/system.inc\n",
            "fasm/tools/fas.txt\n",
            "fasm/tools/libc/\n",
            "fasm/tools/libc/ccall.inc\n",
            "fasm/tools/libc/listing.asm\n",
            "fasm/tools/libc/prepsrc.asm\n",
            "fasm/tools/libc/symbols.asm\n",
            "fasm/tools/libc/system.inc\n",
            "fasm/tools/listing.inc\n",
            "fasm/tools/prepsrc.inc\n",
            "fasm/tools/readme.txt\n",
            "fasm/tools/symbols.inc\n",
            "fasm/tools/win32/\n",
            "fasm/tools/win32/listing.asm\n",
            "fasm/tools/win32/prepsrc.asm\n",
            "fasm/tools/win32/symbols.asm\n",
            "fasm/tools/win32/system.inc\n",
            "fasm/whatsnew.txt\n"
          ]
        }
      ]
    },
    {
      "cell_type": "code",
      "source": [
        "!cat fasm/examples/elfexe/hello.asm"
      ],
      "metadata": {
        "colab": {
          "base_uri": "https://localhost:8080/"
        },
        "id": "ccmAXBp7RJoO",
        "outputId": "26bc70f0-4158-4562-a2d9-9ae93973adf6"
      },
      "execution_count": 5,
      "outputs": [
        {
          "output_type": "stream",
          "name": "stdout",
          "text": [
            "\n",
            "; fasm demonstration of writing simple ELF executable\n",
            "\n",
            "format ELF executable 3\n",
            "entry start\n",
            "\n",
            "segment readable executable\n",
            "\n",
            "start:\n",
            "\n",
            "\tmov\teax,4\n",
            "\tmov\tebx,1\n",
            "\tmov\tecx,msg\n",
            "\tmov\tedx,msg_size\n",
            "\tint\t0x80\n",
            "\n",
            "\tmov\teax,1\n",
            "\txor\tebx,ebx\n",
            "\tint\t0x80\n",
            "\n",
            "segment readable writeable\n",
            "\n",
            "msg db 'Hello world!',0xA\n",
            "msg_size = $-msg\n"
          ]
        }
      ]
    },
    {
      "cell_type": "code",
      "source": [
        "!fasm/fasm fasm/examples/elfexe/hello.asm hello"
      ],
      "metadata": {
        "colab": {
          "base_uri": "https://localhost:8080/"
        },
        "id": "B9fRIU7zPg-K",
        "outputId": "b900d1a5-501e-4268-9917-417fcecdba1f"
      },
      "execution_count": 6,
      "outputs": [
        {
          "output_type": "stream",
          "name": "stdout",
          "text": [
            "flat assembler  version 1.73.32  (16384 kilobytes memory)\n",
            "3 passes, 160 bytes.\n"
          ]
        }
      ]
    },
    {
      "cell_type": "code",
      "source": [
        "!./hello"
      ],
      "metadata": {
        "colab": {
          "base_uri": "https://localhost:8080/"
        },
        "id": "dRLhVvyGRB4G",
        "outputId": "c517969c-a43b-445f-8d36-ee9e5c0ee038"
      },
      "execution_count": 7,
      "outputs": [
        {
          "output_type": "stream",
          "name": "stdout",
          "text": [
            "Hello world!\n"
          ]
        }
      ]
    },
    {
      "cell_type": "code",
      "source": [
        "%%file power.asm\n",
        "format ELF64 executable  ; Указываем формат выходного файла (ELF64 для 64-битной архитектуры)\n",
        "entry start              ; Точка входа в программу\n",
        "\n",
        "segment readable executable  ; Секция кода\n",
        "\n",
        "start:\n",
        "    ; Выводим сообщение \"Введите число: \"\n",
        "    mov rax, 1          ; syscall: write\n",
        "    mov rdi, 1          ; file descriptor: stdout\n",
        "    mov rsi, msg_num    ; адрес сообщения\n",
        "    mov rdx, msg_num_len ; длина сообщения\n",
        "    syscall             ; вызов системного вызова\n",
        "\n",
        "    ; Считываем число из консоли\n",
        "    mov rax, 0          ; syscall: read\n",
        "    mov rdi, 0          ; file descriptor: stdin\n",
        "    mov rsi, num_buffer ; адрес буфера для ввода\n",
        "    mov rdx, 10         ; максимальная длина ввода (10 символов)\n",
        "    syscall             ; вызов системного вызова\n",
        "\n",
        "    ; Преобразуем введенную строку в число\n",
        "    mov rcx, num_buffer ; адрес буфера\n",
        "    call atoi           ; вызываем функцию atoi\n",
        "    mov [num], rax      ; сохраняем число\n",
        "\n",
        "    ; Выводим сообщение \"Введите степень числа: \"\n",
        "    mov rax, 1          ; syscall: write\n",
        "    mov rdi, 1          ; file descriptor: stdout\n",
        "    mov rsi, msg_pow    ; адрес сообщения\n",
        "    mov rdx, msg_pow_len ; длина сообщения\n",
        "    syscall             ; вызов системного вызова\n",
        "\n",
        "    ; Считываем степень из консоли\n",
        "    mov rax, 0          ; syscall: read\n",
        "    mov rdi, 0          ; file descriptor: stdin\n",
        "    mov rsi, pow_buffer ; адрес буфера для ввода\n",
        "    mov rdx, 10         ; максимальная длина ввода (10 символов)\n",
        "    syscall             ; вызов системного вызова\n",
        "\n",
        "    ; Преобразуем введенную строку в число\n",
        "    mov rcx, pow_buffer ; адрес буфера\n",
        "    call atoi           ; вызываем функцию atoi\n",
        "    mov [pow], rax      ; сохраняем степень\n",
        "\n",
        "    ; Возводим число в степень\n",
        "    mov rax, [num]      ; загружаем число\n",
        "    mov rcx, [pow]      ; загружаем степень\n",
        "    call power          ; вызываем функцию power\n",
        "    mov [result], rax   ; сохраняем результат\n",
        "\n",
        "    ; Преобразуем результат в строку\n",
        "    mov rax, [result]   ; загружаем результат\n",
        "    mov rcx, result_str ; адрес буфера для строки\n",
        "    call itoa           ; вызываем функцию itoa\n",
        "\n",
        "    ; Выводим сообщение \"Результат возведения в степень: \"\n",
        "    mov rax, 1          ; syscall: write\n",
        "    mov rdi, 1          ; file descriptor: stdout\n",
        "    mov rsi, msg_result ; адрес сообщения\n",
        "    mov rdx, msg_result_len ; длина сообщения\n",
        "    syscall             ; вызов системного вызова\n",
        "\n",
        "    ; Выводим результат\n",
        "    mov rax, 1          ; syscall: write\n",
        "    mov rdi, 1          ; file descriptor: stdout\n",
        "    mov rsi, result_str ; адрес строки результата\n",
        "    mov rdx, 20         ; длина вывода (20 символов)\n",
        "    syscall             ; вызов системного вызова\n",
        "\n",
        "    ; Завершаем программу\n",
        "    mov rax, 60         ; syscall: exit\n",
        "    xor rdi, rdi        ; exit code 0\n",
        "    syscall             ; вызов системного вызова\n",
        "\n",
        "; Функция atoi: преобразует строку в число\n",
        "atoi:\n",
        "    xor rax, rax        ; обнуляем rax\n",
        "    xor rbx, rbx        ; обнуляем rbx\n",
        "atoi_loop:\n",
        "    mov bl, [rcx]       ; загружаем символ из строки\n",
        "    cmp bl, 0xA         ; проверяем на символ новой строки\n",
        "    je atoi_done        ; если символ новой строки, завершаем\n",
        "    sub bl, '0'         ; преобразуем символ в число\n",
        "    imul rax, 10        ; умножаем текущее значение на 10\n",
        "    add rax, rbx        ; добавляем новое число\n",
        "    inc rcx             ; переходим к следующему символу\n",
        "    jmp atoi_loop       ; повторяем\n",
        "atoi_done:\n",
        "    ret\n",
        "\n",
        "; Функция itoa: преобразует число в строку\n",
        "itoa:\n",
        "    mov rbx, 10         ; делитель (основание системы счисления)\n",
        "    xor rdx, rdx        ; обнуляем rdx\n",
        "    mov rdi, rcx        ; сохраняем адрес буфера\n",
        "    add rdi, 19         ; перемещаемся в конец буфера\n",
        "    mov byte [rdi], 0   ; добавляем нулевой символ в конец строки\n",
        "    dec rdi             ; перемещаемся на одну позицию назад\n",
        "itoa_loop:\n",
        "    xor rdx, rdx        ; обнуляем rdx\n",
        "    div rbx             ; делим rax на 10\n",
        "    add dl, '0'         ; преобразуем остаток в символ\n",
        "    mov [rdi], dl       ; сохраняем символ в буфер\n",
        "    dec rdi             ; перемещаемся на одну позицию назад\n",
        "    test rax, rax       ; проверяем, осталось ли число\n",
        "    jnz itoa_loop       ; если число не нулевое, повторяем\n",
        "    ret\n",
        "\n",
        "; Функция power: возводит число в степень\n",
        "power:\n",
        "    mov rax, 1          ; инициализируем результат (1)\n",
        "power_loop:\n",
        "    test rcx, rcx       ; проверяем, равна ли степень нулю\n",
        "    jz power_done       ; если степень равна нулю, завершаем\n",
        "    imul rax, [num]     ; умножаем результат на число\n",
        "    dec rcx             ; уменьшаем степень на 1\n",
        "    jmp power_loop      ; повторяем\n",
        "power_done:\n",
        "    ret\n",
        "\n",
        "segment readable writeable  ; Секция данных\n",
        "\n",
        "msg_num db 'Введите число: ', 0\n",
        "msg_num_len = $ - msg_num\n",
        "\n",
        "msg_pow db 'Введите степень числа: ', 0\n",
        "msg_pow_len = $ - msg_pow\n",
        "\n",
        "msg_result db 'Результат возведения в степень: ', 0\n",
        "msg_result_len = $ - msg_result\n",
        "\n",
        "num_buffer db 0, 0, 0, 0, 0, 0, 0, 0, 0, 0  ; Буфер для ввода числа\n",
        "pow_buffer db 0, 0, 0, 0, 0, 0, 0, 0, 0, 0  ; Буфер для ввода степени\n",
        "result_str db 0, 0, 0, 0, 0, 0, 0, 0, 0, 0, 0, 0, 0, 0, 0, 0, 0, 0, 0, 0  ; Буфер для вывода результата\n",
        "\n",
        "num dq 0  ; Переменная для числа (64-битное значение)\n",
        "pow dq 0  ; Переменная для степени (64-битное значение)\n",
        "result dq 0  ; Переменная для результата (64-битное значение)"
      ],
      "metadata": {
        "colab": {
          "base_uri": "https://localhost:8080/"
        },
        "id": "QnvsvbOHTdRp",
        "outputId": "bdd57d8c-f7ad-4d95-b183-709885a7161c"
      },
      "execution_count": 33,
      "outputs": [
        {
          "output_type": "stream",
          "name": "stdout",
          "text": [
            "Overwriting power.asm\n"
          ]
        }
      ]
    },
    {
      "cell_type": "code",
      "source": [
        "!fasm/fasm power.asm power"
      ],
      "metadata": {
        "colab": {
          "base_uri": "https://localhost:8080/"
        },
        "id": "QALfB67OTexh",
        "outputId": "8c17542e-3486-4897-b578-cfef181d8e71"
      },
      "execution_count": 34,
      "outputs": [
        {
          "output_type": "stream",
          "name": "stdout",
          "text": [
            "flat assembler  version 1.73.32  (16384 kilobytes memory)\n",
            "3 passes, 744 bytes.\n"
          ]
        }
      ]
    },
    {
      "cell_type": "code",
      "source": [
        "!./power"
      ],
      "metadata": {
        "colab": {
          "base_uri": "https://localhost:8080/"
        },
        "id": "eYlYmJt4Tm5c",
        "outputId": "b1d70c8d-c14f-4fdc-b5d9-875b14b604fa"
      },
      "execution_count": 35,
      "outputs": [
        {
          "output_type": "stream",
          "name": "stdout",
          "text": [
            "Введите число: \u00002\n",
            "Введите степень числа: \u000050\n",
            "Результат возведения в степень: \u0000\u0000\u0000\u00001125899906842624\u0000"
          ]
        }
      ]
    }
  ]
}