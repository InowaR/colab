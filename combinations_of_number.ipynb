{
  "nbformat": 4,
  "nbformat_minor": 0,
  "metadata": {
    "colab": {
      "provenance": [],
      "authorship_tag": "ABX9TyPjxxUoVSETOF/Ro9vYap6q",
      "include_colab_link": true
    },
    "kernelspec": {
      "name": "python3",
      "display_name": "Python 3"
    },
    "language_info": {
      "name": "python"
    }
  },
  "cells": [
    {
      "cell_type": "markdown",
      "metadata": {
        "id": "view-in-github",
        "colab_type": "text"
      },
      "source": [
        "<a href=\"https://colab.research.google.com/github/InowaR/colab/blob/main/combinations_of_number.ipynb\" target=\"_parent\"><img src=\"https://colab.research.google.com/assets/colab-badge.svg\" alt=\"Open In Colab\"/></a>"
      ]
    },
    {
      "cell_type": "code",
      "execution_count": 194,
      "metadata": {
        "colab": {
          "base_uri": "https://localhost:8080/"
        },
        "id": "1ltkGRrUOdjJ",
        "outputId": "c03e25ad-16ec-42d8-cc34-2c7b26e83609"
      },
      "outputs": [
        {
          "output_type": "stream",
          "name": "stdout",
          "text": [
            "[[1, 3, 2, 4], [1, 4, 2, 3], [1, 2, 4, 3], [1, 2, 3, 4], [1, 4, 3, 2], [1, 3, 4, 2]]\n",
            "[[2, 1, 4, 3], [2, 4, 3, 1], [2, 3, 4, 1], [2, 3, 1, 4], [2, 1, 3, 4], [2, 4, 1, 3]]\n",
            "6\n"
          ]
        }
      ],
      "source": [
        "import random\n",
        "\n",
        "\n",
        "number = [1,2,3,4]\n",
        "\n",
        "def indexes_of_i():\n",
        "  indexes = []\n",
        "  i = 0;\n",
        "  while i < len(number)/2:  # len(number) = 4 \n",
        "    indexes.append(i)\n",
        "    i+=1\n",
        "  return indexes\n",
        "\n",
        "index = indexes_of_i()\n",
        "\n",
        "def combination_starts_with_i(iteration):\n",
        "  global big_array\n",
        "  big_array = []\n",
        "  i = 0\n",
        "  while i < len(number) + 2:    # len(number) = 4 \n",
        "    array = []\n",
        "    array.append(number[iteration])\n",
        "    j = 1\n",
        "    while j < len(number):\n",
        "      a = random.randint(0,9)\n",
        "      if a in number and a not in array:\n",
        "        array.append(a)\n",
        "        a = random.randint(0,9)\n",
        "        j+=1\n",
        "    if array not in big_array:\n",
        "      big_array.append(array)\n",
        "      i+=1\n",
        "  print(big_array)\n",
        "\n",
        "for iteration in index:\n",
        "  combination_starts_with_i(iteration)\n",
        "print(len(big_array))"
      ]
    }
  ]
}