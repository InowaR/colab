{
  "nbformat": 4,
  "nbformat_minor": 0,
  "metadata": {
    "colab": {
      "provenance": [],
      "authorship_tag": "ABX9TyN4WATWWXPBOOcDu25vlP2/",
      "include_colab_link": true
    },
    "kernelspec": {
      "name": "python3",
      "display_name": "Python 3"
    },
    "language_info": {
      "name": "python"
    }
  },
  "cells": [
    {
      "cell_type": "markdown",
      "metadata": {
        "id": "view-in-github",
        "colab_type": "text"
      },
      "source": [
        "<a href=\"https://colab.research.google.com/github/InowaR/colab/blob/main/combinations_of_number.ipynb\" target=\"_parent\"><img src=\"https://colab.research.google.com/assets/colab-badge.svg\" alt=\"Open In Colab\"/></a>"
      ]
    },
    {
      "cell_type": "code",
      "execution_count": 257,
      "metadata": {
        "colab": {
          "base_uri": "https://localhost:8080/"
        },
        "id": "1ltkGRrUOdjJ",
        "outputId": "18dae149-589a-446e-c270-436d7ccd94f4"
      },
      "outputs": [
        {
          "output_type": "stream",
          "name": "stdout",
          "text": [
            "[[1, 2, 4, 3], [1, 4, 3, 2], [1, 3, 4, 2], [1, 2, 3, 4], [1, 4, 2, 3], [1, 3, 2, 4]]\n",
            "[[2, 3, 4, 1], [2, 4, 1, 3], [2, 1, 4, 3], [2, 1, 3, 4], [2, 4, 3, 1], [2, 3, 1, 4]]\n",
            "6\n",
            "[[[1, 2, 4, 3], [1, 4, 3, 2], [1, 3, 4, 2], [1, 2, 3, 4], [1, 4, 2, 3], [1, 3, 2, 4]], [[2, 3, 4, 1], [2, 4, 1, 3], [2, 1, 4, 3], [2, 1, 3, 4], [2, 4, 3, 1], [2, 3, 1, 4]]]\n"
          ]
        }
      ],
      "source": [
        "import random\n",
        "import math\n",
        "import numpy as np\n",
        "\n",
        "\n",
        "number = [1,2,3,4]\n",
        "factorial = math.factorial(len(number) - 1)\n",
        "\n",
        "def indexes_of_i():\n",
        "  indexes = []\n",
        "  i = 0;\n",
        "  while i < len(number)/2: \n",
        "    indexes.append(i)\n",
        "    i+=1\n",
        "  return indexes\n",
        "\n",
        "index = indexes_of_i()\n",
        "biggest_array = []\n",
        "\n",
        "def combination_starts_with_i(iteration):\n",
        "  global big_array\n",
        "  big_array = []\n",
        "  i = 0\n",
        "  while i < factorial: \n",
        "    array = []\n",
        "    array.append(number[iteration])\n",
        "    j = 1\n",
        "    while j < len(number):\n",
        "      a = random.randint(0,9)\n",
        "      if a in number and a not in array:\n",
        "        array.append(a)\n",
        "        a = random.randint(0,9)\n",
        "        j+=1\n",
        "    if array not in big_array:\n",
        "      big_array.append(array)\n",
        "      i+=1\n",
        "  biggest_array.append(big_array)\n",
        "  print(big_array)\n",
        "\n",
        "\n",
        "for iteration in index:\n",
        "  combination_starts_with_i(iteration)\n",
        "print(len(big_array))\n",
        "print(biggest_array)"
      ]
    }
  ]
}