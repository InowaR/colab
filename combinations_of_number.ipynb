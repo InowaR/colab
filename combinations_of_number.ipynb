{
  "nbformat": 4,
  "nbformat_minor": 0,
  "metadata": {
    "colab": {
      "provenance": [],
      "authorship_tag": "ABX9TyN6u/NF0awYILZTZW+oOh/b",
      "include_colab_link": true
    },
    "kernelspec": {
      "name": "python3",
      "display_name": "Python 3"
    },
    "language_info": {
      "name": "python"
    }
  },
  "cells": [
    {
      "cell_type": "markdown",
      "metadata": {
        "id": "view-in-github",
        "colab_type": "text"
      },
      "source": [
        "<a href=\"https://colab.research.google.com/github/InowaR/colab/blob/main/combinations_of_number.ipynb\" target=\"_parent\"><img src=\"https://colab.research.google.com/assets/colab-badge.svg\" alt=\"Open In Colab\"/></a>"
      ]
    },
    {
      "cell_type": "code",
      "execution_count": 164,
      "metadata": {
        "colab": {
          "base_uri": "https://localhost:8080/"
        },
        "id": "1ltkGRrUOdjJ",
        "outputId": "8c7c0dfb-7109-4d23-e29d-46dd5afd717c"
      },
      "outputs": [
        {
          "output_type": "stream",
          "name": "stdout",
          "text": [
            "[[1, 4, 3, 2], [1, 3, 4, 2], [1, 2, 3, 4], [1, 2, 4, 3], [1, 3, 2, 4], [1, 4, 2, 3]]\n",
            "[[2, 1, 3, 4], [2, 4, 1, 3], [2, 3, 4, 1], [2, 1, 4, 3], [2, 4, 3, 1], [2, 3, 1, 4]]\n"
          ]
        }
      ],
      "source": [
        "import random\n",
        "\n",
        "\n",
        "number = [1,2,3,4]\n",
        "index = [0,1]\n",
        "\n",
        "\n",
        "def combination_starts_with_i(iteration):\n",
        "  big_array = []\n",
        "  i = 0\n",
        "  while i < len(number) + 2:\n",
        "    array = []\n",
        "    array.append(number[iteration])\n",
        "    j = 1\n",
        "    while j < len(number):\n",
        "      a = random.randint(0,9)\n",
        "      if a in number and a not in array:\n",
        "        array.append(a)\n",
        "        a = random.randint(0,9)\n",
        "        j+=1\n",
        "    if array not in big_array:\n",
        "      big_array.append(array)\n",
        "      i+=1\n",
        "  print(big_array)\n",
        "\n",
        "for iteration in index:\n",
        "  combination_starts_with_i(iteration)"
      ]
    }
  ]
}