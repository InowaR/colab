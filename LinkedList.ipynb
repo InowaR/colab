{
  "nbformat": 4,
  "nbformat_minor": 0,
  "metadata": {
    "colab": {
      "provenance": [],
      "authorship_tag": "ABX9TyNq08XuT26KOrPBodphgcZd",
      "include_colab_link": true
    },
    "kernelspec": {
      "name": "python3",
      "display_name": "Python 3"
    },
    "language_info": {
      "name": "python"
    }
  },
  "cells": [
    {
      "cell_type": "markdown",
      "metadata": {
        "id": "view-in-github",
        "colab_type": "text"
      },
      "source": [
        "<a href=\"https://colab.research.google.com/github/InowaR/colab/blob/main/LinkedList.ipynb\" target=\"_parent\"><img src=\"https://colab.research.google.com/assets/colab-badge.svg\" alt=\"Open In Colab\"/></a>"
      ]
    },
    {
      "cell_type": "code",
      "execution_count": 15,
      "metadata": {
        "colab": {
          "base_uri": "https://localhost:8080/"
        },
        "id": "pCZd54HOZcV0",
        "outputId": "48135d09-d206-4c6d-a17b-8c122690214b"
      },
      "outputs": [
        {
          "output_type": "stream",
          "name": "stdout",
          "text": [
            "D\n",
            "C\n",
            "A\n",
            "E\n"
          ]
        }
      ],
      "source": [
        "class Node:\n",
        "    def __init__(self, data=None):\n",
        "        self.data = data\n",
        "        self.next = None\n",
        " \n",
        "class LinkedList:\n",
        "    def __init__(self):\n",
        "        self.head = None\n",
        " \n",
        "    def append(self, data):\n",
        "        new_node = Node(data)\n",
        "        if self.head is None:\n",
        "            self.head = new_node\n",
        "            return\n",
        "        last_node = self.head\n",
        "        while last_node.next:\n",
        "            last_node = last_node.next\n",
        "        last_node.next = new_node\n",
        " \n",
        "    def prepend(self, data):\n",
        "        new_node = Node(data)\n",
        "        new_node.next = self.head\n",
        "        self.head = new_node\n",
        " \n",
        "    def insert_after_node(self, prev_node, data):\n",
        "        if not prev_node:\n",
        "            print(\"Previous node is not in the list\")\n",
        "            return\n",
        "        new_node = Node(data)\n",
        "        new_node.next = prev_node.next\n",
        "        prev_node.next = new_node\n",
        " \n",
        "    def delete_node(self, key):\n",
        "        cur_node = self.head\n",
        "        if cur_node and cur_node.data == key:\n",
        "            self.head = cur_node.next\n",
        "            cur_node = None\n",
        "            return\n",
        "        prev = None\n",
        "        while cur_node and cur_node.data != key:\n",
        "            prev = cur_node\n",
        "            cur_node = cur_node.next\n",
        "        if cur_node is None:\n",
        "            return\n",
        "        prev.next = cur_node.next\n",
        "        cur_node = None\n",
        " \n",
        "    def delete_node_at_pos(self, pos):\n",
        "        cur_node = self.head\n",
        "        if pos == 0:\n",
        "            self.head = cur_node.next\n",
        "            cur_node = None\n",
        "            return\n",
        "        prev = None\n",
        "        count = 1\n",
        "        while cur_node and count != pos:\n",
        "            prev = cur_node\n",
        "            cur_node = cur_node.next\n",
        "            count += 1\n",
        "        if cur_node is None:\n",
        "            return\n",
        "        prev.next = cur_node.next\n",
        "        cur_node = None\n",
        " \n",
        "    def reverse(self):\n",
        "        prev = None\n",
        "        cur_node = self.head\n",
        "        while cur_node:\n",
        "            next_node = cur_node.next\n",
        "            cur_node.next = prev\n",
        "            prev = cur_node\n",
        "            cur_node = next_node\n",
        "        self.head = prev\n",
        " \n",
        "    def print_list(self):\n",
        "        cur_node = self.head\n",
        "        while cur_node:\n",
        "            print(cur_node.data)\n",
        "            cur_node = cur_node.next\n",
        " \n",
        " \n",
        "llist = LinkedList()\n",
        "llist.append(\"A\")\n",
        "llist.append(\"B\")\n",
        "llist.append(\"C\")\n",
        "llist.append(\"D\")\n",
        "llist.prepend(\"E\")\n",
        "llist.insert_after_node(llist.head.next, \"F\")\n",
        "llist.delete_node(\"B\")\n",
        "llist.delete_node_at_pos(3)\n",
        "llist.reverse()\n",
        "llist.print_list()"
      ]
    }
  ]
}