{
  "nbformat": 4,
  "nbformat_minor": 0,
  "metadata": {
    "colab": {
      "provenance": [],
      "authorship_tag": "ABX9TyMsmtCeEPrvj5OdfoKrsEh8",
      "include_colab_link": true
    },
    "kernelspec": {
      "name": "python3",
      "display_name": "Python 3"
    },
    "language_info": {
      "name": "python"
    }
  },
  "cells": [
    {
      "cell_type": "markdown",
      "metadata": {
        "id": "view-in-github",
        "colab_type": "text"
      },
      "source": [
        "<a href=\"https://colab.research.google.com/github/InowaR/colab/blob/main/set.ipynb\" target=\"_parent\"><img src=\"https://colab.research.google.com/assets/colab-badge.svg\" alt=\"Open In Colab\"/></a>"
      ]
    },
    {
      "cell_type": "code",
      "execution_count": 1,
      "metadata": {
        "id": "d9-W4GWwP6G1",
        "colab": {
          "base_uri": "https://localhost:8080/"
        },
        "outputId": "25eb33ff-8282-4d4e-9ed7-cb3c75a33d73"
      },
      "outputs": [
        {
          "output_type": "stream",
          "name": "stdout",
          "text": [
            "{'Стас', 'Боря'}\n"
          ]
        }
      ],
      "source": [
        "cool = [\"Илья\", \"Федор\", \"Семен\", \"Олег\", \"Лев\", \"Антон\", \"Артем\", \"Боря\", \"Стас\", \"Марк\", \"Ян\"]\n",
        "clever = [\"Илья\", \"Георгий\", \"Лев\", \"Демьян\", \"Антон\", \"Владислав\", \"Боря\", \"Стас\", \"Марк\", \"Влад\"]\n",
        "strong = [\"Федор\", \"Георгий\", \"Олег\", \"Демьян\", \"Артем\", \"Елисей\", \"Боря\", \"Стас\", \"Влад\"]\n",
        "actor = set(cool) & set(clever) & set(strong)\n",
        "print(actor)"
      ]
    }
  ]
}