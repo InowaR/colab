{
  "nbformat": 4,
  "nbformat_minor": 0,
  "metadata": {
    "colab": {
      "provenance": [],
      "authorship_tag": "ABX9TyNq5q9uE7kYXP92JkLnrbQM",
      "include_colab_link": true
    },
    "kernelspec": {
      "name": "python3",
      "display_name": "Python 3"
    },
    "language_info": {
      "name": "python"
    }
  },
  "cells": [
    {
      "cell_type": "markdown",
      "metadata": {
        "id": "view-in-github",
        "colab_type": "text"
      },
      "source": [
        "<a href=\"https://colab.research.google.com/github/InowaR/colab/blob/main/pygame.ipynb\" target=\"_parent\"><img src=\"https://colab.research.google.com/assets/colab-badge.svg\" alt=\"Open In Colab\"/></a>"
      ]
    },
    {
      "cell_type": "code",
      "execution_count": 1,
      "metadata": {
        "id": "wesqesVyV6mn",
        "outputId": "618289da-7217-4226-baf6-44a7b995387a",
        "colab": {
          "base_uri": "https://localhost:8080/",
          "height": 283
        }
      },
      "outputs": [
        {
          "output_type": "stream",
          "name": "stdout",
          "text": [
            "pygame 2.3.0 (SDL 2.24.2, Python 3.9.16)\n",
            "Hello from the pygame community. https://www.pygame.org/contribute.html\n"
          ]
        },
        {
          "output_type": "error",
          "ename": "error",
          "evalue": "ignored",
          "traceback": [
            "\u001b[0;31m---------------------------------------------------------------------------\u001b[0m",
            "\u001b[0;31merror\u001b[0m                                     Traceback (most recent call last)",
            "\u001b[0;32m<ipython-input-1-bf062389a1bc>\u001b[0m in \u001b[0;36m<cell line: 17>\u001b[0;34m()\u001b[0m\n\u001b[1;32m     15\u001b[0m \u001b[0;34m\u001b[0m\u001b[0m\n\u001b[1;32m     16\u001b[0m \u001b[0;31m# создание окна\u001b[0m\u001b[0;34m\u001b[0m\u001b[0;34m\u001b[0m\u001b[0m\n\u001b[0;32m---> 17\u001b[0;31m \u001b[0mscreen\u001b[0m \u001b[0;34m=\u001b[0m \u001b[0mpygame\u001b[0m\u001b[0;34m.\u001b[0m\u001b[0mdisplay\u001b[0m\u001b[0;34m.\u001b[0m\u001b[0mset_mode\u001b[0m\u001b[0;34m(\u001b[0m\u001b[0;34m(\u001b[0m\u001b[0mWINDOW_WIDTH\u001b[0m\u001b[0;34m,\u001b[0m \u001b[0mWINDOW_HEIGHT\u001b[0m\u001b[0;34m)\u001b[0m\u001b[0;34m)\u001b[0m\u001b[0;34m\u001b[0m\u001b[0;34m\u001b[0m\u001b[0m\n\u001b[0m\u001b[1;32m     18\u001b[0m \u001b[0mpygame\u001b[0m\u001b[0;34m.\u001b[0m\u001b[0mdisplay\u001b[0m\u001b[0;34m.\u001b[0m\u001b[0mset_caption\u001b[0m\u001b[0;34m(\u001b[0m\u001b[0;34m'Перемещение объекта'\u001b[0m\u001b[0;34m)\u001b[0m\u001b[0;34m\u001b[0m\u001b[0;34m\u001b[0m\u001b[0m\n\u001b[1;32m     19\u001b[0m \u001b[0;34m\u001b[0m\u001b[0m\n",
            "\u001b[0;31merror\u001b[0m: No available video device"
          ]
        }
      ],
      "source": [
        "import pygame\n",
        "\n",
        "# инициализация Pygame\n",
        "pygame.init()\n",
        "\n",
        "# размеры окна\n",
        "WINDOW_WIDTH = 800\n",
        "WINDOW_HEIGHT = 600\n",
        "\n",
        "# цвета\n",
        "BLACK = (0, 0, 0)\n",
        "WHITE = (255, 255, 255)\n",
        "RED = (255, 0, 0)\n",
        "GREEN = (0, 255, 0)\n",
        "\n",
        "# создание окна\n",
        "screen = pygame.display.set_mode((WINDOW_WIDTH, WINDOW_HEIGHT))\n",
        "pygame.display.set_caption('Перемещение объекта')\n",
        "\n",
        "# красный квадрат\n",
        "x = 50\n",
        "y = 50\n",
        "height = 50\n",
        "width = 50\n",
        "\n",
        "# скорость перемещения\n",
        "speed = 1\n",
        "\n",
        "# черная рамка\n",
        "x_min = 30\n",
        "x_max = WINDOW_WIDTH - 30\n",
        "y_min = 30\n",
        "y_max = WINDOW_HEIGHT - 30\n",
        "\n",
        "# зеленый квадрат\n",
        "obstacle_x = 300\n",
        "obstacle_y = 200\n",
        "obstacle_height = 200\n",
        "obstacle_width = 200\n",
        "\n",
        "# игровой цикл\n",
        "running = True\n",
        "while running:\n",
        "    for event in pygame.event.get():\n",
        "        if event.type == pygame.QUIT:\n",
        "            running = False\n",
        "\n",
        "    # получение состояния клавиш\n",
        "    keys = pygame.key.get_pressed()\n",
        "\n",
        "    # перемещение объекта в зависимости от нажатых клавиш внутри рамки\n",
        "    if keys[pygame.K_LEFT] and x > x_min:\n",
        "        x -= speed\n",
        "    if keys[pygame.K_RIGHT] and x < x_max - width:\n",
        "        x += speed\n",
        "    if keys[pygame.K_UP] and y > y_min:\n",
        "        y -= speed\n",
        "    if keys[pygame.K_DOWN] and y < y_max - height:\n",
        "        y += speed\n",
        "\n",
        "    # проверка на столкновение с зеленым квадратом\n",
        "    if x + width > obstacle_x and x < obstacle_x + obstacle_width and y + height > obstacle_y and y < obstacle_y + obstacle_height:\n",
        "        if keys[pygame.K_LEFT]:\n",
        "            x = obstacle_x + obstacle_width\n",
        "        elif keys[pygame.K_RIGHT]:\n",
        "            x = obstacle_x - width\n",
        "        elif keys[pygame.K_UP]:\n",
        "            y = obstacle_y + obstacle_height\n",
        "        elif keys[pygame.K_DOWN]:\n",
        "            y = obstacle_y - height\n",
        "\n",
        "    # отрисовка объектов\n",
        "    screen.fill(WHITE)\n",
        "    pygame.draw.rect(screen, BLACK, (x_min, y_min, x_max - x_min, y_max - y_min), 2)\n",
        "    pygame.draw.rect(screen, GREEN, (obstacle_x, obstacle_y, obstacle_width, obstacle_height))\n",
        "    pygame.draw.rect(screen, RED, (x, y, width, height))\n",
        "    pygame.display.update()\n",
        "\n",
        "# завершение работы Pygame\n",
        "pygame.quit()"
      ]
    }
  ]
}