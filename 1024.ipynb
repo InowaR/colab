{
  "nbformat": 4,
  "nbformat_minor": 0,
  "metadata": {
    "colab": {
      "provenance": [],
      "gpuType": "T4",
      "authorship_tag": "ABX9TyNZY10ds2wGmfZ0/G/rrXLj",
      "include_colab_link": true
    },
    "kernelspec": {
      "name": "python3",
      "display_name": "Python 3"
    },
    "language_info": {
      "name": "python"
    }
  },
  "cells": [
    {
      "cell_type": "markdown",
      "metadata": {
        "id": "view-in-github",
        "colab_type": "text"
      },
      "source": [
        "<a href=\"https://colab.research.google.com/github/InowaR/colab/blob/main/1024.ipynb\" target=\"_parent\"><img src=\"https://colab.research.google.com/assets/colab-badge.svg\" alt=\"Open In Colab\"/></a>"
      ]
    },
    {
      "cell_type": "code",
      "source": [
        "import random\n",
        "\n",
        "def generate(n_samples):\n",
        "  X = []\n",
        "  for _ in range(n_samples):\n",
        "    X.append([random.randint(0, 255) for _ in range(8)])\n",
        "  Y = []\n",
        "  for _ in range(n_samples):\n",
        "    Y.append([random.choice([0, 1]) for _ in range(4)])\n",
        "  return X, Y\n",
        "\n",
        "\n",
        "X, y = generate(32)\n",
        "\n",
        "print(len(X))\n",
        "print(32*8*4)"
      ],
      "metadata": {
        "id": "f0_oox7N7aVh",
        "outputId": "e33ee5ff-1c54-4e13-b863-ad5e7e4d11c4",
        "colab": {
          "base_uri": "https://localhost:8080/"
        }
      },
      "execution_count": 5,
      "outputs": [
        {
          "output_type": "stream",
          "name": "stdout",
          "text": [
            "32\n",
            "1024\n"
          ]
        }
      ]
    },
    {
      "cell_type": "code",
      "source": [
        "import numpy as np\n",
        "\n",
        "def convert_to_bit_array(double_array):\n",
        "    bit_array = []\n",
        "    for sublist in double_array:\n",
        "        binary_sublist = [int(bit) for num in sublist for bit in format(num, '08b')]\n",
        "        bit_array.append(binary_sublist)\n",
        "    return bit_array\n",
        "\n",
        "\n",
        "print(X)\n",
        "print(y)\n",
        "\n",
        "X = np.array(convert_to_bit_array(X))\n",
        "print(X.shape)\n",
        "\n",
        "y = np.array(y)\n",
        "print(y.shape)"
      ],
      "metadata": {
        "id": "Xzhd2PBtoIzO",
        "outputId": "bb2e6937-f703-48ef-bcd6-43171f4419cf",
        "colab": {
          "base_uri": "https://localhost:8080/"
        }
      },
      "execution_count": 6,
      "outputs": [
        {
          "output_type": "stream",
          "name": "stdout",
          "text": [
            "[[238, 170, 105, 217, 80, 78, 141, 107], [55, 127, 64, 87, 139, 228, 182, 102], [37, 217, 8, 64, 172, 88, 180, 100], [103, 100, 112, 48, 163, 187, 236, 158], [68, 60, 159, 80, 66, 16, 230, 8], [198, 243, 127, 230, 70, 225, 120, 225], [118, 10, 43, 15, 118, 55, 222, 64], [71, 235, 145, 86, 104, 118, 225, 130], [14, 21, 105, 32, 233, 216, 132, 97], [58, 88, 254, 218, 127, 197, 43, 247], [92, 16, 6, 204, 251, 88, 145, 138], [215, 74, 239, 123, 244, 185, 13, 211], [237, 96, 11, 120, 158, 65, 89, 237], [212, 25, 122, 121, 78, 179, 33, 31], [247, 36, 117, 141, 7, 95, 14, 76], [59, 164, 108, 145, 67, 160, 96, 69], [160, 129, 15, 46, 219, 231, 37, 126], [209, 116, 14, 209, 211, 72, 98, 10], [171, 137, 15, 91, 174, 229, 34, 103], [44, 180, 23, 87, 195, 97, 80, 252], [161, 225, 235, 190, 68, 234, 64, 78], [251, 139, 205, 21, 204, 20, 15, 202], [39, 237, 25, 105, 44, 33, 4, 82], [9, 237, 52, 54, 66, 118, 79, 80], [170, 129, 3, 154, 109, 20, 203, 68], [133, 198, 5, 57, 215, 38, 218, 113], [198, 235, 239, 214, 212, 184, 28, 177], [102, 78, 252, 200, 152, 42, 101, 43], [41, 188, 90, 188, 113, 141, 208, 88], [106, 42, 109, 4, 140, 103, 166, 84], [79, 229, 188, 36, 8, 68, 48, 232], [231, 138, 100, 222, 2, 48, 7, 25]]\n",
            "[[1, 1, 0, 0], [0, 0, 0, 0], [0, 0, 1, 0], [1, 1, 1, 1], [1, 1, 0, 1], [0, 1, 0, 0], [0, 1, 1, 1], [0, 1, 1, 1], [0, 1, 1, 0], [1, 1, 1, 1], [1, 0, 0, 0], [1, 1, 0, 1], [1, 1, 0, 1], [1, 0, 0, 0], [1, 0, 0, 0], [0, 0, 1, 0], [1, 0, 0, 0], [0, 1, 0, 1], [0, 0, 1, 1], [0, 0, 1, 1], [1, 1, 1, 0], [0, 0, 1, 0], [0, 0, 1, 1], [1, 1, 0, 1], [1, 1, 1, 0], [0, 0, 1, 0], [0, 0, 1, 1], [1, 1, 0, 0], [1, 1, 0, 0], [1, 1, 1, 0], [1, 0, 1, 1], [0, 1, 1, 0]]\n",
            "(32, 64)\n",
            "(32, 4)\n"
          ]
        }
      ]
    },
    {
      "cell_type": "code",
      "source": [
        "start = y.shape[1]\n",
        "stop = X.shape[1]\n",
        "\n",
        "\n",
        "def sigmoid(x):\n",
        "    return 1 / (1 + np.exp(-x))\n",
        "\n",
        "\n",
        "def func1(num_hidden_layer, epochs, X, y):\n",
        "    input_neurons = 64\n",
        "    hidden_neurons = num_hidden_layer\n",
        "    output_neurons = 4\n",
        "    weights_input_hidden = np.random.rand(input_neurons, hidden_neurons)\n",
        "    weights_hidden_output = np.random.rand(hidden_neurons, output_neurons)\n",
        "    for i in range(epochs):\n",
        "        hidden_layer_input = np.dot(X, weights_input_hidden)\n",
        "        hidden_layer_output = sigmoid(hidden_layer_input)\n",
        "        output_layer_input = np.dot(hidden_layer_output, weights_hidden_output)\n",
        "        output = sigmoid(output_layer_input)\n",
        "        error = y - output\n",
        "        output_gradient = output * (1 - output) * error\n",
        "        error_hidden = output_gradient.dot(weights_hidden_output.T)\n",
        "        hidden_gradient = hidden_layer_output * (1 - hidden_layer_output) * error_hidden\n",
        "        weights_hidden_output += hidden_layer_output.T.dot(output_gradient)\n",
        "        weights_input_hidden += X.T.dot(hidden_gradient)\n",
        "    return weights_input_hidden, weights_hidden_output\n",
        "\n",
        "\n",
        "def test1(weights_input_hidden, weights_hidden_output, X):\n",
        "    hidden_layer_input = np.dot(X, weights_input_hidden)\n",
        "    hidden_layer_output = sigmoid(hidden_layer_input)\n",
        "    output_layer_input = np.dot(hidden_layer_output, weights_hidden_output)\n",
        "    output = sigmoid(output_layer_input)\n",
        "    return output\n",
        "\n",
        "\n",
        "def find_best_coefficients1(X, y):\n",
        "    best_error = np.inf\n",
        "    global best_num_hidden_layer, best_epoch\n",
        "    for num_hidden_layer in range(start+(stop//3), stop//2):\n",
        "        for epoch in range(1000, 1001):\n",
        "            weights_input_hidden, weights_hidden_output = func1(num_hidden_layer, epoch, X, y)\n",
        "            training_error = np.sum(np.square(y - test1(weights_input_hidden, weights_hidden_output, X)))\n",
        "            if training_error < best_error:\n",
        "                best_error = training_error\n",
        "                best_num_hidden_layer, best_epoch  =  num_hidden_layer, epoch\n",
        "    return best_num_hidden_layer, best_epoch\n",
        "\n",
        "\n",
        "num_hidden_layer, epochs = find_best_coefficients1(X, y)\n",
        "print(\"Best num_hidden_layer:\", num_hidden_layer)\n",
        "print(\"Best epoch:\", epochs)\n",
        "\n",
        "weights_input_hidden, weights_hidden_output = func1(num_hidden_layer, epochs, X, y)\n",
        "\n",
        "# print(weights_input_hidden)\n",
        "# print(weights_hidden_output)\n",
        "\n",
        "test_error = np.sum(np.square(y - test1(weights_input_hidden, weights_hidden_output, X)))\n",
        "print(\"Test error:\", \"{:.5f}\".format(test_error))\n",
        "\n",
        "print(\"Predictions on test data:\")\n",
        "print(test1(weights_input_hidden, weights_hidden_output, np.array([X[0]])))"
      ],
      "metadata": {
        "id": "sgt_ZJmPPDw3",
        "outputId": "7aa02711-c073-470c-f1e0-934495c11d9c",
        "colab": {
          "base_uri": "https://localhost:8080/"
        }
      },
      "execution_count": 7,
      "outputs": [
        {
          "output_type": "stream",
          "name": "stdout",
          "text": [
            "Best num_hidden_layer: 27\n",
            "Best epoch: 1000\n",
            "Test error: 64.99984\n",
            "Predictions on test data:\n",
            "[[9.99997065e-01 5.46335006e-11 9.99997680e-01 9.99999858e-01]]\n"
          ]
        }
      ]
    },
    {
      "cell_type": "code",
      "source": [
        "def func2(A, B, C, D, E, X, y):\n",
        "    input_neurons = 64\n",
        "    hidden_neurons = num_hidden_layer\n",
        "    output_neurons = 4\n",
        "    weights_input_hidden = A * np.random.rand(input_neurons, hidden_neurons) + B\n",
        "    weights_hidden_output = C * np.random.rand(hidden_neurons, output_neurons) + D\n",
        "    for i in range(epochs):\n",
        "        hidden_layer_input = np.dot(X, weights_input_hidden)\n",
        "        hidden_layer_output = sigmoid(hidden_layer_input)\n",
        "        output_layer_input = np.dot(hidden_layer_output, weights_hidden_output)\n",
        "        output = sigmoid(output_layer_input)\n",
        "        error = y - output\n",
        "        output_gradient = output * (1 - output) * error\n",
        "        error_hidden = output_gradient.dot(weights_hidden_output.T)\n",
        "        hidden_gradient = hidden_layer_output * (1 - hidden_layer_output) * error_hidden\n",
        "        weights_hidden_output += E * hidden_layer_output.T.dot(output_gradient)\n",
        "        weights_input_hidden += E * X.T.dot(hidden_gradient)\n",
        "    return weights_input_hidden, weights_hidden_output\n",
        "\n",
        "\n",
        "def test2(weights_input_hidden, weights_hidden_output, X):\n",
        "    hidden_layer_input = np.dot(X, weights_input_hidden)\n",
        "    hidden_layer_output = sigmoid(hidden_layer_input)\n",
        "    output_layer_input = np.dot(hidden_layer_output, weights_hidden_output)\n",
        "    output = sigmoid(output_layer_input)\n",
        "    return output\n",
        "\n",
        "\n",
        "def find_best_coefficients2(X, y):\n",
        "    best_error = np.inf\n",
        "    global best_A, best_B, best_C, best_D, best_E\n",
        "    for A in range(-1, 1):\n",
        "        for B in range(-1, 1):\n",
        "            for C in range(-1, 1):\n",
        "                for D in range(-1, 1):\n",
        "                    for E in range(-1, 2):\n",
        "                        weights_input_hidden, weights_hidden_output = func2(A, B, C, D, E, X, y)\n",
        "                        training_error = np.sum(np.square(y - test2(weights_input_hidden, weights_hidden_output, X)))\n",
        "                        if training_error < best_error:\n",
        "                            best_error = training_error\n",
        "                            best_A, best_B, best_C, best_D, best_E = A, B, C, D, E\n",
        "    return best_A, best_B, best_C, best_D, best_E\n",
        "\n",
        "\n",
        "A, B, C, D, E = find_best_coefficients2(X, y)\n",
        "print(\"Best coefficients:\", A, B, C, D, E)\n",
        "\n",
        "weights_input_hidden, weights_hidden_output = func2(A, B, C, D, E, X, y)\n",
        "\n",
        "# print(weights_input_hidden[:30])\n",
        "# print(weights_hidden_output)\n",
        "\n",
        "test_error = np.sum(np.square(y - test2(weights_input_hidden, weights_hidden_output, X)))\n",
        "print(\"Test error:\", \"{:.5f}\".format(test_error))\n",
        "\n",
        "print(\"Predictions on test data:\")\n",
        "print(test1(weights_input_hidden, weights_hidden_output, np.array([X[0]])))"
      ],
      "metadata": {
        "id": "rsdcsY-Dd3BR",
        "outputId": "1fec4b59-c5d6-44d1-ea4a-0fe8b165f5e7",
        "colab": {
          "base_uri": "https://localhost:8080/"
        }
      },
      "execution_count": 8,
      "outputs": [
        {
          "output_type": "stream",
          "name": "stdout",
          "text": [
            "Best coefficients: 0 0 -1 0 1\n",
            "Test error: 0.00894\n",
            "Predictions on test data:\n",
            "[[9.99699893e-01 9.99175558e-01 3.13904269e-03 5.79629726e-04]]\n"
          ]
        }
      ]
    }
  ]
}