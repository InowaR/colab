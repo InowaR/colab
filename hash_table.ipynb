{
  "nbformat": 4,
  "nbformat_minor": 0,
  "metadata": {
    "colab": {
      "provenance": [],
      "authorship_tag": "ABX9TyO1IviEcHMq36dNPViP28nC",
      "include_colab_link": true
    },
    "kernelspec": {
      "name": "python3",
      "display_name": "Python 3"
    },
    "language_info": {
      "name": "python"
    }
  },
  "cells": [
    {
      "cell_type": "markdown",
      "metadata": {
        "id": "view-in-github",
        "colab_type": "text"
      },
      "source": [
        "<a href=\"https://colab.research.google.com/github/InowaR/colab/blob/main/hash_table.ipynb\" target=\"_parent\"><img src=\"https://colab.research.google.com/assets/colab-badge.svg\" alt=\"Open In Colab\"/></a>"
      ]
    },
    {
      "cell_type": "code",
      "execution_count": 18,
      "metadata": {
        "colab": {
          "base_uri": "https://localhost:8080/"
        },
        "id": "8ClK3ISILhX5",
        "outputId": "a7ff00ac-ac1d-4d6a-d148-c4181fed7c69"
      },
      "outputs": [
        {
          "output_type": "stream",
          "name": "stdout",
          "text": [
            "5\n",
            "3\n",
            "2\n"
          ]
        }
      ],
      "source": [
        "class HashTable:\n",
        "    def __init__(self):\n",
        "        self.size = 10\n",
        "        self.table = [[] for _ in range(self.size)]\n",
        "\n",
        "    def _hash(self, key):\n",
        "        return hash(key) % self.size\n",
        "\n",
        "    def insert(self, key, value):\n",
        "        index = self._hash(key)\n",
        "        for pair in self.table[index]:\n",
        "            if pair[0] == key:\n",
        "                pair[1] = value\n",
        "                return\n",
        "        self.table[index].append([key, value])\n",
        "\n",
        "    def get(self, key):\n",
        "        index = self._hash(key)\n",
        "        for pair in self.table[index]:\n",
        "            if pair[0] == key:\n",
        "                return pair[1]\n",
        "        raise KeyError(key)\n",
        "\n",
        "    def delete(self, key):\n",
        "        index = self._hash(key)\n",
        "        for i, pair in enumerate(self.table[index]):\n",
        "            if pair[0] == key:\n",
        "                del self.table[index][i]\n",
        "                return\n",
        "        raise KeyError(key)\n",
        "\n",
        "hash_table = HashTable()\n",
        "hash_table.insert(\"apple\", 5)\n",
        "hash_table.insert(\"banana\", 3)\n",
        "hash_table.insert(\"orange\", 2)\n",
        "print(hash_table.get(\"apple\"))\n",
        "print(hash_table.get(\"banana\"))\n",
        "print(hash_table.get(\"orange\"))"
      ]
    }
  ]
}