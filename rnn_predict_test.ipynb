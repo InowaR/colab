{
  "nbformat": 4,
  "nbformat_minor": 0,
  "metadata": {
    "colab": {
      "provenance": [],
      "authorship_tag": "ABX9TyPCOtqii+bM2C1EmFW3iIqH",
      "include_colab_link": true
    },
    "kernelspec": {
      "name": "python3",
      "display_name": "Python 3"
    },
    "language_info": {
      "name": "python"
    }
  },
  "cells": [
    {
      "cell_type": "markdown",
      "metadata": {
        "id": "view-in-github",
        "colab_type": "text"
      },
      "source": [
        "<a href=\"https://colab.research.google.com/github/InowaR/colab/blob/main/rnn_predict_test.ipynb\" target=\"_parent\"><img src=\"https://colab.research.google.com/assets/colab-badge.svg\" alt=\"Open In Colab\"/></a>"
      ]
    },
    {
      "cell_type": "code",
      "execution_count": null,
      "metadata": {
        "id": "rzEMTmQrHYhw"
      },
      "outputs": [],
      "source": [
        "import numpy as np\n",
        "import pandas as pd\n",
        "import matplotlib.pyplot as plt\n",
        "from sklearn.preprocessing import MinMaxScaler\n",
        "from keras import Sequential\n",
        "from keras.layers import LSTM, Dense"
      ]
    },
    {
      "cell_type": "code",
      "source": [
        "data = np.arange(0, 1, 0.005)[:, np.newaxis]\n",
        "\n",
        "print(data)\n",
        "print(len(data))\n",
        "\n",
        "# Функция для создания последовательностей\n",
        "def create_dataset(data, time_step=1):\n",
        "    X, Y = [], []\n",
        "    for i in range(len(data) - time_step - 1):\n",
        "        X.append(data[i:(i + time_step), 0])\n",
        "        Y.append(data[i + time_step, 0])\n",
        "    return np.array(X), np.array(Y)\n",
        "\n",
        "# Параметры\n",
        "time_step = 10\n",
        "X, y = create_dataset(data, time_step)\n",
        "\n",
        "X = X.reshape(X.shape[0], X.shape[1], 1)\n",
        "\n",
        "print(X[0])\n",
        "print(y[0])"
      ],
      "metadata": {
        "id": "nsfho5chQosJ",
        "outputId": "1ce79e97-ca27-4e14-8812-f0c15bfad5bd",
        "colab": {
          "base_uri": "https://localhost:8080/"
        }
      },
      "execution_count": null,
      "outputs": [
        {
          "output_type": "stream",
          "name": "stdout",
          "text": [
            "[[0.   ]\n",
            " [0.005]\n",
            " [0.01 ]\n",
            " [0.015]\n",
            " [0.02 ]\n",
            " [0.025]\n",
            " [0.03 ]\n",
            " [0.035]\n",
            " [0.04 ]\n",
            " [0.045]\n",
            " [0.05 ]\n",
            " [0.055]\n",
            " [0.06 ]\n",
            " [0.065]\n",
            " [0.07 ]\n",
            " [0.075]\n",
            " [0.08 ]\n",
            " [0.085]\n",
            " [0.09 ]\n",
            " [0.095]\n",
            " [0.1  ]\n",
            " [0.105]\n",
            " [0.11 ]\n",
            " [0.115]\n",
            " [0.12 ]\n",
            " [0.125]\n",
            " [0.13 ]\n",
            " [0.135]\n",
            " [0.14 ]\n",
            " [0.145]\n",
            " [0.15 ]\n",
            " [0.155]\n",
            " [0.16 ]\n",
            " [0.165]\n",
            " [0.17 ]\n",
            " [0.175]\n",
            " [0.18 ]\n",
            " [0.185]\n",
            " [0.19 ]\n",
            " [0.195]\n",
            " [0.2  ]\n",
            " [0.205]\n",
            " [0.21 ]\n",
            " [0.215]\n",
            " [0.22 ]\n",
            " [0.225]\n",
            " [0.23 ]\n",
            " [0.235]\n",
            " [0.24 ]\n",
            " [0.245]\n",
            " [0.25 ]\n",
            " [0.255]\n",
            " [0.26 ]\n",
            " [0.265]\n",
            " [0.27 ]\n",
            " [0.275]\n",
            " [0.28 ]\n",
            " [0.285]\n",
            " [0.29 ]\n",
            " [0.295]\n",
            " [0.3  ]\n",
            " [0.305]\n",
            " [0.31 ]\n",
            " [0.315]\n",
            " [0.32 ]\n",
            " [0.325]\n",
            " [0.33 ]\n",
            " [0.335]\n",
            " [0.34 ]\n",
            " [0.345]\n",
            " [0.35 ]\n",
            " [0.355]\n",
            " [0.36 ]\n",
            " [0.365]\n",
            " [0.37 ]\n",
            " [0.375]\n",
            " [0.38 ]\n",
            " [0.385]\n",
            " [0.39 ]\n",
            " [0.395]\n",
            " [0.4  ]\n",
            " [0.405]\n",
            " [0.41 ]\n",
            " [0.415]\n",
            " [0.42 ]\n",
            " [0.425]\n",
            " [0.43 ]\n",
            " [0.435]\n",
            " [0.44 ]\n",
            " [0.445]\n",
            " [0.45 ]\n",
            " [0.455]\n",
            " [0.46 ]\n",
            " [0.465]\n",
            " [0.47 ]\n",
            " [0.475]\n",
            " [0.48 ]\n",
            " [0.485]\n",
            " [0.49 ]\n",
            " [0.495]\n",
            " [0.5  ]\n",
            " [0.505]\n",
            " [0.51 ]\n",
            " [0.515]\n",
            " [0.52 ]\n",
            " [0.525]\n",
            " [0.53 ]\n",
            " [0.535]\n",
            " [0.54 ]\n",
            " [0.545]\n",
            " [0.55 ]\n",
            " [0.555]\n",
            " [0.56 ]\n",
            " [0.565]\n",
            " [0.57 ]\n",
            " [0.575]\n",
            " [0.58 ]\n",
            " [0.585]\n",
            " [0.59 ]\n",
            " [0.595]\n",
            " [0.6  ]\n",
            " [0.605]\n",
            " [0.61 ]\n",
            " [0.615]\n",
            " [0.62 ]\n",
            " [0.625]\n",
            " [0.63 ]\n",
            " [0.635]\n",
            " [0.64 ]\n",
            " [0.645]\n",
            " [0.65 ]\n",
            " [0.655]\n",
            " [0.66 ]\n",
            " [0.665]\n",
            " [0.67 ]\n",
            " [0.675]\n",
            " [0.68 ]\n",
            " [0.685]\n",
            " [0.69 ]\n",
            " [0.695]\n",
            " [0.7  ]\n",
            " [0.705]\n",
            " [0.71 ]\n",
            " [0.715]\n",
            " [0.72 ]\n",
            " [0.725]\n",
            " [0.73 ]\n",
            " [0.735]\n",
            " [0.74 ]\n",
            " [0.745]\n",
            " [0.75 ]\n",
            " [0.755]\n",
            " [0.76 ]\n",
            " [0.765]\n",
            " [0.77 ]\n",
            " [0.775]\n",
            " [0.78 ]\n",
            " [0.785]\n",
            " [0.79 ]\n",
            " [0.795]\n",
            " [0.8  ]\n",
            " [0.805]\n",
            " [0.81 ]\n",
            " [0.815]\n",
            " [0.82 ]\n",
            " [0.825]\n",
            " [0.83 ]\n",
            " [0.835]\n",
            " [0.84 ]\n",
            " [0.845]\n",
            " [0.85 ]\n",
            " [0.855]\n",
            " [0.86 ]\n",
            " [0.865]\n",
            " [0.87 ]\n",
            " [0.875]\n",
            " [0.88 ]\n",
            " [0.885]\n",
            " [0.89 ]\n",
            " [0.895]\n",
            " [0.9  ]\n",
            " [0.905]\n",
            " [0.91 ]\n",
            " [0.915]\n",
            " [0.92 ]\n",
            " [0.925]\n",
            " [0.93 ]\n",
            " [0.935]\n",
            " [0.94 ]\n",
            " [0.945]\n",
            " [0.95 ]\n",
            " [0.955]\n",
            " [0.96 ]\n",
            " [0.965]\n",
            " [0.97 ]\n",
            " [0.975]\n",
            " [0.98 ]\n",
            " [0.985]\n",
            " [0.99 ]\n",
            " [0.995]]\n",
            "200\n",
            "[[0.   ]\n",
            " [0.005]\n",
            " [0.01 ]\n",
            " [0.015]\n",
            " [0.02 ]\n",
            " [0.025]\n",
            " [0.03 ]\n",
            " [0.035]\n",
            " [0.04 ]\n",
            " [0.045]]\n",
            "0.05\n"
          ]
        }
      ]
    },
    {
      "cell_type": "code",
      "source": [
        "# Создание модели LSTM\n",
        "model = Sequential()\n",
        "model.add(LSTM(100, return_sequences=True))\n",
        "model.add(LSTM(100, return_sequences=False))\n",
        "model.add(Dense(1))\n",
        "\n",
        "# Компиляция модели\n",
        "model.compile(optimizer='adam', loss='mean_squared_error')"
      ],
      "metadata": {
        "id": "HEkiCFEzQsht"
      },
      "execution_count": null,
      "outputs": []
    },
    {
      "cell_type": "code",
      "source": [
        "model.fit(X, y, epochs=5, batch_size=10, verbose=1)"
      ],
      "metadata": {
        "colab": {
          "base_uri": "https://localhost:8080/"
        },
        "id": "TCOZOnTUQyIw",
        "outputId": "ae7dae91-37c9-4516-e006-75f8c80fe6da"
      },
      "execution_count": null,
      "outputs": [
        {
          "output_type": "stream",
          "name": "stdout",
          "text": [
            "Epoch 1/5\n",
            "\u001b[1m19/19\u001b[0m \u001b[32m━━━━━━━━━━━━━━━━━━━━\u001b[0m\u001b[37m\u001b[0m \u001b[1m0s\u001b[0m 14ms/step - loss: 1.8416e-05\n",
            "Epoch 2/5\n",
            "\u001b[1m19/19\u001b[0m \u001b[32m━━━━━━━━━━━━━━━━━━━━\u001b[0m\u001b[37m\u001b[0m \u001b[1m0s\u001b[0m 15ms/step - loss: 9.2371e-06\n",
            "Epoch 3/5\n",
            "\u001b[1m19/19\u001b[0m \u001b[32m━━━━━━━━━━━━━━━━━━━━\u001b[0m\u001b[37m\u001b[0m \u001b[1m0s\u001b[0m 13ms/step - loss: 5.2416e-06\n",
            "Epoch 4/5\n",
            "\u001b[1m19/19\u001b[0m \u001b[32m━━━━━━━━━━━━━━━━━━━━\u001b[0m\u001b[37m\u001b[0m \u001b[1m0s\u001b[0m 13ms/step - loss: 4.3987e-06\n",
            "Epoch 5/5\n",
            "\u001b[1m19/19\u001b[0m \u001b[32m━━━━━━━━━━━━━━━━━━━━\u001b[0m\u001b[37m\u001b[0m \u001b[1m0s\u001b[0m 14ms/step - loss: 3.2654e-06\n"
          ]
        },
        {
          "output_type": "execute_result",
          "data": {
            "text/plain": [
              "<keras.src.callbacks.history.History at 0x7dd5eb868910>"
            ]
          },
          "metadata": {},
          "execution_count": 203
        }
      ]
    },
    {
      "cell_type": "code",
      "source": [
        "# Прогнозирование\n",
        "last_data = data[54: 54 + time_step:].reshape(1, time_step, 1)\n",
        "print(last_data)\n",
        "\n",
        "predicted_data = model.predict(last_data)\n",
        "\n",
        "print(predicted_data[0][0])"
      ],
      "metadata": {
        "colab": {
          "base_uri": "https://localhost:8080/"
        },
        "id": "IfXsnG0URN3z",
        "outputId": "45493732-6398-4958-c8ab-805c1492a182"
      },
      "execution_count": null,
      "outputs": [
        {
          "output_type": "stream",
          "name": "stdout",
          "text": [
            "[[[0.27 ]\n",
            "  [0.275]\n",
            "  [0.28 ]\n",
            "  [0.285]\n",
            "  [0.29 ]\n",
            "  [0.295]\n",
            "  [0.3  ]\n",
            "  [0.305]\n",
            "  [0.31 ]\n",
            "  [0.315]]]\n",
            "\u001b[1m1/1\u001b[0m \u001b[32m━━━━━━━━━━━━━━━━━━━━\u001b[0m\u001b[37m\u001b[0m \u001b[1m0s\u001b[0m 25ms/step\n",
            "0.31984535\n"
          ]
        }
      ]
    },
    {
      "cell_type": "code",
      "source": [],
      "metadata": {
        "id": "QgGDOmUa8xDU"
      },
      "execution_count": null,
      "outputs": []
    }
  ]
}