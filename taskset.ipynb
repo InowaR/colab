{
  "nbformat": 4,
  "nbformat_minor": 0,
  "metadata": {
    "colab": {
      "provenance": [],
      "authorship_tag": "ABX9TyMauhXFTSen837OLZTb8Bj1",
      "include_colab_link": true
    },
    "kernelspec": {
      "name": "python3",
      "display_name": "Python 3"
    },
    "language_info": {
      "name": "python"
    }
  },
  "cells": [
    {
      "cell_type": "markdown",
      "metadata": {
        "id": "view-in-github",
        "colab_type": "text"
      },
      "source": [
        "<a href=\"https://colab.research.google.com/github/InowaR/colab/blob/main/taskset.ipynb\" target=\"_parent\"><img src=\"https://colab.research.google.com/assets/colab-badge.svg\" alt=\"Open In Colab\"/></a>"
      ]
    },
    {
      "cell_type": "code",
      "execution_count": 4,
      "metadata": {
        "colab": {
          "base_uri": "https://localhost:8080/"
        },
        "id": "eWh9UQdGa1EV",
        "outputId": "f4a493ee-281d-447e-a695-746336b4665c"
      },
      "outputs": [
        {
          "output_type": "stream",
          "name": "stdout",
          "text": [
            "hello\n"
          ]
        }
      ],
      "source": [
        "!echo 'print(\"hello\")' > my_program.py\n",
        "!taskset -c 1 python my_program.py"
      ]
    },
    {
      "cell_type": "code",
      "source": [
        "import psutil\n",
        "\n",
        "def info():\n",
        "    cpu_percentages = psutil.cpu_percent(percpu=True)\n",
        "\n",
        "    for i, cpu_percentage in enumerate(cpu_percentages):\n",
        "        print(f\"CPU {i + 1}: {cpu_percentage}%\")\n",
        "\n",
        "info()"
      ],
      "metadata": {
        "colab": {
          "base_uri": "https://localhost:8080/"
        },
        "id": "1SnV9zDljpaS",
        "outputId": "19d457b2-2af3-4f59-bee4-f321122c657d"
      },
      "execution_count": 3,
      "outputs": [
        {
          "output_type": "stream",
          "name": "stdout",
          "text": [
            "CPU 1: 24.6%\n",
            "CPU 2: 28.0%\n"
          ]
        }
      ]
    },
    {
      "cell_type": "code",
      "source": [
        "import asyncio\n",
        "\n",
        "async def async_function():\n",
        "    while True:\n",
        "        print('ffff')\n",
        "        await asyncio.sleep(1)\n",
        "\n",
        "async def main():\n",
        "    task = asyncio.create_task(async_function())\n",
        "    await task\n",
        "\n",
        "loop = asyncio.get_event_loop()\n",
        "try:\n",
        "    loop.run_until_complete(main())\n",
        "except KeyboardInterrupt:\n",
        "    print(\"Exiting program...\")\n"
      ],
      "metadata": {
        "colab": {
          "base_uri": "https://localhost:8080/"
        },
        "id": "yPTAhPo1mb7z",
        "outputId": "5a99c3ba-84fa-4967-e908-72e06f34f94a"
      },
      "execution_count": 5,
      "outputs": [
        {
          "output_type": "stream",
          "name": "stdout",
          "text": [
            "ffff\n",
            "ffff\n",
            "ffff\n",
            "ffff\n",
            "Exiting program...\n"
          ]
        }
      ]
    }
  ]
}