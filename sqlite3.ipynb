{
  "nbformat": 4,
  "nbformat_minor": 0,
  "metadata": {
    "colab": {
      "provenance": [],
      "authorship_tag": "ABX9TyPzoDf92+s1iPYlDVC8WS4k",
      "include_colab_link": true
    },
    "kernelspec": {
      "name": "python3",
      "display_name": "Python 3"
    },
    "language_info": {
      "name": "python"
    }
  },
  "cells": [
    {
      "cell_type": "markdown",
      "metadata": {
        "id": "view-in-github",
        "colab_type": "text"
      },
      "source": [
        "<a href=\"https://colab.research.google.com/github/InowaR/colab/blob/main/sqlite3.ipynb\" target=\"_parent\"><img src=\"https://colab.research.google.com/assets/colab-badge.svg\" alt=\"Open In Colab\"/></a>"
      ]
    },
    {
      "cell_type": "code",
      "source": [
        "import sqlite3\n",
        "from tabulate import tabulate\n",
        "\n",
        "db = 'site.db'\n",
        "\n",
        "def show_tables():\n",
        "  tables = ['users', 'chats', 'messages']\n",
        "  def show(tablename):\n",
        "    with sqlite3.connect(db) as connection:\n",
        "      cursor = connection.cursor()\n",
        "      cursor.execute(f'SELECT * FROM {tablename}')\n",
        "      results = cursor.fetchall()\n",
        "      headers = []\n",
        "      for i in range(len(cursor.description)):\n",
        "        headers.append(cursor.description[i][0])\n",
        "      print(tablename)\n",
        "      print(tabulate(results, headers=headers, tablefmt='grid', stralign='center'))\n",
        "      print(\"\\n\")\n",
        "\n",
        "  for table in tables:\n",
        "    show(table)\n",
        "\n",
        "show_tables()"
      ],
      "metadata": {
        "colab": {
          "base_uri": "https://localhost:8080/"
        },
        "id": "6sHeQq_zCUep",
        "outputId": "58f4a892-c5c7-4d6e-dbe5-6d4e5e3977fa"
      },
      "execution_count": 97,
      "outputs": [
        {
          "output_type": "stream",
          "name": "stdout",
          "text": [
            "users\n",
            "+------+--------+---------+\n",
            "|  id  |  name  |  email  |\n",
            "+======+========+=========+\n",
            "+------+--------+---------+\n",
            "\n",
            "\n",
            "chats\n",
            "+------+--------+-----------+\n",
            "|  id  |  name  |  user_id  |\n",
            "+======+========+===========+\n",
            "+------+--------+-----------+\n",
            "\n",
            "\n",
            "messages\n",
            "+------+-----------+-----------+-----------+\n",
            "|  id  |  user_id  |  chat_id  |  message  |\n",
            "+======+===========+===========+===========+\n",
            "+------+-----------+-----------+-----------+\n",
            "\n",
            "\n"
          ]
        }
      ]
    },
    {
      "cell_type": "code",
      "execution_count": 96,
      "metadata": {
        "id": "OeZF4PucumdZ"
      },
      "outputs": [],
      "source": [
        "def create_db():\n",
        "  with sqlite3.connect(db) as connection:\n",
        "    cursor = connection.cursor()\n",
        "    cursor.execute(\"\"\"CREATE TABLE users (\n",
        "                      id INTEGER PRIMARY KEY,\n",
        "                      name TEXT,\n",
        "                      email TEXT\n",
        "                    );\"\"\")\n",
        "\n",
        "    cursor.execute(\"\"\"CREATE TABLE chats (\n",
        "                      id INTEGER PRIMARY KEY,\n",
        "                      name TEXT,\n",
        "                      user_id INTEGER,\n",
        "                      FOREIGN KEY (user_id) REFERENCES users (id) ON DELETE CASCADE\n",
        "                    );\"\"\")\n",
        "\n",
        "    cursor.execute(\"\"\"CREATE TABLE messages (\n",
        "                      id INTEGER PRIMARY KEY,\n",
        "                      user_id INTEGER,\n",
        "                      chat_id INTEGER,\n",
        "                      message TEXT,\n",
        "                      FOREIGN KEY (user_id) REFERENCES users (id),\n",
        "                      FOREIGN KEY (chat_id) REFERENCES chats (id) ON DELETE CASCADE\n",
        "                    );\"\"\")\n",
        "\n",
        "    connection.commit()\n",
        "\n",
        "# create_db()\n",
        "\n",
        "\n",
        "def insert():\n",
        "  with sqlite3.connect(db) as connection:\n",
        "    cursor = connection.cursor()\n",
        "    cursor.execute(\"\"\"INSERT INTO users (name, email) VALUES ('John Doe', 'johndoe@example.com');\"\"\")\n",
        "    cursor.execute(\"\"\"INSERT INTO chats (name, user_id) VALUES ('General', 1);\"\"\")\n",
        "    cursor.execute(\"\"\"INSERT INTO messages (user_id, chat_id, message) VALUES (1, 1, 'Hello, world!');\"\"\")\n",
        "    connection.commit()\n",
        "\n",
        "# insert()\n",
        "\n",
        "\n",
        "\n",
        "def delete():\n",
        "  with sqlite3.connect(db) as connection:\n",
        "    cursor = connection.cursor()\n",
        "    cursor.execute(\"\"\"DELETE FROM users WHERE name = 'John Doe';\"\"\")\n",
        "    cursor.execute(\"\"\"DELETE FROM chats WHERE name = 'General';\"\"\")\n",
        "    cursor.execute(\"\"\"DELETE FROM messages WHERE message = 'Hello, world!';\"\"\")\n",
        "    connection.commit()\n",
        "\n",
        "delete()"
      ]
    }
  ]
}