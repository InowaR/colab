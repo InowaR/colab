{
  "nbformat": 4,
  "nbformat_minor": 0,
  "metadata": {
    "colab": {
      "provenance": [],
      "authorship_tag": "ABX9TyMtyROaSY4SE19SGgKvlnvV",
      "include_colab_link": true
    },
    "kernelspec": {
      "name": "python3",
      "display_name": "Python 3"
    },
    "language_info": {
      "name": "python"
    }
  },
  "cells": [
    {
      "cell_type": "markdown",
      "metadata": {
        "id": "view-in-github",
        "colab_type": "text"
      },
      "source": [
        "<a href=\"https://colab.research.google.com/github/InowaR/colab/blob/main/sqlite3.ipynb\" target=\"_parent\"><img src=\"https://colab.research.google.com/assets/colab-badge.svg\" alt=\"Open In Colab\"/></a>"
      ]
    },
    {
      "cell_type": "code",
      "source": [
        "import sqlite3\n",
        "from tabulate import tabulate\n",
        "\n",
        "db = 'site.db'\n",
        "\n",
        "def show_tables():\n",
        "  tables = ['users', 'chats', 'messages']\n",
        "  def show(tablename):\n",
        "    with sqlite3.connect(db) as connection:\n",
        "      cursor = connection.cursor()\n",
        "      cursor.execute(f'SELECT * FROM {tablename}')\n",
        "      results = cursor.fetchall()\n",
        "      headers = []\n",
        "      for i in range(len(cursor.description)):\n",
        "        headers.append(cursor.description[i][0])\n",
        "      print(tablename)\n",
        "      print(tabulate(results, headers=headers, tablefmt='grid', stralign='center'))\n",
        "      print(\"\\n\")\n",
        "\n",
        "  for table in tables:\n",
        "    show(table)\n",
        "\n",
        "show_tables()"
      ],
      "metadata": {
        "colab": {
          "base_uri": "https://localhost:8080/"
        },
        "id": "6sHeQq_zCUep",
        "outputId": "8f4f405a-c2c6-4b71-90c1-a7d4a5da2949"
      },
      "execution_count": 138,
      "outputs": [
        {
          "output_type": "stream",
          "name": "stdout",
          "text": [
            "users\n",
            "+------+----------+---------------------+\n",
            "|   id |   name   |        email        |\n",
            "+======+==========+=====================+\n",
            "|    1 | John Doe | johndoe@example.com |\n",
            "+------+----------+---------------------+\n",
            "\n",
            "\n",
            "chats\n",
            "+------+---------+-----------+\n",
            "|   id |  name   |   user_id |\n",
            "+======+=========+===========+\n",
            "|    1 | General |         1 |\n",
            "+------+---------+-----------+\n",
            "\n",
            "\n",
            "messages\n",
            "+------+-----------+-----------+-----------+--------------+\n",
            "|  id  |  chat_id  |  user_id  |  message  |  created_at  |\n",
            "+======+===========+===========+===========+==============+\n",
            "+------+-----------+-----------+-----------+--------------+\n",
            "\n",
            "\n"
          ]
        }
      ]
    },
    {
      "cell_type": "code",
      "execution_count": 137,
      "metadata": {
        "id": "OeZF4PucumdZ"
      },
      "outputs": [],
      "source": [
        "def create_db():\n",
        "  with sqlite3.connect(db) as connection:\n",
        "    cursor = connection.cursor()\n",
        "    cursor.execute(\"\"\"CREATE TABLE users (\n",
        "                      id INTEGER PRIMARY KEY AUTOINCREMENT,\n",
        "                      name VARCHAR(255) NOT NULL,\n",
        "                      email VARCHAR(255) NOT NULL\n",
        "                    );\"\"\")\n",
        "\n",
        "    cursor.execute(\"\"\"CREATE TABLE chats (\n",
        "                      id INTEGER PRIMARY KEY AUTOINCREMENT,\n",
        "                      name VARCHAR(255) NOT NULL,\n",
        "                      user_id INTEGER NOT NULL,\n",
        "                      FOREIGN KEY (user_id) REFERENCES users (id) ON DELETE CASCADE\n",
        "                    );\"\"\")\n",
        "\n",
        "    cursor.execute(\"\"\"CREATE TABLE messages (\n",
        "                      id INTEGER PRIMARY KEY AUTOINCREMENT,\n",
        "                      chat_id INTEGER NOT NULL,\n",
        "                      user_id INTEGER NOT NULL,\n",
        "                      message TEXT NOT NULL,\n",
        "                      created_at DATETIME NOT NULL,\n",
        "                      FOREIGN KEY (chat_id) REFERENCES chats (id) ON DELETE CASCADE,\n",
        "                      FOREIGN KEY (user_id) REFERENCES users (id) ON DELETE CASCADE\n",
        "                    );\"\"\")\n",
        "\n",
        "    connection.commit()\n",
        "\n",
        "# create_db()\n",
        "\n",
        "\n",
        "def insert(message: str, username: str, chatname: str):\n",
        "  with sqlite3.connect(db) as connection:\n",
        "    cursor = connection.cursor()\n",
        "    # cursor.execute(\"\"\"INSERT INTO users (name, email) VALUES ('John Doe', 'johndoe@example.com');\"\"\")\n",
        "    # cursor.execute(\"\"\"INSERT INTO chats (name, user_id) VALUES ('General', 1);\"\"\")\n",
        "    cursor.execute(f\"\"\"INSERT INTO messages (chat_id, user_id, message, created_at)\n",
        "                      SELECT chats.id, users.id,{message}, CURRENT_TIMESTAMP\n",
        "                      FROM users\n",
        "                      JOIN chats ON chats.user_id = users.id\n",
        "                      WHERE users.name={username} AND chats.name={chatname};\"\"\")\n",
        "    connection.commit()\n",
        "\n",
        "\n",
        "\n",
        "# insert('\"hello\"', '\"John Doe\"', '\"General\"')\n",
        "\n",
        "\n",
        "def delete(username: str, chatname: str):\n",
        "  with sqlite3.connect(db) as connection:\n",
        "    cursor = connection.cursor()\n",
        "    cursor.execute(f\"\"\"DELETE FROM messages\n",
        "                      WHERE chat_id = (\n",
        "                      SELECT chats.id\n",
        "                      FROM chats\n",
        "                      JOIN users ON chats.user_id = users.id\n",
        "                      WHERE users.name={username} AND chats.name={chatname});\"\"\")\n",
        "    connection.commit()\n",
        "\n",
        "delete('\"John Doe\"', '\"General\"')"
      ]
    }
  ]
}