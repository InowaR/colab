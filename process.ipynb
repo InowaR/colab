{
  "nbformat": 4,
  "nbformat_minor": 0,
  "metadata": {
    "colab": {
      "provenance": [],
      "authorship_tag": "ABX9TyNTHkcaVayRokUvYGZKa8+T",
      "include_colab_link": true
    },
    "kernelspec": {
      "name": "python3",
      "display_name": "Python 3"
    },
    "language_info": {
      "name": "python"
    }
  },
  "cells": [
    {
      "cell_type": "markdown",
      "metadata": {
        "id": "view-in-github",
        "colab_type": "text"
      },
      "source": [
        "<a href=\"https://colab.research.google.com/github/InowaR/colab/blob/main/process.ipynb\" target=\"_parent\"><img src=\"https://colab.research.google.com/assets/colab-badge.svg\" alt=\"Open In Colab\"/></a>"
      ]
    },
    {
      "cell_type": "code",
      "execution_count": 21,
      "metadata": {
        "colab": {
          "base_uri": "https://localhost:8080/"
        },
        "id": "YmvpFRoVb4Ci",
        "outputId": "494de732-adb6-4cc6-8f1a-24edfcff8740"
      },
      "outputs": [
        {
          "output_type": "stream",
          "name": "stdout",
          "text": [
            "start main\n",
            "first\n",
            "second\n",
            "end main\n"
          ]
        }
      ],
      "source": [
        "from multiprocessing import Process\n",
        "import time\n",
        "\n",
        "def main():\n",
        "  print(\"start main\")\n",
        "  p1 = Process(target=first)\n",
        "  p1.start()\n",
        "  p2 = Process(target=second)\n",
        "  p2.start()\n",
        "  time.sleep(4)\n",
        "  print(\"end main\")\n",
        "\n",
        "def first():\n",
        "  time.sleep(2)\n",
        "  print(\"first\")\n",
        "\n",
        "def second():\n",
        "  time.sleep(3)\n",
        "  print(\"second\")\n",
        "\n",
        "if __name__ == '__main__':\n",
        "  main()\n",
        "     "
      ]
    }
  ]
}