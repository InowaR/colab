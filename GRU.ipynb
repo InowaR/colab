{
  "nbformat": 4,
  "nbformat_minor": 0,
  "metadata": {
    "colab": {
      "provenance": [],
      "authorship_tag": "ABX9TyOMKPsFusx4t7ARKkxwC4ii",
      "include_colab_link": true
    },
    "kernelspec": {
      "name": "python3",
      "display_name": "Python 3"
    },
    "language_info": {
      "name": "python"
    }
  },
  "cells": [
    {
      "cell_type": "markdown",
      "metadata": {
        "id": "view-in-github",
        "colab_type": "text"
      },
      "source": [
        "<a href=\"https://colab.research.google.com/github/InowaR/colab/blob/main/GRU.ipynb\" target=\"_parent\"><img src=\"https://colab.research.google.com/assets/colab-badge.svg\" alt=\"Open In Colab\"/></a>"
      ]
    },
    {
      "cell_type": "code",
      "source": [
        "import numpy as np\n",
        "import tensorflow as tf\n",
        "from keras.datasets import imdb\n",
        "from keras.models import Sequential\n",
        "from keras.layers import Embedding, GRU, Dense\n",
        "from keras.preprocessing.sequence import pad_sequences\n",
        "from keras.callbacks import EarlyStopping\n",
        "\n",
        "# Загрузка данных IMDb\n",
        "(x_train, y_train), (x_test, y_test) = imdb.load_data(num_words=10000)\n",
        "\n",
        "\n",
        "# Преобразование данных в векторы\n",
        "max_length = max([len(x) for x in x_train])\n",
        "x_train = pad_sequences(x_train, maxlen=max_length)\n",
        "x_test = pad_sequences(x_test, maxlen=max_length)\n",
        "\n",
        "\n",
        "# Определение модели\n",
        "model = Sequential()\n",
        "model.add(Embedding(10000, 64, input_length=max_length))\n",
        "model.add(GRU(64, return_sequences=True, dropout=0.2))\n",
        "model.add(GRU(32, dropout=0.2))\n",
        "model.add(Dense(1, activation='linear'))\n",
        "\n",
        "\n",
        "# Компиляция модели\n",
        "model.compile(loss='binary_crossentropy', optimizer='adam', metrics=['accuracy'])\n",
        "# Обучение модели\n",
        "\n",
        "early_stopping = EarlyStopping(monitor='val_loss', patience=3)\n",
        "model.fit(x_train, y_train, epochs=10, validation_split=0.2, callbacks=[early_stopping])\n",
        "\n",
        "# Сохранение модели\n",
        "model.save('model.keras')\n",
        "# Оценка точности модели\n",
        "loss, accuracy = model.evaluate(x_test, y_test)\n",
        "print('Тестовая точность:', accuracy)\n",
        "\n",
        "x1 = [x_train[0]]\n",
        "print(model.predict(np.array(x1)))\n",
        "\n",
        "x2 = [x_train[1]]\n",
        "print(model.predict(np.array(x2)))"
      ],
      "metadata": {
        "id": "oMQoC82Ckp-C",
        "outputId": "268c368f-ad0c-48aa-8aa7-b95a92064b76",
        "colab": {
          "base_uri": "https://localhost:8080/"
        }
      },
      "execution_count": null,
      "outputs": [
        {
          "output_type": "stream",
          "name": "stdout",
          "text": [
            "Epoch 1/10\n",
            "625/625 [==============================] - 2251s 4s/step - loss: 0.6309 - accuracy: 0.6712 - val_loss: 0.5576 - val_accuracy: 0.7078\n",
            "Epoch 2/10\n",
            "625/625 [==============================] - 2218s 4s/step - loss: 0.4300 - accuracy: 0.8348 - val_loss: 0.3911 - val_accuracy: 0.8444\n",
            "Epoch 3/10\n",
            "418/625 [===================>..........] - ETA: 11:52 - loss: 0.3537 - accuracy: 0.8675"
          ]
        }
      ]
    }
  ]
}