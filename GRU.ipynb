{
  "nbformat": 4,
  "nbformat_minor": 0,
  "metadata": {
    "colab": {
      "provenance": [],
      "authorship_tag": "ABX9TyMyMVRkFmGz68VUqsQKzBHf",
      "include_colab_link": true
    },
    "kernelspec": {
      "name": "python3",
      "display_name": "Python 3"
    },
    "language_info": {
      "name": "python"
    }
  },
  "cells": [
    {
      "cell_type": "markdown",
      "metadata": {
        "id": "view-in-github",
        "colab_type": "text"
      },
      "source": [
        "<a href=\"https://colab.research.google.com/github/InowaR/colab/blob/main/GRU.ipynb\" target=\"_parent\"><img src=\"https://colab.research.google.com/assets/colab-badge.svg\" alt=\"Open In Colab\"/></a>"
      ]
    },
    {
      "cell_type": "code",
      "execution_count": 28,
      "metadata": {
        "colab": {
          "base_uri": "https://localhost:8080/"
        },
        "id": "F0-cu3b4TZRk",
        "outputId": "9460df02-b473-4c37-8d41-fba539d3bde7"
      },
      "outputs": [
        {
          "output_type": "stream",
          "name": "stdout",
          "text": [
            "Epoch 1/10\n",
            "1/1 [==============================] - 2s 2s/step - loss: 0.0000e+00 - accuracy: 0.1905\n",
            "Epoch 2/10\n",
            "1/1 [==============================] - 0s 8ms/step - loss: 0.0000e+00 - accuracy: 0.1905\n",
            "Epoch 3/10\n",
            "1/1 [==============================] - 0s 12ms/step - loss: 0.0000e+00 - accuracy: 0.1905\n",
            "Epoch 4/10\n",
            "1/1 [==============================] - 0s 8ms/step - loss: 0.0000e+00 - accuracy: 0.1905\n",
            "Epoch 5/10\n",
            "1/1 [==============================] - 0s 9ms/step - loss: 0.0000e+00 - accuracy: 0.1905\n",
            "Epoch 6/10\n",
            "1/1 [==============================] - 0s 8ms/step - loss: 0.0000e+00 - accuracy: 0.1905\n",
            "Epoch 7/10\n",
            "1/1 [==============================] - 0s 9ms/step - loss: 0.0000e+00 - accuracy: 0.1905\n",
            "Epoch 8/10\n",
            "1/1 [==============================] - 0s 9ms/step - loss: 0.0000e+00 - accuracy: 0.1905\n",
            "Epoch 9/10\n",
            "1/1 [==============================] - 0s 9ms/step - loss: 0.0000e+00 - accuracy: 0.1905\n",
            "Epoch 10/10\n",
            "1/1 [==============================] - 0s 14ms/step - loss: 0.0000e+00 - accuracy: 0.1905\n",
            "1/1 [==============================] - 0s 289ms/step\n",
            "1/1 [==============================] - 0s 15ms/step\n",
            "1/1 [==============================] - 0s 15ms/step\n",
            "1/1 [==============================] - 0s 22ms/step\n",
            "1/1 [==============================] - 0s 15ms/step\n",
            "1/1 [==============================] - 0s 15ms/step\n",
            "1/1 [==============================] - 0s 15ms/step\n",
            "1/1 [==============================] - 0s 15ms/step\n",
            "1/1 [==============================] - 0s 15ms/step\n",
            "1/1 [==============================] - 0s 16ms/step\n",
            "1/1 [==============================] - 0s 16ms/step\n",
            "1/1 [==============================] - 0s 17ms/step\n",
            "1/1 [==============================] - 0s 16ms/step\n",
            "1/1 [==============================] - 0s 14ms/step\n",
            "1/1 [==============================] - 0s 14ms/step\n",
            "1/1 [==============================] - 0s 18ms/step\n",
            "1/1 [==============================] - 0s 15ms/step\n",
            "1/1 [==============================] - 0s 16ms/step\n",
            "1/1 [==============================] - 0s 15ms/step\n",
            "1/1 [==============================] - 0s 15ms/step\n",
            "here a a a a a a a a a a a a a a a a a a a a\n"
          ]
        }
      ],
      "source": [
        "import numpy as np\n",
        "from tensorflow.keras.models import Sequential\n",
        "from tensorflow.keras.layers import GRU, Dense, Embedding, TimeDistributed\n",
        "\n",
        "# Загрузка датасета\n",
        "dataset = ['this is a sample text', 'here is another example', 'and a third one for good measure']\n",
        "\n",
        "# Создание словаря\n",
        "vocab = set()\n",
        "for text in dataset:\n",
        "    vocab.update(text.split())\n",
        "word2idx = {word: idx for idx, word in enumerate(vocab)}\n",
        "idx2word = {idx: word for word, idx in word2idx.items()}\n",
        "\n",
        "# Преобразование текста в последовательности индексов\n",
        "max_len = max(len(text.split()) for text in dataset)\n",
        "X = np.zeros((len(dataset), max_len))\n",
        "for i, text in enumerate(dataset):\n",
        "    words = text.split()\n",
        "    for j, word in enumerate(words):\n",
        "        X[i, j] = word2idx[word]\n",
        "\n",
        "# Создание массива целевых значений\n",
        "y = np.zeros((len(dataset), max_len, 2))\n",
        "for i, text in enumerate(dataset):\n",
        "    words = text.split()\n",
        "    for j, word in enumerate(words):\n",
        "        if j < max_len:\n",
        "            if 'positive' in text:\n",
        "                y[i, j, 0] = 1\n",
        "            elif 'negative' in text:\n",
        "                y[i, j, 1] = 1\n",
        "\n",
        "# Определение модели\n",
        "model = Sequential()\n",
        "model.add(Embedding(len(vocab), 10, input_length=max_len))\n",
        "model.add(GRU(32, return_sequences=True))\n",
        "model.add(TimeDistributed(Dense(2, activation='softmax')))\n",
        "\n",
        "# Компиляция модели\n",
        "model.compile(loss='categorical_crossentropy', optimizer='adam', metrics=['accuracy'])\n",
        "\n",
        "# Обучение модели\n",
        "model.fit(X, y, epochs=10, batch_size=32)\n",
        "\n",
        "# Генерация нового текста\n",
        "start_idx = np.random.randint(0, len(vocab))\n",
        "start_word = idx2word[start_idx]\n",
        "generated_text = [start_word]\n",
        "for i in range(20):\n",
        "    x = np.zeros((1, max_len))\n",
        "    x[0, 0] = start_idx\n",
        "    preds = model.predict(x)[0]\n",
        "    next_idx = np.argmax(preds[0])\n",
        "    next_word = idx2word[next_idx]\n",
        "    generated_text.append(next_word)\n",
        "    start_idx = next_idx\n",
        "print(' '.join(generated_text))"
      ]
    }
  ]
}