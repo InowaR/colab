{
  "nbformat": 4,
  "nbformat_minor": 0,
  "metadata": {
    "colab": {
      "provenance": [],
      "authorship_tag": "ABX9TyMiq8aKCyvHv1LgOuMK8knT",
      "include_colab_link": true
    },
    "kernelspec": {
      "name": "python3",
      "display_name": "Python 3"
    },
    "language_info": {
      "name": "python"
    }
  },
  "cells": [
    {
      "cell_type": "markdown",
      "metadata": {
        "id": "view-in-github",
        "colab_type": "text"
      },
      "source": [
        "<a href=\"https://colab.research.google.com/github/InowaR/colab/blob/main/chat.ipynb\" target=\"_parent\"><img src=\"https://colab.research.google.com/assets/colab-badge.svg\" alt=\"Open In Colab\"/></a>"
      ]
    },
    {
      "cell_type": "code",
      "execution_count": 60,
      "metadata": {
        "colab": {
          "base_uri": "https://localhost:8080/"
        },
        "id": "uRTRcx2Jdffs",
        "outputId": "a4a7f55d-093d-4a9c-8b46-5a455dc65188"
      },
      "outputs": [
        {
          "output_type": "stream",
          "name": "stdout",
          "text": [
            "Список пользователей чата:\n",
            "Введите имя пользователя:\n",
            "Иван\n",
            "Список пользователей чата:\n",
            "1, Иван\n"
          ]
        }
      ],
      "source": [
        "from datetime import datetime\n",
        "import random\n",
        "\n",
        "class User:\n",
        "  def __init__(self, id, name):\n",
        "    self.id = id\n",
        "    self.name = name\n",
        "    self.message_id = 0\n",
        "    self.list_messages = {}\n",
        "\n",
        "  def __str__(self):\n",
        "    return f'{self.id}, {self.name}'\n",
        "\n",
        "  @property\n",
        "  def user_id(self) -> int:\n",
        "    return self.id\n",
        "\n",
        "  @user_id.setter\n",
        "  def user_id(self, id):\n",
        "    self.id = id\n",
        "\n",
        "  @property\n",
        "  def user_name(self) -> str:\n",
        "    return self.name\n",
        "\n",
        "  @user_name.setter\n",
        "  def user_name(self, name: str):\n",
        "    self.name = name\n",
        "\n",
        "  @property\n",
        "  def user_message(self) -> dict:\n",
        "    return self.message\n",
        "\n",
        "  @user_message.setter\n",
        "  def user_message(self, message: str):\n",
        "    self.list_messages[self.message_id] = message\n",
        "    self.message_id += 1\n",
        "\n",
        "\n",
        "class ListUsers:\n",
        "  def __init__(self):\n",
        "    self.list_users = []\n",
        "\n",
        "  def print_users(self):\n",
        "    print('Список пользователей чата:')\n",
        "    for user in self.list_users:\n",
        "      print(user)\n",
        "\n",
        "  @property\n",
        "  def user_in_the_list(self, id: int) -> User:\n",
        "    for user in self.list_users:\n",
        "      if user.id == id:\n",
        "        return user\n",
        "\n",
        "  @user_in_the_list.setter\n",
        "  def user_in_list(self, user: User):\n",
        "    self.list_users.append(user)\n",
        "\n",
        "\n",
        "\n",
        "class Chat:\n",
        "  def __init__(self, user1: User, user2: User):\n",
        "    self.user1 = user1\n",
        "    self.user2 = user2\n",
        "\n",
        "  def show_chat(self) -> tuple:\n",
        "    return ((self.user1.id, self.user1.name, self.user1.messages, datetime.now()), (self.user2.id, self.user2.name, self.user2.messages, datetime.now()))\n",
        "\n",
        "  def user1_send_message(self, message: str):\n",
        "    self.user1.message(message)\n",
        "\n",
        "  def user2_send_message(self, message: str):\n",
        "    self.user2.message(message)\n",
        "\n",
        "\n",
        "list_users = ListUsers()\n",
        "\n",
        "class Registration:\n",
        "  def __init__(self):\n",
        "    self.id = random.randint(0, 10)\n",
        "    self.name = input(\"Введите имя пользователя:\\n\")\n",
        "    self.user = User(self.id, self.name)\n",
        "\n",
        "  def add_user(self):\n",
        "    list_users.user_in_the_list = self.user\n",
        "\n",
        "list_users.print_users()\n",
        "registration = Registration()\n",
        "registration.add_user()\n",
        "list_users.print_users()"
      ]
    }
  ]
}