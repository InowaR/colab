{
  "nbformat": 4,
  "nbformat_minor": 0,
  "metadata": {
    "colab": {
      "provenance": [],
      "authorship_tag": "ABX9TyNT481YJuI+Myq9U07z3XBU",
      "include_colab_link": true
    },
    "kernelspec": {
      "name": "python3",
      "display_name": "Python 3"
    },
    "language_info": {
      "name": "python"
    }
  },
  "cells": [
    {
      "cell_type": "markdown",
      "metadata": {
        "id": "view-in-github",
        "colab_type": "text"
      },
      "source": [
        "<a href=\"https://colab.research.google.com/github/InowaR/colab/blob/main/adam.ipynb\" target=\"_parent\"><img src=\"https://colab.research.google.com/assets/colab-badge.svg\" alt=\"Open In Colab\"/></a>"
      ]
    },
    {
      "cell_type": "code",
      "execution_count": 17,
      "metadata": {
        "colab": {
          "base_uri": "https://localhost:8080/"
        },
        "id": "8_0LPtQgh57P",
        "outputId": "214bda74-3cb4-4899-832b-6e389350b02d"
      },
      "outputs": [
        {
          "output_type": "stream",
          "name": "stdout",
          "text": [
            "Обученные веса: [1.5706978  1.76152451 1.81954074]\n",
            "Предсказания: [12.83074765 21.71379129]\n",
            "Истинные значения: 12.6 22.6\n"
          ]
        }
      ],
      "source": [
        "import numpy as np\n",
        "\n",
        "X = np.array([[1, 3, 2], [1, 5, 4]])\n",
        "y = np.array([10, 18])\n",
        "\n",
        "theta = np.zeros(3)\n",
        "lr, beta1, beta2, eps = 0.1, 0.9, 0.999, 1e-8\n",
        "m, v, t = np.zeros(3), np.zeros(3), 0\n",
        "\n",
        "for epoch in range(100):\n",
        "    y_pred = X @ theta\n",
        "    error = y_pred - y\n",
        "    grad = X.T @ error / 2\n",
        "    t += 1\n",
        "    m = beta1 * m + (1 - beta1) * grad\n",
        "    v = beta2 * v + (1 - beta2) * grad**2\n",
        "    m_hat = m / (1 - beta1**t)\n",
        "    v_hat = v / (1 - beta2**t)\n",
        "    theta -= lr * m_hat / (np.sqrt(v_hat) + eps)\n",
        "\n",
        "new_X = np.array([[1, 3.5, 2.8], [1, 7.2, 4.1]])\n",
        "predictions = new_X @ theta\n",
        "\n",
        "print(\"Обученные веса:\", theta)\n",
        "print(\"Предсказания:\", predictions)\n",
        "print(\"Истинные значения:\", 2*(3.5+2.8), 2*(7.2+4.1))"
      ]
    }
  ]
}