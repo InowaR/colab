{
  "nbformat": 4,
  "nbformat_minor": 0,
  "metadata": {
    "colab": {
      "provenance": [],
      "authorship_tag": "ABX9TyNZqzoZ3ItcgOXEzcBWaICG",
      "include_colab_link": true
    },
    "kernelspec": {
      "name": "python3",
      "display_name": "Python 3"
    },
    "language_info": {
      "name": "python"
    }
  },
  "cells": [
    {
      "cell_type": "markdown",
      "metadata": {
        "id": "view-in-github",
        "colab_type": "text"
      },
      "source": [
        "<a href=\"https://colab.research.google.com/github/InowaR/colab/blob/main/merge_sort.ipynb\" target=\"_parent\"><img src=\"https://colab.research.google.com/assets/colab-badge.svg\" alt=\"Open In Colab\"/></a>"
      ]
    },
    {
      "cell_type": "code",
      "execution_count": 7,
      "metadata": {
        "colab": {
          "base_uri": "https://localhost:8080/"
        },
        "id": "ZZuef-yFd-ge",
        "outputId": "55b5004e-d911-4e74-8494-f49de0ed2149"
      },
      "outputs": [
        {
          "output_type": "stream",
          "name": "stdout",
          "text": [
            "[1, 1, 2, 4, 12, 14, 15, 23, 23, 31, 54, 56, 67, 78]\n"
          ]
        }
      ],
      "source": [
        "def merge_sort(nums):\n",
        "  if len(nums) > 1:\n",
        "    mid = len(nums) // 2\n",
        "    left = nums[:mid]\n",
        "    right = nums[mid:]\n",
        "    merge_sort(left)\n",
        "    merge_sort(right)\n",
        "    i = j = k = 0\n",
        "    while i < len(left) and j < len(right):\n",
        "      if left[i] < right[j]:\n",
        "        nums[k] = left[i]\n",
        "        i += 1\n",
        "      else:\n",
        "        nums[k] = right[j]\n",
        "        j += 1\n",
        "      k += 1\n",
        "    while i < len(left):\n",
        "      nums[k] = left[i]\n",
        "      i += 1\n",
        "      k += 1\n",
        "    while j < len(right):\n",
        "      nums[k] = right[j]\n",
        "      j += 1\n",
        "      k += 1\n",
        "\n",
        "a = [1, 2, 56, 23, 4, 67, 23, 78, 12, 14, 54, 31, 1, 15]\n",
        "merge_sort(a)\n",
        "print(a)"
      ]
    }
  ]
}