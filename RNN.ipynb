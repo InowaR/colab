{
  "nbformat": 4,
  "nbformat_minor": 0,
  "metadata": {
    "colab": {
      "provenance": [],
      "authorship_tag": "ABX9TyN5OtHdZiYZRFDuLE/0UpXf",
      "include_colab_link": true
    },
    "kernelspec": {
      "name": "python3",
      "display_name": "Python 3"
    },
    "language_info": {
      "name": "python"
    }
  },
  "cells": [
    {
      "cell_type": "markdown",
      "metadata": {
        "id": "view-in-github",
        "colab_type": "text"
      },
      "source": [
        "<a href=\"https://colab.research.google.com/github/InowaR/colab/blob/main/RNN.ipynb\" target=\"_parent\"><img src=\"https://colab.research.google.com/assets/colab-badge.svg\" alt=\"Open In Colab\"/></a>"
      ]
    },
    {
      "cell_type": "code",
      "execution_count": 13,
      "metadata": {
        "colab": {
          "base_uri": "https://localhost:8080/"
        },
        "id": "t-4eajbs1AUF",
        "outputId": "113b03ad-4829-4d8c-b261-86715877985c"
      },
      "outputs": [
        {
          "output_type": "stream",
          "name": "stdout",
          "text": [
            "Epoch 1/10\n",
            "32/32 [==============================] - 1s 3ms/step - loss: 1.0756\n",
            "Epoch 2/10\n",
            "32/32 [==============================] - 0s 4ms/step - loss: 1.0234\n",
            "Epoch 3/10\n",
            "32/32 [==============================] - 0s 3ms/step - loss: 1.0184\n",
            "Epoch 4/10\n",
            "32/32 [==============================] - 0s 3ms/step - loss: 1.0134\n",
            "Epoch 5/10\n",
            "32/32 [==============================] - 0s 3ms/step - loss: 1.0122\n",
            "Epoch 6/10\n",
            "32/32 [==============================] - 0s 3ms/step - loss: 1.0169\n",
            "Epoch 7/10\n",
            "32/32 [==============================] - 0s 3ms/step - loss: 1.0084\n",
            "Epoch 8/10\n",
            "32/32 [==============================] - 0s 3ms/step - loss: 1.0056\n",
            "Epoch 9/10\n",
            "32/32 [==============================] - 0s 3ms/step - loss: 1.0061\n",
            "Epoch 10/10\n",
            "32/32 [==============================] - 0s 3ms/step - loss: 1.0071\n",
            "7/7 [==============================] - 0s 2ms/step\n",
            "Mean squared error: 0.9607214867070067\n"
          ]
        }
      ],
      "source": [
        "import numpy as np\n",
        "from keras.models import Sequential\n",
        "from keras.layers import SimpleRNN, Dense\n",
        "from sklearn.metrics import mean_squared_error\n",
        "\n",
        "# Generate some dummy data for training and testing\n",
        "X_train = np.random.randn(1000, 10, 1)\n",
        "# print(X_train)\n",
        "y_train = np.random.randn(1000, 1)\n",
        "# print(y_train)\n",
        "X_test = np.random.randn(200, 10, 1)\n",
        "y_test = np.random.randn(200, 1)\n",
        "\n",
        "# Define the RNN model architecture\n",
        "model = Sequential()\n",
        "model.add(SimpleRNN(units=32, input_shape=(10, 1)))\n",
        "model.add(Dense(units=1))\n",
        "\n",
        "# Compile the model\n",
        "model.compile(loss='mse', optimizer='adam')\n",
        "\n",
        "# Train the model on the training data\n",
        "model.fit(X_train, y_train, epochs=10)\n",
        "\n",
        "# Test the model on the test data\n",
        "y_pred = model.predict(X_test)\n",
        "\n",
        "# Evaluate the model performance\n",
        "mse = mean_squared_error(y_test, y_pred)\n",
        "print(\"Mean squared error:\", mse)"
      ]
    }
  ]
}