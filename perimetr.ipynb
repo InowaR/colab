{
  "nbformat": 4,
  "nbformat_minor": 0,
  "metadata": {
    "colab": {
      "name": "Untitled1.ipynb",
      "provenance": [],
      "collapsed_sections": [],
      "authorship_tag": "ABX9TyNZ6yo15d8V2IStBlQrFGan",
      "include_colab_link": true
    },
    "kernelspec": {
      "name": "python3",
      "display_name": "Python 3"
    },
    "language_info": {
      "name": "python"
    }
  },
  "cells": [
    {
      "cell_type": "markdown",
      "metadata": {
        "id": "view-in-github",
        "colab_type": "text"
      },
      "source": [
        "<a href=\"https://colab.research.google.com/github/InowaR/colab/blob/main/perimetr.ipynb\" target=\"_parent\"><img src=\"https://colab.research.google.com/assets/colab-badge.svg\" alt=\"Open In Colab\"/></a>"
      ]
    },
    {
      "cell_type": "code",
      "metadata": {
        "colab": {
          "base_uri": "https://localhost:8080/"
        },
        "id": "iWwsSdKO68rQ",
        "outputId": "34ffd08f-a08d-45ac-ad26-00f04f538bc1"
      },
      "source": [
        "import numpy as np\n",
        "import pandas as pd\n",
        "a =[1, 0, 0, 1, 0]\n",
        "b =[1, 0, 0, 1, 0]\n",
        "c =[0, 0, 0, 1, 0]\n",
        "d =[1, 1, 0, 1, 0]\n",
        "e =[0, 1, 0, 0, 0]\n",
        "df = pd.DataFrame({'A': a, 'B': b,'C': c,'D': d,'E': e})\n",
        "matrix = df.values\n",
        "matrix"
      ],
      "execution_count": 62,
      "outputs": [
        {
          "output_type": "execute_result",
          "data": {
            "text/plain": [
              "array([[1, 1, 0, 1, 0],\n",
              "       [0, 0, 0, 1, 1],\n",
              "       [0, 0, 0, 0, 0],\n",
              "       [1, 1, 1, 1, 0],\n",
              "       [0, 0, 0, 0, 0]])"
            ]
          },
          "metadata": {
            "tags": []
          },
          "execution_count": 62
        }
      ]
    },
    {
      "cell_type": "code",
      "metadata": {
        "colab": {
          "base_uri": "https://localhost:8080/"
        },
        "id": "ZHZxXglgBafr",
        "outputId": "d5554bf2-ea5c-47b7-bbb1-1f07c711de1e"
      },
      "source": [
        "line = matrix.sum(axis=1)\n",
        "line"
      ],
      "execution_count": 66,
      "outputs": [
        {
          "output_type": "execute_result",
          "data": {
            "text/plain": [
              "array([3, 2, 0, 4, 0])"
            ]
          },
          "metadata": {
            "tags": []
          },
          "execution_count": 66
        }
      ]
    },
    {
      "cell_type": "code",
      "metadata": {
        "colab": {
          "base_uri": "https://localhost:8080/"
        },
        "id": "FzfEAt0SKK3C",
        "outputId": "79237d5a-b6b0-450a-fda7-1bd0eaad9e9e"
      },
      "source": [
        "line.sum()"
      ],
      "execution_count": 67,
      "outputs": [
        {
          "output_type": "execute_result",
          "data": {
            "text/plain": [
              "9"
            ]
          },
          "metadata": {
            "tags": []
          },
          "execution_count": 67
        }
      ]
    }
  ]
}