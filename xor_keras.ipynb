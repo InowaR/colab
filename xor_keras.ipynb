{
  "nbformat": 4,
  "nbformat_minor": 0,
  "metadata": {
    "colab": {
      "provenance": [],
      "authorship_tag": "ABX9TyNZSqI54S8EaEAh3nG7DkPD",
      "include_colab_link": true
    },
    "kernelspec": {
      "name": "python3",
      "display_name": "Python 3"
    },
    "language_info": {
      "name": "python"
    }
  },
  "cells": [
    {
      "cell_type": "markdown",
      "metadata": {
        "id": "view-in-github",
        "colab_type": "text"
      },
      "source": [
        "<a href=\"https://colab.research.google.com/github/InowaR/colab/blob/main/xor_keras.ipynb\" target=\"_parent\"><img src=\"https://colab.research.google.com/assets/colab-badge.svg\" alt=\"Open In Colab\"/></a>"
      ]
    },
    {
      "cell_type": "code",
      "source": [
        "import keras\n",
        "from keras.models import Sequential, load_model\n",
        "from keras.layers import Flatten, Dense\n",
        "\n",
        "x_train = [[0, 0], [0, 1], [1, 0], [1, 1]]\n",
        "y_train = [0, 1, 1, 0]\n",
        "\n",
        "# Создаём модель\n",
        "model = Sequential()\n",
        "model.add(Flatten(input_shape=(2,)))\n",
        "model.add(Dense(128, activation='relu'))\n",
        "model.add(Dense(64, activation='relu'))\n",
        "model.add(Dense(1, activation='sigmoid'))\n",
        "\n",
        "# Компилируем модель\n",
        "model.compile(optimizer='adam', loss='binary_crossentropy', metrics=['accuracy'])\n",
        "\n",
        "# Обучаем модель\n",
        "model.fit(x_train, y_train, epochs=200, verbose=0)\n",
        "\n",
        "# Сохраняем модель\n",
        "model.save('xor_model.keras')"
      ],
      "metadata": {
        "id": "hPOSwJ4wMj3B"
      },
      "execution_count": 171,
      "outputs": []
    },
    {
      "cell_type": "code",
      "source": [
        "# Создаём тестовую выборку\n",
        "x_test = [[0, 0], [0, 1], [1, 0], [1, 1]]\n",
        "y_test = [0, 1, 1, 0]\n",
        "\n",
        "\n",
        "model = load_model('xor_model.keras')\n",
        "\n",
        "# Тестируем модель\n",
        "predictions = model.predict(x_test, verbose=0)\n",
        "print(f'Предсказание y:\\n{predictions}')\n",
        "\n",
        "# Оцениваем точность модели\n",
        "print(f'Точность: {(model.evaluate(x_test, y_test, verbose=0)[1]) * 100} %')"
      ],
      "metadata": {
        "colab": {
          "base_uri": "https://localhost:8080/"
        },
        "id": "bjEt7vQLaAbL",
        "outputId": "0565d5ca-5ecc-443d-ebd2-dbe26acbc678"
      },
      "execution_count": 177,
      "outputs": [
        {
          "output_type": "stream",
          "name": "stdout",
          "text": [
            "Предсказание y:\n",
            "[[0.03292878]\n",
            " [0.9918115 ]\n",
            " [0.9929407 ]\n",
            " [0.00460344]]\n",
            "Точность: 100.0 %\n"
          ]
        }
      ]
    }
  ]
}