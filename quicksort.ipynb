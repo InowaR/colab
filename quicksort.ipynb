{
  "nbformat": 4,
  "nbformat_minor": 0,
  "metadata": {
    "colab": {
      "provenance": [],
      "authorship_tag": "ABX9TyPLfzGDJOPnu2RwCcCWVwrA",
      "include_colab_link": true
    },
    "kernelspec": {
      "name": "python3",
      "display_name": "Python 3"
    },
    "language_info": {
      "name": "python"
    }
  },
  "cells": [
    {
      "cell_type": "markdown",
      "metadata": {
        "id": "view-in-github",
        "colab_type": "text"
      },
      "source": [
        "<a href=\"https://colab.research.google.com/github/InowaR/colab/blob/main/quicksort.ipynb\" target=\"_parent\"><img src=\"https://colab.research.google.com/assets/colab-badge.svg\" alt=\"Open In Colab\"/></a>"
      ]
    },
    {
      "cell_type": "code",
      "execution_count": 14,
      "metadata": {
        "colab": {
          "base_uri": "https://localhost:8080/"
        },
        "id": "ZZuef-yFd-ge",
        "outputId": "7c7bcdc1-f26e-4ac0-bd43-ac6a30e812b8"
      },
      "outputs": [
        {
          "output_type": "stream",
          "name": "stdout",
          "text": [
            "[1, 2, 3, 4, 5, 6, 7, 8, 9]\n"
          ]
        }
      ],
      "source": [
        "def quicksort(array):\n",
        "  if len(array) < 2:\n",
        "    return array\n",
        "  else:\n",
        "    element = array[0]\n",
        "    less = [i for i in array[1:] if i <= element]\n",
        "    greater = [i for i in array[1:] if i > element]\n",
        "  return quicksort(less) + [element] + quicksort(greater)\n",
        "print(quicksort([6, 8, 4, 1, 9, 5, 7, 2, 3]))"
      ]
    }
  ]
}