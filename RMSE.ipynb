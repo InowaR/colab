{
  "nbformat": 4,
  "nbformat_minor": 0,
  "metadata": {
    "colab": {
      "provenance": [],
      "authorship_tag": "ABX9TyOouZTICYp9Ab9/VWqcpq02",
      "include_colab_link": true
    },
    "kernelspec": {
      "name": "python3",
      "display_name": "Python 3"
    },
    "language_info": {
      "name": "python"
    }
  },
  "cells": [
    {
      "cell_type": "markdown",
      "metadata": {
        "id": "view-in-github",
        "colab_type": "text"
      },
      "source": [
        "<a href=\"https://colab.research.google.com/github/InowaR/colab/blob/main/RMSE.ipynb\" target=\"_parent\"><img src=\"https://colab.research.google.com/assets/colab-badge.svg\" alt=\"Open In Colab\"/></a>"
      ]
    },
    {
      "cell_type": "code",
      "execution_count": 22,
      "metadata": {
        "colab": {
          "base_uri": "https://localhost:8080/"
        },
        "id": "daVCBNtJRCqO",
        "outputId": "a01ba3bd-5899-4f30-cf81-2e0349f2b6a6"
      },
      "outputs": [
        {
          "output_type": "stream",
          "name": "stdout",
          "text": [
            "0.05773502691896263\n"
          ]
        }
      ],
      "source": [
        "import numpy as np\n",
        "\n",
        "def root_mean_squared_error(act, pred):\n",
        "   differences_squared = (pred - act) ** 2\n",
        "   print(np.sqrt(differences_squared.mean()))\n",
        "\n",
        "act = np.array([1, 2, 3])\n",
        "pred = np.array([1.1, 2, 3])\n",
        "\n",
        "root_mean_squared_error(act, pred)"
      ]
    }
  ]
}