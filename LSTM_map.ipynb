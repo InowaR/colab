{
  "nbformat": 4,
  "nbformat_minor": 0,
  "metadata": {
    "colab": {
      "provenance": [],
      "authorship_tag": "ABX9TyM9/JonRdfv6dsqKTNWed7R",
      "include_colab_link": true
    },
    "kernelspec": {
      "name": "python3",
      "display_name": "Python 3"
    },
    "language_info": {
      "name": "python"
    }
  },
  "cells": [
    {
      "cell_type": "markdown",
      "metadata": {
        "id": "view-in-github",
        "colab_type": "text"
      },
      "source": [
        "<a href=\"https://colab.research.google.com/github/InowaR/colab/blob/main/LSTM_map.ipynb\" target=\"_parent\"><img src=\"https://colab.research.google.com/assets/colab-badge.svg\" alt=\"Open In Colab\"/></a>"
      ]
    },
    {
      "cell_type": "code",
      "execution_count": 10,
      "metadata": {
        "colab": {
          "base_uri": "https://localhost:8080/"
        },
        "id": "GU2hiDhWjZxq",
        "outputId": "6df13905-6c36-42ad-d7f3-7953c068752c"
      },
      "outputs": [
        {
          "output_type": "stream",
          "name": "stdout",
          "text": [
            "Первая карта:\n",
            "[0, 0, 0, 0, 0, 0, 0]\n",
            "[0, 0, 0, 0, 0, 0, 0]\n",
            "[0, 0, 0, 0, 0, 0, 0]\n",
            "[0, 0, 0, 2, 0, 0, 0]\n",
            "[0, 0, 0, 0, 0, 0, 0]\n",
            "[0, 0, 0, 0, 0, 0, 1]\n",
            "[0, 0, 0, 0, 0, 0, 0]\n",
            "Путь к цели: [[0, 0, 0, 1], [0, 0, 1, 0], [0, 0, 0, 1], [0, 0, 1, 0], [0, 0, 1, 0]]\n"
          ]
        }
      ],
      "source": [
        "import random\n",
        "\n",
        "def generate_map():\n",
        "    # Создаем пустую карту 7x7\n",
        "    game_map = [[0 for _ in range(7)] for _ in range(7)]\n",
        "\n",
        "    # Помещаем 2 в центр карты\n",
        "    game_map[3][3] = 2\n",
        "\n",
        "    # Генерируем случайные координаты для 1, исключая центр\n",
        "    while True:\n",
        "        x, y = random.randint(0, 6), random.randint(0, 6)\n",
        "        if (x, y) != (3, 3):\n",
        "            game_map[x][y] = 1\n",
        "            break\n",
        "\n",
        "    return game_map, (x, y)\n",
        "\n",
        "def find_path(start, goal):\n",
        "    path = []\n",
        "    x, y = start\n",
        "    gx, gy = goal\n",
        "\n",
        "    # Двигаемся к цели\n",
        "    while (x, y) != (gx, gy):\n",
        "        if x < gx:\n",
        "            path.append([0, 0, 0, 1])  # Движение вниз\n",
        "            x += 1\n",
        "        elif x > gx:\n",
        "            path.append([1, 0, 0, 0])  # Движение вверх\n",
        "            x -= 1\n",
        "\n",
        "        if y < gy:\n",
        "            path.append([0, 0, 1, 0])  # Движение вправо\n",
        "            y += 1\n",
        "        elif y > gy:\n",
        "            path.append([0, 1, 0, 0])  # Движение влево\n",
        "            y -= 1\n",
        "\n",
        "    return path\n",
        "\n",
        "maps = []\n",
        "paths = []\n",
        "\n",
        "for _ in range(100):\n",
        "    game_map, goal = generate_map()\n",
        "    path = find_path((3, 3), goal)\n",
        "\n",
        "    maps.append(game_map)\n",
        "    paths.append(path)\n",
        "\n",
        "# Пример вывода первой карты и пути\n",
        "print(\"Первая карта:\")\n",
        "for row in maps[0]:\n",
        "    print(row)\n",
        "print(\"Путь к цели:\", paths[0])"
      ]
    }
  ]
}