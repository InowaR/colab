{
  "nbformat": 4,
  "nbformat_minor": 0,
  "metadata": {
    "colab": {
      "provenance": [],
      "authorship_tag": "ABX9TyM4NV+JGUtLv+fN+VbWY5UV",
      "include_colab_link": true
    },
    "kernelspec": {
      "name": "python3",
      "display_name": "Python 3"
    },
    "language_info": {
      "name": "python"
    }
  },
  "cells": [
    {
      "cell_type": "markdown",
      "metadata": {
        "id": "view-in-github",
        "colab_type": "text"
      },
      "source": [
        "<a href=\"https://colab.research.google.com/github/InowaR/colab/blob/main/diagonal.ipynb\" target=\"_parent\"><img src=\"https://colab.research.google.com/assets/colab-badge.svg\" alt=\"Open In Colab\"/></a>"
      ]
    },
    {
      "cell_type": "code",
      "execution_count": 186,
      "metadata": {
        "colab": {
          "base_uri": "https://localhost:8080/"
        },
        "id": "wI8acG2ZWvNe",
        "outputId": "7381f183-6cc0-41fe-96ed-7e2c938357d8"
      },
      "outputs": [
        {
          "output_type": "stream",
          "name": "stdout",
          "text": [
            "0\t1\t1\t1\t1\t\n",
            "\n",
            "1\t4\t1\t1\t1\t\n",
            "\n",
            "1\t1\t12\t1\t1\t\n",
            "\n",
            "1\t1\t1\t20\t1\t\n",
            "\n",
            "1\t1\t1\t1\t24\t\n",
            "\n"
          ]
        }
      ],
      "source": [
        "N = 5\n",
        "num = 0\n",
        "  \n",
        "Matrix = [[0,0,0,0,0],[0,0,0,0,0],[0,0,0,0,0],[0,0,0,0,0],[0,0,0,0,0]] \n",
        "  \n",
        "Matrix[0][0] = num\n",
        "num += 4\n",
        "Matrix[1][1] = num\n",
        "num += 8\n",
        "Matrix[2][2] = num\n",
        "num += 8\n",
        "Matrix[3][3] = num\n",
        "num += 4\n",
        "Matrix[4][4] = num\n",
        "\n",
        "\n",
        "for i in range(0, N): \n",
        "  for j in range(0, i): \n",
        "    Matrix[i][j] = 1\n",
        "    num += 1\n",
        " \n",
        "for i in range(0, N): \n",
        "  for j in range(i + 1, N): \n",
        "    Matrix[i][j] = 1\n",
        "    num += 1\n",
        "  \n",
        "i = 0\n",
        "while i < N:\n",
        "  j = 0\n",
        "  while j < N:\n",
        "    print(Matrix[i][j], end='\\t')\n",
        "    j+=1\n",
        "  print('\\n')\n",
        "  i+=1"
      ]
    }
  ]
}