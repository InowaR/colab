{
  "nbformat": 4,
  "nbformat_minor": 0,
  "metadata": {
    "colab": {
      "provenance": [],
      "authorship_tag": "ABX9TyOL6uvdITaaVbyRFoS+jTC5",
      "include_colab_link": true
    },
    "kernelspec": {
      "name": "python3",
      "display_name": "Python 3"
    },
    "language_info": {
      "name": "python"
    }
  },
  "cells": [
    {
      "cell_type": "markdown",
      "metadata": {
        "id": "view-in-github",
        "colab_type": "text"
      },
      "source": [
        "<a href=\"https://colab.research.google.com/github/InowaR/colab/blob/main/emlearn.ipynb\" target=\"_parent\"><img src=\"https://colab.research.google.com/assets/colab-badge.svg\" alt=\"Open In Colab\"/></a>"
      ]
    },
    {
      "cell_type": "code",
      "source": [
        "!pip install emlearn"
      ],
      "metadata": {
        "colab": {
          "base_uri": "https://localhost:8080/"
        },
        "id": "89jRjVDvDhH7",
        "outputId": "ef905d19-fcfe-43b7-f333-bee2e509b6f1"
      },
      "execution_count": 1,
      "outputs": [
        {
          "output_type": "stream",
          "name": "stdout",
          "text": [
            "Collecting emlearn\n",
            "  Downloading emlearn-0.21.0.tar.gz (85 kB)\n",
            "\u001b[?25l     \u001b[90m━━━━━━━━━━━━━━━━━━━━━━━━━━━━━━━━━━━━━━━━\u001b[0m \u001b[32m0.0/85.8 kB\u001b[0m \u001b[31m?\u001b[0m eta \u001b[36m-:--:--\u001b[0m\r\u001b[2K     \u001b[90m━━━━━━━━━━━━━━━━━━━━━━━━━━━━━━━━━━━━━━━━\u001b[0m \u001b[32m85.8/85.8 kB\u001b[0m \u001b[31m4.2 MB/s\u001b[0m eta \u001b[36m0:00:00\u001b[0m\n",
            "\u001b[?25h  Preparing metadata (setup.py) ... \u001b[?25l\u001b[?25hdone\n",
            "Collecting pybind11>=2.2 (from emlearn)\n",
            "  Using cached pybind11-2.13.6-py3-none-any.whl.metadata (9.5 kB)\n",
            "Requirement already satisfied: numpy>=1.14.0 in /usr/local/lib/python3.10/dist-packages (from emlearn) (1.26.4)\n",
            "Requirement already satisfied: jinja2>=2.0.0 in /usr/local/lib/python3.10/dist-packages (from emlearn) (3.1.4)\n",
            "Requirement already satisfied: MarkupSafe>=2.0 in /usr/local/lib/python3.10/dist-packages (from jinja2>=2.0.0->emlearn) (3.0.2)\n",
            "Using cached pybind11-2.13.6-py3-none-any.whl (243 kB)\n",
            "Building wheels for collected packages: emlearn\n",
            "  Building wheel for emlearn (setup.py) ... \u001b[?25l\u001b[?25hdone\n",
            "  Created wheel for emlearn: filename=emlearn-0.21.0-cp310-cp310-linux_x86_64.whl size=1739992 sha256=9813df539cb6e1dc089e9cb344f256810834a09c1da7e873378ca9caa0c31b88\n",
            "  Stored in directory: /root/.cache/pip/wheels/7d/8e/2d/799f7f5562613e2af46520458a5e232bd6b4e4777e79e13987\n",
            "Successfully built emlearn\n",
            "Installing collected packages: pybind11, emlearn\n",
            "Successfully installed emlearn-0.21.0 pybind11-2.13.6\n"
          ]
        }
      ]
    },
    {
      "cell_type": "code",
      "source": [
        "import numpy as np\n",
        "import random\n",
        "\n",
        "max_path_length = 9\n",
        "center = (4, 4)\n",
        "number_of_maps = 10\n",
        "\n",
        "def generate_map():\n",
        "    game_map = [[0 for _ in range(max_path_length)] for _ in range(max_path_length)]\n",
        "    # game_map[center[0]][center[1]] = 2\n",
        "    while True:\n",
        "        x, y = random.randint(0, max_path_length-1), random.randint(0, max_path_length-1)\n",
        "        if (x, y) != center:\n",
        "            game_map[x][y] = 1\n",
        "            break\n",
        "    return game_map, (x, y)\n",
        "\n",
        "def find_path(start, goal):\n",
        "    path = []\n",
        "    x, y = start\n",
        "    gx, gy = goal\n",
        "\n",
        "    while (x, y) != (gx, gy):\n",
        "        if x < gx:\n",
        "            path.append([1, 0, 0, 0, 0])\n",
        "            x += 1\n",
        "        elif x > gx:\n",
        "            path.append([0, 1, 0, 0, 0])\n",
        "            x -= 1\n",
        "\n",
        "        if y < gy:\n",
        "            path.append([0, 0, 1, 0, 0])\n",
        "            y += 1\n",
        "        elif y > gy:\n",
        "            path.append([0, 0, 0, 1, 0])\n",
        "            y -= 1\n",
        "\n",
        "    return path\n",
        "\n",
        "maps = []\n",
        "paths = []\n",
        "\n",
        "for _ in range(number_of_maps):\n",
        "    game_map, goal = generate_map()\n",
        "    maps.append(game_map)\n",
        "    path = find_path(center, goal)\n",
        "    paths.append(path)\n",
        "\n",
        "for i in range(len(paths)):\n",
        "    while len(paths[i]) < max_path_length:\n",
        "        paths[i].append([0, 0, 0, 0, 1])\n",
        "\n",
        "\n",
        "X = np.array(maps)\n",
        "X = X.reshape(number_of_maps, max_path_length * max_path_length)\n",
        "y = np.array(paths)\n",
        "y = y.reshape(number_of_maps, max_path_length * 5)\n",
        "\n",
        "print(X.shape)\n",
        "print(y.shape)\n",
        "print(X)\n",
        "print(y)"
      ],
      "metadata": {
        "colab": {
          "base_uri": "https://localhost:8080/"
        },
        "id": "VsNsXmfjDy1q",
        "outputId": "85195d6d-9557-4111-fb9d-7e75b29d7727"
      },
      "execution_count": 259,
      "outputs": [
        {
          "output_type": "stream",
          "name": "stdout",
          "text": [
            "(10, 81)\n",
            "(10, 45)\n",
            "[[0 0 0 0 0 0 0 0 0 0 0 0 0 0 0 0 0 0 0 0 0 0 0 0 0 1 0 0 0 0 0 0 0 0 0 0\n",
            "  0 0 0 0 0 0 0 0 0 0 0 0 0 0 0 0 0 0 0 0 0 0 0 0 0 0 0 0 0 0 0 0 0 0 0 0\n",
            "  0 0 0 0 0 0 0 0 0]\n",
            " [0 0 0 0 0 0 0 0 0 0 0 0 0 0 1 0 0 0 0 0 0 0 0 0 0 0 0 0 0 0 0 0 0 0 0 0\n",
            "  0 0 0 0 0 0 0 0 0 0 0 0 0 0 0 0 0 0 0 0 0 0 0 0 0 0 0 0 0 0 0 0 0 0 0 0\n",
            "  0 0 0 0 0 0 0 0 0]\n",
            " [0 0 0 0 0 1 0 0 0 0 0 0 0 0 0 0 0 0 0 0 0 0 0 0 0 0 0 0 0 0 0 0 0 0 0 0\n",
            "  0 0 0 0 0 0 0 0 0 0 0 0 0 0 0 0 0 0 0 0 0 0 0 0 0 0 0 0 0 0 0 0 0 0 0 0\n",
            "  0 0 0 0 0 0 0 0 0]\n",
            " [0 0 0 0 0 0 0 0 0 0 0 0 0 0 1 0 0 0 0 0 0 0 0 0 0 0 0 0 0 0 0 0 0 0 0 0\n",
            "  0 0 0 0 0 0 0 0 0 0 0 0 0 0 0 0 0 0 0 0 0 0 0 0 0 0 0 0 0 0 0 0 0 0 0 0\n",
            "  0 0 0 0 0 0 0 0 0]\n",
            " [0 0 0 0 0 0 0 0 0 0 0 0 0 0 0 0 0 0 0 0 0 0 0 0 0 0 0 0 0 0 0 0 0 0 0 0\n",
            "  0 0 0 0 0 0 0 0 0 0 0 0 0 0 0 0 0 0 0 0 0 0 0 0 0 0 0 0 0 0 0 0 0 1 0 0\n",
            "  0 0 0 0 0 0 0 0 0]\n",
            " [0 0 0 0 0 0 0 0 0 0 0 0 0 0 0 0 0 0 0 0 0 0 0 0 0 0 0 0 0 0 0 0 0 0 0 0\n",
            "  0 0 0 0 0 0 0 0 0 0 0 0 0 0 0 0 0 0 0 0 0 0 0 0 0 0 0 0 1 0 0 0 0 0 0 0\n",
            "  0 0 0 0 0 0 0 0 0]\n",
            " [0 0 0 0 0 0 0 0 0 0 0 0 0 0 0 0 0 0 0 0 0 0 0 0 0 0 0 0 0 0 0 0 1 0 0 0\n",
            "  0 0 0 0 0 0 0 0 0 0 0 0 0 0 0 0 0 0 0 0 0 0 0 0 0 0 0 0 0 0 0 0 0 0 0 0\n",
            "  0 0 0 0 0 0 0 0 0]\n",
            " [0 0 0 0 0 0 0 0 0 0 0 0 0 0 0 0 0 0 0 0 1 0 0 0 0 0 0 0 0 0 0 0 0 0 0 0\n",
            "  0 0 0 0 0 0 0 0 0 0 0 0 0 0 0 0 0 0 0 0 0 0 0 0 0 0 0 0 0 0 0 0 0 0 0 0\n",
            "  0 0 0 0 0 0 0 0 0]\n",
            " [0 0 0 0 0 0 0 0 0 0 0 0 0 0 0 1 0 0 0 0 0 0 0 0 0 0 0 0 0 0 0 0 0 0 0 0\n",
            "  0 0 0 0 0 0 0 0 0 0 0 0 0 0 0 0 0 0 0 0 0 0 0 0 0 0 0 0 0 0 0 0 0 0 0 0\n",
            "  0 0 0 0 0 0 0 0 0]\n",
            " [0 0 0 0 0 0 0 0 0 0 0 0 0 0 0 0 0 0 0 0 0 0 0 0 0 1 0 0 0 0 0 0 0 0 0 0\n",
            "  0 0 0 0 0 0 0 0 0 0 0 0 0 0 0 0 0 0 0 0 0 0 0 0 0 0 0 0 0 0 0 0 0 0 0 0\n",
            "  0 0 0 0 0 0 0 0 0]]\n",
            "[[0 1 0 0 0 0 0 1 0 0 0 1 0 0 0 0 0 1 0 0 0 0 1 0 0 0 0 0 0 1 0 0 0 0 1 0\n",
            "  0 0 0 1 0 0 0 0 1]\n",
            " [0 1 0 0 0 0 0 1 0 0 0 1 0 0 0 0 1 0 0 0 0 0 0 0 1 0 0 0 0 1 0 0 0 0 1 0\n",
            "  0 0 0 1 0 0 0 0 1]\n",
            " [0 1 0 0 0 0 0 1 0 0 0 1 0 0 0 0 1 0 0 0 0 1 0 0 0 0 0 0 0 1 0 0 0 0 1 0\n",
            "  0 0 0 1 0 0 0 0 1]\n",
            " [0 1 0 0 0 0 0 1 0 0 0 1 0 0 0 0 1 0 0 0 0 0 0 0 1 0 0 0 0 1 0 0 0 0 1 0\n",
            "  0 0 0 1 0 0 0 0 1]\n",
            " [1 0 0 0 0 0 0 1 0 0 1 0 0 0 0 0 0 1 0 0 1 0 0 0 0 0 0 0 0 1 0 0 0 0 1 0\n",
            "  0 0 0 1 0 0 0 0 1]\n",
            " [1 0 0 0 0 0 0 0 1 0 1 0 0 0 0 0 0 0 1 0 1 0 0 0 0 0 0 0 1 0 0 0 0 0 1 0\n",
            "  0 0 0 1 0 0 0 0 1]\n",
            " [0 1 0 0 0 0 0 1 0 0 0 0 0 0 1 0 0 0 0 1 0 0 0 0 1 0 0 0 0 1 0 0 0 0 1 0\n",
            "  0 0 0 1 0 0 0 0 1]\n",
            " [0 1 0 0 0 0 0 0 1 0 0 1 0 0 0 0 0 0 1 0 0 0 0 0 1 0 0 0 0 1 0 0 0 0 1 0\n",
            "  0 0 0 1 0 0 0 0 1]\n",
            " [0 1 0 0 0 0 0 1 0 0 0 1 0 0 0 0 0 1 0 0 0 1 0 0 0 0 0 0 0 1 0 0 0 0 1 0\n",
            "  0 0 0 1 0 0 0 0 1]\n",
            " [0 1 0 0 0 0 0 1 0 0 0 1 0 0 0 0 0 1 0 0 0 0 1 0 0 0 0 0 0 1 0 0 0 0 1 0\n",
            "  0 0 0 1 0 0 0 0 1]]\n"
          ]
        }
      ]
    },
    {
      "cell_type": "code",
      "source": [
        "import numpy as np\n",
        "\n",
        "def convert(list_numbers):\n",
        "  return [int(''.join(map(str,row)), 2) for row in list_numbers]\n",
        "\n",
        "\n",
        "y = np.array(convert(y))\n",
        "print(y)"
      ],
      "metadata": {
        "colab": {
          "base_uri": "https://localhost:8080/"
        },
        "id": "pGThNoMSGkfK",
        "outputId": "d67409aa-346a-473c-ddec-4fe3b27fd2c4"
      },
      "execution_count": 260,
      "outputs": [
        {
          "output_type": "stream",
          "name": "stdout",
          "text": [
            "[ 8942260356129  8942391428129  8942398768161  8942391428129\n",
            " 17746955895841 17678169343009  8934640354337  8873470624801\n",
            "  8942264550433  8942260356129]\n"
          ]
        }
      ]
    },
    {
      "cell_type": "code",
      "execution_count": 261,
      "metadata": {
        "colab": {
          "base_uri": "https://localhost:8080/"
        },
        "id": "WXYtad36Cdrf",
        "outputId": "86015a25-f836-408e-d579-dbfc1e72aa8b"
      },
      "outputs": [
        {
          "output_type": "stream",
          "name": "stdout",
          "text": [
            "Точность: 1.0\n",
            "Wrote model to xor_model.csv\n"
          ]
        }
      ],
      "source": [
        "# python/host code\n",
        "\n",
        "import emlearn\n",
        "import numpy\n",
        "from sklearn.ensemble import RandomForestClassifier\n",
        "from sklearn.metrics import accuracy_score, classification_report, confusion_matrix\n",
        "\n",
        "\n",
        "# X = numpy.array([[37454012, 95071431, 95071431, 37454012, 95071431, 95071431],\n",
        "#                  [73199394, 59865848, 95071431, 37454012, 95071431, 95071431],\n",
        "#                  [15601864, 15599452, 95071431, 37454012, 95071431, 95071431],\n",
        "#                  [58084361, 86617615, 95071431, 37454012, 95071431, 95071431],\n",
        "#                  [60111501, 70807258, 95071431, 37454012, 95071431, 95071431],\n",
        "#                  [20584449, 96990985, 95071431, 37454012, 95071431, 95071431],\n",
        "#                  [83244264, 21233911, 95071431, 37454012, 95071431, 95071431],\n",
        "#                  [18182497, 18340451, 95071431, 37454012, 95071431, 95071431],\n",
        "#                  [30424224, 52475643, 95071431, 37454012, 95071431, 95071431],\n",
        "#                  [43194502, 29122914, 95071431, 37454012, 95071431, 95071431]])\n",
        "\n",
        "# y = numpy.array([1234567890123456789, 45, 1, 1234567890123456789, 2, 1010101010101010101, 1, 1, 1, 1])\n",
        "\n",
        "\n",
        "\n",
        "\n",
        "model = RandomForestClassifier(n_estimators=10, max_depth=3, max_features=4, random_state=1)\n",
        "model.fit(X, y)\n",
        "\n",
        "y_pred = model.predict(X)\n",
        "\n",
        "accuracy = accuracy_score(y, y_pred)\n",
        "\n",
        "print(f\"Точность: {accuracy}\")\n",
        "\n",
        "\n",
        "# Convert model using emlearn\n",
        "cmodel = emlearn.convert(model, method='inline')\n",
        "\n",
        "# Save as loadable .csv file\n",
        "path = 'xor_model.csv'\n",
        "cmodel.save(file=path, name='xor', format='csv')\n",
        "print('Wrote model to', path)"
      ]
    }
  ]
}