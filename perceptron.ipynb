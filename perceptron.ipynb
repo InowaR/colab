{
  "nbformat": 4,
  "nbformat_minor": 0,
  "metadata": {
    "colab": {
      "provenance": [],
      "authorship_tag": "ABX9TyPXCbtJCWnaKv9KS/57Xtl9",
      "include_colab_link": true
    },
    "kernelspec": {
      "name": "python3",
      "display_name": "Python 3"
    },
    "language_info": {
      "name": "python"
    }
  },
  "cells": [
    {
      "cell_type": "markdown",
      "metadata": {
        "id": "view-in-github",
        "colab_type": "text"
      },
      "source": [
        "<a href=\"https://colab.research.google.com/github/InowaR/colab/blob/main/perceptron.ipynb\" target=\"_parent\"><img src=\"https://colab.research.google.com/assets/colab-badge.svg\" alt=\"Open In Colab\"/></a>"
      ]
    },
    {
      "cell_type": "code",
      "execution_count": 295,
      "metadata": {
        "colab": {
          "base_uri": "https://localhost:8080/"
        },
        "id": "pbrNvEuw09W6",
        "outputId": "831dc580-e571-415b-ea08-f9f0463af083"
      },
      "outputs": [
        {
          "output_type": "stream",
          "name": "stdout",
          "text": [
            "[[0.99730936]]\n"
          ]
        }
      ],
      "source": [
        "import numpy as np\n",
        "\n",
        "def train(X, Y):\n",
        "  w1 = np.random.random((3,4))\n",
        "  w2 = np.random.random((4,1))\n",
        "  for j in range(60000):\n",
        "    S1 = 1 / (1 + np.exp(-(np.dot(X, w1))))\n",
        "    S2 = 1 / (1 + np.exp(-(np.dot(S1, w2))))\n",
        "    S2_delta = (Y - S2) * (S2 * (1 - S2))\n",
        "    S1_delta = S2_delta.dot(w2.T) * (S1 * (1 - S1))\n",
        "    w1 += X.T.dot(S1_delta)\n",
        "    w2 += S1.T.dot(S2_delta)\n",
        "  return w1, w2\n",
        "\n",
        "def predict(test, w1, w2):\n",
        "  S1 = 1 / (1 + np.exp(-(np.dot(test, w1))))\n",
        "  S2 = 1 / (1 + np.exp(-(np.dot(S1, w2))))\n",
        "  return S2\n",
        "\n",
        "def main():\n",
        "  a = train(X, Y)\n",
        "  w1, w2 = a\n",
        "  b = predict(test, w1, w2)\n",
        "  print(b)\n",
        "\n",
        "if __name__ == \"__main__\":\n",
        "  X = np.array([[0,0,0], [0,1,1], [1,1,0], [1,1,1]])\n",
        "  Y = np.array([[0, 1, 0, 1]]).T\n",
        "  test = np.array([[0,1,1]])\n",
        "  main()"
      ]
    }
  ]
}