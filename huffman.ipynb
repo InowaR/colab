{
  "nbformat": 4,
  "nbformat_minor": 0,
  "metadata": {
    "colab": {
      "provenance": [],
      "authorship_tag": "ABX9TyOfObH/gXZ1Xp+2SIZf6xds",
      "include_colab_link": true
    },
    "kernelspec": {
      "name": "python3",
      "display_name": "Python 3"
    },
    "language_info": {
      "name": "python"
    }
  },
  "cells": [
    {
      "cell_type": "markdown",
      "metadata": {
        "id": "view-in-github",
        "colab_type": "text"
      },
      "source": [
        "<a href=\"https://colab.research.google.com/github/InowaR/colab/blob/main/huffman.ipynb\" target=\"_parent\"><img src=\"https://colab.research.google.com/assets/colab-badge.svg\" alt=\"Open In Colab\"/></a>"
      ]
    },
    {
      "cell_type": "code",
      "execution_count": 1,
      "metadata": {
        "colab": {
          "base_uri": "https://localhost:8080/"
        },
        "id": "BbA4gK1MxLcx",
        "outputId": "eb072a31-f828-4f48-af4a-093da64bfca1"
      },
      "outputs": [
        {
          "output_type": "stream",
          "name": "stdout",
          "text": [
            "Collecting huffman\n",
            "  Downloading huffman-0.1.2-py2.py3-none-any.whl (4.6 kB)\n",
            "Installing collected packages: huffman\n",
            "Successfully installed huffman-0.1.2\n"
          ]
        }
      ],
      "source": [
        "!pip install huffman"
      ]
    },
    {
      "cell_type": "code",
      "source": [
        "import huffman\n",
        "\n",
        "codebook = None\n",
        "\n",
        "def encode_list(list_data):\n",
        "  value_counts = {}\n",
        "  for num in list_data:\n",
        "    value_counts[num] = value_counts.get(num, 0) + 1\n",
        "  global codebook\n",
        "  codebook = huffman.codebook([*value_counts.items()])\n",
        "  encoded_list = []\n",
        "  for num in list_data:\n",
        "    encoded_list.append(codebook[num])\n",
        "  encoded_string = \"\".join(encoded_list)\n",
        "  return encoded_string\n",
        "\n",
        "\n",
        "print(encode_list([12,4,2]))"
      ],
      "metadata": {
        "colab": {
          "base_uri": "https://localhost:8080/"
        },
        "id": "rl-lHyP0xOKR",
        "outputId": "57897123-e99c-49ba-d8d7-206bb9eb3c78"
      },
      "execution_count": 2,
      "outputs": [
        {
          "output_type": "stream",
          "name": "stdout",
          "text": [
            "01110\n"
          ]
        }
      ]
    },
    {
      "cell_type": "code",
      "source": [
        "def decode_string(encoded_string, codebook):\n",
        "  decoded_list = []\n",
        "  current_code = \"\"\n",
        "  for bit in encoded_string:\n",
        "    current_code += bit\n",
        "    if current_code in codebook.values():\n",
        "      decoded_list.append(list(codebook.keys())[list(codebook.values()).index(current_code)])\n",
        "      current_code = \"\"\n",
        "  return decoded_list\n",
        "\n",
        "\n",
        "print(decode_string('01110', codebook))"
      ],
      "metadata": {
        "id": "FZE_MDMzxUGW",
        "outputId": "65c6835a-9b04-479b-9537-61d5296cb2ad",
        "colab": {
          "base_uri": "https://localhost:8080/"
        }
      },
      "execution_count": 3,
      "outputs": [
        {
          "output_type": "stream",
          "name": "stdout",
          "text": [
            "[12, 4, 2]\n"
          ]
        }
      ]
    }
  ]
}