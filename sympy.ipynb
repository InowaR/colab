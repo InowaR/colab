{
  "nbformat": 4,
  "nbformat_minor": 0,
  "metadata": {
    "colab": {
      "provenance": [],
      "authorship_tag": "ABX9TyMIehylYTKzggrOUx33v5if",
      "include_colab_link": true
    },
    "kernelspec": {
      "name": "python3",
      "display_name": "Python 3"
    },
    "language_info": {
      "name": "python"
    }
  },
  "cells": [
    {
      "cell_type": "markdown",
      "metadata": {
        "id": "view-in-github",
        "colab_type": "text"
      },
      "source": [
        "<a href=\"https://colab.research.google.com/github/InowaR/python/blob/main/sympy.ipynb\" target=\"_parent\"><img src=\"https://colab.research.google.com/assets/colab-badge.svg\" alt=\"Open In Colab\"/></a>"
      ]
    },
    {
      "cell_type": "code",
      "execution_count": 10,
      "metadata": {
        "colab": {
          "base_uri": "https://localhost:8080/",
          "height": 77
        },
        "id": "Dk4AKYbcYUN7",
        "outputId": "76d0d34a-eac4-44d0-cd73-6043cf163768"
      },
      "outputs": [
        {
          "output_type": "display_data",
          "data": {
            "text/plain": [
              "Integral(exp(-t)*exp(-I*t*w), (t, 0, oo))"
            ],
            "text/latex": "$\\displaystyle \\int\\limits_{0}^{\\infty} e^{- t} e^{- i t w}\\, dt$"
          },
          "metadata": {}
        }
      ],
      "source": [
        "from sympy import *\n",
        "t, w = symbols('t, w')\n",
        "display(Integral(exp(-t) * exp(-I*w*t), (t, 0, oo)))"
      ]
    }
  ]
}