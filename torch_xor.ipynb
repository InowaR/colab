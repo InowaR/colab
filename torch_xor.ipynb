{
  "nbformat": 4,
  "nbformat_minor": 0,
  "metadata": {
    "colab": {
      "provenance": [],
      "authorship_tag": "ABX9TyO3PGsSHqU8tdImEV3iK3np",
      "include_colab_link": true
    },
    "kernelspec": {
      "name": "python3",
      "display_name": "Python 3"
    },
    "language_info": {
      "name": "python"
    }
  },
  "cells": [
    {
      "cell_type": "markdown",
      "metadata": {
        "id": "view-in-github",
        "colab_type": "text"
      },
      "source": [
        "<a href=\"https://colab.research.google.com/github/InowaR/colab/blob/main/torch_xor.ipynb\" target=\"_parent\"><img src=\"https://colab.research.google.com/assets/colab-badge.svg\" alt=\"Open In Colab\"/></a>"
      ]
    },
    {
      "cell_type": "code",
      "execution_count": 2,
      "metadata": {
        "id": "KtoD-wdnwJ5X",
        "colab": {
          "base_uri": "https://localhost:8080/"
        },
        "outputId": "5e919f12-5e57-40be-c4ab-0972773fea9a"
      },
      "outputs": [
        {
          "output_type": "stream",
          "name": "stdout",
          "text": [
            "Epoch 1/10000, Loss: 0.7043\n",
            "Epoch 1001/10000, Loss: 0.4556\n",
            "Epoch 2001/10000, Loss: 0.1163\n",
            "Epoch 3001/10000, Loss: 0.0380\n",
            "Epoch 4001/10000, Loss: 0.0156\n",
            "Epoch 5001/10000, Loss: 0.0073\n",
            "Epoch 6001/10000, Loss: 0.0037\n",
            "Epoch 7001/10000, Loss: 0.0019\n",
            "Epoch 8001/10000, Loss: 0.0010\n",
            "Epoch 9001/10000, Loss: 0.0006\n",
            "Accuracy: 1.0000\n"
          ]
        }
      ],
      "source": [
        "import torch\n",
        "import torch.nn as nn\n",
        "import torch.optim as optim\n",
        "\n",
        "# Задаем входные данные и ожидаемые выходные данные\n",
        "input_data = torch.tensor([[0, 0], [0, 1], [1, 0], [1, 1]], dtype=torch.float32)\n",
        "output_data = torch.tensor([[0], [1], [1], [0]], dtype=torch.float32)\n",
        "\n",
        "# Определяем модель нейронной сети\n",
        "class XORModel(nn.Module):\n",
        "    def __init__(self):\n",
        "        super(XORModel, self).__init__()\n",
        "        self.fc1 = nn.Linear(2, 4) # скрытый слой с 4 нейронами\n",
        "        self.fc2 = nn.Linear(4, 1) # выходной слой\n",
        "\n",
        "    def forward(self, x):\n",
        "        x = torch.relu(self.fc1(x)) # функция активации ReLU для скрытого слоя\n",
        "        x = torch.sigmoid(self.fc2(x)) # функция активации сигмоидная для выходного слоя\n",
        "        return x\n",
        "\n",
        "model = XORModel()\n",
        "\n",
        "# Определяем функцию потерь и оптимизатор\n",
        "criterion = nn.BCELoss() # функция потерь binary_crossentropy\n",
        "optimizer = optim.Adam(model.parameters()) # оптимизатор adam\n",
        "\n",
        "# Обучаем модель\n",
        "epochs = 10000 # количество эпох\n",
        "batch_size = 4 # размер батча\n",
        "for epoch in range(epochs):\n",
        "    for i in range(0, len(input_data), batch_size):\n",
        "        inputs = input_data[i:i+batch_size]\n",
        "        targets = output_data[i:i+batch_size]\n",
        "\n",
        "        optimizer.zero_grad()\n",
        "        outputs = model(inputs)\n",
        "        loss = criterion(outputs, targets)\n",
        "        loss.backward()\n",
        "        optimizer.step()\n",
        "\n",
        "    # Выводим значение функции потерь на каждой эпохе\n",
        "    if epoch % 1000 == 0:\n",
        "        print(f'Epoch {epoch+1}/{epochs}, Loss: {loss.item():.4f}')\n",
        "\n",
        "# Проверяем работу модели на тестовых данных\n",
        "with torch.no_grad():\n",
        "    inputs = input_data\n",
        "    targets = output_data\n",
        "    outputs = model(inputs)\n",
        "    predictions = (outputs > 0.5).float()\n",
        "    accuracy = (predictions == targets).float().mean()\n",
        "    print(f'Accuracy: {accuracy.item():.4f}')"
      ]
    }
  ]
}