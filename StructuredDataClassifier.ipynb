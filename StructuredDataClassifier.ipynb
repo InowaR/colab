{
  "nbformat": 4,
  "nbformat_minor": 0,
  "metadata": {
    "colab": {
      "provenance": [],
      "authorship_tag": "ABX9TyNmf/EcOsZGuJx1MzU36lu6",
      "include_colab_link": true
    },
    "kernelspec": {
      "name": "python3",
      "display_name": "Python 3"
    },
    "language_info": {
      "name": "python"
    }
  },
  "cells": [
    {
      "cell_type": "markdown",
      "metadata": {
        "id": "view-in-github",
        "colab_type": "text"
      },
      "source": [
        "<a href=\"https://colab.research.google.com/github/InowaR/colab/blob/main/StructuredDataClassifier.ipynb\" target=\"_parent\"><img src=\"https://colab.research.google.com/assets/colab-badge.svg\" alt=\"Open In Colab\"/></a>"
      ]
    },
    {
      "cell_type": "code",
      "source": [
        "!pip install autokeras"
      ],
      "metadata": {
        "id": "PE3GflsY2ajl"
      },
      "execution_count": null,
      "outputs": []
    },
    {
      "cell_type": "code",
      "execution_count": 105,
      "metadata": {
        "colab": {
          "base_uri": "https://localhost:8080/"
        },
        "id": "1DSz0YITbRD4",
        "outputId": "74375141-dc78-4169-a7a7-e45eae5918dc"
      },
      "outputs": [
        {
          "output_type": "stream",
          "name": "stdout",
          "text": [
            "Reloading Tuner from ./structured_data_classifier/tuner0.json\n",
            "4/4 [==============================] - 0s 4ms/step - loss: 0.1660 - accuracy: 0.9500\n",
            "0.16600292921066284 0.949999988079071\n",
            "1/1 [==============================] - 0s 102ms/step\n",
            "1/1 [==============================] - 0s 6ms/step\n",
            "[[1.]\n",
            " [0.]\n",
            " [1.]\n",
            " [0.]\n",
            " [0.]\n",
            " [1.]\n",
            " [0.]\n",
            " [0.]\n",
            " [0.]\n",
            " [1.]]\n",
            "[1 0 1 0 0 1 0 0 0 1]\n",
            "Model: \"model\"\n",
            "_________________________________________________________________\n",
            " Layer (type)                Output Shape              Param #   \n",
            "=================================================================\n",
            " input_1 (InputLayer)        [(None, 10)]              0         \n",
            "                                                                 \n",
            " multi_category_encoding (M  (None, 10)                0         \n",
            " ultiCategoryEncoding)                                           \n",
            "                                                                 \n",
            " dense (Dense)               (None, 256)               2816      \n",
            "                                                                 \n",
            " re_lu (ReLU)                (None, 256)               0         \n",
            "                                                                 \n",
            " dropout (Dropout)           (None, 256)               0         \n",
            "                                                                 \n",
            " dense_1 (Dense)             (None, 32)                8224      \n",
            "                                                                 \n",
            " re_lu_1 (ReLU)              (None, 32)                0         \n",
            "                                                                 \n",
            " dropout_1 (Dropout)         (None, 32)                0         \n",
            "                                                                 \n",
            " dropout_2 (Dropout)         (None, 32)                0         \n",
            "                                                                 \n",
            " dense_2 (Dense)             (None, 1)                 33        \n",
            "                                                                 \n",
            " classification_head_1 (Act  (None, 1)                 0         \n",
            " ivation)                                                        \n",
            "                                                                 \n",
            "=================================================================\n",
            "Total params: 11073 (43.25 KB)\n",
            "Trainable params: 11073 (43.25 KB)\n",
            "Non-trainable params: 0 (0.00 Byte)\n",
            "_________________________________________________________________\n"
          ]
        }
      ],
      "source": [
        "import numpy as np\n",
        "from autokeras import StructuredDataClassifier\n",
        "\n",
        "\n",
        "X_train = np.random.rand(100, 10)\n",
        "y_train = np.random.randint(0, 2, size=100)\n",
        "\n",
        "\n",
        "\n",
        "clf = StructuredDataClassifier(max_trials=1)   # для подбора гиперпараметров\n",
        "clf.fit(X_train, y_train, epochs=300, verbose=0)     # для запоминания датасета\n",
        "\n",
        "\n",
        "X_val = X_train\n",
        "y_val = y_train\n",
        "loss, accuracy = clf.evaluate(X_val, y_val)\n",
        "print(loss, accuracy)\n",
        "\n",
        "\n",
        "print(clf.predict(X_val[:10]))\n",
        "print(y_val[:10])\n",
        "\n",
        "model = clf.export_model()\n",
        "model.summary()"
      ]
    }
  ]
}