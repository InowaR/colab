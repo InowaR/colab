{
  "nbformat": 4,
  "nbformat_minor": 0,
  "metadata": {
    "colab": {
      "provenance": [],
      "authorship_tag": "ABX9TyOaqh7eY4bvq+G5hYA6Lvxa",
      "include_colab_link": true
    },
    "kernelspec": {
      "name": "python3",
      "display_name": "Python 3"
    },
    "language_info": {
      "name": "python"
    }
  },
  "cells": [
    {
      "cell_type": "markdown",
      "metadata": {
        "id": "view-in-github",
        "colab_type": "text"
      },
      "source": [
        "<a href=\"https://colab.research.google.com/github/InowaR/colab/blob/main/simple_sigmoid_xor.ipynb\" target=\"_parent\"><img src=\"https://colab.research.google.com/assets/colab-badge.svg\" alt=\"Open In Colab\"/></a>"
      ]
    },
    {
      "cell_type": "code",
      "execution_count": 1,
      "metadata": {
        "colab": {
          "base_uri": "https://localhost:8080/"
        },
        "id": "0-gzDGXzLtyg",
        "outputId": "76d4c7ca-8813-4fc7-d5e3-7fc2e2d34c39"
      },
      "outputs": [
        {
          "output_type": "stream",
          "name": "stdout",
          "text": [
            "[[0.19733698]\n",
            " [0.74159614]\n",
            " [0.7416214 ]\n",
            " [0.33673909]]\n"
          ]
        }
      ],
      "source": [
        "import numpy as np\n",
        "\n",
        "# Функция активации (сигмоидная функция)\n",
        "def sigmoid(x):\n",
        "    return 1 / (1 + np.exp(-x))\n",
        "\n",
        "# Пример данных\n",
        "X = np.array([[0, 0],\n",
        "              [0, 1],\n",
        "              [1, 0],\n",
        "              [1, 1]])\n",
        "y = np.array([[0], [1], [1], [0]])\n",
        "\n",
        "# Инициализация весов\n",
        "input_neurons = 2\n",
        "hidden_neurons = 2\n",
        "output_neurons = 1\n",
        "\n",
        "weights_input_hidden = np.random.rand(input_neurons, hidden_neurons)\n",
        "weights_hidden_output = np.random.rand(hidden_neurons, output_neurons)\n",
        "\n",
        "# Прямое распространение\n",
        "for i in range(1000):\n",
        "    # Слой 1 (входной -> скрытый)\n",
        "    hidden_layer_input = np.dot(X, weights_input_hidden)\n",
        "    hidden_layer_output = sigmoid(hidden_layer_input)\n",
        "\n",
        "    # Слой 2 (скрытый -> выходной)\n",
        "    output_layer_input = np.dot(hidden_layer_output, weights_hidden_output)\n",
        "    output = sigmoid(output_layer_input)\n",
        "\n",
        "    # Обратное распространение ошибки\n",
        "    error = y - output\n",
        "    output_gradient = output * (1 - output) * error\n",
        "\n",
        "    error_hidden = output_gradient.dot(weights_hidden_output.T)\n",
        "    hidden_gradient = hidden_layer_output * (1 - hidden_layer_output) * error_hidden\n",
        "\n",
        "    # Обновление весов\n",
        "    weights_hidden_output += hidden_layer_output.T.dot(output_gradient)\n",
        "    weights_input_hidden += X.T.dot(hidden_gradient)\n",
        "\n",
        "print(output)"
      ]
    }
  ]
}