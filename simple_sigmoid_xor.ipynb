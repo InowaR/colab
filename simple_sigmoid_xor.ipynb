{
  "nbformat": 4,
  "nbformat_minor": 0,
  "metadata": {
    "colab": {
      "provenance": [],
      "authorship_tag": "ABX9TyPPz8zpG5ASrpfo6QJvz5u9",
      "include_colab_link": true
    },
    "kernelspec": {
      "name": "python3",
      "display_name": "Python 3"
    },
    "language_info": {
      "name": "python"
    }
  },
  "cells": [
    {
      "cell_type": "markdown",
      "metadata": {
        "id": "view-in-github",
        "colab_type": "text"
      },
      "source": [
        "<a href=\"https://colab.research.google.com/github/InowaR/colab/blob/main/simple_sigmoid_xor.ipynb\" target=\"_parent\"><img src=\"https://colab.research.google.com/assets/colab-badge.svg\" alt=\"Open In Colab\"/></a>"
      ]
    },
    {
      "cell_type": "code",
      "source": [
        "import numpy as np\n",
        "\n",
        "\n",
        "def sigmoid(x):\n",
        "    return 1 / (1 + np.exp(-x))\n",
        "\n",
        "\n",
        "def func1(epochs, X, y):\n",
        "    input_neurons = 2\n",
        "    hidden_neurons = 4\n",
        "    output_neurons = 1\n",
        "    weights_input_hidden = np.random.rand(input_neurons, hidden_neurons)\n",
        "    weights_hidden_output = np.random.rand(hidden_neurons, output_neurons)\n",
        "    for i in range(epochs):\n",
        "        hidden_layer_input = np.dot(X, weights_input_hidden)\n",
        "        hidden_layer_output = sigmoid(hidden_layer_input)\n",
        "        output_layer_input = np.dot(hidden_layer_output, weights_hidden_output)\n",
        "        output = sigmoid(output_layer_input)\n",
        "        error = y - output\n",
        "        output_gradient = output * (1 - output) * error\n",
        "        error_hidden = output_gradient.dot(weights_hidden_output.T)\n",
        "        hidden_gradient = hidden_layer_output * (1 - hidden_layer_output) * error_hidden\n",
        "        weights_hidden_output += hidden_layer_output.T.dot(output_gradient)\n",
        "        weights_input_hidden += X.T.dot(hidden_gradient)\n",
        "    return weights_input_hidden, weights_hidden_output\n",
        "\n",
        "\n",
        "def test1(weights_input_hidden, weights_hidden_output, X):\n",
        "    hidden_layer_input = np.dot(X, weights_input_hidden)\n",
        "    hidden_layer_output = sigmoid(hidden_layer_input)\n",
        "    output_layer_input = np.dot(hidden_layer_output, weights_hidden_output)\n",
        "    output = sigmoid(output_layer_input)\n",
        "    return output\n",
        "\n",
        "\n",
        "def find_best_coefficients1(X, y):\n",
        "    best_error = np.inf\n",
        "    global best_epoch\n",
        "    for epoch in range(400, 500):\n",
        "            weights_input_hidden, weights_hidden_output = func1(epoch, X, y)\n",
        "            training_error = np.sum(np.square(y - test1(weights_input_hidden, weights_hidden_output, X)))\n",
        "            if training_error < best_error:\n",
        "                best_error = training_error\n",
        "                best_epoch = epoch\n",
        "    return best_epoch\n",
        "\n",
        "\n",
        "\n",
        "X = np.array([[0, 0],\n",
        "              [0, 1],\n",
        "              [1, 0],\n",
        "              [1, 1]])\n",
        "y = np.array([[0], [1], [1], [0]])\n",
        "\n",
        "\n",
        "epochs = find_best_coefficients1(X, y)\n",
        "print(\"Best epoch:\", epochs)\n",
        "\n",
        "weights_input_hidden, weights_hidden_output = func1(epochs, X, y)\n",
        "\n",
        "print(weights_input_hidden)\n",
        "print(weights_hidden_output)\n",
        "\n",
        "test_error = np.sum(np.square(y - test1(weights_input_hidden, weights_hidden_output, X)))\n",
        "print(\"Test error:\", \"{:.5f}\".format(test_error))\n",
        "\n",
        "print(\"Predictions on test data:\")\n",
        "print(test1(weights_input_hidden, weights_hidden_output, np.array([[0, 0]])))\n",
        "print(test1(weights_input_hidden, weights_hidden_output, np.array([[0, 1]])))\n",
        "print(test1(weights_input_hidden, weights_hidden_output, np.array([[1, 0]])))\n",
        "print(test1(weights_input_hidden, weights_hidden_output, np.array([[1, 1]])))"
      ],
      "metadata": {
        "id": "sgt_ZJmPPDw3",
        "outputId": "ee20c06d-3ab0-41b8-9f16-a5621e0c6d69",
        "colab": {
          "base_uri": "https://localhost:8080/"
        }
      },
      "execution_count": 309,
      "outputs": [
        {
          "output_type": "stream",
          "name": "stdout",
          "text": [
            "Best epoch: 498\n",
            "[[ 1.62632537  1.52466988 -0.74795215  4.26288369]\n",
            " [-0.22204809 -0.15262591  2.46502903  4.20975282]]\n",
            "[[-2.73213985]\n",
            " [-2.36369528]\n",
            " [-3.15347235]\n",
            " [ 6.14745037]]\n",
            "Test error: 0.37492\n",
            "Predictions on test data:\n",
            "[[0.25904683]]\n",
            "[[0.69935574]]\n",
            "[[0.69523231]]\n",
            "[[0.35291018]]\n"
          ]
        }
      ]
    },
    {
      "cell_type": "code",
      "source": [
        "def func2(A, B, C, D, E, X, y):\n",
        "    input_neurons = 2\n",
        "    hidden_neurons = 4\n",
        "    output_neurons = 1\n",
        "    weights_input_hidden = A * np.random.rand(input_neurons, hidden_neurons) + B\n",
        "    weights_hidden_output = C * np.random.rand(hidden_neurons, output_neurons) + D\n",
        "    for i in range(epochs):\n",
        "        hidden_layer_input = np.dot(X, weights_input_hidden)\n",
        "        hidden_layer_output = sigmoid(hidden_layer_input)\n",
        "        output_layer_input = np.dot(hidden_layer_output, weights_hidden_output)\n",
        "        output = sigmoid(output_layer_input)\n",
        "        error = y - output\n",
        "        output_gradient = output * (1 - output) * error\n",
        "        error_hidden = output_gradient.dot(weights_hidden_output.T)\n",
        "        hidden_gradient = hidden_layer_output * (1 - hidden_layer_output) * error_hidden\n",
        "        weights_hidden_output += E * hidden_layer_output.T.dot(output_gradient)\n",
        "        weights_input_hidden += E * X.T.dot(hidden_gradient)\n",
        "    return weights_input_hidden, weights_hidden_output\n",
        "\n",
        "\n",
        "def test2(weights_input_hidden, weights_hidden_output, X):\n",
        "    hidden_layer_input = np.dot(X, weights_input_hidden)\n",
        "    hidden_layer_output = sigmoid(hidden_layer_input)\n",
        "    output_layer_input = np.dot(hidden_layer_output, weights_hidden_output)\n",
        "    output = sigmoid(output_layer_input)\n",
        "    return output\n",
        "\n",
        "\n",
        "def find_best_coefficients2(X, y):\n",
        "    best_error = np.inf\n",
        "    global best_A, best_B, best_C, best_D, best_E\n",
        "    for A in range(1, 2):\n",
        "        for B in range(1, 2):\n",
        "            for C in range(1, 2):\n",
        "                for D in range(1, 2):\n",
        "                    for E in range(1, 10):\n",
        "                        weights_input_hidden, weights_hidden_output = func2(A, B, C, D, E, X, y)\n",
        "                        training_error = np.sum(np.square(y - test2(weights_input_hidden, weights_hidden_output, X)))\n",
        "                        if training_error < best_error:\n",
        "                            best_error = training_error\n",
        "                            best_A, best_B, best_C, best_D, best_E = A, B, C, D, E\n",
        "    return best_A, best_B, best_C, best_D, best_E\n",
        "\n",
        "\n",
        "A, B, C, D, E = find_best_coefficients2(X, y)\n",
        "print(\"Best coefficients:\", A, B, C, D, E)\n",
        "\n",
        "weights_input_hidden, weights_hidden_output = func2(A, B, C, D, E, X, y)\n",
        "\n",
        "print(weights_input_hidden)\n",
        "print(weights_hidden_output)\n",
        "\n",
        "test_error = np.sum(np.square(y - test2(weights_input_hidden, weights_hidden_output, X)))\n",
        "print(\"Test error:\", \"{:.5f}\".format(test_error))\n",
        "\n",
        "print(\"Predictions on test data:\")\n",
        "print(test2(weights_input_hidden, weights_hidden_output, np.array([[0, 0]])))\n",
        "print(test2(weights_input_hidden, weights_hidden_output, np.array([[0, 1]])))\n",
        "print(test2(weights_input_hidden, weights_hidden_output, np.array([[1, 0]])))\n",
        "print(test2(weights_input_hidden, weights_hidden_output, np.array([[1, 1]])))"
      ],
      "metadata": {
        "id": "rsdcsY-Dd3BR",
        "outputId": "89f563a9-96dc-445e-e9bc-54bc0deeeb8d",
        "colab": {
          "base_uri": "https://localhost:8080/"
        }
      },
      "execution_count": 310,
      "outputs": [
        {
          "output_type": "stream",
          "name": "stdout",
          "text": [
            "Best coefficients: 1 1 1 1 9\n",
            "[[ 5.41295329 -2.61090017  7.17744061 -3.17727096]\n",
            " [ 5.16891293 -2.33616053 -3.39803959  6.69316872]]\n",
            "[[12.58705942]\n",
            " [-3.3168822 ]\n",
            " [-8.33922952]\n",
            " [-8.30994563]]\n",
            "Test error: 0.00252\n",
            "Predictions on test data:\n",
            "[[0.02437551]]\n",
            "[[0.97476312]]\n",
            "[[0.97438598]]\n",
            "[[0.02509198]]\n"
          ]
        }
      ]
    },
    {
      "cell_type": "code",
      "source": [
        "weights_input_hidden = np.array([[-2.36339103, 6.64933217, -2.86276887, 5.43549766], [3.78489417, -3.70050892, 5.04393831, 5.53390145]])\n",
        "weights_hidden_output = np.array([[-4.49183793], [-9.48823949], [-5.69572417], [13.69858672]])\n",
        "\n",
        "def simple_func_test(weights_input_hidden, weights_hidden_output, X):\n",
        "    hidden_layer_input = np.dot(X, weights_input_hidden)\n",
        "    hidden_layer_output = sigmoid(hidden_layer_input)\n",
        "    output_layer_input = np.dot(hidden_layer_output, weights_hidden_output)\n",
        "    output = sigmoid(output_layer_input)\n",
        "    return output\n",
        "\n",
        "print(simple_func_test(weights_input_hidden, weights_hidden_output, np.array([[0, 0]])))\n",
        "print(simple_func_test(weights_input_hidden, weights_hidden_output, np.array([[0, 1]])))\n",
        "print(simple_func_test(weights_input_hidden, weights_hidden_output, np.array([[1, 0]])))\n",
        "print(simple_func_test(weights_input_hidden, weights_hidden_output, np.array([[1, 1]])))"
      ],
      "metadata": {
        "id": "H2zb2hA8NoYL",
        "outputId": "68956efc-8f5a-4a0b-8a0c-50fe775d3cc0",
        "colab": {
          "base_uri": "https://localhost:8080/"
        }
      },
      "execution_count": 311,
      "outputs": [
        {
          "output_type": "stream",
          "name": "stdout",
          "text": [
            "[[0.04794321]]\n",
            "[[0.9665782]]\n",
            "[[0.96979629]]\n",
            "[[0.01705977]]\n"
          ]
        }
      ]
    }
  ]
}