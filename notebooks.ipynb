{
  "nbformat": 4,
  "nbformat_minor": 0,
  "metadata": {
    "colab": {
      "provenance": [],
      "authorship_tag": "ABX9TyOb/g1U+prho3ZIdFDBObqe",
      "include_colab_link": true
    },
    "kernelspec": {
      "name": "python3",
      "display_name": "Python 3"
    },
    "language_info": {
      "name": "python"
    }
  },
  "cells": [
    {
      "cell_type": "markdown",
      "metadata": {
        "id": "view-in-github",
        "colab_type": "text"
      },
      "source": [
        "<a href=\"https://colab.research.google.com/github/InowaR/colab/blob/main/notebooks.ipynb\" target=\"_parent\"><img src=\"https://colab.research.google.com/assets/colab-badge.svg\" alt=\"Open In Colab\"/></a>"
      ]
    },
    {
      "cell_type": "code",
      "execution_count": 151,
      "metadata": {
        "colab": {
          "base_uri": "https://localhost:8080/"
        },
        "id": "ahKxOirUsgji",
        "outputId": "0dc6821d-3510-4949-eb68-a921f5a4a834"
      },
      "outputs": [
        {
          "output_type": "stream",
          "name": "stdout",
          "text": [
            "+---------------+---------+--------------------+-------+--------+---------------+\n",
            "|     name      |   price |   screen_diagonale |   ram |   disk |      cpu      |\n",
            "+===============+=========+====================+=======+========+===============+\n",
            "| MSI_modern_15 |   46000 |                 15 |    16 |    512 | Intel Core i5 |\n",
            "+---------------+---------+--------------------+-------+--------+---------------+\n",
            "| MSI_modern_16 |   50000 |                 16 |    16 |    512 | Intel Core i5 |\n",
            "+---------------+---------+--------------------+-------+--------+---------------+\n",
            "| MSI_modern_17 |   55000 |                 17 |    16 |    512 | Intel Core i5 |\n",
            "+---------------+---------+--------------------+-------+--------+---------------+\n",
            "(3, 'MSI_modern_17', 55000, 17, 16, 512, 'Intel Core i5')\n",
            "(2, 'MSI_modern_16', 50000, 16, 16, 512, 'Intel Core i5')\n",
            "(1, 'MSI_modern_15', 46000, 15, 16, 512, 'Intel Core i5')\n",
            "(1, 'MSI_modern_15', 46000, 15, 16, 512, 'Intel Core i5')\n",
            "(2, 'MSI_modern_16', 50000, 16, 16, 512, 'Intel Core i5')\n",
            "(3, 'MSI_modern_17', 55000, 17, 16, 512, 'Intel Core i5')\n"
          ]
        }
      ],
      "source": [
        "from tabulate import tabulate\n",
        "import sqlite3\n",
        "\n",
        "class Notebook:\n",
        "\n",
        "  def __init__(self, name: str, price: int, screen_diagonale: int, ram: int, disk: int, cpu: str):\n",
        "    self.name = name\n",
        "    self.price = price\n",
        "    self.screen_diagonale = screen_diagonale\n",
        "    self.ram = ram\n",
        "    self.disk = disk\n",
        "    self.cpu = cpu\n",
        "\n",
        "  def info(self):\n",
        "    return {'name' : self.name,\n",
        "            'price' : self.price,\n",
        "            'screen_diagonale' : self.screen_diagonale,\n",
        "            'ram' : self.ram,\n",
        "            'disk' : self.disk,\n",
        "            'cpu' : self.cpu}\n",
        "\n",
        "class Menu:\n",
        "\n",
        "  def __init__(self, Notebooks):\n",
        "    self.Notebooks = Notebooks\n",
        "\n",
        "  def show_notebooks(self, Notebooks):\n",
        "    list_notebooks = []\n",
        "    for notebook in Notebooks:\n",
        "      list_notebooks.append(notebook.info())\n",
        "    print(tabulate(list_notebooks, headers='keys', tablefmt='grid', stralign='center'))\n",
        "\n",
        "  def create_db(self):\n",
        "    with sqlite3.connect('notebooks.db') as conn:\n",
        "        cursor = conn.cursor()\n",
        "        cursor.execute('''CREATE TABLE IF NOT EXISTS notebooks\n",
        "                        (id INTEGER PRIMARY KEY AUTOINCREMENT,\n",
        "                        name TEXT,\n",
        "                        price INTEGER,\n",
        "                        screen_diagonale INTEGER,\n",
        "                        ram INTEGER,\n",
        "                        disk INTEGER,\n",
        "                        cpu TEXT)''')\n",
        "\n",
        "  def save_notebooks(self, Notebooks):\n",
        "    with sqlite3.connect('notebooks.db') as conn:\n",
        "      cursor = conn.cursor()\n",
        "      for notebook in Notebooks:\n",
        "          cursor.execute(\"INSERT INTO notebooks (name, price, screen_diagonale, ram, disk, cpu) VALUES (?, ?, ?, ?, ?, ?)\",\n",
        "                          (notebook.name, notebook.price, notebook.screen_diagonale, notebook.ram, notebook.disk, notebook.cpu))\n",
        "          conn.commit()\n",
        "\n",
        "\n",
        "def sql_execute(string):\n",
        "  with sqlite3.connect('notebooks.db') as conn:\n",
        "      cursor = conn.cursor()\n",
        "      cursor.execute(string)\n",
        "      results = cursor.fetchall()\n",
        "      for row in results:\n",
        "          print(row)\n",
        "\n",
        "def list_of_notebooks():\n",
        "  MSI_modern_15 = Notebook('MSI_modern_15', 46000, 15, 16, 512, 'Intel Core i5')\n",
        "  MSI_modern_16 = Notebook('MSI_modern_16', 50000, 16, 16, 512, 'Intel Core i5')\n",
        "  MSI_modern_17 = Notebook('MSI_modern_17', 55000, 17, 16, 512, 'Intel Core i5')\n",
        "  return [MSI_modern_15, MSI_modern_16, MSI_modern_17]\n",
        "\n",
        "def main():\n",
        "  Notebooks = list_of_notebooks()\n",
        "  new_menu = Menu(Notebooks)\n",
        "  new_menu.show_notebooks(Notebooks)\n",
        "  new_menu.create_db()\n",
        "  new_menu.save_notebooks(Notebooks)\n",
        "  sql_execute(\"SELECT * FROM notebooks ORDER BY price DESC;\")\n",
        "  sql_execute(\"SELECT * FROM notebooks ORDER BY price ASC;\")\n",
        "\n",
        "main()"
      ]
    }
  ]
}