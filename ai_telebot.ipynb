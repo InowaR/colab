{
  "nbformat": 4,
  "nbformat_minor": 0,
  "metadata": {
    "colab": {
      "provenance": [],
      "authorship_tag": "ABX9TyPYyRYGu41xohY1HRrzwh73",
      "include_colab_link": true
    },
    "kernelspec": {
      "name": "python3",
      "display_name": "Python 3"
    },
    "language_info": {
      "name": "python"
    }
  },
  "cells": [
    {
      "cell_type": "markdown",
      "metadata": {
        "id": "view-in-github",
        "colab_type": "text"
      },
      "source": [
        "<a href=\"https://colab.research.google.com/github/InowaR/colab/blob/main/ai_telebot.ipynb\" target=\"_parent\"><img src=\"https://colab.research.google.com/assets/colab-badge.svg\" alt=\"Open In Colab\"/></a>"
      ]
    },
    {
      "cell_type": "code",
      "source": [
        "!pip install telebot"
      ],
      "metadata": {
        "id": "95RmicNiv_zV"
      },
      "execution_count": null,
      "outputs": []
    },
    {
      "cell_type": "code",
      "source": [
        "import sys\n",
        "\n",
        "# Additional authentication is required for Google Colab\n",
        "if \"google.colab\" in sys.modules:\n",
        "    # Authenticate user to Google Cloud\n",
        "    from google.colab import auth\n",
        "\n",
        "    auth.authenticate_user()"
      ],
      "metadata": {
        "id": "VHEdmavKDRtX"
      },
      "execution_count": 31,
      "outputs": []
    },
    {
      "cell_type": "code",
      "source": [
        "from google.colab import userdata\n",
        "import vertexai\n",
        "from vertexai.generative_models import GenerationConfig, GenerativeModel, Image, Part\n",
        "\n",
        "# Define project information\n",
        "PROJECT_ID = userdata.get('PROJECT_ID')\n",
        "LOCATION = userdata.get('LOCATION')\n",
        "\n",
        "\n",
        "# create a new project\n",
        "# https://console.cloud.google.com/vertex-ai/\n",
        "\n",
        "\n",
        "vertexai.init(project=PROJECT_ID, location=LOCATION)\n",
        "\n",
        "multimodal_model = GenerativeModel(\"gemini-1.0-pro-vision\")"
      ],
      "metadata": {
        "id": "Hf-uSekzDeU3"
      },
      "execution_count": 44,
      "outputs": []
    },
    {
      "cell_type": "code",
      "source": [
        "import http.client\n",
        "import typing\n",
        "import urllib.request\n",
        "\n",
        "\n",
        "def get_image_bytes_from_url(image_url: str) -> bytes:\n",
        "    with urllib.request.urlopen(image_url) as response:\n",
        "        response = typing.cast(http.client.HTTPResponse, response)\n",
        "        image_bytes = response.read()\n",
        "    return image_bytes\n",
        "\n",
        "def load_image_from_url(image_url: str) -> Image:\n",
        "    image_bytes = get_image_bytes_from_url(image_url)\n",
        "    return Image.from_bytes(image_bytes)\n",
        "\n",
        "def send_data(image_url, prompt):\n",
        "    try:\n",
        "        image = load_image_from_url(image_url)\n",
        "        contents = [image, prompt]\n",
        "        responses = multimodal_model.generate_content(contents, stream=True)\n",
        "        answer = ''\n",
        "        for response in responses:\n",
        "            answer += response.text\n",
        "        return answer\n",
        "    except:\n",
        "        pass"
      ],
      "metadata": {
        "id": "IDowV9vsERpJ"
      },
      "execution_count": 45,
      "outputs": []
    },
    {
      "cell_type": "code",
      "execution_count": 80,
      "metadata": {
        "id": "V_nCPqptmGPI"
      },
      "outputs": [],
      "source": [
        "import requests\n",
        "import telebot\n",
        "from telebot.types import ReplyKeyboardMarkup, KeyboardButton\n",
        "from google.colab import userdata\n",
        "\n",
        "\n",
        "BOT_TOKEN = userdata.get('TELEGRAM')\n",
        "\n",
        "bot = telebot.TeleBot(BOT_TOKEN)\n",
        "\n",
        "data = {}\n",
        "\n",
        "\n",
        "@bot.message_handler(commands=['start'])\n",
        "def handle_start(message):\n",
        "    keyboard = ReplyKeyboardMarkup(resize_keyboard=True)\n",
        "    keyboard.add(KeyboardButton('Удалить текст'))\n",
        "    keyboard.add(KeyboardButton('Удалить изображение и текст'))\n",
        "    bot.send_message(message.chat.id, f\"1) Выберите изображение и нажмите отправить.\\n2) Напишите текст промпта и нажмите отправить.\\n3) Ожидайте ответ.\", reply_markup=keyboard)\n",
        "\n",
        "\n",
        "@bot.message_handler(func=lambda message: message.text == 'Удалить текст')\n",
        "def clear_text(message):\n",
        "    global data\n",
        "    if 'text' in data:\n",
        "        del data['text']\n",
        "    bot.send_message(message.chat.id, f'Текст удален')\n",
        "\n",
        "\n",
        "@bot.message_handler(func=lambda message: message.text == 'Удалить изображение и текст')\n",
        "def clear_all(message):\n",
        "    global data\n",
        "    data = {}\n",
        "    bot.send_message(message.chat.id, f\"Изображение и текст удалены\")\n",
        "\n",
        "\n",
        "@bot.message_handler(content_types=['text'])\n",
        "def send_text(message):\n",
        "    if 'text' in data:\n",
        "        existing_line = data['text']\n",
        "        new_line = existing_line + '. ' + message.text\n",
        "        data['text'] = new_line\n",
        "        if 'image_url' in data:\n",
        "            bot.send_message(message.chat.id, f\"Данные отправлены, ожидайте ответ\")\n",
        "            answer = send_data(image_url=data['image_url'], prompt=data['text'])\n",
        "            bot.send_message(message.chat.id, f\"{answer}\")\n",
        "    elif 'text' not in data:\n",
        "        data['text'] = message.text\n",
        "        bot.send_message(message.chat.id, f\"Текст добавлен\")\n",
        "        if 'image_url' in data:\n",
        "            bot.send_message(message.chat.id, f\"Данные отправлены, ожидайте ответ\")\n",
        "            answer = send_data(image_url=data['image_url'], prompt=data['text'])\n",
        "            bot.send_message(message.chat.id, f\"{answer}\")\n",
        "    elif 'image_url' not in data:\n",
        "        bot.send_message(message.chat.id, f\"Текст уже отправлен, добавьте фотографию\")\n",
        "    elif 'image_url' in data and 'text' in data:\n",
        "        bot.send_message(message.chat.id, f\"Данные отправлены, ожидайте ответ\")\n",
        "        answer = send_data(image_url=data['image_url'], prompt=data['text'])\n",
        "        bot.send_message(message.chat.id, f\"{answer}\")\n",
        "\n",
        "\n",
        "\n",
        "@bot.message_handler(content_types=['photo'])\n",
        "def send_photo(message):\n",
        "    photo = message.photo[-1]\n",
        "    file_id = photo.file_id\n",
        "    file_info = bot.get_file(file_id)\n",
        "    download_url = f\"https://api.telegram.org/file/bot{BOT_TOKEN}/{file_info.file_path}\"\n",
        "\n",
        "    if 'image_url' not in data:\n",
        "        data['image_url'] = download_url\n",
        "        bot.send_message(message.chat.id, f\"Изображение добавлено\")\n",
        "        if 'text' in data:\n",
        "            bot.send_message(message.chat.id, f\"Данные отправлены, ожидайте ответ\")\n",
        "            answer = send_data(image_url=data['image_url'], prompt=data['text'])\n",
        "            bot.send_message(message.chat.id, f\"{answer}\")\n",
        "    elif 'text' not in data:\n",
        "        bot.send_message(message.chat.id, f\"Изображение уже добавлено, добавьте текст\")\n",
        "    elif 'image_url' in data and 'text' in data:\n",
        "        bot.send_message(message.chat.id, f\"Данные отправлены, ожидайте ответ\")\n",
        "        answer = send_data(image_url=data['image_url'], prompt=data['text'])\n",
        "        bot.send_message(message.chat.id, f\"{answer}\")\n",
        "\n",
        "\n",
        "bot.polling()\n"
      ]
    }
  ]
}