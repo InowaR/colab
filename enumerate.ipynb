{
  "nbformat": 4,
  "nbformat_minor": 0,
  "metadata": {
    "colab": {
      "provenance": [],
      "authorship_tag": "ABX9TyPiL3cyJuESNQVa4G5xfO3k",
      "include_colab_link": true
    },
    "kernelspec": {
      "name": "python3",
      "display_name": "Python 3"
    },
    "language_info": {
      "name": "python"
    }
  },
  "cells": [
    {
      "cell_type": "markdown",
      "metadata": {
        "id": "view-in-github",
        "colab_type": "text"
      },
      "source": [
        "<a href=\"https://colab.research.google.com/github/InowaR/colab/blob/main/enumerate.ipynb\" target=\"_parent\"><img src=\"https://colab.research.google.com/assets/colab-badge.svg\" alt=\"Open In Colab\"/></a>"
      ]
    },
    {
      "cell_type": "code",
      "execution_count": 14,
      "metadata": {
        "colab": {
          "base_uri": "https://localhost:8080/"
        },
        "id": "A0-hl7q5_kiX",
        "outputId": "c0dcdc41-08fe-499e-c0f1-fd89640b2dcc"
      },
      "outputs": [
        {
          "output_type": "stream",
          "name": "stdout",
          "text": [
            "1 - abcde\n",
            "2 -     b\n",
            "3 -     c\n",
            "4 -     d\n",
            "5 -     e\n",
            "6 -     f\n"
          ]
        }
      ],
      "source": [
        "a = ['abcde','b','c','d','e','f']\n",
        "for i, item in enumerate(a, start=1):\n",
        "  print(f'{i} - {item:>5}')"
      ]
    }
  ]
}