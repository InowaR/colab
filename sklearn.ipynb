{
  "nbformat": 4,
  "nbformat_minor": 0,
  "metadata": {
    "colab": {
      "provenance": [],
      "authorship_tag": "ABX9TyPDYa2IwiFukqcDHzgIujXx",
      "include_colab_link": true
    },
    "kernelspec": {
      "name": "python3",
      "display_name": "Python 3"
    },
    "language_info": {
      "name": "python"
    }
  },
  "cells": [
    {
      "cell_type": "markdown",
      "metadata": {
        "id": "view-in-github",
        "colab_type": "text"
      },
      "source": [
        "<a href=\"https://colab.research.google.com/github/InowaR/colab/blob/main/sklearn.ipynb\" target=\"_parent\"><img src=\"https://colab.research.google.com/assets/colab-badge.svg\" alt=\"Open In Colab\"/></a>"
      ]
    },
    {
      "cell_type": "code",
      "execution_count": 73,
      "metadata": {
        "colab": {
          "base_uri": "https://localhost:8080/"
        },
        "id": "OAXnHIyH4CVS",
        "outputId": "2df68cf6-f5c0-48ea-b301-260ecd7d557a"
      },
      "outputs": [
        {
          "output_type": "stream",
          "name": "stdout",
          "text": [
            "Accuracy: 0.9736842105263158\n",
            "Первые 10 предсказаний: [0 1 2 1 1 2 2 0 2 0]\n",
            "Истинные значения: [0 1 2 1 1 2 2 0 2 0]\n"
          ]
        }
      ],
      "source": [
        "# Загрузить библиотеки\n",
        "from sklearn import datasets\n",
        "from sklearn.model_selection import train_test_split\n",
        "from sklearn.neighbors import KNeighborsClassifier\n",
        "\n",
        "# Загрузить датасет\n",
        "iris = datasets.load_iris()\n",
        "\n",
        "# Разделить данные на обучающую и тестовую выборки\n",
        "X_train, X_test, y_train, y_test = train_test_split(iris.data, iris.target, test_size=0.25)\n",
        "\n",
        "# Обучить модель\n",
        "model = KNeighborsClassifier()\n",
        "model.fit(X_train, y_train)\n",
        "\n",
        "# Оценить качество модели\n",
        "score = model.score(X_test, y_test)\n",
        "print(\"Accuracy:\", score)\n",
        "\n",
        "# Сделать прогнозы\n",
        "y_pred = model.predict(X_test)\n",
        "\n",
        "# Вывести первые 10 предсказаний\n",
        "print(\"Первые 10 предсказаний:\", y_pred[:10])\n",
        "\n",
        "# Вывести истинные значения\n",
        "print(\"Истинные значения:\", y_test[:10])\n"
      ]
    }
  ]
}