{
  "nbformat": 4,
  "nbformat_minor": 0,
  "metadata": {
    "colab": {
      "provenance": [],
      "authorship_tag": "ABX9TyMpHO6ZssNA38hiFpcFSEiV",
      "include_colab_link": true
    },
    "kernelspec": {
      "name": "python3",
      "display_name": "Python 3"
    },
    "language_info": {
      "name": "python"
    }
  },
  "cells": [
    {
      "cell_type": "markdown",
      "metadata": {
        "id": "view-in-github",
        "colab_type": "text"
      },
      "source": [
        "<a href=\"https://colab.research.google.com/github/InowaR/colab/blob/main/DoublyLinkedList.ipynb\" target=\"_parent\"><img src=\"https://colab.research.google.com/assets/colab-badge.svg\" alt=\"Open In Colab\"/></a>"
      ]
    },
    {
      "cell_type": "code",
      "execution_count": 14,
      "metadata": {
        "colab": {
          "base_uri": "https://localhost:8080/"
        },
        "id": "pCZd54HOZcV0",
        "outputId": "f0883fdd-c17c-4904-854b-fade889899cf"
      },
      "outputs": [
        {
          "output_type": "stream",
          "name": "stdout",
          "text": [
            "E\n",
            "A\n",
            "C\n",
            "D\n"
          ]
        }
      ],
      "source": [
        "class Node:\n",
        "    def __init__(self, data=None):\n",
        "        self.data = data\n",
        "        self.next = None\n",
        "        self.prev = None\n",
        " \n",
        "class DoublyLinkedList:\n",
        "    def __init__(self):\n",
        "        self.head = None\n",
        " \n",
        "    def append(self, data):\n",
        "        new_node = Node(data)\n",
        "        if self.head is None:\n",
        "            self.head = new_node\n",
        "            return\n",
        "        last_node = self.head\n",
        "        while last_node.next:\n",
        "            last_node = last_node.next\n",
        "        last_node.next = new_node\n",
        "        new_node.prev = last_node\n",
        " \n",
        "    def prepend(self, data):\n",
        "        new_node = Node(data)\n",
        "        new_node.next = self.head\n",
        "        if self.head:\n",
        "            self.head.prev = new_node\n",
        "        self.head = new_node\n",
        " \n",
        "    def insert_after_node(self, prev_node, data):\n",
        "        if not prev_node:\n",
        "            print(\"Previous node is not in the list\")\n",
        "            return\n",
        "        new_node = Node(data)\n",
        "        new_node.next = prev_node.next\n",
        "        prev_node.next = new_node\n",
        "        new_node.prev = prev_node\n",
        "        if new_node.next:\n",
        "            new_node.next.prev = new_node\n",
        " \n",
        "    def delete_node(self, key):\n",
        "        cur_node = self.head\n",
        "        if cur_node and cur_node.data == key:\n",
        "            if cur_node.next:\n",
        "                cur_node.next.prev = None\n",
        "            self.head = cur_node.next\n",
        "            cur_node = None\n",
        "            return\n",
        "        prev = None\n",
        "        while cur_node and cur_node.data != key:\n",
        "            prev = cur_node\n",
        "            cur_node = cur_node.next\n",
        "        if cur_node is None:\n",
        "            return\n",
        "        if cur_node.next:\n",
        "            cur_node.next.prev = prev\n",
        "        prev.next = cur_node.next\n",
        "        cur_node = None\n",
        " \n",
        "    def delete_node_at_pos(self, pos):\n",
        "        cur_node = self.head\n",
        "        if pos == 0:\n",
        "            if cur_node.next:\n",
        "                cur_node.next.prev = None\n",
        "            self.head = cur_node.next\n",
        "            cur_node = None\n",
        "            return\n",
        "        prev = None\n",
        "        count = 1\n",
        "        while cur_node and count != pos:\n",
        "            prev = cur_node\n",
        "            cur_node = cur_node.next\n",
        "            count += 1\n",
        "        if cur_node is None:\n",
        "            return\n",
        "        if cur_node.next:\n",
        "            cur_node.next.prev = prev\n",
        "        prev.next = cur_node.next\n",
        "        cur_node = None\n",
        " \n",
        "    def print_list(self):\n",
        "        cur_node = self.head\n",
        "        while cur_node:\n",
        "            print(cur_node.data)\n",
        "            cur_node = cur_node.next\n",
        " \n",
        " \n",
        "dllist = DoublyLinkedList()\n",
        "dllist.append(\"A\")\n",
        "dllist.append(\"B\")\n",
        "dllist.append(\"C\")\n",
        "dllist.append(\"D\")\n",
        "dllist.prepend(\"E\")\n",
        "dllist.insert_after_node(dllist.head.next, \"F\")\n",
        "dllist.delete_node(\"B\")\n",
        "dllist.delete_node_at_pos(3)\n",
        "dllist.print_list()"
      ]
    }
  ]
}