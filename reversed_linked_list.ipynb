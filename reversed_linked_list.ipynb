{
  "nbformat": 4,
  "nbformat_minor": 0,
  "metadata": {
    "colab": {
      "provenance": [],
      "authorship_tag": "ABX9TyOJQHGTuZfjXeRxmEAatqhF",
      "include_colab_link": true
    },
    "kernelspec": {
      "name": "python3",
      "display_name": "Python 3"
    },
    "language_info": {
      "name": "python"
    }
  },
  "cells": [
    {
      "cell_type": "markdown",
      "metadata": {
        "id": "view-in-github",
        "colab_type": "text"
      },
      "source": [
        "<a href=\"https://colab.research.google.com/github/InowaR/colab/blob/main/reversed_linked_list.ipynb\" target=\"_parent\"><img src=\"https://colab.research.google.com/assets/colab-badge.svg\" alt=\"Open In Colab\"/></a>"
      ]
    },
    {
      "cell_type": "code",
      "execution_count": 81,
      "metadata": {
        "colab": {
          "base_uri": "https://localhost:8080/"
        },
        "id": "vqAdQ7Bv-lXa",
        "outputId": "57c46058-f666-4a66-ebd8-29446c762ce5"
      },
      "outputs": [
        {
          "output_type": "stream",
          "name": "stdout",
          "text": [
            "['10', 'a', '345', 'привет', \b\b]\n",
            "['привет', '345', 'a', '10', \b\b]\n"
          ]
        }
      ],
      "source": [
        "class Node:\n",
        "    def __init__(self, data=None):\n",
        "        self.data = data\n",
        "        self.next = None\n",
        " \n",
        "class LinkedList:\n",
        "    def __init__(self):\n",
        "        self.head = None\n",
        " \n",
        "    def append(self, data):\n",
        "        new_node = Node(data)\n",
        "        if self.head is None:\n",
        "            self.head = new_node\n",
        "            return\n",
        "        last_node = self.head\n",
        "        while last_node.next:\n",
        "            last_node = last_node.next\n",
        "        last_node.next = new_node\n",
        " \n",
        "    def reverse(self):\n",
        "        previous_node = None\n",
        "        current_node = self.head\n",
        "        while current_node:\n",
        "            next_node = current_node.next\n",
        "            current_node.next = previous_node\n",
        "            previous_node = current_node\n",
        "            current_node = next_node\n",
        "        self.head = previous_node\n",
        " \n",
        "    def print_list(self):\n",
        "        current_node = self.head\n",
        "        print('[', end='')\n",
        "        while current_node:\n",
        "            print(f\"'{current_node.data}'\", end=', ')\n",
        "            current_node = current_node.next\n",
        "        print('\\b\\b]')\n",
        "          \n",
        "def main():\n",
        "  l = LinkedList()\n",
        "  l.append('10')\n",
        "  l.append('a')\n",
        "  l.append('345')\n",
        "  l.append('привет')\n",
        "  l.print_list()\n",
        "  l.reverse()\n",
        "  l.print_list()\n",
        "\n",
        "main()"
      ]
    }
  ]
}