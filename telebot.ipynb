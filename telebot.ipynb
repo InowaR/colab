{
  "nbformat": 4,
  "nbformat_minor": 0,
  "metadata": {
    "colab": {
      "provenance": [],
      "authorship_tag": "ABX9TyP2uKdiS5an6M/FHhanTPP7",
      "include_colab_link": true
    },
    "kernelspec": {
      "name": "python3",
      "display_name": "Python 3"
    },
    "language_info": {
      "name": "python"
    }
  },
  "cells": [
    {
      "cell_type": "markdown",
      "metadata": {
        "id": "view-in-github",
        "colab_type": "text"
      },
      "source": [
        "<a href=\"https://colab.research.google.com/github/InowaR/colab/blob/main/telebot.ipynb\" target=\"_parent\"><img src=\"https://colab.research.google.com/assets/colab-badge.svg\" alt=\"Open In Colab\"/></a>"
      ]
    },
    {
      "cell_type": "code",
      "execution_count": 3,
      "metadata": {
        "colab": {
          "base_uri": "https://localhost:8080/"
        },
        "id": "YnNHINOBT99-",
        "outputId": "59c18833-87ca-4f4c-b1e5-77c993d8d70f"
      },
      "outputs": [
        {
          "output_type": "stream",
          "name": "stdout",
          "text": [
            "Looking in indexes: https://pypi.org/simple, https://us-python.pkg.dev/colab-wheels/public/simple/\n",
            "Requirement already satisfied: telebot in /usr/local/lib/python3.10/dist-packages (0.0.5)\n",
            "Requirement already satisfied: pyTelegramBotAPI in /usr/local/lib/python3.10/dist-packages (from telebot) (4.12.0)\n",
            "Requirement already satisfied: requests in /usr/local/lib/python3.10/dist-packages (from telebot) (2.27.1)\n",
            "Requirement already satisfied: urllib3<1.27,>=1.21.1 in /usr/local/lib/python3.10/dist-packages (from requests->telebot) (1.26.16)\n",
            "Requirement already satisfied: certifi>=2017.4.17 in /usr/local/lib/python3.10/dist-packages (from requests->telebot) (2023.5.7)\n",
            "Requirement already satisfied: charset-normalizer~=2.0.0 in /usr/local/lib/python3.10/dist-packages (from requests->telebot) (2.0.12)\n",
            "Requirement already satisfied: idna<4,>=2.5 in /usr/local/lib/python3.10/dist-packages (from requests->telebot) (3.4)\n"
          ]
        }
      ],
      "source": [
        "!pip install telebot\n",
        "import telebot\n",
        "import sqlite3\n",
        "from datetime import datetime\n",
        "\n",
        "# Создаем объект бота и указываем токен\n",
        "with open('token.txt') as token:\n",
        "    key = token.readline()\n",
        "\n",
        "bot = telebot.TeleBot(key)\n",
        "\n",
        "# Создаем контекстный менеджер для работы с базой данных\n",
        "class Database:\n",
        "    def __init__(self):\n",
        "        self._conn = sqlite3.connect('messages.db')\n",
        "        self._cursor = self._conn.cursor()\n",
        "\n",
        "        # Создаем таблицу для хранения сообщений\n",
        "        self._cursor.execute('''CREATE TABLE IF NOT EXISTS messages\n",
        "                                (id INTEGER PRIMARY KEY AUTOINCREMENT,\n",
        "                                 sender TEXT,\n",
        "                                 message TEXT,\n",
        "                                 date TEXT)''')\n",
        "        self._conn.commit()\n",
        "\n",
        "    def __enter__(self):\n",
        "        return self._cursor\n",
        "\n",
        "    def __exit__(self, exc_type, exc_val, exc_tb):\n",
        "        self._conn.commit()\n",
        "        self._conn.close()\n",
        "\n",
        "# Обработчик команды /start\n",
        "@bot.message_handler(commands=['start'])\n",
        "def start_handler(message):\n",
        "    bot.reply_to(message, 'Привет! Я бот для хранения сообщений.')\n",
        "\n",
        "# Обработчик всех остальных сообщений\n",
        "@bot.message_handler(func=lambda message: True)\n",
        "def message_handler(message):\n",
        "    # Получаем информацию об отправителе и времени получения сообщения\n",
        "    sender = message.from_user.username\n",
        "    date = datetime.fromtimestamp(message.date).strftime('%Y-%m-%d %H:%M:%S')\n",
        "\n",
        "    # Сохраняем сообщение в базу данных\n",
        "    with Database() as cursor:\n",
        "        cursor.execute(\"INSERT INTO messages (sender, message, date) VALUES (?, ?, ?)\",\n",
        "                       (sender, message.text, date))\n",
        "\n",
        "    bot.reply_to(message, 'Сообщение сохранено!')\n",
        "\n",
        "# Запускаем бота\n",
        "bot.polling()"
      ]
    }
  ]
}