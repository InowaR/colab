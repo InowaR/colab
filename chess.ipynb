{
  "nbformat": 4,
  "nbformat_minor": 0,
  "metadata": {
    "colab": {
      "provenance": [],
      "authorship_tag": "ABX9TyMegY9cpUAq3mDPPNT0lX5U",
      "include_colab_link": true
    },
    "kernelspec": {
      "name": "python3",
      "display_name": "Python 3"
    },
    "language_info": {
      "name": "python"
    }
  },
  "cells": [
    {
      "cell_type": "markdown",
      "metadata": {
        "id": "view-in-github",
        "colab_type": "text"
      },
      "source": [
        "<a href=\"https://colab.research.google.com/github/InowaR/colab/blob/main/chess.ipynb\" target=\"_parent\"><img src=\"https://colab.research.google.com/assets/colab-badge.svg\" alt=\"Open In Colab\"/></a>"
      ]
    },
    {
      "cell_type": "code",
      "execution_count": 25,
      "metadata": {
        "colab": {
          "base_uri": "https://localhost:8080/"
        },
        "id": "wGpJU3UpBLW9",
        "outputId": "b8b5cbde-79d9-4e2c-a6b5-0265ba4b4b08"
      },
      "outputs": [
        {
          "output_type": "stream",
          "name": "stdout",
          "text": [
            "[[0. 0. 0. 0. 0. 0. 0. 0.]\n",
            " [0. 0. 0. 0. 0. 0. 0. 0.]\n",
            " [0. 0. 1. 0. 0. 0. 0. 0.]\n",
            " [0. 0. 0. 1. 0. 0. 0. 0.]\n",
            " [0. 0. 0. 0. 0. 0. 0. 0.]\n",
            " [0. 0. 0. 0. 0. 0. 0. 0.]\n",
            " [0. 0. 0. 0. 0. 0. 0. 0.]\n",
            " [0. 0. 0. 0. 0. 0. 0. 0.]]\n",
            "[[0. 0. 0. 0. 0. 0. 0. 0.]\n",
            " [0. 0. 0. 0. 0. 0. 0. 0.]\n",
            " [0. 0. 0. 0. 0. 0. 0. 0.]\n",
            " [0. 0. 0. 0. 0. 0. 0. 0.]\n",
            " [0. 0. 0. 0. 1. 0. 0. 0.]\n",
            " [0. 0. 0. 0. 0. 1. 0. 0.]\n",
            " [0. 0. 0. 0. 0. 0. 0. 0.]\n",
            " [0. 0. 0. 0. 0. 0. 0. 0.]]\n"
          ]
        }
      ],
      "source": [
        "import numpy as np\n",
        "\n",
        "class Board:\n",
        "  def __init__(self):\n",
        "    self.board = np.zeros((8,8))\n",
        "\n",
        "  def __str__(self):\n",
        "    return str(self.board)\n",
        "\n",
        "  def put_figure(self, x, y):\n",
        "    self.board[x][y] = 1\n",
        "\n",
        "  def rotate(self):\n",
        "    self.board = np.rot90(self.board, 2)\n",
        "\n",
        "\n",
        "class Figure:\n",
        "  def __init__(self, x, y):\n",
        "    self.__x = x\n",
        "    self.__y = y\n",
        "\n",
        "  @property\n",
        "  def x(self):\n",
        "    return self.__x\n",
        "\n",
        "  @x.setter\n",
        "  def x(self, x):\n",
        "    self.__x = x\n",
        "\n",
        "  @property\n",
        "  def y(self):\n",
        "    return self.__y\n",
        "\n",
        "  @y.setter\n",
        "  def y(self, y):\n",
        "    self.__y = y\n",
        "\n",
        "\n",
        "class Game:\n",
        "  def __init__(self):\n",
        "    self.board = Board()\n",
        "    self.figures = [Figure(2,2), Figure(3,3)]\n",
        "\n",
        "  def print_board(self):\n",
        "    print(self.board)\n",
        "\n",
        "  def start(self):\n",
        "    for f in self.figures:\n",
        "      self.board.put_figure(f.x, f.y)\n",
        "\n",
        "  def rotate(self):\n",
        "    self.board.rotate()\n",
        "\n",
        "\n",
        "\n",
        "\n",
        "\n",
        "game = Game()\n",
        "game.start()\n",
        "game.print_board()\n",
        "game.rotate()\n",
        "game.print_board()"
      ]
    }
  ]
}