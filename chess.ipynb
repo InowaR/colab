{
  "nbformat": 4,
  "nbformat_minor": 0,
  "metadata": {
    "colab": {
      "provenance": [],
      "authorship_tag": "ABX9TyNZQ8NO9e+PwZNRqdOGKJDp",
      "include_colab_link": true
    },
    "kernelspec": {
      "name": "python3",
      "display_name": "Python 3"
    },
    "language_info": {
      "name": "python"
    }
  },
  "cells": [
    {
      "cell_type": "markdown",
      "metadata": {
        "id": "view-in-github",
        "colab_type": "text"
      },
      "source": [
        "<a href=\"https://colab.research.google.com/github/InowaR/colab/blob/main/chess.ipynb\" target=\"_parent\"><img src=\"https://colab.research.google.com/assets/colab-badge.svg\" alt=\"Open In Colab\"/></a>"
      ]
    },
    {
      "cell_type": "code",
      "execution_count": 17,
      "metadata": {
        "colab": {
          "base_uri": "https://localhost:8080/"
        },
        "id": "wGpJU3UpBLW9",
        "outputId": "e5e8eda2-9def-47d6-b21c-c0bc5739eced"
      },
      "outputs": [
        {
          "output_type": "stream",
          "name": "stdout",
          "text": [
            "[[0. 0. 0. 0. 0. 0. 0. 0.]\n",
            " [0. 0. 0. 0. 0. 0. 0. 0.]\n",
            " [0. 1. 0. 0. 0. 0. 0. 0.]\n",
            " [0. 0. 0. 0. 0. 0. 0. 0.]\n",
            " [0. 0. 0. 0. 0. 0. 0. 0.]\n",
            " [0. 0. 0. 0. 0. 0. 0. 0.]\n",
            " [0. 0. 0. 0. 0. 0. 0. 0.]\n",
            " [0. 0. 0. 0. 0. 0. 0. 0.]]\n"
          ]
        }
      ],
      "source": [
        "import numpy as np\n",
        "\n",
        "class Board:\n",
        "  def __init__(self, rotation: int, x_old: int, y_old: int):\n",
        "    self.board = np.zeros((8,8))\n",
        "    self.rotation = rotation\n",
        "    self.x_old = x_old\n",
        "    self.y_old = y_old\n",
        "\n",
        "  def __str__(self):\n",
        "    return str(self.board)\n",
        "\n",
        "# x_new: int, y_new: int\n",
        "  def move(self):\n",
        "    self.board[2][1] = 1\n",
        "\n",
        "\n",
        "b = Board(0, 0, 0)\n",
        "b.move()\n",
        "print(b)"
      ]
    }
  ]
}