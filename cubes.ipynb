{
  "nbformat": 4,
  "nbformat_minor": 0,
  "metadata": {
    "colab": {
      "provenance": [],
      "authorship_tag": "ABX9TyOxRVCaqdQO/UCjf3KEqrnI",
      "include_colab_link": true
    },
    "kernelspec": {
      "name": "python3",
      "display_name": "Python 3"
    },
    "language_info": {
      "name": "python"
    }
  },
  "cells": [
    {
      "cell_type": "markdown",
      "metadata": {
        "id": "view-in-github",
        "colab_type": "text"
      },
      "source": [
        "<a href=\"https://colab.research.google.com/github/InowaR/colab/blob/main/cubes.ipynb\" target=\"_parent\"><img src=\"https://colab.research.google.com/assets/colab-badge.svg\" alt=\"Open In Colab\"/></a>"
      ]
    },
    {
      "cell_type": "code",
      "execution_count": 103,
      "metadata": {
        "colab": {
          "base_uri": "https://localhost:8080/"
        },
        "id": "8G_kfvQuJ-DJ",
        "outputId": "4a6df0cb-1949-4565-de78-6310b27a7475"
      },
      "outputs": [
        {
          "output_type": "stream",
          "name": "stdout",
          "text": [
            "0.1\n",
            "0.11\n",
            "0.027777777777777776\n"
          ]
        }
      ],
      "source": [
        "import random\n",
        "\n",
        "generator1 = lambda: random.randint(1, 6)\n",
        "generator2 = lambda: random.randint(1, 6)\n",
        "\n",
        "counts_33 = [sum(1 for _ in range(100) if (generator1(), generator2()) == (3, 3)) for _ in range(10000)]\n",
        "print(max(counts_33) / 100)\n",
        "\n",
        "counts_61 = [sum(1 for _ in range(100) if (generator1(), generator2()) == (6, 1)) for _ in range(10000)]\n",
        "print(max(counts_61) / 100)\n",
        "\n",
        "print(1.0 / 36.0)"
      ]
    }
  ]
}