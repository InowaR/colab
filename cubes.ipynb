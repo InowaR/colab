{
  "nbformat": 4,
  "nbformat_minor": 0,
  "metadata": {
    "colab": {
      "provenance": [],
      "authorship_tag": "ABX9TyP7piraEN1k+bURZZ0Tf+Ux",
      "include_colab_link": true
    },
    "kernelspec": {
      "name": "python3",
      "display_name": "Python 3"
    },
    "language_info": {
      "name": "python"
    }
  },
  "cells": [
    {
      "cell_type": "markdown",
      "metadata": {
        "id": "view-in-github",
        "colab_type": "text"
      },
      "source": [
        "<a href=\"https://colab.research.google.com/github/InowaR/colab/blob/main/cubes.ipynb\" target=\"_parent\"><img src=\"https://colab.research.google.com/assets/colab-badge.svg\" alt=\"Open In Colab\"/></a>"
      ]
    },
    {
      "cell_type": "code",
      "execution_count": 106,
      "metadata": {
        "colab": {
          "base_uri": "https://localhost:8080/"
        },
        "id": "8G_kfvQuJ-DJ",
        "outputId": "59015557-cc7e-4c0f-88fe-cad3f07d8057"
      },
      "outputs": [
        {
          "output_type": "stream",
          "name": "stdout",
          "text": [
            "0.11\n",
            "0.13\n",
            "0.16666666666666666\n"
          ]
        }
      ],
      "source": [
        "import random\n",
        "\n",
        "generator1 = lambda: random.randint(1, 6)\n",
        "generator2 = lambda: random.randint(1, 6)\n",
        "\n",
        "counts_33 = [sum(1 for _ in range(100) if (generator1(), generator2()) == (3, 3)) for _ in range(15000)]\n",
        "print(max(counts_33) / 100)\n",
        "\n",
        "counts_61 = [sum(1 for _ in range(100) if (generator1(), generator2()) == (6, 1)) for _ in range(15000)]\n",
        "print(max(counts_61) / 100)\n",
        "\n",
        "print(6.0 / 36.0)"
      ]
    }
  ]
}