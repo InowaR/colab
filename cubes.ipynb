{
  "nbformat": 4,
  "nbformat_minor": 0,
  "metadata": {
    "colab": {
      "provenance": [],
      "authorship_tag": "ABX9TyNDfMy+ssZ+Le8Mv9aQ3MNw",
      "include_colab_link": true
    },
    "kernelspec": {
      "name": "python3",
      "display_name": "Python 3"
    },
    "language_info": {
      "name": "python"
    }
  },
  "cells": [
    {
      "cell_type": "markdown",
      "metadata": {
        "id": "view-in-github",
        "colab_type": "text"
      },
      "source": [
        "<a href=\"https://colab.research.google.com/github/InowaR/colab/blob/main/cubes.ipynb\" target=\"_parent\"><img src=\"https://colab.research.google.com/assets/colab-badge.svg\" alt=\"Open In Colab\"/></a>"
      ]
    },
    {
      "cell_type": "code",
      "execution_count": 109,
      "metadata": {
        "colab": {
          "base_uri": "https://localhost:8080/"
        },
        "id": "8G_kfvQuJ-DJ",
        "outputId": "cc863965-ca50-4ab8-f837-a95ab940ed62"
      },
      "outputs": [
        {
          "output_type": "stream",
          "name": "stdout",
          "text": [
            "0.02783\n",
            "0.027560666666666667\n",
            "0.027777777777777776\n"
          ]
        }
      ],
      "source": [
        "import random\n",
        "import numpy as np\n",
        "\n",
        "generator1 = lambda: random.randint(1, 6)\n",
        "generator2 = lambda: random.randint(1, 6)\n",
        "\n",
        "counts_33 = [sum(1 for _ in range(100) if (generator1(), generator2()) == (3, 3)) for _ in range(15000)]\n",
        "print(np.mean(counts_33) / 100)\n",
        "\n",
        "counts_61 = [sum(1 for _ in range(100) if (generator1(), generator2()) == (6, 1)) for _ in range(15000)]\n",
        "print(np.mean(counts_61) / 100)\n",
        "\n",
        "print(1.0 / 36.0)"
      ]
    }
  ]
}