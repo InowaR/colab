{
  "nbformat": 4,
  "nbformat_minor": 0,
  "metadata": {
    "colab": {
      "provenance": [],
      "authorship_tag": "ABX9TyM70i3pry2K0EubmcdbxFGt",
      "include_colab_link": true
    },
    "kernelspec": {
      "name": "python3",
      "display_name": "Python 3"
    },
    "language_info": {
      "name": "python"
    }
  },
  "cells": [
    {
      "cell_type": "markdown",
      "metadata": {
        "id": "view-in-github",
        "colab_type": "text"
      },
      "source": [
        "<a href=\"https://colab.research.google.com/github/InowaR/colab/blob/main/LSTM_binary_data.ipynb\" target=\"_parent\"><img src=\"https://colab.research.google.com/assets/colab-badge.svg\" alt=\"Open In Colab\"/></a>"
      ]
    },
    {
      "cell_type": "code",
      "execution_count": null,
      "metadata": {
        "id": "A6RzvTyk2asN"
      },
      "outputs": [],
      "source": [
        "# import numpy as np\n",
        "# from tensorflow.keras.models import Sequential\n",
        "# from tensorflow.keras.layers import LSTM, Dense\n",
        "\n",
        "# # Функция для преобразования числа в бинарный вид\n",
        "# def int_to_binary_array(n, length):\n",
        "#     return np.array(list(np.binary_repr(n).zfill(length)), dtype=int)\n",
        "\n",
        "# # Генерация данных\n",
        "# def generate_data(num_samples, max_value):\n",
        "#     X = []\n",
        "#     y = []\n",
        "#     for i in range(num_samples):\n",
        "#         value = np.random.randint(0, max_value)\n",
        "#         X.append(int_to_binary_array(value, 5))  # Преобразуем число в бинарный массив\n",
        "#         y.append(int_to_binary_array(value + 1, 5))  # Преобразуем число + 1 в бинарный массив\n",
        "#     return np.array(X), np.array(y)\n",
        "\n",
        "# # Генерируем обучающие данные\n",
        "# X, y = generate_data(10000, 30)\n",
        "\n",
        "# # Изменяем форму входных данных для RNN\n",
        "# X = X.reshape((X.shape[0], X.shape[1], 1))\n",
        "\n",
        "# # Создание модели\n",
        "# model = Sequential()\n",
        "# model.add(LSTM(10, input_shape=(X.shape[1], 1), return_sequences=False))  # LSTM слой\n",
        "# model.add(Dense(5, activation='sigmoid'))  # Выходной слой с сигмоидальной активацией\n",
        "\n",
        "# # Компиляция модели\n",
        "# model.compile(loss='mean_squared_error', optimizer='adam')\n",
        "\n",
        "# # Обучение модели с валидационной выборкой\n",
        "# model.fit(X, y, epochs=100, verbose=1, validation_split=0.2)  # Используем 20% данных для валидации\n",
        "\n",
        "# # Тестирование модели\n",
        "# test_data = np.array([[0, 0, 0, 0, 0],   # Это должно вернуть [0, 0, 0, 0, 1]\n",
        "#                       [0, 0, 0, 0, 1],   # Это должно вернуть [0, 0, 0, 1, 0]\n",
        "#                       [0, 0, 0, 1, 0]])  # Это должно вернуть [0, 0, 0, 1, 1]\n",
        "\n",
        "# # Преобразуем тестовые данные\n",
        "# test_data = test_data.reshape((test_data.shape[0], test_data.shape[1], 1))\n",
        "\n",
        "# predictions = model.predict(test_data)\n",
        "# predictions_rounded = np.round(predictions).astype(int)\n",
        "\n",
        "# print(predictions_rounded)\n"
      ]
    },
    {
      "cell_type": "code",
      "source": [
        "import numpy as np\n",
        "from keras import models, layers\n",
        "\n",
        "\n",
        "def int_to_binary_array(n, length):\n",
        "    return np.array(list(np.binary_repr(n).zfill(length)), dtype=int)\n",
        "\n",
        "\n",
        "def generate_data(num_samples, max_value):\n",
        "    X = []\n",
        "    y = []\n",
        "    for i in range(num_samples):\n",
        "        value = np.random.randint(1, max_value)\n",
        "        X.append(int_to_binary_array(value, 8))\n",
        "        y.append(int_to_binary_array(value + 1, 8))\n",
        "    return np.array(X), np.array(y)\n",
        "\n",
        "\n",
        "X, y = generate_data(10000, 255)\n",
        "X = X.reshape((X.shape[0], X.shape[1], 1))\n",
        "\n",
        "\n",
        "model = models.Sequential()\n",
        "model.add(layers.Input(shape=(X.shape[1], 1)))\n",
        "model.add(layers.LSTM(50, return_sequences=False))\n",
        "model.add(layers.Dense(8, activation='sigmoid'))\n",
        "\n",
        "\n",
        "model.compile(loss='mean_squared_error', optimizer='adam')\n",
        "\n",
        "model.fit(X, y, epochs=20, verbose=1, validation_split=0.2)\n",
        "\n",
        "model.save('model.keras')\n"
      ],
      "metadata": {
        "colab": {
          "base_uri": "https://localhost:8080/"
        },
        "id": "YJUAr3vr2e77",
        "outputId": "2ef923fa-5534-482a-fff4-0fc828e61f65"
      },
      "execution_count": 76,
      "outputs": [
        {
          "output_type": "stream",
          "name": "stdout",
          "text": [
            "Epoch 1/20\n",
            "\u001b[1m250/250\u001b[0m \u001b[32m━━━━━━━━━━━━━━━━━━━━\u001b[0m\u001b[37m\u001b[0m \u001b[1m5s\u001b[0m 7ms/step - loss: 0.2323 - val_loss: 0.1645\n",
            "Epoch 2/20\n",
            "\u001b[1m250/250\u001b[0m \u001b[32m━━━━━━━━━━━━━━━━━━━━\u001b[0m\u001b[37m\u001b[0m \u001b[1m2s\u001b[0m 6ms/step - loss: 0.1562 - val_loss: 0.1295\n",
            "Epoch 3/20\n",
            "\u001b[1m250/250\u001b[0m \u001b[32m━━━━━━━━━━━━━━━━━━━━\u001b[0m\u001b[37m\u001b[0m \u001b[1m2s\u001b[0m 6ms/step - loss: 0.1232 - val_loss: 0.1098\n",
            "Epoch 4/20\n",
            "\u001b[1m250/250\u001b[0m \u001b[32m━━━━━━━━━━━━━━━━━━━━\u001b[0m\u001b[37m\u001b[0m \u001b[1m2s\u001b[0m 6ms/step - loss: 0.1058 - val_loss: 0.0944\n",
            "Epoch 5/20\n",
            "\u001b[1m250/250\u001b[0m \u001b[32m━━━━━━━━━━━━━━━━━━━━\u001b[0m\u001b[37m\u001b[0m \u001b[1m3s\u001b[0m 8ms/step - loss: 0.0877 - val_loss: 0.0779\n",
            "Epoch 6/20\n",
            "\u001b[1m250/250\u001b[0m \u001b[32m━━━━━━━━━━━━━━━━━━━━\u001b[0m\u001b[37m\u001b[0m \u001b[1m2s\u001b[0m 9ms/step - loss: 0.0762 - val_loss: 0.0678\n",
            "Epoch 7/20\n",
            "\u001b[1m250/250\u001b[0m \u001b[32m━━━━━━━━━━━━━━━━━━━━\u001b[0m\u001b[37m\u001b[0m \u001b[1m1s\u001b[0m 6ms/step - loss: 0.0636 - val_loss: 0.0576\n",
            "Epoch 8/20\n",
            "\u001b[1m250/250\u001b[0m \u001b[32m━━━━━━━━━━━━━━━━━━━━\u001b[0m\u001b[37m\u001b[0m \u001b[1m2s\u001b[0m 6ms/step - loss: 0.0538 - val_loss: 0.0482\n",
            "Epoch 9/20\n",
            "\u001b[1m250/250\u001b[0m \u001b[32m━━━━━━━━━━━━━━━━━━━━\u001b[0m\u001b[37m\u001b[0m \u001b[1m2s\u001b[0m 6ms/step - loss: 0.0450 - val_loss: 0.0392\n",
            "Epoch 10/20\n",
            "\u001b[1m250/250\u001b[0m \u001b[32m━━━━━━━━━━━━━━━━━━━━\u001b[0m\u001b[37m\u001b[0m \u001b[1m3s\u001b[0m 7ms/step - loss: 0.0367 - val_loss: 0.0314\n",
            "Epoch 11/20\n",
            "\u001b[1m250/250\u001b[0m \u001b[32m━━━━━━━━━━━━━━━━━━━━\u001b[0m\u001b[37m\u001b[0m \u001b[1m2s\u001b[0m 6ms/step - loss: 0.0303 - val_loss: 0.0262\n",
            "Epoch 12/20\n",
            "\u001b[1m250/250\u001b[0m \u001b[32m━━━━━━━━━━━━━━━━━━━━\u001b[0m\u001b[37m\u001b[0m \u001b[1m2s\u001b[0m 8ms/step - loss: 0.0243 - val_loss: 0.0215\n",
            "Epoch 13/20\n",
            "\u001b[1m250/250\u001b[0m \u001b[32m━━━━━━━━━━━━━━━━━━━━\u001b[0m\u001b[37m\u001b[0m \u001b[1m2s\u001b[0m 9ms/step - loss: 0.0193 - val_loss: 0.0175\n",
            "Epoch 14/20\n",
            "\u001b[1m250/250\u001b[0m \u001b[32m━━━━━━━━━━━━━━━━━━━━\u001b[0m\u001b[37m\u001b[0m \u001b[1m1s\u001b[0m 6ms/step - loss: 0.0161 - val_loss: 0.0147\n",
            "Epoch 15/20\n",
            "\u001b[1m250/250\u001b[0m \u001b[32m━━━━━━━━━━━━━━━━━━━━\u001b[0m\u001b[37m\u001b[0m \u001b[1m2s\u001b[0m 7ms/step - loss: 0.0132 - val_loss: 0.0125\n",
            "Epoch 16/20\n",
            "\u001b[1m250/250\u001b[0m \u001b[32m━━━━━━━━━━━━━━━━━━━━\u001b[0m\u001b[37m\u001b[0m \u001b[1m2s\u001b[0m 6ms/step - loss: 0.0105 - val_loss: 0.0110\n",
            "Epoch 17/20\n",
            "\u001b[1m250/250\u001b[0m \u001b[32m━━━━━━━━━━━━━━━━━━━━\u001b[0m\u001b[37m\u001b[0m \u001b[1m3s\u001b[0m 6ms/step - loss: 0.0104 - val_loss: 0.0100\n",
            "Epoch 18/20\n",
            "\u001b[1m250/250\u001b[0m \u001b[32m━━━━━━━━━━━━━━━━━━━━\u001b[0m\u001b[37m\u001b[0m \u001b[1m1s\u001b[0m 6ms/step - loss: 0.0099 - val_loss: 0.0092\n",
            "Epoch 19/20\n",
            "\u001b[1m250/250\u001b[0m \u001b[32m━━━━━━━━━━━━━━━━━━━━\u001b[0m\u001b[37m\u001b[0m \u001b[1m2s\u001b[0m 9ms/step - loss: 0.0086 - val_loss: 0.0085\n",
            "Epoch 20/20\n",
            "\u001b[1m250/250\u001b[0m \u001b[32m━━━━━━━━━━━━━━━━━━━━\u001b[0m\u001b[37m\u001b[0m \u001b[1m2s\u001b[0m 7ms/step - loss: 0.0083 - val_loss: 0.0080\n"
          ]
        }
      ]
    },
    {
      "cell_type": "code",
      "source": [
        "model = models.load_model('model.keras')\n",
        "\n",
        "test_data = np.array([[1] * 8])\n",
        "\n",
        "test_data[0][3] = 0\n",
        "print(test_data)\n",
        "\n",
        "test_data = test_data.reshape((test_data.shape[0], test_data.shape[1], 1))\n",
        "\n",
        "predictions = model.predict(test_data)\n",
        "predictions_rounded = np.round(predictions).astype(int)\n",
        "\n",
        "print(predictions_rounded)\n"
      ],
      "metadata": {
        "colab": {
          "base_uri": "https://localhost:8080/"
        },
        "id": "ZQE8BwgO47ja",
        "outputId": "e9c00c09-30a3-48ec-b389-17e7ea5af69b"
      },
      "execution_count": 84,
      "outputs": [
        {
          "output_type": "stream",
          "name": "stdout",
          "text": [
            "[[1 1 1 0 1 1 1 1]]\n",
            "\u001b[1m1/1\u001b[0m \u001b[32m━━━━━━━━━━━━━━━━━━━━\u001b[0m\u001b[37m\u001b[0m \u001b[1m0s\u001b[0m 204ms/step\n",
            "[[1 1 1 1 0 0 0 0]]\n"
          ]
        }
      ]
    }
  ]
}