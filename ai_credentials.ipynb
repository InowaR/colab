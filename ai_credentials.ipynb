{
  "nbformat": 4,
  "nbformat_minor": 0,
  "metadata": {
    "colab": {
      "provenance": [],
      "authorship_tag": "ABX9TyOOairgzfB8hC7gNYByNA1q",
      "include_colab_link": true
    },
    "kernelspec": {
      "name": "python3",
      "display_name": "Python 3"
    },
    "language_info": {
      "name": "python"
    }
  },
  "cells": [
    {
      "cell_type": "markdown",
      "metadata": {
        "id": "view-in-github",
        "colab_type": "text"
      },
      "source": [
        "<a href=\"https://colab.research.google.com/github/InowaR/colab/blob/main/ai_credentials.ipynb\" target=\"_parent\"><img src=\"https://colab.research.google.com/assets/colab-badge.svg\" alt=\"Open In Colab\"/></a>"
      ]
    },
    {
      "cell_type": "code",
      "source": [
        "# https://console.cloud.google.com/apis/credentials\n",
        "# create a new key in json format, upload a json file here"
      ],
      "metadata": {
        "id": "J8m95ZxBxa2M"
      },
      "execution_count": 1,
      "outputs": []
    },
    {
      "cell_type": "code",
      "source": [
        "import vertexai\n",
        "from vertexai.generative_models import GenerativeModel\n",
        "from google.colab import userdata\n",
        "import os\n",
        "\n",
        "\n",
        "os.environ['GOOGLE_APPLICATION_CREDENTIALS'] = userdata.get('GOOGLE_APPLICATION_CREDENTIALS_JSON')\n",
        "PROJECT_ID = userdata.get('PROJECT_ID')\n",
        "LOCATION = userdata.get('LOCATION')\n",
        "\n",
        "\n",
        "vertexai.init(project=PROJECT_ID, location=LOCATION)\n",
        "model = GenerativeModel(\"gemini-1.0-pro\")\n",
        "\n",
        "chat = model.start_chat(history=[])\n",
        "\n",
        "def send_data(prompt):\n",
        "    response = chat.send_message(prompt)\n",
        "    return response.text\n",
        "\n",
        "send_data('hi')"
      ],
      "metadata": {
        "id": "_IqP4I0dfL5u",
        "outputId": "f61aa5e2-0cdf-4975-ac0b-6700c7c03426",
        "colab": {
          "base_uri": "https://localhost:8080/",
          "height": 35
        }
      },
      "execution_count": 3,
      "outputs": [
        {
          "output_type": "execute_result",
          "data": {
            "text/plain": [
              "\"Hello! 👋 It's nice to meet you. 😊\\n\\nWhat would you like to talk about today? 🤔\""
            ],
            "application/vnd.google.colaboratory.intrinsic+json": {
              "type": "string"
            }
          },
          "metadata": {},
          "execution_count": 3
        }
      ]
    },
    {
      "cell_type": "code",
      "source": [
        "print(chat.history)"
      ],
      "metadata": {
        "id": "F6b4r9asDvhP",
        "outputId": "15ccd1c0-ffa5-446b-e9ba-91ca666d63ca",
        "colab": {
          "base_uri": "https://localhost:8080/"
        }
      },
      "execution_count": 4,
      "outputs": [
        {
          "output_type": "stream",
          "name": "stdout",
          "text": [
            "[role: \"user\"\n",
            "parts {\n",
            "  text: \"hi\"\n",
            "}\n",
            ", role: \"model\"\n",
            "parts {\n",
            "  text: \"Hello! \\360\\237\\221\\213 It\\'s nice to meet you. \\360\\237\\230\\212\\n\\nWhat would you like to talk about today? \\360\\237\\244\\224\"\n",
            "}\n",
            "]\n"
          ]
        }
      ]
    }
  ]
}