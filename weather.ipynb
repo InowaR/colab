{
  "nbformat": 4,
  "nbformat_minor": 0,
  "metadata": {
    "colab": {
      "provenance": [],
      "authorship_tag": "ABX9TyM5xNMpu6afB3V85fnS2zeh",
      "include_colab_link": true
    },
    "kernelspec": {
      "name": "python3",
      "display_name": "Python 3"
    },
    "language_info": {
      "name": "python"
    }
  },
  "cells": [
    {
      "cell_type": "markdown",
      "metadata": {
        "id": "view-in-github",
        "colab_type": "text"
      },
      "source": [
        "<a href=\"https://colab.research.google.com/github/InowaR/colab/blob/main/weather.ipynb\" target=\"_parent\"><img src=\"https://colab.research.google.com/assets/colab-badge.svg\" alt=\"Open In Colab\"/></a>"
      ]
    },
    {
      "cell_type": "code",
      "execution_count": 2,
      "metadata": {
        "colab": {
          "base_uri": "https://localhost:8080/"
        },
        "id": "3QxmeVJwuyxi",
        "outputId": "fc6654f3-9bc3-48e3-eb68-4786f8c2c9d6"
      },
      "outputs": [
        {
          "output_type": "stream",
          "name": "stdout",
          "text": [
            "Pyatigorsk, 6.29 ℃, overcast clouds\n"
          ]
        }
      ],
      "source": [
        "import requests\n",
        "latitude = 44.0486\n",
        "longtitude = 43.0594\n",
        "key = \"859babe04b3085ce5d5fc2539f283d2b\"\n",
        "url = f\"https://api.openweathermap.org/data/2.5/weather?lat={latitude}&lon={longtitude}&appid={key}&units=metric\"\n",
        "response = requests.get(url)\n",
        "data = response.json()\n",
        "if data[\"cod\"] != \"404\":\n",
        "  city = data[\"name\"]\n",
        "  temperature = data[\"main\"]\n",
        "  current_temperature = temperature[\"temp\"]\n",
        "  description = data[\"weather\"]\n",
        "  weather_description = description[0][\"description\"]\n",
        "print(f\"{city}, {current_temperature} ℃, {weather_description}\")\n"
      ]
    }
  ]
}