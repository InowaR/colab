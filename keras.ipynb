{
  "nbformat": 4,
  "nbformat_minor": 0,
  "metadata": {
    "colab": {
      "provenance": [],
      "authorship_tag": "ABX9TyPmU9gcYGsObLTfaZYZ3SGi",
      "include_colab_link": true
    },
    "kernelspec": {
      "name": "python3",
      "display_name": "Python 3"
    },
    "language_info": {
      "name": "python"
    }
  },
  "cells": [
    {
      "cell_type": "markdown",
      "metadata": {
        "id": "view-in-github",
        "colab_type": "text"
      },
      "source": [
        "<a href=\"https://colab.research.google.com/github/InowaR/colab/blob/main/keras.ipynb\" target=\"_parent\"><img src=\"https://colab.research.google.com/assets/colab-badge.svg\" alt=\"Open In Colab\"/></a>"
      ]
    },
    {
      "cell_type": "code",
      "execution_count": 21,
      "metadata": {
        "colab": {
          "base_uri": "https://localhost:8080/"
        },
        "id": "tChLSHj4d1og",
        "outputId": "ca06ef6e-8127-466a-821e-dfba525c8590"
      },
      "outputs": [
        {
          "output_type": "stream",
          "name": "stdout",
          "text": [
            "100/100 - 3s - loss: 0.7075 - accuracy: 0.1600 - 3s/epoch - 30ms/step\n",
            "4/4 [==============================] - 0s 4ms/step\n"
          ]
        }
      ],
      "source": [
        "import numpy as np\n",
        "from keras.models import Sequential\n",
        "from keras.layers import LSTM, Dense\n",
        "\n",
        "time_series = 100\n",
        "lstm_modules = 4\n",
        "\n",
        "X = np.random.random((time_series, 10, 10))   # карта 10x10\n",
        "Y = np.random.random((time_series, 4))        # предсказание перемещения\n",
        "\n",
        "model = Sequential()\n",
        "model.add(LSTM(lstm_modules, input_shape=(10, 10)))\n",
        "model.add(Dense(4, activation='sigmoid'))\n",
        "model.compile(loss='binary_crossentropy', optimizer='adam', metrics=['accuracy'])\n",
        "model.fit(X, Y, epochs=1, batch_size=1, verbose=2)\n",
        "output = model.predict(X)"
      ]
    }
  ]
}