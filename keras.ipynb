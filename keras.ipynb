{
  "nbformat": 4,
  "nbformat_minor": 0,
  "metadata": {
    "colab": {
      "provenance": [],
      "authorship_tag": "ABX9TyMvbSFaWKpIIA7LsIVNEbD6",
      "include_colab_link": true
    },
    "kernelspec": {
      "name": "python3",
      "display_name": "Python 3"
    },
    "language_info": {
      "name": "python"
    }
  },
  "cells": [
    {
      "cell_type": "markdown",
      "metadata": {
        "id": "view-in-github",
        "colab_type": "text"
      },
      "source": [
        "<a href=\"https://colab.research.google.com/github/InowaR/colab/blob/main/keras.ipynb\" target=\"_parent\"><img src=\"https://colab.research.google.com/assets/colab-badge.svg\" alt=\"Open In Colab\"/></a>"
      ]
    },
    {
      "cell_type": "code",
      "execution_count": 2,
      "metadata": {
        "colab": {
          "base_uri": "https://localhost:8080/"
        },
        "id": "tChLSHj4d1og",
        "outputId": "ae6517d9-083e-4e3a-9cce-fa329d142171"
      },
      "outputs": [
        {
          "output_type": "stream",
          "name": "stdout",
          "text": [
            "10/10 - 2s - loss: 0.7339 - accuracy: 0.0000e+00 - 2s/epoch - 185ms/step\n",
            "1/1 [==============================] - 0s 415ms/step\n",
            "[[0.55881   ]\n",
            " [0.55103976]\n",
            " [0.556046  ]\n",
            " [0.5465341 ]\n",
            " [0.5406999 ]\n",
            " [0.53221387]\n",
            " [0.5329684 ]\n",
            " [0.53724366]\n",
            " [0.52682716]\n",
            " [0.5456098 ]]\n"
          ]
        }
      ],
      "source": [
        "import numpy as np\n",
        "from keras.models import Sequential\n",
        "from keras.layers import LSTM, Dense\n",
        "\n",
        "# Генерируем случайный входной массив с формой (образцы, временные отметки, признаки)\n",
        "X = np.random.random((10, 5, 2))\n",
        "\n",
        "# Создаем модель LSTM\n",
        "model = Sequential()\n",
        "model.add(LSTM(4, input_shape=(5, 2)))\n",
        "model.add(Dense(1, activation='sigmoid'))\n",
        "\n",
        "# Компилируем модель\n",
        "model.compile(loss='binary_crossentropy', optimizer='adam', metrics=['accuracy'])\n",
        "\n",
        "# Обучаем модель на входных данных X\n",
        "model.fit(X, np.random.random((10, 1)), epochs=1, batch_size=1, verbose=2)\n",
        "\n",
        "# Получаем выходные данные модели и выводим их на экран\n",
        "output = model.predict(X)\n",
        "print(output)"
      ]
    }
  ]
}