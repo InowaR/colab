{
  "nbformat": 4,
  "nbformat_minor": 0,
  "metadata": {
    "colab": {
      "provenance": [],
      "authorship_tag": "ABX9TyO5Kq3+JOFlcHJ/qUVkVOYo",
      "include_colab_link": true
    },
    "kernelspec": {
      "name": "python3",
      "display_name": "Python 3"
    },
    "language_info": {
      "name": "python"
    }
  },
  "cells": [
    {
      "cell_type": "markdown",
      "metadata": {
        "id": "view-in-github",
        "colab_type": "text"
      },
      "source": [
        "<a href=\"https://colab.research.google.com/github/InowaR/colab/blob/main/gradient_descent_comparison.ipynb\" target=\"_parent\"><img src=\"https://colab.research.google.com/assets/colab-badge.svg\" alt=\"Open In Colab\"/></a>"
      ]
    },
    {
      "cell_type": "code",
      "source": [
        "import numpy as np\n",
        "\n",
        "def diff(func, x, dx=0.001):\n",
        "    return (func(x + dx) - func(x)) / dx\n",
        "\n",
        "X, y = np.array([1, 2, 3, 4]), np.array([1, 4, 9, 16])\n",
        "a, b, c, lr = 0, 0, 0, 0.01\n",
        "\n",
        "for _ in range(1000):\n",
        "    loss_a = lambda a_val: np.mean((a_val*X**2 + b*X + c - y)**2)\n",
        "    loss_b = lambda b_val: np.mean((a*X**2 + b_val*X + c - y)**2)\n",
        "    loss_c = lambda c_val: np.mean((a*X**2 + b*X + c_val - y)**2)\n",
        "\n",
        "    a -= lr * diff(loss_a, a)\n",
        "    b -= lr * diff(loss_b, b)\n",
        "    c -= lr * diff(loss_c, c)\n",
        "\n",
        "print(f\"y = {a:.6f}x² + {b:.6f}x + {c:.6f}\")"
      ],
      "metadata": {
        "colab": {
          "base_uri": "https://localhost:8080/"
        },
        "id": "hYaJxWwMfHqt",
        "outputId": "d394237d-4c9d-497b-bbdd-7a918a128d0f"
      },
      "execution_count": 9,
      "outputs": [
        {
          "output_type": "stream",
          "name": "stdout",
          "text": [
            "y = 0.997714x² + 0.002098x + 0.014143\n"
          ]
        }
      ]
    },
    {
      "cell_type": "code",
      "source": [
        "import numpy as np\n",
        "\n",
        "X, y = np.array([1, 2, 3, 4]), np.array([1, 4, 9, 16])\n",
        "a, b, c, lr = 0, 0, 0, 0.01\n",
        "\n",
        "for _ in range(1000):\n",
        "    y_pred = a*X**2 + b*X + c\n",
        "    error = y_pred - y\n",
        "    a -= lr * np.mean(2 * error * X**2)\n",
        "    b -= lr * np.mean(2 * error * X)\n",
        "    c -= lr * np.mean(2 * error)\n",
        "\n",
        "print(f\"y = {a:.6f}x² + {b:.6f}x + {c:.6f}\")"
      ],
      "metadata": {
        "colab": {
          "base_uri": "https://localhost:8080/"
        },
        "id": "oH6C35sSfKvE",
        "outputId": "81540866-fc2a-41be-8946-e8060d86141e"
      },
      "execution_count": 10,
      "outputs": [
        {
          "output_type": "stream",
          "name": "stdout",
          "text": [
            "y = 0.988789x² + 0.059199x + -0.065071\n"
          ]
        }
      ]
    }
  ]
}