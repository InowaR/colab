{
  "nbformat": 4,
  "nbformat_minor": 0,
  "metadata": {
    "colab": {
      "provenance": [],
      "authorship_tag": "ABX9TyMka3XFtcoIldC5tUI1sCID",
      "include_colab_link": true
    },
    "kernelspec": {
      "name": "python3",
      "display_name": "Python 3"
    },
    "language_info": {
      "name": "python"
    }
  },
  "cells": [
    {
      "cell_type": "markdown",
      "metadata": {
        "id": "view-in-github",
        "colab_type": "text"
      },
      "source": [
        "<a href=\"https://colab.research.google.com/github/InowaR/colab/blob/main/gradient_descent_comparison.ipynb\" target=\"_parent\"><img src=\"https://colab.research.google.com/assets/colab-badge.svg\" alt=\"Open In Colab\"/></a>"
      ]
    },
    {
      "cell_type": "code",
      "source": [
        "import numpy as np\n",
        "\n",
        "def diff(func, x, dx=0.001):\n",
        "    return (func(x + dx) - func(x)) / dx\n",
        "\n",
        "# Данные\n",
        "X, y = np.array([1, 2, 3, 4]), np.array([1, 4, 9, 16])\n",
        "a, b, lr = 0, 0, 0.01\n",
        "\n",
        "# Функции потерь с явной передачей параметров\n",
        "def create_loss_a(b_val, X, y):\n",
        "    return lambda a_val: np.mean((a_val*X**2 + b_val*X - y)**2)\n",
        "\n",
        "def create_loss_b(a_val, X, y):\n",
        "    return lambda b_val: np.mean((a_val*X**2 + b_val*X - y)**2)\n",
        "\n",
        "# История потерь для анализа\n",
        "loss_history = []\n",
        "\n",
        "for i in range(1000):\n",
        "    # Создаем функции потерь с текущими параметрами\n",
        "    loss_a_func = create_loss_a(b, X, y)\n",
        "    loss_b_func = create_loss_b(a, X, y)\n",
        "\n",
        "    # Вычисляем градиенты\n",
        "    grad_a = diff(loss_a_func, a)\n",
        "    grad_b = diff(loss_b_func, b)\n",
        "\n",
        "    # Обновляем параметры\n",
        "    a -= lr * grad_a\n",
        "    b -= lr * grad_b\n",
        "\n",
        "    # Сохраняем ошибку\n",
        "    current_loss = np.mean((a*X**2 + b*X - y)**2)\n",
        "    loss_history.append(current_loss)\n",
        "\n",
        "    # Вывод прогресса\n",
        "    if i % 200 == 0:\n",
        "        print(f\"Итерация {i}: a={a:.6f}, b={b:.6f}, loss={current_loss:.6f}\")\n",
        "\n",
        "print(f\"\\nРезультат: y = {a:.6f}x² + {b:.6f}x\")\n",
        "print(f\"Финальная ошибка: {loss_history[-1]:.10f}\")\n",
        "\n",
        "# Проверка на тестовых точках\n",
        "print(\"\\nПредсказания:\")\n",
        "test_points = [5, 0, -1, 2.5]\n",
        "for x in test_points:\n",
        "    y_pred = a*x**2 + b*x\n",
        "    y_ideal = x**2\n",
        "    error = abs(y_pred - y_ideal)\n",
        "    print(f\"x = {x}: y_pred = {y_pred:.6f}, y_ideal = {y_ideal}, ошибка = {error:.6f}\")\n",
        "\n",
        "# Проверка сходимости к правильному решению\n",
        "print(f\"\\nПроверка сходимости:\")\n",
        "print(f\"Найденные коэффициенты: a ≈ {a:.6f}, b ≈ {b:.6f}\")\n",
        "print(f\"Ожидаемые коэффициенты: a = 1.000000, b = 0.000000\")\n",
        "print(f\"Точность: Δa = {abs(1 - a):.6f}, Δb = {abs(0 - b):.6f}\")"
      ],
      "metadata": {
        "colab": {
          "base_uri": "https://localhost:8080/"
        },
        "id": "hYaJxWwMfHqt",
        "outputId": "4aa12572-78f0-4093-e628-36c2e26591e5"
      },
      "execution_count": 7,
      "outputs": [
        {
          "output_type": "stream",
          "name": "stdout",
          "text": [
            "Итерация 0: a=1.769115, b=0.499925, loss=73.450531\n",
            "Итерация 200: a=0.980453, b=0.067209, loss=0.002006\n",
            "Итерация 400: a=0.991224, b=0.029255, loss=0.000398\n",
            "Итерация 600: a=0.993338, b=0.021804, loss=0.000230\n",
            "Итерация 800: a=0.993753, b=0.020341, loss=0.000203\n",
            "\n",
            "Результат: y = 0.993835x² + 0.020055x\n",
            "Финальная ошибка: 0.0001982317\n",
            "\n",
            "Предсказания:\n",
            "x = 5: y_pred = 24.946142, y_ideal = 25, ошибка = 0.053858\n",
            "x = 0: y_pred = 0.000000, y_ideal = 0, ошибка = 0.000000\n",
            "x = -1: y_pred = 0.973780, y_ideal = 1, ошибка = 0.026220\n",
            "x = 2.5: y_pred = 6.261604, y_ideal = 6.25, ошибка = 0.011604\n",
            "\n",
            "Проверка сходимости:\n",
            "Найденные коэффициенты: a ≈ 0.993835, b ≈ 0.020055\n",
            "Ожидаемые коэффициенты: a = 1.000000, b = 0.000000\n",
            "Точность: Δa = 0.006165, Δb = 0.020055\n"
          ]
        }
      ]
    },
    {
      "cell_type": "code",
      "source": [
        "import numpy as np\n",
        "\n",
        "X, y = np.array([1, 2, 3, 4]), np.array([1, 4, 9, 16])\n",
        "a, b, lr = 0, 0, 0.01\n",
        "\n",
        "for i in range(1000):\n",
        "    # Прямое распространение\n",
        "    y_pred = a*X**2 + b*X\n",
        "\n",
        "    # Ошибка\n",
        "    error = y_pred - y\n",
        "\n",
        "    # Аналитические градиенты\n",
        "    grad_a = np.mean(2 * error * X**2)\n",
        "    grad_b = np.mean(2 * error * X)\n",
        "\n",
        "    # Обновление параметров\n",
        "    a -= lr * grad_a\n",
        "    b -= lr * grad_b\n",
        "\n",
        "    if i % 200 == 0:\n",
        "        loss = np.mean(error**2)\n",
        "        print(f\"Итерация {i}: loss={loss:.6f}\")\n",
        "\n",
        "print(f\"\\nРезультат: y = {a:.6f}x² + {b:.6f}x\")"
      ],
      "metadata": {
        "colab": {
          "base_uri": "https://localhost:8080/"
        },
        "id": "oH6C35sSfKvE",
        "outputId": "b7f39731-cdd2-4ef4-d86d-0705b4a27ef9"
      },
      "execution_count": 8,
      "outputs": [
        {
          "output_type": "stream",
          "name": "stdout",
          "text": [
            "Итерация 0: loss=88.500000\n",
            "Итерация 200: loss=0.001164\n",
            "Итерация 400: loss=0.000045\n",
            "Итерация 600: loss=0.000002\n",
            "Итерация 800: loss=0.000000\n",
            "\n",
            "Результат: y = 0.999978x² + 0.000077x\n"
          ]
        }
      ]
    }
  ]
}