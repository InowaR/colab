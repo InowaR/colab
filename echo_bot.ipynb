{
  "nbformat": 4,
  "nbformat_minor": 0,
  "metadata": {
    "colab": {
      "provenance": [],
      "authorship_tag": "ABX9TyOrGu//09GePBURey3ovOky",
      "include_colab_link": true
    },
    "kernelspec": {
      "name": "python3",
      "display_name": "Python 3"
    },
    "language_info": {
      "name": "python"
    }
  },
  "cells": [
    {
      "cell_type": "markdown",
      "metadata": {
        "id": "view-in-github",
        "colab_type": "text"
      },
      "source": [
        "<a href=\"https://colab.research.google.com/github/InowaR/colab/blob/main/echo_bot.ipynb\" target=\"_parent\"><img src=\"https://colab.research.google.com/assets/colab-badge.svg\" alt=\"Open In Colab\"/></a>"
      ]
    },
    {
      "cell_type": "code",
      "source": [
        "!pip install telebot"
      ],
      "metadata": {
        "colab": {
          "base_uri": "https://localhost:8080/"
        },
        "id": "AmprAJoVOKr2",
        "outputId": "f3865270-4ecc-49d5-aecb-ff1bb25077e3"
      },
      "execution_count": 12,
      "outputs": [
        {
          "output_type": "stream",
          "name": "stdout",
          "text": [
            "Collecting telebot\n",
            "  Downloading telebot-0.0.5-py3-none-any.whl (4.8 kB)\n",
            "Collecting pyTelegramBotAPI (from telebot)\n",
            "  Downloading pyTelegramBotAPI-4.13.0.tar.gz (232 kB)\n",
            "\u001b[2K     \u001b[90m━━━━━━━━━━━━━━━━━━━━━━━━━━━━━━━━━━━━━━━\u001b[0m \u001b[32m232.8/232.8 kB\u001b[0m \u001b[31m3.6 MB/s\u001b[0m eta \u001b[36m0:00:00\u001b[0m\n",
            "\u001b[?25h  Preparing metadata (setup.py) ... \u001b[?25l\u001b[?25hdone\n",
            "Requirement already satisfied: requests in /usr/local/lib/python3.10/dist-packages (from telebot) (2.31.0)\n",
            "Requirement already satisfied: charset-normalizer<4,>=2 in /usr/local/lib/python3.10/dist-packages (from requests->telebot) (3.2.0)\n",
            "Requirement already satisfied: idna<4,>=2.5 in /usr/local/lib/python3.10/dist-packages (from requests->telebot) (3.4)\n",
            "Requirement already satisfied: urllib3<3,>=1.21.1 in /usr/local/lib/python3.10/dist-packages (from requests->telebot) (2.0.4)\n",
            "Requirement already satisfied: certifi>=2017.4.17 in /usr/local/lib/python3.10/dist-packages (from requests->telebot) (2023.7.22)\n",
            "Building wheels for collected packages: pyTelegramBotAPI\n",
            "  Building wheel for pyTelegramBotAPI (setup.py) ... \u001b[?25l\u001b[?25hdone\n",
            "  Created wheel for pyTelegramBotAPI: filename=pyTelegramBotAPI-4.13.0-py3-none-any.whl size=214530 sha256=a1b2fe9c112ad404444024a1b1502290e1c3820b62d5c00502df33c9de10cfdc\n",
            "  Stored in directory: /root/.cache/pip/wheels/f7/1a/3b/41e1ce64625e3f11567085dc79043d9fa573a2cc39f9938556\n",
            "Successfully built pyTelegramBotAPI\n",
            "Installing collected packages: pyTelegramBotAPI, telebot\n",
            "Successfully installed pyTelegramBotAPI-4.13.0 telebot-0.0.5\n"
          ]
        }
      ]
    },
    {
      "cell_type": "code",
      "source": [
        "import telebot\n",
        "\n",
        "TOKEN = 'YOUR_TOKEN_HERE'\n",
        "bot = telebot.TeleBot(TOKEN)\n",
        "\n",
        "@bot.message_handler(commands=['start'])\n",
        "def start_handler(message):\n",
        "    bot.send_message(message.chat.id, 'Привет! Я эхо-бот. Отправь мне сообщение, и я его повторю.')\n",
        "\n",
        "@bot.message_handler(func=lambda message: True)\n",
        "def echo_handler(message):\n",
        "    bot.send_message(message.chat.id, message.text)\n",
        "\n",
        "bot.polling(none_stop=True)"
      ],
      "metadata": {
        "id": "6JZ27L-vP28q"
      },
      "execution_count": 13,
      "outputs": []
    }
  ]
}