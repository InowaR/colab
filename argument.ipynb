{
  "nbformat": 4,
  "nbformat_minor": 0,
  "metadata": {
    "colab": {
      "name": "argument.ipynb",
      "provenance": [],
      "authorship_tag": "ABX9TyNZ9Z2xoRaj+MVtE8Qy1YOl",
      "include_colab_link": true
    },
    "kernelspec": {
      "name": "python3",
      "display_name": "Python 3"
    },
    "language_info": {
      "name": "python"
    }
  },
  "cells": [
    {
      "cell_type": "markdown",
      "metadata": {
        "id": "view-in-github",
        "colab_type": "text"
      },
      "source": [
        "<a href=\"https://colab.research.google.com/github/InowaR/colab/blob/main/argument.ipynb\" target=\"_parent\"><img src=\"https://colab.research.google.com/assets/colab-badge.svg\" alt=\"Open In Colab\"/></a>"
      ]
    },
    {
      "cell_type": "code",
      "execution_count": 7,
      "metadata": {
        "colab": {
          "base_uri": "https://localhost:8080/"
        },
        "id": "LeFw4HCBo22p",
        "outputId": "b5570d4c-794f-49b0-8514-0e62be090ffb"
      },
      "outputs": [
        {
          "output_type": "stream",
          "name": "stdout",
          "text": [
            "1\n",
            "2\n",
            "[0, 0, 0]\n"
          ]
        }
      ],
      "source": [
        "a = [1,0,0,0,2]\n",
        "b, *numbers, c = a\n",
        "print(b)\n",
        "print(c)\n",
        "print(numbers)"
      ]
    }
  ]
}