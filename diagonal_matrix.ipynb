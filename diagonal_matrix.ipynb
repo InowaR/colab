{
  "nbformat": 4,
  "nbformat_minor": 0,
  "metadata": {
    "colab": {
      "provenance": [],
      "authorship_tag": "ABX9TyOC9IgxdoNt7r3S73pQg4H6",
      "include_colab_link": true
    },
    "kernelspec": {
      "name": "python3",
      "display_name": "Python 3"
    },
    "language_info": {
      "name": "python"
    }
  },
  "cells": [
    {
      "cell_type": "markdown",
      "metadata": {
        "id": "view-in-github",
        "colab_type": "text"
      },
      "source": [
        "<a href=\"https://colab.research.google.com/github/InowaR/colab/blob/main/diagonal_matrix.ipynb\" target=\"_parent\"><img src=\"https://colab.research.google.com/assets/colab-badge.svg\" alt=\"Open In Colab\"/></a>"
      ]
    },
    {
      "cell_type": "code",
      "execution_count": 53,
      "metadata": {
        "colab": {
          "base_uri": "https://localhost:8080/"
        },
        "id": "IcilloxXCIF9",
        "outputId": "184c10da-9728-4026-ef5a-a57c77821bcf"
      },
      "outputs": [
        {
          "output_type": "stream",
          "name": "stdout",
          "text": [
            "[1, 2, 4, 7, 11, 16, 22, 29, 37, 46]\n",
            "[3, 5, 8, 12, 17, 23, 30, 38, 47, 56]\n",
            "[6, 9, 13, 18, 24, 31, 39, 48, 57, 65]\n",
            "[10, 14, 19, 25, 32, 40, 49, 58, 66, 73]\n",
            "[15, 20, 26, 33, 41, 50, 59, 67, 74, 80]\n",
            "[21, 27, 34, 42, 51, 60, 68, 75, 81, 86]\n",
            "[28, 35, 43, 52, 61, 69, 76, 82, 87, 91]\n",
            "[36, 44, 53, 62, 70, 77, 83, 88, 92, 95]\n",
            "[45, 54, 63, 71, 78, 84, 89, 93, 96, 98]\n",
            "[55, 64, 72, 79, 85, 90, 94, 97, 99, 100]\n"
          ]
        }
      ],
      "source": [
        "N = 10\n",
        "matrix = [[0 for x in range(N)] for y in range(N)] \n",
        "num = 1\n",
        "k = -N\n",
        "while k < N:\n",
        "  i = 0\n",
        "  while i < N:\n",
        "    j = 0\n",
        "    while j < N:\n",
        "      if j == N - i + k: \n",
        "        matrix[i][j] = num\n",
        "        num += 1\n",
        "      j += 1\n",
        "    i += 1\n",
        "  k += 1\n",
        "for i in matrix: print(i)\n"
      ]
    }
  ]
}