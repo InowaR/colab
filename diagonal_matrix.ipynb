{
  "nbformat": 4,
  "nbformat_minor": 0,
  "metadata": {
    "colab": {
      "provenance": [],
      "authorship_tag": "ABX9TyMUnTlMuQQxrhetg5QLNh+J",
      "include_colab_link": true
    },
    "kernelspec": {
      "name": "python3",
      "display_name": "Python 3"
    },
    "language_info": {
      "name": "python"
    }
  },
  "cells": [
    {
      "cell_type": "markdown",
      "metadata": {
        "id": "view-in-github",
        "colab_type": "text"
      },
      "source": [
        "<a href=\"https://colab.research.google.com/github/InowaR/colab/blob/main/diagonal_matrix.ipynb\" target=\"_parent\"><img src=\"https://colab.research.google.com/assets/colab-badge.svg\" alt=\"Open In Colab\"/></a>"
      ]
    },
    {
      "cell_type": "code",
      "execution_count": 74,
      "metadata": {
        "colab": {
          "base_uri": "https://localhost:8080/"
        },
        "id": "IcilloxXCIF9",
        "outputId": "45eac87d-dd50-443a-8bb4-c5e24ba103b9"
      },
      "outputs": [
        {
          "output_type": "stream",
          "name": "stdout",
          "text": [
            "[1, 2, 4, 7, 11, 16, 21, 26, 31, 36, 41, 46, 51, 56, 61]\n",
            "[3, 5, 8, 12, 17, 22, 27, 32, 37, 42, 47, 52, 57, 62, 66]\n",
            "[6, 9, 13, 18, 23, 28, 33, 38, 43, 48, 53, 58, 63, 67, 70]\n",
            "[10, 14, 19, 24, 29, 34, 39, 44, 49, 54, 59, 64, 68, 71, 73]\n",
            "[15, 20, 25, 30, 35, 40, 45, 50, 55, 60, 65, 69, 72, 74, 75]\n"
          ]
        }
      ],
      "source": [
        "N = 15\n",
        "M = 5\n",
        "matrix = [[0 for x in range(N)] for y in range(M)] \n",
        "num = 1\n",
        "k = -N\n",
        "while k < M:\n",
        "  i = 0\n",
        "  while i < M:\n",
        "    j = 0\n",
        "    while j < N:\n",
        "      if j == N - i + k: \n",
        "        matrix[i][j] = num\n",
        "        num += 1\n",
        "      j += 1\n",
        "    i += 1\n",
        "  k += 1\n",
        "for i in matrix: print(i)\n"
      ]
    }
  ]
}