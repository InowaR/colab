{
  "nbformat": 4,
  "nbformat_minor": 0,
  "metadata": {
    "colab": {
      "provenance": [],
      "authorship_tag": "ABX9TyMNmvfyJzmaVNSIxiEiloCq",
      "include_colab_link": true
    },
    "kernelspec": {
      "name": "python3",
      "display_name": "Python 3"
    },
    "language_info": {
      "name": "python"
    }
  },
  "cells": [
    {
      "cell_type": "markdown",
      "metadata": {
        "id": "view-in-github",
        "colab_type": "text"
      },
      "source": [
        "<a href=\"https://colab.research.google.com/github/InowaR/colab/blob/main/sort_array.ipynb\" target=\"_parent\"><img src=\"https://colab.research.google.com/assets/colab-badge.svg\" alt=\"Open In Colab\"/></a>"
      ]
    },
    {
      "cell_type": "code",
      "execution_count": 60,
      "metadata": {
        "colab": {
          "base_uri": "https://localhost:8080/"
        },
        "id": "XpfJAVaXuhU0",
        "outputId": "12626e78-e371-48a4-bf6c-2e2d8fcd22c2"
      },
      "outputs": [
        {
          "output_type": "stream",
          "name": "stdout",
          "text": [
            "[6, 1, 7, 3, 9, 4, 8, 2, 5]\n",
            "[1, 2, 3, 4, 5, 6, 7, 8, 9]\n"
          ]
        }
      ],
      "source": [
        "import random\n",
        "a = [1,2,3,4,5,6,7,8,9]\n",
        "random.shuffle(a)\n",
        "print(a)\n",
        "i = 0\n",
        "while i < len(a):\n",
        "  j = 0\n",
        "  while j < len(a):\n",
        "    if a[i] < a[j]:\n",
        "      a[i], a[j] = a[j], a[i]\n",
        "    j+=1\n",
        "  i+=1\n",
        "print(a)"
      ]
    }
  ]
}