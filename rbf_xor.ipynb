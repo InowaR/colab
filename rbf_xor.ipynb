{
  "nbformat": 4,
  "nbformat_minor": 0,
  "metadata": {
    "colab": {
      "provenance": [],
      "authorship_tag": "ABX9TyOty+NTao6YSGLTiVAX2mdd",
      "include_colab_link": true
    },
    "kernelspec": {
      "name": "python3",
      "display_name": "Python 3"
    },
    "language_info": {
      "name": "python"
    }
  },
  "cells": [
    {
      "cell_type": "markdown",
      "metadata": {
        "id": "view-in-github",
        "colab_type": "text"
      },
      "source": [
        "<a href=\"https://colab.research.google.com/github/InowaR/colab/blob/main/rbf_xor.ipynb\" target=\"_parent\"><img src=\"https://colab.research.google.com/assets/colab-badge.svg\" alt=\"Open In Colab\"/></a>"
      ]
    },
    {
      "cell_type": "code",
      "execution_count": 37,
      "metadata": {
        "colab": {
          "base_uri": "https://localhost:8080/",
          "height": 430
        },
        "id": "hLXUc4vdFozl",
        "outputId": "ac79f8c6-12fd-48c9-91e8-feaeb15522db"
      },
      "outputs": [
        {
          "output_type": "display_data",
          "data": {
            "text/plain": [
              "<Figure size 640x480 with 1 Axes>"
            ],
            "image/png": "[encoded data removed]"
          },
          "metadata": {}
        }
      ],
      "source": [
        "import numpy as np\n",
        "import matplotlib.pyplot as plt\n",
        "\n",
        "# Генерация данных XOR\n",
        "X = np.array([[0, 0], [0, 1], [1, 0], [1, 1]])\n",
        "y = np.array([0, 1, 1, 0])\n",
        "\n",
        "# Функция радиальной базисной функции\n",
        "def rbf(x, c, sigma):\n",
        "    return np.exp(-np.linalg.norm(x - c)**2 / (2 * sigma**2))\n",
        "\n",
        "# Создание матрицы фич\n",
        "def create_feature_matrix(X, centers, sigma):\n",
        "    phi = np.empty((X.shape[0], centers.shape[0]))\n",
        "    for i, x in enumerate(X):\n",
        "        for j, c in enumerate(centers):\n",
        "            phi[i, j] = rbf(x, c, sigma)\n",
        "    return phi\n",
        "\n",
        "# Обучение линейной модели\n",
        "def train_linear_model(phi, y):\n",
        "    return np.linalg.pinv(phi) @ y\n",
        "\n",
        "# Предсказание\n",
        "def predict(X, centers, sigma, weights):\n",
        "    phi = create_feature_matrix(X, centers, sigma)\n",
        "    return np.where(phi @ weights > 0.5, 1, 0)\n",
        "\n",
        "# Параметры\n",
        "num_centers = 5\n",
        "sigma = 0.9\n",
        "centers = np.random.rand(num_centers, 2)\n",
        "\n",
        "# Создание матрицы фич\n",
        "phi = create_feature_matrix(X, centers, sigma)\n",
        "\n",
        "# Обучение модели\n",
        "weights = train_linear_model(phi, y)\n",
        "\n",
        "# Визуализация\n",
        "x_min, x_max = X[:, 0].min() - 0.1, X[:, 0].max() + 0.1\n",
        "y_min, y_max = X[:, 1].min() - 0.1, X[:, 1].max() + 0.1\n",
        "xx, yy = np.meshgrid(np.arange(x_min, x_max, 0.01), np.arange(y_min, y_max, 0.01))\n",
        "Z = predict(np.c_[xx.ravel(), yy.ravel()], centers, sigma, weights)\n",
        "Z = Z.reshape(xx.shape)\n",
        "plt.contourf(xx, yy, Z, cmap=plt.cm.coolwarm, alpha=0.8)\n",
        "plt.scatter(X[:, 0], X[:, 1], c=y, s=20, edgecolors='k')\n",
        "plt.show()"
      ]
    }
  ]
}