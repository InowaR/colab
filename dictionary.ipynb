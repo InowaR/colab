{
  "nbformat": 4,
  "nbformat_minor": 0,
  "metadata": {
    "colab": {
      "provenance": [],
      "authorship_tag": "ABX9TyPfh6wBrdQ0w9Xk1u4zzyw9",
      "include_colab_link": true
    },
    "kernelspec": {
      "name": "python3",
      "display_name": "Python 3"
    },
    "language_info": {
      "name": "python"
    }
  },
  "cells": [
    {
      "cell_type": "markdown",
      "metadata": {
        "id": "view-in-github",
        "colab_type": "text"
      },
      "source": [
        "<a href=\"https://colab.research.google.com/github/InowaR/colab/blob/main/dictionary.ipynb\" target=\"_parent\"><img src=\"https://colab.research.google.com/assets/colab-badge.svg\" alt=\"Open In Colab\"/></a>"
      ]
    },
    {
      "cell_type": "code",
      "execution_count": 2,
      "metadata": {
        "colab": {
          "base_uri": "https://localhost:8080/"
        },
        "id": "OV4VpfwEBbNL",
        "outputId": "8ee50925-2def-4c36-e0a2-e2d6bf42eed7"
      },
      "outputs": [
        {
          "output_type": "stream",
          "name": "stdout",
          "text": [
            "Вася\n",
            "dict_items([('Имя', 'Вася'), ('Фамилия', 'Иванов')])\n",
            "dict_keys(['Имя', 'Фамилия'])\n",
            "dict_values(['Вася', 'Иванов'])\n",
            "Имя : Вася\n",
            "Фамилия : Иванов\n",
            "{'a': [1, 2, 3], 'b': [4, 5, 6]}\n",
            "{'Фрукты': 22, 'Пустая': 14, 'Корица': 4, 'Сыр': 21, 'Вишня': 10}\n"
          ]
        }
      ],
      "source": [
        "dictionary = {\n",
        "    \"Имя\" : \"Вася\",\n",
        "    \"Фамилия\" : \"Иванов\"\n",
        "    }\n",
        "print(dictionary[\"Имя\"])\n",
        "print(dictionary.items())\n",
        "print(dictionary.keys())\n",
        "print(dictionary.values())\n",
        "for key, value in dictionary.items():\n",
        "    print(f\"{key} : {value}\")\n",
        "\n",
        "list1 = [1, 2, 3]\n",
        "list2 = [4, 5, 6]\n",
        "d = {'a': [], 'b': []}\n",
        "d['a'] = list1\n",
        "d['b'] = list2\n",
        "print(d)\n",
        "\n",
        "scones = {\n",
        "    \"Фрукты\": 22,\n",
        "    \"Пустая\": 14,\n",
        "    \"Корица\": 4,\n",
        "    \"Сыр\": 21\n",
        "}\n",
        "scones[\"Вишня\"] = 10\n",
        "print(scones)"
      ]
    }
  ]
}