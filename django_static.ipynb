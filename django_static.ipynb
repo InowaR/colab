{
  "nbformat": 4,
  "nbformat_minor": 0,
  "metadata": {
    "colab": {
      "provenance": [],
      "authorship_tag": "ABX9TyO4BtioNXWGDWe95uYHT5tq",
      "include_colab_link": true
    },
    "kernelspec": {
      "name": "python3",
      "display_name": "Python 3"
    },
    "language_info": {
      "name": "python"
    }
  },
  "cells": [
    {
      "cell_type": "markdown",
      "metadata": {
        "id": "view-in-github",
        "colab_type": "text"
      },
      "source": [
        "<a href=\"https://colab.research.google.com/github/InowaR/colab/blob/main/django_static.ipynb\" target=\"_parent\"><img src=\"https://colab.research.google.com/assets/colab-badge.svg\" alt=\"Open In Colab\"/></a>"
      ]
    },
    {
      "cell_type": "code",
      "source": [
        "!pip install django"
      ],
      "metadata": {
        "colab": {
          "base_uri": "https://localhost:8080/"
        },
        "id": "skPUwVny9bkp",
        "outputId": "b02f8243-b3b5-43a4-f872-be6c2a82dfd8"
      },
      "execution_count": 1,
      "outputs": [
        {
          "output_type": "stream",
          "name": "stdout",
          "text": [
            "Collecting django\n",
            "  Downloading Django-5.0.3-py3-none-any.whl (8.2 MB)\n",
            "\u001b[2K     \u001b[90m━━━━━━━━━━━━━━━━━━━━━━━━━━━━━━━━━━━━━━━━\u001b[0m \u001b[32m8.2/8.2 MB\u001b[0m \u001b[31m17.4 MB/s\u001b[0m eta \u001b[36m0:00:00\u001b[0m\n",
            "\u001b[?25hCollecting asgiref<4,>=3.7.0 (from django)\n",
            "  Downloading asgiref-3.8.1-py3-none-any.whl (23 kB)\n",
            "Requirement already satisfied: sqlparse>=0.3.1 in /usr/local/lib/python3.10/dist-packages (from django) (0.4.4)\n",
            "Requirement already satisfied: typing-extensions>=4 in /usr/local/lib/python3.10/dist-packages (from asgiref<4,>=3.7.0->django) (4.10.0)\n",
            "Installing collected packages: asgiref, django\n",
            "Successfully installed asgiref-3.8.1 django-5.0.3\n"
          ]
        }
      ]
    },
    {
      "cell_type": "code",
      "execution_count": 2,
      "metadata": {
        "id": "qgSS2bV07TY0"
      },
      "outputs": [],
      "source": [
        "!django-admin startproject hello_world\n",
        "!mkdir ./hello_world/templates\n",
        "!mkdir ./hello_world/static/\n",
        "!mkdir ./hello_world/static/css"
      ]
    },
    {
      "cell_type": "code",
      "source": [
        "template = \"\"\"{% load static %}\n",
        "<!DOCTYPE html>\n",
        "<html lang=\"en\">\n",
        "<head>\n",
        "    <meta charset=\"UTF-8\">\n",
        "    <title>Hello World</title>\n",
        "    <link rel=\"stylesheet\" type=\"text/css\" href=\"{% static 'css/style.css' %}\">\n",
        "</head>\n",
        "<body>\n",
        "    <h1>Hello World!</h1>\n",
        "</body>\n",
        "</html>\n",
        "\n",
        "\"\"\"\n",
        "with open('./hello_world/templates/hello_world.html', 'w') as t:\n",
        "    t.write(template)"
      ],
      "metadata": {
        "id": "sIivEy7MHt0F"
      },
      "execution_count": 3,
      "outputs": []
    },
    {
      "cell_type": "code",
      "source": [
        "style = \"\"\"h1 {\n",
        "    color: red;\n",
        "}\n",
        "\"\"\"\n",
        "with open('./hello_world/static/css/style.css', 'w') as s:\n",
        "    s.write(style)"
      ],
      "metadata": {
        "id": "_QVKOW0KNZ0y"
      },
      "execution_count": 4,
      "outputs": []
    },
    {
      "cell_type": "code",
      "source": [
        "view = \"\"\"\n",
        "from django.shortcuts import render\n",
        "\n",
        "def hello_world(request):\n",
        "    return render(request, 'hello_world.html')\n",
        "\"\"\"\n",
        "with open('./hello_world/hello_world/views.py', 'w') as v:\n",
        "    v.write(view)"
      ],
      "metadata": {
        "id": "BHpufS1jCYns"
      },
      "execution_count": 5,
      "outputs": []
    },
    {
      "cell_type": "code",
      "source": [
        "url = \"\"\"\n",
        "from django.urls import path\n",
        "from . import views\n",
        "\n",
        "urlpatterns = [\n",
        "    path('', views.hello_world, name='hello_world'),\n",
        "]\n",
        "\"\"\"\n",
        "with open('./hello_world/hello_world/urls.py', 'w') as u:\n",
        "    u.write(url)"
      ],
      "metadata": {
        "id": "RQj_8AaVDV-F"
      },
      "execution_count": 6,
      "outputs": []
    },
    {
      "cell_type": "code",
      "source": [
        "from google.colab.output import eval_js\n",
        "print(eval_js(\"google.colab.kernel.proxyPort(8000)\"))"
      ],
      "metadata": {
        "colab": {
          "base_uri": "https://localhost:8080/",
          "height": 34
        },
        "id": "jjonxfGW_ZsV",
        "outputId": "03cef24b-8839-4982-fb18-af3b6253de24"
      },
      "execution_count": 7,
      "outputs": [
        {
          "output_type": "stream",
          "name": "stdout",
          "text": [
            "https://6jdt7m3mgl4-496ff2e9c6d22116-8000-colab.googleusercontent.com/\n"
          ]
        }
      ]
    },
    {
      "cell_type": "code",
      "source": [
        "%cd hello_world/"
      ],
      "metadata": {
        "colab": {
          "base_uri": "https://localhost:8080/"
        },
        "id": "6kas5IofD8Or",
        "outputId": "9a67ee2f-fb99-414c-c35f-79d18ffc110d"
      },
      "execution_count": 8,
      "outputs": [
        {
          "output_type": "stream",
          "name": "stdout",
          "text": [
            "/content/hello_world\n"
          ]
        }
      ]
    },
    {
      "cell_type": "code",
      "source": [
        "# в settings.py\n",
        "# добавить адрес ALLOWED_HOSTS = ['colab.research.google.com']\n",
        "# добавить 'DIRS': ['templates']\n",
        "# добавить строку STATICFILES_DIRS = ['static']"
      ],
      "metadata": {
        "id": "nKvxm555G_KL"
      },
      "execution_count": null,
      "outputs": []
    },
    {
      "cell_type": "code",
      "source": [
        "!python manage.py runserver"
      ],
      "metadata": {
        "colab": {
          "base_uri": "https://localhost:8080/"
        },
        "id": "FJJrCLj1-9Iy",
        "outputId": "78d3a79e-9488-4995-d154-2d82ce09eb1d"
      },
      "execution_count": 9,
      "outputs": [
        {
          "output_type": "stream",
          "name": "stdout",
          "text": [
            "Watching for file changes with StatReloader\n",
            "Performing system checks...\n",
            "\n",
            "System check identified no issues (0 silenced).\n",
            "\u001b[31m\n",
            "You have 18 unapplied migration(s). Your project may not work properly until you apply the migrations for app(s): admin, auth, contenttypes, sessions.\u001b[0m\n",
            "\u001b[31mRun 'python manage.py migrate' to apply them.\u001b[0m\n",
            "March 30, 2024 - 23:34:17\n",
            "Django version 5.0.3, using settings 'hello_world.settings'\n",
            "Starting development server at http://127.0.0.1:8000/\n",
            "Quit the server with CONTROL-C.\n",
            "\n",
            "[30/Mar/2024 23:34:19] \u001b[m\"GET / HTTP/1.1\" 200 230\u001b[0m\n",
            "[30/Mar/2024 23:34:19] \u001b[m\"GET /static/css/style.css HTTP/1.1\" 200 23\u001b[0m\n",
            "Not Found: /favicon.ico\n",
            "[30/Mar/2024 23:34:19] \u001b[33m\"GET /favicon.ico HTTP/1.1\" 404 2140\u001b[0m\n"
          ]
        }
      ]
    }
  ]
}