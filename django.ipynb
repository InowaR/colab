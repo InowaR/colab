{
  "nbformat": 4,
  "nbformat_minor": 0,
  "metadata": {
    "colab": {
      "provenance": [],
      "authorship_tag": "ABX9TyNpo0lXkfH4pvWl0dFZdZ9y",
      "include_colab_link": true
    },
    "kernelspec": {
      "name": "python3",
      "display_name": "Python 3"
    },
    "language_info": {
      "name": "python"
    }
  },
  "cells": [
    {
      "cell_type": "markdown",
      "metadata": {
        "id": "view-in-github",
        "colab_type": "text"
      },
      "source": [
        "<a href=\"https://colab.research.google.com/github/InowaR/colab/blob/main/django.ipynb\" target=\"_parent\"><img src=\"https://colab.research.google.com/assets/colab-badge.svg\" alt=\"Open In Colab\"/></a>"
      ]
    },
    {
      "cell_type": "code",
      "execution_count": null,
      "metadata": {
        "id": "DzkDWh440jtU"
      },
      "outputs": [],
      "source": [
        "!pip install django pyngrok uvicorn"
      ]
    },
    {
      "cell_type": "code",
      "source": [
        "!django-admin startproject mysite"
      ],
      "metadata": {
        "id": "Iocqente15V2"
      },
      "execution_count": 2,
      "outputs": []
    },
    {
      "cell_type": "code",
      "source": [
        "!ngrok config add-authtoken $(cat token)"
      ],
      "metadata": {
        "colab": {
          "base_uri": "https://localhost:8080/"
        },
        "id": "H2AYTsZb6WI1",
        "outputId": "d24154c8-bc95-4549-b819-509bbff29839"
      },
      "execution_count": 3,
      "outputs": [
        {
          "output_type": "stream",
          "name": "stdout",
          "text": [
            "Authtoken saved to configuration file: /root/.config/ngrok/ngrok.yml\n"
          ]
        }
      ]
    },
    {
      "cell_type": "code",
      "source": [
        "!sed -i \"s/ALLOWED_HOSTS = \\[\\]/ALLOWED_HOSTS = \\['*'\\]/\" mysite/mysite/settings.py"
      ],
      "metadata": {
        "id": "-go1lKoQEHVw"
      },
      "execution_count": 16,
      "outputs": []
    },
    {
      "cell_type": "code",
      "source": [
        "import pyngrok\n",
        "import nest_asyncio\n",
        "from pyngrok import ngrok\n",
        "import uvicorn\n",
        "\n",
        "ngrok_tunnel = ngrok.connect(8000)\n",
        "print('Public URL:', ngrok_tunnel.public_url)\n",
        "nest_asyncio.apply()\n",
        "\n",
        "# Запустите сервер Django\n",
        "!python mysite/manage.py runserver 0.0.0.0:8000"
      ],
      "metadata": {
        "colab": {
          "base_uri": "https://localhost:8080/"
        },
        "id": "J9JpsYs95RSv",
        "outputId": "bedfa071-642b-474b-ad12-8dba422b161e"
      },
      "execution_count": 17,
      "outputs": [
        {
          "output_type": "stream",
          "name": "stdout",
          "text": [
            "Public URL: https://d5bb-34-125-130-64.ngrok-free.app\n",
            "Watching for file changes with StatReloader\n",
            "Performing system checks...\n",
            "\n",
            "System check identified no issues (0 silenced).\n",
            "\u001b[31m\n",
            "You have 18 unapplied migration(s). Your project may not work properly until you apply the migrations for app(s): admin, auth, contenttypes, sessions.\u001b[0m\n",
            "\u001b[31mRun 'python manage.py migrate' to apply them.\u001b[0m\n",
            "March 07, 2024 - 22:46:45\n",
            "Django version 5.0.3, using settings 'mysite.settings'\n",
            "Starting development server at http://0.0.0.0:8000/\n",
            "Quit the server with CONTROL-C.\n",
            "\n",
            "[07/Mar/2024 22:46:51] \u001b[m\"GET / HTTP/1.1\" 200 10629\u001b[0m\n",
            "Not Found: /favicon.ico\n",
            "[07/Mar/2024 22:46:51] \u001b[33m\"GET /favicon.ico HTTP/1.1\" 404 2129\u001b[0m\n"
          ]
        }
      ]
    }
  ]
}