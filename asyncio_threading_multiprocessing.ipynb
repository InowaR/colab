{
  "nbformat": 4,
  "nbformat_minor": 0,
  "metadata": {
    "colab": {
      "provenance": [],
      "gpuType": "T4",
      "authorship_tag": "ABX9TyOITKsXMM5sK4vgtZexTkeV",
      "include_colab_link": true
    },
    "kernelspec": {
      "name": "python3",
      "display_name": "Python 3"
    },
    "language_info": {
      "name": "python"
    },
    "accelerator": "GPU"
  },
  "cells": [
    {
      "cell_type": "markdown",
      "metadata": {
        "id": "view-in-github",
        "colab_type": "text"
      },
      "source": [
        "<a href=\"https://colab.research.google.com/github/InowaR/colab/blob/main/asyncio_threading_multiprocessing.ipynb\" target=\"_parent\"><img src=\"https://colab.research.google.com/assets/colab-badge.svg\" alt=\"Open In Colab\"/></a>"
      ]
    },
    {
      "cell_type": "code",
      "execution_count": 2,
      "metadata": {
        "colab": {
          "base_uri": "https://localhost:8080/"
        },
        "id": "Nj4Vjfqwffhq",
        "outputId": "741c2722-6963-4503-fea9-bf4f5a7e08d8"
      },
      "outputs": [
        {
          "output_type": "stream",
          "name": "stdout",
          "text": [
            "Время заполнения массива: 17.021941 секунд\n",
            "Время вычисления суммы: 0.084787 секунд\n",
            "Общее время: 17.106790 секунд\n",
            "Сумма элементов массива: 505085887\n"
          ]
        }
      ],
      "source": [
        "import random\n",
        "import time\n",
        "\n",
        "# Заполнение массива\n",
        "start_time = time.time()\n",
        "arr = [random.randint(1, 100) for _ in range(10000000)]\n",
        "end_time = time.time()\n",
        "\n",
        "# Вычисление суммы\n",
        "sum_time = time.time()\n",
        "sum_arr = sum(arr)\n",
        "end_sum_time = time.time()\n",
        "\n",
        "# Вывод времени выполнения\n",
        "print(f\"Время заполнения массива: {end_time - start_time:.6f} секунд\")\n",
        "print(f\"Время вычисления суммы: {end_sum_time - sum_time:.6f} секунд\")\n",
        "print(f\"Общее время: {end_sum_time - start_time:.6f} секунд\")\n",
        "print(f\"Сумма элементов массива: {sum_arr}\")"
      ]
    },
    {
      "cell_type": "code",
      "source": [
        "import threading\n",
        "import random\n",
        "import time\n",
        "\n",
        "# Функция для заполнения части массива случайными числами\n",
        "def fill_array_part(arr, start, end):\n",
        "    for i in range(start, end):\n",
        "        arr[i] = random.randint(1, 100)\n",
        "\n",
        "# Функция для вычисления суммы части массива\n",
        "def calculate_sum(arr, start, end, result):\n",
        "    partial_sum = sum(arr[start:end])\n",
        "    result.append(partial_sum)\n",
        "\n",
        "# Создаем пустой массив из 10000000 элементов\n",
        "arr = [0] * 10000000\n",
        "\n",
        "# Разделяем массив на 50 частей\n",
        "chunk_size = len(arr) // 50\n",
        "\n",
        "# Создаем и запускаем потоки для заполнения массива\n",
        "fill_threads = []\n",
        "start_time_fill = time.time()\n",
        "for i in range(50):\n",
        "    thread = threading.Thread(target=fill_array_part, args=(arr, i*chunk_size, (i+1)*chunk_size))\n",
        "    fill_threads.append(thread)\n",
        "    thread.start()\n",
        "\n",
        "# Ждем завершения всех потоков заполнения массива\n",
        "for thread in fill_threads:\n",
        "    thread.join()\n",
        "\n",
        "end_time_fill = time.time()\n",
        "\n",
        "# Создаем и запускаем потоки для вычисления суммы массива\n",
        "sum_threads = []\n",
        "results = []\n",
        "start_time_sum = time.time()\n",
        "for i in range(50):\n",
        "    thread = threading.Thread(target=calculate_sum, args=(arr, i*chunk_size, (i+1)*chunk_size, results))\n",
        "    sum_threads.append(thread)\n",
        "    thread.start()\n",
        "\n",
        "# Ждем завершения всех потоков вычисления суммы\n",
        "for thread in sum_threads:\n",
        "    thread.join()\n",
        "\n",
        "end_time_sum = time.time()\n",
        "\n",
        "total_sum = sum(results)\n",
        "\n",
        "print(f\"Время заполнения массива: {end_time_fill - start_time_fill:.6f} секунд\")\n",
        "print(f\"Время вычисления суммы: {end_time_sum - start_time_sum:.6f} секунд\")\n",
        "print(f\"Общее время: {end_time_sum - start_time_fill:.6f} секунд\")\n",
        "print(f\"Сумма элементов массива: {total_sum}\")"
      ],
      "metadata": {
        "colab": {
          "base_uri": "https://localhost:8080/"
        },
        "id": "KfZX03iGikib",
        "outputId": "b47426b6-14f4-4b6e-d306-752761e0a4cc"
      },
      "execution_count": 3,
      "outputs": [
        {
          "output_type": "stream",
          "name": "stdout",
          "text": [
            "Время заполнения массива: 10.739222 секунд\n",
            "Время вычисления суммы: 0.080570 секунд\n",
            "Общее время: 10.819906 секунд\n",
            "Сумма элементов массива: 504994925\n"
          ]
        }
      ]
    },
    {
      "cell_type": "code",
      "source": [
        "import multiprocessing\n",
        "import random\n",
        "import time\n",
        "\n",
        "# Функция для заполнения части массива случайными числами\n",
        "def fill_array_part(arr, start, end):\n",
        "    for i in range(start, end):\n",
        "        arr[i] = random.randint(1, 100)\n",
        "\n",
        "# Функция для вычисления суммы части массива\n",
        "def calculate_sum(arr, start, end, result):\n",
        "    partial_sum = sum(arr[start:end])\n",
        "    result.put(partial_sum)\n",
        "\n",
        "# Создаем пустой массив из 10000000 элементов\n",
        "arr = multiprocessing.Array('i', [0]*10000000)\n",
        "\n",
        "# Разделяем массив на 10 частей\n",
        "chunk_size = len(arr) // 10\n",
        "\n",
        "# Создаем и запускаем процессы для заполнения массива\n",
        "fill_processes = []\n",
        "start_time_fill = time.time()\n",
        "for i in range(10):\n",
        "    process = multiprocessing.Process(target=fill_array_part, args=(arr, i*chunk_size, (i+1)*chunk_size))\n",
        "    fill_processes.append(process)\n",
        "    process.start()\n",
        "\n",
        "# Ждем завершения всех процессов заполнения массива\n",
        "for process in fill_processes:\n",
        "    process.join()\n",
        "\n",
        "end_time_fill = time.time()\n",
        "\n",
        "# Создаем и запускаем процессы для вычисления суммы массива\n",
        "sum_processes = []\n",
        "results = multiprocessing.Queue()\n",
        "start_time_sum = time.time()\n",
        "for i in range(10):\n",
        "    process = multiprocessing.Process(target=calculate_sum, args=(arr, i*chunk_size, (i+1)*chunk_size, results))\n",
        "    sum_processes.append(process)\n",
        "    process.start()\n",
        "\n",
        "# Ждем завершения всех процессов вычисления суммы\n",
        "for process in sum_processes:\n",
        "    process.join()\n",
        "\n",
        "end_time_sum = time.time()\n",
        "\n",
        "total_sum = 0\n",
        "while not results.empty():\n",
        "    total_sum += results.get()\n",
        "\n",
        "print(f\"Время заполнения массива: {end_time_fill - start_time_fill:.6f} секунд\")\n",
        "print(f\"Время вычисления суммы: {end_time_sum - start_time_sum:.6f} секунд\")\n",
        "print(f\"Общее время: {end_time_sum - start_time_fill:.6f} секунд\")\n",
        "print(f\"Сумма элементов массива: {total_sum}\")"
      ],
      "metadata": {
        "colab": {
          "base_uri": "https://localhost:8080/"
        },
        "id": "DWZR1DI8k7yO",
        "outputId": "50739491-8c40-49b1-fa68-116163fe4083"
      },
      "execution_count": 6,
      "outputs": [
        {
          "output_type": "stream",
          "name": "stdout",
          "text": [
            "Время заполнения массива: 21.569410 секунд\n",
            "Время вычисления суммы: 0.407834 секунд\n",
            "Общее время: 21.977830 секунд\n",
            "Сумма элементов массива: 505024836\n"
          ]
        }
      ]
    },
    {
      "cell_type": "code",
      "source": [
        "import asyncio\n",
        "import random\n",
        "import time\n",
        "\n",
        "# Функция для заполнения части массива случайными числами\n",
        "async def fill_array_part(arr, start, end):\n",
        "    for i in range(start, end):\n",
        "        arr[i] = random.randint(1, 100)\n",
        "\n",
        "# Функция для вычисления суммы части массива\n",
        "async def calculate_sum(arr, start, end):\n",
        "    return sum(arr[start:end])\n",
        "\n",
        "async def main():\n",
        "    # Создаем пустой массив из 10000000 элементов\n",
        "    arr = [0]*10000000\n",
        "\n",
        "    # Разделяем массив на 2 части\n",
        "    chunk_size = len(arr) // 10\n",
        "\n",
        "    # Запускаем асинхронные задачи для заполнения массива\n",
        "    fill_tasks = []\n",
        "    start_time_fill = time.time()\n",
        "    for i in range(10):\n",
        "        task = asyncio.create_task(fill_array_part(arr, i*chunk_size, (i+1)*chunk_size))\n",
        "        fill_tasks.append(task)\n",
        "\n",
        "    await asyncio.gather(*fill_tasks)\n",
        "    end_time_fill = time.time()\n",
        "\n",
        "    # Запускаем асинхронные задачи для вычисления суммы массива\n",
        "    sum_tasks = []\n",
        "    start_time_sum = time.time()\n",
        "    for i in range(10):\n",
        "        task = asyncio.create_task(calculate_sum(arr, i*chunk_size, (i+1)*chunk_size))\n",
        "        sum_tasks.append(task)\n",
        "\n",
        "    partial_sums = await asyncio.gather(*sum_tasks)\n",
        "    end_time_sum = time.time()\n",
        "\n",
        "    total_sum = sum(partial_sums)\n",
        "\n",
        "    print(f\"Время заполнения: {end_time_fill - start_time_fill:.6f} секунд\")\n",
        "    print(f\"Время вычисления суммы: {end_time_sum - start_time_sum:.6f} секунд\")\n",
        "    print(f\"Общее время: {end_time_sum - start_time_fill:.6f} секунд\")\n",
        "    print(f\"Сумма элементов массива: {total_sum}\")\n",
        "\n",
        "\n",
        "await main()"
      ],
      "metadata": {
        "colab": {
          "base_uri": "https://localhost:8080/"
        },
        "id": "ZqmjU61nmqqB",
        "outputId": "16fae6f0-6bbe-4d18-813f-bd7369d4dc8d"
      },
      "execution_count": 7,
      "outputs": [
        {
          "output_type": "stream",
          "name": "stdout",
          "text": [
            "Время заполнения: 8.921092 секунд\n",
            "Время вычисления суммы: 0.071392 секунд\n",
            "Общее время: 8.992484 секунд\n",
            "Сумма элементов массива: 504878203\n"
          ]
        }
      ]
    }
  ]
}