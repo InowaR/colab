{
  "nbformat": 4,
  "nbformat_minor": 0,
  "metadata": {
    "colab": {
      "provenance": [],
      "authorship_tag": "ABX9TyOUiHKFEMKnzFHa6SpsoGsS",
      "include_colab_link": true
    },
    "kernelspec": {
      "name": "python3",
      "display_name": "Python 3"
    },
    "language_info": {
      "name": "python"
    }
  },
  "cells": [
    {
      "cell_type": "markdown",
      "metadata": {
        "id": "view-in-github",
        "colab_type": "text"
      },
      "source": [
        "<a href=\"https://colab.research.google.com/github/InowaR/colab/blob/main/asyncio_threading_multiprocessing.ipynb\" target=\"_parent\"><img src=\"https://colab.research.google.com/assets/colab-badge.svg\" alt=\"Open In Colab\"/></a>"
      ]
    },
    {
      "cell_type": "code",
      "source": [
        "n = lambda: random.randint(1, 100)"
      ],
      "metadata": {
        "id": "V23zP8Fjkcc9"
      },
      "execution_count": 20,
      "outputs": []
    },
    {
      "cell_type": "code",
      "execution_count": 54,
      "metadata": {
        "colab": {
          "base_uri": "https://localhost:8080/"
        },
        "id": "Nj4Vjfqwffhq",
        "outputId": "4a72ffcc-d54b-4a3c-e5a9-aae4fa9ea12c"
      },
      "outputs": [
        {
          "output_type": "stream",
          "name": "stdout",
          "text": [
            "Время заполнения массива: 0.050765 сек.\n",
            "Время вычисления суммы: 0.006530 сек.\n",
            "Сумма элементов массива: 1000000\n"
          ]
        }
      ],
      "source": [
        "import random\n",
        "import time\n",
        "\n",
        "# Заполнение массива\n",
        "start_time = time.time()\n",
        "arr = [1 for _ in range(1000000)]\n",
        "end_time = time.time()\n",
        "\n",
        "# Вычисление суммы\n",
        "sum_time = time.time()\n",
        "sum_arr = sum(arr)\n",
        "end_sum_time = time.time()\n",
        "\n",
        "# Вывод времени выполнения\n",
        "print(f\"Время заполнения массива: {end_time - start_time:.6f} сек.\")\n",
        "print(f\"Время вычисления суммы: {end_sum_time - sum_time:.6f} сек.\")\n",
        "print(f\"Сумма элементов массива: {sum_arr}\")\n"
      ]
    },
    {
      "cell_type": "code",
      "source": [
        "import threading\n",
        "import random\n",
        "import time\n",
        "\n",
        "# Функция для заполнения части массива случайными числами\n",
        "def fill_array_part(arr, start, end):\n",
        "    for i in range(start, end):\n",
        "        arr[i] = 1\n",
        "\n",
        "# Функция для вычисления суммы части массива\n",
        "def calculate_sum(arr, start, end, result):\n",
        "    partial_sum = sum(arr[start:end])\n",
        "    result.append(partial_sum)\n",
        "\n",
        "# Создаем пустой массив из 1000000 элементов\n",
        "arr = [0] * 1000000\n",
        "\n",
        "# Разделяем массив на 10 частей\n",
        "chunk_size = len(arr) // 10\n",
        "\n",
        "# Создаем и запускаем потоки для заполнения массива\n",
        "fill_threads = []\n",
        "start_time_fill = time.time()\n",
        "for i in range(10):\n",
        "    thread = threading.Thread(target=fill_array_part, args=(arr, i*chunk_size, (i+1)*chunk_size))\n",
        "    fill_threads.append(thread)\n",
        "    thread.start()\n",
        "\n",
        "# Ждем завершения всех потоков заполнения массива\n",
        "for thread in fill_threads:\n",
        "    thread.join()\n",
        "\n",
        "end_time_fill = time.time()\n",
        "\n",
        "# Создаем и запускаем потоки для вычисления суммы массива\n",
        "sum_threads = []\n",
        "results = []\n",
        "start_time_sum = time.time()\n",
        "for i in range(10):\n",
        "    thread = threading.Thread(target=calculate_sum, args=(arr, i*chunk_size, (i+1)*chunk_size, results))\n",
        "    sum_threads.append(thread)\n",
        "    thread.start()\n",
        "\n",
        "# Ждем завершения всех потоков вычисления суммы\n",
        "for thread in sum_threads:\n",
        "    thread.join()\n",
        "\n",
        "end_time_sum = time.time()\n",
        "\n",
        "total_sum = sum(results)\n",
        "\n",
        "print(f\"Время заполнения массива: {end_time_fill - start_time_fill} секунд\")\n",
        "print(f\"Время вычисления суммы: {end_time_sum - start_time_sum} секунд\")\n",
        "print(f\"Сумма элементов массива: {total_sum}\")"
      ],
      "metadata": {
        "colab": {
          "base_uri": "https://localhost:8080/"
        },
        "id": "KfZX03iGikib",
        "outputId": "aaca22f6-4554-4f66-b35b-3911810714c6"
      },
      "execution_count": 55,
      "outputs": [
        {
          "output_type": "stream",
          "name": "stdout",
          "text": [
            "Время заполнения массива: 0.062272071838378906 секунд\n",
            "Время вычисления суммы: 0.02977156639099121 секунд\n",
            "Сумма элементов массива: 1000000\n"
          ]
        }
      ]
    },
    {
      "cell_type": "code",
      "source": [
        "import multiprocessing\n",
        "import random\n",
        "import time\n",
        "\n",
        "# Функция для заполнения части массива случайными числами\n",
        "def fill_array_part(arr, start, end):\n",
        "    for i in range(start, end):\n",
        "        arr[i] = 1\n",
        "\n",
        "# Функция для вычисления суммы части массива\n",
        "def calculate_sum(arr, start, end, result):\n",
        "    partial_sum = sum(arr[start:end])\n",
        "    result.put(partial_sum)\n",
        "\n",
        "# Создаем пустой массив из 1000000 элементов\n",
        "arr = multiprocessing.Array('i', [0]*1000000)\n",
        "\n",
        "# Разделяем массив на 10 частей\n",
        "chunk_size = len(arr) // 10\n",
        "\n",
        "# Создаем и запускаем процессы для заполнения массива\n",
        "fill_processes = []\n",
        "start_time_fill = time.time()\n",
        "for i in range(10):\n",
        "    process = multiprocessing.Process(target=fill_array_part, args=(arr, i*chunk_size, (i+1)*chunk_size))\n",
        "    fill_processes.append(process)\n",
        "    process.start()\n",
        "\n",
        "# Ждем завершения всех процессов заполнения массива\n",
        "for process in fill_processes:\n",
        "    process.join()\n",
        "\n",
        "end_time_fill = time.time()\n",
        "\n",
        "# Создаем и запускаем процессы для вычисления суммы массива\n",
        "sum_processes = []\n",
        "results = multiprocessing.Queue()\n",
        "start_time_sum = time.time()\n",
        "for i in range(10):\n",
        "    process = multiprocessing.Process(target=calculate_sum, args=(arr, i*chunk_size, (i+1)*chunk_size, results))\n",
        "    sum_processes.append(process)\n",
        "    process.start()\n",
        "\n",
        "# Ждем завершения всех процессов вычисления суммы\n",
        "for process in sum_processes:\n",
        "    process.join()\n",
        "\n",
        "end_time_sum = time.time()\n",
        "\n",
        "total_sum = 0\n",
        "while not results.empty():\n",
        "    total_sum += results.get()\n",
        "\n",
        "print(f\"Время заполнения: {end_time_fill - start_time_fill} секунд\")\n",
        "print(f\"Время вычисления суммы: {end_time_sum - start_time_sum} секунд\")\n",
        "print(f\"Сумма элементов массива: {total_sum}\")"
      ],
      "metadata": {
        "colab": {
          "base_uri": "https://localhost:8080/"
        },
        "id": "DWZR1DI8k7yO",
        "outputId": "5f710db4-2525-421a-a363-6549504add54"
      },
      "execution_count": 56,
      "outputs": [
        {
          "output_type": "stream",
          "name": "stdout",
          "text": [
            "Время заполнения: 1.5937047004699707 секунд\n",
            "Время вычисления суммы: 0.2033991813659668 секунд\n",
            "Сумма элементов массива: 1000000\n"
          ]
        }
      ]
    },
    {
      "cell_type": "code",
      "source": [
        "import asyncio\n",
        "import random\n",
        "import time\n",
        "\n",
        "# Функция для заполнения части массива случайными числами\n",
        "async def fill_array_part(arr, start, end):\n",
        "    for i in range(start, end):\n",
        "        arr[i] = 1\n",
        "\n",
        "# Функция для вычисления суммы части массива\n",
        "async def calculate_sum(arr, start, end):\n",
        "    return sum(arr[start:end])\n",
        "\n",
        "async def main():\n",
        "    # Создаем пустой массив из 1000000 элементов\n",
        "    arr = [0]*1000000\n",
        "\n",
        "    # Разделяем массив на 10 частей\n",
        "    chunk_size = len(arr) // 10\n",
        "\n",
        "    # Запускаем асинхронные задачи для заполнения массива\n",
        "    fill_tasks = []\n",
        "    start_time_fill = time.time()\n",
        "    for i in range(10):\n",
        "        task = asyncio.create_task(fill_array_part(arr, i*chunk_size, (i+1)*chunk_size))\n",
        "        fill_tasks.append(task)\n",
        "\n",
        "    await asyncio.gather(*fill_tasks)\n",
        "    end_time_fill = time.time()\n",
        "\n",
        "    # Запускаем асинхронные задачи для вычисления суммы массива\n",
        "    sum_tasks = []\n",
        "    start_time_sum = time.time()\n",
        "    for i in range(10):\n",
        "        task = asyncio.create_task(calculate_sum(arr, i*chunk_size, (i+1)*chunk_size))\n",
        "        sum_tasks.append(task)\n",
        "\n",
        "    partial_sums = await asyncio.gather(*sum_tasks)\n",
        "    end_time_sum = time.time()\n",
        "\n",
        "    total_sum = sum(partial_sums)\n",
        "\n",
        "    print(f\"Время заполнения: {end_time_fill - start_time_fill} секунд\")\n",
        "    print(f\"Время вычисления суммы: {end_time_sum - start_time_sum} секунд\")\n",
        "    print(f\"Сумма элементов массива: {total_sum}\")\n",
        "\n",
        "\n",
        "await main()"
      ],
      "metadata": {
        "colab": {
          "base_uri": "https://localhost:8080/"
        },
        "id": "ZqmjU61nmqqB",
        "outputId": "aedb769e-cbf6-4425-fd5d-2ed751ad28bf"
      },
      "execution_count": 57,
      "outputs": [
        {
          "output_type": "stream",
          "name": "stdout",
          "text": [
            "Время заполнения: 0.059159278869628906 секунд\n",
            "Время вычисления суммы: 0.011265039443969727 секунд\n",
            "Сумма элементов массива: 1000000\n"
          ]
        }
      ]
    }
  ]
}