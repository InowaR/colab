{
  "nbformat": 4,
  "nbformat_minor": 0,
  "metadata": {
    "colab": {
      "provenance": [],
      "authorship_tag": "ABX9TyNA2b4Q0rwJ7NwK/TLvTqcT",
      "include_colab_link": true
    },
    "kernelspec": {
      "name": "python3",
      "display_name": "Python 3"
    },
    "language_info": {
      "name": "python"
    }
  },
  "cells": [
    {
      "cell_type": "markdown",
      "metadata": {
        "id": "view-in-github",
        "colab_type": "text"
      },
      "source": [
        "<a href=\"https://colab.research.google.com/github/InowaR/colab/blob/main/recursion.ipynb\" target=\"_parent\"><img src=\"https://colab.research.google.com/assets/colab-badge.svg\" alt=\"Open In Colab\"/></a>"
      ]
    },
    {
      "cell_type": "code",
      "execution_count": 5,
      "metadata": {
        "colab": {
          "base_uri": "https://localhost:8080/"
        },
        "id": "GfLOfyOmpC1p",
        "outputId": "7dc8299a-0198-40aa-ec1e-003aae6e7f0a"
      },
      "outputs": [
        {
          "output_type": "stream",
          "name": "stdout",
          "text": [
            "Сумма чисел от 1 до 10 равна 55\n",
            "10000\n",
            "5000.0\n",
            "2500.0\n",
            "1250.0\n",
            "625.0\n",
            "312.5\n",
            "156.25\n",
            "78.125\n",
            "39.0625\n",
            "19.53125\n",
            "9.765625\n",
            "4.8828125\n",
            "2.44140625\n",
            "1.220703125\n",
            "0.6103515625\n"
          ]
        }
      ],
      "source": [
        "def sum(m,n):\n",
        "  if m == n:\n",
        "    return m\n",
        "  return m + sum(m + 1, n)\n",
        "print(f\"Сумма чисел от 1 до 10 равна {sum(1, 10)}\")\n",
        "\n",
        "def recursion(a):\n",
        "  print(a)\n",
        "  if a < 1: \n",
        "    return a\n",
        "  recursion(a/2)\n",
        "\n",
        "recursion(10000)"
      ]
    }
  ]
}