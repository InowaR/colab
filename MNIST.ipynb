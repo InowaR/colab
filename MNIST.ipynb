{
  "nbformat": 4,
  "nbformat_minor": 0,
  "metadata": {
    "colab": {
      "provenance": [],
      "authorship_tag": "ABX9TyMOmeB02v/XTrV8gwEcnwHz",
      "include_colab_link": true
    },
    "kernelspec": {
      "name": "python3",
      "display_name": "Python 3"
    },
    "language_info": {
      "name": "python"
    }
  },
  "cells": [
    {
      "cell_type": "markdown",
      "metadata": {
        "id": "view-in-github",
        "colab_type": "text"
      },
      "source": [
        "<a href=\"https://colab.research.google.com/github/InowaR/colab/blob/main/MNIST.ipynb\" target=\"_parent\"><img src=\"https://colab.research.google.com/assets/colab-badge.svg\" alt=\"Open In Colab\"/></a>"
      ]
    },
    {
      "cell_type": "code",
      "execution_count": 50,
      "metadata": {
        "colab": {
          "base_uri": "https://localhost:8080/",
          "height": 467
        },
        "id": "wf1jd-tCskwH",
        "outputId": "88c872a3-bbc7-42cf-de28-9f0f501b0ae6"
      },
      "outputs": [
        {
          "output_type": "stream",
          "name": "stdout",
          "text": [
            "1/1 [==============================] - 0s 68ms/step\n",
            "The predicted class index is 3.\n"
          ]
        },
        {
          "output_type": "display_data",
          "data": {
            "text/plain": [
              "<Figure size 640x480 with 1 Axes>"
            ],
            "image/png": "[encoded data removed]"
          },
          "metadata": {}
        }
      ],
      "source": [
        "import numpy as np\n",
        "import tensorflow as tf\n",
        "import tensorflow_datasets as tfds\n",
        "from keras.models import load_model\n",
        "from keras.utils import load_img, img_to_array\n",
        "import matplotlib.pyplot as plt\n",
        "from PIL import Image\n",
        "\n",
        "# (ds_train, ds_test), ds_info = tfds.load(\n",
        "#     'mnist',\n",
        "#     split=['train', 'test'],\n",
        "#     shuffle_files=True,\n",
        "#     as_supervised=True,\n",
        "#     with_info=True,\n",
        "# )\n",
        "\n",
        "# def normalize_img(image, label):\n",
        "#   return tf.cast(image, tf.float32) / 255., label\n",
        "\n",
        "# ds_train = ds_train.map(normalize_img, num_parallel_calls=tf.data.AUTOTUNE)\n",
        "# ds_train = ds_train.cache()\n",
        "# ds_train = ds_train.shuffle(ds_info.splits['train'].num_examples)\n",
        "# ds_train = ds_train.batch(128)\n",
        "# ds_train = ds_train.prefetch(tf.data.AUTOTUNE)\n",
        "\n",
        "# ds_test = ds_test.map(normalize_img, num_parallel_calls=tf.data.AUTOTUNE)\n",
        "# ds_test = ds_test.batch(128)\n",
        "# ds_test = ds_test.cache()\n",
        "# ds_test = ds_test.prefetch(tf.data.AUTOTUNE)\n",
        "\n",
        "# model = tf.keras.models.Sequential([\n",
        "#   tf.keras.layers.Flatten(input_shape=(28, 28)),\n",
        "#   tf.keras.layers.Dense(128, activation='relu'),\n",
        "#   tf.keras.layers.Dense(10)\n",
        "# ])\n",
        "# model.compile(\n",
        "#     optimizer=tf.keras.optimizers.Adam(0.001),\n",
        "#     loss=tf.keras.losses.SparseCategoricalCrossentropy(from_logits=True),\n",
        "#     metrics=[tf.keras.metrics.SparseCategoricalAccuracy()],\n",
        "# )\n",
        "\n",
        "# model.fit(\n",
        "#     ds_train,\n",
        "#     epochs=6,\n",
        "#     validation_data=ds_test,\n",
        "# )\n",
        "\n",
        "# model.save('model.h5')\n",
        "\n",
        "model = load_model('model.h5')\n",
        "\n",
        "example = '3.jpg' # 28 x 28 pixels \n",
        "\n",
        "test_image = load_img(example, color_mode='grayscale', target_size=(28, 28))\n",
        "test_image = img_to_array(test_image) / 255.0\n",
        "test_image = np.expand_dims(test_image, axis=0)\n",
        "\n",
        "prediction = model.predict(test_image)\n",
        "class_index = np.argmax(prediction)\n",
        "\n",
        "with Image.open(example) as img:\n",
        "     img.load()\n",
        "plt.imshow(img)\n",
        "\n",
        "print(f\"The predicted class index is {class_index}.\")"
      ]
    }
  ]
}