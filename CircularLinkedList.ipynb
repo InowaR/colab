{
  "nbformat": 4,
  "nbformat_minor": 0,
  "metadata": {
    "colab": {
      "provenance": [],
      "authorship_tag": "ABX9TyN+9or6uk6PPl7tlaWsPlym",
      "include_colab_link": true
    },
    "kernelspec": {
      "name": "python3",
      "display_name": "Python 3"
    },
    "language_info": {
      "name": "python"
    }
  },
  "cells": [
    {
      "cell_type": "markdown",
      "metadata": {
        "id": "view-in-github",
        "colab_type": "text"
      },
      "source": [
        "<a href=\"https://colab.research.google.com/github/InowaR/colab/blob/main/CircularLinkedList.ipynb\" target=\"_parent\"><img src=\"https://colab.research.google.com/assets/colab-badge.svg\" alt=\"Open In Colab\"/></a>"
      ]
    },
    {
      "cell_type": "code",
      "execution_count": 1,
      "metadata": {
        "colab": {
          "base_uri": "https://localhost:8080/",
          "height": 459
        },
        "id": "gQrSXC7A-n8z",
        "outputId": "1b290fc2-c1c0-4f83-913d-72f905390bfd"
      },
      "outputs": [
        {
          "output_type": "stream",
          "name": "stdout",
          "text": [
            "1\n",
            "2\n",
            "3\n",
            "False\n",
            "1\n",
            "2\n"
          ]
        },
        {
          "output_type": "error",
          "ename": "KeyboardInterrupt",
          "evalue": "ignored",
          "traceback": [
            "\u001b[0;31m---------------------------------------------------------------------------\u001b[0m",
            "\u001b[0;31mKeyboardInterrupt\u001b[0m                         Traceback (most recent call last)",
            "\u001b[0;32m<ipython-input-1-a88071a142c4>\u001b[0m in \u001b[0;36m<cell line: 82>\u001b[0;34m()\u001b[0m\n\u001b[1;32m     80\u001b[0m \u001b[0mprint\u001b[0m\u001b[0;34m(\u001b[0m\u001b[0mlinked_list\u001b[0m\u001b[0;34m.\u001b[0m\u001b[0mget\u001b[0m\u001b[0;34m(\u001b[0m\u001b[0;36m1\u001b[0m\u001b[0;34m)\u001b[0m\u001b[0;34m)\u001b[0m  \u001b[0;31m# 3\u001b[0m\u001b[0;34m\u001b[0m\u001b[0;34m\u001b[0m\u001b[0m\n\u001b[1;32m     81\u001b[0m \u001b[0;34m\u001b[0m\u001b[0m\n\u001b[0;32m---> 82\u001b[0;31m \u001b[0mprint\u001b[0m\u001b[0;34m(\u001b[0m\u001b[0mlen\u001b[0m\u001b[0;34m(\u001b[0m\u001b[0mlinked_list\u001b[0m\u001b[0;34m)\u001b[0m\u001b[0;34m)\u001b[0m  \u001b[0;31m# 2\u001b[0m\u001b[0;34m\u001b[0m\u001b[0;34m\u001b[0m\u001b[0m\n\u001b[0m",
            "\u001b[0;32m<ipython-input-1-a88071a142c4>\u001b[0m in \u001b[0;36m__len__\u001b[0;34m(self)\u001b[0m\n\u001b[1;32m     57\u001b[0m         \u001b[0mcurrent\u001b[0m \u001b[0;34m=\u001b[0m \u001b[0mself\u001b[0m\u001b[0;34m.\u001b[0m\u001b[0mhead\u001b[0m\u001b[0;34m\u001b[0m\u001b[0;34m\u001b[0m\u001b[0m\n\u001b[1;32m     58\u001b[0m         \u001b[0mcount\u001b[0m \u001b[0;34m=\u001b[0m \u001b[0;36m0\u001b[0m\u001b[0;34m\u001b[0m\u001b[0;34m\u001b[0m\u001b[0m\n\u001b[0;32m---> 59\u001b[0;31m         \u001b[0;32mwhile\u001b[0m \u001b[0mcurrent\u001b[0m \u001b[0;32mis\u001b[0m \u001b[0;32mnot\u001b[0m \u001b[0;32mNone\u001b[0m\u001b[0;34m:\u001b[0m\u001b[0;34m\u001b[0m\u001b[0;34m\u001b[0m\u001b[0m\n\u001b[0m\u001b[1;32m     60\u001b[0m             \u001b[0mcount\u001b[0m \u001b[0;34m+=\u001b[0m \u001b[0;36m1\u001b[0m\u001b[0;34m\u001b[0m\u001b[0;34m\u001b[0m\u001b[0m\n\u001b[1;32m     61\u001b[0m             \u001b[0mcurrent\u001b[0m \u001b[0;34m=\u001b[0m \u001b[0mcurrent\u001b[0m\u001b[0;34m.\u001b[0m\u001b[0mnext\u001b[0m\u001b[0;34m\u001b[0m\u001b[0;34m\u001b[0m\u001b[0m\n",
            "\u001b[0;31mKeyboardInterrupt\u001b[0m: "
          ]
        }
      ],
      "source": [
        "class Node:\n",
        "    def __init__(self, value):\n",
        "        self.value = value\n",
        "        self.next = None\n",
        "\n",
        "class CircularLinkedList:\n",
        "    def __init__(self):\n",
        "        self.head = None\n",
        "        self.tail = None\n",
        "\n",
        "    def is_empty(self):\n",
        "        return self.head is None\n",
        "\n",
        "    def add(self, value):\n",
        "        new_node = Node(value)\n",
        "        if self.is_empty():\n",
        "            self.head = new_node\n",
        "            self.tail = new_node\n",
        "            new_node.next = new_node\n",
        "        else:\n",
        "            self.tail.next = new_node\n",
        "            new_node.next = self.head\n",
        "            self.tail = new_node\n",
        "\n",
        "    def remove(self, value):\n",
        "        if self.is_empty():\n",
        "            return\n",
        "\n",
        "        current = self.head\n",
        "        while current is not None:\n",
        "            if current.value == value:\n",
        "                if current == self.head:\n",
        "                    if self.head == self.tail:\n",
        "                        self.head = None\n",
        "                        self.tail = None\n",
        "                    else:\n",
        "                        self.head = self.head.next\n",
        "                        self.tail.next = self.head\n",
        "                else:\n",
        "                    current.next = current.next.next\n",
        "                return\n",
        "            current = current.next\n",
        "\n",
        "    def get(self, index):\n",
        "        if index < 0:\n",
        "            raise IndexError(\"Index is out of bounds\")\n",
        "\n",
        "        current = self.head\n",
        "        for _ in range(index):\n",
        "            if current is None:\n",
        "                raise IndexError(\"Index is out of bounds\")\n",
        "            current = current.next\n",
        "\n",
        "        return current.value\n",
        "\n",
        "    def __len__(self):\n",
        "        current = self.head\n",
        "        count = 0\n",
        "        while current is not None:\n",
        "            count += 1\n",
        "            current = current.next\n",
        "        return count\n",
        "\n",
        "\n",
        "# Пример использования\n",
        "linked_list = CircularLinkedList()\n",
        "linked_list.add(1)\n",
        "linked_list.add(2)\n",
        "linked_list.add(3)\n",
        "\n",
        "print(linked_list.get(0))  # 1\n",
        "print(linked_list.get(1))  # 2\n",
        "print(linked_list.get(2))  # 3\n",
        "\n",
        "print(linked_list.is_empty())  # False\n",
        "\n",
        "linked_list.remove(2)\n",
        "\n",
        "print(linked_list.get(0))  # 1\n",
        "print(linked_list.get(1))  # 3\n",
        "\n",
        "print(len(linked_list))  # 2"
      ]
    }
  ]
}