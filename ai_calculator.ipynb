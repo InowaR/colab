{
  "nbformat": 4,
  "nbformat_minor": 0,
  "metadata": {
    "colab": {
      "provenance": [],
      "authorship_tag": "ABX9TyP3UpF+RZkS46IMMxJrx1dp",
      "include_colab_link": true
    },
    "kernelspec": {
      "name": "python3",
      "display_name": "Python 3"
    },
    "language_info": {
      "name": "python"
    }
  },
  "cells": [
    {
      "cell_type": "markdown",
      "metadata": {
        "id": "view-in-github",
        "colab_type": "text"
      },
      "source": [
        "<a href=\"https://colab.research.google.com/github/InowaR/colab/blob/main/ai_calculator.ipynb\" target=\"_parent\"><img src=\"https://colab.research.google.com/assets/colab-badge.svg\" alt=\"Open In Colab\"/></a>"
      ]
    },
    {
      "cell_type": "code",
      "source": [
        "import sys\n",
        "\n",
        "if \"google.colab\" in sys.modules:\n",
        "    from google.colab import auth\n",
        "\n",
        "    auth.authenticate_user()"
      ],
      "metadata": {
        "id": "aWyiIA4sdUkN"
      },
      "execution_count": 13,
      "outputs": []
    },
    {
      "cell_type": "code",
      "execution_count": 14,
      "metadata": {
        "id": "gsDnPYcUSym3"
      },
      "outputs": [],
      "source": [
        "from google.colab import userdata\n",
        "\n",
        "PROJECT_ID = userdata.get('PROJECT_ID')\n",
        "LOCATION = userdata.get('LOCATION')"
      ]
    },
    {
      "cell_type": "code",
      "source": [
        "import vertexai\n",
        "from vertexai.generative_models import GenerativeModel\n",
        "\n",
        "\n",
        "vertexai.init(project=PROJECT_ID, location=LOCATION)\n",
        "model = GenerativeModel(\"gemini-1.0-pro\")"
      ],
      "metadata": {
        "id": "iKYltmoOS-Av"
      },
      "execution_count": 15,
      "outputs": []
    },
    {
      "cell_type": "code",
      "source": [
        "class Calculator:\n",
        "    def __init__(self):\n",
        "        self.chat = model.start_chat(history=[])\n",
        "        self.send_data('Привет, давай сыграем в игру, я отправлю тебе математическую формулу с описанием задачи, напиши алгоритм решения и ответ. ')\n",
        "        self.formula = ''\n",
        "        self.task = ''\n",
        "\n",
        "    def send_data(self, prompt):\n",
        "        response = self.chat.send_message(prompt)\n",
        "        return response.text\n",
        "\n",
        "    def set_formula(self, formula):\n",
        "        self.formula = f'Вот формула для расчета: {formula}. '\n",
        "\n",
        "    def set_task(self, task):\n",
        "        self.task = f'Вот задача: {task}. '\n",
        "\n",
        "    def send_to_ai(self):\n",
        "        response = self.send_data(prompt = self.formula + self.task)\n",
        "        return response\n",
        "\n",
        "    def clear_context(self):\n",
        "        self.chat.history.clear()"
      ],
      "metadata": {
        "id": "JT0NBC2xTS6o"
      },
      "execution_count": 29,
      "outputs": []
    },
    {
      "cell_type": "code",
      "source": [
        "class View:\n",
        "    def __init__(self):\n",
        "        self.calculator = Calculator()\n",
        "        self.menu_commands_passed = []\n",
        "\n",
        "    def check_commands(self, n):\n",
        "        return False if n in self.menu_commands_passed else True\n",
        "\n",
        "    def print_menu(self):\n",
        "        print('--------------------')\n",
        "        print('Меню')\n",
        "        print('1. Ввести формулу')\n",
        "        print('2. Описать задачу')\n",
        "        print('3. Посчитать')\n",
        "        print('Введите \"q\" чтобы выйти')\n",
        "\n",
        "    def menu(self):\n",
        "            command = input('Введите номер команды: ')\n",
        "\n",
        "            if command == '1':\n",
        "                if self.check_commands(command):\n",
        "                    f = input('1. Введите формулу: ')\n",
        "                    self.calculator.set_formula(f)\n",
        "                    self.menu_commands_passed.append(command)\n",
        "                else:\n",
        "                    print('Формула уже введена')\n",
        "\n",
        "            elif command == '2':\n",
        "                if self.check_commands(command):\n",
        "                    t = input('1. Опишите задачу: ')\n",
        "                    self.calculator.set_task(t)\n",
        "                    self.menu_commands_passed.append(command)\n",
        "                else:\n",
        "                    print('Задача уже введена')\n",
        "\n",
        "            elif command == '3':\n",
        "                if self.check_commands(command):\n",
        "                    response = self.calculator.send_to_ai()\n",
        "                    print(response)\n",
        "                    self.menu_commands_passed = []\n",
        "\n",
        "            elif command == 'q':\n",
        "                return True\n",
        "\n",
        "            else:\n",
        "                print('Нет такой команды')\n",
        "\n",
        "    def start(self):\n",
        "        while True:\n",
        "            self.print_menu()\n",
        "            command = self.menu()\n",
        "            if command:\n",
        "                break"
      ],
      "metadata": {
        "id": "z2vPoR7IUaRY"
      },
      "execution_count": 30,
      "outputs": []
    },
    {
      "cell_type": "code",
      "source": [
        "view = View()\n",
        "view.start()"
      ],
      "metadata": {
        "colab": {
          "base_uri": "https://localhost:8080/"
        },
        "id": "J3b9ERyFc8vJ",
        "outputId": "39e2d18b-88fb-4e71-a320-2e918c6cd417"
      },
      "execution_count": 31,
      "outputs": [
        {
          "name": "stdout",
          "output_type": "stream",
          "text": [
            "--------------------\n",
            "Меню\n",
            "1. Ввести формулу\n",
            "2. Описать задачу\n",
            "3. Посчитать\n",
            "Введите \"q\" чтобы выйти\n",
            "Введите номер команды: 1\n",
            "1. Введите формулу: y = 5 * x ** 3\n",
            "--------------------\n",
            "Меню\n",
            "1. Ввести формулу\n",
            "2. Описать задачу\n",
            "3. Посчитать\n",
            "Введите \"q\" чтобы выйти\n",
            "Введите номер команды: 2\n",
            "1. Опишите задачу: посчитай y при x = 2\n",
            "--------------------\n",
            "Меню\n",
            "1. Ввести формулу\n",
            "2. Описать задачу\n",
            "3. Посчитать\n",
            "Введите \"q\" чтобы выйти\n",
            "Введите номер команды: 3\n",
            "## Алгоритм решения:\n",
            "\n",
            "1. **Подставь значение переменной x в формулу:**\n",
            "\n",
            "В данном случае x = 2, значит нужно подставить 2 вместо всех x в формуле:\n",
            "\n",
            "```\n",
            "y = 5 * 2 ** 3\n",
            "```\n",
            "\n",
            "2. **Вычисли степень:**\n",
            "\n",
            "Сначала вычисляем 2 в степени 3:\n",
            "\n",
            "```\n",
            "2 ** 3 = 2 * 2 * 2 = 8\n",
            "```\n",
            "\n",
            "3. **Умножь полученный результат на 5:**\n",
            "\n",
            "```\n",
            "y = 5 * 8 = 40\n",
            "```\n",
            "\n",
            "## Ответ:\n",
            "\n",
            "При x = 2, значение y равно 40.\n",
            "--------------------\n",
            "Меню\n",
            "1. Ввести формулу\n",
            "2. Описать задачу\n",
            "3. Посчитать\n",
            "Введите \"q\" чтобы выйти\n",
            "Введите номер команды: q\n"
          ]
        }
      ]
    }
  ]
}