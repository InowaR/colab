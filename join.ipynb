{
  "nbformat": 4,
  "nbformat_minor": 0,
  "metadata": {
    "colab": {
      "provenance": [],
      "authorship_tag": "ABX9TyPShE6/ZWw+TlX6vHwJME8w",
      "include_colab_link": true
    },
    "kernelspec": {
      "name": "python3",
      "display_name": "Python 3"
    },
    "language_info": {
      "name": "python"
    }
  },
  "cells": [
    {
      "cell_type": "markdown",
      "metadata": {
        "id": "view-in-github",
        "colab_type": "text"
      },
      "source": [
        "<a href=\"https://colab.research.google.com/github/InowaR/colab/blob/main/join.ipynb\" target=\"_parent\"><img src=\"https://colab.research.google.com/assets/colab-badge.svg\" alt=\"Open In Colab\"/></a>"
      ]
    },
    {
      "cell_type": "code",
      "source": [
        "import time\n",
        "\n",
        "def time_of_function(function):\n",
        "    def wrapped(*args):\n",
        "        start_time = time.perf_counter_ns()\n",
        "        res = function(*args)\n",
        "        print(time.perf_counter_ns() - start_time)\n",
        "        return res\n",
        "    return wrapped"
      ],
      "metadata": {
        "id": "UiN-tJNX11Fc"
      },
      "execution_count": 2,
      "outputs": []
    },
    {
      "cell_type": "code",
      "execution_count": 3,
      "metadata": {
        "colab": {
          "base_uri": "https://localhost:8080/"
        },
        "id": "CNFNfFOdrtTo",
        "outputId": "230a5ddc-6288-480e-dc9a-2aff1ebd6eff"
      },
      "outputs": [
        {
          "output_type": "stream",
          "name": "stdout",
          "text": [
            "Empty\n",
            "Empty\n",
            "Empty\n"
          ]
        }
      ],
      "source": [
        "import sqlite3\n",
        "from tabulate import tabulate\n",
        "import datetime\n",
        "\n",
        "db = 'chat2.db'\n",
        "\n",
        "def show_tables():\n",
        "  tables = ['users', 'chats', 'chat_users']\n",
        "  def show(tablename):\n",
        "    try:\n",
        "      with sqlite3.connect(db) as connection:\n",
        "        cursor = connection.cursor()\n",
        "        cursor.execute(f'SELECT * FROM {tablename}')\n",
        "        results = cursor.fetchall()\n",
        "        headers = []\n",
        "        for i in range(len(cursor.description)):\n",
        "          headers.append(cursor.description[i][0])\n",
        "        print(tablename)\n",
        "        print(tabulate(results, headers=headers, tablefmt='grid', stralign='center'))\n",
        "        print(\"\\n\")\n",
        "    except:\n",
        "      print(\"Empty\")\n",
        "\n",
        "  for table in tables:\n",
        "    show(table)\n",
        "\n",
        "show_tables()"
      ]
    },
    {
      "cell_type": "code",
      "source": [
        "def create_db1():\n",
        "    with sqlite3.connect('chat1.db') as connection:\n",
        "        cursor = connection.cursor()\n",
        "        cursor.execute(\n",
        "            \"\"\"\n",
        "                CREATE TABLE users (\n",
        "                    login TEXT,\n",
        "                    password TEXT,\n",
        "                    username TEXT,\n",
        "                    age INTEGER,\n",
        "                    city TEXT\n",
        "                );\n",
        "            \"\"\"\n",
        "        )\n",
        "        cursor.execute(\n",
        "            \"\"\"\n",
        "                CREATE TABLE chats (\n",
        "                    chatname TEXT,\n",
        "                    description TEXT,\n",
        "                    created_at DATETIME\n",
        "                );\n",
        "            \"\"\"\n",
        "        )\n",
        "        cursor.execute(\n",
        "            \"\"\"\n",
        "                CREATE TABLE chat_users (\n",
        "                    login TEXT,\n",
        "                    chatname TEXT\n",
        "                );\n",
        "            \"\"\"\n",
        "        )\n",
        "        connection.commit()\n",
        "\n",
        "create_db1()\n"
      ],
      "metadata": {
        "id": "mfqeiSnwttyK"
      },
      "execution_count": 4,
      "outputs": []
    },
    {
      "cell_type": "code",
      "source": [
        "def create_db2():\n",
        "    with sqlite3.connect('chat2.db') as connection:\n",
        "        cursor = connection.cursor()\n",
        "        cursor.execute(\n",
        "            \"\"\"\n",
        "                CREATE TABLE users (\n",
        "                    id INTEGER PRIMARY KEY AUTOINCREMENT,\n",
        "                    login TEXT,\n",
        "                    password TEXT,\n",
        "                    username TEXT,\n",
        "                    age INTEGER,\n",
        "                    city TEXT\n",
        "                );\n",
        "            \"\"\"\n",
        "        )\n",
        "        cursor.execute(\n",
        "            \"\"\"\n",
        "                CREATE TABLE chats (\n",
        "                    id INTEGER PRIMARY KEY AUTOINCREMENT,\n",
        "                    chatname TEXT,\n",
        "                    description TEXT,\n",
        "                    created_at DATETIME\n",
        "                );\n",
        "            \"\"\"\n",
        "        )\n",
        "        cursor.execute(\n",
        "            \"\"\"\n",
        "                CREATE TABLE chat_users (\n",
        "                    user_id INTEGER NOT NULL,\n",
        "                    chat_id INTEGER NOT NULL,\n",
        "                    FOREIGN KEY (user_id) REFERENCES users(id),\n",
        "                    FOREIGN KEY (chat_id) REFERENCES chats(id)\n",
        "                );\n",
        "            \"\"\"\n",
        "        )\n",
        "        connection.commit()\n",
        "\n",
        "create_db2()"
      ],
      "metadata": {
        "id": "OhQXUm5Uu7fk"
      },
      "execution_count": 5,
      "outputs": []
    },
    {
      "cell_type": "code",
      "source": [
        "def insert_user1(login: str, password: str, username: str, age: int, city: str):\n",
        "    with sqlite3.connect('chat1.db') as connection:\n",
        "        cursor = connection.cursor()\n",
        "        query = \"\"\"\n",
        "                    INSERT INTO users (login, password, username, age, city)\n",
        "                    VALUES (?, ?, ?, ?, ?)\n",
        "                \"\"\"\n",
        "        cursor.execute(query, (login, password, username, age, city))\n",
        "        connection.commit()\n",
        "\n",
        "\n",
        "def insert_chat1(chatname: str, description: str):\n",
        "    with sqlite3.connect('chat1.db') as connection:\n",
        "        cursor = connection.cursor()\n",
        "        query = \"\"\"\n",
        "                    INSERT INTO chats (chatname, description, created_at)\n",
        "                    VALUES (?, ?, CURRENT_TIMESTAMP)\n",
        "                \"\"\"\n",
        "        cursor.execute(query, (chatname, description))\n",
        "        connection.commit()\n",
        "\n",
        "\n",
        "def insert_chat_user1(login: str, chatname: str):\n",
        "    with sqlite3.connect('chat1.db') as connection:\n",
        "        cursor = connection.cursor()\n",
        "        query = \"\"\"\n",
        "                    INSERT INTO chat_users (login, chatname)\n",
        "                    VALUES (?, ?)\n",
        "                \"\"\"\n",
        "        cursor.execute(query, (login, chatname))\n",
        "        connection.commit()\n",
        "\n",
        "\n",
        "def insert_user2(login: str, password: str, username: str, age: int, city: str):\n",
        "    with sqlite3.connect('chat2.db') as connection:\n",
        "        cursor = connection.cursor()\n",
        "        query = \"\"\"\n",
        "                    INSERT INTO users (login, password, username, age, city)\n",
        "                    VALUES (?, ?, ?, ?, ?)\n",
        "                \"\"\"\n",
        "        cursor.execute(query, (login, password, username, age, city))\n",
        "        connection.commit()\n",
        "\n",
        "\n",
        "def insert_chat2(chatname: str, description: str):\n",
        "    with sqlite3.connect('chat2.db') as connection:\n",
        "        cursor = connection.cursor()\n",
        "        query = \"\"\"\n",
        "                    INSERT INTO chats (chatname, description, created_at)\n",
        "                    VALUES (?, ?, CURRENT_TIMESTAMP)\n",
        "                \"\"\"\n",
        "        cursor.execute(query, (chatname, description))\n",
        "        connection.commit()\n",
        "\n",
        "\n",
        "def insert_chat_user2(login: str, chatname: str):\n",
        "    with sqlite3.connect('chat2.db') as connection:\n",
        "        cursor = connection.cursor()\n",
        "        query = \"\"\"\n",
        "            INSERT INTO chat_users (user_id, chat_id)\n",
        "            SELECT u.id, c.id\n",
        "            FROM users u\n",
        "            JOIN chats c ON u.login = ? AND c.chatname = ?;\n",
        "        \"\"\"\n",
        "        cursor.execute(query, (login, chatname))\n",
        "        connection.commit()\n",
        "\n",
        "@time_of_function\n",
        "def f1():\n",
        "  for i in range(20):\n",
        "    insert_user1(\"shsfeawd\", \"123123\", \"Alex\", 23, \"New York\")\n",
        "    insert_user1(\"awawddwq\", \"231231\", \"Ann\", 22, \"Paris\")\n",
        "    insert_chat1(\"new_chat\", \"study_chat\")\n",
        "    insert_chat1(\"another_chat\", \"hobby chat\")\n",
        "    insert_chat_user1(\"shsfeawd\", \"new_chat\")\n",
        "    insert_chat_user1(\"shsfeawd\", \"another_chat\")\n",
        "    insert_chat_user1(\"awawddwq\", \"new_chat\")\n",
        "    insert_chat_user1(\"awawddwq\", \"another_chat\")\n",
        "\n",
        "@time_of_function\n",
        "def f2():\n",
        "  for i in range(20):\n",
        "    insert_user2(\"shsfeawd\", \"123123\", \"Alex\", 23, \"New York\")\n",
        "    insert_user2(\"awawddwq\", \"231231\", \"Ann\", 22, \"Paris\")\n",
        "    insert_chat2(\"new_chat\", \"study_chat\")\n",
        "    insert_chat2(\"another_chat\", \"hobby chat\")\n",
        "    insert_chat_user2(\"shsfeawd\", \"new_chat\")\n",
        "    insert_chat_user2(\"shsfeawd\", \"another_chat\")\n",
        "    insert_chat_user2(\"awawddwq\", \"new_chat\")\n",
        "    insert_chat_user2(\"awawddwq\", \"another_chat\")\n",
        "\n",
        "f1()\n",
        "f2()"
      ],
      "metadata": {
        "colab": {
          "base_uri": "https://localhost:8080/"
        },
        "id": "sXRCP-HcxJ5J",
        "outputId": "21efeeda-0a38-4b0e-9cac-50d6abd88d48"
      },
      "execution_count": 13,
      "outputs": [
        {
          "output_type": "stream",
          "name": "stdout",
          "text": [
            "1226040911\n",
            "1643422347\n"
          ]
        }
      ]
    }
  ]
}