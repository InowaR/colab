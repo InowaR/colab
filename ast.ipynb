{
  "nbformat": 4,
  "nbformat_minor": 0,
  "metadata": {
    "colab": {
      "provenance": [],
      "authorship_tag": "ABX9TyOA8LwFsZBdTEDU9rhqLkoy",
      "include_colab_link": true
    },
    "kernelspec": {
      "name": "python3",
      "display_name": "Python 3"
    },
    "language_info": {
      "name": "python"
    }
  },
  "cells": [
    {
      "cell_type": "markdown",
      "metadata": {
        "id": "view-in-github",
        "colab_type": "text"
      },
      "source": [
        "<a href=\"https://colab.research.google.com/github/InowaR/colab/blob/main/ast.ipynb\" target=\"_parent\"><img src=\"https://colab.research.google.com/assets/colab-badge.svg\" alt=\"Open In Colab\"/></a>"
      ]
    },
    {
      "cell_type": "code",
      "execution_count": 61,
      "metadata": {
        "colab": {
          "base_uri": "https://localhost:8080/"
        },
        "id": "XWL7bk-4kbwp",
        "outputId": "ef083184-350e-4b0e-d59a-33583a2fd0cb"
      },
      "outputs": [
        {
          "output_type": "stream",
          "name": "stdout",
          "text": [
            "hello 1\n",
            "hi\n"
          ]
        }
      ],
      "source": [
        "import ast\n",
        "\n",
        "tree = ast.parse(\"\"\"\n",
        "a = 1\n",
        "print(f'hello {a}')\n",
        "\"\"\")\n",
        "\n",
        "exec(compile(tree, filename='', mode='exec'))\n",
        "\n",
        "program = 'print(\"hi\")'\n",
        "exec(program)"
      ]
    }
  ]
}