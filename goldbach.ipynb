{
  "nbformat": 4,
  "nbformat_minor": 0,
  "metadata": {
    "colab": {
      "provenance": [],
      "authorship_tag": "ABX9TyOunxlDBkrcbRgXlvPm1/EC",
      "include_colab_link": true
    },
    "kernelspec": {
      "name": "python3",
      "display_name": "Python 3"
    },
    "language_info": {
      "name": "python"
    }
  },
  "cells": [
    {
      "cell_type": "markdown",
      "metadata": {
        "id": "view-in-github",
        "colab_type": "text"
      },
      "source": [
        "<a href=\"https://colab.research.google.com/github/InowaR/colab/blob/main/goldbach.ipynb\" target=\"_parent\"><img src=\"https://colab.research.google.com/assets/colab-badge.svg\" alt=\"Open In Colab\"/></a>"
      ]
    },
    {
      "cell_type": "code",
      "execution_count": 70,
      "metadata": {
        "colab": {
          "base_uri": "https://localhost:8080/"
        },
        "id": "1MeaeRVuq9pa",
        "outputId": "8f88b355-f4c5-482c-99a5-30e909351722"
      },
      "outputs": [
        {
          "output_type": "stream",
          "name": "stdout",
          "text": [
            "[4, 5, 7, 9, 13, 15, 19, 21, 25, 31, 33, 5, 6, 8, 10, 14, 16, 20, 22, 26, 32, 34, 7, 8, 10, 12, 16, 18, 22, 24, 28, 34, 36, 9, 10, 12, 14, 18, 20, 24, 26, 30, 36, 38, 13, 14, 16, 18, 22, 24, 28, 30, 34, 40, 42, 15, 16, 18, 20, 24, 26, 30, 32, 36, 42, 44, 19, 20, 22, 24, 28, 30, 34, 36, 40, 46, 48, 21, 22, 24, 26, 30, 32, 36, 38, 42, 48, 50, 25, 26, 28, 30, 34, 36, 40, 42, 46, 52, 54, 31, 32, 34, 36, 40, 42, 46, 48, 52, 58, 60, 33, 34, 36, 38, 42, 44, 48, 50, 54, 60, 62]\n",
            "25 is index of N in sum array\n",
            "2 is index of first prime number\n",
            "3 is index of second prime number\n"
          ]
        }
      ],
      "source": [
        "import numpy as np\n",
        "N = 12\n",
        "a = np.array([2, 3, 5, 7, 11, 13, 17, 19, 23, 29, 31])\n",
        "b = []\n",
        "index_i = []\n",
        "index_j = []\n",
        "i = 0\n",
        "while i < len(a):\n",
        "  j = 0\n",
        "  while j < len(a):\n",
        "    b.append(a[i] + a[j])\n",
        "    index_i.append(i)\n",
        "    index_j.append(j)\n",
        "    j += 1\n",
        "  i += 1\n",
        "print(b)\n",
        "count = 0\n",
        "while count < len(b):\n",
        "  if b[count] == N:\n",
        "    print(count, \"is index of N in sum array\")\n",
        "    break\n",
        "  count +=1\n",
        "print(index_i[count], \"is index of first prime number\")\n",
        "print(index_j[count], \"is index of second prime number\")"
      ]
    }
  ]
}