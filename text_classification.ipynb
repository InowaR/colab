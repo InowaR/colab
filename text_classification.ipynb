{
  "nbformat": 4,
  "nbformat_minor": 0,
  "metadata": {
    "colab": {
      "provenance": [],
      "authorship_tag": "ABX9TyPWQzODMAAOpzSxbJOxUwVY",
      "include_colab_link": true
    },
    "kernelspec": {
      "name": "python3",
      "display_name": "Python 3"
    },
    "language_info": {
      "name": "python"
    }
  },
  "cells": [
    {
      "cell_type": "markdown",
      "metadata": {
        "id": "view-in-github",
        "colab_type": "text"
      },
      "source": [
        "<a href=\"https://colab.research.google.com/github/InowaR/colab/blob/main/text_classification.ipynb\" target=\"_parent\"><img src=\"https://colab.research.google.com/assets/colab-badge.svg\" alt=\"Open In Colab\"/></a>"
      ]
    },
    {
      "cell_type": "code",
      "execution_count": 4,
      "metadata": {
        "colab": {
          "base_uri": "https://localhost:8080/"
        },
        "id": "qK3e2vtWm2RL",
        "outputId": "a5929678-0b05-4f94-b2b1-80e5e8cfc958"
      },
      "outputs": [
        {
          "output_type": "stream",
          "name": "stdout",
          "text": [
            "Epoch 1/10\n",
            "6/6 [==============================] - 2s 4ms/step - loss: 0.6926 - accuracy: 0.6667\n",
            "Epoch 2/10\n",
            "6/6 [==============================] - 0s 3ms/step - loss: 0.6909 - accuracy: 0.8333\n",
            "Epoch 3/10\n",
            "6/6 [==============================] - 0s 3ms/step - loss: 0.6887 - accuracy: 0.8333\n",
            "Epoch 4/10\n",
            "6/6 [==============================] - 0s 3ms/step - loss: 0.6872 - accuracy: 0.8333\n",
            "Epoch 5/10\n",
            "6/6 [==============================] - 0s 3ms/step - loss: 0.6850 - accuracy: 0.8333\n",
            "Epoch 6/10\n",
            "6/6 [==============================] - 0s 3ms/step - loss: 0.6826 - accuracy: 0.8333\n",
            "Epoch 7/10\n",
            "6/6 [==============================] - 0s 3ms/step - loss: 0.6799 - accuracy: 0.8333\n",
            "Epoch 8/10\n",
            "6/6 [==============================] - 0s 3ms/step - loss: 0.6763 - accuracy: 0.8333\n",
            "Epoch 9/10\n",
            "6/6 [==============================] - 0s 3ms/step - loss: 0.6726 - accuracy: 1.0000\n",
            "Epoch 10/10\n",
            "6/6 [==============================] - 0s 3ms/step - loss: 0.6674 - accuracy: 1.0000\n",
            "1/1 [==============================] - 0s 289ms/step\n",
            "[[0.497947 ]\n",
            " [0.4802068]]\n"
          ]
        }
      ],
      "source": [
        "import numpy as np\n",
        "from keras.models import Sequential\n",
        "from keras.layers import Dense, Embedding, LSTM\n",
        "\n",
        "# Входные данные (тексты)\n",
        "texts = ['I love cats', 'I hate dogs', 'Cats are cute', 'Dogs are loyal', 'I like cats', 'Dogs are amazing']\n",
        "\n",
        "# Создание словаря слов\n",
        "words = []\n",
        "for text in texts:\n",
        "    words.extend(text.split())\n",
        "word_dict = {word: i for i, word in enumerate(set(words))}\n",
        "\n",
        "# Преобразование текстов в векторы\n",
        "vectorized_texts = []\n",
        "for text in texts:\n",
        "    vector = [word_dict[word] for word in text.split()]\n",
        "    vectorized_texts.append(vector)\n",
        "\n",
        "# Подготовка входных данных и целевых значений\n",
        "X = np.array(vectorized_texts)\n",
        "y = np.array([1, 0, 1, 0, 1, 0])\n",
        "\n",
        "# Создание модели нейронной сети\n",
        "model = Sequential()\n",
        "model.add(Embedding(len(word_dict), 10, input_length=X.shape[1]))\n",
        "model.add(LSTM(10))\n",
        "model.add(Dense(1, activation='sigmoid'))\n",
        "\n",
        "# Компиляция модели\n",
        "model.compile(loss='binary_crossentropy', optimizer='adam', metrics=['accuracy'])\n",
        "\n",
        "# Обучение модели\n",
        "model.fit(X, y, epochs=10, batch_size=1)\n",
        "\n",
        "# Предсказание на новых данных\n",
        "new_texts = ['I like dogs', 'Dogs are amazing']\n",
        "new_vectorized_texts = []\n",
        "for text in new_texts:\n",
        "    vector = [word_dict[word] for word in text.split()]\n",
        "    new_vectorized_texts.append(vector)\n",
        "new_X = np.array(new_vectorized_texts)\n",
        "predictions = model.predict(new_X)\n",
        "\n",
        "print(predictions)"
      ]
    }
  ]
}