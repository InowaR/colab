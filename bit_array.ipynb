{
  "nbformat": 4,
  "nbformat_minor": 0,
  "metadata": {
    "colab": {
      "provenance": [],
      "authorship_tag": "ABX9TyP0aLWipFUegtYjnpQSk7+x",
      "include_colab_link": true
    },
    "kernelspec": {
      "name": "python3",
      "display_name": "Python 3"
    },
    "language_info": {
      "name": "python"
    }
  },
  "cells": [
    {
      "cell_type": "markdown",
      "metadata": {
        "id": "view-in-github",
        "colab_type": "text"
      },
      "source": [
        "<a href=\"https://colab.research.google.com/github/InowaR/colab/blob/main/bit_array.ipynb\" target=\"_parent\"><img src=\"https://colab.research.google.com/assets/colab-badge.svg\" alt=\"Open In Colab\"/></a>"
      ]
    },
    {
      "cell_type": "code",
      "execution_count": 3,
      "metadata": {
        "colab": {
          "base_uri": "https://localhost:8080/"
        },
        "id": "RHg3ntxVH-3y",
        "outputId": "dc4d5564-85e4-4711-c6fa-e243e4caa065"
      },
      "outputs": [
        {
          "output_type": "stream",
          "name": "stdout",
          "text": [
            "24\n",
            "[[7, 8, 9], [1, 2, 3], [4, 5, 6]]\n",
            "[[0, 0, 0, 0, 0, 1, 1, 1, 0, 0, 0, 0, 1, 0, 0, 0, 0, 0, 0, 0, 1, 0, 0, 1], [0, 0, 0, 0, 0, 0, 0, 1, 0, 0, 0, 0, 0, 0, 1, 0, 0, 0, 0, 0, 0, 0, 1, 1], [0, 0, 0, 0, 0, 1, 0, 0, 0, 0, 0, 0, 0, 1, 0, 1, 0, 0, 0, 0, 0, 1, 1, 0]]\n",
            "[[7, 8, 9], [1, 2, 3], [4, 5, 6]]\n"
          ]
        }
      ],
      "source": [
        "def convert_to_bit_array(double_array):\n",
        "    bit_array = []\n",
        "    for sublist in double_array:\n",
        "        binary_sublist = [int(bit) for num in sublist for bit in format(num, '08b')]\n",
        "        bit_array.append(binary_sublist)\n",
        "    return bit_array\n",
        "\n",
        "\n",
        "def convert_from_bit_array(bit_array):\n",
        "  int_array = []\n",
        "  for sublist in bit_array:\n",
        "    int_row = []\n",
        "    for i in range(0, len(sublist), 8):\n",
        "      binary_num = \"\".join(str(bit) for bit in sublist[i:i+8])\n",
        "      int_row.append(int(binary_num, 2))\n",
        "    int_array.append(int_row)\n",
        "  return int_array\n",
        "\n",
        "\n",
        "double_array = [[7, 8, 9], [1, 2, 3], [4, 5, 6]]\n",
        "bit_array = convert_to_bit_array(double_array)\n",
        "\n",
        "\n",
        "print(max([len(i) for i in bit_array]))\n",
        "\n",
        "print(double_array)\n",
        "print(bit_array)\n",
        "print(convert_from_bit_array(bit_array))\n"
      ]
    }
  ]
}