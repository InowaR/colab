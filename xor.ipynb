{
  "nbformat": 4,
  "nbformat_minor": 0,
  "metadata": {
    "colab": {
      "provenance": [],
      "authorship_tag": "ABX9TyNILKyqQhi8a1NoZW8DZShD",
      "include_colab_link": true
    },
    "kernelspec": {
      "name": "python3",
      "display_name": "Python 3"
    },
    "language_info": {
      "name": "python"
    }
  },
  "cells": [
    {
      "cell_type": "markdown",
      "metadata": {
        "id": "view-in-github",
        "colab_type": "text"
      },
      "source": [
        "<a href=\"https://colab.research.google.com/github/InowaR/colab/blob/main/xor.ipynb\" target=\"_parent\"><img src=\"https://colab.research.google.com/assets/colab-badge.svg\" alt=\"Open In Colab\"/></a>"
      ]
    },
    {
      "cell_type": "code",
      "execution_count": null,
      "metadata": {
        "colab": {
          "base_uri": "https://localhost:8080/"
        },
        "id": "KtoD-wdnwJ5X",
        "outputId": "d7692865-3751-4563-e2b7-ce339b0de2c2"
      },
      "outputs": [
        {
          "output_type": "stream",
          "name": "stdout",
          "text": [
            "Initial hidden weights: [0.14297487 0.25962848] [0.55557697 0.95721409]\n",
            "Initial hidden biases: [0.60594638 0.9477901 ]\n",
            "Initial output weights: [0.88937249] [0.53084402]\n",
            "Initial output biases: [0.60540967]\n",
            "Final hidden weights: [5.70538985 3.43942826] [5.82907947 3.45989079]\n",
            "Final hidden bias: [-2.31365971 -5.25603181]\n",
            "Final output weights: [7.0865067] [-7.65937636]\n",
            "Final output bias: [-3.17244684]\n",
            "\n",
            "Output from neural network after 10,000 epochs: [0.07081268] [0.93208453] [0.93163531] [0.07551737]\n"
          ]
        }
      ],
      "source": [
        "import numpy as np \n",
        "#np.random.seed(0)\n",
        "\n",
        "def sigmoid (x):\n",
        "    return 1/(1 + np.exp(-x))\n",
        "\n",
        "def sigmoid_derivative(x):\n",
        "    return x * (1 - x)\n",
        "\n",
        "#Input datasets\n",
        "inputs = np.array([[0,0],[0,1],[1,0],[1,1]])\n",
        "expected_output = np.array([[0],[1],[1],[0]])\n",
        "\n",
        "epochs = 10000\n",
        "lr = 0.1\n",
        "inputLayerNeurons, hiddenLayerNeurons, outputLayerNeurons = 2,2,1\n",
        "\n",
        "#Random weights and bias initialization\n",
        "hidden_weights = np.random.uniform(size=(inputLayerNeurons,hiddenLayerNeurons))\n",
        "hidden_bias =np.random.uniform(size=(1,hiddenLayerNeurons))\n",
        "output_weights = np.random.uniform(size=(hiddenLayerNeurons,outputLayerNeurons))\n",
        "output_bias = np.random.uniform(size=(1,outputLayerNeurons))\n",
        "\n",
        "print(\"Initial hidden weights: \",end='')\n",
        "print(*hidden_weights)\n",
        "print(\"Initial hidden biases: \",end='')\n",
        "print(*hidden_bias)\n",
        "print(\"Initial output weights: \",end='')\n",
        "print(*output_weights)\n",
        "print(\"Initial output biases: \",end='')\n",
        "print(*output_bias)\n",
        "\n",
        "\n",
        "#Training algorithm\n",
        "for _ in range(epochs):\n",
        " #Forward Propagation\n",
        " hidden_layer_activation = np.dot(inputs,hidden_weights)\n",
        " hidden_layer_activation += hidden_bias\n",
        " hidden_layer_output = sigmoid(hidden_layer_activation)\n",
        "\n",
        " output_layer_activation = np.dot(hidden_layer_output,output_weights)\n",
        " output_layer_activation += output_bias\n",
        " predicted_output = sigmoid(output_layer_activation)\n",
        "\n",
        " #Backpropagation\n",
        " error = expected_output - predicted_output\n",
        " d_predicted_output = error * sigmoid_derivative(predicted_output)\n",
        "    \n",
        " error_hidden_layer = d_predicted_output.dot(output_weights.T)\n",
        " d_hidden_layer = error_hidden_layer * sigmoid_derivative(hidden_layer_output)\n",
        "\n",
        " #Updating Weights and Biases\n",
        " output_weights += hidden_layer_output.T.dot(d_predicted_output) * lr\n",
        " output_bias += np.sum(d_predicted_output,axis=0,keepdims=True) * lr\n",
        " hidden_weights += inputs.T.dot(d_hidden_layer) * lr\n",
        " hidden_bias += np.sum(d_hidden_layer,axis=0,keepdims=True) * lr\n",
        "\n",
        "print(\"Final hidden weights: \",end='')\n",
        "print(*hidden_weights)\n",
        "print(\"Final hidden bias: \",end='')\n",
        "print(*hidden_bias)\n",
        "print(\"Final output weights: \",end='')\n",
        "print(*output_weights)\n",
        "print(\"Final output bias: \",end='')\n",
        "print(*output_bias)\n",
        "\n",
        "print(\"\\nOutput from neural network after 10,000 epochs: \",end='')\n",
        "print(*predicted_output)"
      ]
    }
  ]
}