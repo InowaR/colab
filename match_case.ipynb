{
  "nbformat": 4,
  "nbformat_minor": 0,
  "metadata": {
    "colab": {
      "provenance": [],
      "authorship_tag": "ABX9TyMUMWBa9hGBt9R9NFZL3iL0",
      "include_colab_link": true
    },
    "kernelspec": {
      "name": "python3",
      "display_name": "Python 3"
    },
    "language_info": {
      "name": "python"
    }
  },
  "cells": [
    {
      "cell_type": "markdown",
      "metadata": {
        "id": "view-in-github",
        "colab_type": "text"
      },
      "source": [
        "<a href=\"https://colab.research.google.com/github/InowaR/colab/blob/main/match_case.ipynb\" target=\"_parent\"><img src=\"https://colab.research.google.com/assets/colab-badge.svg\" alt=\"Open In Colab\"/></a>"
      ]
    },
    {
      "cell_type": "code",
      "execution_count": 12,
      "metadata": {
        "colab": {
          "base_uri": "https://localhost:8080/"
        },
        "id": "zoC6Qkyx_UqW",
        "outputId": "0d172c57-c4e4-45be-f218-7029d2a4f390"
      },
      "outputs": [
        {
          "output_type": "stream",
          "name": "stdout",
          "text": [
            "12\n",
            "19.625\n",
            "unknown class\n"
          ]
        }
      ],
      "source": [
        "class Rectangle:\n",
        "  def __init__(self, width, height):\n",
        "    self.width = width\n",
        "    self.height = height\n",
        "\n",
        "class Circle:\n",
        "  def __init__(self, radius):\n",
        "    self.radius = radius\n",
        "\n",
        "def calculate_area(shape):\n",
        "  match shape:\n",
        "    case Rectangle(width=w, height=h):\n",
        "      return w * h\n",
        "    case Circle(radius=r):\n",
        "      return 3.14 * r * r\n",
        "    case _:\n",
        "      return 'unknown class'\n",
        "\n",
        "rectangle = Rectangle(3,4)\n",
        "circle = Circle(2.5)\n",
        "number = 2\n",
        "print(calculate_area(rectangle))\n",
        "print(calculate_area(circle))\n",
        "print(calculate_area(number))\n",
        ""
      ]
    }
  ]
}