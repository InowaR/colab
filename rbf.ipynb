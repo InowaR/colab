{
  "nbformat": 4,
  "nbformat_minor": 0,
  "metadata": {
    "colab": {
      "provenance": [],
      "authorship_tag": "ABX9TyNzSdFmGZzReVGDLTEeiY+H",
      "include_colab_link": true
    },
    "kernelspec": {
      "name": "python3",
      "display_name": "Python 3"
    },
    "language_info": {
      "name": "python"
    }
  },
  "cells": [
    {
      "cell_type": "markdown",
      "metadata": {
        "id": "view-in-github",
        "colab_type": "text"
      },
      "source": [
        "<a href=\"https://colab.research.google.com/github/InowaR/colab/blob/main/rbf.ipynb\" target=\"_parent\"><img src=\"https://colab.research.google.com/assets/colab-badge.svg\" alt=\"Open In Colab\"/></a>"
      ]
    },
    {
      "cell_type": "code",
      "execution_count": 18,
      "metadata": {
        "colab": {
          "base_uri": "https://localhost:8080/"
        },
        "id": "Rc6Rdgw_qg7p",
        "outputId": "3c18e4d3-e586-49bc-a197-fba544cff5ba"
      },
      "outputs": [
        {
          "output_type": "stream",
          "name": "stdout",
          "text": [
            "Predicted XOR outputs: [0.00304941 0.99914679 0.99914679 0.00304941]\n"
          ]
        }
      ],
      "source": [
        "import numpy as np\n",
        "from scipy.interpolate import Rbf\n",
        "\n",
        "\n",
        "# Define XOR data\n",
        "x = np.array([[0, 0], [0, 1], [1, 0], [1, 1]])\n",
        "y = np.array([0, 1, 1, 0])\n",
        "\n",
        "# Create RBF model with Gaussian basis function\n",
        "rbf = Rbf(x[:, 0], x[:, 1], y, function='gaussian')\n",
        "\n",
        "# Predict XOR output for new data\n",
        "new_data = np.array([[0.01, 0.01], [0.01, 0.99], [0.99, 0.01], [0.99, 0.99]])\n",
        "y_predicted = rbf(new_data[:, 0], new_data[:, 1])\n",
        "\n",
        "# Print predicted XOR outputs\n",
        "print(\"Predicted XOR outputs:\", y_predicted)"
      ]
    }
  ]
}