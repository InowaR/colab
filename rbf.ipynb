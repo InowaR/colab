{
  "nbformat": 4,
  "nbformat_minor": 0,
  "metadata": {
    "colab": {
      "provenance": [],
      "authorship_tag": "ABX9TyO2Iorgau5V/MzKl2S8lxYp",
      "include_colab_link": true
    },
    "kernelspec": {
      "name": "python3",
      "display_name": "Python 3"
    },
    "language_info": {
      "name": "python"
    }
  },
  "cells": [
    {
      "cell_type": "markdown",
      "metadata": {
        "id": "view-in-github",
        "colab_type": "text"
      },
      "source": [
        "<a href=\"https://colab.research.google.com/github/InowaR/colab/blob/main/rbf.ipynb\" target=\"_parent\"><img src=\"https://colab.research.google.com/assets/colab-badge.svg\" alt=\"Open In Colab\"/></a>"
      ]
    },
    {
      "cell_type": "code",
      "execution_count": 6,
      "metadata": {
        "colab": {
          "base_uri": "https://localhost:8080/"
        },
        "id": "Rc6Rdgw_qg7p",
        "outputId": "1d3a834e-bf7b-4ed6-c525-3e48a033cd61"
      },
      "outputs": [
        {
          "output_type": "stream",
          "name": "stdout",
          "text": [
            "[0 0 1 1] [0 1 0 1]\n",
            "[0.01 0.01 0.99 0.99] [0.01 0.99 0.01 0.99]\n",
            "Predicted XOR outputs: [0.00304941 0.99914679 0.99914679 0.00304941]\n"
          ]
        }
      ],
      "source": [
        "import numpy as np\n",
        "from scipy.interpolate import Rbf\n",
        "\n",
        "\n",
        "# Define XOR data\n",
        "x = np.array([[0, 0], [0, 1], [1, 0], [1, 1]])\n",
        "y = np.array([0, 1, 1, 0])\n",
        "\n",
        "\n",
        "# Create RBF model with Gaussian basis function\n",
        "rbf = Rbf(x[:, 0], x[:, 1], y, function='gaussian')\n",
        "\n",
        "\n",
        "print(x[:, 0], x[:, 1])\n",
        "\n",
        "# Predict XOR output for new data\n",
        "new_data = np.array([[0.01, 0.01], [0.01, 0.99], [0.99, 0.01], [0.99, 0.99]])\n",
        "y_predicted = rbf(new_data[:, 0], new_data[:, 1])\n",
        "\n",
        "print(new_data[:, 0], new_data[:, 1])\n",
        "\n",
        "# Print predicted XOR outputs\n",
        "print(\"Predicted XOR outputs:\", y_predicted)\n"
      ]
    },
    {
      "cell_type": "code",
      "source": [
        "import numpy as np\n",
        "import matplotlib.pyplot as plt\n",
        "from matplotlib import colormaps\n",
        "\n",
        "\n",
        "def gaussian_rbf(x, y, gamma):\n",
        "  \"\"\"\n",
        "  Вычисляет значение гауссовой радиальной базисной функции для двух точек.\n",
        "\n",
        "  Args:\n",
        "    x: Первая точка (вектор).\n",
        "    y: Вторая точка (вектор).\n",
        "    gamma: Параметр ширины гауссиана.\n",
        "\n",
        "  Returns:\n",
        "    Значение гауссовой радиальной базисной функции.\n",
        "  \"\"\"\n",
        "  return np.exp(-gamma * np.linalg.norm(x - y)**2)\n",
        "\n",
        "def rbf_interpolate(x, y, gamma, new_data):\n",
        "  \"\"\"\n",
        "  Выполняет RBF интерполяцию с использованием гауссовой базисной функции.\n",
        "\n",
        "  Args:\n",
        "    x: Массив исходных точек (N x D, где N - число точек, D - размерность).\n",
        "    y: Значения функции в исходных точках (N).\n",
        "    new_data: Массив новых точек, в которых нужно вычислить значения функции (M x D).\n",
        "    gamma: Параметр ширины гауссиана.\n",
        "\n",
        "  Returns:\n",
        "    Массив значений интерполированной функции в новых точках (M).\n",
        "  \"\"\"\n",
        "\n",
        "  # Создаем матрицу радиальных базисных функций для исходных данных\n",
        "  N = x.shape[0]\n",
        "  phi = np.zeros((N, N))\n",
        "  for i in range(N):\n",
        "    for j in range(N):\n",
        "      phi[i, j] = gaussian_rbf(x[i], x[j], gamma)\n",
        "\n",
        "  # Создаем матрицу радиальных базисных функций для новых данных\n",
        "  M = new_data.shape[0]\n",
        "  phi_star = np.zeros((M, N))\n",
        "  for i in range(M):\n",
        "    for j in range(N):\n",
        "      phi_star[i, j] = gaussian_rbf(new_data[i], x[j], gamma)\n",
        "\n",
        "  # Решаем систему линейных уравнений\n",
        "  weights = np.linalg.solve(phi, y)\n",
        "\n",
        "  # Вычисляем значения в новых точках\n",
        "  y_predicted = phi_star @ weights\n",
        "\n",
        "  return y_predicted\n",
        "\n",
        "# Определение данных\n",
        "x = np.array([[0, 0], [0, 1], [1, 0], [1, 1]])\n",
        "y = np.array([[0, 0], [0, 1], [1, 0], [1, 1]])\n",
        "new_data = np.array([[0.01, 0.01], [0.01, 0.99], [0.99, 0.01], [0.99, 0.99]])\n",
        "\n",
        "# Выполняем интерполяцию\n",
        "gamma_list = [0.01, 0.1, 1, 10]\n",
        "\n",
        "# Выбираем цветовую схему (например, 'tab10')\n",
        "cmap_name = 'tab10'\n",
        "cmap = colormaps[cmap_name]\n",
        "\n",
        "# Визуализируем данные XOR и идеальную функцию XOR\n",
        "plt.figure(figsize=(5, 5))\n",
        "plt.title('Sample Plot')\n",
        "\n",
        "plt.scatter(x[:, 0], x[:, 1], color='blue', marker='x', label='y')\n",
        "for gamma in gamma_list:\n",
        "    y_predicted = rbf_interpolate(x, y, gamma, new_data)\n",
        "    color = cmap(gamma)\n",
        "    plt.scatter(y_predicted[:, 0], y_predicted[:, 1], color=color, marker='o', label=f'y_pred_{gamma}')\n",
        "\n",
        "\n",
        "\n",
        "plt.legend()\n",
        "plt.show()"
      ],
      "metadata": {
        "id": "EzZRGGdttflW",
        "outputId": "5bc274b8-fe91-4d99-9803-da84e93fdb30",
        "colab": {
          "base_uri": "https://localhost:8080/",
          "height": 468
        }
      },
      "execution_count": 58,
      "outputs": [
        {
          "output_type": "display_data",
          "data": {
            "text/plain": [
              "<Figure size 500x500 with 1 Axes>"
            ],
            "image/png": "[encoded data removed]"
          },
          "metadata": {}
        }
      ]
    }
  ]
}