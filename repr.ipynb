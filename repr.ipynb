{
  "nbformat": 4,
  "nbformat_minor": 0,
  "metadata": {
    "colab": {
      "provenance": [],
      "authorship_tag": "ABX9TyN0kLsmo2TanWrZoy1Vziib",
      "include_colab_link": true
    },
    "kernelspec": {
      "name": "python3",
      "display_name": "Python 3"
    },
    "language_info": {
      "name": "python"
    }
  },
  "cells": [
    {
      "cell_type": "markdown",
      "metadata": {
        "id": "view-in-github",
        "colab_type": "text"
      },
      "source": [
        "<a href=\"https://colab.research.google.com/github/InowaR/colab/blob/main/repr.ipynb\" target=\"_parent\"><img src=\"https://colab.research.google.com/assets/colab-badge.svg\" alt=\"Open In Colab\"/></a>"
      ]
    },
    {
      "cell_type": "code",
      "execution_count": 32,
      "metadata": {
        "colab": {
          "base_uri": "https://localhost:8080/"
        },
        "id": "Ckl4CkVc1LxI",
        "outputId": "ca0c8ccd-21b3-4fc6-9c4f-a3cb8d45cb8e"
      },
      "outputs": [
        {
          "output_type": "stream",
          "name": "stdout",
          "text": [
            "{}\n",
            "{'1': '4', '2': '3', '3': '2', '4': '1'}\n"
          ]
        }
      ],
      "source": [
        "class A:\n",
        "  def __init__(self):\n",
        "    self.arr = {}\n",
        "\n",
        "  def __repr__(self) -> str:\n",
        "    return repr(self.arr)\n",
        "\n",
        "  def func(self, n):\n",
        "    i = 1\n",
        "    c = n - 1\n",
        "    while i < n:\n",
        "      self.arr[str(i)] = str(c)\n",
        "      i+=1\n",
        "      c-=1\n",
        "\n",
        "a = A()\n",
        "print(a)\n",
        "a.func(5)\n",
        "print(a)"
      ]
    }
  ]
}