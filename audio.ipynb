{
  "nbformat": 4,
  "nbformat_minor": 0,
  "metadata": {
    "colab": {
      "provenance": [],
      "authorship_tag": "ABX9TyNxAmR5+IXBi2fal/BQMYF2",
      "include_colab_link": true
    },
    "kernelspec": {
      "name": "python3",
      "display_name": "Python 3"
    },
    "language_info": {
      "name": "python"
    }
  },
  "cells": [
    {
      "cell_type": "markdown",
      "metadata": {
        "id": "view-in-github",
        "colab_type": "text"
      },
      "source": [
        "<a href=\"https://colab.research.google.com/github/InowaR/colab/blob/main/audio.ipynb\" target=\"_parent\"><img src=\"https://colab.research.google.com/assets/colab-badge.svg\" alt=\"Open In Colab\"/></a>"
      ]
    },
    {
      "cell_type": "code",
      "execution_count": 1,
      "metadata": {
        "colab": {
          "base_uri": "https://localhost:8080/",
          "height": 410
        },
        "id": "2UoIctV1qafr",
        "outputId": "ef0aaa29-f944-42c7-e214-07d6fc15e62a"
      },
      "outputs": [
        {
          "output_type": "stream",
          "name": "stdout",
          "text": [
            "pygame 2.3.0 (SDL 2.24.2, Python 3.10.11)\n",
            "Hello from the pygame community. https://www.pygame.org/contribute.html\n"
          ]
        },
        {
          "output_type": "error",
          "ename": "error",
          "evalue": "ignored",
          "traceback": [
            "\u001b[0;31m---------------------------------------------------------------------------\u001b[0m",
            "\u001b[0;31merror\u001b[0m                                     Traceback (most recent call last)",
            "\u001b[0;32m<ipython-input-1-39ae9e1c4fa7>\u001b[0m in \u001b[0;36m<cell line: 16>\u001b[0;34m()\u001b[0m\n\u001b[1;32m     15\u001b[0m \u001b[0;34m\u001b[0m\u001b[0m\n\u001b[1;32m     16\u001b[0m \u001b[0;32mfor\u001b[0m \u001b[0mi\u001b[0m \u001b[0;32min\u001b[0m \u001b[0mrange\u001b[0m\u001b[0;34m(\u001b[0m\u001b[0;36m2\u001b[0m\u001b[0;34m)\u001b[0m\u001b[0;34m:\u001b[0m\u001b[0;34m\u001b[0m\u001b[0;34m\u001b[0m\u001b[0m\n\u001b[0;32m---> 17\u001b[0;31m     \u001b[0mE2\u001b[0m \u001b[0;34m=\u001b[0m \u001b[0msound\u001b[0m\u001b[0;34m(\u001b[0m\u001b[0;36m329\u001b[0m\u001b[0;34m,\u001b[0m \u001b[0;36m350\u001b[0m\u001b[0;34m)\u001b[0m\u001b[0;34m\u001b[0m\u001b[0;34m\u001b[0m\u001b[0m\n\u001b[0m\u001b[1;32m     18\u001b[0m     \u001b[0mB2\u001b[0m \u001b[0;34m=\u001b[0m \u001b[0msound\u001b[0m\u001b[0;34m(\u001b[0m\u001b[0;36m246\u001b[0m\u001b[0;34m,\u001b[0m \u001b[0;36m150\u001b[0m\u001b[0;34m)\u001b[0m\u001b[0;34m\u001b[0m\u001b[0;34m\u001b[0m\u001b[0m\n\u001b[1;32m     19\u001b[0m     \u001b[0mC2\u001b[0m \u001b[0;34m=\u001b[0m \u001b[0msound\u001b[0m\u001b[0;34m(\u001b[0m\u001b[0;36m261\u001b[0m\u001b[0;34m,\u001b[0m \u001b[0;36m200\u001b[0m\u001b[0;34m)\u001b[0m\u001b[0;34m\u001b[0m\u001b[0;34m\u001b[0m\u001b[0m\n",
            "\u001b[0;32m<ipython-input-1-39ae9e1c4fa7>\u001b[0m in \u001b[0;36msound\u001b[0;34m(freq, delay)\u001b[0m\n\u001b[1;32m      5\u001b[0m     \u001b[0msampleRate\u001b[0m \u001b[0;34m=\u001b[0m \u001b[0;36m44100\u001b[0m\u001b[0;34m\u001b[0m\u001b[0;34m\u001b[0m\u001b[0m\n\u001b[1;32m      6\u001b[0m     \u001b[0;31m# sampling frequency, size, channels, buffer\u001b[0m\u001b[0;34m\u001b[0m\u001b[0;34m\u001b[0m\u001b[0m\n\u001b[0;32m----> 7\u001b[0;31m     \u001b[0mpygame\u001b[0m\u001b[0;34m.\u001b[0m\u001b[0mmixer\u001b[0m\u001b[0;34m.\u001b[0m\u001b[0minit\u001b[0m\u001b[0;34m(\u001b[0m\u001b[0msampleRate\u001b[0m\u001b[0;34m,\u001b[0m \u001b[0;36m16\u001b[0m\u001b[0;34m,\u001b[0m \u001b[0;36m2\u001b[0m\u001b[0;34m,\u001b[0m \u001b[0;36m1024\u001b[0m\u001b[0;34m)\u001b[0m\u001b[0;34m\u001b[0m\u001b[0;34m\u001b[0m\u001b[0m\n\u001b[0m\u001b[1;32m      8\u001b[0m     \u001b[0mmono\u001b[0m \u001b[0;34m=\u001b[0m \u001b[0mnumpy\u001b[0m\u001b[0;34m.\u001b[0m\u001b[0marray\u001b[0m\u001b[0;34m(\u001b[0m\u001b[0;34m[\u001b[0m\u001b[0;36m4096\u001b[0m \u001b[0;34m*\u001b[0m \u001b[0mnumpy\u001b[0m\u001b[0;34m.\u001b[0m\u001b[0msin\u001b[0m\u001b[0;34m(\u001b[0m\u001b[0;36m2.0\u001b[0m \u001b[0;34m*\u001b[0m \u001b[0mnumpy\u001b[0m\u001b[0;34m.\u001b[0m\u001b[0mpi\u001b[0m \u001b[0;34m*\u001b[0m \u001b[0mfreq\u001b[0m \u001b[0;34m*\u001b[0m \u001b[0mx\u001b[0m \u001b[0;34m/\u001b[0m \u001b[0msampleRate\u001b[0m\u001b[0;34m)\u001b[0m \u001b[0;32mfor\u001b[0m \u001b[0mx\u001b[0m \u001b[0;32min\u001b[0m \u001b[0mrange\u001b[0m\u001b[0;34m(\u001b[0m\u001b[0;36m0\u001b[0m\u001b[0;34m,\u001b[0m \u001b[0msampleRate\u001b[0m\u001b[0;34m)\u001b[0m\u001b[0;34m]\u001b[0m\u001b[0;34m)\u001b[0m\u001b[0;34m.\u001b[0m\u001b[0mastype\u001b[0m\u001b[0;34m(\u001b[0m\u001b[0mnumpy\u001b[0m\u001b[0;34m.\u001b[0m\u001b[0mint16\u001b[0m\u001b[0;34m)\u001b[0m\u001b[0;34m\u001b[0m\u001b[0;34m\u001b[0m\u001b[0m\n\u001b[1;32m      9\u001b[0m     \u001b[0mstereo\u001b[0m \u001b[0;34m=\u001b[0m \u001b[0mnumpy\u001b[0m\u001b[0;34m.\u001b[0m\u001b[0mc_\u001b[0m\u001b[0;34m[\u001b[0m\u001b[0mmono\u001b[0m\u001b[0;34m,\u001b[0m \u001b[0mmono\u001b[0m\u001b[0;34m]\u001b[0m\u001b[0;34m\u001b[0m\u001b[0;34m\u001b[0m\u001b[0m\n",
            "\u001b[0;31merror\u001b[0m: ALSA: Couldn't open audio device: No such file or directory"
          ]
        }
      ],
      "source": [
        "import numpy\n",
        "import pygame\n",
        "\n",
        "def sound(freq, delay):\n",
        "    sampleRate = 44100\n",
        "    # sampling frequency, size, channels, buffer\n",
        "    pygame.mixer.init(sampleRate, 16, 2, 1024) \n",
        "    mono = numpy.array([4096 * numpy.sin(2.0 * numpy.pi * freq * x / sampleRate) for x in range(0, sampleRate)]).astype(numpy.int16)\n",
        "    stereo = numpy.c_[mono, mono]\n",
        "    sound = pygame.sndarray.make_sound(stereo)\n",
        "    sound.set_volume(0.01)\n",
        "    sound.play()\n",
        "    pygame.time.delay(delay)\n",
        "    sound.stop()\n",
        "\n",
        "for i in range(2):\n",
        "    E2 = sound(329, 350)\n",
        "    B2 = sound(246, 150)\n",
        "    C2 = sound(261, 200)\n",
        "    D2 = sound(293, 350)\n",
        "    C2 = sound(261, 150)\n",
        "    B2 = sound(246, 200)\n",
        "\n",
        "    A1 = sound(220, 350)\n",
        "    A1 = sound(220, 150)\n",
        "    C2 = sound(261, 200)\n",
        "    E2 = sound(329, 350)\n",
        "    D2 = sound(293, 150)\n",
        "    C2 = sound(261, 200)\n",
        "\n",
        "    B2 = sound(246, 350)\n",
        "    B2 = sound(246, 150)\n",
        "    C2 = sound(261, 200)\n",
        "    D2 = sound(293, 350)\n",
        "    E2 = sound(329, 350)\n",
        "\n",
        "    C2 = sound(261, 300)\n",
        "    A1 = sound(220, 300)\n",
        "    A1 = sound(220, 350)\n",
        "\n",
        "    pygame.time.delay(500)\n",
        "\n",
        "    D2 = sound(293, 350)\n",
        "    F2 = sound(349, 150)\n",
        "    A2 = sound(440, 350)\n",
        "    G2 = sound(392, 150)\n",
        "    F2 = sound(349, 200)\n",
        "\n",
        "    E2 = sound(329, 450)\n",
        "    B2 = sound(246, 200)\n",
        "    E2 = sound(329, 350)\n",
        "    D2 = sound(293, 150)\n",
        "    C2 = sound(261, 200)\n",
        "\n",
        "    B2 = sound(246, 350)\n",
        "    B2 = sound(246, 150)\n",
        "    C2 = sound(261, 200)\n",
        "    D2 = sound(293, 350)\n",
        "    E2 = sound(329, 350)\n",
        "\n",
        "    C2 = sound(261, 300)\n",
        "    A1 = sound(220, 300)\n",
        "    A1 = sound(220, 350)\n",
        "\n",
        "    pygame.time.delay(500)"
      ]
    }
  ]
}