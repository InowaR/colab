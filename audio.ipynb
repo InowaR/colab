{
  "nbformat": 4,
  "nbformat_minor": 0,
  "metadata": {
    "colab": {
      "provenance": [],
      "authorship_tag": "ABX9TyN0vU1qgd6Rbc9TEFzCcmdX",
      "include_colab_link": true
    },
    "kernelspec": {
      "name": "python3",
      "display_name": "Python 3"
    },
    "language_info": {
      "name": "python"
    }
  },
  "cells": [
    {
      "cell_type": "markdown",
      "metadata": {
        "id": "view-in-github",
        "colab_type": "text"
      },
      "source": [
        "<a href=\"https://colab.research.google.com/github/InowaR/colab/blob/main/audio.ipynb\" target=\"_parent\"><img src=\"https://colab.research.google.com/assets/colab-badge.svg\" alt=\"Open In Colab\"/></a>"
      ]
    },
    {
      "cell_type": "code",
      "execution_count": null,
      "metadata": {
        "id": "2UoIctV1qafr"
      },
      "outputs": [],
      "source": [
        "import numpy\n",
        "import pygame\n",
        "\n",
        "def make_sound(freq, delay):\n",
        "    sampleRate = 44100\n",
        "    # sampling frequency, size, channels, buffer\n",
        "    pygame.mixer.init(sampleRate, 16, 2, 1024) \n",
        "    mono = numpy.array([4096 * numpy.sin(2.0 * numpy.pi * freq * x / sampleRate) for x in range(0, sampleRate)]).astype(numpy.int16)\n",
        "    stereo = numpy.c_[mono, mono]\n",
        "    sound = pygame.sndarray.make_sound(stereo)\n",
        "    sound.set_volume(0.01)\n",
        "    sound.play()\n",
        "    pygame.time.delay(delay)\n",
        "    sound.stop()\n",
        "\n",
        "for i in range(2):\n",
        "    E2 = make_sound(329, 350)\n",
        "    B2 = make_sound(246, 150)\n",
        "    C2 = make_sound(261, 200)\n",
        "    D2 = make_sound(293, 350)\n",
        "    C2 = make_sound(261, 150)\n",
        "    B2 = make_sound(246, 200)\n",
        "\n",
        "    A1 = make_sound(220, 350)\n",
        "    A1 = make_sound(220, 150)\n",
        "    C2 = make_sound(261, 200)\n",
        "    E2 = make_sound(329, 350)\n",
        "    D2 = make_sound(293, 150)\n",
        "    C2 = make_sound(261, 200)\n",
        "\n",
        "    B2 = make_sound(246, 350)\n",
        "    B2 = make_sound(246, 150)\n",
        "    C2 = make_sound(261, 200)\n",
        "    D2 = make_sound(293, 350)\n",
        "    E2 = make_sound(329, 350)\n",
        "\n",
        "    C2 = make_sound(261, 300)\n",
        "    A1 = make_sound(220, 300)\n",
        "    A1 = make_sound(220, 350)\n",
        "\n",
        "    pygame.time.delay(500)\n",
        "\n",
        "    D2 = make_sound(293, 350)\n",
        "    F2 = make_sound(349, 150)\n",
        "    A2 = make_sound(440, 350)\n",
        "    G2 = make_sound(392, 150)\n",
        "    F2 = make_sound(349, 200)\n",
        "\n",
        "    E2 = make_sound(329, 450)\n",
        "    B2 = make_sound(246, 200)\n",
        "    E2 = make_sound(329, 350)\n",
        "    D2 = make_sound(293, 150)\n",
        "    C2 = make_sound(261, 200)\n",
        "\n",
        "    B2 = make_sound(246, 350)\n",
        "    B2 = make_sound(246, 150)\n",
        "    C2 = make_sound(261, 200)\n",
        "    D2 = make_sound(293, 350)\n",
        "    E2 = make_sound(329, 350)\n",
        "\n",
        "    C2 = make_sound(261, 300)\n",
        "    A1 = make_sound(220, 300)\n",
        "    A1 = make_sound(220, 350)\n",
        "\n",
        "    pygame.time.delay(500)"
      ]
    }
  ]
}