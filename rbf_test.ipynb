{
  "nbformat": 4,
  "nbformat_minor": 0,
  "metadata": {
    "colab": {
      "provenance": [],
      "authorship_tag": "ABX9TyPmd+kkMaMKSOqZPdGCRAOq",
      "include_colab_link": true
    },
    "kernelspec": {
      "name": "python3",
      "display_name": "Python 3"
    },
    "language_info": {
      "name": "python"
    }
  },
  "cells": [
    {
      "cell_type": "markdown",
      "metadata": {
        "id": "view-in-github",
        "colab_type": "text"
      },
      "source": [
        "<a href=\"https://colab.research.google.com/github/InowaR/colab/blob/main/rbf_test.ipynb\" target=\"_parent\"><img src=\"https://colab.research.google.com/assets/colab-badge.svg\" alt=\"Open In Colab\"/></a>"
      ]
    },
    {
      "cell_type": "code",
      "execution_count": 17,
      "metadata": {
        "colab": {
          "base_uri": "https://localhost:8080/",
          "height": 591
        },
        "id": "-Odo-H_QK3XN",
        "outputId": "afc02ffc-fd21-4edc-b3dc-00631e9665af"
      },
      "outputs": [
        {
          "output_type": "stream",
          "name": "stdout",
          "text": [
            "x: [0 0], y_true: 0, y_pred: 0\n",
            "x: [0 1], y_true: 1, y_pred: 1\n",
            "x: [1 0], y_true: 1, y_pred: 1\n",
            "x: [1 1], y_true: 0, y_pred: 0\n"
          ]
        },
        {
          "output_type": "display_data",
          "data": {
            "text/plain": [
              "<Figure size 640x480 with 2 Axes>"
            ],
            "image/png": "[encoded data removed]"
          },
          "metadata": {}
        },
        {
          "output_type": "stream",
          "name": "stdout",
          "text": [
            "[[1.         0.13533528 0.13533528 0.01831564]\n",
            " [0.13533528 1.         0.01831564 0.13533528]\n",
            " [0.13533528 0.01831564 1.         0.13533528]\n",
            " [0.01831564 0.13533528 0.13533528 1.        ]]\n"
          ]
        }
      ],
      "source": [
        "import numpy as np\n",
        "import matplotlib.pyplot as plt\n",
        "import seaborn as sns\n",
        "\n",
        "\n",
        "# Экспоненциальная функция преобразует расстояние в вероятностное значение.\n",
        "def rbf(x, c, sigma):\n",
        "  return np.exp(-np.linalg.norm(x - c)**2 / (2 * sigma**2))\n",
        "\n",
        "\n",
        "# Данные\n",
        "X = np.array([[0, 0], [0, 1], [1, 0], [1, 1]])\n",
        "y = np.array([0, 1, 1, 0])\n",
        "\n",
        "# Параметры RBF\n",
        "centers = X  # Центры обычно выбираются из самих данных или случайным образом.\n",
        "\n",
        "\n",
        "sigma = 0.5  # Сигма влияет на обобщающую способность модели.\n",
        "             # Слишком маленькая сигма может привести к переобучению,\n",
        "             # а слишком большая - к недообучению.\n",
        "\n",
        "\n",
        "# Матрица фич используется для хранения результатов вычислений RBF-функции.\n",
        "# Количество строк матрицы равно количеству данных в X,\n",
        "# а количество столбцов равно количеству центров centers.\n",
        "phi = np.zeros((len(X), len(centers)))\n",
        "for i in range(len(X)):\n",
        "  for j in range(len(centers)):\n",
        "    phi[i, j] = rbf(X[i], centers[j], sigma)\n",
        "\n",
        "\n",
        "# RBF-функция измеряет сходство между точкой данных и центром.\n",
        "# Чем ближе точка данных к центру, тем больше значение RBF.\n",
        "# Матрица фич позволяет преобразовать исходные данные в пространство\n",
        "# более высокой размерности, где данные могут быть линейно разделимы.\n",
        "\n",
        "\n",
        "# Обучение\n",
        "weights = np.linalg.pinv(phi) @ y\n",
        "\n",
        "\n",
        "# Представим, что у нас есть система линейных уравнений вида:\n",
        "# y = X * w\n",
        "# Чтобы найти w, мы можем использовать псевдообратную матрицу:\n",
        "# w = X_pinv * y\n",
        "\n",
        "\n",
        "# Предсказание\n",
        "def predict(x):\n",
        "  phi_test = np.array([rbf(x, c, sigma) for c in centers])\n",
        "  return np.where(np.dot(phi_test, weights) >= 0.5, 1, 0)\n",
        "\n",
        "# Проверка\n",
        "for x, y_true in zip(X, y):\n",
        "  y_pred = predict(x)\n",
        "  print(f\"x: {x}, y_true: {y_true}, y_pred: {y_pred}\")\n",
        "\n",
        "# Визуализация матрицы фич как тепловой карты\n",
        "sns.heatmap(phi, cmap='coolwarm')\n",
        "plt.title('Матрица фич')\n",
        "plt.show()\n",
        "print(phi)"
      ]
    },
    {
      "cell_type": "code",
      "source": [
        "-np.linalg.norm(np.array([1,1]) - np.array([0,0]))**2\n",
        "# Вычисляет расстояние между точками (1, 1) и (0, 0) в двумерном пространстве.\n",
        "# Евклидово расстояние равно квадратному корню из суммы квадратов разностей соответствующих координат."
      ],
      "metadata": {
        "colab": {
          "base_uri": "https://localhost:8080/"
        },
        "id": "VN9rYyuwNWze",
        "outputId": "08e80346-d596-419d-8062-497b7c5774b8"
      },
      "execution_count": 47,
      "outputs": [
        {
          "output_type": "execute_result",
          "data": {
            "text/plain": [
              "-2.0000000000000004"
            ]
          },
          "metadata": {},
          "execution_count": 47
        }
      ]
    },
    {
      "cell_type": "code",
      "source": [
        "-np.linalg.norm(np.array([1,1]) - np.array([0,0]))**2 / 2 * 0.5**2"
      ],
      "metadata": {
        "colab": {
          "base_uri": "https://localhost:8080/"
        },
        "id": "EKGCS-rcQxXI",
        "outputId": "55bacf97-3f11-418a-c5dc-11d282b89002"
      },
      "execution_count": 29,
      "outputs": [
        {
          "output_type": "execute_result",
          "data": {
            "text/plain": [
              "-0.25000000000000006"
            ]
          },
          "metadata": {},
          "execution_count": 29
        }
      ]
    },
    {
      "cell_type": "code",
      "source": [
        "np.exp(1)"
      ],
      "metadata": {
        "colab": {
          "base_uri": "https://localhost:8080/"
        },
        "id": "72Cv2kb9Qrcb",
        "outputId": "35c1835e-ebbd-402f-ceac-27adcee1790e"
      },
      "execution_count": 32,
      "outputs": [
        {
          "output_type": "execute_result",
          "data": {
            "text/plain": [
              "2.718281828459045"
            ]
          },
          "metadata": {},
          "execution_count": 32
        }
      ]
    },
    {
      "cell_type": "code",
      "source": [
        "np.exp(0)"
      ],
      "metadata": {
        "colab": {
          "base_uri": "https://localhost:8080/"
        },
        "id": "d6ybNzIiRRFT",
        "outputId": "ed572c4c-ef82-4123-a3c5-026a226c8487"
      },
      "execution_count": 33,
      "outputs": [
        {
          "output_type": "execute_result",
          "data": {
            "text/plain": [
              "1.0"
            ]
          },
          "metadata": {},
          "execution_count": 33
        }
      ]
    },
    {
      "cell_type": "code",
      "source": [
        "phi_pinv = np.linalg.pinv(phi)\n",
        "sns.heatmap(phi_pinv, cmap='coolwarm')\n",
        "\n",
        "plt.title('Псевдообратная матрица фич')\n",
        "plt.show()\n",
        "print(phi_pinv)"
      ],
      "metadata": {
        "colab": {
          "base_uri": "https://localhost:8080/",
          "height": 521
        },
        "id": "LAE0DMUoRfQG",
        "outputId": "0df9c2c1-87ad-4c70-e428-963bf9eb5422"
      },
      "execution_count": 39,
      "outputs": [
        {
          "output_type": "display_data",
          "data": {
            "text/plain": [
              "<Figure size 640x480 with 2 Axes>"
            ],
            "image/png": "[encoded data removed]"
          },
          "metadata": {}
        },
        {
          "output_type": "stream",
          "name": "stdout",
          "text": [
            "[[ 1.03766282 -0.14043239 -0.14043239  0.01900546]\n",
            " [-0.14043239  1.03766282  0.01900546 -0.14043239]\n",
            " [-0.14043239  0.01900546  1.03766282 -0.14043239]\n",
            " [ 0.01900546 -0.14043239 -0.14043239  1.03766282]]\n"
          ]
        }
      ]
    },
    {
      "cell_type": "code",
      "source": [
        "a1 = phi @ phi_pinv\n",
        "\n",
        "\n",
        "sns.heatmap(a1, cmap='coolwarm')\n",
        "\n",
        "plt.title('Умножение матрицы и псевдообратной матрицы')\n",
        "plt.show()\n",
        "\n",
        "\n",
        "print(phi @ phi_pinv)"
      ],
      "metadata": {
        "colab": {
          "base_uri": "https://localhost:8080/",
          "height": 521
        },
        "id": "_HFu_THPS1tl",
        "outputId": "4835e979-f5f5-491f-b06f-e5882edb89c8"
      },
      "execution_count": 44,
      "outputs": [
        {
          "output_type": "display_data",
          "data": {
            "text/plain": [
              "<Figure size 640x480 with 2 Axes>"
            ],
            "image/png": "[encoded data removed]"
          },
          "metadata": {}
        },
        {
          "output_type": "stream",
          "name": "stdout",
          "text": [
            "[[ 1.00000000e+00  4.40772220e-18 -2.47356963e-18 -5.49111106e-16]\n",
            " [-2.27540388e-16  1.00000000e+00 -1.08710332e-17 -2.94666960e-16]\n",
            " [-2.37515048e-16  1.03674928e-16  1.00000000e+00 -1.55889082e-16]\n",
            " [-1.11022302e-16 -3.60822483e-16  1.94289029e-16  1.00000000e+00]]\n"
          ]
        }
      ]
    },
    {
      "cell_type": "code",
      "source": [
        "import numpy as np\n",
        "\n",
        "A = np.array([[1, 2, 3],\n",
        "              [4, 5, 6]])\n",
        "\n",
        "B = np.array([[7, 8],\n",
        "              [9, 10],\n",
        "              [11, 12]])\n",
        "\n",
        "C = A @ B\n",
        "\n",
        "print(C)"
      ],
      "metadata": {
        "colab": {
          "base_uri": "https://localhost:8080/"
        },
        "id": "K0quEGrZT67M",
        "outputId": "056b5148-47ef-4d1b-b5a8-b786d9c8926c"
      },
      "execution_count": 43,
      "outputs": [
        {
          "output_type": "stream",
          "name": "stdout",
          "text": [
            "[[ 58  64]\n",
            " [139 154]]\n"
          ]
        }
      ]
    }
  ]
}