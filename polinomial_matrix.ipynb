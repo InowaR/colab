{
  "nbformat": 4,
  "nbformat_minor": 0,
  "metadata": {
    "colab": {
      "provenance": [],
      "authorship_tag": "ABX9TyNwzuM93G9Q9GEsBzWOIddV",
      "include_colab_link": true
    },
    "kernelspec": {
      "name": "python3",
      "display_name": "Python 3"
    },
    "language_info": {
      "name": "python"
    }
  },
  "cells": [
    {
      "cell_type": "markdown",
      "metadata": {
        "id": "view-in-github",
        "colab_type": "text"
      },
      "source": [
        "<a href=\"https://colab.research.google.com/github/InowaR/colab/blob/main/polinomial_matrix.ipynb\" target=\"_parent\"><img src=\"https://colab.research.google.com/assets/colab-badge.svg\" alt=\"Open In Colab\"/></a>"
      ]
    },
    {
      "cell_type": "code",
      "execution_count": null,
      "metadata": {
        "colab": {
          "base_uri": "https://localhost:8080/"
        },
        "id": "HOKO7RQEw6lY",
        "outputId": "32d012f3-a4d5-4fa9-b647-86ec9130e72c"
      },
      "outputs": [
        {
          "output_type": "stream",
          "name": "stdout",
          "text": [
            "Результаты:\n",
            "[5. 2. 1. 0.] -> -0.1200 (Истинное: 0.0)\n",
            "[6. 3. 2. 1.] -> 0.1785 (Истинное: 0.0)\n",
            "[4. 1. 1. 0.] -> 0.0509 (Истинное: 0.0)\n",
            "[7. 4. 6. 3.] -> 1.0982 (Истинное: 1.0)\n",
            "[8. 5. 5. 4.] -> 0.9481 (Истинное: 1.0)\n",
            "[6. 3. 4. 2.] -> 0.8447 (Истинное: 1.0)\n",
            "[3. 8. 7. 9.] -> 1.0276 (Истинное: 1.0)\n",
            "[4. 9. 8. 8.] -> -0.0154 (Истинное: 0.0)\n",
            "[2. 7. 6. 7.] -> 0.9870 (Истинное: 1.0)\n",
            "\n",
            "Среднеквадратичная ошибка: 0.009611\n"
          ]
        }
      ],
      "source": [
        "import numpy as np\n",
        "\n",
        "# Исходные данные\n",
        "X = np.array([\n",
        "    [5, 2, 1, 0], [6, 3, 2, 1], [4, 1, 1, 0],\n",
        "    [7, 4, 6, 3], [8, 5, 5, 4], [6, 3, 4, 2],\n",
        "    [3, 8, 7, 9], [4, 9, 8, 8], [2, 7, 6, 7],\n",
        "], dtype=np.float32) / 10.0\n",
        "\n",
        "y = np.array([0, 0, 0, 1, 1, 1, 1, 0, 1], dtype=np.float32)\n",
        "\n",
        "# Функция для создания матрицы дизайна (всех термов)\n",
        "def create_design_matrix(X):\n",
        "    n_samples = X.shape[0]\n",
        "    X1, X2, X3, X4 = X[:, 0], X[:, 1], X[:, 2], X[:, 3]\n",
        "\n",
        "    # Создаем матрицу дизайна с полиномиальными термами 2-й степени\n",
        "    design_matrix = np.column_stack([\n",
        "        np.ones(n_samples, dtype=np.float32),  # bias term\n",
        "        X1, X2, X3, X4,                       # линейные термы\n",
        "        X1**2, X2**2, X3**2, X4**2,           # квадратичные термы\n",
        "        X1*X2, X1*X3, X1*X4,                  # взаимодействия x1\n",
        "        X2*X3, X2*X4, X3*X4                   # взаимодействия x2, x3, x4\n",
        "    ])\n",
        "    return design_matrix\n",
        "\n",
        "# Создаем матрицу дизайна один раз\n",
        "design_matrix = create_design_matrix(X)\n",
        "\n",
        "# Инициализация весов\n",
        "weights = np.random.uniform(-0.1, 0.1, size=design_matrix.shape[1]).astype(np.float32)\n",
        "\n",
        "# Параметры обучения\n",
        "learning_rate = 0.1\n",
        "n_iterations = 10000\n",
        "\n",
        "# Обучение с матричными операциями\n",
        "for _ in range(n_iterations):\n",
        "    # Вычисляем предсказания для всех образцов сразу\n",
        "    predictions = np.dot(design_matrix, weights)\n",
        "\n",
        "    # Вычисляем ошибку для всех образцов\n",
        "    errors = predictions - y\n",
        "\n",
        "    # Обновляем веса (матричная операция)\n",
        "    gradient = np.dot(design_matrix.T, errors) / len(y)\n",
        "    weights -= learning_rate * gradient\n",
        "\n",
        "print(\"Результаты:\")\n",
        "predictions = np.dot(design_matrix, weights)\n",
        "for i in range(len(X)):\n",
        "    print(f\"{X[i] * 10} -> {predictions[i]:.4f} (Истинное: {y[i]})\")\n",
        "\n",
        "# Можно также вывести среднеквадратичную ошибку\n",
        "mse = np.mean((predictions - y)**2)\n",
        "print(f\"\\nСреднеквадратичная ошибка: {mse:.6f}\")"
      ]
    },
    {
      "cell_type": "code",
      "source": [
        "import numpy as np\n",
        "\n",
        "# Исходные данные\n",
        "X = np.array([\n",
        "    [5, 2, 1, 0], [6, 3, 2, 1], [4, 1, 1, 0],\n",
        "    [7, 4, 6, 3], [8, 5, 5, 4], [6, 3, 4, 2],\n",
        "    [3, 8, 7, 9], [4, 9, 8, 8], [2, 7, 6, 7],\n",
        "], dtype=np.float32) / 10.0\n",
        "\n",
        "y = np.array([0, 0, 0, 1, 1, 1, 1, 0, 1], dtype=np.float32)\n",
        "\n",
        "# Нормализация (Z-score)\n",
        "X_normalized = (X - X.mean(axis=0)) / (X.std(axis=0) + 1e-8)\n",
        "\n",
        "# Функция для создания матрицы дизайна\n",
        "def create_design_matrix(X):\n",
        "    X1, X2, X3, X4 = X[:, 0], X[:, 1], X[:, 2], X[:, 3]\n",
        "    return np.column_stack([\n",
        "        np.ones(len(X), dtype=np.float32),\n",
        "        X1, X2, X3, X4,\n",
        "        X1**2, X2**2, X3**2, X4**2,\n",
        "        X1*X2, X1*X3, X1*X4,\n",
        "        X2*X3, X2*X4, X3*X4\n",
        "    ])\n",
        "\n",
        "design_matrix = create_design_matrix(X_normalized)\n",
        "\n",
        "# Инициализация весов (Xavier/Glorot)\n",
        "limit = np.sqrt(6 / (design_matrix.shape[1] + 1))\n",
        "weights = np.random.uniform(-limit, limit, size=design_matrix.shape[1]).astype(np.float32)\n",
        "\n",
        "# Параметры обучения\n",
        "learning_rate = 0.1\n",
        "lambda_reg = 0.001  # L2-регуляризация\n",
        "n_iterations = 10000\n",
        "best_mse = float('inf')\n",
        "patience = 100\n",
        "no_improvement = 0\n",
        "\n",
        "# Обучение с ранней остановкой\n",
        "for epoch in range(n_iterations):\n",
        "    predictions = np.dot(design_matrix, weights)\n",
        "    errors = predictions - y\n",
        "    gradient = (np.dot(design_matrix.T, errors) + lambda_reg * weights) / len(y)\n",
        "    weights -= learning_rate * gradient\n",
        "\n",
        "    mse = np.mean(errors**2)\n",
        "    if mse < best_mse:\n",
        "        best_mse = mse\n",
        "        no_improvement = 0\n",
        "    else:\n",
        "        no_improvement += 1\n",
        "        if no_improvement >= patience:\n",
        "            print(f\"Ранняя остановка на итерации {epoch}\")\n",
        "            break\n",
        "\n",
        "# Вывод результатов\n",
        "print(\"Результаты:\")\n",
        "results = np.column_stack([X * 10, predictions, y])\n",
        "print(\"Исходные признаки -> Предсказание (Истинное)\")\n",
        "print(results)\n",
        "print(f\"\\nСреднеквадратичная ошибка: {best_mse:.6f}\")"
      ],
      "metadata": {
        "id": "D5Z8abbJzqe8",
        "colab": {
          "base_uri": "https://localhost:8080/"
        },
        "outputId": "ff531841-84b5-4c91-b43f-c88a61dff60e"
      },
      "execution_count": 6,
      "outputs": [
        {
          "output_type": "stream",
          "name": "stdout",
          "text": [
            "Результаты:\n",
            "Исходные признаки -> Предсказание (Истинное)\n",
            "[[ 5.0000000e+00  2.0000000e+00  1.0000000e+00  0.0000000e+00\n",
            "  -4.2898297e-02  0.0000000e+00]\n",
            " [ 6.0000000e+00  3.0000000e+00  2.0000000e+00  1.0000000e+00\n",
            "   4.4485033e-02  0.0000000e+00]\n",
            " [ 4.0000000e+00  1.0000000e+00  1.0000000e+00  0.0000000e+00\n",
            "   1.9938886e-02  0.0000000e+00]\n",
            " [ 7.0000000e+00  4.0000000e+00  6.0000000e+00  3.0000000e+00\n",
            "   1.0128490e+00  1.0000000e+00]\n",
            " [ 8.0000000e+00  5.0000000e+00  5.0000000e+00  4.0000000e+00\n",
            "   9.9161398e-01  1.0000000e+00]\n",
            " [ 6.0000000e+00  3.0000000e+00  4.0000000e+00  2.0000000e+00\n",
            "   9.7317100e-01  1.0000000e+00]\n",
            " [ 3.0000000e+00  8.0000000e+00  7.0000000e+00  9.0000000e+00\n",
            "   1.0043318e+00  1.0000000e+00]\n",
            " [ 4.0000000e+00  9.0000000e+00  8.0000000e+00  8.0000000e+00\n",
            "  -1.8105507e-03  0.0000000e+00]\n",
            " [ 2.0000000e+00  7.0000000e+00  6.0000000e+00  7.0000000e+00\n",
            "   9.9669015e-01  1.0000000e+00]]\n",
            "\n",
            "Среднеквадратичная ошибка: 0.000578\n"
          ]
        }
      ]
    }
  ]
}