{
  "nbformat": 4,
  "nbformat_minor": 0,
  "metadata": {
    "colab": {
      "provenance": [],
      "authorship_tag": "ABX9TyPZ66pWqUsSaxiBHb6ZxwTy",
      "include_colab_link": true
    },
    "kernelspec": {
      "name": "python3",
      "display_name": "Python 3"
    },
    "language_info": {
      "name": "python"
    }
  },
  "cells": [
    {
      "cell_type": "markdown",
      "metadata": {
        "id": "view-in-github",
        "colab_type": "text"
      },
      "source": [
        "<a href=\"https://colab.research.google.com/github/InowaR/colab/blob/main/fastapi_postgres.ipynb\" target=\"_parent\"><img src=\"https://colab.research.google.com/assets/colab-badge.svg\" alt=\"Open In Colab\"/></a>"
      ]
    },
    {
      "cell_type": "code",
      "source": [
        "!sudo apt install postgresql postgresql-contrib\n",
        "!sudo service postgresql start\n",
        "!sudo -u postgres psql -U postgres -c \"ALTER USER postgres PASSWORD 'q';\"\n",
        "!sudo -u postgres psql -U postgres -c 'CREATE DATABASE fastapi_crud;'\n",
        "!export DATABASE_URL=postgresql://postgres:q@localhost:5432/fastapi_crud"
      ],
      "metadata": {
        "id": "bWhWqKV0VZwC"
      },
      "execution_count": null,
      "outputs": []
    },
    {
      "cell_type": "code",
      "source": [
        "!pip install fastapi daphne"
      ],
      "metadata": {
        "id": "uig-35fbcVqp"
      },
      "execution_count": null,
      "outputs": []
    },
    {
      "cell_type": "code",
      "source": [
        "from google.colab.output import eval_js\n",
        "link = eval_js(\"google.colab.kernel.proxyPort(8000)\")\n",
        "print(f'{link}docs')"
      ],
      "metadata": {
        "colab": {
          "base_uri": "https://localhost:8080/",
          "height": 34
        },
        "id": "2eAxSEynfU5h",
        "outputId": "94b0f233-4b58-4e88-eec7-9fa2a4631983"
      },
      "execution_count": 12,
      "outputs": [
        {
          "output_type": "stream",
          "name": "stdout",
          "text": [
            "https://diij7sppxf-496ff2e9c6d22116-8000-colab.googleusercontent.com/docs\n"
          ]
        }
      ]
    },
    {
      "cell_type": "code",
      "source": [
        "app = \"\"\"from fastapi import FastAPI, Body, HTTPException\n",
        "from pydantic import BaseModel\n",
        "from sqlalchemy import create_engine\n",
        "from sqlalchemy.orm import sessionmaker, declarative_base\n",
        "from sqlalchemy import Table, Column, Integer, String, Float\n",
        "\n",
        "\n",
        "app = FastAPI()\n",
        "\n",
        "DATABASE_URL = \"postgresql://postgres:q@localhost:5432/fastapi_crud\"\n",
        "\n",
        "engine = create_engine(DATABASE_URL)\n",
        "\n",
        "Base = declarative_base()\n",
        "Base.metadata.create_all(engine)\n",
        "\n",
        "Session = sessionmaker(bind=engine)\n",
        "\n",
        "\n",
        "class Product(BaseModel):\n",
        "    name: str\n",
        "    price: float\n",
        "\n",
        "\n",
        "class ProductDB(Base):\n",
        "    __tablename__ = 'products'\n",
        "\n",
        "    id = Column(Integer, primary_key=True)\n",
        "    name = Column(String(255), nullable=False)\n",
        "    price = Column(Float, nullable=False)\n",
        "\n",
        "\n",
        "@app.post(\"/products\")\n",
        "async def create_product(product: Product = Body(...)):\n",
        "    db_product = ProductDB(**product.dict())\n",
        "    with Session() as session:\n",
        "        session.add(db_product)\n",
        "        session.commit()\n",
        "        return {\"message\": \"Продукт успешно добавлен\"}\n",
        "\n",
        "\n",
        "@app.get(\"/products\")\n",
        "async def get_all_products():\n",
        "    with Session() as session:\n",
        "        products = session.query(ProductDB).all()\n",
        "        return [product for product in products]\n",
        "\n",
        "\n",
        "@app.put(\"/products/{pk}\")\n",
        "async def update_product_by_id(pk: int, product: Product = Body(...)):\n",
        "    with Session() as session:\n",
        "        db_product = session.query(ProductDB).filter(ProductDB.id == pk).first()\n",
        "        if not db_product:\n",
        "            raise HTTPException(status_code=404, detail=\"Продукт не найден\")\n",
        "        updated_product = ProductDB(**product.dict())\n",
        "        db_product.name = updated_product.name\n",
        "        db_product.price = updated_product.price\n",
        "        session.commit()\n",
        "        return {\"message\": \"Продукт успешно обновлен\"}\n",
        "\n",
        "\n",
        "@app.delete(\"/products/{pk}\")\n",
        "async def delete_product_by_id(pk: int):\n",
        "    with Session() as session:\n",
        "        db_product = session.query(ProductDB).filter(ProductDB.id == pk).first()\n",
        "        if not db_product:\n",
        "            raise HTTPException(status_code=404, detail=\"Продукт не найден\")\n",
        "        session.delete(db_product)\n",
        "        session.commit()\n",
        "        return {\"message\": \"Продукт успешно удален\"}\n",
        "\"\"\"\n",
        "\n",
        "with open('main.py', 'w') as m:\n",
        "    m.write(app)"
      ],
      "metadata": {
        "id": "Nonik1CnY4UF"
      },
      "execution_count": 37,
      "outputs": []
    },
    {
      "cell_type": "code",
      "source": [
        "!daphne -b 127.0.0.1 -p 8000 main:app"
      ],
      "metadata": {
        "colab": {
          "base_uri": "https://localhost:8080/"
        },
        "id": "RSkYIeyigu7L",
        "outputId": "5780323c-e86f-43da-f0b1-89df03f01e5c"
      },
      "execution_count": 42,
      "outputs": [
        {
          "output_type": "stream",
          "name": "stdout",
          "text": [
            "2024-04-19 09:01:02,389 INFO     Starting server at tcp:port=8000:interface=127.0.0.1\n",
            "2024-04-19 09:01:02,390 INFO     HTTP/2 support not enabled (install the http2 and tls Twisted extras)\n",
            "2024-04-19 09:01:02,390 INFO     Configuring endpoint tcp:port=8000:interface=127.0.0.1\n",
            "2024-04-19 09:01:02,391 INFO     Listening on TCP address 127.0.0.1:8000\n",
            "127.0.0.1:56608 - - [19/Apr/2024:09:01:56] \"POST /products\" 200 60\n",
            "2024-04-19 09:02:00,857 INFO     Killed 0 pending application instances\n",
            "^C\n"
          ]
        }
      ]
    },
    {
      "cell_type": "code",
      "source": [
        "!sudo -u postgres psql -U postgres fastapi_crud -c 'SELECT * FROM products;'"
      ],
      "metadata": {
        "colab": {
          "base_uri": "https://localhost:8080/"
        },
        "id": "05l2HLH8hHMo",
        "outputId": "8608764d-6545-4b4d-be1a-7e08e2c0a0b1"
      },
      "execution_count": 44,
      "outputs": [
        {
          "output_type": "stream",
          "name": "stdout",
          "text": [
            "\u001b7\u001b[?47h\u001b[?1h\u001b=\r id |   name    | price  \r\n",
            "----+-----------+--------\r\n",
            "  2 | телевизор | 200.78\r\n",
            "(1 row)\r\n",
            "\n",
            "\u001b[K\u001b[?1l\u001b>\u001b[2J\u001b[?47l\u001b8"
          ]
        }
      ]
    }
  ]
}