{
  "nbformat": 4,
  "nbformat_minor": 0,
  "metadata": {
    "colab": {
      "provenance": [],
      "authorship_tag": "ABX9TyMQNJtkFZN6GHXk7jwVO7H7",
      "include_colab_link": true
    },
    "kernelspec": {
      "name": "python3",
      "display_name": "Python 3"
    },
    "language_info": {
      "name": "python"
    }
  },
  "cells": [
    {
      "cell_type": "markdown",
      "metadata": {
        "id": "view-in-github",
        "colab_type": "text"
      },
      "source": [
        "<a href=\"https://colab.research.google.com/github/InowaR/colab/blob/main/functions.ipynb\" target=\"_parent\"><img src=\"https://colab.research.google.com/assets/colab-badge.svg\" alt=\"Open In Colab\"/></a>"
      ]
    },
    {
      "cell_type": "code",
      "execution_count": 8,
      "metadata": {
        "colab": {
          "base_uri": "https://localhost:8080/"
        },
        "id": "SzR_87zPvZ9H",
        "outputId": "fe6f3e0d-5c04-4c6c-f3e8-33c39f88acbd"
      },
      "outputs": [
        {
          "output_type": "execute_result",
          "data": {
            "text/plain": [
              "[1, 4, 9, 16, 25]"
            ]
          },
          "metadata": {},
          "execution_count": 8
        }
      ],
      "source": [
        "lambda_function = lambda x, y: x + y\n",
        "seq = (1, 2, 3, 4, 5, 6, 7, 8, 9)\n",
        "seq2 = (5, 6, 7, 8, 9, 0, 3, 2, 1)\n",
        "list(map(lambda_function, seq, seq2))\n",
        "\n",
        "is_even = lambda x: x % 2 == 0\n",
        "seq = (1, 2, 3, 4, 5, 6, 7, 8, 9)\n",
        "list(filter(is_even, seq))\n",
        "\n",
        "x = 'абвгде'\n",
        "y = '123456'\n",
        "list(zip(x, y))\n",
        "\n",
        "list(enumerate(['а','б','в']))\n",
        "\n",
        "numbers = [1, 2, 3, 4, 5]\n",
        "[x*x for x in numbers]"
      ]
    }
  ]
}