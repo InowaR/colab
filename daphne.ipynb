{
  "nbformat": 4,
  "nbformat_minor": 0,
  "metadata": {
    "colab": {
      "provenance": [],
      "authorship_tag": "ABX9TyN0x1HduTLDTYVfd3LCyytF",
      "include_colab_link": true
    },
    "kernelspec": {
      "name": "python3",
      "display_name": "Python 3"
    },
    "language_info": {
      "name": "python"
    }
  },
  "cells": [
    {
      "cell_type": "markdown",
      "metadata": {
        "id": "view-in-github",
        "colab_type": "text"
      },
      "source": [
        "<a href=\"https://colab.research.google.com/github/InowaR/colab/blob/main/daphne.ipynb\" target=\"_parent\"><img src=\"https://colab.research.google.com/assets/colab-badge.svg\" alt=\"Open In Colab\"/></a>"
      ]
    },
    {
      "cell_type": "code",
      "source": [
        "!pwd"
      ],
      "metadata": {
        "colab": {
          "base_uri": "https://localhost:8080/"
        },
        "id": "OShF30J19xiC",
        "outputId": "a27f38cb-e9ff-419c-d74e-5de1bebbfb64"
      },
      "execution_count": 2,
      "outputs": [
        {
          "output_type": "stream",
          "name": "stdout",
          "text": [
            "/content\n"
          ]
        }
      ]
    },
    {
      "cell_type": "code",
      "source": [
        "!pip install django\n",
        "!pip install daphne"
      ],
      "metadata": {
        "colab": {
          "base_uri": "https://localhost:8080/"
        },
        "id": "skPUwVny9bkp",
        "outputId": "bd92bd8c-f13d-487d-b0d1-64d15977814d"
      },
      "execution_count": 11,
      "outputs": [
        {
          "output_type": "stream",
          "name": "stdout",
          "text": [
            "Requirement already satisfied: django in /usr/local/lib/python3.10/dist-packages (5.0.3)\n",
            "Requirement already satisfied: asgiref<4,>=3.7.0 in /usr/local/lib/python3.10/dist-packages (from django) (3.8.1)\n",
            "Requirement already satisfied: sqlparse>=0.3.1 in /usr/local/lib/python3.10/dist-packages (from django) (0.4.4)\n",
            "Requirement already satisfied: typing-extensions>=4 in /usr/local/lib/python3.10/dist-packages (from asgiref<4,>=3.7.0->django) (4.10.0)\n"
          ]
        }
      ]
    },
    {
      "cell_type": "code",
      "execution_count": 13,
      "metadata": {
        "colab": {
          "base_uri": "https://localhost:8080/"
        },
        "id": "qgSS2bV07TY0",
        "outputId": "b2833ab8-772f-437a-edae-7283cef4ac36"
      },
      "outputs": [
        {
          "output_type": "stream",
          "name": "stdout",
          "text": [
            "\u001b[31;1mCommandError: '/content/hello_world' already exists\n",
            "\u001b[0m"
          ]
        }
      ],
      "source": [
        "!django-admin startproject hello_world"
      ]
    },
    {
      "cell_type": "code",
      "source": [
        "%cd hello_world/"
      ],
      "metadata": {
        "colab": {
          "base_uri": "https://localhost:8080/"
        },
        "id": "erFu-tdd-p_a",
        "outputId": "5e1f4a67-4ecc-47c8-d398-8275e1d9cac0"
      },
      "execution_count": 14,
      "outputs": [
        {
          "output_type": "stream",
          "name": "stdout",
          "text": [
            "/content/hello_world\n"
          ]
        }
      ]
    },
    {
      "cell_type": "code",
      "source": [
        "from google.colab.output import eval_js\n",
        "print(eval_js(\"google.colab.kernel.proxyPort(8000)\"))"
      ],
      "metadata": {
        "colab": {
          "base_uri": "https://localhost:8080/",
          "height": 34
        },
        "id": "jjonxfGW_ZsV",
        "outputId": "eeb4209d-3fa2-4934-feb1-2a23c99c2822"
      },
      "execution_count": 17,
      "outputs": [
        {
          "output_type": "stream",
          "name": "stdout",
          "text": [
            "https://b380j8izscb-496ff2e9c6d22116-8000-colab.googleusercontent.com/\n"
          ]
        }
      ]
    },
    {
      "cell_type": "code",
      "source": [
        "!daphne hello_world.asgi:app"
      ],
      "metadata": {
        "colab": {
          "base_uri": "https://localhost:8080/"
        },
        "id": "FJJrCLj1-9Iy",
        "outputId": "497f9a57-268f-4128-9689-fb05bf50e01b"
      },
      "execution_count": 18,
      "outputs": [
        {
          "output_type": "stream",
          "name": "stdout",
          "text": [
            "2024-03-30 20:12:21,367 INFO     Starting server at tcp:port=8000:interface=127.0.0.1\n",
            "2024-03-30 20:12:21,368 INFO     HTTP/2 support not enabled (install the http2 and tls Twisted extras)\n",
            "2024-03-30 20:12:21,368 INFO     Configuring endpoint tcp:port=8000:interface=127.0.0.1\n",
            "2024-03-30 20:12:21,369 INFO     Listening on TCP address 127.0.0.1:8000\n",
            "127.0.0.1:35548 - - [30/Mar/2024:20:12:23] \"GET /\" 200 13\n",
            "127.0.0.1:35558 - - [30/Mar/2024:20:12:24] \"GET /favicon.ico\" 200 13\n",
            "2024-03-30 20:12:38,718 INFO     Killed 0 pending application instances\n"
          ]
        }
      ]
    }
  ]
}