{
  "nbformat": 4,
  "nbformat_minor": 0,
  "metadata": {
    "colab": {
      "provenance": [],
      "authorship_tag": "ABX9TyMhvNo0Mih8ZW6qyBid4uUH",
      "include_colab_link": true
    },
    "kernelspec": {
      "name": "python3",
      "display_name": "Python 3"
    },
    "language_info": {
      "name": "python"
    }
  },
  "cells": [
    {
      "cell_type": "markdown",
      "metadata": {
        "id": "view-in-github",
        "colab_type": "text"
      },
      "source": [
        "<a href=\"https://colab.research.google.com/github/InowaR/colab/blob/main/daphne.ipynb\" target=\"_parent\"><img src=\"https://colab.research.google.com/assets/colab-badge.svg\" alt=\"Open In Colab\"/></a>"
      ]
    },
    {
      "cell_type": "code",
      "source": [
        "!pip install django\n",
        "!pip install daphne"
      ],
      "metadata": {
        "colab": {
          "base_uri": "https://localhost:8080/"
        },
        "id": "skPUwVny9bkp",
        "outputId": "bf98b7f1-4f4a-4fba-80fa-f9e3b7219344"
      },
      "execution_count": 1,
      "outputs": [
        {
          "output_type": "stream",
          "name": "stdout",
          "text": [
            "Collecting django\n",
            "  Downloading Django-5.0.3-py3-none-any.whl (8.2 MB)\n",
            "\u001b[2K     \u001b[90m━━━━━━━━━━━━━━━━━━━━━━━━━━━━━━━━━━━━━━━━\u001b[0m \u001b[32m8.2/8.2 MB\u001b[0m \u001b[31m20.5 MB/s\u001b[0m eta \u001b[36m0:00:00\u001b[0m\n",
            "\u001b[?25hCollecting asgiref<4,>=3.7.0 (from django)\n",
            "  Downloading asgiref-3.8.1-py3-none-any.whl (23 kB)\n",
            "Requirement already satisfied: sqlparse>=0.3.1 in /usr/local/lib/python3.10/dist-packages (from django) (0.4.4)\n",
            "Requirement already satisfied: typing-extensions>=4 in /usr/local/lib/python3.10/dist-packages (from asgiref<4,>=3.7.0->django) (4.10.0)\n",
            "Installing collected packages: asgiref, django\n",
            "Successfully installed asgiref-3.8.1 django-5.0.3\n",
            "Collecting daphne\n",
            "  Downloading daphne-4.1.0-py3-none-any.whl (30 kB)\n",
            "Requirement already satisfied: asgiref<4,>=3.5.2 in /usr/local/lib/python3.10/dist-packages (from daphne) (3.8.1)\n",
            "Collecting autobahn>=22.4.2 (from daphne)\n",
            "  Downloading autobahn-23.6.2.tar.gz (480 kB)\n",
            "\u001b[2K     \u001b[90m━━━━━━━━━━━━━━━━━━━━━━━━━━━━━━━━━━━━━━━━\u001b[0m \u001b[32m480.8/480.8 kB\u001b[0m \u001b[31m4.2 MB/s\u001b[0m eta \u001b[36m0:00:00\u001b[0m\n",
            "\u001b[?25h  Preparing metadata (setup.py) ... \u001b[?25l\u001b[?25hdone\n",
            "Collecting twisted[tls]>=22.4 (from daphne)\n",
            "  Downloading twisted-24.3.0-py3-none-any.whl (3.2 MB)\n",
            "\u001b[2K     \u001b[90m━━━━━━━━━━━━━━━━━━━━━━━━━━━━━━━━━━━━━━━━\u001b[0m \u001b[32m3.2/3.2 MB\u001b[0m \u001b[31m27.1 MB/s\u001b[0m eta \u001b[36m0:00:00\u001b[0m\n",
            "\u001b[?25hRequirement already satisfied: typing-extensions>=4 in /usr/local/lib/python3.10/dist-packages (from asgiref<4,>=3.5.2->daphne) (4.10.0)\n",
            "Collecting txaio>=21.2.1 (from autobahn>=22.4.2->daphne)\n",
            "  Downloading txaio-23.1.1-py2.py3-none-any.whl (30 kB)\n",
            "Requirement already satisfied: cryptography>=3.4.6 in /usr/local/lib/python3.10/dist-packages (from autobahn>=22.4.2->daphne) (42.0.5)\n",
            "Collecting hyperlink>=21.0.0 (from autobahn>=22.4.2->daphne)\n",
            "  Downloading hyperlink-21.0.0-py2.py3-none-any.whl (74 kB)\n",
            "\u001b[2K     \u001b[90m━━━━━━━━━━━━━━━━━━━━━━━━━━━━━━━━━━━━━━━━\u001b[0m \u001b[32m74.6/74.6 kB\u001b[0m \u001b[31m9.7 MB/s\u001b[0m eta \u001b[36m0:00:00\u001b[0m\n",
            "\u001b[?25hRequirement already satisfied: setuptools in /usr/local/lib/python3.10/dist-packages (from autobahn>=22.4.2->daphne) (67.7.2)\n",
            "Requirement already satisfied: attrs>=21.3.0 in /usr/local/lib/python3.10/dist-packages (from twisted[tls]>=22.4->daphne) (23.2.0)\n",
            "Collecting automat>=0.8.0 (from twisted[tls]>=22.4->daphne)\n",
            "  Downloading Automat-22.10.0-py2.py3-none-any.whl (26 kB)\n",
            "Collecting constantly>=15.1 (from twisted[tls]>=22.4->daphne)\n",
            "  Downloading constantly-23.10.4-py3-none-any.whl (13 kB)\n",
            "Collecting incremental>=22.10.0 (from twisted[tls]>=22.4->daphne)\n",
            "  Downloading incremental-22.10.0-py2.py3-none-any.whl (16 kB)\n",
            "Collecting zope-interface>=5 (from twisted[tls]>=22.4->daphne)\n",
            "  Downloading zope.interface-6.2-cp310-cp310-manylinux_2_5_x86_64.manylinux1_x86_64.manylinux_2_17_x86_64.manylinux2014_x86_64.whl (247 kB)\n",
            "\u001b[2K     \u001b[90m━━━━━━━━━━━━━━━━━━━━━━━━━━━━━━━━━━━━━━━━\u001b[0m \u001b[32m247.3/247.3 kB\u001b[0m \u001b[31m25.2 MB/s\u001b[0m eta \u001b[36m0:00:00\u001b[0m\n",
            "\u001b[?25hRequirement already satisfied: idna>=2.4 in /usr/local/lib/python3.10/dist-packages (from twisted[tls]>=22.4->daphne) (3.6)\n",
            "Requirement already satisfied: pyopenssl>=21.0.0 in /usr/local/lib/python3.10/dist-packages (from twisted[tls]>=22.4->daphne) (24.1.0)\n",
            "Collecting service-identity>=18.1.0 (from twisted[tls]>=22.4->daphne)\n",
            "  Downloading service_identity-24.1.0-py3-none-any.whl (12 kB)\n",
            "Requirement already satisfied: six in /usr/local/lib/python3.10/dist-packages (from automat>=0.8.0->twisted[tls]>=22.4->daphne) (1.16.0)\n",
            "Requirement already satisfied: cffi>=1.12 in /usr/local/lib/python3.10/dist-packages (from cryptography>=3.4.6->autobahn>=22.4.2->daphne) (1.16.0)\n",
            "Requirement already satisfied: pyasn1 in /usr/local/lib/python3.10/dist-packages (from service-identity>=18.1.0->twisted[tls]>=22.4->daphne) (0.6.0)\n",
            "Requirement already satisfied: pyasn1-modules in /usr/local/lib/python3.10/dist-packages (from service-identity>=18.1.0->twisted[tls]>=22.4->daphne) (0.4.0)\n",
            "Requirement already satisfied: pycparser in /usr/local/lib/python3.10/dist-packages (from cffi>=1.12->cryptography>=3.4.6->autobahn>=22.4.2->daphne) (2.21)\n",
            "Building wheels for collected packages: autobahn\n",
            "  Building wheel for autobahn (setup.py) ... \u001b[?25l\u001b[?25hdone\n",
            "  Created wheel for autobahn: filename=autobahn-23.6.2-cp310-cp310-linux_x86_64.whl size=709074 sha256=8ef1b6af5ec9fbf3d696eee95e50536b5bf5e352159c7095c985f6a9aafd7fd1\n",
            "  Stored in directory: /root/.cache/pip/wheels/91/de/ea/aa1c040ea3fa2c92276d081c13a415aca31786456f15abcc86\n",
            "Successfully built autobahn\n",
            "Installing collected packages: incremental, zope-interface, txaio, hyperlink, constantly, automat, twisted, service-identity, autobahn, daphne\n",
            "Successfully installed autobahn-23.6.2 automat-22.10.0 constantly-23.10.4 daphne-4.1.0 hyperlink-21.0.0 incremental-22.10.0 service-identity-24.1.0 twisted-24.3.0 txaio-23.1.1 zope-interface-6.2\n"
          ]
        }
      ]
    },
    {
      "cell_type": "code",
      "execution_count": 2,
      "metadata": {
        "id": "qgSS2bV07TY0"
      },
      "outputs": [],
      "source": [
        "!django-admin startproject hello_world\n",
        "!mkdir ./hello_world/templates\n",
        "!mkdir ./hello_world/static/\n",
        "!mkdir ./hello_world/static/css"
      ]
    },
    {
      "cell_type": "code",
      "source": [
        "template = \"\"\"{% load static %}\n",
        "<!DOCTYPE html>\n",
        "<html lang=\"en\">\n",
        "<head>\n",
        "    <meta charset=\"UTF-8\">\n",
        "    <title>Hello World</title>\n",
        "    <link rel=\"stylesheet\" href=\"{% static 'css/style.css' %}\">\n",
        "</head>\n",
        "<body>\n",
        "    <h1>Hello World!</h1>\n",
        "</body>\n",
        "</html>\n",
        "\"\"\"\n",
        "with open('./hello_world/templates/hello_world.html', 'w') as t:\n",
        "    t.write(template)"
      ],
      "metadata": {
        "id": "sIivEy7MHt0F"
      },
      "execution_count": 3,
      "outputs": []
    },
    {
      "cell_type": "code",
      "source": [
        "style = \"\"\"h1 {\n",
        "    color: red;\n",
        "}\n",
        "\"\"\"\n",
        "with open('./hello_world/static/css/style.css', 'w') as s:\n",
        "    s.write(style)"
      ],
      "metadata": {
        "id": "_QVKOW0KNZ0y"
      },
      "execution_count": 4,
      "outputs": []
    },
    {
      "cell_type": "code",
      "source": [
        "view = \"\"\"\n",
        "from django.shortcuts import render\n",
        "\n",
        "def hello_world(request):\n",
        "    return render(request, 'hello_world.html')\n",
        "\"\"\"\n",
        "with open('./hello_world/hello_world/views.py', 'w') as v:\n",
        "    v.write(view)"
      ],
      "metadata": {
        "id": "BHpufS1jCYns"
      },
      "execution_count": 5,
      "outputs": []
    },
    {
      "cell_type": "code",
      "source": [
        "url = \"\"\"\n",
        "from django.urls import path\n",
        "from . import views\n",
        "\n",
        "urlpatterns = [\n",
        "    path('', views.hello_world, name='hello_world'),\n",
        "]\n",
        "\"\"\"\n",
        "with open('./hello_world/hello_world/urls.py', 'w') as u:\n",
        "    u.write(url)"
      ],
      "metadata": {
        "id": "RQj_8AaVDV-F"
      },
      "execution_count": 6,
      "outputs": []
    },
    {
      "cell_type": "code",
      "source": [
        "from google.colab.output import eval_js\n",
        "print(eval_js(\"google.colab.kernel.proxyPort(8000)\"))"
      ],
      "metadata": {
        "colab": {
          "base_uri": "https://localhost:8080/",
          "height": 34
        },
        "id": "jjonxfGW_ZsV",
        "outputId": "cdcd786b-3e10-44dd-acbc-76dcfe44de93"
      },
      "execution_count": 7,
      "outputs": [
        {
          "output_type": "stream",
          "name": "stdout",
          "text": [
            "https://b380j8izscb-496ff2e9c6d22116-8000-colab.googleusercontent.com/\n"
          ]
        }
      ]
    },
    {
      "cell_type": "code",
      "source": [
        "%cd hello_world/"
      ],
      "metadata": {
        "colab": {
          "base_uri": "https://localhost:8080/"
        },
        "id": "6kas5IofD8Or",
        "outputId": "4dcc0978-a25b-4eb9-9828-e28de2085934"
      },
      "execution_count": 8,
      "outputs": [
        {
          "output_type": "stream",
          "name": "stdout",
          "text": [
            "/content/hello_world\n"
          ]
        }
      ]
    },
    {
      "cell_type": "code",
      "source": [
        "# в settings.py\n",
        "# добавить адрес ALLOWED_HOSTS = ['colab.research.google.com']\n",
        "# добавить 'DIRS': ['templates']"
      ],
      "metadata": {
        "id": "nKvxm555G_KL"
      },
      "execution_count": null,
      "outputs": []
    },
    {
      "cell_type": "code",
      "source": [
        "!daphne hello_world.asgi:application"
      ],
      "metadata": {
        "colab": {
          "base_uri": "https://localhost:8080/"
        },
        "id": "FJJrCLj1-9Iy",
        "outputId": "c0cac5ec-d9fe-4612-c0df-275cdd370b88"
      },
      "execution_count": 11,
      "outputs": [
        {
          "output_type": "stream",
          "name": "stdout",
          "text": [
            "2024-03-30 22:38:46,386 INFO     Starting server at tcp:port=8000:interface=127.0.0.1\n",
            "2024-03-30 22:38:46,387 INFO     HTTP/2 support not enabled (install the http2 and tls Twisted extras)\n",
            "2024-03-30 22:38:46,387 INFO     Configuring endpoint tcp:port=8000:interface=127.0.0.1\n",
            "2024-03-30 22:38:46,388 INFO     Listening on TCP address 127.0.0.1:8000\n",
            "127.0.0.1:37632 - - [30/Mar/2024:22:38:49] \"GET /\" 200 213\n",
            "Not Found: /static/css/style.css\n",
            "2024-03-30 22:38:49,655 WARNING  Not Found: /static/css/style.css\n",
            "127.0.0.1:37638 - - [30/Mar/2024:22:38:49] \"GET /static/css/style.css\" 404 2167\n",
            "Not Found: /favicon.ico\n",
            "2024-03-30 22:38:50,089 WARNING  Not Found: /favicon.ico\n",
            "127.0.0.1:37652 - - [30/Mar/2024:22:38:50] \"GET /favicon.ico\" 404 2140\n",
            "2024-03-30 22:38:54,818 INFO     Killed 0 pending application instances\n",
            "^C\n"
          ]
        }
      ]
    }
  ]
}