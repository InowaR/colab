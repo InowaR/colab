{
  "nbformat": 4,
  "nbformat_minor": 0,
  "metadata": {
    "colab": {
      "provenance": [],
      "authorship_tag": "ABX9TyPEcMSz77REogf9fudjr3n+",
      "include_colab_link": true
    },
    "kernelspec": {
      "name": "python3",
      "display_name": "Python 3"
    },
    "language_info": {
      "name": "python"
    }
  },
  "cells": [
    {
      "cell_type": "markdown",
      "metadata": {
        "id": "view-in-github",
        "colab_type": "text"
      },
      "source": [
        "<a href=\"https://colab.research.google.com/github/InowaR/colab/blob/main/daphne.ipynb\" target=\"_parent\"><img src=\"https://colab.research.google.com/assets/colab-badge.svg\" alt=\"Open In Colab\"/></a>"
      ]
    },
    {
      "cell_type": "code",
      "source": [
        "!pip install django\n",
        "!pip install daphne"
      ],
      "metadata": {
        "id": "skPUwVny9bkp"
      },
      "execution_count": null,
      "outputs": []
    },
    {
      "cell_type": "code",
      "execution_count": 2,
      "metadata": {
        "id": "qgSS2bV07TY0"
      },
      "outputs": [],
      "source": [
        "!django-admin startproject hello_world\n",
        "!mkdir ./hello_world/templates\n",
        "!mkdir ./hello_world/static/\n",
        "!mkdir ./hello_world/static/css"
      ]
    },
    {
      "cell_type": "code",
      "source": [
        "template = \"\"\"{% load static %}\n",
        "\n",
        "<!DOCTYPE html>\n",
        "<html lang=\"en\">\n",
        "<head>\n",
        "    <meta charset=\"UTF-8\">\n",
        "    <title>Hello World</title>\n",
        "    <link rel=\"stylesheet\" href=\"{% static 'css/style.css' %}\">\n",
        "</head>\n",
        "<body>\n",
        "    <h1>Hello World!</h1>\n",
        "</body>\n",
        "</html>\n",
        "\n",
        "\"\"\"\n",
        "with open('./hello_world/templates/hello_world.html', 'w') as t:\n",
        "    t.write(template)"
      ],
      "metadata": {
        "id": "sIivEy7MHt0F"
      },
      "execution_count": 3,
      "outputs": []
    },
    {
      "cell_type": "code",
      "source": [
        "style = \"\"\"h1 {\n",
        "    color: red;\n",
        "}\n",
        "\"\"\"\n",
        "with open('./hello_world/static/css/style.css', 'w') as s:\n",
        "    s.write(style)"
      ],
      "metadata": {
        "id": "_QVKOW0KNZ0y"
      },
      "execution_count": 4,
      "outputs": []
    },
    {
      "cell_type": "code",
      "source": [
        "view = \"\"\"\n",
        "from django.shortcuts import render\n",
        "\n",
        "def hello_world(request):\n",
        "    return render(request, 'hello_world.html')\n",
        "\"\"\"\n",
        "with open('./hello_world/hello_world/views.py', 'w') as v:\n",
        "    v.write(view)"
      ],
      "metadata": {
        "id": "BHpufS1jCYns"
      },
      "execution_count": 5,
      "outputs": []
    },
    {
      "cell_type": "code",
      "source": [
        "url = \"\"\"\n",
        "from django.urls import path\n",
        "from . import views\n",
        "\n",
        "urlpatterns = [\n",
        "    path('', views.hello_world, name='hello_world'),\n",
        "]\n",
        "\"\"\"\n",
        "with open('./hello_world/hello_world/urls.py', 'w') as u:\n",
        "    u.write(url)"
      ],
      "metadata": {
        "id": "RQj_8AaVDV-F"
      },
      "execution_count": 6,
      "outputs": []
    },
    {
      "cell_type": "code",
      "source": [
        "from google.colab.output import eval_js\n",
        "print(eval_js(\"google.colab.kernel.proxyPort(8000)\"))"
      ],
      "metadata": {
        "colab": {
          "base_uri": "https://localhost:8080/",
          "height": 34
        },
        "id": "jjonxfGW_ZsV",
        "outputId": "1b31575e-1935-44a6-a0c2-14bd83e7dd56"
      },
      "execution_count": 7,
      "outputs": [
        {
          "output_type": "stream",
          "name": "stdout",
          "text": [
            "https://b380j8izscb-496ff2e9c6d22116-8000-colab.googleusercontent.com/\n"
          ]
        }
      ]
    },
    {
      "cell_type": "code",
      "source": [
        "%cd hello_world/"
      ],
      "metadata": {
        "colab": {
          "base_uri": "https://localhost:8080/"
        },
        "id": "6kas5IofD8Or",
        "outputId": "095a56b6-2a65-4e4c-bcf4-c09b51d35c77"
      },
      "execution_count": 8,
      "outputs": [
        {
          "output_type": "stream",
          "name": "stdout",
          "text": [
            "/content/hello_world\n"
          ]
        }
      ]
    },
    {
      "cell_type": "code",
      "source": [
        "# в settings.py добавить адрес в ALLOWED_HOSTS = ['colab.research.google.com']\n",
        "# добавить приложение 'hello_world' в INSTALLED_APPS\n",
        "# добавить 'DIRS': ['templates']"
      ],
      "metadata": {
        "id": "nKvxm555G_KL"
      },
      "execution_count": null,
      "outputs": []
    },
    {
      "cell_type": "code",
      "source": [
        "!daphne hello_world.asgi:application"
      ],
      "metadata": {
        "colab": {
          "base_uri": "https://localhost:8080/"
        },
        "id": "FJJrCLj1-9Iy",
        "outputId": "71f26861-16a3-4036-88b4-7f1f37f8605f"
      },
      "execution_count": 13,
      "outputs": [
        {
          "output_type": "stream",
          "name": "stdout",
          "text": [
            "2024-03-30 22:26:27,508 INFO     Starting server at tcp:port=8000:interface=127.0.0.1\n",
            "2024-03-30 22:26:27,508 INFO     HTTP/2 support not enabled (install the http2 and tls Twisted extras)\n",
            "2024-03-30 22:26:27,509 INFO     Configuring endpoint tcp:port=8000:interface=127.0.0.1\n",
            "2024-03-30 22:26:27,509 INFO     Listening on TCP address 127.0.0.1:8000\n",
            "127.0.0.1:53662 - - [30/Mar/2024:22:26:31] \"GET /\" 200 212\n",
            "Not Found: /static/css/style.css\n",
            "2024-03-30 22:26:31,754 WARNING  Not Found: /static/css/style.css\n",
            "127.0.0.1:53664 - - [30/Mar/2024:22:26:31] \"GET /static/css/style.css\" 404 2167\n",
            "Not Found: /favicon.ico\n",
            "2024-03-30 22:26:32,543 WARNING  Not Found: /favicon.ico\n",
            "127.0.0.1:53670 - - [30/Mar/2024:22:26:32] \"GET /favicon.ico\" 404 2140\n",
            "2024-03-30 22:27:01,745 INFO     Killed 0 pending application instances\n"
          ]
        }
      ]
    }
  ]
}