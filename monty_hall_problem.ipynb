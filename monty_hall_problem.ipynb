{
  "nbformat": 4,
  "nbformat_minor": 0,
  "metadata": {
    "colab": {
      "provenance": [],
      "authorship_tag": "ABX9TyPt50tfqC4ZDwZgxihsFKjy",
      "include_colab_link": true
    },
    "kernelspec": {
      "name": "python3",
      "display_name": "Python 3"
    },
    "language_info": {
      "name": "python"
    }
  },
  "cells": [
    {
      "cell_type": "markdown",
      "metadata": {
        "id": "view-in-github",
        "colab_type": "text"
      },
      "source": [
        "<a href=\"https://colab.research.google.com/github/InowaR/colab/blob/main/monty_hall_problem.ipynb\" target=\"_parent\"><img src=\"https://colab.research.google.com/assets/colab-badge.svg\" alt=\"Open In Colab\"/></a>"
      ]
    },
    {
      "cell_type": "code",
      "execution_count": 96,
      "metadata": {
        "colab": {
          "base_uri": "https://localhost:8080/"
        },
        "id": "wmqLA_xwSImV",
        "outputId": "644b222e-9820-460c-d94a-d4cb5e54b974"
      },
      "outputs": [
        {
          "output_type": "stream",
          "name": "stdout",
          "text": [
            "Вероятность выигрыша при смене двери: 0.692\n",
            "Вероятность выигрыша без смены двери: 0.349\n"
          ]
        }
      ],
      "source": [
        "import random\n",
        "\n",
        "# Список дверей: 0 - коза, 1 - приз\n",
        "doors = [0, 0, 1]\n",
        "\n",
        "# Функция для игры\n",
        "def play_monty_hall(change_door):\n",
        "  # Выбор игроком двери\n",
        "  chosen_door = random.randint(0, 2)\n",
        "\n",
        "  # Открытие пустой двери\n",
        "  open_door = random.randint(0, 2)\n",
        "  while open_door == chosen_door or doors[open_door] == 1:\n",
        "    open_door = random.randint(0, 2)\n",
        "\n",
        "  # Выбор новой двери\n",
        "  if change_door:\n",
        "    new_door = [i for i in range(3) if i not in (chosen_door, open_door)][0]\n",
        "  else:\n",
        "    new_door = chosen_door\n",
        "\n",
        "  # Возвращение True, если игрок выиграл\n",
        "  return doors[new_door] == 1\n",
        "\n",
        "# Проведение игры 1000 раз\n",
        "wins_with_change = sum(play_monty_hall(True) for _ in range(1000))\n",
        "wins_without_change = sum(play_monty_hall(False) for _ in range(1000))\n",
        "\n",
        "# Вычисление вероятностей\n",
        "probability_with_change = wins_with_change / 1000\n",
        "probability_without_change = wins_without_change / 1000\n",
        "\n",
        "# Вывод результатов\n",
        "print(f\"Вероятность выигрыша при смене двери: {probability_with_change}\")\n",
        "print(f\"Вероятность выигрыша без смены двери: {probability_without_change}\")\n"
      ]
    }
  ]
}