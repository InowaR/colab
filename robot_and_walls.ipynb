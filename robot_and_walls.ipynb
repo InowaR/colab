{
  "nbformat": 4,
  "nbformat_minor": 0,
  "metadata": {
    "colab": {
      "provenance": [],
      "authorship_tag": "ABX9TyOfoc+Nx/gnPujiyZFrvyce",
      "include_colab_link": true
    },
    "kernelspec": {
      "name": "python3",
      "display_name": "Python 3"
    },
    "language_info": {
      "name": "python"
    }
  },
  "cells": [
    {
      "cell_type": "markdown",
      "metadata": {
        "id": "view-in-github",
        "colab_type": "text"
      },
      "source": [
        "<a href=\"https://colab.research.google.com/github/InowaR/colab/blob/main/robot_and_walls.ipynb\" target=\"_parent\"><img src=\"https://colab.research.google.com/assets/colab-badge.svg\" alt=\"Open In Colab\"/></a>"
      ]
    },
    {
      "cell_type": "code",
      "source": [
        "import numpy as np\n",
        "import matplotlib.pyplot as plt\n",
        "import random\n",
        "\n",
        "# Параметры среды\n",
        "grid_size = 20\n",
        "num_walls = 4 # Количество стен\n",
        "max_wall_length = 10  # Максимальная длина стены\n",
        "\n",
        "# Инициализируем пустой массив\n",
        "environment = np.zeros((grid_size, grid_size), dtype=int)\n",
        "\n",
        "# Функция для размещения случайных стен\n",
        "def place_walls():\n",
        "    for _ in range(num_walls):\n",
        "        # Случайно выбираем направление (горизонтальное или вертикальное)\n",
        "        direction = random.choice(['horizontal', 'vertical'])\n",
        "\n",
        "        # Случайная длина стены\n",
        "        wall_length = random.randint(1, max_wall_length)\n",
        "\n",
        "        # Случайные координаты начала стены\n",
        "        if direction == 'horizontal':\n",
        "            row = random.randint(0, grid_size - 1)\n",
        "            col_start = random.randint(0, grid_size - wall_length)\n",
        "            for col in range(col_start, col_start + wall_length):\n",
        "                environment[row, col] = 1  # Устанавливаем стену\n",
        "        else:  # vertical\n",
        "            col = random.randint(0, grid_size - 1)\n",
        "            row_start = random.randint(0, grid_size - wall_length)\n",
        "            for row in range(row_start, row_start + wall_length):\n",
        "                environment[row, col] = 1  # Устанавливаем стену\n",
        "\n",
        "# Функция для размещения робота\n",
        "def place_robot():\n",
        "    while True:\n",
        "        x = random.randint(0, grid_size - 1)\n",
        "        y = random.randint(0, grid_size - 1)\n",
        "        if environment[y, x] == 0:  # Проверяем, что клетка свободна\n",
        "            environment[y, x] = 2  # Устанавливаем робота\n",
        "            break\n",
        "\n",
        "# Размещаем стены и робота\n",
        "place_walls()\n",
        "place_robot()\n",
        "\n",
        "# Создаем график\n",
        "fig, ax = plt.subplots(figsize=(6, 6))\n",
        "ax.set_xlim(0, grid_size)\n",
        "ax.set_ylim(grid_size, 0)  # Инвертируем ось Y для правильного отображения\n",
        "\n",
        "# Убираем оси\n",
        "ax.set_xticks([])\n",
        "ax.set_yticks([])\n",
        "\n",
        "# Рисуем сетку с препятствиями и роботом\n",
        "for i in range(grid_size):\n",
        "    for j in range(grid_size):\n",
        "        if environment[i, j] == 1:\n",
        "            ax.add_patch(plt.Rectangle((j, i), 1, 1, color='blue'))  # Стена\n",
        "        elif environment[i, j] == 2:\n",
        "            ax.add_patch(plt.Rectangle((j, i), 1, 1, color='red'))   # Робот\n",
        "        else:\n",
        "            ax.add_patch(plt.Rectangle((j, i), 1, 1, color='white'))  # Пустое место\n",
        "\n",
        "plt.title(\"Случайное размещение стен (синие) и робота (красный)\")\n",
        "plt.show()\n",
        "\n",
        "# Печатаем финальный массив после закрытия графика\n",
        "print(\"Финальный массив:\")\n",
        "print(environment)"
      ],
      "metadata": {
        "colab": {
          "base_uri": "https://localhost:8080/",
          "height": 665
        },
        "id": "Rwf8fJAth60S",
        "outputId": "8f85bb1f-c02a-4508-e93b-72079035cf0c"
      },
      "execution_count": 51,
      "outputs": [
        {
          "output_type": "display_data",
          "data": {
            "text/plain": [
              "<Figure size 600x600 with 1 Axes>"
            ],
            "image/png": "[encoded data removed]"
          },
          "metadata": {}
        },
        {
          "output_type": "stream",
          "name": "stdout",
          "text": [
            "Финальный массив:\n",
            "[[0 1 0 0 2 0 0 0 0 0 0 0 0 0 0 0 0 0 0 0]\n",
            " [0 1 0 0 0 0 0 0 0 0 0 0 0 0 0 0 0 0 0 0]\n",
            " [0 1 0 0 0 0 0 0 0 0 0 0 0 0 0 1 0 0 0 0]\n",
            " [0 1 0 0 0 0 0 0 0 0 0 0 0 0 0 1 0 0 0 0]\n",
            " [0 1 0 0 0 0 0 0 0 0 0 0 0 0 0 1 0 0 0 0]\n",
            " [0 1 0 0 0 0 0 0 0 0 0 0 0 0 0 1 0 0 0 0]\n",
            " [0 1 0 0 0 0 0 0 0 0 0 0 0 0 0 1 0 0 0 0]\n",
            " [0 1 0 0 0 0 0 0 0 0 0 0 0 0 0 1 0 0 0 0]\n",
            " [0 0 0 0 0 0 0 0 0 0 0 0 0 0 0 1 0 0 0 0]\n",
            " [0 0 0 0 0 0 0 0 0 0 0 0 0 0 0 1 0 0 0 0]\n",
            " [0 0 0 0 0 0 0 0 0 0 0 0 0 0 0 0 0 0 0 0]\n",
            " [0 0 0 0 0 0 0 0 0 0 0 0 0 0 0 0 0 0 0 0]\n",
            " [0 0 0 0 0 0 0 0 0 0 0 0 0 0 0 0 0 0 0 0]\n",
            " [0 0 0 0 0 0 0 0 0 0 0 0 0 0 0 0 0 0 0 0]\n",
            " [0 0 0 0 0 0 0 0 0 0 0 0 0 0 0 0 0 0 0 0]\n",
            " [0 0 0 0 0 0 0 0 0 0 0 0 0 0 0 0 0 0 0 0]\n",
            " [0 0 0 0 0 0 0 0 0 0 0 0 0 0 0 0 0 0 0 0]\n",
            " [0 0 0 0 0 0 0 0 0 0 0 0 0 0 0 0 0 0 0 0]\n",
            " [0 0 1 1 1 1 1 1 1 0 0 0 0 0 0 0 0 0 1 1]\n",
            " [0 0 0 0 0 0 0 0 0 0 0 0 0 0 0 0 0 0 0 0]]\n"
          ]
        }
      ]
    }
  ]
}