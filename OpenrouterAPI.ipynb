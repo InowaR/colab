{
  "nbformat": 4,
  "nbformat_minor": 0,
  "metadata": {
    "colab": {
      "provenance": [],
      "authorship_tag": "ABX9TyOK/utH31bJ7ectrtiaINeq",
      "include_colab_link": true
    },
    "kernelspec": {
      "name": "python3",
      "display_name": "Python 3"
    },
    "language_info": {
      "name": "python"
    }
  },
  "cells": [
    {
      "cell_type": "markdown",
      "metadata": {
        "id": "view-in-github",
        "colab_type": "text"
      },
      "source": [
        "<a href=\"https://colab.research.google.com/github/InowaR/colab/blob/main/OpenrouterAPI.ipynb\" target=\"_parent\"><img src=\"https://colab.research.google.com/assets/colab-badge.svg\" alt=\"Open In Colab\"/></a>"
      ]
    },
    {
      "cell_type": "code",
      "source": [
        "from google.colab import userdata\n",
        "key = userdata.get('OPENROUTER_API_KEY')"
      ],
      "metadata": {
        "id": "zJ6JHVq1j207"
      },
      "execution_count": 17,
      "outputs": []
    },
    {
      "cell_type": "code",
      "source": [
        "from openai import OpenAI\n",
        "\n",
        "client = OpenAI(\n",
        "  base_url=\"https://openrouter.ai/api/v1\",\n",
        "  api_key=key,\n",
        ")\n",
        "\n",
        "completion = client.chat.completions.create(\n",
        "  model=\"deepseek/deepseek-r1:free\",\n",
        "  messages=[\n",
        "    {\n",
        "      \"role\": \"user\",\n",
        "      \"content\": \"Подскажи, как отправить фото с текстом для анализа с помощью Deepseek?\"\n",
        "    }\n",
        "  ]\n",
        ")\n",
        "print(completion.choices[0].message.content)"
      ],
      "metadata": {
        "colab": {
          "base_uri": "https://localhost:8080/"
        },
        "id": "5tpJ7D96hmt_",
        "outputId": "49d4db5b-0594-47e7-9f6b-417811e266fe"
      },
      "execution_count": 20,
      "outputs": [
        {
          "output_type": "stream",
          "name": "stdout",
          "text": [
            "Для анализа текста с изображения с помощью **DeepSeek** вам нужно сначала извлечь текст из фото, а затем отправить его в текстовом формате. DeepSeek (в текущей версии) не обрабатывает изображения напрямую, но работает с текстом. Вот как это сделать:\n",
            "\n",
            "### 1. **Извлеките текст из изображения**\n",
            "Используйте инструменты **OCR** (Optical Character Recognition):\n",
            "- **Онлайн-сервисы**: [New OCR](https://www.newocr.com/), [OnlineOCR](https://www.onlineocr.net/), или Google Диск (через «Открыть с помощью Google Документы»).\n",
            "- **Локальные программы**: [Tesseract OCR](https://github.com/tesseract-ocr/tesseract) (бесплатный) или Adobe Acrobat Pro.\n",
            "- **Мобильные приложения**: Microsoft Lens, Google Keep.\n",
            "\n",
            "### 2. **Анализ текста через DeepSeek**\n",
            "После получения текста используйте API DeepSeek:\n",
            "- **Через официальный API** (если доступен):\n",
            "  ```python\n",
            "  import requests\n",
            "\n",
            "  api_key = \"ваш_api_ключ\"\n",
            "  text = \"Текст, извлеченный из изображения\"\n",
            "\n",
            "  response = requests.post(\n",
            "      \"https://api.deepseek.com/v1/analyze\",\n",
            "      headers={\"Authorization\": f\"Bearer {api_key}\"},\n",
            "      json={\"text\": text}\n",
            "  )\n",
            "  print(response.json())\n",
            "  ```\n",
            "- **Через интерфейс DeepSeek** (если есть веб-платформа): вставьте текст в поле ввода.\n",
            "\n",
            "### 3. **Пример для сложных данных**\n",
            "Если текст содержит таблицы/графики:\n",
            "1. Преобразуйте их в текстовый формат (например, таблицу в CSV).\n",
            "2. Отправьте структурированные данные в запросе.\n",
            "\n",
            "### Ограничения\n",
            "- DeepSeek не анализирует изображения напрямую (только текст).\n",
            "- Для анализа графиков/изображений используйте специализированные сервисы вроде Google Vision AI или AWS Rekognition.\n",
            "\n",
            "Ссылки:\n",
            "- [Документация DeepSeek API](https://platform.deepseek.com/api)\n",
            "- [Tesseract OCR Guide](https://tesseract-ocr.github.io/)\n",
            "\n",
            "Если нужна помощь с конкретным инструментом или кодом — уточните! 😊\n"
          ]
        }
      ]
    }
  ]
}