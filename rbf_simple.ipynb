{
  "nbformat": 4,
  "nbformat_minor": 0,
  "metadata": {
    "colab": {
      "provenance": [],
      "authorship_tag": "ABX9TyN/yMd5mZ7wiK6bQs6JPTja",
      "include_colab_link": true
    },
    "kernelspec": {
      "name": "python3",
      "display_name": "Python 3"
    },
    "language_info": {
      "name": "python"
    }
  },
  "cells": [
    {
      "cell_type": "markdown",
      "metadata": {
        "id": "view-in-github",
        "colab_type": "text"
      },
      "source": [
        "<a href=\"https://colab.research.google.com/github/InowaR/colab/blob/main/rbf_simple.ipynb\" target=\"_parent\"><img src=\"https://colab.research.google.com/assets/colab-badge.svg\" alt=\"Open In Colab\"/></a>"
      ]
    },
    {
      "cell_type": "code",
      "execution_count": 4,
      "metadata": {
        "colab": {
          "base_uri": "https://localhost:8080/"
        },
        "id": "eVlP_cmr1fdO",
        "outputId": "51309329-c6aa-430b-a1cf-063a7361f77c"
      },
      "outputs": [
        {
          "output_type": "stream",
          "name": "stdout",
          "text": [
            "[0.31 0.31]\n"
          ]
        }
      ],
      "source": [
        "import numpy as np\n",
        "\n",
        "X = np.array([[0.1, 0.2, 0.3], [0.3, 0.4, 0.5], [0.5, 0.6, 0.6], [0.8, 0.9, 0.7], [0.4, 0.5, 0.2]])\n",
        "y = np.array([[0.15, 0.15], [0.35, 0.35], [0.55, 0.55], [0.85, 0.85], [0.31, 0.31]])\n",
        "\n",
        "m = len(X)\n",
        "\n",
        "def func(data, x):\n",
        "    return np.exp(-np.linalg.norm(data - x)**2)\n",
        "\n",
        "def train(X, y):\n",
        "    matrix = np.zeros((m, m))\n",
        "    for i in range(m):\n",
        "        for j in range(m):\n",
        "            matrix[i,j] = func(X[i], X[j])\n",
        "    return np.linalg.pinv(matrix) @ y\n",
        "\n",
        "c = train(X, y)\n",
        "\n",
        "def predict(data):\n",
        "    func_data = np.array([func(data, x) for x in X])\n",
        "    return func_data @ c\n",
        "\n",
        "print(predict([0.4, 0.5, 0.2]))"
      ]
    }
  ]
}