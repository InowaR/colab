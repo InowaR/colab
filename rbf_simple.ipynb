{
  "nbformat": 4,
  "nbformat_minor": 0,
  "metadata": {
    "colab": {
      "provenance": [],
      "authorship_tag": "ABX9TyOQdU9D3GRa6v18pKkRomjY",
      "include_colab_link": true
    },
    "kernelspec": {
      "name": "python3",
      "display_name": "Python 3"
    },
    "language_info": {
      "name": "python"
    }
  },
  "cells": [
    {
      "cell_type": "markdown",
      "metadata": {
        "id": "view-in-github",
        "colab_type": "text"
      },
      "source": [
        "<a href=\"https://colab.research.google.com/github/InowaR/colab/blob/main/rbf_simple.ipynb\" target=\"_parent\"><img src=\"https://colab.research.google.com/assets/colab-badge.svg\" alt=\"Open In Colab\"/></a>"
      ]
    },
    {
      "cell_type": "code",
      "source": [
        "import numpy as np\n",
        "\n",
        "def inverse(matrix):\n",
        "    n = len(matrix)\n",
        "    augmented = [[matrix[i][j] for j in range(n)] + [int(i == j) for j in range(n)] for i in range(n)]\n",
        "\n",
        "    for i in range(n):\n",
        "        # Поиск максимального элемента в столбце (для численной устойчивости)\n",
        "        max_row = i\n",
        "        for j in range(i+1, n):\n",
        "            if abs(augmented[j][i]) > abs(augmented[max_row][i]):\n",
        "                max_row = j\n",
        "        augmented[i], augmented[max_row] = augmented[max_row], augmented[i]\n",
        "\n",
        "        # Проверка на вырожденность матрицы\n",
        "        if augmented[i][i] == 0:\n",
        "            return None  # Матрица вырождена\n",
        "\n",
        "        # Нормализация строки\n",
        "        pivot = augmented[i][i]\n",
        "        for j in range(i, 2*n):\n",
        "            augmented[i][j] /= pivot\n",
        "\n",
        "        # Обнуление элементов ниже диагонали\n",
        "        for k in range(i+1, n):\n",
        "            factor = augmented[k][i]\n",
        "            for j in range(i, 2*n):\n",
        "                augmented[k][j] -= factor * augmented[i][j]\n",
        "\n",
        "    # Обратный ход\n",
        "    for i in range(n-1, -1, -1):\n",
        "        for k in range(i-1, -1, -1):\n",
        "            factor = augmented[k][i]\n",
        "            for j in range(2*n-1, i-1, -1):\n",
        "                augmented[k][j] -= factor * augmented[i][j]\n",
        "\n",
        "    # Извлечение обратной матрицы\n",
        "    inverse = [[augmented[i][j] for j in range(n, 2*n)] for i in range(n)]\n",
        "    return np.array(inverse)\n",
        "\n",
        "\n",
        "X = np.array([[0.1, 0.2, 0.3, 0.4], [0.3, 0.45, 0.51, 0.5], [0.5, 0.6, 0.6, 0.1], [0.8, 0.9, 0.7, 0.5], [0.4, 0.5, 0.1, 0.2]])\n",
        "y = np.array([[0.15, 0.15], [0.35, 0.35], [0.55, 0.55], [0.85, 0.85], [0.31, 0.31]])\n",
        "\n",
        "m = len(X)\n",
        "\n",
        "def func(data, x):\n",
        "    return np.exp(sum(data - x)**2)\n",
        "\n",
        "def train(X, y):\n",
        "    matrix = np.zeros((m, m))\n",
        "    for i in range(m):\n",
        "        for j in range(m):\n",
        "            matrix[i,j] = func(X[i], X[j])\n",
        "    return inverse(matrix) @ y\n",
        "\n",
        "c = train(X, y)\n",
        "\n",
        "def predict(data):\n",
        "    func_data = np.array([func(data, x) for x in X])\n",
        "    return func_data @ c\n",
        "\n",
        "print(predict([0.4, 0.5, 0.1, 0.2]))"
      ],
      "metadata": {
        "colab": {
          "base_uri": "https://localhost:8080/"
        },
        "id": "Hiqvu7JJ87CM",
        "outputId": "94c754fb-51bf-4ad5-aef2-757a6c609f40"
      },
      "execution_count": 53,
      "outputs": [
        {
          "output_type": "stream",
          "name": "stdout",
          "text": [
            "[0.31 0.31]\n"
          ]
        }
      ]
    }
  ]
}