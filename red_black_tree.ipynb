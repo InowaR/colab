{
  "nbformat": 4,
  "nbformat_minor": 0,
  "metadata": {
    "colab": {
      "provenance": [],
      "authorship_tag": "ABX9TyPzPZwG79b4bfY7qClBBubx",
      "include_colab_link": true
    },
    "kernelspec": {
      "name": "python3",
      "display_name": "Python 3"
    },
    "language_info": {
      "name": "python"
    }
  },
  "cells": [
    {
      "cell_type": "markdown",
      "metadata": {
        "id": "view-in-github",
        "colab_type": "text"
      },
      "source": [
        "<a href=\"https://colab.research.google.com/github/InowaR/colab/blob/main/red_black_tree.ipynb\" target=\"_parent\"><img src=\"https://colab.research.google.com/assets/colab-badge.svg\" alt=\"Open In Colab\"/></a>"
      ]
    },
    {
      "cell_type": "code",
      "execution_count": 3,
      "metadata": {
        "colab": {
          "base_uri": "https://localhost:8080/"
        },
        "id": "8ClK3ISILhX5",
        "outputId": "67738bb2-c657-49e4-b064-024c1a01a54e"
      },
      "outputs": [
        {
          "output_type": "stream",
          "name": "stdout",
          "text": [
            "1\n",
            "2\n",
            "3\n",
            "4\n",
            "5\n"
          ]
        }
      ],
      "source": [
        "class Node:\n",
        "    def __init__(self, value):\n",
        "        self.value = value\n",
        "        self.left = None\n",
        "        self.right = None\n",
        "        self.parent = None\n",
        "        self.color = \"RED\"\n",
        "\n",
        "class RedBlackTree:\n",
        "    def __init__(self):\n",
        "        self.root = None\n",
        "\n",
        "    def insert(self, value):\n",
        "        node = Node(value)\n",
        "        if self.root is None:\n",
        "            self.root = node\n",
        "            node.color = \"BLACK\"\n",
        "            return\n",
        "        current_node = self.root\n",
        "        while True:\n",
        "            if value < current_node.value:\n",
        "                if current_node.left is None:\n",
        "                    current_node.left = node\n",
        "                    node.parent = current_node\n",
        "                    break\n",
        "                else:\n",
        "                    current_node = current_node.left\n",
        "            else:\n",
        "                if current_node.right is None:\n",
        "                    current_node.right = node\n",
        "                    node.parent = current_node\n",
        "                    break\n",
        "                else:\n",
        "                    current_node = current_node.right\n",
        "        self.fix_violations(node)\n",
        "\n",
        "    def fix_violations(self, node):\n",
        "        while node.parent is not None and node.parent.color == \"RED\":\n",
        "            if node.parent == node.parent.parent.left:\n",
        "                uncle = node.parent.parent.right\n",
        "                if uncle is not None and uncle.color == \"RED\":\n",
        "                    node.parent.color = \"BLACK\"\n",
        "                    uncle.color = \"BLACK\"\n",
        "                    node.parent.parent.color = \"RED\"\n",
        "                    node = node.parent.parent\n",
        "                else:\n",
        "                    if node == node.parent.right:\n",
        "                        node = node.parent\n",
        "                        self.rotate_left(node)\n",
        "                    node.parent.color = \"BLACK\"\n",
        "                    node.parent.parent.color = \"RED\"\n",
        "                    self.rotate_right(node.parent.parent)\n",
        "            else:\n",
        "                uncle = node.parent.parent.left\n",
        "                if uncle is not None and uncle.color == \"RED\":\n",
        "                    node.parent.color = \"BLACK\"\n",
        "                    uncle.color = \"BLACK\"\n",
        "                    node.parent.parent.color = \"RED\"\n",
        "                    node = node.parent.parent\n",
        "                else:\n",
        "                    if node == node.parent.left:\n",
        "                        node = node.parent\n",
        "                        self.rotate_right(node)\n",
        "                    node.parent.color = \"BLACK\"\n",
        "                    node.parent.parent.color = \"RED\"\n",
        "                    self.rotate_left(node.parent.parent)\n",
        "        self.root.color = \"BLACK\"\n",
        "\n",
        "    def rotate_left(self, node):\n",
        "        right_node = node.right\n",
        "        node.right = right_node.left\n",
        "        if right_node.left is not None:\n",
        "            right_node.left.parent = node\n",
        "        right_node.parent = node.parent\n",
        "        if node.parent is None:\n",
        "            self.root = right_node\n",
        "        elif node == node.parent.left:\n",
        "            node.parent.left = right_node\n",
        "        else:\n",
        "            node.parent.right = right_node\n",
        "        right_node.left = node\n",
        "        node.parent = right_node\n",
        "\n",
        "    def rotate_right(self, node):\n",
        "        left_node = node.left\n",
        "        node.left = left_node.right\n",
        "        if left_node.right is not None:\n",
        "            left_node.right.parent = node\n",
        "        left_node.parent = node.parent\n",
        "        if node.parent is None:\n",
        "            self.root = left_node\n",
        "        elif node == node.parent.right:\n",
        "            node.parent.right = left_node\n",
        "        else:\n",
        "            node.parent.left = left_node\n",
        "        left_node.right = node\n",
        "        node.parent = left_node\n",
        "\n",
        "    def inorder_traversal(self, node):\n",
        "        if node is not None:\n",
        "            self.inorder_traversal(node.left)\n",
        "            print(node.value)\n",
        "            self.inorder_traversal(node.right)\n",
        "\n",
        "tree = RedBlackTree()\n",
        "tree.insert(4)\n",
        "tree.insert(3)\n",
        "tree.insert(2)\n",
        "tree.insert(1)\n",
        "tree.insert(5)\n",
        "tree.inorder_traversal(tree.root)"
      ]
    }
  ]
}