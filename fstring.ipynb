{
  "nbformat": 4,
  "nbformat_minor": 0,
  "metadata": {
    "colab": {
      "name": "fstring.ipynb",
      "provenance": [],
      "authorship_tag": "ABX9TyPkeP3FnRJevZiUS/ird6Jo",
      "include_colab_link": true
    },
    "kernelspec": {
      "name": "python3",
      "display_name": "Python 3"
    },
    "language_info": {
      "name": "python"
    }
  },
  "cells": [
    {
      "cell_type": "markdown",
      "metadata": {
        "id": "view-in-github",
        "colab_type": "text"
      },
      "source": [
        "<a href=\"https://colab.research.google.com/github/InowaR/colab/blob/main/fstring.ipynb\" target=\"_parent\"><img src=\"https://colab.research.google.com/assets/colab-badge.svg\" alt=\"Open In Colab\"/></a>"
      ]
    },
    {
      "cell_type": "code",
      "execution_count": 1,
      "metadata": {
        "colab": {
          "base_uri": "https://localhost:8080/"
        },
        "id": "yWjLZQtRCLi8",
        "outputId": "d1ea4e63-9262-4491-90c8-2166039f3523"
      },
      "outputs": [
        {
          "output_type": "stream",
          "name": "stdout",
          "text": [
            "Chemistry is 4 times a week\n"
          ]
        }
      ],
      "source": [
        "lesson = \"Chemistry\"\n",
        "number = 4\n",
        "print(f\"{lesson} is {number} times a week\")"
      ]
    }
  ]
}