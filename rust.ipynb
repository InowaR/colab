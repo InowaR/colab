{
  "nbformat": 4,
  "nbformat_minor": 0,
  "metadata": {
    "colab": {
      "provenance": [],
      "authorship_tag": "ABX9TyP8oWY/47uSShS5vZ5+4RbS",
      "include_colab_link": true
    },
    "kernelspec": {
      "name": "rust",
      "display_name": "Rust"
    }
  },
  "cells": [
    {
      "cell_type": "markdown",
      "metadata": {
        "id": "view-in-github",
        "colab_type": "text"
      },
      "source": [
        "<a href=\"https://colab.research.google.com/github/InowaR/colab/blob/main/rust.ipynb\" target=\"_parent\"><img src=\"https://colab.research.google.com/assets/colab-badge.svg\" alt=\"Open In Colab\"/></a>"
      ]
    },
    {
      "cell_type": "code",
      "execution_count": null,
      "metadata": {
        "id": "Yt4q1y-aekZ9"
      },
      "outputs": [],
      "source": [
        "!wget -qO- https://gist.github.com/wiseaidev/2af6bef753d48565d11bcd478728c979/archive/3f6df40db09f3517ade41997b541b81f0976c12e.tar.gz | tar xvz --strip-components=1\n",
        "!bash setup_evcxr_kernel.sh"
      ]
    },
    {
      "cell_type": "code",
      "source": [
        "//сменить среду выполнения google colab\n",
        "\n",
        "trait PersonInfo {\n",
        "    fn introduce(&self);\n",
        "}\n",
        "\n",
        "struct Person {\n",
        "    name: String,\n",
        "    age: u32,\n",
        "}\n",
        "\n",
        "impl Person {\n",
        "    fn new(name: String, age: u32) -> Person {\n",
        "        Person { name, age }\n",
        "    }\n",
        "}\n",
        "\n",
        "impl PersonInfo for Person {\n",
        "    fn introduce(&self) {\n",
        "        println!(\"Меня зовут {} и мне {} лет.\", self.name, self.age);\n",
        "    }\n",
        "}\n",
        "\n",
        "fn main() {\n",
        "    let john = Person::new(String::from(\"John Doe\"), 30);\n",
        "    let jane = Person::new(String::from(\"Jane Doe\"), 25);\n",
        "\n",
        "    let people: Vec<&dyn PersonInfo> = vec![&john, &jane];\n",
        "\n",
        "    for person in people {\n",
        "        person.introduce();\n",
        "    }\n",
        "}\n",
        "\n",
        "main();"
      ],
      "metadata": {
        "colab": {
          "base_uri": "https://localhost:8080/",
          "height": 69
        },
        "id": "SBjFkLaDkIyR",
        "outputId": "240dd480-a64d-42b9-a065-318452accf1e"
      },
      "execution_count": 100,
      "outputs": [
        {
          "output_type": "stream",
          "name": "stdout",
          "text": [
            "Меня зовут John Doe и мне 30 лет.\n"
          ]
        },
        {
          "output_type": "execute_result",
          "data": {
            "text/html": [
              "<span style=\"color: rgba(0,0,0,0.4);\">Took 309ms</span>"
            ]
          },
          "metadata": {},
          "execution_count": 100
        },
        {
          "output_type": "stream",
          "name": "stdout",
          "text": [
            "Меня зовут Jane Doe и мне 25 лет.\n"
          ]
        }
      ]
    }
  ]
}