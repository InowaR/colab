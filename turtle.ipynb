{
  "nbformat": 4,
  "nbformat_minor": 0,
  "metadata": {
    "colab": {
      "provenance": [],
      "authorship_tag": "ABX9TyPPCBn38vQNllyBnr3l3HzX",
      "include_colab_link": true
    },
    "kernelspec": {
      "name": "python3",
      "display_name": "Python 3"
    },
    "language_info": {
      "name": "python"
    }
  },
  "cells": [
    {
      "cell_type": "markdown",
      "metadata": {
        "id": "view-in-github",
        "colab_type": "text"
      },
      "source": [
        "<a href=\"https://colab.research.google.com/github/InowaR/colab/blob/main/turtle.ipynb\" target=\"_parent\"><img src=\"https://colab.research.google.com/assets/colab-badge.svg\" alt=\"Open In Colab\"/></a>"
      ]
    },
    {
      "cell_type": "code",
      "execution_count": null,
      "metadata": {
        "id": "JzGuMC3TJCIC"
      },
      "outputs": [],
      "source": [
        "import turtle\n",
        "\n",
        "t = turtle.Turtle()\n",
        "t.color(\"blue\")\n",
        "t.speed(1)\n",
        "\n",
        "\n",
        "def draw_side():\n",
        "    t.forward(90)\n",
        "    t.right(90)\n",
        "\n",
        "\n",
        "for i in range(4):\n",
        "    draw_side()\n",
        "\n",
        "turtle.mainloop()"
      ]
    }
  ]
}