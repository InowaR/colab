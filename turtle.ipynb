{
  "nbformat": 4,
  "nbformat_minor": 0,
  "metadata": {
    "colab": {
      "provenance": [],
      "authorship_tag": "ABX9TyPxqiCRHfoYBCbPghRalv8l",
      "include_colab_link": true
    },
    "kernelspec": {
      "name": "python3",
      "display_name": "Python 3"
    },
    "language_info": {
      "name": "python"
    }
  },
  "cells": [
    {
      "cell_type": "markdown",
      "metadata": {
        "id": "view-in-github",
        "colab_type": "text"
      },
      "source": [
        "<a href=\"https://colab.research.google.com/github/InowaR/colab/blob/main/turtle.ipynb\" target=\"_parent\"><img src=\"https://colab.research.google.com/assets/colab-badge.svg\" alt=\"Open In Colab\"/></a>"
      ]
    },
    {
      "cell_type": "code",
      "execution_count": null,
      "metadata": {
        "id": "JzGuMC3TJCIC"
      },
      "outputs": [],
      "source": [
        "import turtle\n",
        "from turtle import bgcolor\n",
        "\n",
        "bgcolor(\"black\")\n",
        "\n",
        "t1 = turtle.Turtle()\n",
        "t1.color(\"red\")\n",
        "t1.speed(20)\n",
        "\n",
        "t2 = turtle.Turtle()\n",
        "t2.color(\"blue\")\n",
        "t2.speed(20)\n",
        "\n",
        "\n",
        "def draw_circle():\n",
        "    for a in range(12):\n",
        "        t1.circle(70)\n",
        "        t1.left(30)\n",
        "        t2.circle(80)\n",
        "        t2.left(30)\n",
        "\n",
        "\n",
        "draw_circle()\n",
        "turtle.mainloop()"
      ]
    }
  ]
}