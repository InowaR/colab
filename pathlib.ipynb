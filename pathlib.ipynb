{
  "nbformat": 4,
  "nbformat_minor": 0,
  "metadata": {
    "colab": {
      "provenance": [],
      "authorship_tag": "ABX9TyOiGMzj/ANPVY0+XOdbs57a",
      "include_colab_link": true
    },
    "kernelspec": {
      "name": "python3",
      "display_name": "Python 3"
    },
    "language_info": {
      "name": "python"
    }
  },
  "cells": [
    {
      "cell_type": "markdown",
      "metadata": {
        "id": "view-in-github",
        "colab_type": "text"
      },
      "source": [
        "<a href=\"https://colab.research.google.com/github/InowaR/colab/blob/main/pathlib.ipynb\" target=\"_parent\"><img src=\"https://colab.research.google.com/assets/colab-badge.svg\" alt=\"Open In Colab\"/></a>"
      ]
    },
    {
      "cell_type": "code",
      "execution_count": 6,
      "metadata": {
        "colab": {
          "base_uri": "https://localhost:8080/"
        },
        "id": "gBa85dqYCzJ-",
        "outputId": "4b36103b-79d6-4304-c3da-18fa4b6147d3"
      },
      "outputs": [
        {
          "output_type": "stream",
          "name": "stdout",
          "text": [
            "Папка: .config\n",
            "Папка: sample_data\n",
            "Файл: .config/default_configs.db (12288 байт)\n",
            "Папка: .config/configurations\n",
            "Файл: .config/.last_opt_in_prompt.yaml (3 байт)\n",
            "Файл: .config/.last_survey_prompt.yaml (37 байт)\n",
            "Файл: .config/gce (5 байт)\n",
            "Папка: .config/logs\n",
            "Файл: .config/.last_update_check.json (135 байт)\n",
            "Файл: .config/active_config (7 байт)\n",
            "Файл: .config/config_sentinel (0 байт)\n",
            "Файл: .config/configurations/config_default (94 байт)\n",
            "Папка: .config/logs/2024.03.15\n",
            "Файл: .config/logs/2024.03.15/13.25.20.948804.log (11735 байт)\n",
            "Файл: .config/logs/2024.03.15/13.25.40.171985.log (704 байт)\n",
            "Файл: .config/logs/2024.03.15/13.25.10.196651.log (465 байт)\n",
            "Файл: .config/logs/2024.03.15/13.25.29.427944.log (465 байт)\n",
            "Файл: .config/logs/2024.03.15/13.24.43.850712.log (38582 байт)\n",
            "Файл: .config/logs/2024.03.15/13.25.41.027706.log (699 байт)\n",
            "Файл: sample_data/README.md (930 байт)\n",
            "Файл: sample_data/anscombe.json (1697 байт)\n",
            "Файл: sample_data/mnist_train_small.csv (36523880 байт)\n",
            "Файл: sample_data/california_housing_train.csv (1706430 байт)\n",
            "Файл: sample_data/california_housing_test.csv (301141 байт)\n",
            "Файл: sample_data/mnist_test.csv (18289443 байт)\n"
          ]
        }
      ],
      "source": [
        "from pathlib import Path\n",
        "\n",
        "root_dir = Path(\".\")\n",
        "\n",
        "for path in root_dir.rglob(\"*\"):\n",
        "  if path.is_dir():\n",
        "    print(f\"Папка: {path}\")\n",
        "  else:\n",
        "    print(f\"Файл: {path} ({path.stat().st_size} байт)\")\n"
      ]
    }
  ]
}