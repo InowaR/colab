{
  "nbformat": 4,
  "nbformat_minor": 0,
  "metadata": {
    "colab": {
      "provenance": [],
      "authorship_tag": "ABX9TyMHfrS5JMI7Bh128K/IZM0f",
      "include_colab_link": true
    },
    "kernelspec": {
      "name": "python3",
      "display_name": "Python 3"
    },
    "language_info": {
      "name": "python"
    }
  },
  "cells": [
    {
      "cell_type": "markdown",
      "metadata": {
        "id": "view-in-github",
        "colab_type": "text"
      },
      "source": [
        "<a href=\"https://colab.research.google.com/github/InowaR/colab/blob/main/central_moments_method.ipynb\" target=\"_parent\"><img src=\"https://colab.research.google.com/assets/colab-badge.svg\" alt=\"Open In Colab\"/></a>"
      ]
    },
    {
      "cell_type": "code",
      "execution_count": 7,
      "metadata": {
        "colab": {
          "base_uri": "https://localhost:8080/"
        },
        "id": "fUzvx3ffemZO",
        "outputId": "d20067c8-40a3-4684-826a-57562321a650"
      },
      "outputs": [
        {
          "output_type": "stream",
          "name": "stdout",
          "text": [
            "Смещение: x=2.0, y=-1.0\n"
          ]
        }
      ],
      "source": [
        "import numpy as np\n",
        "\n",
        "matrix1 = np.array([\n",
        "    [0, 0, 0, 0, 0],\n",
        "    [0, 0, 0, 0, 0],\n",
        "    [0, 0, 0, 0, 0],\n",
        "    [0, 1, 1, 0, 0],\n",
        "    [0, 1, 1, 0, 0]\n",
        "], dtype=np.float32)\n",
        "\n",
        "matrix2 = np.array([\n",
        "    [0, 0, 0, 0, 0],\n",
        "    [0, 0, 0, 0, 0],\n",
        "    [0, 0, 0, 1, 1],\n",
        "    [0, 0, 0, 1, 1],\n",
        "    [0, 0, 0, 0, 0]\n",
        "], dtype=np.float32)\n",
        "\n",
        "y1, x1 = np.where(matrix1 > 0)\n",
        "y2, x2 = np.where(matrix2 > 0)\n",
        "\n",
        "center_y1, center_x1 = np.mean(y1), np.mean(x1)\n",
        "center_y2, center_x2 = np.mean(y2), np.mean(x2)\n",
        "\n",
        "shift_x = center_x2 - center_x1\n",
        "shift_y = center_y2 - center_y1\n",
        "\n",
        "print(f\"Смещение: x={shift_x:.1f}, y={shift_y:.1f}\")"
      ]
    },
    {
      "cell_type": "code",
      "source": [
        "import numpy as np\n",
        "\n",
        "# Прямоугольник 2x3 (горизонтальный)\n",
        "matrix1 = np.array([\n",
        "    [0, 0, 0, 0, 0],\n",
        "    [0, 0, 1, 0, 0],\n",
        "    [0, 0, 1, 0, 0],\n",
        "    [0, 0, 1, 0, 0],\n",
        "    [0, 0, 0, 0, 0]\n",
        "], dtype=np.float32)\n",
        "\n",
        "# Тот же прямоугольник, но повернутый (вертикальный)\n",
        "matrix2 = np.array([\n",
        "    [0, 0, 0, 0, 0],\n",
        "    [0, 0, 0, 0, 0],\n",
        "    [0, 1, 1, 1, 0],\n",
        "    [0, 0, 0, 0, 0],\n",
        "    [0, 0, 0, 0, 0]\n",
        "], dtype=np.float32)\n",
        "\n",
        "y1, x1 = np.where(matrix1 > 0)\n",
        "y2, x2 = np.where(matrix2 > 0)\n",
        "\n",
        "cy1, cx1 = np.mean(y1), np.mean(x1)\n",
        "cy2, cx2 = np.mean(y2), np.mean(x2)\n",
        "\n",
        "mu11_1 = np.mean((x1 - cx1) * (y1 - cy1))\n",
        "mu20_1 = np.mean((x1 - cx1) ** 2)\n",
        "mu02_1 = np.mean((y1 - cy1) ** 2)\n",
        "\n",
        "mu11_2 = np.mean((x2 - cx2) * (y2 - cy2))\n",
        "mu20_2 = np.mean((x2 - cx2) ** 2)\n",
        "mu02_2 = np.mean((y2 - cy2) ** 2)\n",
        "\n",
        "angle1 = 0.5 * np.arctan2(2 * mu11_1, mu20_1 - mu02_1)\n",
        "angle2 = 0.5 * np.arctan2(2 * mu11_2, mu20_2 - mu02_2)\n",
        "\n",
        "rotation = np.degrees(angle2 - angle1)\n",
        "\n",
        "print(f\"Угол поворота: {rotation:.1f}°\")"
      ],
      "metadata": {
        "colab": {
          "base_uri": "https://localhost:8080/"
        },
        "id": "r5Y6kRscfSBp",
        "outputId": "19e58290-7ad2-49e2-af2d-1751b90441a4"
      },
      "execution_count": 20,
      "outputs": [
        {
          "output_type": "stream",
          "name": "stdout",
          "text": [
            "Угол поворота: -90.0°\n"
          ]
        }
      ]
    }
  ]
}