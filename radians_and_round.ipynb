{
  "nbformat": 4,
  "nbformat_minor": 0,
  "metadata": {
    "colab": {
      "provenance": [],
      "authorship_tag": "ABX9TyNVQxVC3W7Ws+rvQyx7v9FD",
      "include_colab_link": true
    },
    "kernelspec": {
      "name": "python3",
      "display_name": "Python 3"
    },
    "language_info": {
      "name": "python"
    }
  },
  "cells": [
    {
      "cell_type": "markdown",
      "metadata": {
        "id": "view-in-github",
        "colab_type": "text"
      },
      "source": [
        "<a href=\"https://colab.research.google.com/github/InowaR/python/blob/main/radians_and_round.ipynb\" target=\"_parent\"><img src=\"https://colab.research.google.com/assets/colab-badge.svg\" alt=\"Open In Colab\"/></a>"
      ]
    },
    {
      "cell_type": "code",
      "execution_count": 54,
      "metadata": {
        "colab": {
          "base_uri": "https://localhost:8080/"
        },
        "id": "f1jSuDMZiXIe",
        "outputId": "5b3cd38f-2c90-43ab-e557-641840ed0a37"
      },
      "outputs": [
        {
          "output_type": "execute_result",
          "data": {
            "text/plain": [
              "5.75"
            ]
          },
          "metadata": {},
          "execution_count": 54
        }
      ],
      "source": [
        "from math import radians, sin, cos, pi, sqrt\n",
        "\n",
        "x = 10\n",
        "y = 0\n",
        "z = 0\n",
        "\n",
        "a = radians(53)\n",
        "b = radians(32)\n",
        "c = radians(95)\n",
        "\n",
        "division = x / sin(a)\n",
        "y = division * sin(b)\n",
        "z = division * sin(c)\n",
        "\n",
        "median = sqrt(x**2  + (z/2)**2 - 2*x*z/2*cos(b))\n",
        "\n",
        "round(median, 2)"
      ]
    }
  ]
}