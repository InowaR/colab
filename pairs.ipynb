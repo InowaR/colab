{
  "nbformat": 4,
  "nbformat_minor": 0,
  "metadata": {
    "colab": {
      "provenance": [],
      "authorship_tag": "ABX9TyPUyeK2u/DFQ130blB2c0Lj",
      "include_colab_link": true
    },
    "kernelspec": {
      "name": "python3",
      "display_name": "Python 3"
    },
    "language_info": {
      "name": "python"
    }
  },
  "cells": [
    {
      "cell_type": "markdown",
      "metadata": {
        "id": "view-in-github",
        "colab_type": "text"
      },
      "source": [
        "<a href=\"https://colab.research.google.com/github/InowaR/colab/blob/main/pairs.ipynb\" target=\"_parent\"><img src=\"https://colab.research.google.com/assets/colab-badge.svg\" alt=\"Open In Colab\"/></a>"
      ]
    },
    {
      "cell_type": "code",
      "execution_count": 77,
      "metadata": {
        "id": "XOHYC8nCGA0i",
        "colab": {
          "base_uri": "https://localhost:8080/"
        },
        "outputId": "dff63474-a3dc-4eb5-d16c-41182a380e9e"
      },
      "outputs": [
        {
          "output_type": "stream",
          "name": "stdout",
          "text": [
            "[(1, 2), (3, 4), (5, 6)]\n",
            "[]\n"
          ]
        }
      ],
      "source": [
        "numbers = [1, 2, 3, 4, 5, 6]\n",
        "new_numbers = []\n",
        "\n",
        "for i in range(0, len(numbers) - 1, 2):\n",
        "    new_numbers.append((numbers[i], numbers[i + 1]))\n",
        "\n",
        "if len(numbers) % 2 == 1:\n",
        "  numbers = numbers[-1:]\n",
        "else:\n",
        "  numbers = []\n",
        "\n",
        "print(new_numbers)\n",
        "print(numbers)"
      ]
    }
  ]
}