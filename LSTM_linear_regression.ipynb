{
  "nbformat": 4,
  "nbformat_minor": 0,
  "metadata": {
    "colab": {
      "provenance": [],
      "authorship_tag": "ABX9TyM0F2aR8+x2+ZHH6zZzuwka",
      "include_colab_link": true
    },
    "kernelspec": {
      "name": "python3",
      "display_name": "Python 3"
    },
    "language_info": {
      "name": "python"
    }
  },
  "cells": [
    {
      "cell_type": "markdown",
      "metadata": {
        "id": "view-in-github",
        "colab_type": "text"
      },
      "source": [
        "<a href=\"https://colab.research.google.com/github/InowaR/colab/blob/main/LSTM_linear_regression.ipynb\" target=\"_parent\"><img src=\"https://colab.research.google.com/assets/colab-badge.svg\" alt=\"Open In Colab\"/></a>"
      ]
    },
    {
      "cell_type": "code",
      "execution_count": 63,
      "metadata": {
        "id": "rzEMTmQrHYhw"
      },
      "outputs": [],
      "source": [
        "import numpy as np\n",
        "import pandas as pd\n",
        "import matplotlib.pyplot as plt\n",
        "from sklearn.preprocessing import MinMaxScaler\n",
        "from keras import Sequential\n",
        "from keras.layers import LSTM, Dense"
      ]
    },
    {
      "cell_type": "code",
      "source": [
        "data = np.arange(0, 1, 0.005)[:, np.newaxis]\n",
        "\n",
        "print(data)\n",
        "print(len(data))\n",
        "\n",
        "# Функция для создания последовательностей\n",
        "def create_dataset(data, time_step=1):\n",
        "    X, Y = [], []\n",
        "    for i in range(len(data) - time_step - 1):\n",
        "        X.append(data[i:(i + time_step), 0])\n",
        "        Y.append(data[i + time_step, 0])\n",
        "    return np.array(X), np.array(Y)\n",
        "\n",
        "# Параметры\n",
        "time_step = 10\n",
        "X, y = create_dataset(data, time_step)\n",
        "\n",
        "X = X.reshape(X.shape[0], X.shape[1], 1)\n",
        "\n",
        "print(X[0])\n",
        "print(y[0])"
      ],
      "metadata": {
        "id": "nsfho5chQosJ",
        "outputId": "87ca279b-a662-457b-ee6e-6aa0afbef628",
        "colab": {
          "base_uri": "https://localhost:8080/"
        }
      },
      "execution_count": 64,
      "outputs": [
        {
          "output_type": "stream",
          "name": "stdout",
          "text": [
            "[[0.   ]\n",
            " [0.005]\n",
            " [0.01 ]\n",
            " [0.015]\n",
            " [0.02 ]\n",
            " [0.025]\n",
            " [0.03 ]\n",
            " [0.035]\n",
            " [0.04 ]\n",
            " [0.045]\n",
            " [0.05 ]\n",
            " [0.055]\n",
            " [0.06 ]\n",
            " [0.065]\n",
            " [0.07 ]\n",
            " [0.075]\n",
            " [0.08 ]\n",
            " [0.085]\n",
            " [0.09 ]\n",
            " [0.095]\n",
            " [0.1  ]\n",
            " [0.105]\n",
            " [0.11 ]\n",
            " [0.115]\n",
            " [0.12 ]\n",
            " [0.125]\n",
            " [0.13 ]\n",
            " [0.135]\n",
            " [0.14 ]\n",
            " [0.145]\n",
            " [0.15 ]\n",
            " [0.155]\n",
            " [0.16 ]\n",
            " [0.165]\n",
            " [0.17 ]\n",
            " [0.175]\n",
            " [0.18 ]\n",
            " [0.185]\n",
            " [0.19 ]\n",
            " [0.195]\n",
            " [0.2  ]\n",
            " [0.205]\n",
            " [0.21 ]\n",
            " [0.215]\n",
            " [0.22 ]\n",
            " [0.225]\n",
            " [0.23 ]\n",
            " [0.235]\n",
            " [0.24 ]\n",
            " [0.245]\n",
            " [0.25 ]\n",
            " [0.255]\n",
            " [0.26 ]\n",
            " [0.265]\n",
            " [0.27 ]\n",
            " [0.275]\n",
            " [0.28 ]\n",
            " [0.285]\n",
            " [0.29 ]\n",
            " [0.295]\n",
            " [0.3  ]\n",
            " [0.305]\n",
            " [0.31 ]\n",
            " [0.315]\n",
            " [0.32 ]\n",
            " [0.325]\n",
            " [0.33 ]\n",
            " [0.335]\n",
            " [0.34 ]\n",
            " [0.345]\n",
            " [0.35 ]\n",
            " [0.355]\n",
            " [0.36 ]\n",
            " [0.365]\n",
            " [0.37 ]\n",
            " [0.375]\n",
            " [0.38 ]\n",
            " [0.385]\n",
            " [0.39 ]\n",
            " [0.395]\n",
            " [0.4  ]\n",
            " [0.405]\n",
            " [0.41 ]\n",
            " [0.415]\n",
            " [0.42 ]\n",
            " [0.425]\n",
            " [0.43 ]\n",
            " [0.435]\n",
            " [0.44 ]\n",
            " [0.445]\n",
            " [0.45 ]\n",
            " [0.455]\n",
            " [0.46 ]\n",
            " [0.465]\n",
            " [0.47 ]\n",
            " [0.475]\n",
            " [0.48 ]\n",
            " [0.485]\n",
            " [0.49 ]\n",
            " [0.495]\n",
            " [0.5  ]\n",
            " [0.505]\n",
            " [0.51 ]\n",
            " [0.515]\n",
            " [0.52 ]\n",
            " [0.525]\n",
            " [0.53 ]\n",
            " [0.535]\n",
            " [0.54 ]\n",
            " [0.545]\n",
            " [0.55 ]\n",
            " [0.555]\n",
            " [0.56 ]\n",
            " [0.565]\n",
            " [0.57 ]\n",
            " [0.575]\n",
            " [0.58 ]\n",
            " [0.585]\n",
            " [0.59 ]\n",
            " [0.595]\n",
            " [0.6  ]\n",
            " [0.605]\n",
            " [0.61 ]\n",
            " [0.615]\n",
            " [0.62 ]\n",
            " [0.625]\n",
            " [0.63 ]\n",
            " [0.635]\n",
            " [0.64 ]\n",
            " [0.645]\n",
            " [0.65 ]\n",
            " [0.655]\n",
            " [0.66 ]\n",
            " [0.665]\n",
            " [0.67 ]\n",
            " [0.675]\n",
            " [0.68 ]\n",
            " [0.685]\n",
            " [0.69 ]\n",
            " [0.695]\n",
            " [0.7  ]\n",
            " [0.705]\n",
            " [0.71 ]\n",
            " [0.715]\n",
            " [0.72 ]\n",
            " [0.725]\n",
            " [0.73 ]\n",
            " [0.735]\n",
            " [0.74 ]\n",
            " [0.745]\n",
            " [0.75 ]\n",
            " [0.755]\n",
            " [0.76 ]\n",
            " [0.765]\n",
            " [0.77 ]\n",
            " [0.775]\n",
            " [0.78 ]\n",
            " [0.785]\n",
            " [0.79 ]\n",
            " [0.795]\n",
            " [0.8  ]\n",
            " [0.805]\n",
            " [0.81 ]\n",
            " [0.815]\n",
            " [0.82 ]\n",
            " [0.825]\n",
            " [0.83 ]\n",
            " [0.835]\n",
            " [0.84 ]\n",
            " [0.845]\n",
            " [0.85 ]\n",
            " [0.855]\n",
            " [0.86 ]\n",
            " [0.865]\n",
            " [0.87 ]\n",
            " [0.875]\n",
            " [0.88 ]\n",
            " [0.885]\n",
            " [0.89 ]\n",
            " [0.895]\n",
            " [0.9  ]\n",
            " [0.905]\n",
            " [0.91 ]\n",
            " [0.915]\n",
            " [0.92 ]\n",
            " [0.925]\n",
            " [0.93 ]\n",
            " [0.935]\n",
            " [0.94 ]\n",
            " [0.945]\n",
            " [0.95 ]\n",
            " [0.955]\n",
            " [0.96 ]\n",
            " [0.965]\n",
            " [0.97 ]\n",
            " [0.975]\n",
            " [0.98 ]\n",
            " [0.985]\n",
            " [0.99 ]\n",
            " [0.995]]\n",
            "200\n",
            "[[0.   ]\n",
            " [0.005]\n",
            " [0.01 ]\n",
            " [0.015]\n",
            " [0.02 ]\n",
            " [0.025]\n",
            " [0.03 ]\n",
            " [0.035]\n",
            " [0.04 ]\n",
            " [0.045]]\n",
            "0.05\n"
          ]
        }
      ]
    },
    {
      "cell_type": "code",
      "source": [
        "# Создание модели LSTM\n",
        "model = Sequential()\n",
        "model.add(LSTM(100, return_sequences=True))\n",
        "model.add(LSTM(100, return_sequences=False))\n",
        "model.add(Dense(1))\n",
        "\n",
        "# Компиляция модели\n",
        "model.compile(optimizer='adam', loss='mean_squared_error')"
      ],
      "metadata": {
        "id": "HEkiCFEzQsht"
      },
      "execution_count": 65,
      "outputs": []
    },
    {
      "cell_type": "code",
      "source": [
        "model.fit(X, y, epochs=5, batch_size=10, verbose=1)"
      ],
      "metadata": {
        "colab": {
          "base_uri": "https://localhost:8080/"
        },
        "id": "TCOZOnTUQyIw",
        "outputId": "8c3dd226-fb23-4167-dd78-6846b7d06445"
      },
      "execution_count": 66,
      "outputs": [
        {
          "output_type": "stream",
          "name": "stdout",
          "text": [
            "Epoch 1/5\n",
            "\u001b[1m19/19\u001b[0m \u001b[32m━━━━━━━━━━━━━━━━━━━━\u001b[0m\u001b[37m\u001b[0m \u001b[1m4s\u001b[0m 12ms/step - loss: 0.1509\n",
            "Epoch 2/5\n",
            "\u001b[1m19/19\u001b[0m \u001b[32m━━━━━━━━━━━━━━━━━━━━\u001b[0m\u001b[37m\u001b[0m \u001b[1m0s\u001b[0m 14ms/step - loss: 0.0155\n",
            "Epoch 3/5\n",
            "\u001b[1m19/19\u001b[0m \u001b[32m━━━━━━━━━━━━━━━━━━━━\u001b[0m\u001b[37m\u001b[0m \u001b[1m0s\u001b[0m 15ms/step - loss: 0.0020\n",
            "Epoch 4/5\n",
            "\u001b[1m19/19\u001b[0m \u001b[32m━━━━━━━━━━━━━━━━━━━━\u001b[0m\u001b[37m\u001b[0m \u001b[1m0s\u001b[0m 14ms/step - loss: 1.6529e-04\n",
            "Epoch 5/5\n",
            "\u001b[1m19/19\u001b[0m \u001b[32m━━━━━━━━━━━━━━━━━━━━\u001b[0m\u001b[37m\u001b[0m \u001b[1m0s\u001b[0m 13ms/step - loss: 3.8314e-05\n"
          ]
        },
        {
          "output_type": "execute_result",
          "data": {
            "text/plain": [
              "<keras.src.callbacks.history.History at 0x7c3bd8066ec0>"
            ]
          },
          "metadata": {},
          "execution_count": 66
        }
      ]
    },
    {
      "cell_type": "code",
      "source": [
        "# Прогнозирование\n",
        "last_data = data[54: 54 + time_step:].reshape(1, time_step, 1)\n",
        "print(last_data)\n",
        "\n",
        "predicted_data = model.predict(last_data)\n",
        "\n",
        "print(predicted_data[0][0])"
      ],
      "metadata": {
        "colab": {
          "base_uri": "https://localhost:8080/"
        },
        "id": "IfXsnG0URN3z",
        "outputId": "fd3c3b5c-d0ad-4f71-aaa2-5b4a9573ff67"
      },
      "execution_count": 67,
      "outputs": [
        {
          "output_type": "stream",
          "name": "stdout",
          "text": [
            "[[[0.27 ]\n",
            "  [0.275]\n",
            "  [0.28 ]\n",
            "  [0.285]\n",
            "  [0.29 ]\n",
            "  [0.295]\n",
            "  [0.3  ]\n",
            "  [0.305]\n",
            "  [0.31 ]\n",
            "  [0.315]]]\n",
            "\u001b[1m1/1\u001b[0m \u001b[32m━━━━━━━━━━━━━━━━━━━━\u001b[0m\u001b[37m\u001b[0m \u001b[1m0s\u001b[0m 453ms/step\n",
            "0.3165287\n"
          ]
        }
      ]
    },
    {
      "cell_type": "code",
      "source": [
        "from sklearn.linear_model import LinearRegression\n",
        "from sklearn.model_selection import train_test_split\n",
        "from sklearn.metrics import mean_squared_error\n",
        "\n",
        "data = data[:10]\n",
        "print(data)\n",
        "\n",
        "X = np.arange(len(data)).reshape(-1, 1)\n",
        "\n",
        "y = data\n",
        "\n",
        "model = LinearRegression()\n",
        "model.fit(X, y)\n",
        "\n",
        "print(X[9])\n",
        "print(y[9])\n",
        "print(model.predict([[10]]))"
      ],
      "metadata": {
        "id": "QgGDOmUa8xDU",
        "colab": {
          "base_uri": "https://localhost:8080/"
        },
        "outputId": "4f76fe54-b2fb-43c0-f6ac-19053c3fd1a9"
      },
      "execution_count": 68,
      "outputs": [
        {
          "output_type": "stream",
          "name": "stdout",
          "text": [
            "[[0.   ]\n",
            " [0.005]\n",
            " [0.01 ]\n",
            " [0.015]\n",
            " [0.02 ]\n",
            " [0.025]\n",
            " [0.03 ]\n",
            " [0.035]\n",
            " [0.04 ]\n",
            " [0.045]]\n",
            "[9]\n",
            "[0.045]\n",
            "[[0.05]]\n"
          ]
        }
      ]
    },
    {
      "cell_type": "code",
      "source": [
        "def linear_regression(X, y):\n",
        "    ones = np.ones((X.shape[0], 1))\n",
        "    X = np.hstack((ones, X))\n",
        "    theta = np.linalg.pinv(X.T @ X) @ X.T @ y\n",
        "    return theta\n",
        "\n",
        "X = np.array([[0.01, 0.02, 0.03], [0.04, 0.05, 0.06], [0.07, 0.08, 0.09]])\n",
        "y = np.array([0.04, 0.07, 0.1])\n",
        "\n",
        "theta = linear_regression(X, y)\n",
        "\n",
        "data = np.array([[1, 0.1, 0.11, 0.12]])\n",
        "print(data @ theta)"
      ],
      "metadata": {
        "colab": {
          "base_uri": "https://localhost:8080/"
        },
        "id": "ADbKMuBl_tNj",
        "outputId": "75683dd4-13ea-4d99-dad3-8ab638c2ff06"
      },
      "execution_count": 69,
      "outputs": [
        {
          "output_type": "stream",
          "name": "stdout",
          "text": [
            "[0.13]\n"
          ]
        }
      ]
    }
  ]
}