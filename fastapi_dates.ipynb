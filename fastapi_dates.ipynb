{
  "nbformat": 4,
  "nbformat_minor": 0,
  "metadata": {
    "colab": {
      "provenance": [],
      "authorship_tag": "ABX9TyN6x/Y3XMsmUDyxprqCzLl6",
      "include_colab_link": true
    },
    "kernelspec": {
      "name": "python3",
      "display_name": "Python 3"
    },
    "language_info": {
      "name": "python"
    }
  },
  "cells": [
    {
      "cell_type": "markdown",
      "metadata": {
        "id": "view-in-github",
        "colab_type": "text"
      },
      "source": [
        "<a href=\"https://colab.research.google.com/github/InowaR/colab/blob/main/fastapi_dates.ipynb\" target=\"_parent\"><img src=\"https://colab.research.google.com/assets/colab-badge.svg\" alt=\"Open In Colab\"/></a>"
      ]
    },
    {
      "cell_type": "code",
      "source": [
        "!pip install fastapi\n",
        "!pip install daphne"
      ],
      "metadata": {
        "id": "ArKFmcDRJQjx"
      },
      "execution_count": null,
      "outputs": []
    },
    {
      "cell_type": "code",
      "execution_count": 74,
      "metadata": {
        "id": "TIKsjS76I_g4"
      },
      "outputs": [],
      "source": [
        "app = \"\"\"from datetime import datetime\n",
        "from fastapi import FastAPI, Body\n",
        "from pydantic import BaseModel, ValidationError, Field\n",
        "from sqlalchemy import create_engine, Column, Integer, String, DateTime\n",
        "from sqlalchemy.orm import sessionmaker, declarative_base\n",
        "\n",
        "Base = declarative_base()\n",
        "\n",
        "class DateModel(BaseModel):\n",
        "    date: datetime\n",
        "\n",
        "class DateResponse(BaseModel):\n",
        "    date: datetime\n",
        "\n",
        "class DateInDB(Base):\n",
        "    __tablename__ = 'dates'\n",
        "\n",
        "    id: int = Column(Integer, primary_key=True, autoincrement=True)\n",
        "    date: datetime = Column(DateTime)\n",
        "\n",
        "app = FastAPI()\n",
        "\n",
        "engine = create_engine(\"sqlite:///./dates.db\")\n",
        "Session = sessionmaker(bind=engine)\n",
        "\n",
        "Base.metadata.create_all(engine)\n",
        "\n",
        "@app.post(\"/dates/\", response_model=DateResponse)\n",
        "async def create_date(date_data: DateModel = Body(...)):\n",
        "    with Session() as session:\n",
        "        new_date = DateInDB(**date_data.dict())\n",
        "        session.add(new_date)\n",
        "        session.commit()\n",
        "        return date_data\n",
        "\"\"\"\n",
        "\n",
        "with open('main.py', 'w') as m:\n",
        "    m.write(app)\n"
      ]
    },
    {
      "cell_type": "code",
      "source": [
        "from google.colab.output import eval_js\n",
        "link = eval_js(\"google.colab.kernel.proxyPort(8000)\")\n",
        "print(f'{link}docs')"
      ],
      "metadata": {
        "colab": {
          "base_uri": "https://localhost:8080/",
          "height": 34
        },
        "id": "0Rkcbb8tJ4-Q",
        "outputId": "14833592-e5a5-4998-d869-0287beeb7675"
      },
      "execution_count": 37,
      "outputs": [
        {
          "output_type": "stream",
          "name": "stdout",
          "text": [
            "https://dha0eiqz48b-496ff2e9c6d22116-8000-colab.googleusercontent.com/docs\n"
          ]
        }
      ]
    },
    {
      "cell_type": "code",
      "source": [
        "!daphne -b 127.0.0.1 -p 8000 main:app"
      ],
      "metadata": {
        "colab": {
          "base_uri": "https://localhost:8080/"
        },
        "id": "huqSspdkNrEE",
        "outputId": "89ba923e-6a51-4afa-e587-92c25ccf2fd2"
      },
      "execution_count": 75,
      "outputs": [
        {
          "output_type": "stream",
          "name": "stdout",
          "text": [
            "2024-04-01 21:32:56,622 INFO     Starting server at tcp:port=8000:interface=127.0.0.1\n",
            "2024-04-01 21:32:56,622 INFO     HTTP/2 support not enabled (install the http2 and tls Twisted extras)\n",
            "2024-04-01 21:32:56,623 INFO     Configuring endpoint tcp:port=8000:interface=127.0.0.1\n",
            "2024-04-01 21:32:56,624 INFO     Listening on TCP address 127.0.0.1:8000\n",
            "127.0.0.1:48804 - - [01/Apr/2024:21:32:58] \"GET /docs\" 200 939\n",
            "127.0.0.1:48820 - - [01/Apr/2024:21:32:58] \"GET /openapi.json\" 200 1360\n",
            "127.0.0.1:60688 - - [01/Apr/2024:21:33:45] \"POST /dates/\" 200 38\n",
            "2024-04-01 21:33:59,608 INFO     Killed 0 pending application instances\n"
          ]
        }
      ]
    }
  ]
}