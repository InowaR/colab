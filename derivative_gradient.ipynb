{
  "nbformat": 4,
  "nbformat_minor": 0,
  "metadata": {
    "colab": {
      "provenance": [],
      "authorship_tag": "ABX9TyPWEZ2qKNFNPmngo+PtXezV",
      "include_colab_link": true
    },
    "kernelspec": {
      "name": "python3",
      "display_name": "Python 3"
    },
    "language_info": {
      "name": "python"
    }
  },
  "cells": [
    {
      "cell_type": "markdown",
      "metadata": {
        "id": "view-in-github",
        "colab_type": "text"
      },
      "source": [
        "<a href=\"https://colab.research.google.com/github/InowaR/colab/blob/main/derivative_gradient.ipynb\" target=\"_parent\"><img src=\"https://colab.research.google.com/assets/colab-badge.svg\" alt=\"Open In Colab\"/></a>"
      ]
    },
    {
      "cell_type": "code",
      "execution_count": 4,
      "metadata": {
        "colab": {
          "base_uri": "https://localhost:8080/"
        },
        "id": "ef6GhzdWCAJl",
        "outputId": "d023a424-2f87-4369-a021-ba402dc20795"
      },
      "outputs": [
        {
          "output_type": "stream",
          "name": "stdout",
          "text": [
            "y = 0.999x²\n",
            "x = 5: y = 24.987\n",
            "x = 0: y = 0.000\n",
            "x = -1: y = 0.999\n",
            "x = 2.5: y = 6.247\n"
          ]
        }
      ],
      "source": [
        "X, y = [1, 2, 3, 4], [1, 4, 9, 16]\n",
        "a = 0\n",
        "\n",
        "for _ in range(1000):\n",
        "    grad = (sum(((a + 0.001)*x**2 - y_i)**2 for x,y_i in zip(X,y)) - sum((a*x**2 - y_i)**2 for x,y_i in zip(X,y))) / (0.001 * len(X))\n",
        "    a -= 0.01 * grad\n",
        "\n",
        "print(f\"y = {a:.3f}x²\")\n",
        "for x in [5, 0, -1, 2.5]: print(f\"x = {x}: y = {a*x**2:.3f}\")"
      ]
    },
    {
      "cell_type": "code",
      "source": [
        "X, y = [1, 2, 3, 4], [1, 4, 9, 16]\n",
        "a, b = 0, 0  # a - квадратный член, b - линейный член\n",
        "\n",
        "for _ in range(1000):\n",
        "    # Градиент для a (квадратный член)\n",
        "    grad_a = (sum(((a + 0.001)*x**2 + b*x - y_i)**2 for x,y_i in zip(X,y)) -\n",
        "              sum((a*x**2 + b*x - y_i)**2 for x,y_i in zip(X,y))) / (0.001 * len(X))\n",
        "\n",
        "    # Градиент для b (линейный член)\n",
        "    grad_b = (sum((a*x**2 + (b + 0.001)*x - y_i)**2 for x,y_i in zip(X,y)) -\n",
        "              sum((a*x**2 + b*x - y_i)**2 for x,y_i in zip(X,y))) / (0.001 * len(X))\n",
        "\n",
        "    a -= 0.01 * grad_a\n",
        "    b -= 0.01 * grad_b\n",
        "\n",
        "print(f\"y = {a:.3f}x² + {b:.3f}x\")\n",
        "print(f\"Ошибка: {sum((a*x**2 + b*x - y_i)**2 for x,y_i in zip(X,y)) / len(X):.6f}\")\n",
        "\n",
        "for x in [5, 0, -1, 2.5]:\n",
        "    print(f\"x = {x}: y = {a*x**2 + b*x:.3f}\")"
      ],
      "metadata": {
        "colab": {
          "base_uri": "https://localhost:8080/"
        },
        "id": "WtRd06mgCJEX",
        "outputId": "e153f5aa-4866-42da-bc93-209d3b03ffc7"
      },
      "execution_count": 5,
      "outputs": [
        {
          "output_type": "stream",
          "name": "stdout",
          "text": [
            "y = 0.994x² + 0.020x\n",
            "Ошибка: 0.000198\n",
            "x = 5: y = 24.946\n",
            "x = 0: y = 0.000\n",
            "x = -1: y = 0.974\n",
            "x = 2.5: y = 6.262\n"
          ]
        }
      ]
    }
  ]
}