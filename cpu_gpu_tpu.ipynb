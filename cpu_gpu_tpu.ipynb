{
  "nbformat": 4,
  "nbformat_minor": 0,
  "metadata": {
    "colab": {
      "provenance": [],
      "gpuType": "T4",
      "authorship_tag": "ABX9TyMBQq425Qz8Pt6iDybF53o6",
      "include_colab_link": true
    },
    "kernelspec": {
      "name": "python3",
      "display_name": "Python 3"
    },
    "language_info": {
      "name": "python"
    },
    "accelerator": "GPU"
  },
  "cells": [
    {
      "cell_type": "markdown",
      "metadata": {
        "id": "view-in-github",
        "colab_type": "text"
      },
      "source": [
        "<a href=\"https://colab.research.google.com/github/InowaR/colab/blob/main/cpu_gpu_tpu.ipynb\" target=\"_parent\"><img src=\"https://colab.research.google.com/assets/colab-badge.svg\" alt=\"Open In Colab\"/></a>"
      ]
    },
    {
      "cell_type": "code",
      "source": [
        "#cpu: 9.784159, 10.490906, 10.267301, 10.870298, 10.157594\n",
        "#gpu: 15.225825, 8.299937, 7.901375, 8.139650, 7.765491\n",
        "#tpu: 19.469548, 9.546033, 10.055675, 9.493726, 9.198273"
      ],
      "metadata": {
        "id": "pAaWdiNTAi8a"
      },
      "execution_count": null,
      "outputs": []
    },
    {
      "cell_type": "code",
      "source": [
        "!echo \"import random; print(sum([random.randint(1, 10) for _ in range(1000000)]))\" > script.py"
      ],
      "metadata": {
        "id": "I_hl6dgy_gHY"
      },
      "execution_count": 1,
      "outputs": []
    },
    {
      "cell_type": "code",
      "source": [
        "import time\n",
        "import random\n",
        "\n",
        "start = time.time()\n",
        "\n",
        "for _ in range(10):\n",
        "    print(sum([random.randint(1, 10) for _ in range(1000000)]))\n",
        "\n",
        "end = time.time()\n",
        "print(f'Время: {end - start:6f}')"
      ],
      "metadata": {
        "colab": {
          "base_uri": "https://localhost:8080/"
        },
        "id": "SMzwM_QEzz0A",
        "outputId": "0d9d4fe0-8ee2-421d-a502-260682b06783"
      },
      "execution_count": 2,
      "outputs": [
        {
          "output_type": "stream",
          "name": "stdout",
          "text": [
            "5497271\n",
            "5495407\n",
            "5493486\n",
            "5502979\n",
            "5504954\n",
            "5499695\n",
            "5500246\n",
            "5494748\n",
            "5500320\n",
            "5498949\n",
            "Время: 15.768155\n"
          ]
        }
      ]
    },
    {
      "cell_type": "code",
      "source": [
        "import subprocess\n",
        "from threading import Thread\n",
        "\n",
        "def run_python_script(script_path):\n",
        "  process = subprocess.run([\"python3\", script_path], stdout=subprocess.PIPE)\n",
        "  print(process.stdout.decode(\"utf-8\"))\n",
        "\n",
        "\n",
        "start = time.time()\n",
        "\n",
        "for _ in range(10):\n",
        "    thread = Thread(target=run_python_script, args=[\"script.py\"])\n",
        "    thread.start()\n",
        "    thread.join()\n",
        "\n",
        "end = time.time()\n",
        "print(f'Время: {end - start:6f}')"
      ],
      "metadata": {
        "colab": {
          "base_uri": "https://localhost:8080/"
        },
        "id": "MuX5yFtLeajd",
        "outputId": "baea6f7c-b474-4cb9-d974-dbb323ed6297"
      },
      "execution_count": 3,
      "outputs": [
        {
          "output_type": "stream",
          "name": "stdout",
          "text": [
            "5499034\n",
            "\n",
            "5503115\n",
            "\n",
            "5501698\n",
            "\n",
            "5496198\n",
            "\n",
            "5501394\n",
            "\n",
            "5499043\n",
            "\n",
            "5496882\n",
            "\n",
            "5500296\n",
            "\n",
            "5498157\n",
            "\n",
            "5500011\n",
            "\n",
            "Время: 10.977479\n"
          ]
        }
      ]
    },
    {
      "cell_type": "code",
      "source": [
        "import time\n",
        "from threading import Thread\n",
        "\n",
        "def run_function():\n",
        "    print(sum([random.randint(1, 10) for _ in range(1000000)]))\n",
        "\n",
        "start = time.time()\n",
        "\n",
        "for _ in range(10):\n",
        "    thread = Thread(target=run_function)\n",
        "    thread.start()\n",
        "    thread.join()\n",
        "\n",
        "end = time.time()\n",
        "print(f'Время: {end - start:6f}')"
      ],
      "metadata": {
        "colab": {
          "base_uri": "https://localhost:8080/"
        },
        "id": "u2TqVzEC16hG",
        "outputId": "eba1ff9e-4832-4531-d2be-e93159f72d9a"
      },
      "execution_count": 4,
      "outputs": [
        {
          "output_type": "stream",
          "name": "stdout",
          "text": [
            "5505503\n",
            "5494415\n",
            "5494050\n",
            "5498658\n",
            "5495677\n",
            "5500950\n",
            "5497165\n",
            "5502289\n",
            "5498331\n",
            "5500252\n",
            "Время: 8.998172\n"
          ]
        }
      ]
    },
    {
      "cell_type": "code",
      "source": [
        "import time\n",
        "from multiprocessing import Process\n",
        "\n",
        "def run_function():\n",
        "    print(sum([random.randint(1, 10) for _ in range(1000000)]))\n",
        "\n",
        "start = time.time()\n",
        "\n",
        "for _ in range(10):\n",
        "    process = Process(target=run_function)\n",
        "    process.start()\n",
        "    process.join()\n",
        "\n",
        "end = time.time()\n",
        "print(f'Время: {end - start:6f}')"
      ],
      "metadata": {
        "colab": {
          "base_uri": "https://localhost:8080/"
        },
        "id": "zCy933K63w36",
        "outputId": "c504b1f2-de75-4baf-c5df-473b4e84d477"
      },
      "execution_count": 5,
      "outputs": [
        {
          "output_type": "stream",
          "name": "stdout",
          "text": [
            "5504125\n",
            "5505799\n",
            "5497043\n",
            "5497401\n",
            "5502567\n",
            "5500491\n",
            "5497686\n",
            "5501440\n",
            "5503023\n",
            "5501102\n",
            "Время: 8.953705\n"
          ]
        }
      ]
    },
    {
      "cell_type": "code",
      "source": [
        "import asyncio\n",
        "import time\n",
        "import random\n",
        "\n",
        "\n",
        "async def run_function():\n",
        "    print(sum([random.randint(1, 10) for _ in range(1000000)]))\n",
        "\n",
        "\n",
        "async def main():\n",
        "    start = time.time()\n",
        "    tasks = []\n",
        "    for _ in range(10):\n",
        "        tasks.append(asyncio.create_task(run_function()))\n",
        "    results = await asyncio.gather(*tasks)\n",
        "\n",
        "    end = time.time()\n",
        "    print(f'Время: {end - start:6f}')\n",
        "\n",
        "await(main())"
      ],
      "metadata": {
        "colab": {
          "base_uri": "https://localhost:8080/"
        },
        "id": "A_J24Dyr6hJM",
        "outputId": "a6e87aed-1342-4093-919b-30128f518ca7"
      },
      "execution_count": 6,
      "outputs": [
        {
          "output_type": "stream",
          "name": "stdout",
          "text": [
            "5502987\n",
            "5499570\n",
            "5502652\n",
            "5501719\n",
            "5499636\n",
            "5507387\n",
            "5498753\n",
            "5495745\n",
            "5497761\n",
            "5502542\n",
            "Время: 8.745316\n"
          ]
        }
      ]
    }
  ]
}