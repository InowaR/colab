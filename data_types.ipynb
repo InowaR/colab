{
  "nbformat": 4,
  "nbformat_minor": 0,
  "metadata": {
    "colab": {
      "provenance": [],
      "authorship_tag": "ABX9TyPh6UCtTsNr3rhoJNzDBUbb",
      "include_colab_link": true
    },
    "kernelspec": {
      "name": "python3",
      "display_name": "Python 3"
    },
    "language_info": {
      "name": "python"
    }
  },
  "cells": [
    {
      "cell_type": "markdown",
      "metadata": {
        "id": "view-in-github",
        "colab_type": "text"
      },
      "source": [
        "<a href=\"https://colab.research.google.com/github/InowaR/colab/blob/main/data_types.ipynb\" target=\"_parent\"><img src=\"https://colab.research.google.com/assets/colab-badge.svg\" alt=\"Open In Colab\"/></a>"
      ]
    },
    {
      "cell_type": "code",
      "execution_count": 112,
      "metadata": {
        "colab": {
          "base_uri": "https://localhost:8080/"
        },
        "id": "t3b_WZV2TBrX",
        "outputId": "309d3ebc-74af-4ae8-f407-4681e7d9ffb6"
      },
      "outputs": [
        {
          "output_type": "stream",
          "name": "stdout",
          "text": [
            "None: 16 bytes\n",
            "float: 24 bytes\n",
            "int: 28 bytes\n",
            "complex: 32 bytes\n",
            "tuple: 40 bytes\n",
            "string: 49 bytes\n",
            "list: 56 bytes\n",
            "dict: 64 bytes\n",
            "function: 144 bytes\n",
            "set: 216 bytes\n",
            "Class: 1072 bytes\n"
          ]
        }
      ],
      "source": [
        "import sys\n",
        "\n",
        "None\n",
        "\n",
        "float_number = 1.1\n",
        "\n",
        "int_number = 1\n",
        "\n",
        "complex_number = complex()\n",
        "\n",
        "tuple_empty = ()\n",
        "\n",
        "string_empty = ''\n",
        "\n",
        "list_empty = []\n",
        "\n",
        "dict_empty = {}\n",
        "\n",
        "def function_empty():\n",
        "  pass\n",
        "\n",
        "set_empty = set()\n",
        "\n",
        "class ClassEmpty:\n",
        "  pass\n",
        "\n",
        "print(f'None: {sys.getsizeof(None)} bytes')\n",
        "print(f'float: {sys.getsizeof(float_number)} bytes')\n",
        "print(f'int: {sys.getsizeof(int_number)} bytes')\n",
        "print(f'complex: {sys.getsizeof(complex_number)} bytes')\n",
        "print(f'tuple: {sys.getsizeof(tuple_empty)} bytes')\n",
        "print(f'string: {sys.getsizeof(string_empty)} bytes')\n",
        "print(f'list: {sys.getsizeof(list_empty)} bytes')\n",
        "print(f'dict: {sys.getsizeof(dict_empty)} bytes')\n",
        "print(f'function: {sys.getsizeof(function_empty)} bytes')\n",
        "print(f'set: {sys.getsizeof(set_empty)} bytes')\n",
        "print(f'Class: {sys.getsizeof(ClassEmpty)} bytes')"
      ]
    }
  ]
}