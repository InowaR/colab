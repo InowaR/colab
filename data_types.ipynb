{
  "nbformat": 4,
  "nbformat_minor": 0,
  "metadata": {
    "colab": {
      "provenance": [],
      "authorship_tag": "ABX9TyNBRXxz1hy+KDVCKfwPVc8y",
      "include_colab_link": true
    },
    "kernelspec": {
      "name": "python3",
      "display_name": "Python 3"
    },
    "language_info": {
      "name": "python"
    }
  },
  "cells": [
    {
      "cell_type": "markdown",
      "metadata": {
        "id": "view-in-github",
        "colab_type": "text"
      },
      "source": [
        "<a href=\"https://colab.research.google.com/github/InowaR/colab/blob/main/data_types.ipynb\" target=\"_parent\"><img src=\"https://colab.research.google.com/assets/colab-badge.svg\" alt=\"Open In Colab\"/></a>"
      ]
    },
    {
      "cell_type": "code",
      "execution_count": 103,
      "metadata": {
        "colab": {
          "base_uri": "https://localhost:8080/"
        },
        "id": "t3b_WZV2TBrX",
        "outputId": "fd5b2e0a-38af-4c49-d3b2-1224af27ba09"
      },
      "outputs": [
        {
          "output_type": "stream",
          "name": "stdout",
          "text": [
            "16\n",
            "24\n",
            "28\n",
            "32\n",
            "40\n",
            "49\n",
            "56\n",
            "64\n",
            "144\n",
            "216\n",
            "1072\n"
          ]
        }
      ],
      "source": [
        "import sys\n",
        "\n",
        "None\n",
        "\n",
        "float_number = 1.1\n",
        "\n",
        "int_number = 1\n",
        "\n",
        "complex_number = complex()\n",
        "\n",
        "tuple_empty = ()\n",
        "\n",
        "string_empty = ''\n",
        "\n",
        "list_empty = []\n",
        "\n",
        "dict_empty = {}\n",
        "\n",
        "def function_empty():\n",
        "  pass\n",
        "\n",
        "set_empty = set()\n",
        "\n",
        "class ClassEmpty:\n",
        "  pass\n",
        "\n",
        "print(sys.getsizeof(None))\n",
        "print(sys.getsizeof(float_number))\n",
        "print(sys.getsizeof(int_number))\n",
        "print(sys.getsizeof(complex_number))\n",
        "print(sys.getsizeof(tuple_empty))\n",
        "print(sys.getsizeof(string_empty))\n",
        "print(sys.getsizeof(list_empty))\n",
        "print(sys.getsizeof(dict_empty))\n",
        "print(sys.getsizeof(function_empty))\n",
        "print(sys.getsizeof(set_empty))\n",
        "print(sys.getsizeof(ClassEmpty))"
      ]
    }
  ]
}