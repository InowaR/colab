{
  "nbformat": 4,
  "nbformat_minor": 0,
  "metadata": {
    "colab": {
      "provenance": [],
      "authorship_tag": "ABX9TyOs8VOZDILueYMplWJaoWuG",
      "include_colab_link": true
    },
    "kernelspec": {
      "name": "python3",
      "display_name": "Python 3"
    },
    "language_info": {
      "name": "python"
    }
  },
  "cells": [
    {
      "cell_type": "markdown",
      "metadata": {
        "id": "view-in-github",
        "colab_type": "text"
      },
      "source": [
        "<a href=\"https://colab.research.google.com/github/InowaR/colab/blob/main/split.ipynb\" target=\"_parent\"><img src=\"https://colab.research.google.com/assets/colab-badge.svg\" alt=\"Open In Colab\"/></a>"
      ]
    },
    {
      "cell_type": "code",
      "execution_count": 12,
      "metadata": {
        "colab": {
          "base_uri": "https://localhost:8080/"
        },
        "id": "gYMG8bvE6XQX",
        "outputId": "5d0b5e2a-4925-4ef6-f220-cb0e29c35b2b"
      },
      "outputs": [
        {
          "output_type": "stream",
          "name": "stdout",
          "text": [
            "a a\n",
            "aa\n",
            "aa\n",
            "['a', 'da', 'ad']\n"
          ]
        }
      ],
      "source": [
        "a = ['a a','\\n','a','a','\\n','a','a','\\n']\n",
        "\n",
        "count = 0\n",
        "i = 0\n",
        "while i < len(a):\n",
        "  if a[i] == '\\n':\n",
        "    count+=1\n",
        "  print(a[i], end='')\n",
        "  i+=1\n",
        "\n",
        "b = 'a da ad'\n",
        "print(b.split(' '))"
      ]
    }
  ]
}