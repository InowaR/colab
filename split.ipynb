{
  "nbformat": 4,
  "nbformat_minor": 0,
  "metadata": {
    "colab": {
      "provenance": [],
      "authorship_tag": "ABX9TyOqhzJ89g40bZtvD2fu4fba",
      "include_colab_link": true
    },
    "kernelspec": {
      "name": "python3",
      "display_name": "Python 3"
    },
    "language_info": {
      "name": "python"
    }
  },
  "cells": [
    {
      "cell_type": "markdown",
      "metadata": {
        "id": "view-in-github",
        "colab_type": "text"
      },
      "source": [
        "<a href=\"https://colab.research.google.com/github/InowaR/colab/blob/main/split.ipynb\" target=\"_parent\"><img src=\"https://colab.research.google.com/assets/colab-badge.svg\" alt=\"Open In Colab\"/></a>"
      ]
    },
    {
      "cell_type": "code",
      "execution_count": 23,
      "metadata": {
        "colab": {
          "base_uri": "https://localhost:8080/"
        },
        "id": "gYMG8bvE6XQX",
        "outputId": "f1327d55-da03-42dd-896a-d039d6861a6c"
      },
      "outputs": [
        {
          "output_type": "stream",
          "name": "stdout",
          "text": [
            "Line 1:3words\n",
            "Line 2:2words\n",
            "Line 3:1words\n"
          ]
        }
      ],
      "source": [
        "a = ['a a a','\\n','a a','\\n','a','\\n']\n",
        "\n",
        "count = 1\n",
        "i = 0\n",
        "while i < len(a):\n",
        "  if a[i] != '\\n':\n",
        "    print(f'Line {count}:{len(a[i].split(\" \"))}words')\n",
        "    count+=1\n",
        "  i+=1"
      ]
    }
  ]
}