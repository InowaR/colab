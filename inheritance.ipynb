{
  "nbformat": 4,
  "nbformat_minor": 0,
  "metadata": {
    "colab": {
      "provenance": [],
      "authorship_tag": "ABX9TyNBa50z1+qhN1lyx7z3/sSr",
      "include_colab_link": true
    },
    "kernelspec": {
      "name": "python3",
      "display_name": "Python 3"
    },
    "language_info": {
      "name": "python"
    }
  },
  "cells": [
    {
      "cell_type": "markdown",
      "metadata": {
        "id": "view-in-github",
        "colab_type": "text"
      },
      "source": [
        "<a href=\"https://colab.research.google.com/github/InowaR/colab/blob/main/inheritance.ipynb\" target=\"_parent\"><img src=\"https://colab.research.google.com/assets/colab-badge.svg\" alt=\"Open In Colab\"/></a>"
      ]
    },
    {
      "cell_type": "code",
      "execution_count": 16,
      "metadata": {
        "colab": {
          "base_uri": "https://localhost:8080/"
        },
        "id": "X4w6gBhIbh2n",
        "outputId": "a2c24518-779a-4dab-b45d-8da195787a6f"
      },
      "outputs": [
        {
          "output_type": "stream",
          "name": "stdout",
          "text": [
            "1\n"
          ]
        }
      ],
      "source": [
        "from datetime import datetime\n",
        "\n",
        "class Animal:\n",
        "  def __init__(self, id, color, name, lifetime, mass, sex):\n",
        "    self.id = id\n",
        "    self.color = color\n",
        "    self.name = name\n",
        "    self.lifetime = lifetime\n",
        "    self.mass = mass\n",
        "    self.sex = sex\n",
        "\n",
        "\n",
        "class Pet(Animal):\n",
        "  def __init__(self, id, color, name, lifetime, mass, sex, price, nickname):\n",
        "    super().__init__(id, color, name, lifetime, mass, sex)\n",
        "    self.price = price\n",
        "    self.nickname = nickname\n",
        "\n",
        "  def __str__(self):\n",
        "    pass\n",
        "\n",
        "\n",
        "\n",
        "class PackAnimal(Animal):\n",
        "  pass\n",
        "\n",
        "\n",
        "class Dog(Pet):\n",
        "  def __init__(self, id, color, name, lifetime, mass, sex, price, nickname, breed, sound, date_of_birth, commands):\n",
        "    super().__init__(id, color, name, lifetime, mass, sex, price, nickname)\n",
        "    self.breed = breed\n",
        "    self.sound = sound\n",
        "    self.date_of_birth = date_of_birth\n",
        "    self.commands = commands\n",
        "\n",
        "\n",
        "\n",
        "dog = Dog(1, \"коричневый\", \"собака\", 10 , 3, \"мужской\", 10000, \"Барли\", \"Овчарка\", \"гав\", datetime(2023, 1, 1),  [\"Cидеть\", \"Голос\", \"Ко мне\"])\n",
        "\n",
        "print(dog.id)\n",
        "\n",
        "class Cat(Pet):\n",
        "  pass\n",
        "\n",
        "class Hamster(Pet):\n",
        "  pass\n",
        "\n",
        "class Horse(PackAnimal):\n",
        "  pass\n",
        "\n",
        "class Camel(PackAnimal):\n",
        "  pass\n",
        "\n",
        "class Donkey(PackAnimal):\n",
        "  pass"
      ]
    }
  ]
}