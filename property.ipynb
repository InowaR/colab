{
  "nbformat": 4,
  "nbformat_minor": 0,
  "metadata": {
    "colab": {
      "provenance": [],
      "authorship_tag": "ABX9TyMasjEfI2dK8if1s9sX/BMs",
      "include_colab_link": true
    },
    "kernelspec": {
      "name": "python3",
      "display_name": "Python 3"
    },
    "language_info": {
      "name": "python"
    }
  },
  "cells": [
    {
      "cell_type": "markdown",
      "metadata": {
        "id": "view-in-github",
        "colab_type": "text"
      },
      "source": [
        "<a href=\"https://colab.research.google.com/github/InowaR/colab/blob/main/property.ipynb\" target=\"_parent\"><img src=\"https://colab.research.google.com/assets/colab-badge.svg\" alt=\"Open In Colab\"/></a>"
      ]
    },
    {
      "cell_type": "code",
      "execution_count": 53,
      "metadata": {
        "colab": {
          "base_uri": "https://localhost:8080/"
        },
        "id": "eJa4ET0wT9Wv",
        "outputId": "dbbad6fb-fdb1-4e6a-8594-6fa76eba633d"
      },
      "outputs": [
        {
          "output_type": "stream",
          "name": "stdout",
          "text": [
            "Иван : 0\n",
            "Иван : 2000\n"
          ]
        }
      ],
      "source": [
        "class Visitor():\n",
        "  def __init__(self, login, password):\n",
        "    self._login = login\n",
        "    self._password = password\n",
        "    self._balance = 0\n",
        "\n",
        "  def __str__(self):\n",
        "    return f'{self._login} : {self._balance}'\n",
        "\n",
        "  @property\n",
        "  def login(self):\n",
        "    return self._login\n",
        "\n",
        "  @property\n",
        "  def balance(self):\n",
        "      return self._balance\n",
        "\n",
        "  @balance.setter\n",
        "  def balance(self, value):\n",
        "      self._balance = value\n",
        "\n",
        "class ListVisitors():\n",
        "  def __init__(self):\n",
        "    self.visitors = []\n",
        "\n",
        "  def add_visitor(self, visitor):\n",
        "    self.visitors.append(visitor)\n",
        "\n",
        "  def remove_visitor(self, visitor):\n",
        "    self.visitors.remove(visitor)\n",
        "\n",
        "  def set_credits(self, login, number):\n",
        "    for visitor in self.visitors:\n",
        "      if visitor.login == login:\n",
        "        visitor.balance = number\n",
        "\n",
        "  def show_visitors(self):\n",
        "    for visitor in self.visitors:\n",
        "      print(visitor)\n",
        "\n",
        "\n",
        "class Service():\n",
        "  def __init__(self):\n",
        "    self.visitors = ListVisitors()\n",
        "\n",
        "  def create_visitor(self, login, password):\n",
        "    visitor = Visitor(login, password)\n",
        "    self.visitors.add_visitor(visitor)\n",
        "\n",
        "  def delete_visitors(self, login):\n",
        "    for visitor in self.visitors:\n",
        "      if visitor.get_login == login:\n",
        "        self.visitors.remove_visitor(visitor)\n",
        "\n",
        "  def set_credit_to_visitor(self, login, number):\n",
        "    self.visitors.set_credits(login, number)\n",
        "\n",
        "  def show_visitors(self):\n",
        "    self.visitors.show_visitors()\n",
        "\n",
        "#----------------------------------------------\n",
        "\n",
        "service = Service()\n",
        "service.create_visitor('Иван', 'ivan12828828')\n",
        "service.show_visitors()\n",
        "service.set_credit_to_visitor('Иван', 2000)\n",
        "service.show_visitors()"
      ]
    }
  ]
}