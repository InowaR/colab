{
  "nbformat": 4,
  "nbformat_minor": 0,
  "metadata": {
    "colab": {
      "provenance": [],
      "authorship_tag": "ABX9TyMx5HJReD7zbd6weQQnE673",
      "include_colab_link": true
    },
    "kernelspec": {
      "name": "python3",
      "display_name": "Python 3"
    },
    "language_info": {
      "name": "python"
    }
  },
  "cells": [
    {
      "cell_type": "markdown",
      "metadata": {
        "id": "view-in-github",
        "colab_type": "text"
      },
      "source": [
        "<a href=\"https://colab.research.google.com/github/InowaR/colab/blob/main/Perceptron_AND_gate.ipynb\" target=\"_parent\"><img src=\"https://colab.research.google.com/assets/colab-badge.svg\" alt=\"Open In Colab\"/></a>"
      ]
    },
    {
      "cell_type": "code",
      "execution_count": 1,
      "metadata": {
        "colab": {
          "base_uri": "https://localhost:8080/",
          "height": 0
        },
        "id": "lJaR9z8yzZut",
        "outputId": "fd37035b-d55c-43c0-859d-cb65efba6d97"
      },
      "outputs": [
        {
          "output_type": "stream",
          "name": "stdout",
          "text": [
            "Тестирование перцептрона (AND gate):\n",
            "0 AND 0 = 0\n",
            "0 AND 1 = 0\n",
            "1 AND 0 = 0\n",
            "1 AND 1 = 1\n"
          ]
        }
      ],
      "source": [
        "import numpy as np\n",
        "\n",
        "class Perceptron:\n",
        "    def __init__(self, input_size, lr=0.1, epochs=100):\n",
        "        self.weights = np.zeros(input_size + 1)  # +1 для bias\n",
        "        self.epochs = epochs\n",
        "        self.lr = lr  # learning rate\n",
        "\n",
        "    def activation_fn(self, x):\n",
        "        return 1 if x >= 0 else 0\n",
        "\n",
        "    def predict(self, inputs):\n",
        "        summation = np.dot(inputs, self.weights[1:]) + self.weights[0]\n",
        "        return self.activation_fn(summation)\n",
        "\n",
        "    def train(self, training_inputs, labels):\n",
        "        for _ in range(self.epochs):\n",
        "            for inputs, label in zip(training_inputs, labels):\n",
        "                prediction = self.predict(inputs)\n",
        "                self.weights[1:] += self.lr * (label - prediction) * inputs\n",
        "                self.weights[0] += self.lr * (label - prediction)\n",
        "\n",
        "# Данные для обучения (AND gate)\n",
        "training_inputs = np.array([\n",
        "    [0, 0],\n",
        "    [0, 1],\n",
        "    [1, 0],\n",
        "    [1, 1]\n",
        "])\n",
        "labels = np.array([0, 0, 0, 1])\n",
        "\n",
        "# Создаем и обучаем перцептрон\n",
        "perceptron = Perceptron(input_size=2)\n",
        "perceptron.train(training_inputs, labels)\n",
        "\n",
        "# Тестируем\n",
        "print(\"Тестирование перцептрона (AND gate):\")\n",
        "print(f\"0 AND 0 = {perceptron.predict([0, 0])}\")\n",
        "print(f\"0 AND 1 = {perceptron.predict([0, 1])}\")\n",
        "print(f\"1 AND 0 = {perceptron.predict([1, 0])}\")\n",
        "print(f\"1 AND 1 = {perceptron.predict([1, 1])}\")"
      ]
    }
  ]
}