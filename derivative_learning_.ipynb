{
  "nbformat": 4,
  "nbformat_minor": 0,
  "metadata": {
    "colab": {
      "provenance": [],
      "authorship_tag": "ABX9TyMvL4HLxOj5rWfq02gjAZ3B",
      "include_colab_link": true
    },
    "kernelspec": {
      "name": "python3",
      "display_name": "Python 3"
    },
    "language_info": {
      "name": "python"
    }
  },
  "cells": [
    {
      "cell_type": "markdown",
      "metadata": {
        "id": "view-in-github",
        "colab_type": "text"
      },
      "source": [
        "<a href=\"https://colab.research.google.com/github/InowaR/colab/blob/main/derivative_learning_.ipynb\" target=\"_parent\"><img src=\"https://colab.research.google.com/assets/colab-badge.svg\" alt=\"Open In Colab\"/></a>"
      ]
    },
    {
      "cell_type": "code",
      "source": [
        "import numpy as np\n",
        "\n",
        "def diff(func, x, dx=0.001):\n",
        "    return (func(x + dx) - func(x)) / dx\n",
        "\n",
        "X, y = np.array([1, 2, 3, 4]), np.array([1, 4, 9, 16])\n",
        "a, b, c, lr = 0, 0, 0, 0.01\n",
        "\n",
        "loss = lambda: np.mean((a*X**2 + b*X + c - y)**2)\n",
        "loss_a = lambda a_val: np.mean((a_val*X**2 + b*X + c - y)**2)\n",
        "loss_b = lambda b_val: np.mean((a*X**2 + b_val*X + c - y)**2)\n",
        "loss_c = lambda c_val: np.mean((a*X**2 + b*X + c_val - y)**2)\n",
        "\n",
        "for _ in range(1000):\n",
        "    a -= lr * diff(loss_a, a)\n",
        "    b -= lr * diff(loss_b, b)\n",
        "    c -= lr * diff(loss_c, c)\n",
        "\n",
        "print(f\"y = {a:.3f}x² + {b:.3f}x + {c:.3f}\")\n",
        "print(f\"Ошибка: {np.mean((a*X**2 + b*X + c - y)**2):.6f}\")\n",
        "\n",
        "for x in [5, 0, -1, 2.5]:\n",
        "    print(f\"x = {x}: y = {a*x**2 + b*x + c:.3f}\")"
      ],
      "metadata": {
        "colab": {
          "base_uri": "https://localhost:8080/"
        },
        "id": "fRYBrKgj5tcE",
        "outputId": "f05f50e8-d608-40ea-a7ff-a8fb0b74ab49"
      },
      "execution_count": 67,
      "outputs": [
        {
          "output_type": "stream",
          "name": "stdout",
          "text": [
            "y = 0.998x² + 0.002x + 0.014\n",
            "Ошибка: 0.000119\n",
            "x = 5: y = 24.967\n",
            "x = 0: y = 0.014\n",
            "x = -1: y = 1.010\n",
            "x = 2.5: y = 6.255\n"
          ]
        }
      ]
    },
    {
      "cell_type": "code",
      "source": [
        "import numpy as np\n",
        "\n",
        "def diff(func, x, dx=0.001):\n",
        "    return (func(x + dx) - func(x)) / dx\n",
        "\n",
        "X, y = np.array([1, 2, 3, 4]), np.array([1, 4, 9, 16])\n",
        "a, b, lr = 0, 0, 0.01\n",
        "\n",
        "loss_a = lambda a_val: np.mean((a_val*X**2 + b*X - y)**2)\n",
        "loss_b = lambda b_val: np.mean((a*X**2 + b_val*X - y)**2)\n",
        "\n",
        "for _ in range(1000):\n",
        "    a -= lr * diff(loss_a, a)\n",
        "    b -= lr * diff(loss_b, b)\n",
        "\n",
        "print(f\"y = {a:.3f}x² + {b:.3f}x\")\n",
        "print(f\"Ошибка: {np.mean((a*X**2 + b*X - y)**2):.6f}\")\n",
        "\n",
        "for x in [5, 0, -1, 2.5]:\n",
        "    print(f\"x = {x}: y = {a*x**2 + b*x:.3f}\")"
      ],
      "metadata": {
        "colab": {
          "base_uri": "https://localhost:8080/"
        },
        "id": "2P0om5Kq7WKG",
        "outputId": "ed45bf70-ce9b-481d-83e2-de20299c0be6"
      },
      "execution_count": 65,
      "outputs": [
        {
          "output_type": "stream",
          "name": "stdout",
          "text": [
            "y = 0.994x² + 0.020x\n",
            "Ошибка: 0.000197\n",
            "x = 5: y = 24.946\n",
            "x = 0: y = 0.000\n",
            "x = -1: y = 0.974\n",
            "x = 2.5: y = 6.262\n"
          ]
        }
      ]
    },
    {
      "cell_type": "code",
      "source": [
        "import numpy as np\n",
        "\n",
        "def diff(func, x, dx=0.001):\n",
        "    return (func(x + dx) - func(x)) / dx\n",
        "\n",
        "X, y = np.array([1, 2, 3, 4]), np.array([1, 4, 9, 16])\n",
        "a, lr = 0, 0.01\n",
        "\n",
        "loss_a = lambda a_val: np.mean((a_val*X**2 - y)**2)\n",
        "\n",
        "for _ in range(1000):\n",
        "    a -= lr * diff(loss_a, a)\n",
        "\n",
        "print(f\"y = {a:.3f}x²\")\n",
        "print(f\"Ошибка: {np.mean((a*X**2 - y)**2):.6f}\")\n",
        "\n",
        "for x in [5, 0, -1, 2.5]:\n",
        "    print(f\"x = {x}: y = {a*x**2:.3f}\")"
      ],
      "metadata": {
        "colab": {
          "base_uri": "https://localhost:8080/"
        },
        "id": "1e6ITu8P7YNd",
        "outputId": "77f20fc8-d46d-44ee-f445-87c78ed95515"
      },
      "execution_count": 66,
      "outputs": [
        {
          "output_type": "stream",
          "name": "stdout",
          "text": [
            "y = 0.999x²\n",
            "Ошибка: 0.000022\n",
            "x = 5: y = 24.987\n",
            "x = 0: y = 0.000\n",
            "x = -1: y = 0.999\n",
            "x = 2.5: y = 6.247\n"
          ]
        }
      ]
    }
  ]
}