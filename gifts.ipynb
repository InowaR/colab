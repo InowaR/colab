{
  "nbformat": 4,
  "nbformat_minor": 0,
  "metadata": {
    "colab": {
      "provenance": [],
      "authorship_tag": "ABX9TyMkRFT20TdRWmXTIi6qAlIg",
      "include_colab_link": true
    },
    "kernelspec": {
      "name": "python3",
      "display_name": "Python 3"
    },
    "language_info": {
      "name": "python"
    }
  },
  "cells": [
    {
      "cell_type": "markdown",
      "metadata": {
        "id": "view-in-github",
        "colab_type": "text"
      },
      "source": [
        "<a href=\"https://colab.research.google.com/github/InowaR/colab/blob/main/gifts.ipynb\" target=\"_parent\"><img src=\"https://colab.research.google.com/assets/colab-badge.svg\" alt=\"Open In Colab\"/></a>"
      ]
    },
    {
      "cell_type": "code",
      "execution_count": 102,
      "metadata": {
        "colab": {
          "base_uri": "https://localhost:8080/"
        },
        "id": "nOV1wL7Qossl",
        "outputId": "6d1f1a58-7f75-4a37-99c5-c2615d30e9a6"
      },
      "outputs": [
        {
          "output_type": "stream",
          "name": "stdout",
          "text": [
            "[0.09, 0.14, 0.09, 0.1, 0.05, 0.11, 0.13, 0.09, 0.1, 0.0]\n",
            "10\n",
            "0.14\n",
            "0.0\n"
          ]
        }
      ],
      "source": [
        "import random\n",
        "\n",
        "a = 'ноутбук'\n",
        "b = 'смартфон'\n",
        "c = 'планшет'\n",
        "\n",
        "toys = []\n",
        "weights = []\n",
        "for i in range(3):\n",
        "  toys.append(a)\n",
        "  toys.append(b)\n",
        "  toys.append(c)\n",
        "  weights.append(0.5)\n",
        "  weights.append(0.5)\n",
        "  weights.append(0.5)\n",
        "\n",
        "toys.append('nothing')\n",
        "weights.append(0.0)\n",
        "\n",
        "\n",
        "def lottery():\n",
        "  total = sum(weights) * random.random()\n",
        "  random_index = 0\n",
        "  for weight in weights:\n",
        "    total -= weight\n",
        "    if total <= 0:\n",
        "      break\n",
        "    random_index += 1\n",
        "  return random_index\n",
        "\n",
        "\n",
        "def check(n):\n",
        "  hundred = 100\n",
        "  count = 0\n",
        "  for i in range(hundred):  #100 %\n",
        "    a = lottery()\n",
        "    if a == n:\n",
        "      count += 1\n",
        "  return count / hundred\n",
        "\n",
        "\n",
        "def last():\n",
        "  m = []\n",
        "  for j in range(1):\n",
        "    for i in range(len(toys)):\n",
        "      m.append(check(i))\n",
        "  return m\n",
        "\n",
        "l = last()\n",
        "print(l)\n",
        "print(len(l))\n",
        "print(max(l))\n",
        "print(min(l))"
      ]
    }
  ]
}