{
  "nbformat": 4,
  "nbformat_minor": 0,
  "metadata": {
    "colab": {
      "provenance": [],
      "authorship_tag": "ABX9TyNzEEvHLquLjMCDoHbtL/sT",
      "include_colab_link": true
    },
    "kernelspec": {
      "name": "python3",
      "display_name": "Python 3"
    },
    "language_info": {
      "name": "python"
    }
  },
  "cells": [
    {
      "cell_type": "markdown",
      "metadata": {
        "id": "view-in-github",
        "colab_type": "text"
      },
      "source": [
        "<a href=\"https://colab.research.google.com/github/InowaR/colab/blob/main/gifts.ipynb\" target=\"_parent\"><img src=\"https://colab.research.google.com/assets/colab-badge.svg\" alt=\"Open In Colab\"/></a>"
      ]
    },
    {
      "cell_type": "code",
      "execution_count": 100,
      "metadata": {
        "colab": {
          "base_uri": "https://localhost:8080/"
        },
        "id": "nOV1wL7Qossl",
        "outputId": "4a9f3584-030f-46f5-900b-7b55c612c731"
      },
      "outputs": [
        {
          "output_type": "stream",
          "name": "stdout",
          "text": [
            "[5, 4, 5, 7, 8, 9, 3, 13, 10, 5, 10, 7, 5, 9, 2, 0]\n",
            "16\n",
            "13\n",
            "0\n"
          ]
        }
      ],
      "source": [
        "import random\n",
        "\n",
        "a = 'ноутбук'\n",
        "b = 'смартфон'\n",
        "c = 'планшет'\n",
        "\n",
        "toys = []\n",
        "weights = []\n",
        "for i in range(5):\n",
        "  toys.append(a)\n",
        "  toys.append(b)\n",
        "  toys.append(c)\n",
        "  weights.append(0.5)\n",
        "  weights.append(0.5)\n",
        "  weights.append(0.5)\n",
        "\n",
        "toys.append('nothing')\n",
        "weights.append(0.0)\n",
        "\n",
        "\n",
        "def lottery():\n",
        "  total = sum(weights) * random.random()\n",
        "  random_index = 0\n",
        "  for weight in weights:\n",
        "    total -= weight\n",
        "    if total <= 0:\n",
        "      break\n",
        "    random_index += 1\n",
        "  return random_index\n",
        "\n",
        "\n",
        "def check(n):\n",
        "  hundred = 100\n",
        "  count = 0\n",
        "  for i in range(hundred):  #100 %\n",
        "    a = lottery()\n",
        "    if a == n:\n",
        "      count += 1\n",
        "  return count\n",
        "\n",
        "\n",
        "def last():\n",
        "  m = []\n",
        "  for j in range(1):\n",
        "    for i in range(len(toys)):\n",
        "      m.append(check(i))\n",
        "  return m\n",
        "\n",
        "l = last()\n",
        "print(l)\n",
        "print(len(l))\n",
        "print(max(l))\n",
        "print(min(l))"
      ]
    }
  ]
}