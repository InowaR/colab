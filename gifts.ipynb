{
  "nbformat": 4,
  "nbformat_minor": 0,
  "metadata": {
    "colab": {
      "provenance": [],
      "authorship_tag": "ABX9TyNswTFf/b+5hgJOticQEQCK",
      "include_colab_link": true
    },
    "kernelspec": {
      "name": "python3",
      "display_name": "Python 3"
    },
    "language_info": {
      "name": "python"
    }
  },
  "cells": [
    {
      "cell_type": "markdown",
      "metadata": {
        "id": "view-in-github",
        "colab_type": "text"
      },
      "source": [
        "<a href=\"https://colab.research.google.com/github/InowaR/colab/blob/main/gifts.ipynb\" target=\"_parent\"><img src=\"https://colab.research.google.com/assets/colab-badge.svg\" alt=\"Open In Colab\"/></a>"
      ]
    },
    {
      "cell_type": "code",
      "execution_count": 166,
      "metadata": {
        "colab": {
          "base_uri": "https://localhost:8080/"
        },
        "id": "nOV1wL7Qossl",
        "outputId": "19d2487c-8cb5-4858-ff46-c1fe19807a6b"
      },
      "outputs": [
        {
          "output_type": "stream",
          "name": "stdout",
          "text": [
            "['ноутбук', 'смартфон', 'планшет', 'ноутбук', 'смартфон', 'планшет', 'ноутбук', 'смартфон', 'планшет', 'ноутбук', 'смартфон', 'планшет', 'ноутбук', 'смартфон', 'планшет']\n",
            "[0.1, 0.2, 0.3, 0.1, 0.2, 0.3, 0.1, 0.2, 0.3, 0.1, 0.2, 0.3, 0.1, 0.2, 0.3]\n",
            "13\n"
          ]
        }
      ],
      "source": [
        "import random\n",
        "\n",
        "a = 'ноутбук'\n",
        "b = 'смартфон'\n",
        "c = 'планшет'\n",
        "\n",
        "toys = []\n",
        "weights = []\n",
        "for i in range(5):\n",
        "  toys.append(a)\n",
        "  toys.append(b)\n",
        "  toys.append(c)\n",
        "  weights.append(0.1)\n",
        "  weights.append(0.2)\n",
        "  weights.append(0.3)\n",
        "\n",
        "print(toys)\n",
        "print(weights)\n",
        "\n",
        "total = sum(weights) * random.random()\n",
        "\n",
        "random_index = 0\n",
        "for weight in weights:\n",
        "  total -= weight\n",
        "  if total <= 0:\n",
        "    break\n",
        "  random_index += 1\n",
        "\n",
        "print(random_index)"
      ]
    }
  ]
}