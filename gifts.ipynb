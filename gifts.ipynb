{
  "nbformat": 4,
  "nbformat_minor": 0,
  "metadata": {
    "colab": {
      "provenance": [],
      "authorship_tag": "ABX9TyMODgj8XcotvTzMKeAbqc3F",
      "include_colab_link": true
    },
    "kernelspec": {
      "name": "python3",
      "display_name": "Python 3"
    },
    "language_info": {
      "name": "python"
    }
  },
  "cells": [
    {
      "cell_type": "markdown",
      "metadata": {
        "id": "view-in-github",
        "colab_type": "text"
      },
      "source": [
        "<a href=\"https://colab.research.google.com/github/InowaR/colab/blob/main/gifts.ipynb\" target=\"_parent\"><img src=\"https://colab.research.google.com/assets/colab-badge.svg\" alt=\"Open In Colab\"/></a>"
      ]
    },
    {
      "cell_type": "code",
      "execution_count": 522,
      "metadata": {
        "colab": {
          "base_uri": "https://localhost:8080/"
        },
        "id": "nOV1wL7Qossl",
        "outputId": "ceb2793e-db94-4e3d-ab9d-410df6488b22"
      },
      "outputs": [
        {
          "output_type": "stream",
          "name": "stdout",
          "text": [
            "[0.05, 0.02, 0.05, 0.01, 0.04, 0.08, 0.01, 0.04, 0.05, 0.04, 0.03, 0.05, 0.02, 0.05, 0.03, 0.01, 0.05, 0.05, 0.02, 0.03, 0.04, 0.01, 0.02, 0.09, 0.01, 0.01, 0.06, 0.01, 0.03, 0.05, 0.0, 0.03, 0.03, 0.06, 0.01, 0.04, 0.06, 0.0, 0.06, 0.03, 0.01, 0.03, 0.03, 0.01, 0.04, 0.03, 0.01, 0.03, 0.02, 0.03, 0.04, 0.04, 0.03, 0.02, 0.07, 0.02, 0.04, 0.06, 0.01, 0.03, 0.06, 0.0, 0.0, 0.02, 0.02, 0.01, 0.02, 0.03, 0.0, 0.06, 0.07, 0.0, 0.01, 0.02, 0.03, 0.02, 0.07, 0.04, 0.05, 0.01, 0.03, 0.02, 0.02, 0.03, 0.03, 0.07, 0.02, 0.04, 0.03, 0.01, 0.01, 0.03, 0.0, 0.0, 0.03, 0.04, 0.01, 0.02, 0.1, 0.04, 0.04, 0.04, 0.02, 0.03, 0.05, 0.01, 0.01, 0.06, 0.02, 0.02, 0.03, 0.0, 0.05, 0.03, 0.01, 0.04, 0.04, 0.04, 0.02, 0.02, 0.02, 0.06, 0.04, 0.0, 0.04, 0.05, 0.09, 0.02, 0.02, 0.03, 0.01, 0.05, 0.05, 0.01, 0.05, 0.01, 0.01, 0.07, 0.04, 0.03, 0.02, 0.11, 0.01, 0.03, 0.06, 0.03, 0.04, 0.09, 0.02, 0.02, 0.02, 0.01, 0.04, 0.04, 0.0]\n",
            "155\n",
            "0.11\n",
            "0.0\n"
          ]
        }
      ],
      "source": [
        "import random\n",
        "\n",
        "a = 'ноутбук'\n",
        "b = 'смартфон'\n",
        "c = 'планшет'\n",
        "d = 'end'\n",
        "\n",
        "toys = []\n",
        "weights = []\n",
        "for i in range(10):\n",
        "  toys.append(a)\n",
        "  toys.append(b)\n",
        "  toys.append(c)\n",
        "  weights.append(0.1)\n",
        "  weights.append(0.2)\n",
        "  weights.append(0.3)\n",
        "\n",
        "# toys.append(d)\n",
        "# weights.append(0.0)\n",
        "\n",
        "\n",
        "def lottery():\n",
        "  total = sum(weights) * random.random()\n",
        "  random_index = 0\n",
        "  for weight in weights:\n",
        "    total -= weight\n",
        "    if total <= 0:\n",
        "      break\n",
        "    random_index += 1\n",
        "  return random_index\n",
        "\n",
        "\n",
        "def check(n):\n",
        "  hundred = 100\n",
        "  count = 0\n",
        "  for i in range(hundred):  #100 %\n",
        "    a = lottery()\n",
        "    if a == n:\n",
        "      count += 1\n",
        "  return count / hundred\n",
        "\n",
        "\n",
        "def last():\n",
        "  m = []\n",
        "  for j in range(5):\n",
        "    for i in range(len(toys)):\n",
        "      m.append(check(i))\n",
        "  return m\n",
        "\n",
        "l = last()\n",
        "print(l)\n",
        "print(len(l))\n",
        "print(max(l))\n",
        "print(min(l))"
      ]
    }
  ]
}