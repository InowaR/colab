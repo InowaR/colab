{
  "nbformat": 4,
  "nbformat_minor": 0,
  "metadata": {
    "colab": {
      "provenance": [],
      "authorship_tag": "ABX9TyPBUlVItifkp+DwplxhC5aI",
      "include_colab_link": true
    },
    "kernelspec": {
      "name": "python3",
      "display_name": "Python 3"
    },
    "language_info": {
      "name": "python"
    }
  },
  "cells": [
    {
      "cell_type": "markdown",
      "metadata": {
        "id": "view-in-github",
        "colab_type": "text"
      },
      "source": [
        "<a href=\"https://colab.research.google.com/github/InowaR/colab/blob/main/gifts.ipynb\" target=\"_parent\"><img src=\"https://colab.research.google.com/assets/colab-badge.svg\" alt=\"Open In Colab\"/></a>"
      ]
    },
    {
      "cell_type": "code",
      "execution_count": 122,
      "metadata": {
        "colab": {
          "base_uri": "https://localhost:8080/"
        },
        "id": "nOV1wL7Qossl",
        "outputId": "255ee580-4812-47db-8f8c-da75c8d37aca"
      },
      "outputs": [
        {
          "output_type": "stream",
          "name": "stdout",
          "text": [
            "[0.07, 0.13, 0.16, 0.09, 0.09, 0.15, 0.02, 0.11, 0.12, 0.0, 0.07, 0.07, 0.21, 0.03, 0.1, 0.19, 0.06, 0.09, 0.18, 0.0, 0.05, 0.08, 0.2, 0.05, 0.1, 0.1, 0.07, 0.12, 0.13, 0.0, 0.07, 0.11, 0.24, 0.03, 0.1, 0.16, 0.03, 0.12, 0.16, 0.0, 0.1, 0.13, 0.1, 0.07, 0.08, 0.24, 0.04, 0.13, 0.16, 0.0, 0.04, 0.08, 0.21, 0.11, 0.12, 0.18, 0.06, 0.14, 0.12, 0.0, 0.1, 0.09, 0.17, 0.06, 0.14, 0.2, 0.07, 0.1, 0.18, 0.0, 0.1, 0.11, 0.12, 0.03, 0.1, 0.15, 0.06, 0.11, 0.21, 0.0, 0.07, 0.09, 0.21, 0.05, 0.09, 0.2, 0.05, 0.15, 0.17, 0.0, 0.03, 0.13, 0.19, 0.06, 0.16, 0.15, 0.06, 0.06, 0.14, 0.0]\n",
            "100\n",
            "0.24\n",
            "0.0\n"
          ]
        }
      ],
      "source": [
        "import random\n",
        "\n",
        "a = 'ноутбук'\n",
        "b = 'смартфон'\n",
        "c = 'планшет'\n",
        "\n",
        "toys = []\n",
        "weights = []\n",
        "for i in range(3):\n",
        "  toys.append(a)\n",
        "  toys.append(b)\n",
        "  toys.append(c)\n",
        "  weights.append(1)\n",
        "  weights.append(2)\n",
        "  weights.append(3)\n",
        "\n",
        "toys.append('nothing')\n",
        "weights.append(0.0)\n",
        "\n",
        "\n",
        "def lottery():\n",
        "  total = sum(weights) * random.random()\n",
        "  random_index = 0\n",
        "  for weight in weights:\n",
        "    total -= weight\n",
        "    if total <= 0:\n",
        "      break\n",
        "    random_index += 1\n",
        "  return random_index\n",
        "\n",
        "\n",
        "def check(n):\n",
        "  hundred = 100\n",
        "  count = 0\n",
        "  for i in range(hundred):  #100 %\n",
        "    a = lottery()\n",
        "    if a == n:\n",
        "      count += 1\n",
        "  return count / hundred\n",
        "\n",
        "\n",
        "def last():\n",
        "  m = []\n",
        "  for j in range(10):\n",
        "    for i in range(len(toys)):\n",
        "      m.append(check(i))\n",
        "  return m\n",
        "\n",
        "l = last()\n",
        "print(l)\n",
        "print(len(l))\n",
        "print(max(l))\n",
        "print(min(l))"
      ]
    }
  ]
}