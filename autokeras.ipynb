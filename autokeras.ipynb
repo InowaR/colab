{
  "nbformat": 4,
  "nbformat_minor": 0,
  "metadata": {
    "colab": {
      "provenance": [],
      "include_colab_link": true
    },
    "kernelspec": {
      "name": "python3",
      "display_name": "Python 3"
    },
    "language_info": {
      "name": "python"
    }
  },
  "cells": [
    {
      "cell_type": "markdown",
      "metadata": {
        "id": "view-in-github",
        "colab_type": "text"
      },
      "source": [
        "<a href=\"https://colab.research.google.com/github/InowaR/colab/blob/main/autokeras.ipynb\" target=\"_parent\"><img src=\"https://colab.research.google.com/assets/colab-badge.svg\" alt=\"Open In Colab\"/></a>"
      ]
    },
    {
      "cell_type": "code",
      "execution_count": null,
      "metadata": {
        "id": "R2xFHeMrweFe"
      },
      "outputs": [],
      "source": [
        "!pip install autokeras"
      ]
    },
    {
      "cell_type": "code",
      "source": [
        "import numpy as np\n",
        "import tensorflow as tf\n",
        "import matplotlib.pyplot as plt\n",
        "from keras.models import load_model\n",
        "from keras.datasets import mnist\n",
        "import autokeras as ak"
      ],
      "metadata": {
        "id": "nkFGZNlIwjJ3"
      },
      "execution_count": null,
      "outputs": []
    },
    {
      "cell_type": "code",
      "source": [
        "(x_train, y_train), (x_test, y_test) = mnist.load_data()"
      ],
      "metadata": {
        "id": "RcME2XENw0IH",
        "outputId": "838fa4ab-1120-4db5-f59f-6bf840e359fb",
        "colab": {
          "base_uri": "https://localhost:8080/"
        }
      },
      "execution_count": 3,
      "outputs": [
        {
          "output_type": "stream",
          "name": "stdout",
          "text": [
            "Downloading data from https://storage.googleapis.com/tensorflow/tf-keras-datasets/mnist.npz\n",
            "11490434/11490434 [==============================] - 0s 0us/step\n"
          ]
        }
      ]
    },
    {
      "cell_type": "code",
      "source": [
        "clf = ak.ImageClassifier(overwrite=True, max_trials=1)\n",
        "\n",
        "clf.fit(x_train, y_train, epochs=1)"
      ],
      "metadata": {
        "colab": {
          "base_uri": "https://localhost:8080/"
        },
        "id": "vBw7-3Ztw4xx",
        "outputId": "8aaef71e-934e-42f2-b46f-e2156f8bc5a9"
      },
      "execution_count": 4,
      "outputs": [
        {
          "output_type": "stream",
          "name": "stdout",
          "text": [
            "Trial 1 Complete [00h 02m 22s]\n",
            "val_loss: 0.07845312356948853\n",
            "\n",
            "Best val_loss So Far: 0.07845312356948853\n",
            "Total elapsed time: 00h 02m 22s\n",
            "1875/1875 [==============================] - 158s 84ms/step - loss: 0.1583 - accuracy: 0.9519\n"
          ]
        },
        {
          "output_type": "execute_result",
          "data": {
            "text/plain": [
              "<keras.src.callbacks.History at 0x7eebd1808100>"
            ]
          },
          "metadata": {},
          "execution_count": 4
        }
      ]
    },
    {
      "cell_type": "code",
      "source": [
        "model = clf.export_model()\n",
        "\n",
        "try:\n",
        "    model.save(\"model_autokeras\", save_format=\"tf\")\n",
        "except Exception:\n",
        "    model.save(\"model_autokeras.h5\")\n",
        "\n",
        "\n",
        "print('Model saved')"
      ],
      "metadata": {
        "id": "lolOpDAhAXsq",
        "outputId": "bbf40f73-1f89-4b99-ce6a-e88e30b2ba30",
        "colab": {
          "base_uri": "https://localhost:8080/"
        }
      },
      "execution_count": 5,
      "outputs": [
        {
          "output_type": "stream",
          "name": "stdout",
          "text": [
            "Model saved\n"
          ]
        }
      ]
    },
    {
      "cell_type": "code",
      "source": [
        "model = load_model('model_autokeras')\n",
        "\n",
        "random_index = np.random.randint(0, len(x_test))\n",
        "image = x_test[random_index]\n",
        "\n",
        "prediction = model.predict(image)\n",
        "plt.title(f'Prediction: {np.argmax(prediction)}')\n",
        "plt.imshow(image, cmap='gray')\n",
        "plt.show()"
      ],
      "metadata": {
        "colab": {
          "base_uri": "https://localhost:8080/",
          "height": 469
        },
        "id": "YkF7JPRg1gVT",
        "outputId": "f25fbc6b-cb88-4153-e758-95f5683e7ba4"
      },
      "execution_count": 6,
      "outputs": [
        {
          "output_type": "stream",
          "name": "stdout",
          "text": [
            "1/1 [==============================] - 0s 127ms/step\n"
          ]
        },
        {
          "output_type": "display_data",
          "data": {
            "text/plain": [
              "<Figure size 640x480 with 1 Axes>"
            ],
            "image/png": "[encoded data removed]"
          },
          "metadata": {}
        }
      ]
    }
  ]
}