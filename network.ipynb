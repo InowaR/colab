{
  "nbformat": 4,
  "nbformat_minor": 0,
  "metadata": {
    "colab": {
      "provenance": [],
      "authorship_tag": "ABX9TyNHFuBNI7SzXWCJv8JVJHP2",
      "include_colab_link": true
    },
    "kernelspec": {
      "name": "python3",
      "display_name": "Python 3"
    },
    "language_info": {
      "name": "python"
    }
  },
  "cells": [
    {
      "cell_type": "markdown",
      "metadata": {
        "id": "view-in-github",
        "colab_type": "text"
      },
      "source": [
        "<a href=\"https://colab.research.google.com/github/InowaR/colab/blob/main/network.ipynb\" target=\"_parent\"><img src=\"https://colab.research.google.com/assets/colab-badge.svg\" alt=\"Open In Colab\"/></a>"
      ]
    },
    {
      "cell_type": "code",
      "execution_count": 1,
      "metadata": {
        "id": "a9biSsbjfKLD",
        "colab": {
          "base_uri": "https://localhost:8080/",
          "height": 282
        },
        "outputId": "2e1b230e-41c1-4049-c43e-4d567a27d710"
      },
      "outputs": [
        {
          "output_type": "stream",
          "name": "stdout",
          "text": [
            "Accuracy: 0.96\n"
          ]
        },
        {
          "output_type": "display_data",
          "data": {
            "text/plain": [
              "<Figure size 432x288 with 1 Axes>"
            ],
            "image/png": "[encoded data removed]"
          },
          "metadata": {
            "needs_background": "light"
          }
        }
      ],
      "source": [
        "import random\n",
        "import numpy as np\n",
        "from sklearn import datasets\n",
        "import matplotlib.pyplot as plt\n",
        "\n",
        "\n",
        "###############\n",
        "INPUT = 4     #\n",
        "HIDDEN = 10   #  network 4-10-3\n",
        "OUTPUT = 3    #   \n",
        "###############\n",
        "\n",
        "def relu(t):\n",
        "  return np.maximum(t, 0)\n",
        "\n",
        "def softmax(t):\n",
        "  out = np.exp(t)\n",
        "  return out / np.sum(out)\n",
        "\n",
        "def sparse_cross_entropy(z, y):       # plot\n",
        "  return -np.log(z[0, y])               \n",
        "\n",
        "def to_full(y, num_classes):          # target vector to exit vector\n",
        "  y_full = np.zeros((1, num_classes))  \n",
        "  y_full[0, y] = 1                      \n",
        "  return y_full                         \n",
        "\n",
        "def relu_derivative(t):\n",
        "  return (t >= 0).astype(float)\n",
        "\n",
        "#########################################################################################                                                          #\n",
        "iris = datasets.load_iris()                                                             #  dataset\n",
        "dataset = [(iris.data[i][None, ...], iris.target[i]) for i in range(len(iris.target))]  #\n",
        "#########################################################################################\n",
        "\n",
        "# x = input vector \n",
        "# y = target vector\n",
        "\n",
        "W1 = np.random.randn(INPUT, HIDDEN)   #\n",
        "b1 = np.random.randn(1, HIDDEN)       #  matrix weights, vector biases\n",
        "W2 = np.random.randn(HIDDEN, OUTPUT)  #\n",
        "b2 = np.random.randn(1, OUTPUT)       #\n",
        "\n",
        "ETA = 0.001        # learning rate\n",
        "NUM_EPOCHS = 100   # full iterations\n",
        "loss_array = []    # errors\n",
        "\n",
        "for epoch in range(NUM_EPOCHS):\n",
        "\n",
        "  random.shuffle(dataset)  # shuffle data\n",
        "\n",
        "  for i in range(len(dataset)):\n",
        "\n",
        "    x, y = dataset[i]\n",
        "\n",
        "    ######################\n",
        "    t1 = x @ W1 + b1     #\n",
        "    h1 = relu(t1)        #\n",
        "    t2 = h1 @ W2 + b2    #  feed forward\n",
        "    z = softmax(t2)      #\n",
        "    ######################   \n",
        "\n",
        "    E = sparse_cross_entropy(z, y)  # plot\n",
        "    y_full = to_full(y, OUTPUT)     # one-hot encoding (0,1)\n",
        "\n",
        "    ########################################\n",
        "    dE_dt2 = z - y_full                    #\n",
        "    dE_dW2 = h1.T @ dE_dt2                 #\n",
        "    dE_db2 = dE_dt2                        #\n",
        "    dE_dh1 = dE_dt2 @ W2.T                 #  gradient\n",
        "    dE_dt1 = dE_dh1 * relu_derivative(t1)  #\n",
        "    dE_dW1 = x.T @ dE_dt1                  #\n",
        "    dE_db1 = dE_dt1                        #\n",
        "    ########################################\n",
        "\n",
        "    #########################\n",
        "    W1 = W1 - ETA * dE_dW1  #\n",
        "    b1 = b1 - ETA * dE_db1  #  update weights\n",
        "    W2 = W2 - ETA * dE_dW2  #\n",
        "    b2 = b2 - ETA * dE_db2  #\n",
        "    #########################\n",
        "\n",
        "    loss_array.append(E)\n",
        "\n",
        "def predict(x):        \n",
        "  t1 = x @ W1 + b1 \n",
        "  h1 = relu(t1)                  \n",
        "  t2 = h1 @ W2 + b2        \n",
        "  z = softmax(t2)\n",
        "  return z\n",
        "\n",
        "def calc_accuracy():\n",
        "  correct = 0\n",
        "  for x, y in dataset:\n",
        "    z = predict(x)\n",
        "    y_pred = np.argmax(z)    # output indexes after predict()\n",
        "    if y_pred == y:\n",
        "      correct += 1\n",
        "  accuracy = correct / len(dataset)\n",
        "  return accuracy\n",
        "\n",
        "accuracy = calc_accuracy()\n",
        "print(f\"Accuracy: {accuracy}\")\n",
        "plt.plot(loss_array)\n",
        "plt.show()\n"
      ]
    }
  ]
}