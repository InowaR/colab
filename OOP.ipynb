{
  "nbformat": 4,
  "nbformat_minor": 0,
  "metadata": {
    "colab": {
      "provenance": [],
      "authorship_tag": "ABX9TyPFTwWFcKw7MP2BtsAwfLcu",
      "include_colab_link": true
    },
    "kernelspec": {
      "name": "python3",
      "display_name": "Python 3"
    },
    "language_info": {
      "name": "python"
    }
  },
  "cells": [
    {
      "cell_type": "markdown",
      "metadata": {
        "id": "view-in-github",
        "colab_type": "text"
      },
      "source": [
        "<a href=\"https://colab.research.google.com/github/InowaR/colab/blob/main/OOP.ipynb\" target=\"_parent\"><img src=\"https://colab.research.google.com/assets/colab-badge.svg\" alt=\"Open In Colab\"/></a>"
      ]
    },
    {
      "cell_type": "code",
      "execution_count": 100,
      "metadata": {
        "colab": {
          "base_uri": "https://localhost:8080/"
        },
        "id": "D_FIh8qmeFfL",
        "outputId": "d9db0660-4a6f-41f2-935b-9d1b0219d467"
      },
      "outputs": [
        {
          "output_type": "stream",
          "name": "stdout",
          "text": [
            "{'number': '9012', 'owner': 'Bob', 'balance': 0}\n",
            "9012, Bob, 0\n"
          ]
        }
      ],
      "source": [
        "# Procedural programming\n",
        "\n",
        "accounts = [\n",
        "  {'number': '1234', 'owner': 'John', 'balance': 1000},\n",
        "  {'number': '5678', 'owner': 'Jane', 'balance': 500},\n",
        "  {'number': '9012', 'owner': 'Bob', 'balance': 2000}\n",
        "]\n",
        "\n",
        "def get_account_by_number(number):\n",
        "  i = 0\n",
        "  while i < len(accounts):\n",
        "    for val in accounts[i].values():\n",
        "      if val == number:\n",
        "        return accounts[i]\n",
        "    i += 1\n",
        "\n",
        "def deposit(account, amount):\n",
        "  account['balance'] += amount\n",
        "\n",
        "def withdraw(account, amount):\n",
        "  if account['balance'] >= amount:\n",
        "    account['balance'] -= amount\n",
        "    return True\n",
        "  else:\n",
        "    return False\n",
        "\n",
        "def main():\n",
        "  acc = get_account_by_number('9012')\n",
        "  deposit(acc, 200)\n",
        "  withdraw(acc, 2200)\n",
        "  print(acc)\n",
        "\n",
        "main()\n",
        "\n",
        "\n",
        "# Object-oriented programming\n",
        "\n",
        "class Account:\n",
        "  def __init__(self, number, owner, balance):\n",
        "    self.number = number\n",
        "    self.owner = owner\n",
        "    self.balance = balance\n",
        "  \n",
        "  def __str__(self):\n",
        "    return f'{self.number}, {self.owner}, {self.balance}'\n",
        "  \n",
        "  def deposit(self, amount):\n",
        "    self.balance += amount\n",
        "\n",
        "  def withdraw(self, amount):\n",
        "    if self.balance >= amount:\n",
        "      self.balance -= amount\n",
        "      return True\n",
        "    else:\n",
        "      return False\n",
        "\n",
        "bob = Account('9012', 'Bob', 2000)\n",
        "bob.deposit(200)\n",
        "bob.withdraw(2200)\n",
        "print(bob)"
      ]
    }
  ]
}