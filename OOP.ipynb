{
  "nbformat": 4,
  "nbformat_minor": 0,
  "metadata": {
    "colab": {
      "provenance": [],
      "authorship_tag": "ABX9TyOvtSkXIuPZFs9yTwNGSlh3",
      "include_colab_link": true
    },
    "kernelspec": {
      "name": "python3",
      "display_name": "Python 3"
    },
    "language_info": {
      "name": "python"
    }
  },
  "cells": [
    {
      "cell_type": "markdown",
      "metadata": {
        "id": "view-in-github",
        "colab_type": "text"
      },
      "source": [
        "<a href=\"https://colab.research.google.com/github/InowaR/colab/blob/main/OOP.ipynb\" target=\"_parent\"><img src=\"https://colab.research.google.com/assets/colab-badge.svg\" alt=\"Open In Colab\"/></a>"
      ]
    },
    {
      "cell_type": "code",
      "execution_count": 5,
      "metadata": {
        "colab": {
          "base_uri": "https://localhost:8080/"
        },
        "id": "D_FIh8qmeFfL",
        "outputId": "d5d049a0-9888-452b-fede-d23840eb8cad"
      },
      "outputs": [
        {
          "output_type": "stream",
          "name": "stdout",
          "text": [
            "10 10\n"
          ]
        }
      ],
      "source": [
        "class Father:\n",
        "    def __init__(self, param):\n",
        "        self.ol = param\n",
        "\n",
        "class Child(Father):\n",
        "    def __init__(self, param):\n",
        "        super().__init__(param)\n",
        "        self.o2 = param\n",
        " \n",
        "obj = Child(10)\n",
        "\n",
        "print(\"%d %d\" % (obj.ol, obj.o2))"
      ]
    }
  ]
}