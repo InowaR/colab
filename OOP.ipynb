{
  "nbformat": 4,
  "nbformat_minor": 0,
  "metadata": {
    "colab": {
      "provenance": [],
      "authorship_tag": "ABX9TyPnBfTi6yVmEoEnKATZ4wBd",
      "include_colab_link": true
    },
    "kernelspec": {
      "name": "python3",
      "display_name": "Python 3"
    },
    "language_info": {
      "name": "python"
    }
  },
  "cells": [
    {
      "cell_type": "markdown",
      "metadata": {
        "id": "view-in-github",
        "colab_type": "text"
      },
      "source": [
        "<a href=\"https://colab.research.google.com/github/InowaR/colab/blob/main/OOP.ipynb\" target=\"_parent\"><img src=\"https://colab.research.google.com/assets/colab-badge.svg\" alt=\"Open In Colab\"/></a>"
      ]
    },
    {
      "cell_type": "code",
      "execution_count": 86,
      "metadata": {
        "colab": {
          "base_uri": "https://localhost:8080/"
        },
        "id": "D_FIh8qmeFfL",
        "outputId": "f783bb06-a0dc-4578-8280-86a3f5be77a4"
      },
      "outputs": [
        {
          "output_type": "stream",
          "name": "stdout",
          "text": [
            "{'number': '9012', 'owner': 'Bob', 'balance': 0}\n"
          ]
        }
      ],
      "source": [
        "accounts = [\n",
        "  {'number': '1234', 'owner': 'John', 'balance': 1000},\n",
        "  {'number': '5678', 'owner': 'Jane', 'balance': 500},\n",
        "  {'number': '9012', 'owner': 'Bob', 'balance': 2000}\n",
        "]\n",
        "\n",
        "def get_account_by_number(number):\n",
        "  i = 0\n",
        "  while i < len(accounts):\n",
        "    for val in accounts[i].values():\n",
        "      if val == number:\n",
        "        return accounts[i]\n",
        "    i += 1\n",
        "\n",
        "def deposit(account, amount):\n",
        "  account['balance'] += amount\n",
        "\n",
        "def withdraw(account, amount):\n",
        "  if account['balance'] >= amount:\n",
        "    account['balance'] -= amount\n",
        "    return True\n",
        "  else:\n",
        "    return False\n",
        "\n",
        "def main():\n",
        "  acc = get_account_by_number('9012')\n",
        "  deposit(acc, 200)\n",
        "  withdraw(acc, 2200)\n",
        "  print(acc)\n",
        "main()"
      ]
    }
  ]
}