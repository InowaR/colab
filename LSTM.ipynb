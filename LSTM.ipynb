{
  "nbformat": 4,
  "nbformat_minor": 0,
  "metadata": {
    "colab": {
      "provenance": [],
      "authorship_tag": "ABX9TyOLoDEfR3gWj82oVjaHYess",
      "include_colab_link": true
    },
    "kernelspec": {
      "name": "python3",
      "display_name": "Python 3"
    },
    "language_info": {
      "name": "python"
    },
    "accelerator": "TPU"
  },
  "cells": [
    {
      "cell_type": "markdown",
      "metadata": {
        "id": "view-in-github",
        "colab_type": "text"
      },
      "source": [
        "<a href=\"https://colab.research.google.com/github/InowaR/colab/blob/main/LSTM.ipynb\" target=\"_parent\"><img src=\"https://colab.research.google.com/assets/colab-badge.svg\" alt=\"Open In Colab\"/></a>"
      ]
    },
    {
      "cell_type": "code",
      "execution_count": 1,
      "metadata": {
        "colab": {
          "base_uri": "https://localhost:8080/"
        },
        "id": "OD02OQOQeRr4",
        "outputId": "f0b18bbd-ce89-4de9-8799-7aa58b16892b"
      },
      "outputs": [
        {
          "output_type": "execute_result",
          "data": {
            "text/plain": [
              "439742"
            ]
          },
          "metadata": {},
          "execution_count": 1
        }
      ],
      "source": [
        "import requests\n",
        "content = requests.get(\"https://raw.githubusercontent.com/amephraim/nlp/master/texts/J.%20K.%20Rowling%20-%20Harry%20Potter%201%20-%20Sorcerer's%20Stone.txt\").text\n",
        "open(\"harry-potter.txt\", \"w\", encoding=\"utf-8\").write(content)"
      ]
    },
    {
      "cell_type": "code",
      "source": [
        "import numpy as np\n",
        "import sys\n",
        "from keras.models import Sequential\n",
        "from keras.layers import Dense, LSTM\n",
        "from keras.optimizers import RMSprop\n",
        "\n",
        "\n",
        "with open('harry-potter.txt', 'r') as data:\n",
        "  text = data.read()\n",
        "\n",
        "# Создаем словарь уникальных символов\n",
        "chars = sorted(list(set(text)))\n",
        "char_indices = dict((c, i) for i, c in enumerate(chars))\n",
        "indices_char = dict((i, c) for i, c in enumerate(chars))\n",
        "\n",
        "# Генерируем обучающие данные и метки\n",
        "maxlen = 40\n",
        "step = 3\n",
        "sentences = []\n",
        "next_chars = []\n",
        "for i in range(0, len(text) - maxlen, step):\n",
        "    sentences.append(text[i: i + maxlen])\n",
        "    next_chars.append(text[i + maxlen])\n",
        "X = np.zeros((len(sentences), maxlen, len(chars)))\n",
        "y = np.zeros((len(sentences), len(chars)))\n",
        "for i, sentence in enumerate(sentences):\n",
        "    for t, char in enumerate(sentence):\n",
        "        X[i, t, char_indices[char]] = 1\n",
        "    y[i, char_indices[next_chars[i]]] = 1\n",
        "\n",
        "\n",
        "model = Sequential()\n",
        "model.add(LSTM(128, input_shape=(maxlen, len(chars))))\n",
        "model.add(Dense(len(chars), activation='softmax'))\n",
        "\n",
        "optimizer = RMSprop(learning_rate=0.01)\n",
        "model.compile(loss='categorical_crossentropy', optimizer=optimizer)\n",
        "model.fit(X, y, batch_size=128, epochs=3)\n",
        "\n",
        "model.save('text_model.keras')"
      ],
      "metadata": {
        "colab": {
          "base_uri": "https://localhost:8080/"
        },
        "id": "S1c0olP-eU4O",
        "outputId": "2be62773-642b-448d-f364-90e3e55a780e"
      },
      "execution_count": 2,
      "outputs": [
        {
          "output_type": "stream",
          "name": "stdout",
          "text": [
            "Epoch 1/3\n",
            "1146/1146 [==============================] - 159s 137ms/step - loss: 2.0858\n",
            "Epoch 2/3\n",
            "1146/1146 [==============================] - 151s 132ms/step - loss: 1.6478\n",
            "Epoch 3/3\n",
            "1146/1146 [==============================] - 156s 136ms/step - loss: 1.5326\n"
          ]
        }
      ]
    },
    {
      "cell_type": "code",
      "source": [
        "model = Sequential()\n",
        "model.add(LSTM(128, input_shape=(maxlen, len(chars))))\n",
        "model.add(Dense(len(chars), activation='softmax'))\n",
        "\n",
        "model.load_weights('text_model.keras')\n",
        "\n",
        "# Генерируем текст с помощью обученной модели\n",
        "start_index = np.random.randint(0, len(text) - maxlen - 1)\n",
        "generated_text = text[start_index: start_index + maxlen]\n",
        "for temperature in [0.2, 0.5, 1.0, 1.2]:\n",
        "    print('----- temperature:', temperature)\n",
        "    sys.stdout.write(generated_text)\n",
        "    for i in range(100):\n",
        "        sampled = np.zeros((1, maxlen, len(chars)))\n",
        "        for t, char in enumerate(generated_text):\n",
        "            sampled[0, t, char_indices[char]] = 1.\n",
        "        preds = model.predict(sampled, verbose=0)[0]\n",
        "        next_index = np.random.choice(len(chars), p=preds)\n",
        "        next_char = indices_char[next_index]\n",
        "        generated_text += next_char\n",
        "        generated_text = generated_text[1:]\n",
        "        sys.stdout.write(next_char)\n",
        "        sys.stdout.flush()\n",
        "    print()"
      ],
      "metadata": {
        "colab": {
          "base_uri": "https://localhost:8080/"
        },
        "id": "fnTaQljdecNL",
        "outputId": "5d289c29-acb6-46dc-a15d-d9d36828e494"
      },
      "execution_count": 3,
      "outputs": [
        {
          "output_type": "stream",
          "name": "stdout",
          "text": [
            "----- temperature: 0.2\n",
            " few things we wanted to ask you, as a marbly by invicomers the opbootts. ' See, on the might\n",
            " HoSw?\"\n",
            "\n",
            "\"Krestrilind himself To\n",
            "persest conce\n",
            "----- temperature: 0.5\n",
            "\"\n",
            "\n",
            "\"Krestrilind himself To\n",
            "persest concected and\n",
            "Derie it Hagord. Harry -- and bless,  none of Hogwarts. Re, in something burs of -- yeact t\n",
            "----- temperature: 1.0\n",
            "rts. Re, in something burs of -- yeact then everyound him. An\n",
            "this wing. saCk.\n",
            "\n",
            "\"I know I coure of, Harry's can andrestod on the\n",
            "gilnon\n",
            "Lo\n",
            "g\n",
            "----- temperature: 1.2\n",
            "Harry's can andrestod on the\n",
            "gilnon\n",
            "Lo\n",
            "go?\"\n",
            "\n",
            "\"Fentwees and Fred hheck back herrectica, -- his liss areiaser to go an warcherly be outside on\n"
          ]
        }
      ]
    }
  ]
}