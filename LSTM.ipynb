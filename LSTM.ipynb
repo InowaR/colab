{
  "nbformat": 4,
  "nbformat_minor": 0,
  "metadata": {
    "colab": {
      "provenance": [],
      "include_colab_link": true
    },
    "kernelspec": {
      "name": "python3",
      "display_name": "Python 3"
    },
    "language_info": {
      "name": "python"
    }
  },
  "cells": [
    {
      "cell_type": "markdown",
      "metadata": {
        "id": "view-in-github",
        "colab_type": "text"
      },
      "source": [
        "<a href=\"https://colab.research.google.com/github/InowaR/colab/blob/main/LSTM.ipynb\" target=\"_parent\"><img src=\"https://colab.research.google.com/assets/colab-badge.svg\" alt=\"Open In Colab\"/></a>"
      ]
    },
    {
      "cell_type": "code",
      "source": [
        "import tensorflow as tf\n",
        "from keras.datasets import imdb\n",
        "from keras.models import Sequential\n",
        "from keras.layers import Embedding, LSTM, Dense\n",
        "from keras.preprocessing.sequence import pad_sequences\n",
        "\n",
        "# Загрузка данных IMDb\n",
        "(x_train, y_train), (x_test, y_test) = imdb.load_data(num_words=10000)\n",
        "\n",
        "print(y_train[0])\n",
        "print(y_train[1])\n",
        "\n",
        "# Преобразование данных в векторы\n",
        "max_length = max([len(x) for x in x_train])\n",
        "x_train = pad_sequences(x_train, maxlen=max_length)\n",
        "x_test = pad_sequences(x_test, maxlen=max_length)\n",
        "\n",
        "print(max_length)\n",
        "print(x_train)"
      ],
      "metadata": {
        "colab": {
          "base_uri": "https://localhost:8080/"
        },
        "id": "S1c0olP-eU4O",
        "outputId": "0af44e97-42a7-4e53-a19e-7ef1e595fc9e"
      },
      "execution_count": 1,
      "outputs": [
        {
          "output_type": "stream",
          "name": "stdout",
          "text": [
            "Downloading data from https://storage.googleapis.com/tensorflow/tf-keras-datasets/imdb.npz\n",
            "17464789/17464789 [==============================] - 0s 0us/step\n",
            "1\n",
            "0\n",
            "2494\n",
            "[[   0    0    0 ...   19  178   32]\n",
            " [   0    0    0 ...   16  145   95]\n",
            " [   0    0    0 ...    7  129  113]\n",
            " ...\n",
            " [   0    0    0 ...    4 3586    2]\n",
            " [   0    0    0 ...   12    9   23]\n",
            " [   0    0    0 ...  204  131    9]]\n"
          ]
        }
      ]
    },
    {
      "cell_type": "code",
      "source": [
        "num_chars = 10000  # Количество уникальных слов\n",
        "embedding_dim = 64  # Размерность встраивания\n",
        "lstm_units = 128  # Количество единиц LSTM"
      ],
      "metadata": {
        "id": "w0pthNK09MJs"
      },
      "execution_count": 2,
      "outputs": []
    },
    {
      "cell_type": "code",
      "source": [
        "model = Sequential()\n",
        "model.add(Embedding(num_chars, embedding_dim, input_length=max_length))\n",
        "model.add(LSTM(lstm_units))\n",
        "model.add(Dense(1, activation='sigmoid'))  # Бинарная классификация (положительный/отрицательный отзыв)"
      ],
      "metadata": {
        "id": "MhNp2ecX9O9B"
      },
      "execution_count": 3,
      "outputs": []
    },
    {
      "cell_type": "code",
      "source": [
        "model.compile(loss='binary_crossentropy', optimizer='adam', metrics=['accuracy'])"
      ],
      "metadata": {
        "id": "Qd6R6p069cnh"
      },
      "execution_count": 4,
      "outputs": []
    },
    {
      "cell_type": "code",
      "source": [
        "model.fit(x_train, y_train, epochs=3, validation_split=0.2)"
      ],
      "metadata": {
        "id": "OpcV1vzE9hya",
        "outputId": "7353a98f-4c9c-47f3-c920-b5709dde4656",
        "colab": {
          "base_uri": "https://localhost:8080/"
        }
      },
      "execution_count": 5,
      "outputs": [
        {
          "output_type": "stream",
          "name": "stdout",
          "text": [
            "Epoch 1/3\n",
            "625/625 [==============================] - 2735s 4s/step - loss: 0.4643 - accuracy: 0.7846 - val_loss: 0.4582 - val_accuracy: 0.7964\n",
            "Epoch 2/3\n",
            "625/625 [==============================] - 2755s 4s/step - loss: 0.3322 - accuracy: 0.8638 - val_loss: 0.3806 - val_accuracy: 0.8398\n",
            "Epoch 3/3\n",
            "625/625 [==============================] - 2767s 4s/step - loss: 0.2561 - accuracy: 0.9021 - val_loss: 0.4171 - val_accuracy: 0.8252\n"
          ]
        },
        {
          "output_type": "execute_result",
          "data": {
            "text/plain": [
              "<keras.src.callbacks.History at 0x798c3e4fbcd0>"
            ]
          },
          "metadata": {},
          "execution_count": 5
        }
      ]
    },
    {
      "cell_type": "code",
      "source": [
        "model.save('model.keras')"
      ],
      "metadata": {
        "id": "wcs3FFmE9qDk"
      },
      "execution_count": 6,
      "outputs": []
    },
    {
      "cell_type": "code",
      "source": [
        "loss, accuracy = model.evaluate(x_test, y_test)\n",
        "print('Тестовая точность:', accuracy)"
      ],
      "metadata": {
        "id": "oFbCumWL9tGC",
        "outputId": "7ee781e2-82b7-428c-eda3-aaa1f41c9d0b",
        "colab": {
          "base_uri": "https://localhost:8080/"
        }
      },
      "execution_count": 7,
      "outputs": [
        {
          "output_type": "stream",
          "name": "stdout",
          "text": [
            "782/782 [==============================] - 993s 1s/step - loss: 0.4273 - accuracy: 0.8208\n",
            "Тестовая точность: 0.8208400011062622\n"
          ]
        }
      ]
    },
    {
      "cell_type": "code",
      "source": [
        "import re\n",
        "\n",
        "def preprocess_text(text):\n",
        "\n",
        "    # Удаление знаков препинания\n",
        "    text = re.sub(r'[^\\w\\s]', '', text)\n",
        "\n",
        "    # Удаление переходов на новую строку\n",
        "    text = text.replace('\\n', ' ')\n",
        "\n",
        "    # Преобразование в строчные буквы\n",
        "    text = text.lower()\n",
        "    return text\n"
      ],
      "metadata": {
        "id": "6CVloz_wbQtf"
      },
      "execution_count": 8,
      "outputs": []
    },
    {
      "cell_type": "code",
      "source": [
        "text = \"\"\"After each occasion when I saw it, I define it as masterpiece. sure, many explanations. but something is real impressive - the plot. the science to explore each emotion, expectation, thrill, characters and end. the performances are more than beautiful. the atmosphere - you feel it . the tension - great good point - it is a film about yourself. about fears, appearances. and that does it a magnificent film. and more. a remarkable masterpiece.\n",
        "\"\"\"\n",
        "\n",
        "new_text = preprocess_text(text)"
      ],
      "metadata": {
        "id": "D3oLiXXRbUNj"
      },
      "execution_count": 9,
      "outputs": []
    },
    {
      "cell_type": "code",
      "source": [
        "import numpy as np\n",
        "\n",
        "\n",
        "def predict(review):\n",
        "    word_index = imdb.get_word_index()\n",
        "\n",
        "    list_index = [[word_index[word] for word in review.split()]]\n",
        "\n",
        "    # Преобразовать отзыв в вектор\n",
        "    new_review_vec = pad_sequences(list_index , maxlen=max_length)\n",
        "\n",
        "    # Сделать прогноз\n",
        "    prediction = model.predict(new_review_vec)\n",
        "\n",
        "    print(prediction)\n",
        "\n",
        "predict(new_text)\n",
        "\n",
        "x1 = [x_train[0]]\n",
        "print(model.predict(np.array(x1)))\n",
        "\n",
        "x2 = [x_train[1]]\n",
        "print(model.predict(np.array(x2)))"
      ],
      "metadata": {
        "id": "S6QN9bTs91sJ",
        "outputId": "97177926-eee7-48fa-b87f-6d273e5375d7",
        "colab": {
          "base_uri": "https://localhost:8080/"
        }
      },
      "execution_count": 10,
      "outputs": [
        {
          "output_type": "stream",
          "name": "stdout",
          "text": [
            "Downloading data from https://storage.googleapis.com/tensorflow/tf-keras-datasets/imdb_word_index.json\n",
            "1641221/1641221 [==============================] - 0s 0us/step\n",
            "1/1 [==============================] - 1s 1s/step\n",
            "[[0.14378855]]\n",
            "1/1 [==============================] - 1s 579ms/step\n",
            "[[0.74895376]]\n",
            "1/1 [==============================] - 0s 325ms/step\n",
            "[[0.02456886]]\n"
          ]
        }
      ]
    }
  ]
}