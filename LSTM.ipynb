{
  "nbformat": 4,
  "nbformat_minor": 0,
  "metadata": {
    "colab": {
      "provenance": [],
      "include_colab_link": true
    },
    "kernelspec": {
      "name": "python3",
      "display_name": "Python 3"
    },
    "language_info": {
      "name": "python"
    }
  },
  "cells": [
    {
      "cell_type": "markdown",
      "metadata": {
        "id": "view-in-github",
        "colab_type": "text"
      },
      "source": [
        "<a href=\"https://colab.research.google.com/github/InowaR/colab/blob/main/LSTM.ipynb\" target=\"_parent\"><img src=\"https://colab.research.google.com/assets/colab-badge.svg\" alt=\"Open In Colab\"/></a>"
      ]
    },
    {
      "cell_type": "code",
      "source": [
        "import tensorflow as tf\n",
        "from keras.datasets import imdb\n",
        "from keras.models import Sequential\n",
        "from keras.layers import Embedding, LSTM, Dense\n",
        "from keras.preprocessing.sequence import pad_sequences\n",
        "\n",
        "# Загрузка данных IMDb\n",
        "(x_train, y_train), (x_test, y_test) = imdb.load_data(num_words=10000)\n",
        "\n",
        "print(y_train[0])\n",
        "print(y_train[1])\n",
        "\n",
        "# Преобразование данных в векторы\n",
        "max_length = max([len(x) for x in x_train])\n",
        "x_train = pad_sequences(x_train, maxlen=max_length)\n",
        "x_test = pad_sequences(x_test, maxlen=max_length)\n",
        "\n",
        "print(max_length)\n",
        "print(x_train)"
      ],
      "metadata": {
        "colab": {
          "base_uri": "https://localhost:8080/"
        },
        "id": "S1c0olP-eU4O",
        "outputId": "7a9ed830-d96e-45f7-ab46-612becebd021"
      },
      "execution_count": 131,
      "outputs": [
        {
          "output_type": "stream",
          "name": "stdout",
          "text": [
            "1\n",
            "0\n",
            "2494\n",
            "[[   0    0    0 ...   19  178   32]\n",
            " [   0    0    0 ...   16  145   95]\n",
            " [   0    0    0 ...    7  129  113]\n",
            " ...\n",
            " [   0    0    0 ...    4 3586    2]\n",
            " [   0    0    0 ...   12    9   23]\n",
            " [   0    0    0 ...  204  131    9]]\n"
          ]
        }
      ]
    },
    {
      "cell_type": "code",
      "source": [
        "num_chars = 10000  # Количество уникальных слов\n",
        "embedding_dim = 64  # Размерность встраивания\n",
        "lstm_units = 128  # Количество единиц LSTM"
      ],
      "metadata": {
        "id": "w0pthNK09MJs"
      },
      "execution_count": 5,
      "outputs": []
    },
    {
      "cell_type": "code",
      "source": [
        "model = Sequential()\n",
        "model.add(Embedding(num_chars, embedding_dim, input_length=max_length))\n",
        "model.add(LSTM(lstm_units))\n",
        "model.add(Dense(1, activation='sigmoid'))  # Бинарная классификация (положительный/отрицательный отзыв)"
      ],
      "metadata": {
        "id": "MhNp2ecX9O9B"
      },
      "execution_count": 6,
      "outputs": []
    },
    {
      "cell_type": "code",
      "source": [
        "model.compile(loss='binary_crossentropy', optimizer='adam', metrics=['accuracy'])"
      ],
      "metadata": {
        "id": "Qd6R6p069cnh"
      },
      "execution_count": 8,
      "outputs": []
    },
    {
      "cell_type": "code",
      "source": [
        "model.fit(x_train, y_train, epochs=1, validation_split=0.2)"
      ],
      "metadata": {
        "id": "OpcV1vzE9hya",
        "outputId": "6c9cf5bc-69af-4a4e-8ac5-f38b043a2bef",
        "colab": {
          "base_uri": "https://localhost:8080/"
        }
      },
      "execution_count": 9,
      "outputs": [
        {
          "output_type": "stream",
          "name": "stdout",
          "text": [
            "625/625 [==============================] - 2359s 4s/step - loss: 0.4471 - accuracy: 0.7875 - val_loss: 0.3595 - val_accuracy: 0.8500\n"
          ]
        },
        {
          "output_type": "execute_result",
          "data": {
            "text/plain": [
              "<keras.src.callbacks.History at 0x7f710b6ef9d0>"
            ]
          },
          "metadata": {},
          "execution_count": 9
        }
      ]
    },
    {
      "cell_type": "code",
      "source": [
        "model.save('model.keras')"
      ],
      "metadata": {
        "id": "wcs3FFmE9qDk"
      },
      "execution_count": 10,
      "outputs": []
    },
    {
      "cell_type": "code",
      "source": [
        "loss, accuracy = model.evaluate(x_test, y_test)\n",
        "print('Тестовая точность:', accuracy)"
      ],
      "metadata": {
        "id": "oFbCumWL9tGC",
        "outputId": "91836254-2522-4516-8d00-f73a85c28561",
        "colab": {
          "base_uri": "https://localhost:8080/"
        }
      },
      "execution_count": 11,
      "outputs": [
        {
          "output_type": "stream",
          "name": "stdout",
          "text": [
            "782/782 [==============================] - 840s 1s/step - loss: 0.3634 - accuracy: 0.8446\n",
            "Тестовая точность: 0.8445600271224976\n"
          ]
        }
      ]
    },
    {
      "cell_type": "code",
      "source": [
        "import re\n",
        "\n",
        "def preprocess_text(text):\n",
        "\n",
        "    # Удаление знаков препинания\n",
        "    text = re.sub(r'[^\\w\\s]', '', text)\n",
        "\n",
        "    # Удаление переходов на новую строку\n",
        "    text = text.replace('\\n', ' ')\n",
        "\n",
        "    # Преобразование в строчные буквы\n",
        "    text = text.lower()\n",
        "    return text\n",
        ""
      ],
      "metadata": {
        "id": "6CVloz_wbQtf"
      },
      "execution_count": 114,
      "outputs": []
    },
    {
      "cell_type": "code",
      "source": [
        "text = \"\"\"After each occasion when I saw it, I define it as masterpiece. sure, many explanations. but something is real impressive - the plot. the science to explore each emotion, expectation, thrill, characters and end. the performances are more than beautiful. the atmosphere - you feel it . the tension - great good point - it is a film about yourself. about fears, appearances. and that does it a magnificent film. and more. a remarkable masterpiece.\n",
        "\"\"\"\n",
        "\n",
        "new_text = preprocess_text(text)"
      ],
      "metadata": {
        "id": "D3oLiXXRbUNj"
      },
      "execution_count": 112,
      "outputs": []
    },
    {
      "cell_type": "code",
      "source": [
        "import numpy as np\n",
        "\n",
        "\n",
        "def predict(review):\n",
        "    word_index = imdb.get_word_index()\n",
        "\n",
        "    list_index = [[word_index[word] for word in review.split()]]\n",
        "\n",
        "    # Преобразовать отзыв в вектор\n",
        "    new_review_vec = pad_sequences(list_index , maxlen=max_length)\n",
        "\n",
        "    # Сделать прогноз\n",
        "    prediction = model.predict(new_review_vec)\n",
        "\n",
        "    print(prediction)\n",
        "\n",
        "predict(new_text)\n",
        "\n",
        "x1 = [x_train[0]]\n",
        "print(model.predict(np.array(x1)))\n",
        "\n",
        "x2 = [x_train[1]]\n",
        "print(model.predict(np.array(x2)))"
      ],
      "metadata": {
        "id": "S6QN9bTs91sJ",
        "outputId": "253a52b9-3231-4fa3-f3b4-8fb9fcb64597",
        "colab": {
          "base_uri": "https://localhost:8080/"
        }
      },
      "execution_count": 130,
      "outputs": [
        {
          "output_type": "stream",
          "name": "stdout",
          "text": [
            "1/1 [==============================] - 1s 524ms/step\n",
            "[[0.23834185]]\n",
            "1/1 [==============================] - 1s 602ms/step\n",
            "[[0.9568325]]\n",
            "1/1 [==============================] - 1s 640ms/step\n",
            "[[0.0391906]]\n"
          ]
        }
      ]
    }
  ]
}