{
  "nbformat": 4,
  "nbformat_minor": 0,
  "metadata": {
    "colab": {
      "provenance": [],
      "authorship_tag": "ABX9TyO8V14vBjl9om3K5ZeYp8tp",
      "include_colab_link": true
    },
    "kernelspec": {
      "name": "python3",
      "display_name": "Python 3"
    },
    "language_info": {
      "name": "python"
    }
  },
  "cells": [
    {
      "cell_type": "markdown",
      "metadata": {
        "id": "view-in-github",
        "colab_type": "text"
      },
      "source": [
        "<a href=\"https://colab.research.google.com/github/InowaR/colab/blob/main/spiral.ipynb\" target=\"_parent\"><img src=\"https://colab.research.google.com/assets/colab-badge.svg\" alt=\"Open In Colab\"/></a>"
      ]
    },
    {
      "cell_type": "code",
      "execution_count": 289,
      "metadata": {
        "colab": {
          "base_uri": "https://localhost:8080/"
        },
        "id": "3ofuA9UaiDx_",
        "outputId": "515c261e-f962-47bd-824b-ccdb377ba65c"
      },
      "outputs": [
        {
          "output_type": "stream",
          "name": "stdout",
          "text": [
            "[0, 0, 0, 0, 0, 0]\n",
            "[0, 0, 0, 0, 0, 0]\n",
            "[0, 0, 0, 0, 0, 0]\n",
            "[0, 0, 0, 0, 0, 0]\n",
            "[0, 0, 0, 0, 0, 0]\n",
            "[0, 0, 0, 0, 0, 0]\n",
            "\n",
            "\n",
            "1\t2\t3\t4\t5\t6\t\n",
            "\n",
            "20\t18\t19\t20\t21\t7\t\n",
            "\n",
            "19\t0\t0\t0\t0\t8\t\n",
            "\n",
            "18\t0\t0\t0\t0\t9\t\n",
            "\n",
            "17\t0\t0\t0\t0\t10\t\n",
            "\n",
            "16\t15\t14\t13\t12\t11\t\n",
            "\n"
          ]
        }
      ],
      "source": [
        "a = [[0,0,0,0,0,0],[0,0,0,0,0,0],[0,0,0,0,0,0],[0,0,0,0,0,0],[0,0,0,0,0,0],[0,0,0,0,0,0]]\n",
        "for count in a : print(count)\n",
        "\n",
        "\n",
        "def right(num, i, j):\n",
        "  try:\n",
        "    while i < 100:\n",
        "      if a[i][j] != 0: break\n",
        "      a[i][j] = num;num+=1\n",
        "      j+=1\n",
        "  except IndexError:\n",
        "    print(\"\")\n",
        "\n",
        "\n",
        "def down(num, i, j):\n",
        "  try:\n",
        "    while i < 100:\n",
        "      if a[i][j] != 0: break\n",
        "      a[i][j] = num;num+=1\n",
        "      i+=1\n",
        "  except IndexError:\n",
        "    print(\"\")\n",
        "\n",
        "\n",
        "def left(num, i, j):\n",
        "  try:\n",
        "    while i < 100:\n",
        "      if a[i][j] != 0: break\n",
        "      a[i][j] = num;num+=1\n",
        "      j-=1\n",
        "  except IndexError:\n",
        "    print(\"\")\n",
        "\n",
        "\n",
        "def up(num, i, j):\n",
        "  try:\n",
        "    while i < 100:\n",
        "      if a[i][j] != 0: break\n",
        "      a[i][j] = num;num+=1\n",
        "      i-=1\n",
        "  except IndexError:\n",
        "    print(\"\")\n",
        "\n",
        "\n",
        "right(1, 0, 0)\n",
        "down(7, 1, 5)\n",
        "left(12, 5, 4)\n",
        "up(17, 4, 0)\n",
        "right(18, 1, 1)\n",
        "\n",
        "for n in a :\n",
        "  for b in n:\n",
        "    print(b, end = \"\\t\")\n",
        "  print(\"\\n\")"
      ]
    }
  ]
}