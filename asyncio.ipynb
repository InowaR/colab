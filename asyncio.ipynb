{
  "nbformat": 4,
  "nbformat_minor": 0,
  "metadata": {
    "colab": {
      "provenance": [],
      "authorship_tag": "ABX9TyOhKuS0OY5QwKyfybd1cubx",
      "include_colab_link": true
    },
    "kernelspec": {
      "name": "python3",
      "display_name": "Python 3"
    },
    "language_info": {
      "name": "python"
    }
  },
  "cells": [
    {
      "cell_type": "markdown",
      "metadata": {
        "id": "view-in-github",
        "colab_type": "text"
      },
      "source": [
        "<a href=\"https://colab.research.google.com/github/InowaR/colab/blob/main/asyncio.ipynb\" target=\"_parent\"><img src=\"https://colab.research.google.com/assets/colab-badge.svg\" alt=\"Open In Colab\"/></a>"
      ]
    },
    {
      "cell_type": "code",
      "execution_count": 14,
      "metadata": {
        "colab": {
          "base_uri": "https://localhost:8080/"
        },
        "id": "Grri3EYF5FRG",
        "outputId": "43a8c448-92e3-4b6b-9706-130e0828aced"
      },
      "outputs": [
        {
          "output_type": "stream",
          "name": "stdout",
          "text": [
            "start func1\n",
            "start func2\n",
            "start func3\n",
            "start func4\n",
            "func3 завершена\n",
            "func4 завершена\n",
            "hello from file\n",
            "func2 завершена\n",
            "4950\n",
            "func1 завершена\n"
          ]
        }
      ],
      "source": [
        "import asyncio\n",
        "import time\n",
        "import nest_asyncio\n",
        "nest_asyncio.apply()\n",
        "\n",
        "async def func1():\n",
        "  print(\"start func1\")\n",
        "  await asyncio.sleep(3)\n",
        "  print(sum([i for i in range(100)]))\n",
        "  print('func1 завершена')\n",
        "\n",
        "\n",
        "async def func2():\n",
        "  print(\"start func2\")\n",
        "  await asyncio.sleep(2)\n",
        "  with open('file1.txt', 'r') as txt:\n",
        "    print(txt.read())\n",
        "  print('func2 завершена')\n",
        "\n",
        "async def func3():\n",
        "  print(\"start func3\")\n",
        "  await asyncio.sleep(1)\n",
        "  print('func3 завершена')\n",
        "\n",
        "\n",
        "async def func4():\n",
        "  print(\"start func4\")\n",
        "  await asyncio.sleep(1)\n",
        "  print('func4 завершена')\n",
        "\n",
        "async def main():\n",
        "  task1 = asyncio.create_task(func1())\n",
        "  task2 = asyncio.create_task(func2())\n",
        "  task3 = asyncio.create_task(func3())\n",
        "  task4 = asyncio.create_task(func4())\n",
        "  await task1\n",
        "  await task2\n",
        "  await task3\n",
        "  await task4\n",
        "\n",
        "\n",
        "asyncio.run(main())"
      ]
    }
  ]
}