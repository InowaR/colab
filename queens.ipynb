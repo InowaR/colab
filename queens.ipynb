{
  "nbformat": 4,
  "nbformat_minor": 0,
  "metadata": {
    "colab": {
      "provenance": [],
      "authorship_tag": "ABX9TyNeHgkYNw4CenTa3eEFl0mE",
      "include_colab_link": true
    },
    "kernelspec": {
      "name": "python3",
      "display_name": "Python 3"
    },
    "language_info": {
      "name": "python"
    }
  },
  "cells": [
    {
      "cell_type": "markdown",
      "metadata": {
        "id": "view-in-github",
        "colab_type": "text"
      },
      "source": [
        "<a href=\"https://colab.research.google.com/github/InowaR/colab/blob/main/queens.ipynb\" target=\"_parent\"><img src=\"https://colab.research.google.com/assets/colab-badge.svg\" alt=\"Open In Colab\"/></a>"
      ]
    },
    {
      "cell_type": "code",
      "source": [
        "import numpy as np\n",
        "\n",
        "a = np.zeros((3,3))\n",
        "\n",
        "a[0,0] = 1\n",
        "a[1,2] = 1\n",
        "\n",
        "print(a)\n",
        "print('------------')\n",
        "\n",
        "queens = [(0,0), (1,2)]\n",
        "\n",
        "def is_attacking(q1: tuple, q2: tuple):\n",
        "    x1, y1 = map(int, q1)\n",
        "    x2, y2 = map(int, q2)\n",
        "    if (x1 == x2) or (y1 == y2) or (abs(x1 - x2) == abs(y1 - y2)):\n",
        "        print(True)\n",
        "    else:\n",
        "        print(False)\n",
        "\n",
        "def check_queens(queens: list):\n",
        "    for i in range(len(queens)-1):\n",
        "        for j in range(i+1, len(queens)):\n",
        "            is_attacking(queens[i], queens[j])\n",
        "\n",
        "check_queens(queens)"
      ],
      "metadata": {
        "colab": {
          "base_uri": "https://localhost:8080/"
        },
        "id": "VjgSd7xo62nR",
        "outputId": "8558a7bf-63aa-41e2-c1a7-b63312d1136c"
      },
      "execution_count": 25,
      "outputs": [
        {
          "output_type": "stream",
          "name": "stdout",
          "text": [
            "[[1. 0. 0.]\n",
            " [0. 0. 1.]\n",
            " [0. 0. 0.]]\n",
            "------------\n",
            "False\n"
          ]
        }
      ]
    }
  ]
}