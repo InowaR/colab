{
  "nbformat": 4,
  "nbformat_minor": 0,
  "metadata": {
    "colab": {
      "provenance": [],
      "authorship_tag": "ABX9TyO834cSrp5taBI7Y3HXttKz",
      "include_colab_link": true
    },
    "kernelspec": {
      "name": "python3",
      "display_name": "Python 3"
    },
    "language_info": {
      "name": "python"
    }
  },
  "cells": [
    {
      "cell_type": "markdown",
      "metadata": {
        "id": "view-in-github",
        "colab_type": "text"
      },
      "source": [
        "<a href=\"https://colab.research.google.com/github/InowaR/colab/blob/main/random_simulate.ipynb\" target=\"_parent\"><img src=\"https://colab.research.google.com/assets/colab-badge.svg\" alt=\"Open In Colab\"/></a>"
      ]
    },
    {
      "cell_type": "code",
      "execution_count": null,
      "metadata": {
        "colab": {
          "base_uri": "https://localhost:8080/"
        },
        "id": "_f2qGTjbZVzE",
        "outputId": "223599a1-bf4c-4a48-d7c8-de39a6804de1"
      },
      "outputs": [
        {
          "output_type": "stream",
          "name": "stdout",
          "text": [
            "Вероятность выпадения красного: 0.3333 (теоретическая: 2/6 ≈ 0.3333)\n",
            "Вероятность выпадения зеленого: 0.4995 (теоретическая: 3/6 = 0.5000)\n",
            "Вероятность выпадения синего: 0.1672 (теоретическая: 1/6 ≈ 0.1667)\n"
          ]
        }
      ],
      "source": [
        "import random\n",
        "from collections import defaultdict\n",
        "\n",
        "def simulate_dice_rolls(num_rolls):\n",
        "    # Грани кубика: 0-1 - красные, 2-4 - зеленые, 5 - синяя\n",
        "    dice_faces = ['red'] * 2 + ['green'] * 3 + ['blue'] * 1\n",
        "    color_counts = defaultdict(int)\n",
        "\n",
        "    for _ in range(num_rolls):\n",
        "        result = random.choice(dice_faces)\n",
        "        color_counts[result] += 1\n",
        "\n",
        "    return color_counts\n",
        "\n",
        "# Количество бросков\n",
        "num_rolls = 100000\n",
        "\n",
        "# Симуляция\n",
        "counts = simulate_dice_rolls(num_rolls)\n",
        "\n",
        "# Вычисление вероятностей\n",
        "prob_red = counts['red'] / num_rolls\n",
        "prob_green = counts['green'] / num_rolls\n",
        "prob_blue = counts['blue'] / num_rolls\n",
        "\n",
        "# Вывод результатов\n",
        "print(f\"Вероятность выпадения красного: {prob_red:.4f} (теоретическая: 2/6 ≈ 0.3333)\")\n",
        "print(f\"Вероятность выпадения зеленого: {prob_green:.4f} (теоретическая: 3/6 = 0.5000)\")\n",
        "print(f\"Вероятность выпадения синего: {prob_blue:.4f} (теоретическая: 1/6 ≈ 0.1667)\")"
      ]
    },
    {
      "cell_type": "code",
      "source": [
        "import random\n",
        "from collections import defaultdict\n",
        "\n",
        "def simulate_match(p1_wins_needed, p2_wins_needed, num_simulations=100000):\n",
        "    p1_victories = 0\n",
        "    p2_victories = 0\n",
        "\n",
        "    for _ in range(num_simulations):\n",
        "        p1 = p1_wins_needed  # текущие победы 1-го игрока (5)\n",
        "        p2 = p2_wins_needed  # текущие победы 2-го игрока (3)\n",
        "\n",
        "        while True:\n",
        "            # Предполагаем равную вероятность победы в каждом поединке\n",
        "            if random.random() < 0.5:\n",
        "                p1 += 1\n",
        "            else:\n",
        "                p2 += 1\n",
        "\n",
        "            # Проверяем условия победы в матче\n",
        "            if p1 >= 6:\n",
        "                p1_victories += 1\n",
        "                break\n",
        "            if p2 >= 6:\n",
        "                p2_victories += 1\n",
        "                break\n",
        "\n",
        "    prob_p1 = p1_victories / num_simulations\n",
        "    prob_p2 = p2_victories / num_simulations\n",
        "\n",
        "    return prob_p1, prob_p2\n",
        "\n",
        "# Текущий счет: 5-3 (1-му игроку нужно 1 победа, 2-му - 3)\n",
        "p1_prob, p2_prob = simulate_match(5, 3)\n",
        "\n",
        "print(f\"Вероятность победы 1-го игрока: {p1_prob:.4f} (теоретическая: 1 - (1/2)^3 = 0.875)\")\n",
        "print(f\"Вероятность победы 2-го игрока: {p2_prob:.4f} (теоретическая: (1/2)^3 = 0.125)\")"
      ],
      "metadata": {
        "colab": {
          "base_uri": "https://localhost:8080/"
        },
        "id": "wxKDUn00aeVl",
        "outputId": "f6af0eea-0f44-4af9-e6ec-a9bd4d0181de"
      },
      "execution_count": 5,
      "outputs": [
        {
          "output_type": "stream",
          "name": "stdout",
          "text": [
            "Вероятность победы 1-го игрока: 0.8758 (теоретическая: 1 - (1/2)^3 = 0.875)\n",
            "Вероятность победы 2-го игрока: 0.1242 (теоретическая: (1/2)^3 = 0.125)\n"
          ]
        }
      ]
    }
  ]
}