{
  "nbformat": 4,
  "nbformat_minor": 0,
  "metadata": {
    "colab": {
      "provenance": [],
      "authorship_tag": "ABX9TyPi58Tci9XF3XazB8UQ0Cg3",
      "include_colab_link": true
    },
    "kernelspec": {
      "name": "python3",
      "display_name": "Python 3"
    },
    "language_info": {
      "name": "python"
    }
  },
  "cells": [
    {
      "cell_type": "markdown",
      "metadata": {
        "id": "view-in-github",
        "colab_type": "text"
      },
      "source": [
        "<a href=\"https://colab.research.google.com/github/InowaR/colab/blob/main/SVD_method_map.ipynb\" target=\"_parent\"><img src=\"https://colab.research.google.com/assets/colab-badge.svg\" alt=\"Open In Colab\"/></a>"
      ]
    },
    {
      "cell_type": "code",
      "source": [
        "import numpy as np\n",
        "\n",
        "matrix1 = np.array([\n",
        "    [0, 0, 0, 0, 0],\n",
        "    [0, 1, 1, 0, 0],\n",
        "    [0, 1, 1, 0, 0],\n",
        "    [0, 0, 0, 0, 0],\n",
        "    [0, 0, 0, 0, 0]\n",
        "], dtype=np.float32)\n",
        "\n",
        "matrix2 = np.array([\n",
        "    [0, 0, 0, 0, 0],\n",
        "    [0, 0, 0, 0, 0],\n",
        "    [0, 0, 1, 1, 0],\n",
        "    [0, 0, 1, 1, 0],\n",
        "    [0, 0, 0, 0, 0]\n",
        "], dtype=np.float32)\n",
        "\n",
        "def estimate_affine_transform_svd(src, dst):\n",
        "    \"\"\"\n",
        "    Определяет аффинное преобразование между двумя изображениями с помощью SVD\n",
        "    Возвращает смещение (tx, ty)\n",
        "    \"\"\"\n",
        "    # Находим координаты ненулевых пикселей\n",
        "    src_points = np.column_stack(np.where(src > 0))\n",
        "    dst_points = np.column_stack(np.where(dst > 0))\n",
        "\n",
        "    if len(src_points) < 3 or len(dst_points) < 3:\n",
        "        return 0, 0\n",
        "\n",
        "    # Центрируем точки\n",
        "    src_center = np.mean(src_points, axis=0)\n",
        "    dst_center = np.mean(dst_points, axis=0)\n",
        "\n",
        "    src_centered = src_points - src_center\n",
        "    dst_centered = dst_points - dst_center\n",
        "\n",
        "    # Вычисляем матрицу ковариации\n",
        "    H = src_centered.T @ dst_centered\n",
        "\n",
        "    # SVD разложение\n",
        "    U, S, Vt = np.linalg.svd(H)\n",
        "\n",
        "    # Матрица поворота\n",
        "    R = Vt.T @ U.T\n",
        "\n",
        "    # Вычисляем смещение\n",
        "    t = dst_center - R @ src_center\n",
        "\n",
        "    return t[1], t[0]  # возвращаем (x, y)\n",
        "\n",
        "# Определяем смещение\n",
        "shift_x, shift_y = estimate_affine_transform_svd(matrix1, matrix2)\n",
        "print(f\"SVD метод: смещение x={shift_x:.1f}, y={shift_y:.1f}\")"
      ],
      "metadata": {
        "colab": {
          "base_uri": "https://localhost:8080/"
        },
        "id": "g_NIsyg2cEws",
        "outputId": "e47a4e68-c6d8-4b4d-83c9-0537bafe0138"
      },
      "execution_count": 73,
      "outputs": [
        {
          "output_type": "stream",
          "name": "stdout",
          "text": [
            "SVD метод: смещение x=1.0, y=1.0\n"
          ]
        }
      ]
    },
    {
      "cell_type": "code",
      "source": [
        "import numpy as np\n",
        "\n",
        "def estimate_rotation_svd_fixed(src, dst):\n",
        "    \"\"\"\n",
        "    Исправленный SVD метод для определения угла поворота\n",
        "    \"\"\"\n",
        "    # Находим координаты ненулевых пикселей\n",
        "    src_points = np.column_stack(np.where(src > 0))\n",
        "    dst_points = np.column_stack(np.where(dst > 0))\n",
        "\n",
        "    # Выравниваем количество точек (берем минимум из двух)\n",
        "    min_points = min(len(src_points), len(dst_points))\n",
        "    if min_points < 3:\n",
        "        return 0\n",
        "\n",
        "    src_points = src_points[:min_points]\n",
        "    dst_points = dst_points[:min_points]\n",
        "\n",
        "    # Центрируем точки\n",
        "    src_center = np.mean(src_points, axis=0)\n",
        "    dst_center = np.mean(dst_points, axis=0)\n",
        "\n",
        "    src_centered = src_points - src_center\n",
        "    dst_centered = dst_points - dst_center\n",
        "\n",
        "    # Вычисляем матрицу ковариации\n",
        "    H = src_centered.T @ dst_centered\n",
        "\n",
        "    # SVD разложение\n",
        "    U, S, Vt = np.linalg.svd(H)\n",
        "\n",
        "    # Матрица поворота\n",
        "    R = Vt.T @ U.T\n",
        "\n",
        "    # Убеждаемся, что нет отражения\n",
        "    if np.linalg.det(R) < 0:\n",
        "        Vt[-1, :] *= -1\n",
        "        R = Vt.T @ U.T\n",
        "\n",
        "    # Извлекаем угол из матрицы поворота\n",
        "    angle = np.arctan2(R[1, 0], R[0, 0])\n",
        "\n",
        "    return np.degrees(angle)\n",
        "\n",
        "# Тестовые данные\n",
        "matrix1 = np.array([\n",
        "    [0, 0, 0, 0, 0],\n",
        "    [0, 1, 1, 1, 0],\n",
        "    [0, 1, 1, 1, 0],\n",
        "    [0, 1, 1, 1, 0],\n",
        "    [0, 0, 0, 0, 0]\n",
        "], dtype=np.float32)\n",
        "\n",
        "matrix_rotated = np.array([\n",
        "    [0, 0, 0, 0, 0],\n",
        "    [0, 1, 1, 1, 0],\n",
        "    [0, 1, 1, 1, 0],\n",
        "    [0, 1, 1, 1, 0],\n",
        "    [0, 0, 0, 0, 0]\n",
        "], dtype=np.float32)\n",
        "\n",
        "angle = estimate_rotation_svd_fixed(matrix1, matrix_rotated)\n",
        "print(f\"SVD метод: угол = {angle:.1f}°\")"
      ],
      "metadata": {
        "colab": {
          "base_uri": "https://localhost:8080/"
        },
        "id": "ho6KQD07crPW",
        "outputId": "df84947d-e2df-418b-885b-1d927b907935"
      },
      "execution_count": 72,
      "outputs": [
        {
          "output_type": "stream",
          "name": "stdout",
          "text": [
            "SVD метод: угол = 0.0°\n"
          ]
        }
      ]
    }
  ]
}