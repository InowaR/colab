{
  "nbformat": 4,
  "nbformat_minor": 0,
  "metadata": {
    "colab": {
      "provenance": [],
      "authorship_tag": "ABX9TyNiQF2hWD8umqcX1Y2JXgP5",
      "include_colab_link": true
    },
    "kernelspec": {
      "name": "python3",
      "display_name": "Python 3"
    },
    "language_info": {
      "name": "python"
    }
  },
  "cells": [
    {
      "cell_type": "markdown",
      "metadata": {
        "id": "view-in-github",
        "colab_type": "text"
      },
      "source": [
        "<a href=\"https://colab.research.google.com/github/InowaR/colab/blob/main/linear_perceptron.ipynb\" target=\"_parent\"><img src=\"https://colab.research.google.com/assets/colab-badge.svg\" alt=\"Open In Colab\"/></a>"
      ]
    },
    {
      "cell_type": "code",
      "execution_count": 23,
      "metadata": {
        "colab": {
          "base_uri": "https://localhost:8080/"
        },
        "id": "EheG3bfnDt0I",
        "outputId": "908b58c5-a7b3-4f9b-cdc6-d04e2e7e2d0d"
      },
      "outputs": [
        {
          "output_type": "stream",
          "name": "stdout",
          "text": [
            "Точность: tensor(0.7500)\n"
          ]
        }
      ],
      "source": [
        "import torch\n",
        "from torch import nn\n",
        "\n",
        "# Создаем класс перцептрона\n",
        "class Perceptron(nn.Module):\n",
        "    def __init__(self, input_size, output_size):\n",
        "        super(Perceptron, self).__init__()\n",
        "        # Создаем слой линейной регрессии\n",
        "        self.linear = nn.Linear(input_size, output_size)\n",
        "\n",
        "    def forward(self, x):\n",
        "        # Вычисляем выход перцептрона\n",
        "        return self.linear(x.float())\n",
        "\n",
        "# Создаем обучающую выборку\n",
        "x_train = torch.tensor([[1, 1], [1, 0], [0, 1], [0, 0]], dtype=torch.float)\n",
        "y_train = torch.tensor([1, 0, 0, 0], dtype=torch.float)\n",
        "\n",
        "# Создаем перцептрон\n",
        "perceptron = Perceptron(2, 1)\n",
        "\n",
        "# Выбираем оптимизатор\n",
        "optimizer = torch.optim.SGD(perceptron.parameters(), lr=0.01)\n",
        "\n",
        "# Запускаем цикл обучения\n",
        "for epoch in range(100):\n",
        "    # Передаем входные данные и целевые значения в перцептрон\n",
        "    output = perceptron(x_train)\n",
        "\n",
        "    # Рассчитываем ошибку\n",
        "    loss = torch.mean((output - y_train)**2)\n",
        "\n",
        "    # Обновляем параметры перцептрона\n",
        "    optimizer.zero_grad()\n",
        "    loss.backward()\n",
        "    optimizer.step()\n",
        "\n",
        "# Оцениваем точность перцептрона на тестовой выборке\n",
        "x_test = torch.tensor([[1, 1], [1, 0], [0, 1], [0, 0]], dtype=torch.float)\n",
        "y_test = torch.tensor([1, 0, 0, 0], dtype=torch.float)\n",
        "predictions = perceptron(x_test)\n",
        "correct = predictions.argmax(dim=1) == y_test\n",
        "accuracy = correct.float().mean()\n",
        "print(\"Точность:\", accuracy)"
      ]
    }
  ]
}