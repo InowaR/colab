{
  "nbformat": 4,
  "nbformat_minor": 0,
  "metadata": {
    "colab": {
      "provenance": [],
      "authorship_tag": "ABX9TyPrkggAryY00HTvqOvlC5gC",
      "include_colab_link": true
    },
    "kernelspec": {
      "name": "python3",
      "display_name": "Python 3"
    },
    "language_info": {
      "name": "python"
    }
  },
  "cells": [
    {
      "cell_type": "markdown",
      "metadata": {
        "id": "view-in-github",
        "colab_type": "text"
      },
      "source": [
        "<a href=\"https://colab.research.google.com/github/InowaR/colab/blob/main/simple_sigmoid.ipynb\" target=\"_parent\"><img src=\"https://colab.research.google.com/assets/colab-badge.svg\" alt=\"Open In Colab\"/></a>"
      ]
    },
    {
      "cell_type": "code",
      "source": [
        "import numpy as np\n",
        "\n",
        "def sigmoid(x):\n",
        "    return 1 / (1 + np.exp(-x))\n",
        "\n",
        "def func(A, B, C, D, training_inputs, training_outputs):\n",
        "    weights = A * np.random.random((2, 2)) + B\n",
        "    for i in range(C):\n",
        "        outputs = sigmoid(np.dot(training_inputs, weights))\n",
        "        adjustments = np.dot(training_inputs.T, (training_outputs - outputs) * outputs)\n",
        "        weights += D * adjustments\n",
        "    return weights\n",
        "\n",
        "def find_best_coefficients(training_inputs, training_outputs):\n",
        "    best_error = np.inf\n",
        "    best_A, best_B, best_C, best_D = None, None, None, None\n",
        "    for A in range(-11, 11):\n",
        "        for B in range(-11, 11):\n",
        "            for C in range(1, 11):\n",
        "                for D in range(-11, 11):\n",
        "                    weights = func(A, B, C, D, training_inputs, training_outputs)\n",
        "                    error = np.sum(np.square(training_outputs - sigmoid(np.dot(training_inputs, weights))))\n",
        "                    if error < best_error:\n",
        "                        best_error = error\n",
        "                        best_A, best_B, best_C, best_D = A, B, C, D\n",
        "    return best_A, best_B, best_C, best_D\n",
        "\n",
        "training_inputs = np.array([[0, 1], [1, 0]])\n",
        "training_outputs = np.array([[0, 0], [1, 1]])\n",
        "\n",
        "A, B, C, D = find_best_coefficients(training_inputs, training_outputs)\n",
        "print(A, B, C, D)\n",
        "\n",
        "weights = func(A, B, C, D, training_inputs, training_outputs)\n",
        "\n",
        "\n",
        "print(sigmoid(np.dot(np.array([[0, 1]]), weights)))\n",
        "print(sigmoid(np.dot(np.array([[1, 0]]), weights)))"
      ],
      "metadata": {
        "id": "yKjA61-dKDJg",
        "outputId": "25159eb7-865b-4be9-dfaf-10453506a860",
        "colab": {
          "base_uri": "https://localhost:8080/"
        }
      },
      "execution_count": 166,
      "outputs": [
        {
          "output_type": "stream",
          "name": "stdout",
          "text": [
            "8 10 3 10\n",
            "[[0.00274399 0.00228704]]\n",
            "[[0.99999998 0.99999442]]\n"
          ]
        }
      ]
    }
  ]
}