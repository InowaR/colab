{
  "nbformat": 4,
  "nbformat_minor": 0,
  "metadata": {
    "colab": {
      "provenance": [],
      "authorship_tag": "ABX9TyM6ltysUo759uBC1XhKXwa2",
      "include_colab_link": true
    },
    "kernelspec": {
      "name": "python3",
      "display_name": "Python 3"
    },
    "language_info": {
      "name": "python"
    }
  },
  "cells": [
    {
      "cell_type": "markdown",
      "metadata": {
        "id": "view-in-github",
        "colab_type": "text"
      },
      "source": [
        "<a href=\"https://colab.research.google.com/github/InowaR/colab/blob/main/simple_sigmoid.ipynb\" target=\"_parent\"><img src=\"https://colab.research.google.com/assets/colab-badge.svg\" alt=\"Open In Colab\"/></a>"
      ]
    },
    {
      "cell_type": "code",
      "execution_count": 9,
      "metadata": {
        "colab": {
          "base_uri": "https://localhost:8080/"
        },
        "id": "HGMCxWS1ylcI",
        "outputId": "643c340b-ad08-4ef7-a574-0b6c21e4bf3a"
      },
      "outputs": [
        {
          "output_type": "stream",
          "name": "stdout",
          "text": [
            "[[ 6.92867481  6.91955334]\n",
            " [-3.77721199 -3.78296686]]\n",
            "[[0.02237434 0.02224881]]\n",
            "[[0.99902166 0.9990127 ]]\n"
          ]
        }
      ],
      "source": [
        "import numpy as np\n",
        "\n",
        "def sigmoid(x):\n",
        "    return 1 / (1 + np.exp(-x))\n",
        "\n",
        "training_inputs = np.array([[0,1], [1,0]])\n",
        "training_outputs = np.array([[0,0],[1,1]])\n",
        "\n",
        "weights = 2 * np.random.random((2,2)) - 1\n",
        "\n",
        "for i in range(100):\n",
        "    input_layer = training_inputs\n",
        "    outputs = sigmoid(np.dot(input_layer, weights))\n",
        "    error = training_outputs - outputs\n",
        "    adjustments = np.dot(input_layer.T, error * (outputs))\n",
        "    weights += 10*adjustments\n",
        "\n",
        "print(weights)\n",
        "\n",
        "print(sigmoid(np.dot(np.array([[0,1]]), weights)))\n",
        "print(sigmoid(np.dot(np.array([[1,0]]), weights)))"
      ]
    }
  ]
}