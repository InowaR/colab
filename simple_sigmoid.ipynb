{
  "nbformat": 4,
  "nbformat_minor": 0,
  "metadata": {
    "colab": {
      "provenance": [],
      "authorship_tag": "ABX9TyN3/wXzCRA9ZMTamGSCXBbA",
      "include_colab_link": true
    },
    "kernelspec": {
      "name": "python3",
      "display_name": "Python 3"
    },
    "language_info": {
      "name": "python"
    }
  },
  "cells": [
    {
      "cell_type": "markdown",
      "metadata": {
        "id": "view-in-github",
        "colab_type": "text"
      },
      "source": [
        "<a href=\"https://colab.research.google.com/github/InowaR/colab/blob/main/simple_sigmoid.ipynb\" target=\"_parent\"><img src=\"https://colab.research.google.com/assets/colab-badge.svg\" alt=\"Open In Colab\"/></a>"
      ]
    },
    {
      "cell_type": "code",
      "execution_count": 228,
      "metadata": {
        "colab": {
          "base_uri": "https://localhost:8080/"
        },
        "id": "HGMCxWS1ylcI",
        "outputId": "fcea3d26-0f4d-4e98-9669-cc441459f8d1"
      },
      "outputs": [
        {
          "output_type": "stream",
          "name": "stdout",
          "text": [
            "[[ 6.92906415  6.92872926]\n",
            " [-3.83742239 -3.77367435]]\n",
            "[[0.02109451 0.02245185]]\n",
            "[[0.95654666 0.95910744]]\n"
          ]
        }
      ],
      "source": [
        "import numpy as np\n",
        "\n",
        "def sigmoid(x):\n",
        "    return 1 / (1 + np.exp(-x))\n",
        "\n",
        "training_inputs = np.array([[0,1], [1,0]])\n",
        "training_outputs = np.array([[0,0],[1,1]])\n",
        "\n",
        "weights = 2 * np.random.random((2,2)) - 1\n",
        "\n",
        "for i in range(100):\n",
        "    input_layer = training_inputs\n",
        "    outputs = sigmoid(np.dot(input_layer, weights))\n",
        "    error = training_outputs - outputs\n",
        "    adjustments = np.dot(input_layer.T, error * (outputs))\n",
        "    weights += 10*adjustments\n",
        "\n",
        "print(weights)\n",
        "\n",
        "print(sigmoid(np.dot(np.array([[0,1]]), weights)))\n",
        "print(sigmoid(np.dot(np.array([[1,1]]), weights)))"
      ]
    }
  ]
}