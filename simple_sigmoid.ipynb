{
  "nbformat": 4,
  "nbformat_minor": 0,
  "metadata": {
    "colab": {
      "provenance": [],
      "authorship_tag": "ABX9TyO+o+ox19oDHdjXu7dF5kf1",
      "include_colab_link": true
    },
    "kernelspec": {
      "name": "python3",
      "display_name": "Python 3"
    },
    "language_info": {
      "name": "python"
    }
  },
  "cells": [
    {
      "cell_type": "markdown",
      "metadata": {
        "id": "view-in-github",
        "colab_type": "text"
      },
      "source": [
        "<a href=\"https://colab.research.google.com/github/InowaR/colab/blob/main/simple_sigmoid.ipynb\" target=\"_parent\"><img src=\"https://colab.research.google.com/assets/colab-badge.svg\" alt=\"Open In Colab\"/></a>"
      ]
    },
    {
      "cell_type": "code",
      "source": [
        "def convert_to_bit_array(double_array):\n",
        "    bit_array = []\n",
        "    for sublist in double_array:\n",
        "        binary_sublist = [int(bit) for num in sublist for bit in format(num, '08b')]\n",
        "        bit_array.append(binary_sublist)\n",
        "    return bit_array\n",
        "\n",
        "\n",
        "X = [[14, 2, 80, 2, 16, 132, 115, 14],\n",
        "     [3, 36, 25, 31, 4, 54, 45, 13],\n",
        "     [11, 255, 11, 102, 54, 5, 255, 12],\n",
        "     [171, 68, 2, 130, 6, 148, 35, 11]]\n",
        "\n",
        "\n",
        "Y = [[1, 0, 0, 0],\n",
        "     [0, 1, 0, 1],\n",
        "     [1, 0, 0, 0],\n",
        "     [0, 1, 1, 0],\n",
        "]\n",
        "\n",
        "X = np.array(convert_to_bit_array(X))\n",
        "print(X)"
      ],
      "metadata": {
        "id": "M-0OB926W5-7",
        "outputId": "bdc435f3-6440-4bc4-9cd3-be8f7f5ee59e",
        "colab": {
          "base_uri": "https://localhost:8080/"
        }
      },
      "execution_count": 58,
      "outputs": [
        {
          "output_type": "stream",
          "name": "stdout",
          "text": [
            "[[0 0 0 0 1 1 1 0 0 0 0 0 0 0 1 0 0 1 0 1 0 0 0 0 0 0 0 0 0 0 1 0 0 0 0 1\n",
            "  0 0 0 0 1 0 0 0 0 1 0 0 0 1 1 1 0 0 1 1 0 0 0 0 1 1 1 0]\n",
            " [0 0 0 0 0 0 1 1 0 0 1 0 0 1 0 0 0 0 0 1 1 0 0 1 0 0 0 1 1 1 1 1 0 0 0 0\n",
            "  0 1 0 0 0 0 1 1 0 1 1 0 0 0 1 0 1 1 0 1 0 0 0 0 1 1 0 1]\n",
            " [0 0 0 0 1 0 1 1 1 1 1 1 1 1 1 1 0 0 0 0 1 0 1 1 0 1 1 0 0 1 1 0 0 0 1 1\n",
            "  0 1 1 0 0 0 0 0 0 1 0 1 1 1 1 1 1 1 1 1 0 0 0 0 1 1 0 0]\n",
            " [1 0 1 0 1 0 1 1 0 1 0 0 0 1 0 0 0 0 0 0 0 0 1 0 1 0 0 0 0 0 1 0 0 0 0 0\n",
            "  0 1 1 0 1 0 0 1 0 1 0 0 0 0 1 0 0 0 1 1 0 0 0 0 1 0 1 1]]\n"
          ]
        }
      ]
    },
    {
      "cell_type": "code",
      "source": [
        "import numpy as np\n",
        "\n",
        "r = np.random.random((64, 4))\n",
        "\n",
        "def sigmoid(x):\n",
        "   return 1 / (1 + np.exp(-x))\n",
        "\n",
        "\n",
        "def func(A, B, C, D, training_inputs, training_outputs):\n",
        "   weights = A * r + B\n",
        "   for _ in range(C):\n",
        "       outputs = sigmoid(np.dot(training_inputs, weights))\n",
        "       weights += D * np.dot(training_inputs.T, (training_outputs - outputs) * outputs)\n",
        "   return weights\n",
        "\n",
        "\n",
        "def find_best_coefficients(training_inputs, training_outputs):\n",
        "   best_error = np.inf\n",
        "   best_A, best_B, best_C, best_D = None, None, None, None\n",
        "   for A in range(-11, 11):\n",
        "       for B in range(-11, 11):\n",
        "           for C in range(1, 11):\n",
        "               for D in range(-11, 11):\n",
        "                   weights = func(A, B, C, D, training_inputs, training_outputs)\n",
        "                   training_error = np.sum(np.square(training_outputs - sigmoid(np.dot(training_inputs, weights))))\n",
        "                   if training_error < best_error:\n",
        "                       best_error = training_error\n",
        "                       best_A, best_B, best_C, best_D = A, B, C, D\n",
        "   return best_A, best_B, best_C, best_D\n",
        "\n",
        "\n",
        "def calculate_test_error(weights, test_inputs, test_outputs):\n",
        "   return np.sum(np.square(test_outputs - sigmoid(np.dot(test_inputs, weights))))\n",
        "\n",
        "\n",
        "training_inputs = X\n",
        "training_outputs = Y\n",
        "\n",
        "test_inputs = training_inputs\n",
        "test_outputs = training_outputs\n",
        "\n",
        "A, B, C, D = find_best_coefficients(training_inputs, training_outputs)\n",
        "print(\"Best coefficients:\", A, B, C, D)\n",
        "\n",
        "weights = func(A, B, C, D, training_inputs, training_outputs)\n",
        "\n",
        "test_error = calculate_test_error(weights, test_inputs, test_outputs)\n",
        "print(\"Test error:\", \"{:.5f}\".format(test_error))\n",
        "\n",
        "print(\"Predictions on test data:\")\n",
        "print(sigmoid(np.dot(training_inputs[0], weights)))\n",
        "print(sigmoid(np.dot(training_inputs[1], weights)))\n",
        "\n",
        "print(64*4)\n",
        "print(32*16)"
      ],
      "metadata": {
        "id": "xTdfOCViR2HK",
        "outputId": "659c95a0-b7be-4aab-9135-4447b217d916",
        "colab": {
          "base_uri": "https://localhost:8080/"
        }
      },
      "execution_count": 60,
      "outputs": [
        {
          "output_type": "stream",
          "name": "stdout",
          "text": [
            "Best coefficients: 10 9 10 3\n",
            "Test error: 0.00000\n",
            "Predictions on test data:\n",
            "[1.00000000e+00 1.45217387e-21 2.86985991e-26 2.64313010e-38]\n",
            "[2.69086419e-42 1.00000000e+00 1.94628938e-31 1.00000000e+00]\n",
            "256\n",
            "512\n"
          ]
        }
      ]
    }
  ]
}