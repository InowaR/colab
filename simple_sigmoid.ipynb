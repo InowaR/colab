{
  "nbformat": 4,
  "nbformat_minor": 0,
  "metadata": {
    "colab": {
      "provenance": [],
      "authorship_tag": "ABX9TyOpb36CuoT/tGc2lv2rksJN",
      "include_colab_link": true
    },
    "kernelspec": {
      "name": "python3",
      "display_name": "Python 3"
    },
    "language_info": {
      "name": "python"
    }
  },
  "cells": [
    {
      "cell_type": "markdown",
      "metadata": {
        "id": "view-in-github",
        "colab_type": "text"
      },
      "source": [
        "<a href=\"https://colab.research.google.com/github/InowaR/colab/blob/main/simple_sigmoid.ipynb\" target=\"_parent\"><img src=\"https://colab.research.google.com/assets/colab-badge.svg\" alt=\"Open In Colab\"/></a>"
      ]
    },
    {
      "cell_type": "code",
      "source": [
        "import numpy as np\n",
        "\n",
        "def sigmoid(x):\n",
        "   return 1 / (1 + np.exp(-x))\n",
        "\n",
        "def func(A, B, C, D, training_inputs, training_outputs):\n",
        "   weights = A * np.random.random((2, 2)) + B\n",
        "   for i in range(C):\n",
        "       outputs = sigmoid(np.dot(training_inputs, weights))\n",
        "       adjustments = np.dot(training_inputs.T, (training_outputs - outputs) * outputs)\n",
        "       weights += D * adjustments\n",
        "   return weights\n",
        "\n",
        "def find_best_coefficients(training_inputs, training_outputs):\n",
        "   best_error = np.inf\n",
        "   best_A, best_B, best_C, best_D = None, None, None, None\n",
        "   for A in range(-11, 11):\n",
        "       for B in range(-11, 11):\n",
        "           for C in range(1, 11):\n",
        "               for D in range(-11, 11):\n",
        "                   weights = func(A, B, C, D, training_inputs, training_outputs)\n",
        "                   training_error = np.sum(np.square(training_outputs - sigmoid(np.dot(training_inputs, weights))))\n",
        "                   if training_error < best_error:\n",
        "                       best_error = training_error\n",
        "                       best_A, best_B, best_C, best_D = A, B, C, D\n",
        "   return best_A, best_B, best_C, best_D\n",
        "\n",
        "def calculate_test_error(weights, test_inputs, test_outputs):\n",
        "   test_outputs_predicted = sigmoid(np.dot(test_inputs, weights))\n",
        "   test_error = np.sum(np.square(test_outputs - test_outputs_predicted))\n",
        "   return test_error\n",
        "\n",
        "training_inputs = np.array([[0, 1], [1, 0]])\n",
        "training_outputs = np.array([[0, 0], [1, 1]])\n",
        "\n",
        "test_inputs = np.array([[0, 1], [1, 0]])\n",
        "test_outputs = np.array([[0, 0], [1, 1]])\n",
        "\n",
        "A, B, C, D = find_best_coefficients(training_inputs, training_outputs)\n",
        "print(\"Best coefficients:\", A, B, C, D)\n",
        "\n",
        "weights = func(A, B, C, D, training_inputs, training_outputs)\n",
        "\n",
        "test_error = calculate_test_error(weights, test_inputs, test_outputs)\n",
        "print(\"Test error:\", \"{:.5f}\".format(test_error))\n",
        "\n",
        "print(\"Predictions on test data:\")\n",
        "print(sigmoid(np.dot(np.array([[0, 1]]), weights)))\n",
        "print(sigmoid(np.dot(np.array([[1, 0]]), weights)))"
      ],
      "metadata": {
        "id": "xTdfOCViR2HK",
        "outputId": "e771b424-eea5-46dc-cb18-98a1f09a514c",
        "colab": {
          "base_uri": "https://localhost:8080/"
        }
      },
      "execution_count": 181,
      "outputs": [
        {
          "output_type": "stream",
          "name": "stdout",
          "text": [
            "Best coefficients: 4 9 3 10\n",
            "Test error: 0.00323\n",
            "Predictions on test data:\n",
            "[[0.00227015 0.05681684]]\n",
            "[[0.99992371 0.99999552]]\n"
          ]
        }
      ]
    }
  ]
}