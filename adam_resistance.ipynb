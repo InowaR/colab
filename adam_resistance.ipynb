{
  "nbformat": 4,
  "nbformat_minor": 0,
  "metadata": {
    "colab": {
      "provenance": [],
      "authorship_tag": "ABX9TyNier4t9M6QoR3v3pZkgfEQ",
      "include_colab_link": true
    },
    "kernelspec": {
      "name": "python3",
      "display_name": "Python 3"
    },
    "language_info": {
      "name": "python"
    }
  },
  "cells": [
    {
      "cell_type": "markdown",
      "metadata": {
        "id": "view-in-github",
        "colab_type": "text"
      },
      "source": [
        "<a href=\"https://colab.research.google.com/github/InowaR/colab/blob/main/adam_resistance.ipynb\" target=\"_parent\"><img src=\"https://colab.research.google.com/assets/colab-badge.svg\" alt=\"Open In Colab\"/></a>"
      ]
    },
    {
      "cell_type": "code",
      "source": [
        "import numpy as np\n",
        "R = 100\n",
        "U = np.array([15, 48, 38, 56])\n",
        "I = U / R\n",
        "\n",
        "X = np.column_stack([U, I, U*I, U/I, U**2, I**2])\n",
        "y = np.full(4, R)\n",
        "\n",
        "weights = np.zeros(X.shape[1])\n",
        "\n",
        "beta1, beta2 = 0.9, 0.999\n",
        "lr = 0.1\n",
        "epochs = 1000\n",
        "epsilon = 1e-8\n",
        "m = np.zeros_like(weights)\n",
        "v = np.zeros_like(weights)\n",
        "\n",
        "for t in range(1, epochs + 1):\n",
        "    predictions = X @ weights\n",
        "    grad = (2/X.shape[0]) * X.T @ (predictions - y)\n",
        "    m = beta1 * m + (1 - beta1) * grad\n",
        "    v = beta2 * v + (1 - beta2) * grad**2\n",
        "    m_hat = m / (1 - beta1**t)\n",
        "    v_hat = v / (1 - beta2**t)\n",
        "    weights -= lr * m_hat / (np.sqrt(v_hat) + epsilon)\n",
        "\n",
        "print(\"Весовые коэффициенты:\", weights)"
      ],
      "metadata": {
        "colab": {
          "base_uri": "https://localhost:8080/"
        },
        "id": "V4G9eBTScGqH",
        "outputId": "be366432-b380-4a98-e3fa-8376fb3e274e"
      },
      "execution_count": 64,
      "outputs": [
        {
          "output_type": "stream",
          "name": "stdout",
          "text": [
            "Весовые коэффициенты: [ 0.0826397   0.0826397  -0.00116201  0.98808435 -0.00116201 -0.00116201]\n"
          ]
        }
      ]
    }
  ]
}