{
  "nbformat": 4,
  "nbformat_minor": 0,
  "metadata": {
    "colab": {
      "provenance": [],
      "authorship_tag": "ABX9TyNcixOfH+cWYT/OoY9Czqdf",
      "include_colab_link": true
    },
    "kernelspec": {
      "name": "python3",
      "display_name": "Python 3"
    },
    "language_info": {
      "name": "python"
    }
  },
  "cells": [
    {
      "cell_type": "markdown",
      "metadata": {
        "id": "view-in-github",
        "colab_type": "text"
      },
      "source": [
        "<a href=\"https://colab.research.google.com/github/InowaR/colab/blob/main/stdout.ipynb\" target=\"_parent\"><img src=\"https://colab.research.google.com/assets/colab-badge.svg\" alt=\"Open In Colab\"/></a>"
      ]
    },
    {
      "cell_type": "code",
      "execution_count": null,
      "metadata": {
        "id": "TRLYfrra8rKn"
      },
      "outputs": [],
      "source": [
        "import sys\n",
        "sys.stdout = open('stdout.txt', 'w')\n",
        "print('hello sys')\n",
        "\n",
        "from contextlib import redirect_stdout\n",
        "with redirect_stdout(open('redirect_stdout.txt', 'w')):\n",
        "    print('hello contextlib')"
      ]
    }
  ]
}