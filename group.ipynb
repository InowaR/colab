{
  "nbformat": 4,
  "nbformat_minor": 0,
  "metadata": {
    "colab": {
      "provenance": [],
      "authorship_tag": "ABX9TyO4JwRyYa6WwTZnly6tSxff",
      "include_colab_link": true
    },
    "kernelspec": {
      "name": "python3",
      "display_name": "Python 3"
    },
    "language_info": {
      "name": "python"
    }
  },
  "cells": [
    {
      "cell_type": "markdown",
      "metadata": {
        "id": "view-in-github",
        "colab_type": "text"
      },
      "source": [
        "<a href=\"https://colab.research.google.com/github/InowaR/colab/blob/main/group.ipynb\" target=\"_parent\"><img src=\"https://colab.research.google.com/assets/colab-badge.svg\" alt=\"Open In Colab\"/></a>"
      ]
    },
    {
      "cell_type": "code",
      "source": [
        "def is_group(elements, operation, identity):\n",
        "    \"\"\"\n",
        "    Проверяет, является ли заданное множество элементов группой относительно заданной операции.\n",
        "\n",
        "    Args:\n",
        "        elements: Список элементов множества.\n",
        "        operation: Функция, реализующая операцию над элементами.\n",
        "        identity: Нейтральный элемент для операции.\n",
        "\n",
        "    Returns:\n",
        "        True, если множество является группой, иначе False.\n",
        "    \"\"\"\n",
        "\n",
        "    # Проверка замкнутости\n",
        "    for a in elements:\n",
        "        for b in elements:\n",
        "            if operation(a, b) not in elements:\n",
        "                return False\n",
        "\n",
        "    # Проверка ассоциативности\n",
        "    for a in elements:\n",
        "        for b in elements:\n",
        "            for c in elements:\n",
        "                if operation(operation(a, b), c) != operation(a, operation(b, c)):\n",
        "                    return False\n",
        "\n",
        "    # Проверка нейтрального элемента\n",
        "    for a in elements:\n",
        "        if operation(a, identity) != a or operation(identity, a) != a:\n",
        "            return False\n",
        "\n",
        "    # Проверка обратного элемента\n",
        "    for a in elements:\n",
        "        found_inverse = False\n",
        "        for b in elements:\n",
        "            if operation(a, b) == identity and operation(b, a) == identity:\n",
        "                found_inverse = True\n",
        "                break\n",
        "        if not found_inverse:\n",
        "            return False\n",
        "\n",
        "    return True\n",
        "\n",
        "\n",
        "# Целые числа по модулю 5 (сложение)\n",
        "elements = list(range(5))\n",
        "operation = lambda x, y: (x + y) % 5\n",
        "identity = 0\n",
        "print(is_group(elements, operation, identity))"
      ],
      "metadata": {
        "colab": {
          "base_uri": "https://localhost:8080/"
        },
        "id": "EtzpuAcSDpUI",
        "outputId": "7f6ee381-2994-435b-dd26-24b67bee388d"
      },
      "execution_count": 138,
      "outputs": [
        {
          "output_type": "stream",
          "name": "stdout",
          "text": [
            "True\n"
          ]
        }
      ]
    }
  ]
}