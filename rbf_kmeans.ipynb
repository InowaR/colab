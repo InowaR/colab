{
  "nbformat": 4,
  "nbformat_minor": 0,
  "metadata": {
    "colab": {
      "provenance": [],
      "authorship_tag": "ABX9TyO6efA+NtFcwT5a7+HX+sGl",
      "include_colab_link": true
    },
    "kernelspec": {
      "name": "python3",
      "display_name": "Python 3"
    },
    "language_info": {
      "name": "python"
    }
  },
  "cells": [
    {
      "cell_type": "markdown",
      "metadata": {
        "id": "view-in-github",
        "colab_type": "text"
      },
      "source": [
        "<a href=\"https://colab.research.google.com/github/InowaR/colab/blob/main/rbf_kmeans.ipynb\" target=\"_parent\"><img src=\"https://colab.research.google.com/assets/colab-badge.svg\" alt=\"Open In Colab\"/></a>"
      ]
    },
    {
      "cell_type": "code",
      "source": [
        "import numpy as np\n",
        "\n",
        "def kmeans(X, K, max_iter=300):\n",
        "    # Инициализация центроидов случайным образом\n",
        "    # np.random.seed(42)\n",
        "    idx = np.random.choice(X.shape[0], K, replace=False)\n",
        "    centroids = X[idx]\n",
        "\n",
        "    for _ in range(max_iter):\n",
        "        # Вычисление расстояний до центроидов\n",
        "        distances = np.sqrt(((X - centroids[:, np.newaxis])**2).sum(axis=2))\n",
        "        # Присвоение каждой точке ближайшего центра\n",
        "        labels = np.argmin(distances, axis=1)\n",
        "\n",
        "        # Обновление центроидов\n",
        "        for i in range(K):\n",
        "            centroids[i] = np.mean(X[labels == i], axis=0)\n",
        "\n",
        "    return centroids\n",
        "\n",
        "# Данные\n",
        "X = np.array([[0, 0.1], [0.2, 0.3], [0.4, 0.5], [0.6, 0.7]])\n",
        "y = np.array([0, 0.1, 0.2, 0.3])\n",
        "\n",
        "# Количество кластеров равно количеству целевых данных\n",
        "K = 4\n",
        "\n",
        "# Вызов функции K-means\n",
        "centers = kmeans(X, K)\n",
        "\n",
        "print(\"Центры кластеров:\")\n",
        "print(centers)\n",
        "\n",
        "\n",
        "def gaussian(x, c, sigma):\n",
        "    return np.exp(-np.linalg.norm(x-c)**2 / (2*sigma**2))\n",
        "\n",
        "\n",
        "# Ширина радиальных базисных функций\n",
        "sigma = 0.5\n",
        "\n",
        "# Вычисление матрицы радиальных базисных функций\n",
        "phi = np.zeros((len(X), len(centers)))\n",
        "for i in range(len(X)):\n",
        "    for j in range(len(centers)):\n",
        "        phi[i,j] = gaussian(X[i], centers[j], sigma)\n",
        "\n",
        "# Обучение выходного слоя (линейная регрессия)\n",
        "weights = np.linalg.pinv(phi) @ y\n",
        "\n",
        "# Предсказание\n",
        "def predict(x):\n",
        "    phi_x = np.array([gaussian(x, c, sigma) for c in centers])\n",
        "    return np.dot(phi_x, weights)\n",
        "\n",
        "# Тестирование\n",
        "print(\"Предсказание: \")\n",
        "print(predict([0.15, 0.2]))"
      ],
      "metadata": {
        "colab": {
          "base_uri": "https://localhost:8080/"
        },
        "id": "Sh8guukD0A5z",
        "outputId": "8b224cc6-cf21-4292-f961-db2f52fec9ae"
      },
      "execution_count": 70,
      "outputs": [
        {
          "output_type": "stream",
          "name": "stdout",
          "text": [
            "Центры кластеров:\n",
            "[[0.6 0.7]\n",
            " [0.4 0.5]\n",
            " [0.  0.1]\n",
            " [0.2 0.3]]\n",
            "Предсказание: \n",
            "0.0627436542177553\n"
          ]
        }
      ]
    }
  ]
}