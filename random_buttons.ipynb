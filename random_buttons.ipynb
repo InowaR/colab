{
  "nbformat": 4,
  "nbformat_minor": 0,
  "metadata": {
    "colab": {
      "provenance": [],
      "authorship_tag": "ABX9TyNB29wQkKqyn55/lJKQ60ME",
      "include_colab_link": true
    },
    "kernelspec": {
      "name": "python3",
      "display_name": "Python 3"
    },
    "language_info": {
      "name": "python"
    }
  },
  "cells": [
    {
      "cell_type": "markdown",
      "metadata": {
        "id": "view-in-github",
        "colab_type": "text"
      },
      "source": [
        "<a href=\"https://colab.research.google.com/github/InowaR/colab/blob/main/random_buttons.ipynb\" target=\"_parent\"><img src=\"https://colab.research.google.com/assets/colab-badge.svg\" alt=\"Open In Colab\"/></a>"
      ]
    },
    {
      "cell_type": "code",
      "execution_count": 19,
      "metadata": {
        "colab": {
          "base_uri": "https://localhost:8080/"
        },
        "id": "9pFb2QgMvCcP",
        "outputId": "79e755f6-5c47-436d-e6b5-a699b4b7079a"
      },
      "outputs": [
        {
          "output_type": "stream",
          "name": "stdout",
          "text": [
            "0\n"
          ]
        }
      ],
      "source": [
        "import random\n",
        "\n",
        "def simulate_doorbell_presses():\n",
        "    buttons = [1, 2, 3, 4, 5, 6, 7, 8, 9]\n",
        "    open = [1, 2, 3]\n",
        "    successful_attempts = 0\n",
        "\n",
        "    for _ in range(100):\n",
        "        random_buttons = random.sample(buttons, 3)\n",
        "        if random_buttons == open:\n",
        "            successful_attempts+=1\n",
        "    print(successful_attempts)\n",
        "simulate_doorbell_presses()"
      ]
    }
  ]
}