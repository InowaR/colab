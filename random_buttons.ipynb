{
  "nbformat": 4,
  "nbformat_minor": 0,
  "metadata": {
    "colab": {
      "provenance": [],
      "authorship_tag": "ABX9TyMLvnqFffavoGQ68JFaPnvg",
      "include_colab_link": true
    },
    "kernelspec": {
      "name": "python3",
      "display_name": "Python 3"
    },
    "language_info": {
      "name": "python"
    }
  },
  "cells": [
    {
      "cell_type": "markdown",
      "metadata": {
        "id": "view-in-github",
        "colab_type": "text"
      },
      "source": [
        "<a href=\"https://colab.research.google.com/github/InowaR/colab/blob/main/random_buttons.ipynb\" target=\"_parent\"><img src=\"https://colab.research.google.com/assets/colab-badge.svg\" alt=\"Open In Colab\"/></a>"
      ]
    },
    {
      "cell_type": "code",
      "execution_count": 8,
      "metadata": {
        "colab": {
          "base_uri": "https://localhost:8080/"
        },
        "id": "8G-hXXbekJ_O",
        "outputId": "9323e8d6-9db7-4415-d90c-68dfa5afab32"
      },
      "outputs": [
        {
          "output_type": "stream",
          "name": "stdout",
          "text": [
            "Все способы вычисления вероятностей для 10 кнопок (0-9):\n",
            "Комбинация: [1, 2, 3]\n",
            "\n",
            "Упорядоченные без повторений:\n",
            "  Формула: 1/P(10,3) = 1/(10×9×8) = 1/720\n",
            "  Теоретическая вероятность: 0.001389\n",
            "  Эмпирическая вероятность: 0.001280\n",
            "\n",
            "Упорядоченные с повторениями:\n",
            "  Формула: 1/10^3 = 1/1000\n",
            "  Теоретическая вероятность: 0.001000\n",
            "  Эмпирическая вероятность: 0.000780\n",
            "\n",
            "Неупорядоченные без повторений:\n",
            "  Формула: 1/C(10,3) = 1/120\n",
            "  Теоретическая вероятность: 0.008333\n",
            "  Эмпирическая вероятность: 0.007970\n",
            "\n",
            "Неупорядоченные с повторениями:\n",
            "  Формула: 1/H(10,3) = 1/220\n",
            "  Теоретическая вероятность: 0.004545\n",
            "  Эмпирическая вероятность: 0.006210\n",
            "\n"
          ]
        }
      ],
      "source": [
        "import random\n",
        "from itertools import combinations, combinations_with_replacement, permutations\n",
        "\n",
        "def calculate_all_probabilities(buttons, combo, attempts=100000):\n",
        "    n = len(buttons)\n",
        "    k = len(combo)\n",
        "    results = {}\n",
        "    sorted_combo = sorted(combo)\n",
        "\n",
        "    # 1. Упорядоченные без повторений (порядок важен, уникальные кнопки)\n",
        "    unique_ordered = sum(1 for _ in range(attempts)\n",
        "                        if random.sample(buttons, k) == combo) / attempts\n",
        "\n",
        "    # 2. Упорядоченные с повторениями (порядок важен, кнопки могут повторяться)\n",
        "    with_repeats = sum(1 for _ in range(attempts)\n",
        "                       if [random.choice(buttons) for _ in range(k)] == combo) / attempts\n",
        "\n",
        "    # 3. Неупорядоченные без повторений (порядок не важен, уникальные кнопки)\n",
        "    unique_unordered = sum(1 for _ in range(attempts)\n",
        "                          if sorted(random.sample(buttons, k)) == sorted_combo) / attempts\n",
        "\n",
        "    # 4. Неупорядоченные с повторениями (порядок не важен, кнопки могут повторяться)\n",
        "    unordered_repeats = sum(1 for _ in range(attempts)\n",
        "                        if sorted([random.choice(buttons) for _ in range(k)]) == sorted_combo) / attempts\n",
        "\n",
        "    # Теоретические вычисления\n",
        "    P_unique = len(list(permutations(buttons, k)))  # Упорядоченные без повторений\n",
        "    C_unique = len(list(combinations(buttons, k)))  # Неупорядоченные без повторений\n",
        "    H_repeats = len(list(combinations_with_replacement(buttons, k)))  # Неупорядоченные с повторениями\n",
        "\n",
        "    return {\n",
        "        'Упорядоченные без повторений': {\n",
        "            'Вероятность': unique_ordered,\n",
        "            'Теоретическая': 1/P_unique,\n",
        "            'Формула': f'1/P({n},{k}) = 1/({n}×{n-1}×{n-2}) = 1/{P_unique}'\n",
        "        },\n",
        "        'Упорядоченные с повторениями': {\n",
        "            'Вероятность': with_repeats,\n",
        "            'Теоретическая': 1/(n**k),\n",
        "            'Формула': f'1/{n}^{k} = 1/{n**k}'\n",
        "        },\n",
        "        'Неупорядоченные без повторений': {\n",
        "            'Вероятность': unique_unordered,\n",
        "            'Теоретическая': 1/C_unique,\n",
        "            'Формула': f'1/C({n},{k}) = 1/{C_unique}'\n",
        "        },\n",
        "        'Неупорядоченные с повторениями': {\n",
        "            'Вероятность': unordered_repeats,\n",
        "            'Теоретическая': 1/H_repeats,\n",
        "            'Формула': f'1/H({n},{k}) = 1/{H_repeats}'\n",
        "        }\n",
        "    }\n",
        "\n",
        "# Используем 10 кнопок (0-9)\n",
        "buttons = list(range(10))  # 0-9\n",
        "combo = [1, 2, 3]\n",
        "\n",
        "# Вычисляем все вероятности\n",
        "probabilities = calculate_all_probabilities(buttons, combo)\n",
        "\n",
        "# Выводим результаты\n",
        "print(\"Все способы вычисления вероятностей для 10 кнопок (0-9):\")\n",
        "print(f\"Комбинация: {combo}\\n\")\n",
        "\n",
        "for name, data in probabilities.items():\n",
        "    print(f\"{name}:\")\n",
        "    print(f\"  Формула: {data['Формула']}\")\n",
        "    print(f\"  Теоретическая вероятность: {data['Теоретическая']:.6f}\")\n",
        "    print(f\"  Эмпирическая вероятность: {data['Вероятность']:.6f}\")\n",
        "    print()"
      ]
    }
  ]
}