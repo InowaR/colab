{
  "nbformat": 4,
  "nbformat_minor": 0,
  "metadata": {
    "colab": {
      "provenance": [],
      "authorship_tag": "ABX9TyPCPaP8lGyN0PXRTitu8x2x",
      "include_colab_link": true
    },
    "kernelspec": {
      "name": "python3",
      "display_name": "Python 3"
    },
    "language_info": {
      "name": "python"
    }
  },
  "cells": [
    {
      "cell_type": "markdown",
      "metadata": {
        "id": "view-in-github",
        "colab_type": "text"
      },
      "source": [
        "<a href=\"https://colab.research.google.com/github/InowaR/colab/blob/main/random_buttons.ipynb\" target=\"_parent\"><img src=\"https://colab.research.google.com/assets/colab-badge.svg\" alt=\"Open In Colab\"/></a>"
      ]
    },
    {
      "cell_type": "code",
      "execution_count": 4,
      "metadata": {
        "colab": {
          "base_uri": "https://localhost:8080/"
        },
        "id": "8G-hXXbekJ_O",
        "outputId": "d12caa96-8685-4a2a-e9f1-5d34e3f059cf"
      },
      "outputs": [
        {
          "output_type": "stream",
          "name": "stdout",
          "text": [
            "Разница между вариантами:\n",
            "1. Упорядоченные комбинации (порядок важен):\n",
            "   [1,2,3] ≠ [3,2,1]\n",
            "   Формула: P(n,k) = n!/(n-k)! = n×(n-1)×...×(n-k+1)\n",
            "   \n",
            "2. Неупорядоченные комбинации (порядок не важен):\n",
            "   [1,2,3] = [3,2,1]\n",
            "   Формула: C(n,k) = n!/(k!×(n-k)!)\n",
            "\n",
            "\n",
            "Комбинация: [1, 2, 3]\n",
            "1. Упорядоченные (порядок важен):\n",
            "   Формула: 1/(10P3) = 1/10×9×8 = 1/720\n",
            "   Теоретическая вероятность: 0.001389\n",
            "   Эмпирическая вероятность: 0.001370\n",
            "\n",
            "2. Неупорядоченные (порядок не важен):\n",
            "   Формула: 1/(10C3) = 1/(10!/(3!×7!)) = 1/120\n",
            "   Теоретическая вероятность: 0.008333\n",
            "   Эмпирическая вероятность: 0.008360\n",
            "\n",
            "Комбинация: [9, 8, 4]\n",
            "1. Упорядоченные (порядок важен):\n",
            "   Формула: 1/(10P3) = 1/10×9×8 = 1/720\n",
            "   Теоретическая вероятность: 0.001389\n",
            "   Эмпирическая вероятность: 0.001040\n",
            "\n",
            "2. Неупорядоченные (порядок не важен):\n",
            "   Формула: 1/(10C3) = 1/(10!/(3!×7!)) = 1/120\n",
            "   Теоретическая вероятность: 0.008333\n",
            "   Эмпирическая вероятность: 0.008340\n",
            "\n",
            "Комбинация: [7, 1, 2]\n",
            "1. Упорядоченные (порядок важен):\n",
            "   Формула: 1/(10P3) = 1/10×9×8 = 1/720\n",
            "   Теоретическая вероятность: 0.001389\n",
            "   Эмпирическая вероятность: 0.001300\n",
            "\n",
            "2. Неупорядоченные (порядок не важен):\n",
            "   Формула: 1/(10C3) = 1/(10!/(3!×7!)) = 1/120\n",
            "   Теоретическая вероятность: 0.008333\n",
            "   Эмпирическая вероятность: 0.008390\n"
          ]
        }
      ],
      "source": [
        "import random\n",
        "from itertools import permutations, combinations\n",
        "\n",
        "def calculate_probabilities(buttons, open_combination, num_attempts=100000):\n",
        "    \"\"\"\n",
        "    Рассчитывает вероятности угадывания комбинации кнопок.\n",
        "    Возвращает результаты для двух случаев:\n",
        "    1. Когда порядок нажатия важен (упорядоченные комбинации)\n",
        "    2. Когда порядок не важен (неупорядоченные комбинации)\n",
        "    \"\"\"\n",
        "    successes_ordered = 0\n",
        "    successes_unordered = 0\n",
        "    open_sorted = sorted(open_combination)\n",
        "\n",
        "    for _ in range(num_attempts):\n",
        "        attempt = random.sample(buttons, 3)\n",
        "        if attempt == open_combination:\n",
        "            successes_ordered += 1\n",
        "        if sorted(attempt) == open_sorted:\n",
        "            successes_unordered += 1\n",
        "\n",
        "    n = len(buttons)\n",
        "    k = len(open_combination)\n",
        "\n",
        "    # Формулы для теоретических вероятностей\n",
        "    ordered_formula = f\"1/({n}P{k}) = 1/{n}×{n-1}×{n-2} = 1/{n*(n-1)*(n-2)}\"\n",
        "    unordered_formula = f\"1/({n}C{k}) = 1/({n}!/({k}!×{n-k}!)) = 1/{len(list(combinations(buttons, k)))}\"\n",
        "\n",
        "    return {\n",
        "        'ordered': {\n",
        "            'empirical': successes_ordered / num_attempts,\n",
        "            'theoretical': 1 / len(list(permutations(buttons, k))),\n",
        "            'formula': ordered_formula\n",
        "        },\n",
        "        'unordered': {\n",
        "            'empirical': successes_unordered / num_attempts,\n",
        "            'theoretical': 1 / len(list(combinations(buttons, k))),\n",
        "            'formula': unordered_formula\n",
        "        }\n",
        "    }\n",
        "\n",
        "# Основные параметры\n",
        "buttons = list(range(10))  # Кнопки от 0 до 9\n",
        "test_combinations = [[1, 2, 3], [9, 8, 4], [7, 1, 2]]\n",
        "\n",
        "# Пояснение разницы между вариантами\n",
        "print(\"\"\"Разница между вариантами:\n",
        "1. Упорядоченные комбинации (порядок важен):\n",
        "   [1,2,3] ≠ [3,2,1]\n",
        "   Формула: P(n,k) = n!/(n-k)! = n×(n-1)×...×(n-k+1)\n",
        "\n",
        "2. Неупорядоченные комбинации (порядок не важен):\n",
        "   [1,2,3] = [3,2,1]\n",
        "   Формула: C(n,k) = n!/(k!×(n-k)!)\n",
        "\"\"\")\n",
        "\n",
        "# Проводим испытания\n",
        "for combo in test_combinations:\n",
        "    results = calculate_probabilities(buttons, combo)\n",
        "    print(f\"\\nКомбинация: {combo}\")\n",
        "\n",
        "    print(\"1. Упорядоченные (порядок важен):\")\n",
        "    print(f\"   Формула: {results['ordered']['formula']}\")\n",
        "    print(f\"   Теоретическая вероятность: {results['ordered']['theoretical']:.6f}\")\n",
        "    print(f\"   Эмпирическая вероятность: {results['ordered']['empirical']:.6f}\")\n",
        "\n",
        "    print(\"\\n2. Неупорядоченные (порядок не важен):\")\n",
        "    print(f\"   Формула: {results['unordered']['formula']}\")\n",
        "    print(f\"   Теоретическая вероятность: {results['unordered']['theoretical']:.6f}\")\n",
        "    print(f\"   Эмпирическая вероятность: {results['unordered']['empirical']:.6f}\")"
      ]
    }
  ]
}