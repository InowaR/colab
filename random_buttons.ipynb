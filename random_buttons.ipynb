{
  "nbformat": 4,
  "nbformat_minor": 0,
  "metadata": {
    "colab": {
      "provenance": [],
      "authorship_tag": "ABX9TyPF72i47RL0iBeF+NXAW/QD",
      "include_colab_link": true
    },
    "kernelspec": {
      "name": "python3",
      "display_name": "Python 3"
    },
    "language_info": {
      "name": "python"
    }
  },
  "cells": [
    {
      "cell_type": "markdown",
      "metadata": {
        "id": "view-in-github",
        "colab_type": "text"
      },
      "source": [
        "<a href=\"https://colab.research.google.com/github/InowaR/colab/blob/main/random_buttons.ipynb\" target=\"_parent\"><img src=\"https://colab.research.google.com/assets/colab-badge.svg\" alt=\"Open In Colab\"/></a>"
      ]
    },
    {
      "cell_type": "code",
      "execution_count": 3,
      "metadata": {
        "colab": {
          "base_uri": "https://localhost:8080/"
        },
        "id": "8G-hXXbekJ_O",
        "outputId": "791e391f-c63c-4103-d834-94e9e899069d"
      },
      "outputs": [
        {
          "output_type": "stream",
          "name": "stdout",
          "text": [
            "Разница между учётом порядка:\n",
            "- Когда порядок ВАЖЕН: комбинации [1,2,3] и [3,2,1] считаются РАЗНЫМИ\n",
            "- Когда порядок НЕ важен: комбинации [1,2,3] и [3,2,1] считаются ОДИНАКОВЫМИ\n",
            "\n",
            "\n",
            "Комбинация: [1, 2, 3]\n",
            "1. Порядок ВАЖЕН: [1,2,3] ≠ [3,2,1]\n",
            "   Эмпирическая вероятность: 0.001530\n",
            "   Теоретическая вероятность: 1/720 ≈ 0.001389\n",
            "\n",
            "2. Порядок НЕ важен: [1,2,3] = [3,2,1]\n",
            "   Эмпирическая вероятность: 0.008450\n",
            "   Теоретическая вероятность: 1/120 ≈ 0.008333\n",
            "\n",
            "Комбинация: [9, 8, 4]\n",
            "1. Порядок ВАЖЕН: [1,2,3] ≠ [3,2,1]\n",
            "   Эмпирическая вероятность: 0.001310\n",
            "   Теоретическая вероятность: 1/720 ≈ 0.001389\n",
            "\n",
            "2. Порядок НЕ важен: [1,2,3] = [3,2,1]\n",
            "   Эмпирическая вероятность: 0.008030\n",
            "   Теоретическая вероятность: 1/120 ≈ 0.008333\n",
            "\n",
            "Комбинация: [7, 1, 2]\n",
            "1. Порядок ВАЖЕН: [1,2,3] ≠ [3,2,1]\n",
            "   Эмпирическая вероятность: 0.001540\n",
            "   Теоретическая вероятность: 1/720 ≈ 0.001389\n",
            "\n",
            "2. Порядок НЕ важен: [1,2,3] = [3,2,1]\n",
            "   Эмпирическая вероятность: 0.008750\n",
            "   Теоретическая вероятность: 1/120 ≈ 0.008333\n"
          ]
        }
      ],
      "source": [
        "import random\n",
        "from itertools import permutations, combinations\n",
        "\n",
        "def calculate_probabilities(buttons, open_combination, num_attempts=100000):\n",
        "    \"\"\"\n",
        "    Рассчитывает вероятности угадывания комбинации кнопок:\n",
        "    - с учётом порядка нажатия (порядок важен)\n",
        "    - без учёта порядка нажатия (порядок не важен)\n",
        "\n",
        "    Параметры:\n",
        "        buttons - список доступных кнопок\n",
        "        open_combination - правильная комбинация\n",
        "        num_attempts - количество испытаний\n",
        "    \"\"\"\n",
        "    # Вариант 1: порядок важен (перестановки)\n",
        "    successes_ordered = 0\n",
        "\n",
        "    # Вариант 2: порядок не важен (сочетания)\n",
        "    open_sorted = sorted(open_combination)\n",
        "    successes_unordered = 0\n",
        "\n",
        "    for _ in range(num_attempts):\n",
        "        # Генерируем случайную комбинацию\n",
        "        attempt = random.sample(buttons, 3)\n",
        "\n",
        "        # Проверяем для варианта с порядком\n",
        "        if attempt == open_combination:\n",
        "            successes_ordered += 1\n",
        "\n",
        "        # Проверяем для варианта без порядка\n",
        "        if sorted(attempt) == open_sorted:\n",
        "            successes_unordered += 1\n",
        "\n",
        "    # Теоретические вероятности\n",
        "    total_ordered = len(list(permutations(buttons, 3)))  # 720 для 10 кнопок\n",
        "    total_unordered = len(list(combinations(buttons, 3)))  # 120 для 10 кнопок\n",
        "\n",
        "    return {\n",
        "        'ordered': {\n",
        "            'empirical': successes_ordered / num_attempts,\n",
        "            'theoretical': 1 / total_ordered,\n",
        "            'description': \"Порядок ВАЖЕН: [1,2,3] ≠ [3,2,1]\"\n",
        "        },\n",
        "        'unordered': {\n",
        "            'empirical': successes_unordered / num_attempts,\n",
        "            'theoretical': 1 / total_unordered,\n",
        "            'description': \"Порядок НЕ важен: [1,2,3] = [3,2,1]\"\n",
        "        }\n",
        "    }\n",
        "\n",
        "# Параметры задачи\n",
        "buttons = list(range(10))  # Кнопки от 0 до 9\n",
        "test_combinations = [\n",
        "    [1, 2, 3],\n",
        "    [9, 8, 4],\n",
        "    [7, 1, 2]\n",
        "]\n",
        "\n",
        "print(\"\"\"Разница между учётом порядка:\n",
        "- Когда порядок ВАЖЕН: комбинации [1,2,3] и [3,2,1] считаются РАЗНЫМИ\n",
        "- Когда порядок НЕ важен: комбинации [1,2,3] и [3,2,1] считаются ОДИНАКОВЫМИ\n",
        "\"\"\")\n",
        "\n",
        "# Проводим испытания для каждой комбинации\n",
        "for combo in test_combinations:\n",
        "    results = calculate_probabilities(buttons, combo)\n",
        "    print(f\"\\nКомбинация: {combo}\")\n",
        "\n",
        "    ordered = results['ordered']\n",
        "    print(f\"1. {ordered['description']}\")\n",
        "    print(f\"   Эмпирическая вероятность: {ordered['empirical']:.6f}\")\n",
        "    print(f\"   Теоретическая вероятность: 1/{len(list(permutations(buttons, 3)))} ≈ {ordered['theoretical']:.6f}\")\n",
        "\n",
        "    unordered = results['unordered']\n",
        "    print(f\"\\n2. {unordered['description']}\")\n",
        "    print(f\"   Эмпирическая вероятность: {unordered['empirical']:.6f}\")\n",
        "    print(f\"   Теоретическая вероятность: 1/{len(list(combinations(buttons, 3)))} ≈ {unordered['theoretical']:.6f}\")"
      ]
    }
  ]
}