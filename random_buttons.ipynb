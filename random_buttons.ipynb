{
  "nbformat": 4,
  "nbformat_minor": 0,
  "metadata": {
    "colab": {
      "provenance": [],
      "include_colab_link": true
    },
    "kernelspec": {
      "name": "python3",
      "display_name": "Python 3"
    },
    "language_info": {
      "name": "python"
    }
  },
  "cells": [
    {
      "cell_type": "markdown",
      "metadata": {
        "id": "view-in-github",
        "colab_type": "text"
      },
      "source": [
        "<a href=\"https://colab.research.google.com/github/InowaR/colab/blob/main/random_buttons.ipynb\" target=\"_parent\"><img src=\"https://colab.research.google.com/assets/colab-badge.svg\" alt=\"Open In Colab\"/></a>"
      ]
    },
    {
      "cell_type": "code",
      "execution_count": 61,
      "metadata": {
        "colab": {
          "base_uri": "https://localhost:8080/"
        },
        "id": "9pFb2QgMvCcP",
        "outputId": "cb4ee05b-f53f-4af0-c4ef-9980bd67ab3f"
      },
      "outputs": [
        {
          "output_type": "stream",
          "name": "stdout",
          "text": [
            "0.0014006666666666668\n",
            "0.0013753333333333334\n",
            "0.001364\n",
            "0.008333333333333333\n"
          ]
        }
      ],
      "source": [
        "import random\n",
        "import numpy as np\n",
        "\n",
        "def doorbell_press(buttons, open):\n",
        "  random_buttons = lambda: random.sample(buttons, 3)\n",
        "  doorbell_presses = [sum(1 for _ in range(100) if random_buttons() == open) for _ in range(15000)]\n",
        "  return np.mean(doorbell_presses) / 100\n",
        "\n",
        "buttons = range(10)\n",
        "open1 = [1, 2, 3]\n",
        "open2 = [9, 8, 4]\n",
        "open3 = [7, 1, 2]\n",
        "\n",
        "print(doorbell_press(buttons, open1))\n",
        "print(doorbell_press(buttons, open2))\n",
        "print(doorbell_press(buttons, open3))\n",
        "\n",
        "print(1.0 / 120.0)"
      ]
    }
  ]
}