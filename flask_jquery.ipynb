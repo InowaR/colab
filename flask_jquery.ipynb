{
  "nbformat": 4,
  "nbformat_minor": 0,
  "metadata": {
    "colab": {
      "provenance": [],
      "authorship_tag": "ABX9TyMS0SzW5WcNVqOLquiL4d/A",
      "include_colab_link": true
    },
    "kernelspec": {
      "name": "python3",
      "display_name": "Python 3"
    },
    "language_info": {
      "name": "python"
    }
  },
  "cells": [
    {
      "cell_type": "markdown",
      "metadata": {
        "id": "view-in-github",
        "colab_type": "text"
      },
      "source": [
        "<a href=\"https://colab.research.google.com/github/InowaR/colab/blob/main/flask_jquery.ipynb\" target=\"_parent\"><img src=\"https://colab.research.google.com/assets/colab-badge.svg\" alt=\"Open In Colab\"/></a>"
      ]
    },
    {
      "cell_type": "code",
      "execution_count": 45,
      "metadata": {
        "colab": {
          "base_uri": "https://localhost:8080/",
          "height": 34
        },
        "id": "Lc8tF1ahHYsI",
        "outputId": "27b1cced-f9d7-4f26-9474-21d7f04910be"
      },
      "outputs": [
        {
          "output_type": "stream",
          "name": "stdout",
          "text": [
            "https://v15445ft1f-496ff2e9c6d22116-5000-colab.googleusercontent.com/\n"
          ]
        }
      ],
      "source": [
        "from google.colab.output import eval_js\n",
        "print(eval_js(\"google.colab.kernel.proxyPort(5000)\"))"
      ]
    },
    {
      "cell_type": "code",
      "source": [
        "import os\n",
        "\n",
        "os.mkdir(\"templates\")\n",
        "\n",
        "page = \"\"\"\n",
        "<!DOCTYPE html>\n",
        "<html lang=\"en\">\n",
        "<head>\n",
        "<meta charset=\"UTF-8\">\n",
        "<title>Пример передачи данных на Flask функцию</title>\n",
        "<script src=\"https://code.jquery.com/jquery-3.6.0.min.js\"></script>\n",
        "</head>\n",
        "<body>\n",
        "<button id=\"sendData\">Отправить данные</button>\n",
        "<div id=\"result\">awawdawdawd</div>\n",
        "\n",
        "<script>\n",
        "$(document).ready(function() {\n",
        "  $(\"#sendData\").click(function() {\n",
        "    $.ajax({\n",
        "      type: \"POST\",\n",
        "      url: \"/process_data\",\n",
        "      data: {data: \"Hello, Flask!\"},\n",
        "      success: function(response) {\n",
        "        $(\"#result\").html(response['response']);\n",
        "      }\n",
        "    });\n",
        "  });\n",
        "});\n",
        "</script>\n",
        "</body>\n",
        "</html>\n",
        "\"\"\"\n",
        "\n",
        "with open('templates/index.html', 'w') as f:\n",
        "  f.write(page)"
      ],
      "metadata": {
        "id": "edOMWh3zXvvE"
      },
      "execution_count": 79,
      "outputs": []
    },
    {
      "cell_type": "code",
      "source": [
        "from flask import Flask, render_template, request, jsonify\n",
        "\n",
        "\n",
        "app = Flask(__name__, template_folder='templates')\n",
        "\n",
        "\n",
        "@app.route(\"/\")\n",
        "def home():\n",
        "    return render_template('index.html')\n",
        "\n",
        "\n",
        "@app.route('/process_data', methods=['POST'])\n",
        "def process_data():\n",
        "    data = request.form['data']\n",
        "    return jsonify({'response': data})\n",
        "\n",
        "if __name__ == \"__main__\":\n",
        "    app.run()"
      ],
      "metadata": {
        "colab": {
          "base_uri": "https://localhost:8080/"
        },
        "id": "5_DZo2AhI0eB",
        "outputId": "3dbd4c1e-09d1-4038-c2ac-5dff1c55b668"
      },
      "execution_count": 80,
      "outputs": [
        {
          "output_type": "stream",
          "name": "stdout",
          "text": [
            " * Serving Flask app '__main__'\n",
            " * Debug mode: off\n"
          ]
        },
        {
          "output_type": "stream",
          "name": "stderr",
          "text": [
            "INFO:werkzeug:\u001b[31m\u001b[1mWARNING: This is a development server. Do not use it in a production deployment. Use a production WSGI server instead.\u001b[0m\n",
            " * Running on http://127.0.0.1:5000\n",
            "INFO:werkzeug:\u001b[33mPress CTRL+C to quit\u001b[0m\n",
            "INFO:werkzeug:127.0.0.1 - - [08/Mar/2024 00:08:02] \"GET / HTTP/1.1\" 200 -\n",
            "INFO:werkzeug:127.0.0.1 - - [08/Mar/2024 00:08:03] \"\u001b[33mGET /favicon.ico HTTP/1.1\u001b[0m\" 404 -\n",
            "INFO:werkzeug:127.0.0.1 - - [08/Mar/2024 00:08:04] \"POST /process_data HTTP/1.1\" 200 -\n"
          ]
        }
      ]
    }
  ]
}