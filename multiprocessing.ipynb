{
  "nbformat": 4,
  "nbformat_minor": 0,
  "metadata": {
    "colab": {
      "provenance": [],
      "authorship_tag": "ABX9TyOFvxVGF39RH/YkdxgjRqFp",
      "include_colab_link": true
    },
    "kernelspec": {
      "name": "python3",
      "display_name": "Python 3"
    },
    "language_info": {
      "name": "python"
    }
  },
  "cells": [
    {
      "cell_type": "markdown",
      "metadata": {
        "id": "view-in-github",
        "colab_type": "text"
      },
      "source": [
        "<a href=\"https://colab.research.google.com/github/InowaR/python/blob/main/multiprocessing.ipynb\" target=\"_parent\"><img src=\"https://colab.research.google.com/assets/colab-badge.svg\" alt=\"Open In Colab\"/></a>"
      ]
    },
    {
      "cell_type": "code",
      "execution_count": 51,
      "metadata": {
        "colab": {
          "base_uri": "https://localhost:8080/"
        },
        "id": "YmvpFRoVb4Ci",
        "outputId": "65f2058b-a0fc-4851-942b-63a372bbd502"
      },
      "outputs": [
        {
          "output_type": "stream",
          "name": "stdout",
          "text": [
            "14\n",
            "9\n",
            "\n",
            "2516\n",
            "\n",
            "Результаты:\n",
            "[1, 4, 9, 16, 25]\n"
          ]
        }
      ],
      "source": [
        "import multiprocessing\n",
        "\n",
        "def worker(x):\n",
        "    res = x*x\n",
        "    print(res)\n",
        "    return res\n",
        "\n",
        "data = [1,2,3,4,5]\n",
        "\n",
        "with multiprocessing.Pool(2) as pool:\n",
        "    print('Результаты:')\n",
        "    print(pool.map(worker, data))\n"
      ]
    }
  ]
}