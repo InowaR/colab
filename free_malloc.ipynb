{
  "nbformat": 4,
  "nbformat_minor": 0,
  "metadata": {
    "colab": {
      "provenance": [],
      "authorship_tag": "ABX9TyMjNIyeYkE1X+tEy+QG2PD2",
      "include_colab_link": true
    },
    "kernelspec": {
      "name": "python3",
      "display_name": "Python 3"
    },
    "language_info": {
      "name": "python"
    }
  },
  "cells": [
    {
      "cell_type": "markdown",
      "metadata": {
        "id": "view-in-github",
        "colab_type": "text"
      },
      "source": [
        "<a href=\"https://colab.research.google.com/github/InowaR/colab/blob/main/free_malloc.ipynb\" target=\"_parent\"><img src=\"https://colab.research.google.com/assets/colab-badge.svg\" alt=\"Open In Colab\"/></a>"
      ]
    },
    {
      "cell_type": "code",
      "execution_count": 15,
      "metadata": {
        "colab": {
          "base_uri": "https://localhost:8080/"
        },
        "id": "7H9sg2fZl6gQ",
        "outputId": "2916ca14-1846-4dcb-c34e-37d6a11de755"
      },
      "outputs": [
        {
          "output_type": "stream",
          "name": "stdout",
          "text": [
            "Overwriting free.c\n"
          ]
        }
      ],
      "source": [
        "%%writefile free.c\n",
        "\n",
        "#include <iostream>\n",
        "\n",
        "using namespace std;\n",
        "\n",
        "int main()\n",
        "{\n",
        "    int *ptr;\n",
        "    ptr = (int*) malloc(5*sizeof(int));\n",
        "    cout << \"Enter 5 integers\" << endl;\n",
        "    for (int i=0; i<5; i++) {  // *(ptr+i) can be replaced by ptr[i]\n",
        "        cin >> *(ptr+i);\n",
        "    }\n",
        "\n",
        "    cout << \"User entered value\"<< endl;\n",
        "\n",
        "    for (int i=0; i<5; i++) {\n",
        "        cout << *(ptr+i) << \" \";\n",
        "    }\n",
        "\n",
        "    free(ptr);\n",
        "\n",
        "    return 0;\n",
        "}"
      ]
    },
    {
      "cell_type": "code",
      "source": [
        "%%shell\n",
        "g++ free.c -o free\n",
        "./free"
      ],
      "metadata": {
        "colab": {
          "base_uri": "https://localhost:8080/"
        },
        "id": "WIlHey6UnH7g",
        "outputId": "03156dc9-5188-4e31-ae21-509b284e7549"
      },
      "execution_count": 18,
      "outputs": [
        {
          "output_type": "stream",
          "name": "stdout",
          "text": [
            "Enter 5 integers\n",
            "1\n",
            "2\n",
            "3\n",
            "4\n",
            "5\n",
            "User entered value\n",
            "1 2 3 4 5 "
          ]
        },
        {
          "output_type": "execute_result",
          "data": {
            "text/plain": []
          },
          "metadata": {},
          "execution_count": 18
        }
      ]
    }
  ]
}