{
  "nbformat": 4,
  "nbformat_minor": 0,
  "metadata": {
    "colab": {
      "provenance": [],
      "authorship_tag": "ABX9TyO3sjgeXKi0fZ+AdPoyC1TO",
      "include_colab_link": true
    },
    "kernelspec": {
      "name": "python3",
      "display_name": "Python 3"
    },
    "language_info": {
      "name": "python"
    }
  },
  "cells": [
    {
      "cell_type": "markdown",
      "metadata": {
        "id": "view-in-github",
        "colab_type": "text"
      },
      "source": [
        "<a href=\"https://colab.research.google.com/github/InowaR/colab/blob/main/telegram_bot.ipynb\" target=\"_parent\"><img src=\"https://colab.research.google.com/assets/colab-badge.svg\" alt=\"Open In Colab\"/></a>"
      ]
    },
    {
      "cell_type": "code",
      "execution_count": null,
      "metadata": {
        "id": "iuRupV9KFgNQ"
      },
      "outputs": [],
      "source": [
        "import logging\n",
        "from aiogram import Bot, Dispatcher, types\n",
        "from aiogram.types import InlineKeyboardMarkup, InlineKeyboardButton\n",
        "from aiogram.utils import executor\n",
        "\n",
        "# указываем токен для доступа к API телеграм бота\n",
        "TOKEN = 'YOUR_TOKEN'\n",
        "\n",
        "# настройка логирования\n",
        "logging.basicConfig(level=logging.INFO)\n",
        "\n",
        "# создаем объекты бота и диспетчера\n",
        "bot = Bot(token=TOKEN)\n",
        "dp = Dispatcher(bot)\n",
        "\n",
        "# создаем функцию, которая будет вызываться при команде /start\n",
        "@dp.message_handler(commands=['start'])\n",
        "async def start(message: types.Message):\n",
        "    # создаем объект клавиатуры\n",
        "    keyboard = InlineKeyboardMarkup()\n",
        "    # создаем кнопку с ссылкой на сайт github.com\n",
        "    url_button = InlineKeyboardButton(text=\"Перейти на GitHub\", url=\"https://github.com\")\n",
        "    # добавляем кнопку на клавиатуру\n",
        "    keyboard.add(url_button)\n",
        "    # отправляем сообщение с клавиатурой пользователю\n",
        "    await bot.send_message(chat_id=message.chat.id, text=\"Нажмите на кнопку, чтобы перейти на GitHub\", reply_markup=keyboard)\n",
        "\n",
        "# запускаем бота\n",
        "if __name__ == '__main__':\n",
        "    executor.start_polling(dp, skip_updates=True)"
      ]
    }
  ]
}