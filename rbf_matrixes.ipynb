{
  "nbformat": 4,
  "nbformat_minor": 0,
  "metadata": {
    "colab": {
      "provenance": [],
      "authorship_tag": "ABX9TyPZNH5K+jW1xYqk8Gwj6vQ/",
      "include_colab_link": true
    },
    "kernelspec": {
      "name": "python3",
      "display_name": "Python 3"
    },
    "language_info": {
      "name": "python"
    }
  },
  "cells": [
    {
      "cell_type": "markdown",
      "metadata": {
        "id": "view-in-github",
        "colab_type": "text"
      },
      "source": [
        "<a href=\"https://colab.research.google.com/github/InowaR/colab/blob/main/rbf_matrixes.ipynb\" target=\"_parent\"><img src=\"https://colab.research.google.com/assets/colab-badge.svg\" alt=\"Open In Colab\"/></a>"
      ]
    },
    {
      "cell_type": "code",
      "source": [
        "import numpy as np\n",
        "from scipy.interpolate import RBFInterpolator\n",
        "\n",
        "\n",
        "X = np.array([[0, 0], [0, 1], [1, 0], [1, 1]])\n",
        "Y = np.array([0, 1, 1, 0])\n",
        "\n",
        "\n",
        "epsilon = 10\n",
        "\n",
        "rbfi = RBFInterpolator(X, Y, kernel='gaussian', epsilon=epsilon)\n",
        "\n",
        "print(rbfi([X[0]]))\n",
        "print(rbfi([X[1]]))\n",
        "print(rbfi([X[2]]))\n",
        "print(rbfi([X[3]]))\n",
        "print(rbfi(X))"
      ],
      "metadata": {
        "colab": {
          "base_uri": "https://localhost:8080/"
        },
        "id": "6cFUTpj-VILZ",
        "outputId": "a61af51b-5ff6-4438-8836-3cd54c9c9499"
      },
      "execution_count": 199,
      "outputs": [
        {
          "output_type": "stream",
          "name": "stdout",
          "text": [
            "[0.]\n",
            "[1.]\n",
            "[1.]\n",
            "[0.]\n",
            "[0. 1. 1. 0.]\n"
          ]
        }
      ]
    },
    {
      "cell_type": "code",
      "source": [
        "import numpy as np\n",
        "\n",
        "# Генерация данных XOR\n",
        "X = np.array([[0, 0], [0, 1], [1, 0], [1, 1]])\n",
        "y = np.array([0, 1, 1, 0])\n",
        "\n",
        "# Функция радиальной базисной функции\n",
        "def rbf(x, c, sigma):\n",
        "    \"\"\"\n",
        "    Вычисляет значение радиальной базисной функции (RBF) для двух точек.\n",
        "\n",
        "    Аргументы:\n",
        "        x: Первый вектор.\n",
        "        c: Второй вектор (центр).\n",
        "        sigma: Параметр ширины гауссовой функции.\n",
        "\n",
        "    Возвращает:\n",
        "        Значение RBF.\n",
        "    \"\"\"\n",
        "    return np.exp(-np.linalg.norm(x - c)**2 / (2 * sigma**2))\n",
        "\n",
        "# Создание матрицы фич\n",
        "def create_feature_matrix(X, centers, sigma):\n",
        "    \"\"\"\n",
        "    Создает матрицу фич, преобразуя исходные данные в пространство более высокой размерности.\n",
        "\n",
        "    Аргументы:\n",
        "        X: Исходные данные.\n",
        "        centers: Центры RBF-ядер.\n",
        "        sigma: Параметр ширины гауссовой функции.\n",
        "\n",
        "    Возвращает:\n",
        "        Матрица фич.\n",
        "    \"\"\"\n",
        "    phi = np.empty((X.shape[0], centers.shape[0]))\n",
        "    for i, x in enumerate(X):\n",
        "        for j, c in enumerate(centers):\n",
        "            phi[i, j] = rbf(x, c, sigma)\n",
        "    return phi\n",
        "\n",
        "# Обучение линейной модели\n",
        "def train_linear_model(phi, y):\n",
        "    \"\"\"\n",
        "    Обучает линейную модель методом псевдообратной матрицы.\n",
        "\n",
        "    Аргументы:\n",
        "        phi: Матрица фич.\n",
        "        y: Целевые значения.\n",
        "\n",
        "    Возвращает:\n",
        "        Вектор весов модели.\n",
        "    \"\"\"\n",
        "    return np.linalg.pinv(phi) @ y\n",
        "\n",
        "# Предсказание\n",
        "def predict(X_new, centers, sigma, weights):\n",
        "    \"\"\"\n",
        "    Делает предсказания для новых данных.\n",
        "\n",
        "    Аргументы:\n",
        "        X_new: Новые данные.\n",
        "        centers: Центры RBF-ядер.\n",
        "        sigma: Параметр ширины гауссовой функции.\n",
        "        weights: Вектор весов модели.\n",
        "\n",
        "    Возвращает:\n",
        "        Вектор предсказанных значений.\n",
        "    \"\"\"\n",
        "    phi_new = create_feature_matrix(X_new, centers, sigma)\n",
        "    return np.where(phi_new @ weights > 0.5, 1, 0)\n",
        "    # return phi_new @ weights\n",
        "\n",
        "# Параметры\n",
        "num_centers = 5\n",
        "sigma = 0.9\n",
        "centers = np.random.rand(num_centers, 2)\n",
        "\n",
        "\n",
        "# Создание матрицы фич\n",
        "phi = create_feature_matrix(X, centers, sigma)\n",
        "\n",
        "# Обучение модели\n",
        "weights = train_linear_model(phi, y)\n",
        "\n",
        "# Предсказание для одного образца\n",
        "prediction_for_one = predict(X[[0]], centers, sigma, weights)\n",
        "print(prediction_for_one)\n",
        "\n",
        "prediction_for_one = predict(X[[1]], centers, sigma, weights)\n",
        "print(prediction_for_one)\n",
        "\n",
        "prediction_for_one = predict(X[[2]], centers, sigma, weights)\n",
        "print(prediction_for_one)\n",
        "\n",
        "prediction_for_one = predict(X[[3]], centers, sigma, weights)\n",
        "print(prediction_for_one)\n",
        "\n",
        "# Предсказание для нескольких образцов\n",
        "prediction_for_many = predict(X, centers, sigma, weights)\n",
        "print(prediction_for_many)"
      ],
      "metadata": {
        "colab": {
          "base_uri": "https://localhost:8080/"
        },
        "id": "XMIo0MKJlPD9",
        "outputId": "871fc48e-f2d5-4959-9ef3-6533e933adac"
      },
      "execution_count": 204,
      "outputs": [
        {
          "output_type": "stream",
          "name": "stdout",
          "text": [
            "[0]\n",
            "[1]\n",
            "[1]\n",
            "[0]\n",
            "[0 1 1 0]\n"
          ]
        }
      ]
    },
    {
      "cell_type": "code",
      "source": [
        "import numpy as np\n",
        "\n",
        "A = np.array([[1, 3],\n",
        "             [2, 4]])\n",
        "\n",
        "A_pinv = np.linalg.pinv(A)\n",
        "print(A_pinv)\n",
        "\n",
        "print(A @ A_pinv)\n",
        "print(A_pinv @ A)\n",
        "\n",
        "print(np.where(A @ A_pinv > 0.5, 1, 0))\n",
        "print(np.where(A_pinv @ A > 0.5, 1, 0))"
      ],
      "metadata": {
        "colab": {
          "base_uri": "https://localhost:8080/"
        },
        "id": "gBrSr8oomg6o",
        "outputId": "37b9663f-4ada-42a9-a10b-9a6178ff54a4"
      },
      "execution_count": 201,
      "outputs": [
        {
          "output_type": "stream",
          "name": "stdout",
          "text": [
            "[[-2.   1.5]\n",
            " [ 1.  -0.5]]\n",
            "[[ 1.00000000e+00 -5.55111512e-16]\n",
            " [ 0.00000000e+00  1.00000000e+00]]\n",
            "[[ 1.00000000e+00 -2.66453526e-15]\n",
            " [ 0.00000000e+00  1.00000000e+00]]\n",
            "[[1 0]\n",
            " [0 1]]\n",
            "[[1 0]\n",
            " [0 1]]\n"
          ]
        }
      ]
    }
  ]
}