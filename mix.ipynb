{
  "nbformat": 4,
  "nbformat_minor": 0,
  "metadata": {
    "colab": {
      "provenance": [],
      "authorship_tag": "ABX9TyNcuNHAjMjBlzxz0P1V1cOp",
      "include_colab_link": true
    },
    "kernelspec": {
      "name": "python3",
      "display_name": "Python 3"
    },
    "language_info": {
      "name": "python"
    }
  },
  "cells": [
    {
      "cell_type": "markdown",
      "metadata": {
        "id": "view-in-github",
        "colab_type": "text"
      },
      "source": [
        "<a href=\"https://colab.research.google.com/github/InowaR/colab/blob/main/mix.ipynb\" target=\"_parent\"><img src=\"https://colab.research.google.com/assets/colab-badge.svg\" alt=\"Open In Colab\"/></a>"
      ]
    },
    {
      "cell_type": "code",
      "execution_count": null,
      "metadata": {
        "colab": {
          "base_uri": "https://localhost:8080/"
        },
        "id": "evRHfa57RXNe",
        "outputId": "18337598-729a-47bd-c159-b3e4b9353fd2"
      },
      "outputs": [
        {
          "output_type": "stream",
          "name": "stdout",
          "text": [
            "['213', '132', '321', '123', '231', '312']\n"
          ]
        }
      ],
      "source": [
        "import random\n",
        "number = [1,2,3]\n",
        "b = []\n",
        "i = 0\n",
        "while i < 6:\n",
        "  random.shuffle(number)\n",
        "  a = []\n",
        "  a.append(number[0])\n",
        "  a.append(number[1])\n",
        "  a.append(number[2])\n",
        "  string = \"\".join(map(str, a))\n",
        "  if string not in b:\n",
        "    b.append(string)\n",
        "    i += 1\n",
        "print(b)"
      ]
    }
  ]
}