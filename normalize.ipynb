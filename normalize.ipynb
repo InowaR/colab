{
  "nbformat": 4,
  "nbformat_minor": 0,
  "metadata": {
    "colab": {
      "provenance": [],
      "authorship_tag": "ABX9TyNJNcROiaTn8o8XO0PqH8fc",
      "include_colab_link": true
    },
    "kernelspec": {
      "name": "python3",
      "display_name": "Python 3"
    },
    "language_info": {
      "name": "python"
    }
  },
  "cells": [
    {
      "cell_type": "markdown",
      "metadata": {
        "id": "view-in-github",
        "colab_type": "text"
      },
      "source": [
        "<a href=\"https://colab.research.google.com/github/InowaR/colab/blob/main/normalize.ipynb\" target=\"_parent\"><img src=\"https://colab.research.google.com/assets/colab-badge.svg\" alt=\"Open In Colab\"/></a>"
      ]
    },
    {
      "cell_type": "code",
      "execution_count": 3,
      "metadata": {
        "id": "YlqkQG6zS5yR"
      },
      "outputs": [],
      "source": [
        "import numpy as np\n",
        "\n",
        "\n",
        "def normalize_array_2d(array, max_value=800, new_max_value=255):\n",
        "    if not isinstance(array, np.ndarray):\n",
        "        raise TypeError(\"Input array must be a NumPy array.\")\n",
        "    if array.ndim != 2:\n",
        "        raise ValueError(\"Input array must be a two-dimensional array.\")\n",
        "    if np.min(array) < 0:\n",
        "        raise ValueError(\"Input array cannot contain negative values.\")\n",
        "    normalized_array = array / max_value\n",
        "    rescaled_array = normalized_array * new_max_value\n",
        "    return rescaled_array\n",
        "\n",
        "def denormalize_array_2d(array, max_value=800, original_min_value=0):\n",
        "    if not isinstance(array, np.ndarray):\n",
        "        raise TypeError(\"Input array must be a NumPy array.\")\n",
        "    if array.ndim != 2:\n",
        "        raise ValueError(\"Input array must be a two-dimensional array.\")\n",
        "    if original_min_value >= max_value:\n",
        "        raise ValueError(\"Original minimum value must be less than maximum value.\")\n",
        "    rescaled_array = array * (max_value - original_min_value)\n",
        "    denormalized_array = rescaled_array + original_min_value\n",
        "    denormalized_array = denormalized_array / 255\n",
        "    return denormalized_array.astype(array.dtype)"
      ]
    },
    {
      "cell_type": "code",
      "source": [
        "# Пример использования\n",
        "input_array = np.array([\n",
        "    [100.0, 600.0, 5.0, 475.0],\n",
        "    [20.0, 35.0, 200.0, 800.0]\n",
        "])\n",
        "normalized_array = normalize_array_2d(input_array, max_value=800, new_max_value=255)\n",
        "denormalized_array = denormalize_array_2d(normalized_array, max_value=800, original_min_value=0)\n",
        "\n",
        "print(\"Исходный массив:\")\n",
        "print(input_array)\n",
        "print(\"\\nНормализованный массив:\")\n",
        "print(normalized_array)\n",
        "print(\"\\nДенормализованный массив:\")\n",
        "print(denormalized_array)"
      ],
      "metadata": {
        "colab": {
          "base_uri": "https://localhost:8080/"
        },
        "id": "dLtTI4w8S9pi",
        "outputId": "da47fdc3-36f0-45f7-cd62-2cf18d969ddb"
      },
      "execution_count": 5,
      "outputs": [
        {
          "output_type": "stream",
          "name": "stdout",
          "text": [
            "Исходный массив:\n",
            "[[100. 600.   5. 475.]\n",
            " [ 20.  35. 200. 800.]]\n",
            "\n",
            "Нормализованный массив:\n",
            "[[ 31.875   191.25      1.59375 151.40625]\n",
            " [  6.375    11.15625  63.75    255.     ]]\n",
            "\n",
            "Денормализованный массив:\n",
            "[[100. 600.   5. 475.]\n",
            " [ 20.  35. 200. 800.]]\n"
          ]
        }
      ]
    }
  ]
}