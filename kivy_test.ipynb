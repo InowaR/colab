{
  "cells": [
    {
      "cell_type": "markdown",
      "metadata": {
        "id": "view-in-github",
        "colab_type": "text"
      },
      "source": [
        "<a href=\"https://colab.research.google.com/github/InowaR/colab/blob/main/kivy_test.ipynb\" target=\"_parent\"><img src=\"https://colab.research.google.com/assets/colab-badge.svg\" alt=\"Open In Colab\"/></a>"
      ]
    },
    {
      "cell_type": "code",
      "execution_count": null,
      "metadata": {
        "id": "0lFE3sf9Zf5J"
      },
      "outputs": [],
      "source": [
        "!sudo apt update\n",
        "!sudo apt install -y git zip unzip openjdk-17-jdk python3-pip autoconf libtool pkg-config zlib1g-dev libncurses5-dev libncursesw5-dev libtinfo5 cmake libffi-dev libssl-dev\n",
        "!pip3 install --user --upgrade Cython==0.29.33 virtualenv"
      ]
    },
    {
      "cell_type": "code",
      "execution_count": null,
      "metadata": {
        "id": "d-sEuwgXERB-"
      },
      "outputs": [],
      "source": [
        "!git clone https://github.com/kivy/buildozer\n",
        "%cd buildozer\n",
        "!python setup.py build\n",
        "!pip install -e .\n",
        "%cd .."
      ]
    },
    {
      "cell_type": "code",
      "source": [
        "!ssh-keygen -t rsa -b 4096 -f ~/.ssh/id_rsa -N ''\n",
        "!ssh-keyscan -t rsa github.com >> ~/.ssh/known_hosts\n",
        "!cat ~/.ssh/id_rsa.pub > key.txt"
      ],
      "metadata": {
        "id": "fLXhgNv2HPwH"
      },
      "execution_count": null,
      "outputs": []
    },
    {
      "cell_type": "code",
      "source": [
        "!ssh -T git@github.com"
      ],
      "metadata": {
        "colab": {
          "base_uri": "https://localhost:8080/"
        },
        "id": "8djaEODhHmwR",
        "outputId": "8ccb4390-f83c-445d-8528-ab89b4d56c24"
      },
      "execution_count": 6,
      "outputs": [
        {
          "output_type": "stream",
          "name": "stdout",
          "text": [
            "Hi InowaR! You've successfully authenticated, but GitHub does not provide shell access.\n"
          ]
        }
      ]
    },
    {
      "cell_type": "code",
      "source": [
        "!git clone git@github.com:InowaR/android.git"
      ],
      "metadata": {
        "id": "tkLfJrhwrsl6",
        "colab": {
          "base_uri": "https://localhost:8080/"
        },
        "outputId": "10aac015-ff90-4756-b84b-f21b636318f3"
      },
      "execution_count": 8,
      "outputs": [
        {
          "output_type": "stream",
          "name": "stdout",
          "text": [
            "Cloning into 'android'...\n",
            "remote: Enumerating objects: 25, done.\u001b[K\n",
            "remote: Counting objects: 100% (25/25), done.\u001b[K\n",
            "remote: Compressing objects: 100% (18/18), done.\u001b[K\n",
            "remote: Total 25 (delta 5), reused 17 (delta 3), pack-reused 0 (from 0)\u001b[K\n",
            "Receiving objects: 100% (25/25), 5.66 KiB | 5.66 MiB/s, done.\n",
            "Resolving deltas: 100% (5/5), done.\n"
          ]
        }
      ]
    },
    {
      "cell_type": "code",
      "source": [
        "%cd android/server"
      ],
      "metadata": {
        "id": "9KOg8hFxtC1n",
        "colab": {
          "base_uri": "https://localhost:8080/"
        },
        "outputId": "e6c44986-c0bb-4b48-e9db-037634875ad1"
      },
      "execution_count": 10,
      "outputs": [
        {
          "output_type": "stream",
          "name": "stdout",
          "text": [
            "/content/android/server\n"
          ]
        }
      ]
    },
    {
      "cell_type": "code",
      "source": [
        "# для мобильных устройств, чтобы работал ввод текста в терминал\n",
        "!pip install colab-xterm\n",
        "%load_ext colabxterm\n",
        "from IPython.display import clear_output\n",
        "clear_output()\n",
        "%xterm"
      ],
      "metadata": {
        "id": "AP3vhgh_UuA0"
      },
      "execution_count": null,
      "outputs": []
    },
    {
      "cell_type": "code",
      "execution_count": 11,
      "metadata": {
        "id": "2bBaY_EOGFYu",
        "colab": {
          "base_uri": "https://localhost:8080/"
        },
        "outputId": "61cb726a-4905-4808-daac-afb8255fe8e8"
      },
      "outputs": [
        {
          "output_type": "stream",
          "name": "stdout",
          "text": [
            "\u001b[91m\u001b[1mBuildozer is running as root!\u001b[0m\n",
            "\u001b[91mThis is \u001b[1mnot\u001b[0m \u001b[91mrecommended, and may lead to problems later.\u001b[0m\n",
            "Are you sure you want to continue [y/n]? y\n",
            "\u001b[0m\u001b[1;30m# Copy /content/buildozer/buildozer/default.spec to buildozer.spec\u001b[0m\n",
            "File buildozer.spec created, ready to customize!\n"
          ]
        }
      ],
      "source": [
        "# для создания нового buildozer.spec файла\n",
        "!buildozer init"
      ]
    },
    {
      "cell_type": "code",
      "execution_count": null,
      "metadata": {
        "id": "Dse1GWYqGUqr"
      },
      "outputs": [],
      "source": [
        "!buildozer -v android debug"
      ]
    },
    {
      "cell_type": "code",
      "execution_count": null,
      "metadata": {
        "id": "9cZJHCPF6Dak"
      },
      "outputs": [],
      "source": [
        "!buildozer android clean"
      ]
    }
  ],
  "metadata": {
    "colab": {
      "provenance": [],
      "include_colab_link": true
    },
    "kernelspec": {
      "display_name": "Python 3",
      "name": "python3"
    },
    "language_info": {
      "name": "python"
    }
  },
  "nbformat": 4,
  "nbformat_minor": 0
}