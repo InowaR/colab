{
  "cells": [
    {
      "cell_type": "markdown",
      "metadata": {
        "id": "view-in-github",
        "colab_type": "text"
      },
      "source": [
        "<a href=\"https://colab.research.google.com/github/InowaR/colab/blob/main/kivy_test.ipynb\" target=\"_parent\"><img src=\"https://colab.research.google.com/assets/colab-badge.svg\" alt=\"Open In Colab\"/></a>"
      ]
    },
    {
      "cell_type": "code",
      "source": [
        "from IPython.display import clear_output"
      ],
      "metadata": {
        "id": "VfUbbMIO7srq"
      },
      "execution_count": 4,
      "outputs": []
    },
    {
      "cell_type": "code",
      "execution_count": 5,
      "metadata": {
        "id": "0lFE3sf9Zf5J"
      },
      "outputs": [],
      "source": [
        "!sudo apt update\n",
        "!sudo apt install -y git zip unzip openjdk-17-jdk python3-pip autoconf libtool pkg-config zlib1g-dev libncurses5-dev libncursesw5-dev libtinfo5 cmake libffi-dev libssl-dev\n",
        "!pip3 install --user --upgrade Cython==0.29.33 virtualenv\n",
        "clear_output()"
      ]
    },
    {
      "cell_type": "code",
      "source": [
        "!git clone https://github.com/kivy/buildozer\n",
        "%cd buildozer\n",
        "!python setup.py build\n",
        "!pip install -e .\n",
        "%cd ..\n",
        "clear_output()\n",
        "!buildozer --version"
      ],
      "metadata": {
        "colab": {
          "base_uri": "https://localhost:8080/"
        },
        "id": "NfkhFFE77fQ4",
        "outputId": "185aa951-327c-4e14-f21f-be8e952619fb"
      },
      "execution_count": 6,
      "outputs": [
        {
          "output_type": "stream",
          "name": "stdout",
          "text": [
            "Buildozer 1.5.1.dev0\n"
          ]
        }
      ]
    },
    {
      "cell_type": "code",
      "source": [
        "!ssh-keygen -t rsa -b 4096 -f ~/.ssh/id_rsa -N ''\n",
        "!ssh-keyscan -t rsa github.com >> ~/.ssh/known_hosts\n",
        "!cat ~/.ssh/id_rsa.pub > key.txt\n",
        "clear_output()"
      ],
      "metadata": {
        "id": "fLXhgNv2HPwH"
      },
      "execution_count": 3,
      "outputs": []
    },
    {
      "cell_type": "code",
      "source": [
        "!ssh -T git@github.com"
      ],
      "metadata": {
        "colab": {
          "base_uri": "https://localhost:8080/"
        },
        "id": "8djaEODhHmwR",
        "outputId": "bb97350f-0cd0-4781-ca8e-282b6f18e728"
      },
      "execution_count": 15,
      "outputs": [
        {
          "output_type": "stream",
          "name": "stdout",
          "text": [
            "Hi InowaR! You've successfully authenticated, but GitHub does not provide shell access.\n"
          ]
        }
      ]
    },
    {
      "cell_type": "code",
      "source": [
        "!git clone git@github.com:InowaR/android.git"
      ],
      "metadata": {
        "id": "tkLfJrhwrsl6",
        "colab": {
          "base_uri": "https://localhost:8080/"
        },
        "outputId": "cead2a0d-3293-491f-f797-b3e43309ebe4"
      },
      "execution_count": 16,
      "outputs": [
        {
          "output_type": "stream",
          "name": "stdout",
          "text": [
            "Cloning into 'android'...\n",
            "remote: Enumerating objects: 33, done.\u001b[K\n",
            "remote: Counting objects: 100% (33/33), done.\u001b[K\n",
            "remote: Compressing objects: 100% (25/25), done.\u001b[K\n",
            "remote: Total 33 (delta 9), reused 22 (delta 4), pack-reused 0 (from 0)\u001b[K\n",
            "Receiving objects: 100% (33/33), 6.60 KiB | 6.60 MiB/s, done.\n",
            "Resolving deltas: 100% (9/9), done.\n"
          ]
        }
      ]
    },
    {
      "cell_type": "code",
      "source": [
        "%cd android/server"
      ],
      "metadata": {
        "id": "9KOg8hFxtC1n",
        "colab": {
          "base_uri": "https://localhost:8080/"
        },
        "outputId": "c4eb9e48-5ca6-4a19-834b-b6efd2655fd0"
      },
      "execution_count": 17,
      "outputs": [
        {
          "output_type": "stream",
          "name": "stdout",
          "text": [
            "/content/android/server\n"
          ]
        }
      ]
    },
    {
      "cell_type": "code",
      "source": [
        "# для мобильных устройств, чтобы работал ввод текста в терминал\n",
        "!pip install colab-xterm\n",
        "%load_ext colabxterm\n",
        "from IPython.display import clear_output\n",
        "clear_output()\n",
        "%xterm"
      ],
      "metadata": {
        "id": "AP3vhgh_UuA0"
      },
      "execution_count": null,
      "outputs": []
    },
    {
      "cell_type": "code",
      "execution_count": 19,
      "metadata": {
        "id": "2bBaY_EOGFYu",
        "colab": {
          "base_uri": "https://localhost:8080/"
        },
        "outputId": "d9ccb81e-a6fc-4755-fcdb-c93a03373b48"
      },
      "outputs": [
        {
          "output_type": "stream",
          "name": "stdout",
          "text": [
            "\u001b[91m\u001b[1mBuildozer is running as root!\u001b[0m\n",
            "\u001b[91mThis is \u001b[1mnot\u001b[0m \u001b[91mrecommended, and may lead to problems later.\u001b[0m\n",
            "Are you sure you want to continue [y/n]? y\n",
            "\u001b[39m\u001b[0m\u001b[30m\u001b[1m# Copy /content/buildozer/buildozer/default.spec to buildozer.spec\u001b[39m\u001b[0m\n",
            "File buildozer.spec created, ready to customize!\n",
            "\u001b[0m"
          ]
        }
      ],
      "source": [
        "# 1. оставить только main.py клиентского приложения, остальные файлы удалить\n",
        "\n",
        "# 2. для создания нового buildozer.spec файла\n",
        "!buildozer init\n",
        "\n",
        "# 3. раскоментировать строчку в buildozer.spec\n",
        "#android.permissions = android.permission.INTERNET, (name=android.permission.WRITE_EXTERNAL_STORAGE;maxSdkVersion=18)"
      ]
    },
    {
      "cell_type": "code",
      "execution_count": 24,
      "metadata": {
        "id": "Dse1GWYqGUqr",
        "colab": {
          "base_uri": "https://localhost:8080/"
        },
        "outputId": "bc3a9697-9434-470c-ffba-96e2897c98d0"
      },
      "outputs": [
        {
          "output_type": "stream",
          "name": "stdout",
          "text": [
            "\u001b[91m\u001b[1mBuildozer is running as root!\u001b[0m\n",
            "\u001b[91mThis is \u001b[1mnot\u001b[0m \u001b[91mrecommended, and may lead to problems later.\u001b[0m\n",
            "Are you sure you want to continue [y/n]? Traceback (most recent call last):\n",
            "  File \"/usr/local/bin/buildozer\", line 33, in <module>\n",
            "    sys.exit(load_entry_point('buildozer', 'console_scripts', 'buildozer')())\n",
            "  File \"/content/buildozer/buildozer/scripts/client.py\", line 16, in main\n",
            "    Buildozer().run_command(sys.argv[1:])\n",
            "  File \"/content/buildozer/buildozer/__init__.py\", line 661, in run_command\n",
            "    self.check_root()\n",
            "  File \"/content/buildozer/buildozer/__init__.py\", line 700, in check_root\n",
            "    cont = input('Are you sure you want to continue [y/n]? ')\n",
            "KeyboardInterrupt\n",
            "\u001b[0m^C\n"
          ]
        }
      ],
      "source": [
        "!buildozer -v android debug"
      ]
    },
    {
      "cell_type": "code",
      "execution_count": null,
      "metadata": {
        "id": "9cZJHCPF6Dak"
      },
      "outputs": [],
      "source": [
        "!buildozer android clean"
      ]
    }
  ],
  "metadata": {
    "colab": {
      "provenance": [],
      "include_colab_link": true
    },
    "kernelspec": {
      "display_name": "Python 3",
      "name": "python3"
    },
    "language_info": {
      "name": "python"
    }
  },
  "nbformat": 4,
  "nbformat_minor": 0
}