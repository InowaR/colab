{
  "nbformat": 4,
  "nbformat_minor": 0,
  "metadata": {
    "colab": {
      "provenance": [],
      "authorship_tag": "ABX9TyPFD+XZgy3xTKm5HmW+i+CX",
      "include_colab_link": true
    },
    "kernelspec": {
      "name": "python3",
      "display_name": "Python 3"
    },
    "language_info": {
      "name": "python"
    }
  },
  "cells": [
    {
      "cell_type": "markdown",
      "metadata": {
        "id": "view-in-github",
        "colab_type": "text"
      },
      "source": [
        "<a href=\"https://colab.research.google.com/github/InowaR/colab/blob/main/iris.ipynb\" target=\"_parent\"><img src=\"https://colab.research.google.com/assets/colab-badge.svg\" alt=\"Open In Colab\"/></a>"
      ]
    },
    {
      "cell_type": "code",
      "execution_count": null,
      "metadata": {
        "id": "KtoD-wdnwJ5X",
        "outputId": "5ac78915-b222-4d2f-dcbb-d95e4963871e",
        "colab": {
          "base_uri": "https://localhost:8080/"
        }
      },
      "outputs": [
        {
          "output_type": "stream",
          "name": "stdout",
          "text": [
            "Predicted: Virginica\n"
          ]
        }
      ],
      "source": [
        "import numpy as np\n",
        "\n",
        "x = [7.9, 3.1, 7.5, 1.8]\n",
        "\n",
        "# Входные тестовые данные вводятся в следующем формате: \"7.9 3.1 7.5 1.8\"\n",
        "# Длина чашелистника: 7.9\n",
        "# Ширина чашелистника: 3.1\n",
        "# Длина лепестка: 7.5\n",
        "# Ширина лепестка: 1.8\n",
        "\n",
        "w1 = np.array([[ 0.33462099,  0.10068401,  0.20557238, -0.19043767,  0.40249301, -0.00925352,  0.00628916,  0.74784975,  0.25069956, -0.09290041 ], [ 0.41689589,  0.93211640, -0.32300143, -0.13845456,  0.58598293, -0.29140373, -0.28473491,  0.48021000, -0.32318306, -0.34146461 ], [-0.21927019, -0.76135162, -0.11721704,  0.92123373,  0.19501658,  0.00904006,  1.03040632, -0.66867859, -0.01571104, -0.08372566 ], [-0.67791724,  0.07044558, -0.40981071,  0.62098450, -0.33009159, -0.47352435,  0.09687051, -0.68724299,  0.43823402, -0.26574543 ]])\n",
        "b1 = np.array([-0.34133575, -0.24401602, -0.06262318, -0.30410971, -0.37097632,  0.02670964, -0.51851308,  0.54665141,  0.20777536, -0.29905165 ])\n",
        "w2 = np.array([[ 0.41186367,  0.15406952, -0.47391773 ], [ 0.79701137, -0.64672799, -0.06339983 ], [-0.20137522, -0.07088810,  0.00212071 ], [-0.58743081, -0.17363843,  0.93769169 ], [ 0.33262125,  0.18999841, -0.14977653 ], [ 0.04450406,  0.26168097,  0.10104333 ], [-0.74384144,  0.33092591,  0.65464737 ], [ 0.45764631,  0.48877246, -1.16928700 ], [-0.16020630, -0.12369116,  0.14171301 ], [ 0.26099978,  0.12834471,  0.20866959 ]])\n",
        "b2 = np.array([-0.16286677,  0.06680119, -0.03563594 ])\n",
        "\n",
        "def relu(t):\n",
        "    return np.maximum(t, 0)\n",
        "\n",
        "def softmax(t):\n",
        "    out = np.exp(t) \n",
        "    return out / np.sum(out)\n",
        "\n",
        "def predict(x):\n",
        "    t1 = x @ w1 + b1\n",
        "    h1 = relu(t1)\n",
        "    t2 = h1 @ w2 + b2\n",
        "    z = softmax(t2)\n",
        "    return z\n",
        "\n",
        "result = predict(x)\n",
        "pred_class = np.argmax(result)\n",
        "class_names = ['Setosa', 'Versicolor', 'Virginica']\n",
        "print('Predicted:', class_names[pred_class])"
      ]
    }
  ]
}